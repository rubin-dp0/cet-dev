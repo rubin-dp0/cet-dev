{
 "cells": [
  {
   "cell_type": "markdown",
   "id": "1c2c1c11-fb94-4ba6-9372-ab8f4e04cc27",
   "metadata": {},
   "source": [
    "# DP02 Survey Property Tutorial\n",
    "\n",
    "By Eli Rykoff\n",
    "\n",
    "This should be run on a large instance (for the memory) with w_2022_22 (recommended)"
   ]
  },
  {
   "cell_type": "code",
   "execution_count": null,
   "id": "0c1bfce9-07dc-4ba2-95ac-69a3aa4ab116",
   "metadata": {},
   "outputs": [],
   "source": [
    "# Standard imports, plus skyproj for visualization\n",
    "from lsst.daf.butler import Butler\n",
    "import numpy as np\n",
    "import healsparse as hsp\n",
    "import healpy as hp\n",
    "import matplotlib.pyplot as plt\n",
    "import skyproj\n",
    "\n",
    "# This will allow us to have interactive plots\n",
    "%matplotlib widget"
   ]
  },
  {
   "cell_type": "code",
   "execution_count": null,
   "id": "e6d2ef59-d42e-43be-9a6d-0f18e141acb1",
   "metadata": {},
   "outputs": [],
   "source": [
    "# This is where the survey property maps live\n",
    "config = 'dp02'\n",
    "collections = '2.2i/runs/DP0.2'\n",
    "\n",
    "config = 's3://butler-us-central1-panda-dev/dc2/butler-external.yaml'\n",
    "conllections = \"2.2i/runs/DP0.2/v23_0_2/PREOPS-905/step7\"\n",
    "\n",
    "butler = Butler(config, collections=collections)"
   ]
  },
  {
   "cell_type": "code",
   "execution_count": null,
   "id": "87a15be4-3a26-45fa-8b0b-aca145180ab8",
   "metadata": {},
   "outputs": [],
   "source": [
    "# Let's determine which property maps are available for the survey\n",
    "for dtype in butler.registry.queryDatasetTypes(expression=\"*consolidated_map*\"):\n",
    "    print(dtype.name)"
   ]
  },
  {
   "cell_type": "markdown",
   "id": "431b7df3-9441-48dd-9bc3-1f0480f584b3",
   "metadata": {},
   "source": [
    "The meaning of these types is:\n",
    "\n",
    "* deepCoadd_exposure_time_consolidated_map_sum: Total exposure time (seconds)\n",
    "* deepCoadd_psf_maglim_consolidated_map_weighted_mean: PSF Flux 5-sigma magnitude limit (AB)\n",
    "* deepCoadd_sky_background_consolidated_map_weighted_mean: Weighted mean of sky background of images input to coadd (ADU)\n",
    "* deepCoadd_sky_noise_consolidated_map_weighted_mean: Weighted mean of sky noise of images input to coadd (ADU)\n",
    "* deepCoadd_psf_size_consolidated_map_weighted_mean: Weighted mean of psf size of images input to coadd (pixels)\n",
    "* deepCoadd_psf_e1_consolidated_map_weighted_mean: Weighted mean of psf e1 of images input to coadd\n",
    "* deepCoadd_psf_e2_consolidated_map_weighted_mean: Weighted mean of psf e2 of images input to coadd\n",
    "* deepCoadd_dcr_dra_consolidated_map_weighted_mean: Average effect of differential chromatic refraction (DCR) in RA direction\n",
    "* deepCoadd_dcr_ddec_consolidated_map_weighted_mean: Average effect of differential chromatic refraction (DCR) in Dec direction\n",
    "* deepCoadd_dcr_e1_consolidated_map_weighted_mean: Average effect of differential chromatic refraction (DCR) on psf e1\n",
    "* deepCoadd_dcr_e2_consolidated_map_weighted_mean: Average effect of differential chromatic refraction (DCR) on psf e2\n",
    "\n",
    "Note that the DCR maps are proportionality maps; that is, the expected effect will be proportional to the value in the map with an arbitrary/empirically derived constant of proportionality."
   ]
  },
  {
   "cell_type": "code",
   "execution_count": null,
   "id": "658ba318-7ec0-41d6-bc92-ceba05e88cc1",
   "metadata": {},
   "outputs": [],
   "source": [
    "# In order to read a map, we need to specify the map name and a band.\n",
    "hspmap = butler.get('deepCoadd_psf_maglim_consolidated_map_weighted_mean', band='i')"
   ]
  },
  {
   "cell_type": "code",
   "execution_count": null,
   "id": "1df076c0-123f-43cb-96d7-98cd4f508e5f",
   "metadata": {},
   "outputs": [],
   "source": [
    "# Use skyproj (https://skyproj.readthedocs.io/en/latest/) to plot the map\n",
    "# The map will be interactive in notebook mode\n",
    "fig, ax = plt.subplots(num=1, figsize=(10, 7))\n",
    "# This creates a visualization using the McBryde-Thomas Flat Polar Quartic, centered at 65 deg longitude, \n",
    "#  appropriate for the DP0.2 footprint\n",
    "sp = skyproj.McBrydeSkyproj(ax=ax, lon_0=65.0)\n",
    "sp.draw_hspmap(hspmap)\n",
    "sp.draw_colorbar(label='PSF Maglim (i-band)')\n",
    "plt.show()"
   ]
  },
  {
   "cell_type": "code",
   "execution_count": null,
   "id": "838719a9-356b-4532-a1f1-cdb4cd590e4a",
   "metadata": {},
   "outputs": [],
   "source": [
    "# We can make another visualization with a new colormap to avoid the shallow edges\n",
    "fig, ax = plt.subplots(num=2, figsize=(10, 7))\n",
    "# This creates a visualization using the McBryde-Thomas Flat Polar Quartic, centered at 65 deg longitude, \n",
    "#  appropriate for the DP0.2 footprint\n",
    "sp = skyproj.McBrydeSkyproj(ax=ax, lon_0=65.0)\n",
    "sp.draw_hspmap(hspmap, vmin=25.8, vmax=26.3)\n",
    "sp.draw_colorbar(label='PSF Maglim (i-band)')\n",
    "plt.show()"
   ]
  },
  {
   "cell_type": "markdown",
   "id": "38f155e5-ea2c-4a9d-a7dd-7f096cbe0714",
   "metadata": {},
   "source": [
    "Note that the above maps are interactive.  You can draw boxes and zoom in, etc.  As you move the mouse around the bottom label will show the longitude, latitude, and map value.  When you zoom in the default is that the colorbar will autoscale according to the data in the box.  If you want to turn this off you can specify `sp.set_autorescale(False)`\n",
    "\n",
    "You can also zoom in specifically by specifying a longitude/latitude range, as below."
   ]
  },
  {
   "cell_type": "code",
   "execution_count": null,
   "id": "c9349eef-ed84-4c24-885f-f10ef1fcf315",
   "metadata": {},
   "outputs": [],
   "source": [
    "# And we can zoom in initially as well.  I've changed the vmin/vmax to make it look better.\n",
    "fig, ax = plt.subplots(num=2, figsize=(10, 7))\n",
    "sp = skyproj.McBrydeSkyproj(ax=ax, lon_0=65.0)\n",
    "sp.draw_hspmap(hspmap, vmin=26.0, vmax=26.3, lon_range=[55, 60], lat_range=[-40, -35])\n",
    "sp.draw_colorbar(label='PSF Maglim (i-band)')\n",
    "plt.show()"
   ]
  },
  {
   "cell_type": "code",
   "execution_count": null,
   "id": "91c43197-d34e-48db-822b-2a3bf6573ae7",
   "metadata": {},
   "outputs": [],
   "source": [
    "# In order to get values out of the map, we use healsparse (https://healsparse.readthedocs.io/en/latest/)\n",
    "# You can do any sort of lookup by position or (nest) pixel value.\n",
    "values = hspmap.get_values_pos(np.array([55, 65]), np.array([-40, -30]))\n",
    "print(values)"
   ]
  },
  {
   "cell_type": "code",
   "execution_count": null,
   "id": "8aaba186-ee19-49cf-b475-777560816198",
   "metadata": {},
   "outputs": [],
   "source": []
  }
 ],
 "metadata": {
  "kernelspec": {
   "display_name": "LSST",
   "language": "python",
   "name": "lsst"
  },
  "language_info": {
   "codemirror_mode": {
    "name": "ipython",
    "version": 3
   },
   "file_extension": ".py",
   "mimetype": "text/x-python",
   "name": "python",
   "nbconvert_exporter": "python",
   "pygments_lexer": "ipython3",
   "version": "3.10.4"
  }
 },
 "nbformat": 4,
 "nbformat_minor": 5
}
