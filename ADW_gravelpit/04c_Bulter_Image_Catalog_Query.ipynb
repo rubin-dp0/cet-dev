{
 "cells": [
  {
   "cell_type": "markdown",
   "id": "749b0ddf",
   "metadata": {},
   "source": [
    "<img align=\"left\" src = https://project.lsst.org/sites/default/files/Rubin-O-Logo_0.png width=250 style=\"padding: 10px\"> \n",
    "<b>Butler Access for Images and Catalogs</b> <br>\n",
    "Contact author(s): Alex Drlica-Wagner <br>\n",
    "Last verified to run: 2022-06-03 <br>\n",
    "LSST Science Piplines version: Weekly 2022_22 <br>\n",
    "Container Size: medium <br>\n",
    "Targeted learning level: beginner <br>"
   ]
  },
  {
   "cell_type": "markdown",
   "id": "582ab507-a7ae-4024-95c9-38aabeb602a6",
   "metadata": {},
   "source": [
    "_While developing, use the following code cell to check that the code conforms to standards, but then delete the cell and \"Kernel --> Restart Kernel and Clear All Outputs\" before saving and committing._"
   ]
  },
  {
   "cell_type": "code",
   "execution_count": null,
   "id": "7acc79a4-8530-42d9-96e5-b7acb4397864",
   "metadata": {},
   "outputs": [],
   "source": [
    "#%load_ext pycodestyle_magic\n",
    "#%flake8_on\n",
    "#import logging\n",
    "#logging.getLogger(\"flake8\").setLevel(logging.FATAL)"
   ]
  },
  {
   "cell_type": "markdown",
   "id": "9da1a210-d858-42fe-8591-570965b8be1a",
   "metadata": {},
   "source": [
    "**Description:** Use the Butler to access a cutout image and associated catalog. Plot both."
   ]
  },
  {
   "cell_type": "markdown",
   "id": "80a0baf5-51ad-40ec-8991-060a7b27c289",
   "metadata": {},
   "source": [
    "**Skills:** Butler queries, image and catalog plotting"
   ]
  },
  {
   "cell_type": "markdown",
   "id": "393da88f-7978-4920-aa4a-a9830df6eed9",
   "metadata": {},
   "source": [
    "**LSST Data Products:** _List the all of the LSST catalogs and images used._"
   ]
  },
  {
   "cell_type": "markdown",
   "id": "5c67fab9-136a-4adc-bb42-142b91ab69dd",
   "metadata": {},
   "source": [
    "**Packages:** lsst.daf.butler, lsst.afw.display"
   ]
  },
  {
   "cell_type": "markdown",
   "id": "8f72b27f",
   "metadata": {},
   "source": [
    "**Credit:** Based on notebooks developed by Alex Drlica-Wagner in the context of the LSST Stack Club and Michael Wood-Vasey for DC2. Please consider acknowledging them if this notebook is used for the preparation of journal articles, software releases, or other notebooks.\n",
    "\n"
   ]
  },
  {
   "cell_type": "markdown",
   "id": "28e91cbf-ab7f-4e26-9276-b00299d6065e",
   "metadata": {},
   "source": [
    "**Get Support:**\n",
    "Find DP0-related documentation and resources at <a href=\"https://dp0-1.lsst.io\">dp0-1.lsst.io</a>. Questions are welcome as new topics in the <a href=\"https://community.lsst.org/c/support/dp0\">Support - Data Preview 0 Category</a> of the Rubin Community Forum. Rubin staff will respond to all questions posted there."
   ]
  },
  {
   "cell_type": "markdown",
   "id": "cfc73be0",
   "metadata": {},
   "source": [
    "## 1. Introduction\n",
    "\n",
    "This notebook demonstrates how to access a cutout image and the associated source catalog overlapping that image. It then demonstrates how to plot the image and catalog together."
   ]
  },
  {
   "cell_type": "markdown",
   "id": "dc36f107",
   "metadata": {},
   "source": [
    "### 1.1 Package Imports"
   ]
  },
  {
   "cell_type": "code",
   "execution_count": null,
   "id": "cddc1458",
   "metadata": {},
   "outputs": [],
   "source": [
    "# general python packages\n",
    "import numpy as np\n",
    "import matplotlib.pyplot as plt\n",
    "\n",
    "# LSST packages\n",
    "import lsst.daf.butler as dafButler\n",
    "import lsst.afw.display as afwDisplay\n",
    "import lsst.geom as geom\n",
    "import lsst.sphgeom\n",
    "import lsst.afw.coord as afwCoord\n",
    "\n",
    "# Set plotting configuration\n",
    "plt.style.use('tableau-colorblind10')\n",
    "plt.rcParams['figure.figsize'] = (8.0, 8.0)\n",
    "afwDisplay.setDefaultBackend('matplotlib')"
   ]
  },
  {
   "cell_type": "markdown",
   "id": "ec51ac0b",
   "metadata": {
    "tags": []
   },
   "source": [
    "## 2. Retrieve Image Cutout from the Butler\n",
    "\n",
    "We start by creating a butler pointed at the DP0.2 collection."
   ]
  },
  {
   "cell_type": "code",
   "execution_count": null,
   "id": "c677425d-4ee7-44e4-8355-d98d134ca65f",
   "metadata": {},
   "outputs": [],
   "source": [
    "repo='dp02'\n",
    "collections=\"2.2i/runs/DP0.2\"\n",
    "butler = dafButler.Butler(repo,collections=collections)"
   ]
  },
  {
   "cell_type": "markdown",
   "id": "942b1058-a41d-4289-a15d-e13bcd8f90db",
   "metadata": {},
   "source": [
    "We will want the skymap object to lookup the processing units associated with specific sky coordinates."
   ]
  },
  {
   "cell_type": "code",
   "execution_count": null,
   "id": "550982d5-b4da-4c72-9514-087e9737cba2",
   "metadata": {},
   "outputs": [],
   "source": [
    "skymap = butler.get(\"skyMap\")"
   ]
  },
  {
   "cell_type": "markdown",
   "id": "e2c99601-bc1c-4fe1-96ce-9fc35fc0fc29",
   "metadata": {},
   "source": [
    "We use the LSST Science Pipelines geometry (`import lsst.geom as geom`) and coordinate (`import lsst.afw.coord as afwCoord`) packages to identify the tract and patch containing our location of interest. We define a bounding box of the desired size of our cutout. Then we pass this information to the butler to return a cutout at our specified location."
   ]
  },
  {
   "cell_type": "code",
   "execution_count": null,
   "id": "0a2f4e82-8e35-475c-ba84-8ab1abf1183f",
   "metadata": {},
   "outputs": [],
   "source": [
    "# Define our coordinate and other cutout information\n",
    "ra, dec = 55.064, -29.783\n",
    "band = 'r'\n",
    "cutoutSideLength=201\n",
    "\n",
    "# Convert to LSST geometry objects\n",
    "radec = geom.SpherePoint(ra, dec, geom.degrees)\n",
    "cutoutSize = geom.ExtentI(cutoutSideLength, cutoutSideLength)\n",
    "\n",
    "# Look up the tract, patch for the RA, Dec\n",
    "tractInfo = skymap.findTract(radec)\n",
    "patchInfo = tractInfo.findPatch(radec)\n",
    "patch = tractInfo.getSequentialPatchIndex(patchInfo)\n",
    "\n",
    "# Define the bounding box of our cutout\n",
    "xy = geom.PointI(tractInfo.getWcs().skyToPixel(radec))\n",
    "bbox = geom.BoxI(xy - cutoutSize//2, cutoutSize)\n",
    "\n",
    "# Package everything up to be passed to the butler\n",
    "coaddId = {'tract': tractInfo.getId(), 'patch': patch, 'band': band}\n",
    "parameters = {'bbox': bbox}"
   ]
  },
  {
   "cell_type": "code",
   "execution_count": null,
   "id": "9d90798f-31d0-46f6-bf4a-145e2fb3902c",
   "metadata": {},
   "outputs": [],
   "source": [
    "# Retrieve the image\n",
    "print(\"Retrieving image from:\\n\",coaddId)\n",
    "datasetType='deepCoadd'\n",
    "cutout_image = butler.get(datasetType, parameters=parameters,\n",
    "                          dataId=coaddId)\n",
    "print(\"The size of the cutout is: \", cutout_image.image.array.shape)"
   ]
  },
  {
   "cell_type": "code",
   "execution_count": null,
   "id": "a94da7bf-b0de-4932-9560-4d36c713300a",
   "metadata": {},
   "outputs": [],
   "source": [
    "# Display the image cutout\n",
    "fig = plt.figure()\n",
    "afw_display = afwDisplay.Display(1)\n",
    "afw_display.scale('asinh', 'zscale')\n",
    "afw_display.mtv(cutout_image.image)\n",
    "#plt.gca().axis('off')"
   ]
  },
  {
   "cell_type": "markdown",
   "id": "98ba8ee6-68b3-413c-9eae-841f18c79403",
   "metadata": {},
   "source": [
    "Note that the cutout image retains the x,y coordinate indexes from the tract that it was extracted from."
   ]
  },
  {
   "cell_type": "markdown",
   "id": "3e6e76dc-d458-4fde-aee3-8535846e62ad",
   "metadata": {},
   "source": [
    "## 3. Retrieve catalog data from the Butler\n",
    "\n",
    "The TAP service is the recommended way to retrieve catalog data for a notebook, and there are several other [tutuorials](https://github.com/rubin-dp0/tutorial-notebooks) that demonstrate how to use the TAP service.\n",
    "\n",
    "However, as we saw above, the Butler can also be used to access to catalog data. We can investigate the table schema for a specific source catalog by  Butler appending `_schema` to the `datasetType`. Note that this does not require you to specify the ``dataId``. \n"
   ]
  },
  {
   "cell_type": "code",
   "execution_count": null,
   "id": "35c463ba-45a1-4df4-ae50-34247c171167",
   "metadata": {},
   "outputs": [],
   "source": [
    "schema_coadd_src = butler.get('deepCoadd_forced_src_schema')\n",
    "schema_coadd_src.asAstropy()"
   ]
  },
  {
   "cell_type": "markdown",
   "id": "9491d201-5106-4ce3-a635-390868dc39d0",
   "metadata": {},
   "source": [
    "The table `schema` stores information about the columns stored in the table. Each of the following lines will print the schema to the screen in different ways."
   ]
  },
  {
   "cell_type": "code",
   "execution_count": null,
   "id": "981d74fc-ed52-481b-97f4-1621ac388edc",
   "metadata": {},
   "outputs": [],
   "source": [
    "# schema_coadd_src.schema\n",
    "# schema_coadd_src.schema.getNames()\n",
    "# schema_coadd_src.schema.getOrderedNames()\n",
    "print('Number of columns in this table = ', \n",
    "      len(schema_coadd_src.schema.getNames()))"
   ]
  },
  {
   "cell_type": "markdown",
   "id": "35e743e8-047d-41b2-9738-33b8c81c70b4",
   "metadata": {},
   "source": [
    "Perhaps you want to search for all schema elements that contain the term 'psf'."
   ]
  },
  {
   "cell_type": "code",
   "execution_count": null,
   "id": "db594b47-c003-4083-830c-868c58144449",
   "metadata": {},
   "outputs": [],
   "source": [
    "# Define an array that is all of the column names\n",
    "all_names = schema_coadd_src.schema.getOrderedNames()\n",
    "\n",
    "# Loop over the names and look for the term 'psf'\n",
    "for i, name in enumerate(all_names):\n",
    "    if name.find('psf') >= 0:\n",
    "        print(i, name)\n",
    "del all_names"
   ]
  },
  {
   "cell_type": "markdown",
   "id": "13f63b2b-dc22-413b-8389-ed1a938f964f",
   "metadata": {},
   "source": [
    "Probably you will want to know more about the values in these columns. You can do that by printing the documentation string in the schema."
   ]
  },
  {
   "cell_type": "code",
   "execution_count": null,
   "id": "530999ca-e62c-4b70-90e9-9a1e329a7f48",
   "metadata": {},
   "outputs": [],
   "source": [
    "# Turn the schema into a python dictionary, to be able to call a column by name\n",
    "schema_dict = schema_coadd_src.schema.extract('*')\n",
    "\n",
    "# Print the associated docstring for each of the named columns of interest\n",
    "for name in ['base_SdssShape_psf_xx', 'base_SdssShape_psf_yy',\n",
    "             'base_SdssShape_psf_xy']:\n",
    "    doc = schema_dict[name].getField().getDoc()\n",
    "    units = schema_dict[name].getField().getUnits()\n",
    "    print(name, '[%s]'%units, ' = ', doc)"
   ]
  },
  {
   "cell_type": "markdown",
   "id": "939d4e2f-42ca-44d0-9079-30228f18bad1",
   "metadata": {},
   "source": [
    "Refer to the Data Products Definitions Document (DPDD) at [dp0-2.lsst.io](https://dp0-2.lsst.io) to find out more about the columns."
   ]
  },
  {
   "cell_type": "markdown",
   "id": "7fcbafef-6733-4b9e-9c4a-7a2e067008e3",
   "metadata": {},
   "source": [
    "The full catalogs are very large and it is not feasible to try and retrieve them in their entirety. Instead, we retrieve only the catalog data for the same tract and patch that we grabbed the cutout from (specified in `coaddId`)."
   ]
  },
  {
   "cell_type": "code",
   "execution_count": null,
   "id": "cfc470b8-2e28-467d-9fcb-83a8eefccf08",
   "metadata": {},
   "outputs": [],
   "source": [
    "print(\"Retrieving catalog from:\\n\",coaddId)\n",
    "datasetType = 'deepCoadd_forced_src'\n",
    "coadd_src = butler.get(datasetType, dataId=coaddId)\n",
    "print(f\"Retrieved {len(coadd_src)} catalog objects\")"
   ]
  },
  {
   "cell_type": "code",
   "execution_count": null,
   "id": "b3542e4b-9e09-41cb-a368-98a56b22c85b",
   "metadata": {},
   "outputs": [],
   "source": [
    "# Show the table contents if desired\n",
    "# coadd_src.asAstropy()"
   ]
  },
  {
   "cell_type": "markdown",
   "id": "d7526e9b-7a5c-4558-a73d-d95fcb85d3b1",
   "metadata": {},
   "source": [
    "Convert the source catalog to a Pandas dataframe (see the first tutorial) for easy interaction.\n",
    "The following cells offer options for printing the column names or the data values."
   ]
  },
  {
   "cell_type": "code",
   "execution_count": null,
   "id": "277d59bd-b35d-4564-b1ae-a487b22e8784",
   "metadata": {},
   "outputs": [],
   "source": [
    "data = coadd_src.asAstropy().to_pandas()\n",
    "print(data.columns)\n",
    "data.head()"
   ]
  },
  {
   "cell_type": "markdown",
   "id": "64f53623-0a7a-4d77-9525-d0bf81d15620",
   "metadata": {},
   "source": [
    "We can now plot the locations of sources in the patch that we requested. Note that the `coord_ra` and `coord_dec` are in radians, so we need to convert them to degrees. We also plot a star at the location of our target ra, dec."
   ]
  },
  {
   "cell_type": "code",
   "execution_count": null,
   "id": "5309c4c6-311a-4c59-a8d8-eddefd5a6db3",
   "metadata": {},
   "outputs": [],
   "source": [
    "fig = plt.figure()\n",
    "plt.plot(np.degrees(coadd_src['coord_ra']),\n",
    "         np.degrees(coadd_src['coord_dec']),\n",
    "         'o', ms=2, alpha=0.5)\n",
    "plt.plot(ra, dec, '*', ms=25, mec='k')\n",
    "plt.xlabel('RA (deg)')\n",
    "plt.ylabel('Dec (deg)')\n",
    "plt.title('Butler coadd_forced_src objects in tract 4638 patch 43')"
   ]
  },
  {
   "cell_type": "markdown",
   "id": "071b1497-f1d7-4a0c-9ef3-3d57df3d9205",
   "metadata": {},
   "source": [
    "As we noted, the `coord_ra` and `coord_dec` columns have units of _radians_. As an exercise, you could use what you've learned from above to confirm this by accessing the table schema. (Also note that you can scroll up and find the answer in the outputs from a cell you already executed.) "
   ]
  },
  {
   "cell_type": "markdown",
   "id": "02d4875d-c758-4cf8-84e0-bba6e8deabf1",
   "metadata": {},
   "source": [
    "We can also select only the catalog sources within our cutout and plot them."
   ]
  },
  {
   "cell_type": "code",
   "execution_count": null,
   "id": "a197c8b2-ab8d-4d65-8181-6fbc772e538c",
   "metadata": {},
   "outputs": [],
   "source": [
    "sel = np.array([bbox.contains(s.getX(),s.getY()) for s in coadd_src])\n",
    "cutout_src = coadd_src[sel]"
   ]
  },
  {
   "cell_type": "code",
   "execution_count": null,
   "id": "5d870673-3654-49f2-89f1-e3862cc48d09",
   "metadata": {},
   "outputs": [],
   "source": [
    "fig = plt.figure()\n",
    "plt.plot(np.degrees(cutout_src['coord_ra']),\n",
    "         np.degrees(cutout_src['coord_dec']),\n",
    "         'o', ms=4, alpha=0.5)\n",
    "plt.plot(ra, dec, '*', ms=25, mec='k')\n",
    "plt.xlabel('RA (deg)')\n",
    "plt.ylabel('Dec (deg)')\n",
    "plt.title('Butler coadd_forced_src objects in tract 4638 patch 43')"
   ]
  },
  {
   "cell_type": "markdown",
   "id": "ce8eab30-791b-446a-9a0a-e9fca33c95e7",
   "metadata": {
    "tags": []
   },
   "source": [
    "## 3. Overplot Catalog and Image\n",
    "\n",
    "Finally, we want to put everything together to plot the locations of catalog source on top of our cutout image. We already have the image and source catalog, so this is just an excercise in plotting."
   ]
  },
  {
   "cell_type": "code",
   "execution_count": null,
   "id": "767166d4-9a78-4d6e-b32e-1910cb10c6d1",
   "metadata": {},
   "outputs": [],
   "source": [
    "# Display the image cutout\n",
    "fig = plt.figure()\n",
    "afw_display = afwDisplay.Display(1)\n",
    "afw_display.scale('asinh', 'zscale')\n",
    "afw_display.mtv(cutout_image.image)\n",
    "plt.gca().axis('off')\n",
    "\n",
    "# We use display buffering to avoid re-drawing the image\n",
    "#  after each source is plotted\n",
    "with afw_display.Buffering():\n",
    "    for s in cutout_src :\n",
    "        afw_display.dot('+', s.getX(), s.getY(), ctype=afwDisplay.RED)\n",
    "        afw_display.dot('o', s.getX(), s.getY(), size=20, ctype='orange')"
   ]
  },
  {
   "cell_type": "markdown",
   "id": "8e6cdb45-48d6-4bbf-92e5-859eeff10117",
   "metadata": {},
   "source": [
    "It looks like we've succeeded in detection the bright sources; however there are also many catalog sources with little detectable signal in the image. To clean things up, let's apply a signal-to-noise cut on the flux of the sources."
   ]
  },
  {
   "cell_type": "code",
   "execution_count": null,
   "id": "ada3aae4-ac2d-45f2-b520-2ce6e214df54",
   "metadata": {},
   "outputs": [],
   "source": [
    "# Display the image cutout\n",
    "fig = plt.figure()\n",
    "afw_display = afwDisplay.Display(1)\n",
    "afw_display.scale('asinh', 'zscale')\n",
    "afw_display.mtv(cutout_image.image)\n",
    "plt.gca().axis('off')\n",
    "\n",
    "# We use display buffering to avoid re-drawing the image\n",
    "#  after each source is plotted\n",
    "with afw_display.Buffering():\n",
    "    for s in cutout_src :\n",
    "        if s['base_SdssShape_instFlux']/s['base_SdssShape_instFluxErr'] < 10: continue\n",
    "        afw_display.dot('+', s.getX(), s.getY(), ctype=afwDisplay.RED)\n",
    "        afw_display.dot('o', s.getX(), s.getY(), size=20, ctype='orange')"
   ]
  },
  {
   "cell_type": "code",
   "execution_count": null,
   "id": "36f2dfa9-74b9-4d40-abba-15793feb36df",
   "metadata": {},
   "outputs": [],
   "source": []
  }
 ],
 "metadata": {
  "kernelspec": {
   "display_name": "LSST",
   "language": "python",
   "name": "lsst"
  },
  "language_info": {
   "codemirror_mode": {
    "name": "ipython",
    "version": 3
   },
   "file_extension": ".py",
   "mimetype": "text/x-python",
   "name": "python",
   "nbconvert_exporter": "python",
   "pygments_lexer": "ipython3",
   "version": "3.10.4"
  },
  "toc-autonumbering": false
 },
 "nbformat": 4,
 "nbformat_minor": 5
}
