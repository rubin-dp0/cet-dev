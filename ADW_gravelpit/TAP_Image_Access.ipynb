{
 "cells": [
  {
   "cell_type": "markdown",
   "id": "c9fd3d07-a758-4ee9-929c-78c8df640de2",
   "metadata": {},
   "source": [
    "# PyVO Image Access\n",
    "Alex Drlica-Wagner\n",
    "\n",
    "This is a rough sketch of a notebook demonstrating how images can be accessed using PyVO tools. Some useful references listed below.\n",
    "\n",
    "1. [lsst.rsp.catalog](https://github.com/lsst-sqre/lsst-rsp/blob/main/src/lsst/rsp/catalog.py) showing how the TAP authentication is done on the RSP.\n",
    "2. [Community post on external table access](https://community.lsst.org/t/will-there-be-external-tap-access-to-rsp-dp0-2-tables/6660) with more useful information about authentication.\n",
    "3. [PyVO Data Access](https://pyvo.readthedocs.io/en/latest/dal/index.html)\n",
    "4. [The RSP Portal Aspect](https://data-int.lsst.cloud/portal/app/?__action=layout.showDropDown&view=TAPSearch)"
   ]
  },
  {
   "cell_type": "code",
   "execution_count": null,
   "id": "3b992056-91b3-4f52-a1bb-d2386697665a",
   "metadata": {},
   "outputs": [],
   "source": [
    "import matplotlib.pyplot as plt\n",
    "import gc\n",
    "import numpy as np\n",
    "import requests\n",
    "\n",
    "# Astropy imports\n",
    "from astropy.wcs import WCS\n",
    "from astropy.visualization import make_lupton_rgb\n",
    "from astropy.utils.data import download_file\n",
    "from astropy.io import fits\n",
    "from astropy.visualization import simple_norm, imshow_norm\n",
    "from astropy.visualization import ImageNormalize,  ZScaleInterval\n",
    "from astropy.visualization.stretch import SinhStretch, LinearStretch, SqrtStretch\n",
    "\n",
    "# PyVO\n",
    "import pyvo\n",
    "from pyvo.dal.adhoc import DatalinkResults\n",
    "\n",
    "# Image visualization routines.\n",
    "import lsst.afw.display as afwDisplay\n",
    "from lsst.daf.butler import Butler\n",
    "from lsst.afw.image.exposure import ExposureF\n",
    "\n",
    "# Import the Rubin TAP service utilities\n",
    "import lsst.rsp\n",
    "from lsst.rsp import get_tap_service, retrieve_query\n",
    "from lsst.rsp.utils import get_access_token\n",
    "\n",
    "plt.style.use('tableau-colorblind10')\n",
    "%matplotlib inline\n",
    "afwDisplay.setDefaultBackend('matplotlib')"
   ]
  },
  {
   "cell_type": "code",
   "execution_count": null,
   "id": "db8c7aa3-9faf-4648-87aa-7363f1f50b64",
   "metadata": {},
   "outputs": [],
   "source": [
    "# Set up some plotting defaults:\n",
    "\n",
    "params = {'axes.labelsize': 28,\n",
    "          'font.size': 24,\n",
    "          'legend.fontsize': 14,\n",
    "          'xtick.major.size': 12,\n",
    "          'xtick.minor.size': 6,\n",
    "          'xtick.direction': 'in',\n",
    "          'xtick.top': True,\n",
    "          'lines.linewidth': 3,\n",
    "          'axes.linewidth': 3,\n",
    "          'axes.labelweight': 3,\n",
    "          'axes.titleweight': 3,\n",
    "          'ytick.major.size': 12,\n",
    "          'ytick.minor.size': 6,\n",
    "          'ytick.direction': 'in',\n",
    "          'ytick.right': True,\n",
    "          'figure.figsize': [8, 8],\n",
    "          'figure.facecolor': 'White'\n",
    "          }\n",
    "\n",
    "plt.rcParams.update(params)"
   ]
  },
  {
   "cell_type": "markdown",
   "id": "786a28eb-a7f8-4803-9315-58b7d80ab5dc",
   "metadata": {},
   "source": [
    "## Conventional Butler Image Access\n",
    "\n",
    "Here we'll grab a `deepCoadd_calexp` in the conventional manner using the Butler."
   ]
  },
  {
   "cell_type": "code",
   "execution_count": null,
   "id": "47cc9e9d-0c3e-45da-8e70-65ef72e0a9d5",
   "metadata": {},
   "outputs": [],
   "source": [
    "config = 'dp02'\n",
    "collection = '2.2i/runs/DP0.2'\n",
    "butler = Butler(config, collections=collection)\n",
    "\n",
    "# Note: This will trigger a warning from CFITSIO in w_2022_22.\n",
    "# This warning can be safely ignored and will be corrected in the future."
   ]
  },
  {
   "cell_type": "code",
   "execution_count": null,
   "id": "6b0c8c1b-0d21-4faf-a250-a21287d8a055",
   "metadata": {},
   "outputs": [],
   "source": [
    "dataId = {'tract': 3828, 'patch': 21, 'band': 'i'}\n",
    "datasetType='deepCoadd_calexp'\n",
    "coadd = butler.get(datasetType,**dataId)"
   ]
  },
  {
   "cell_type": "code",
   "execution_count": null,
   "id": "398f1c4a-86b6-4e7a-b9c9-8d665b63fe71",
   "metadata": {},
   "outputs": [],
   "source": [
    "fig, ax = plt.subplots()\n",
    "display = afwDisplay.Display(frame=fig)\n",
    "display.scale('asinh', 'zscale')\n",
    "display.mtv(coadd.maskedImage)\n",
    "plt.show()"
   ]
  },
  {
   "cell_type": "markdown",
   "id": "e0b6ccdb-dad6-4034-b633-fa86162cca28",
   "metadata": {},
   "source": [
    "## PyVO Image Access\n",
    "\n",
    "Now we'll grab the same image using tools from PyVO. This mimics what the Portal is doing with its \"Image Search (OpsTAP)\".\n",
    "\n",
    "The basic workflow is:\n",
    "1. Use the TAP service to download image metadata associated with images that satisfy a subset of criteria. In particular, we are after the `access_url`.\n",
    "2. The `access_url` is actually a datalink to a dynamically constructed VOTable that itself contains a link to the actual URL. This second url is signed by Google, so it can be directly accessed for a limited time. We create a DatalinkResults object to be able to access this second URL.\n",
    "3. We download the image and play around with it a bit.\n"
   ]
  },
  {
   "cell_type": "code",
   "execution_count": null,
   "id": "e189331e-1ae4-4828-b660-98c9523f27ec",
   "metadata": {},
   "outputs": [],
   "source": [
    "# First, get our RSP access token (we will need this to download the data)\n",
    "token = get_access_token()\n",
    "\n",
    "# Get an instance of the TAP service\n",
    "service = get_tap_service()"
   ]
  },
  {
   "cell_type": "code",
   "execution_count": null,
   "id": "3fa225b2-1d44-4c24-94e7-5aa5bca7ed43",
   "metadata": {},
   "outputs": [],
   "source": [
    "# Query for images satisfying some criteria\n",
    "query = \"\"\"\n",
    "SELECT * \n",
    "FROM ivoa.ObsCore \n",
    "WHERE calib_level = 3 AND dataproduct_type = 'image' AND dataproduct_subtype = 'lsst.deepCoadd_calexp' \n",
    "-- Selects the coadd containing this point\n",
    "AND CONTAINS(POINT('ICRS', 57.5, -36.4), s_region)=1\n",
    "-- Selects the i-band image (691 nm < lambda < 818 nm)\n",
    "AND ( 700 BETWEEN em_min AND em_max )\n",
    "\"\"\"\n",
    "\n",
    "# Execute the query and get the results\n",
    "result_set = service.search(query)\n",
    "result_table = result_set.to_table()\n",
    "result_table"
   ]
  },
  {
   "cell_type": "raw",
   "id": "ac10ba25-98c5-4822-99c1-653d2d601f5a",
   "metadata": {},
   "source": [
    "# Some extra/other queries\n",
    "\n",
    "# Query to grab based on tract/patch filled in `obs_id` string\n",
    "query = \"\"\"\n",
    "SELECT * \n",
    "FROM ivoa.ObsCore \n",
    "WHERE calib_level = 3 AND dataproduct_type = 'image' AND dataproduct_subtype = 'lsst.deepCoadd_calexp' \n",
    "AND obs_id = 'DC2-3828-21'\n",
    "AND ( 700 BETWEEN em_min AND em_max )\n",
    "\"\"\"\n",
    "\n",
    "# Query for grabbing calexp with some constraints\n",
    "query = \"\"\"\n",
    "SELECT * \n",
    "FROM ivoa.ObsCore \n",
    "WHERE calib_level = 2 AND dataproduct_type = 'image' AND dataproduct_subtype = 'lsst.calexp' \n",
    "AND CONTAINS(POINT('ICRS', 57.5, -36.4), s_region)=1 \n",
    "AND ( t_min <= 60250 AND 59860 <= t_max ) AND ( t_exptime BETWEEN 0 AND 30 ) \n",
    "AND ( 500 BETWEEN em_min AND em_max )\n",
    "\"\"\""
   ]
  },
  {
   "cell_type": "code",
   "execution_count": null,
   "id": "eedb2aea-9459-4f92-aca2-4d3290ae2bcd",
   "metadata": {},
   "outputs": [],
   "source": [
    "# Let's take a look at the result in the first row\n",
    "row = result_set[0]\n",
    "print(row)\n",
    "print(\"Datalink URL:\",row.getdataurl())"
   ]
  },
  {
   "cell_type": "code",
   "execution_count": null,
   "id": "66e03e75-5d97-4ca6-aa76-89b225fd3997",
   "metadata": {},
   "outputs": [],
   "source": [
    "# Next, create a session with datalink authentication. \n",
    "# This draws on the pattern that is used for TAP access by lsst.rsp.\n",
    "# https://github.com/lsst-sqre/lsst-rsp/blob/main/src/lsst/rsp/catalog.py\n",
    "\n",
    "# Create a datalink authentication\n",
    "datalink_url = 'https://data-int.lsst.cloud/api/datalink'\n",
    "s = requests.Session()\n",
    "s.headers[\"Authorization\"] = \"Bearer \" + token\n",
    "auth = pyvo.auth.authsession.AuthSession()\n",
    "auth.credentials.set(\"lsst-token\", s)\n",
    "auth.add_security_method_for_url(datalink_url, \"lsst-token\")\n",
    "auth.add_security_method_for_url(datalink_url + \"/links\", \"lsst-token\")"
   ]
  },
  {
   "cell_type": "code",
   "execution_count": null,
   "id": "9a33e495-18e4-4fcf-bf2e-89ee929e3757",
   "metadata": {},
   "outputs": [],
   "source": [
    "# Now we can create the datalink, which will allow us to access the (transient) signed URL for image access\n",
    "datalink = DatalinkResults.from_result_url(row.getdataurl(),session=auth)\n",
    "print(datalink.status)\n",
    "print(datalink.votable)\n",
    "\n",
    "# Now we can grab the google signed URL for the image (note that this will expire)\n",
    "image_url = datalink.getrecord(0).get('access_url')\n",
    "print(image_url)"
   ]
  },
  {
   "cell_type": "raw",
   "id": "5b9a04e1-9505-4d5a-af60-9f85b6185f53",
   "metadata": {},
   "source": [
    "print(datalink.getdataset())\n",
    "print(datalink.get_first_proc())\n",
    "table = votable.get_first_table()\n",
    "table.to_table()"
   ]
  },
  {
   "cell_type": "code",
   "execution_count": null,
   "id": "013df5f6-646b-4fcf-a06a-73bb5fae5761",
   "metadata": {},
   "outputs": [],
   "source": [
    "# Now we can grab the image file from the URL\n",
    "filename = download_file(image_url)\n",
    "hdulist = fits.open(image_url)\n",
    "\n",
    "# We could also open the image directly from the URL\n",
    "#hdulist = fits.open(image_url)\n",
    "\n",
    "# Looks like a deepCoadd_calexp to me...\n",
    "for hdu in hdulist:\n",
    "    print(hdu.name)"
   ]
  },
  {
   "cell_type": "code",
   "execution_count": null,
   "id": "cbf6be0b-0ab8-45fd-a773-d61ad5316109",
   "metadata": {},
   "outputs": [],
   "source": [
    "# Let's plot the image and see what it looks like...\n",
    "image = hdulist[1].data\n",
    "\n",
    "fig = plt.figure()\n",
    "ax = fig.add_subplot(1, 1, 1)\n",
    "im = imshow_norm(image, ax, origin='lower', interval=ZScaleInterval(), stretch=SqrtStretch(), cmap='gray')\n",
    "fig.colorbar(im[0])"
   ]
  },
  {
   "cell_type": "code",
   "execution_count": null,
   "id": "cc3dad42-6a44-46d8-b9ac-a8013503fd83",
   "metadata": {},
   "outputs": [],
   "source": [
    "# We can also create an ExposureF stack object\n",
    "new_coadd = ExposureF(filename)\n",
    "\n",
    "fig, ax = plt.subplots()\n",
    "display = afwDisplay.Display(frame=fig)\n",
    "display.scale('asinh', 'zscale')\n",
    "display.mtv(new_coadd.maskedImage)\n",
    "plt.show()"
   ]
  }
 ],
 "metadata": {
  "kernelspec": {
   "display_name": "LSST",
   "language": "python",
   "name": "lsst"
  },
  "language_info": {
   "codemirror_mode": {
    "name": "ipython",
    "version": 3
   },
   "file_extension": ".py",
   "mimetype": "text/x-python",
   "name": "python",
   "nbconvert_exporter": "python",
   "pygments_lexer": "ipython3",
   "version": "3.10.4"
  }
 },
 "nbformat": 4,
 "nbformat_minor": 5
}
