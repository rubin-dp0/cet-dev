{
 "cells": [
  {
   "cell_type": "markdown",
   "id": "ca9f5ea0-76af-4cdf-a5c0-8a1b0db9b2c9",
   "metadata": {},
   "source": [
    "# Why you must define `extent` when plotting an RA,Dec grid with matplotlib\n",
    "\n",
    "When using:\n",
    " * matplotlib as the backend to afw.display and\n",
    " * astropy.wcs.WCS as the projection passed to matplotlib.pyplot.subplot\n",
    "\n",
    "If you do not pass `extent` to matplotlib.pyplot.subplot, the grid will be correct only if the origin is (0,0).\n",
    "\n",
    "Melissa Graham, Fri Apr 29, data.lsst.cloud, Weekly 2022_12"
   ]
  },
  {
   "cell_type": "markdown",
   "id": "c44a70a6-f245-4630-82f0-5067ccb8ea3a",
   "metadata": {},
   "source": [
    "## Imports"
   ]
  },
  {
   "cell_type": "code",
   "execution_count": null,
   "id": "4c5d162d-d9f2-4a3b-a2ea-04fbe582a2b5",
   "metadata": {},
   "outputs": [],
   "source": [
    "import numpy as np\n",
    "import matplotlib\n",
    "import matplotlib.pyplot as plt\n",
    "\n",
    "import pandas\n",
    "pandas.set_option('display.max_rows', 1000)\n",
    "\n",
    "import lsst.daf.butler as dafButler\n",
    "\n",
    "import lsst.geom\n",
    "import lsst.afw.display as afwDisplay\n",
    "afwDisplay.setDefaultBackend('matplotlib')\n",
    "\n",
    "from astropy.wcs import WCS\n",
    "from astropy import units as u\n",
    "from astropy.coordinates import SkyCoord"
   ]
  },
  {
   "cell_type": "markdown",
   "id": "e3868523-51b7-4611-9e48-de33f5e398c0",
   "metadata": {},
   "source": [
    "## Choose a deepCoadd image of a cluster that we are familiar with."
   ]
  },
  {
   "cell_type": "code",
   "execution_count": null,
   "id": "e3a84886-9f09-483e-bc6b-9c5f4d316424",
   "metadata": {},
   "outputs": [],
   "source": [
    "repo = 's3://butler-us-central1-dp01'\n",
    "collection = '2.2i/runs/DP0.1'\n",
    "butler = dafButler.Butler(repo, collections=collection)"
   ]
  },
  {
   "cell_type": "code",
   "execution_count": null,
   "id": "5eaf6e38-8cf4-4899-9e8c-5ea4aefdcc2a",
   "metadata": {},
   "outputs": [],
   "source": [
    "my_spherePoint = lsst.geom.SpherePoint(55.745834*lsst.geom.degrees,\n",
    "                                       -32.269167*lsst.geom.degrees)\n",
    "skymap = butler.get('skyMap')\n",
    "my_tract = skymap.findTract(my_spherePoint)\n",
    "my_patch = my_tract.findPatch(my_spherePoint)\n",
    "my_patch_id = my_tract.getSequentialPatchIndex(my_patch)\n",
    "dataId = {'band': 'i', 'tract': 4431, 'patch': 17}"
   ]
  },
  {
   "cell_type": "code",
   "execution_count": null,
   "id": "c79cdd55-a189-44eb-8041-af4dec323e0b",
   "metadata": {},
   "outputs": [],
   "source": [
    "deepCoadd        = butler.get('deepCoadd_calexp', dataId=dataId)\n",
    "deepCoadd_bbox   = butler.get('deepCoadd_calexp.bbox', dataId=dataId)\n",
    "deepCoadd_wcs    = butler.get('deepCoadd_calexp.wcs', dataId=dataId)\n",
    "deepCoadd_fitsMd = deepCoadd_wcs.getFitsMetadata()\n",
    "deepCoadd_WCSfMd = WCS(deepCoadd_wcs.getFitsMetadata())"
   ]
  },
  {
   "cell_type": "code",
   "execution_count": null,
   "id": "1193d846-5ace-4277-81aa-b7c2d82ae224",
   "metadata": {},
   "outputs": [],
   "source": [
    "# print(deepCoadd_bbox)\n",
    "# print(' ')\n",
    "# print(deepCoadd_wcs)\n",
    "# print(' ')\n",
    "# print(deepCoadd_fitsMd)\n",
    "# print(' ')\n",
    "# print(deepCoadd_WCSfMd)"
   ]
  },
  {
   "cell_type": "markdown",
   "id": "ade8a60d-be26-46c2-a66e-8c4fec2a3222",
   "metadata": {},
   "source": [
    "## Choose a calexp that we know should overlap with this deepCoadd"
   ]
  },
  {
   "cell_type": "code",
   "execution_count": null,
   "id": "364637e2-51cd-42eb-905a-f97bfde7d18a",
   "metadata": {},
   "outputs": [],
   "source": [
    "coadd_inputs = butler.get(\"deepCoadd_calexp.coaddInputs\", dataId)\n",
    "coadd_inputs_ccds_table = coadd_inputs.ccds.asAstropy()\n",
    "use_detector = coadd_inputs_ccds_table['ccd'][0]\n",
    "use_visit = coadd_inputs_ccds_table['visit'][0]\n",
    "print(use_detector, use_visit)"
   ]
  },
  {
   "cell_type": "code",
   "execution_count": null,
   "id": "1a06db1e-dfbf-405d-ad15-44df2a388bb5",
   "metadata": {},
   "outputs": [],
   "source": [
    "calexp        = butler.get('calexp', detector=use_detector, visit=use_visit)\n",
    "calexp_bbox   = butler.get('calexp.bbox', detector=use_detector, visit=use_visit)\n",
    "calexp_wcs    = butler.get('calexp.wcs', detector=use_detector, visit=use_visit)\n",
    "calexp_fitsMd = calexp_wcs.getFitsMetadata()\n",
    "calexp_WCSfMd = WCS(calexp_wcs.getFitsMetadata())"
   ]
  },
  {
   "cell_type": "code",
   "execution_count": null,
   "id": "473f4b85-1745-4643-aa94-dcbacc552ac3",
   "metadata": {},
   "outputs": [],
   "source": [
    "# print(calexp_bbox)\n",
    "# print(' ')\n",
    "# print(calexp_wcs)\n",
    "# print(' ')\n",
    "# print(calexp_fitsMd)\n",
    "# print(' ')\n",
    "# print(calexp_WCSfMd)"
   ]
  },
  {
   "cell_type": "markdown",
   "id": "7245f634-69e9-462e-8650-c5afec1462ef",
   "metadata": {},
   "source": [
    "## Get the corners and show calexp overlaps deepCoadd\n",
    "\n",
    "corners go clockwise from lower left:\n",
    "lower left, upper left, upper right, lower right"
   ]
  },
  {
   "cell_type": "code",
   "execution_count": null,
   "id": "305f628a-ac63-4aa5-8422-6d9dd25acd61",
   "metadata": {},
   "outputs": [],
   "source": [
    "### deepCoadd's corners\n",
    "dc_crnrs = [ deepCoadd_wcs.pixelToSky(deepCoadd_bbox.beginX, deepCoadd_bbox.beginY), \n",
    "             deepCoadd_wcs.pixelToSky(deepCoadd_bbox.beginX, deepCoadd_bbox.endY), \n",
    "             deepCoadd_wcs.pixelToSky(deepCoadd_bbox.endX, deepCoadd_bbox.endY), \n",
    "             deepCoadd_wcs.pixelToSky(deepCoadd_bbox.endX, deepCoadd_bbox.beginY) ]\n",
    "\n",
    "print('deepCoadd corners:')\n",
    "dc_crnrs_deg = np.zeros((4,2), dtype = 'float')\n",
    "for i in range(4):\n",
    "    dc_crnrs_deg[i,0] = dc_crnrs[i].getRa().asDegrees()\n",
    "    dc_crnrs_deg[i,1] = dc_crnrs[i].getDec().asDegrees()\n",
    "    coord = SkyCoord(ra = dc_crnrs[i].getRa().asDegrees()*u.degree, \n",
    "                     dec = dc_crnrs[i].getDec().asDegrees()*u.degree)\n",
    "    ra = str(coord.to_string('hmsdms')).split()[0]\n",
    "    dec = str(coord.to_string('hmsdms')).split()[1]\n",
    "    print('%1i %9.5f %9.5f %10ss %11ss' % (i, dc_crnrs_deg[i,0], dc_crnrs_deg[i,1], ra[0:10], dec[0:11]))\n",
    "\n",
    "ca_crnrs = [ calexp_wcs.pixelToSky(calexp_bbox.beginX, calexp_bbox.beginY), \n",
    "             calexp_wcs.pixelToSky(calexp_bbox.beginX, calexp_bbox.endY), \n",
    "             calexp_wcs.pixelToSky(calexp_bbox.endX, calexp_bbox.endY), \n",
    "             calexp_wcs.pixelToSky(calexp_bbox.endX, calexp_bbox.beginY) ]\n",
    "\n",
    "### calexp's corners\n",
    "print('calexp corners:')\n",
    "ca_crnrs_deg = np.zeros((4,2), dtype = 'float')\n",
    "for i in range(4):\n",
    "    ca_crnrs_deg[i,0] = ca_crnrs[i].getRa().asDegrees()\n",
    "    ca_crnrs_deg[i,1] = ca_crnrs[i].getDec().asDegrees()\n",
    "    coord = SkyCoord(ra = ca_crnrs[i].getRa().asDegrees()*u.degree, \n",
    "                     dec = ca_crnrs[i].getDec().asDegrees()*u.degree)\n",
    "    ra = str(coord.to_string('hmsdms')).split()[0]\n",
    "    dec = str(coord.to_string('hmsdms')).split()[1]\n",
    "    print('%1i %9.5f %9.5f %10ss %11ss' % (i, ca_crnrs_deg[i,0], ca_crnrs_deg[i,1], ra[0:10], dec[0:11]))\n"
   ]
  },
  {
   "cell_type": "code",
   "execution_count": null,
   "id": "e3ec5aa4-7ac5-476c-a440-c3144f66adbb",
   "metadata": {},
   "outputs": [],
   "source": [
    "fig = plt.figure(figsize=(6,4))\n",
    "\n",
    "plt.plot( [dc_crnrs_deg[0][0], dc_crnrs_deg[1][0], dc_crnrs_deg[2][0], dc_crnrs_deg[3][0], dc_crnrs_deg[0][0]], \n",
    "          [dc_crnrs_deg[0][1], dc_crnrs_deg[1][1], dc_crnrs_deg[2][1], dc_crnrs_deg[3][1], dc_crnrs_deg[0][1]],\n",
    "          ls='solid', lw=4, alpha=1, color='grey' )\n",
    "plt.plot( [ca_crnrs_deg[0][0], ca_crnrs_deg[1][0], ca_crnrs_deg[2][0], ca_crnrs_deg[3][0], ca_crnrs_deg[0][0]], \n",
    "          [ca_crnrs_deg[0][1], ca_crnrs_deg[1][1], ca_crnrs_deg[2][1], ca_crnrs_deg[3][1], ca_crnrs_deg[0][1]],\n",
    "          ls='solid', lw=4, alpha=1, color='dodgerblue' )\n",
    "\n",
    "plt.xlabel( 'ra' )\n",
    "plt.ylabel( 'dec' )\n",
    "plt.title( 'deepCoadd (grey) and calexp (blue)' )\n",
    "plt.show()"
   ]
  },
  {
   "cell_type": "markdown",
   "id": "1b04e8b1-7d9d-496c-a06a-2df5a06d0051",
   "metadata": {},
   "source": [
    "## Don't define `extent` and realize that the RA,Dec grid is incorrect for the deepCoadd\n",
    "\n",
    "Compare overlayed grid lines to the corners, which are listed below.\n",
    " * --> they do not match for the deepCoadd, but they do for the calexp\n",
    "\n",
    "Compare the coordinates of a source at about 3h42m58s -32d18m27s.\n",
    " * --> the results of pixelToSky are incorrect for the deepCoadd, correct for the calexp"
   ]
  },
  {
   "cell_type": "code",
   "execution_count": null,
   "id": "0e506afa-4f63-4a3b-8007-7d2a491a695d",
   "metadata": {},
   "outputs": [],
   "source": [
    "fig, ax = plt.subplots(1, 2, figsize=(16, 8), sharex=False, sharey=False)\n",
    "\n",
    "### deepCoadd\n",
    "plt.subplot(1, 2, 1, projection=deepCoadd_WCSfMd)\n",
    "plt.imshow(deepCoadd.image.array, cmap='gray', vmin=0, vmax=2, origin='lower')\n",
    "plt.grid(color='white', ls='solid')\n",
    "plt.xlabel('Right Ascension')\n",
    "plt.ylabel('Declination')\n",
    "plt.title('deepCoadd')\n",
    "\n",
    "### yellow circle\n",
    "test_pix_x = 730\n",
    "test_pix_y = 270\n",
    "plt.plot( test_pix_x, test_pix_y, 'o', ms=12, color='None', mew=2, mec='yellow' )\n",
    "coord_sph = deepCoadd_wcs.pixelToSky(test_pix_x, test_pix_y)\n",
    "coord = SkyCoord(ra = coord_sph.getRa().asDegrees()*u.degree, \n",
    "                     dec = coord_sph.getDec().asDegrees()*u.degree)\n",
    "print('deepCoadd yellow circle: ',coord.to_string('hmsdms'))\n",
    "\n",
    "### calexp\n",
    "plt.subplot(1, 2, 2,  projection=calexp_WCSfMd)\n",
    "plt.imshow(calexp.image.array, cmap='gray', vmin=-10, vmax=100, origin='lower')\n",
    "plt.grid(color='white', ls='solid')\n",
    "plt.xlabel('Right Ascension')\n",
    "plt.ylabel('Declination')\n",
    "plt.title('calexp')\n",
    "\n",
    "### magenta circle\n",
    "test_pix_x = 2580\n",
    "test_pix_y = 2910\n",
    "plt.plot( test_pix_x, test_pix_y, 'o', ms=12, color='None', mew=2, mec='magenta' )\n",
    "coord_sph = calexp_wcs.pixelToSky(test_pix_x, test_pix_y)\n",
    "coord = SkyCoord(ra = coord_sph.getRa().asDegrees()*u.degree, \n",
    "                     dec = coord_sph.getDec().asDegrees()*u.degree)\n",
    "print('calexp pink circle: ',coord.to_string('hmsdms'))\n",
    "\n",
    "plt.show()"
   ]
  },
  {
   "cell_type": "raw",
   "id": "4d7051ed-0b00-4612-9b85-80caffd35361",
   "metadata": {},
   "source": [
    "deepCoadd corners:                    calexp corners:\n",
    "03h43m09.6s -32d19m20.0s              03h43m55.2s -32d23m06.1s\n",
    "03h43m09.5s -32d05m20.0s              03h43m26.2s -32d11m15.8s\n",
    "03h42m03.4s -32d05m20.0s              03h42m29.2s -32d17m28.9s\n",
    "03h42m03.3s -32d19m20.0s              03h42m58.1s -32d29m20.0s"
   ]
  },
  {
   "cell_type": "markdown",
   "id": "4514da7c-5b78-4e40-8e40-a32dd79389f5",
   "metadata": {},
   "source": [
    "## Do define `extent` and live happily ever after\n",
    "\n",
    "Except that it takes way longer to make the plot."
   ]
  },
  {
   "cell_type": "code",
   "execution_count": null,
   "id": "9f93b8e0-da34-4560-85fc-046fda660f08",
   "metadata": {},
   "outputs": [],
   "source": [
    "fig, ax = plt.subplots(1, 2, figsize=(16, 8), sharex=False, sharey=False)\n",
    "\n",
    "plt.subplot(1, 2, 1, projection=deepCoadd_WCSfMd)\n",
    "deepCoadd_extent = (deepCoadd_bbox.beginX, deepCoadd_bbox.endX, deepCoadd_bbox.beginY, deepCoadd_bbox.endY )\n",
    "plt.imshow(deepCoadd.image.array, cmap='gray', vmin=0, vmax=2, extent=deepCoadd_extent, origin='lower')\n",
    "plt.grid(color='white', ls='solid')\n",
    "plt.xlabel('Right Ascension')\n",
    "plt.ylabel('Declination')\n",
    "plt.title('deepCoadd')\n",
    "\n",
    "test_pix_x = 730+deepCoadd_bbox.beginX\n",
    "test_pix_y = 270+deepCoadd_bbox.beginY\n",
    "plt.plot( test_pix_x, test_pix_y, 'o', ms=12, color='None', mew=2, mec='yellow' )\n",
    "coord_sph = deepCoadd_wcs.pixelToSky(test_pix_x, test_pix_y)\n",
    "coord = SkyCoord(ra = coord_sph.getRa().asDegrees()*u.degree, \n",
    "                     dec = coord_sph.getDec().asDegrees()*u.degree)\n",
    "print('deepCoadd yellow circle: ',coord.to_string('hmsdms'))\n",
    "\n",
    "plt.subplot(1, 2, 2,  projection=calexp_WCSfMd)\n",
    "calexp_extent = (calexp_bbox.beginX, calexp_bbox.endX, calexp_bbox.beginY, calexp_bbox.endY )\n",
    "plt.imshow(calexp.image.array, cmap='gray', vmin=-10, vmax=100, extent=calexp_extent, origin='lower')\n",
    "plt.grid(color='white', ls='solid')\n",
    "plt.xlabel('Right Ascension')\n",
    "plt.ylabel('Declination')\n",
    "plt.title('calexp')\n",
    "\n",
    "test_pix_x = 2580\n",
    "test_pix_y = 2910\n",
    "plt.plot( test_pix_x, test_pix_y, 'o', ms=12, color='None', mew=2, mec='magenta' )\n",
    "coord_sph = calexp_wcs.pixelToSky(test_pix_x, test_pix_y)\n",
    "coord = SkyCoord(ra = coord_sph.getRa().asDegrees()*u.degree, \n",
    "                     dec = coord_sph.getDec().asDegrees()*u.degree)\n",
    "print('calexp pink circle: ',coord.to_string('hmsdms'))\n",
    "\n",
    "plt.show()"
   ]
  },
  {
   "cell_type": "raw",
   "id": "96643d33-8133-4900-9507-fa1c114b0f1c",
   "metadata": {},
   "source": [
    "deepCoadd corners:                    calexp corners:\n",
    "03h43m09.6s -32d19m20.0s              03h43m55.2s -32d23m06.1s\n",
    "03h43m09.5s -32d05m20.0s              03h43m26.2s -32d11m15.8s\n",
    "03h42m03.4s -32d05m20.0s              03h42m29.2s -32d17m28.9s\n",
    "03h42m03.3s -32d19m20.0s              03h42m58.1s -32d29m20.0s"
   ]
  },
  {
   "cell_type": "markdown",
   "id": "06ac8c15-3843-4f8a-96db-20076166ac84",
   "metadata": {},
   "source": [
    "## firefly\n",
    "\n",
    "The deepCoadd RA,Dec are correct when we use firefly."
   ]
  },
  {
   "cell_type": "code",
   "execution_count": null,
   "id": "5a4883a3-1dbf-473d-a66b-a0a08dab39ad",
   "metadata": {},
   "outputs": [],
   "source": [
    "# afwDisplay.setDefaultBackend('firefly')\n",
    "# afw_display = afwDisplay.Display(frame=1)"
   ]
  },
  {
   "cell_type": "code",
   "execution_count": null,
   "id": "5f0c53d1-c297-43b7-a017-1117c04a0509",
   "metadata": {},
   "outputs": [],
   "source": [
    "# afw_display.mtv(calexp)"
   ]
  },
  {
   "cell_type": "code",
   "execution_count": null,
   "id": "adbe218a-91fb-4d56-afc6-9f779b29dcbd",
   "metadata": {},
   "outputs": [],
   "source": [
    "# afw_display.mtv(deepCoadd)"
   ]
  },
  {
   "cell_type": "code",
   "execution_count": null,
   "id": "325acb40-765a-424b-bc5e-76ddbd549bb1",
   "metadata": {},
   "outputs": [],
   "source": []
  },
  {
   "cell_type": "code",
   "execution_count": null,
   "id": "fad7a117-d3c5-402b-8695-c722516a1ec6",
   "metadata": {},
   "outputs": [],
   "source": []
  },
  {
   "cell_type": "code",
   "execution_count": null,
   "id": "6c971cda-b552-43fc-b853-f69dea428da3",
   "metadata": {},
   "outputs": [],
   "source": []
  }
 ],
 "metadata": {
  "kernelspec": {
   "display_name": "LSST",
   "language": "python",
   "name": "lsst"
  },
  "language_info": {
   "codemirror_mode": {
    "name": "ipython",
    "version": 3
   },
   "file_extension": ".py",
   "mimetype": "text/x-python",
   "name": "python",
   "nbconvert_exporter": "python",
   "pygments_lexer": "ipython3",
   "version": "3.8.12"
  }
 },
 "nbformat": 4,
 "nbformat_minor": 5
}
