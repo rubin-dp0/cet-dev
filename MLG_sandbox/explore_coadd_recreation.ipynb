{
 "cells": [
  {
   "cell_type": "markdown",
   "id": "88e46a87-3937-4534-ae66-8343f99049ed",
   "metadata": {},
   "source": [
    "# recreate a coadd\n",
    "\n",
    "Get all the images that went into a coadd, and then rebuild it.\n",
    "\n",
    "Maybe tweak some of the image combination parameters for fun, or just rebuild for a few months of observations."
   ]
  },
  {
   "cell_type": "markdown",
   "id": "3c38cb9b-375a-4e02-bf0f-42820a86363c",
   "metadata": {},
   "source": [
    "## set up"
   ]
  },
  {
   "cell_type": "code",
   "execution_count": 1,
   "id": "4aef3e1b-efee-4d8a-9ed0-d9a910be88d3",
   "metadata": {},
   "outputs": [],
   "source": [
    "import numpy as np\n",
    "import matplotlib\n",
    "import matplotlib.pyplot as plt\n",
    "import time\n",
    "\n",
    "import pandas\n",
    "pandas.set_option('display.max_rows', 1000)\n",
    "\n",
    "import lsst.daf.butler as dafButler\n",
    "\n",
    "import lsst.geom\n",
    "import lsst.afw.display as afwDisplay\n",
    "afwDisplay.setDefaultBackend('matplotlib')\n",
    "\n",
    "from astropy.wcs import WCS"
   ]
  },
  {
   "cell_type": "markdown",
   "id": "54e4f1a3-45cb-4002-9cd9-fb7a0d0ba441",
   "metadata": {},
   "source": [
    "## choose DP0.2 collection"
   ]
  },
  {
   "cell_type": "markdown",
   "id": "c37b3b7d-ba47-4df6-842e-7d6f8c736ee6",
   "metadata": {},
   "source": [
    "Collection chosen to use same image as in NB 01, the pretty cluster"
   ]
  },
  {
   "cell_type": "code",
   "execution_count": 2,
   "id": "9340359c-49d6-471e-af30-2b2387756468",
   "metadata": {},
   "outputs": [
    {
     "data": {
      "text/html": [
       "<pre style=\"margin: 0.1em;\n",
       "padding-left: 0.25em;\n",
       "border-left-style: solid;\n",
       "font-family: var(--jp-code-font-family);\n",
       "font-size: var(--jp-code-font-size);\n",
       "line-height: var(--jp-code-line-height);\n",
       "\"><span style=\"color: var(--jp-warn-color2)\">botocore.credentials</span> <span style=\"color: var(--jp-info-color0)\">INFO</span>: Found credentials in shared credentials file: /home/melissagraham/.lsst/aws-credentials.ini</pre>"
      ],
      "text/plain": [
       "<IPython.core.display.HTML object>"
      ]
     },
     "metadata": {},
     "output_type": "display_data"
    }
   ],
   "source": [
    "repo = 's3://butler-us-central1-panda-dev/dc2/butler-external.yaml'\n",
    "collection = '2.2i/runs/DP0.2/v23_0_1_rc1/PREOPS-905/pilot_tract4431'\n",
    "\n",
    "butler = dafButler.Butler(repo, collections=collection)"
   ]
  },
  {
   "cell_type": "markdown",
   "id": "c42ce015-7441-4155-bc6c-201d4118efce",
   "metadata": {},
   "source": [
    "## choose a coadd\n",
    "\n",
    "same as we use for NB 01"
   ]
  },
  {
   "cell_type": "code",
   "execution_count": 3,
   "id": "6e5849dd-f51c-4443-b3b9-48f73b5b3eae",
   "metadata": {},
   "outputs": [
    {
     "name": "stdout",
     "output_type": "stream",
     "text": [
      "(55.7458340000, -32.2691670000)\n",
      "my_tract =  TractInfo(id=4431)\n",
      "my_patch =  PatchInfo(index=Index2D(x=3, y=2))\n",
      "my_patch_id =  17\n"
     ]
    }
   ],
   "source": [
    "my_spherePoint = lsst.geom.SpherePoint(55.745834*lsst.geom.degrees,\n",
    "                                       -32.269167*lsst.geom.degrees)\n",
    "print(my_spherePoint)\n",
    "\n",
    "skymap = butler.get('skyMap')\n",
    "my_tract = skymap.findTract(my_spherePoint)\n",
    "my_patch = my_tract.findPatch(my_spherePoint)\n",
    "my_patch_id = my_tract.getSequentialPatchIndex(my_patch)\n",
    "print('my_tract = ', my_tract)\n",
    "print('my_patch = ', my_patch)\n",
    "print('my_patch_id = ', my_patch_id)\n",
    "\n",
    "dataId = {'band': 'i', 'tract': 4431, 'patch': 17}\n",
    "deepCoadd = butler.get('deepCoadd', dataId=dataId)"
   ]
  },
  {
   "cell_type": "markdown",
   "id": "88c4d270-a2bf-4d35-a5c8-560fd1e675b7",
   "metadata": {},
   "source": [
    "show the coadd"
   ]
  },
  {
   "cell_type": "code",
   "execution_count": null,
   "id": "6ed19ab9-d079-42e4-bff4-55eeef94afcb",
   "metadata": {},
   "outputs": [],
   "source": [
    "# fig = plt.figure(figsize=(6, 4))\n",
    "# afw_display = afwDisplay.Display(1)\n",
    "# afw_display.scale('asinh', 'zscale')\n",
    "# afw_display.mtv(deepCoadd.image)\n",
    "# plt.gca().axis('off')"
   ]
  },
  {
   "cell_type": "markdown",
   "id": "afd67b3a-7633-43df-b0dd-d0c50e35a33a",
   "metadata": {},
   "source": [
    "get more info about the pixel data"
   ]
  },
  {
   "cell_type": "code",
   "execution_count": 4,
   "id": "22de530b-1034-4f94-9e9f-27d52651b3ab",
   "metadata": {},
   "outputs": [
    {
     "name": "stdout",
     "output_type": "stream",
     "text": [
      "-0.32105696201324463 0.1392329267664109 1380.316162109375\n"
     ]
    }
   ],
   "source": [
    "imgdata = np.asarray( deepCoadd.image.array, dtype='float' )\n",
    "print( np.min(imgdata), np.mean(imgdata), np.max(imgdata) )"
   ]
  },
  {
   "cell_type": "markdown",
   "id": "92be360e-c8d0-4b99-be77-827561954c5b",
   "metadata": {},
   "source": [
    "## identify coadd inputs"
   ]
  },
  {
   "cell_type": "code",
   "execution_count": 5,
   "id": "b8c4f4b7-2447-4361-96c9-ca805d9106df",
   "metadata": {},
   "outputs": [],
   "source": [
    "coadd_inputs = butler.get(\"deepCoadd_calexp.coaddInputs\", dataId)"
   ]
  },
  {
   "cell_type": "code",
   "execution_count": 6,
   "id": "8071d622-d1ac-48b1-be5b-09918a2a72f1",
   "metadata": {},
   "outputs": [],
   "source": [
    "coadd_inputs_ccds_table = coadd_inputs.ccds.asAstropy()"
   ]
  },
  {
   "cell_type": "code",
   "execution_count": 7,
   "id": "2cd35310-8842-4c5a-82c3-6b7dc6af0c53",
   "metadata": {},
   "outputs": [
    {
     "data": {
      "text/html": [
       "<div><i>Table length=571</i>\n",
       "<table id=\"table140663775747376\" class=\"table-striped table-bordered table-condensed\">\n",
       "<thead><tr><th>id</th><th>bbox_min_x</th><th>bbox_min_y</th><th>bbox_max_x</th><th>bbox_max_y</th><th>ccd</th><th>visit</th><th>goodpix</th><th>weight</th><th>filter</th></tr></thead>\n",
       "<thead><tr><th></th><th>pix</th><th>pix</th><th>pix</th><th>pix</th><th></th><th></th><th></th><th></th><th></th></tr></thead>\n",
       "<thead><tr><th>int64</th><th>int32</th><th>int32</th><th>int32</th><th>int32</th><th>int32</th><th>int64</th><th>int32</th><th>float64</th><th>str32</th></tr></thead>\n",
       "<tr><td>227922000</td><td>0</td><td>0</td><td>4071</td><td>3999</td><td>0</td><td>227922</td><td>1512880</td><td>1.745271720648272</td><td>i_sim_1.4</td></tr>\n",
       "<tr><td>951274001</td><td>0</td><td>0</td><td>4071</td><td>3999</td><td>1</td><td>951274</td><td>1577144</td><td>4.326007963992991</td><td>i_sim_1.4</td></tr>\n",
       "<tr><td>951274002</td><td>0</td><td>0</td><td>4071</td><td>3999</td><td>2</td><td>951274</td><td>154692</td><td>4.326007963992991</td><td>i_sim_1.4</td></tr>\n",
       "<tr><td>951274004</td><td>0</td><td>0</td><td>4071</td><td>3999</td><td>4</td><td>951274</td><td>10850788</td><td>4.326007963992991</td><td>i_sim_1.4</td></tr>\n",
       "<tr><td>951274005</td><td>0</td><td>0</td><td>4071</td><td>3999</td><td>5</td><td>951274</td><td>3615362</td><td>4.326007963992991</td><td>i_sim_1.4</td></tr>\n",
       "<tr><td>951274007</td><td>0</td><td>0</td><td>4071</td><td>3999</td><td>7</td><td>951274</td><td>3671</td><td>4.326007963992991</td><td>i_sim_1.4</td></tr>\n",
       "<tr><td>420782005</td><td>0</td><td>0</td><td>4071</td><td>3999</td><td>5</td><td>420782</td><td>9876512</td><td>4.539556638143641</td><td>i_sim_1.4</td></tr>\n",
       "<tr><td>420782008</td><td>0</td><td>0</td><td>4071</td><td>3999</td><td>8</td><td>420782</td><td>828705</td><td>4.539556638143641</td><td>i_sim_1.4</td></tr>\n",
       "<tr><td>420782009</td><td>0</td><td>0</td><td>4071</td><td>3999</td><td>9</td><td>420782</td><td>10928</td><td>4.539556638143641</td><td>i_sim_1.4</td></tr>\n",
       "<tr><td>...</td><td>...</td><td>...</td><td>...</td><td>...</td><td>...</td><td>...</td><td>...</td><td>...</td><td>...</td></tr>\n",
       "<tr><td>177481185</td><td>0</td><td>0</td><td>4071</td><td>3999</td><td>185</td><td>177481</td><td>3838815</td><td>4.156365107569587</td><td>i_sim_1.4</td></tr>\n",
       "<tr><td>177481188</td><td>0</td><td>0</td><td>4071</td><td>3999</td><td>188</td><td>177481</td><td>5898227</td><td>4.156365107569587</td><td>i_sim_1.4</td></tr>\n",
       "<tr><td>713248185</td><td>0</td><td>0</td><td>4071</td><td>3999</td><td>185</td><td>713248</td><td>8636392</td><td>1.386433458995704</td><td>i_sim_1.4</td></tr>\n",
       "<tr><td>713248188</td><td>0</td><td>0</td><td>4071</td><td>3999</td><td>188</td><td>713248</td><td>2513117</td><td>1.386433458995704</td><td>i_sim_1.4</td></tr>\n",
       "<tr><td>766973185</td><td>0</td><td>0</td><td>4071</td><td>3999</td><td>185</td><td>766973</td><td>868307</td><td>2.968475624175491</td><td>i_sim_1.4</td></tr>\n",
       "<tr><td>766973188</td><td>0</td><td>0</td><td>4071</td><td>3999</td><td>188</td><td>766973</td><td>1617664</td><td>2.968475624175491</td><td>i_sim_1.4</td></tr>\n",
       "<tr><td>512005186</td><td>0</td><td>0</td><td>4071</td><td>3999</td><td>186</td><td>512005</td><td>4905192</td><td>1.6253470177135352</td><td>i_sim_1.4</td></tr>\n",
       "<tr><td>512005187</td><td>0</td><td>0</td><td>4071</td><td>3999</td><td>187</td><td>512005</td><td>4151015</td><td>1.6253470177135352</td><td>i_sim_1.4</td></tr>\n",
       "<tr><td>1229644186</td><td>0</td><td>0</td><td>4071</td><td>3999</td><td>186</td><td>1229644</td><td>7639691</td><td>3.3980602754807645</td><td>i_sim_1.4</td></tr>\n",
       "<tr><td>1229644187</td><td>0</td><td>0</td><td>4071</td><td>3999</td><td>187</td><td>1229644</td><td>3425721</td><td>3.3980602754807645</td><td>i_sim_1.4</td></tr>\n",
       "</table></div>"
      ],
      "text/plain": [
       "<Table length=571>\n",
       "    id     bbox_min_x bbox_min_y ... goodpix        weight         filter \n",
       "              pix        pix     ...                                      \n",
       "  int64      int32      int32    ...  int32        float64         str32  \n",
       "---------- ---------- ---------- ... -------- ------------------ ---------\n",
       " 227922000          0          0 ...  1512880  1.745271720648272 i_sim_1.4\n",
       " 951274001          0          0 ...  1577144  4.326007963992991 i_sim_1.4\n",
       " 951274002          0          0 ...   154692  4.326007963992991 i_sim_1.4\n",
       " 951274004          0          0 ... 10850788  4.326007963992991 i_sim_1.4\n",
       " 951274005          0          0 ...  3615362  4.326007963992991 i_sim_1.4\n",
       " 951274007          0          0 ...     3671  4.326007963992991 i_sim_1.4\n",
       " 420782005          0          0 ...  9876512  4.539556638143641 i_sim_1.4\n",
       " 420782008          0          0 ...   828705  4.539556638143641 i_sim_1.4\n",
       " 420782009          0          0 ...    10928  4.539556638143641 i_sim_1.4\n",
       "       ...        ...        ... ...      ...                ...       ...\n",
       " 177481185          0          0 ...  3838815  4.156365107569587 i_sim_1.4\n",
       " 177481188          0          0 ...  5898227  4.156365107569587 i_sim_1.4\n",
       " 713248185          0          0 ...  8636392  1.386433458995704 i_sim_1.4\n",
       " 713248188          0          0 ...  2513117  1.386433458995704 i_sim_1.4\n",
       " 766973185          0          0 ...   868307  2.968475624175491 i_sim_1.4\n",
       " 766973188          0          0 ...  1617664  2.968475624175491 i_sim_1.4\n",
       " 512005186          0          0 ...  4905192 1.6253470177135352 i_sim_1.4\n",
       " 512005187          0          0 ...  4151015 1.6253470177135352 i_sim_1.4\n",
       "1229644186          0          0 ...  7639691 3.3980602754807645 i_sim_1.4\n",
       "1229644187          0          0 ...  3425721 3.3980602754807645 i_sim_1.4"
      ]
     },
     "execution_count": 7,
     "metadata": {},
     "output_type": "execute_result"
    }
   ],
   "source": [
    "coadd_inputs_ccds_table"
   ]
  },
  {
   "cell_type": "code",
   "execution_count": null,
   "id": "b4ebfc7a-e32a-4e58-82dd-9c57388e7188",
   "metadata": {},
   "outputs": [],
   "source": [
    "# coadd_inputs_visits_table = coadd_inputs.visits.asAstropy()"
   ]
  },
  {
   "cell_type": "code",
   "execution_count": null,
   "id": "56116a4a-bb9e-4298-9014-4698a396c377",
   "metadata": {},
   "outputs": [],
   "source": [
    "# coadd_inputs_visits_table"
   ]
  },
  {
   "cell_type": "markdown",
   "id": "dec4c11e-4a6c-41e3-8d0c-1120a34e186c",
   "metadata": {},
   "source": [
    "## retrieve just one of the calexps which contributed"
   ]
  },
  {
   "cell_type": "code",
   "execution_count": 8,
   "id": "c85e4773-f0c5-4234-a749-aca3c39b9246",
   "metadata": {},
   "outputs": [
    {
     "name": "stdout",
     "output_type": "stream",
     "text": [
      "ccd, visit =  0 227922\n"
     ]
    }
   ],
   "source": [
    "use_detector = coadd_inputs_ccds_table['ccd'][0]\n",
    "use_visit = coadd_inputs_ccds_table['visit'][0]\n",
    "\n",
    "print('ccd, visit = ', use_detector, use_visit)\n",
    "calexp = butler.get('calexp', detector=use_detector, visit=use_visit)"
   ]
  },
  {
   "cell_type": "code",
   "execution_count": null,
   "id": "289b93f8-f801-4a11-b6b7-55592f4d1b04",
   "metadata": {},
   "outputs": [],
   "source": [
    "# fig = plt.figure(figsize=(6, 4))\n",
    "# afw_display = afwDisplay.Display(1)\n",
    "# afw_display.scale('asinh', 'zscale')\n",
    "# afw_display.mtv(calexp.image)\n",
    "# plt.gca().axis('off')"
   ]
  },
  {
   "cell_type": "code",
   "execution_count": 9,
   "id": "a76092a4-9edf-4877-a21d-037cb65af046",
   "metadata": {},
   "outputs": [
    {
     "name": "stdout",
     "output_type": "stream",
     "text": [
      "-380.42010498046875 6.565610028781216 130776.6640625\n"
     ]
    }
   ],
   "source": [
    "imgdata = np.asarray( calexp.image.array, dtype='float' )\n",
    "print( np.min(imgdata), np.mean(imgdata), np.max(imgdata) )"
   ]
  },
  {
   "cell_type": "markdown",
   "id": "243a789f-e76b-4033-b726-11554777b6d8",
   "metadata": {},
   "source": [
    "bounding box (is also in the table above)"
   ]
  },
  {
   "cell_type": "code",
   "execution_count": 10,
   "id": "49588b06-0e98-4c33-98ac-365e868f63d1",
   "metadata": {},
   "outputs": [
    {
     "name": "stdout",
     "output_type": "stream",
     "text": [
      "0 0 4072 4000\n",
      "<bound method PyCapsule.getCorners of Box2I(corner=Point2I(0, 0), dimensions=Extent2I(4072, 4000))>\n"
     ]
    }
   ],
   "source": [
    "calexp_bbox = butler.get('calexp.bbox', detector=use_detector, visit=use_visit)\n",
    "print( calexp_bbox.beginX, calexp_bbox.beginY, calexp_bbox.endX, calexp_bbox.endY )\n",
    "print( calexp_bbox.getCorners )"
   ]
  },
  {
   "cell_type": "markdown",
   "id": "4268c071-5e90-47f4-98f4-df2803f971dc",
   "metadata": {},
   "source": [
    "### do the coadd and the calexp look like they overlap?\n",
    "\n",
    "no they don't..."
   ]
  },
  {
   "cell_type": "code",
   "execution_count": null,
   "id": "5375ef73-6db3-4e2c-8acd-f3a65665cd2e",
   "metadata": {},
   "outputs": [],
   "source": [
    "fig, ax = plt.subplots(1, 2, figsize=(12, 4), sharex=True, sharey=True)\n",
    "\n",
    "plt.subplot(1, 2, 1, projection=WCS(deepCoadd.getWcs().getFitsMetadata()))\n",
    "plt.imshow(deepCoadd.image.array, cmap='gray', vmin=0, vmax=2, origin='lower')\n",
    "plt.grid(color='white', ls='solid')\n",
    "plt.xlabel('Right Ascension')\n",
    "plt.ylabel('Declination')\n",
    "\n",
    "plt.subplot(1, 2, 2,  projection=WCS(calexp.getWcs().getFitsMetadata()))\n",
    "plt.imshow(calexp.image.array, cmap='gray', vmin=-10, vmax=100, origin='lower')\n",
    "plt.grid(color='white', ls='solid')\n",
    "plt.xlabel('Right Ascension')\n",
    "plt.ylabel('Declination')\n",
    "\n",
    "plt.show()"
   ]
  },
  {
   "cell_type": "markdown",
   "id": "b9fbdc69-bb94-4f40-a794-cef05524a503",
   "metadata": {},
   "source": [
    "## plot boxes for all overlapping visits\n",
    "\n",
    "demo how to get corners ra,dec"
   ]
  },
  {
   "cell_type": "code",
   "execution_count": null,
   "id": "2e45162f-4549-4f2d-8f7f-e94463ae4f72",
   "metadata": {},
   "outputs": [],
   "source": [
    "deepCoadd_bbox = butler.get('deepCoadd.bbox', dataId=dataId)\n",
    "calexp_bbox = butler.get('calexp.bbox', detector=use_detector, visit=use_visit)\n",
    "\n",
    "deepCoadd_wcs = butler.get('deepCoadd.wcs', dataId=dataId)\n",
    "calexp_wcs = butler.get('calexp.wcs', detector=use_detector, visit=use_visit)\n",
    "\n",
    "deepCoadd_meta = WCS(deepCoadd_wcs.getFitsMetadata())\n",
    "calexp_meta = WCS(calexp_wcs.getFitsMetadata())\n",
    "\n",
    "X0 = deepCoadd_bbox.beginX\n",
    "Y0 = deepCoadd_bbox.beginY\n",
    "X1 = deepCoadd_bbox.endX\n",
    "Y1 = deepCoadd_bbox.endY\n",
    "corners1 = [ deepCoadd_meta.pixel_to_world(X0, Y0), \n",
    "             deepCoadd_meta.pixel_to_world(X0, Y1), \n",
    "             deepCoadd_meta.pixel_to_world(X1, Y1), \n",
    "             deepCoadd_meta.pixel_to_world(X1, Y0) ]\n",
    "print('corners of the deepCoadd: ', corners1)\n",
    "del X0,Y0,X1,Y1\n",
    "\n",
    "X0 = calexp_bbox.beginX\n",
    "Y0 = calexp_bbox.beginY\n",
    "X1 = calexp_bbox.endX\n",
    "Y1 = calexp_bbox.endY\n",
    "corners2 = [ calexp_meta.pixel_to_world(X0, Y0), \n",
    "             calexp_meta.pixel_to_world(X0, Y1), \n",
    "             calexp_meta.pixel_to_world(X1, Y1), \n",
    "             calexp_meta.pixel_to_world(X1, Y0) ]\n",
    "print('corners of the calexp: ', corners2)\n",
    "del X0,Y0,X1,Y1\n",
    "\n",
    "del deepCoadd_bbox, calexp_bbox\n",
    "del deepCoadd_wcs, calexp_wcs\n",
    "del deepCoadd_meta, calexp_meta\n",
    "del corners2"
   ]
  },
  {
   "cell_type": "markdown",
   "id": "5ec256bb-db20-4dce-a2db-4f06462b3c06",
   "metadata": {},
   "source": [
    "put the deepCoadd corners in an array, for plotting later"
   ]
  },
  {
   "cell_type": "code",
   "execution_count": null,
   "id": "ab511b9a-263e-41e6-bfb9-8a0bebeb25e4",
   "metadata": {},
   "outputs": [],
   "source": [
    "corners_deepCoadd = np.zeros( (4,2), dtype='float' )\n",
    "\n",
    "corners_deepCoadd[0][0] = corners1[0].ra.deg\n",
    "corners_deepCoadd[1][0] = corners1[1].ra.deg\n",
    "corners_deepCoadd[2][0] = corners1[2].ra.deg\n",
    "corners_deepCoadd[3][0] = corners1[3].ra.deg\n",
    "corners_deepCoadd[0][1] = corners1[0].dec.deg\n",
    "corners_deepCoadd[1][1] = corners1[1].dec.deg\n",
    "corners_deepCoadd[2][1] = corners1[2].dec.deg\n",
    "corners_deepCoadd[3][1] = corners1[3].dec.deg\n",
    "\n",
    "del corners1"
   ]
  },
  {
   "cell_type": "markdown",
   "id": "c1b94f8c-e86d-4d9b-8aba-fa712d6fec42",
   "metadata": {},
   "source": [
    "get the corners for all the calexps that contributed to our coadd\n",
    "\n",
    "this takes 10 minutes :(  \n",
    "\n",
    "save the results to a file and load below"
   ]
  },
  {
   "cell_type": "code",
   "execution_count": null,
   "id": "172eb42f-23a9-4b12-8d7b-4fd6830d76f1",
   "metadata": {},
   "outputs": [],
   "source": [
    "# t1 = time.time()\n",
    "\n",
    "# corners_all_ccds = np.zeros( (len(coadd_inputs_ccds_table),4,2), dtype='float' )\n",
    "\n",
    "# for i, (ccd, visit) in enumerate(zip(coadd_inputs_ccds_table['ccd'], coadd_inputs_ccds_table['visit'])):\n",
    "#     if i == 10:\n",
    "#         t2 = time.time()\n",
    "#         print('time remaining: ', ((t2-t1)/10.0) * (len(coadd_inputs_ccds_table)-10.0) )\n",
    "    \n",
    "#     calexp_bbox = butler.get('calexp.bbox', detector=ccd, visit=visit)\n",
    "#     calexp_wcs = butler.get('calexp.wcs', detector=ccd, visit=visit)\n",
    "#     calexp_meta = WCS(calexp_wcs.getFitsMetadata())\n",
    "#     X0 = calexp_bbox.beginX\n",
    "#     Y0 = calexp_bbox.beginY\n",
    "#     X1 = calexp_bbox.endX\n",
    "#     Y1 = calexp_bbox.endY\n",
    "    \n",
    "#     corners_all_ccds[i][0][0] = calexp_meta.pixel_to_world(X0, Y0).ra.deg\n",
    "#     corners_all_ccds[i][1][0] = calexp_meta.pixel_to_world(X0, Y1).ra.deg\n",
    "#     corners_all_ccds[i][2][0] = calexp_meta.pixel_to_world(X1, Y1).ra.deg\n",
    "#     corners_all_ccds[i][3][0] = calexp_meta.pixel_to_world(X1, Y0).ra.deg\n",
    "#     corners_all_ccds[i][0][1] = calexp_meta.pixel_to_world(X0, Y0).dec.deg\n",
    "#     corners_all_ccds[i][1][1] = calexp_meta.pixel_to_world(X0, Y1).dec.deg\n",
    "#     corners_all_ccds[i][2][1] = calexp_meta.pixel_to_world(X1, Y1).dec.deg\n",
    "#     corners_all_ccds[i][3][1] = calexp_meta.pixel_to_world(X1, Y0).dec.deg\n",
    "    \n",
    "#     del calexp_bbox, calexp_wcs, calexp_meta\n",
    "#     del X0, X1, Y0, Y1\n",
    "\n",
    "# t3 = time.time()\n",
    "# print('time elapsed: ', t3-t1)\n",
    "# del t1,t2,t3\n",
    "\n",
    "# with open('corners_all_ccds.dat', 'wb') as f:\n",
    "#     np.save(f, corners_all_ccds)"
   ]
  },
  {
   "cell_type": "code",
   "execution_count": null,
   "id": "2835241e-b6d9-4950-9f05-363a099b55eb",
   "metadata": {},
   "outputs": [],
   "source": [
    "with open('corners_all_ccds.dat', 'rb') as f:\n",
    "    corners_all_ccds = np.load(f)"
   ]
  },
  {
   "cell_type": "markdown",
   "id": "15e37a3a-3948-44cc-864c-65591f25ba97",
   "metadata": {},
   "source": [
    "plot bounding box for coadd, overplot bounding box for input calexps"
   ]
  },
  {
   "cell_type": "code",
   "execution_count": null,
   "id": "17c58dad-017d-4a99-b823-1f9d0433a9b9",
   "metadata": {
    "tags": []
   },
   "outputs": [],
   "source": [
    "fig = plt.figure(figsize=(10,10))\n",
    "\n",
    "plt.plot( [corners_deepCoadd[0][0], \n",
    "           corners_deepCoadd[1][0], \n",
    "           corners_deepCoadd[2][0], \n",
    "           corners_deepCoadd[3][0], \n",
    "           corners_deepCoadd[0][0]], \n",
    "          [corners_deepCoadd[0][1], \n",
    "           corners_deepCoadd[1][1], \n",
    "           corners_deepCoadd[2][1], \n",
    "           corners_deepCoadd[3][1],\n",
    "           corners_deepCoadd[0][1]],\n",
    "          lw=4, alpha=0.3, color='grey' )\n",
    "\n",
    "for i in range(len(coadd_inputs_ccds_table)):    \n",
    "    plt.plot( [corners_all_ccds[i][0][0], \n",
    "               corners_all_ccds[i][1][0], \n",
    "               corners_all_ccds[i][2][0], \n",
    "               corners_all_ccds[i][3][0], \n",
    "               corners_all_ccds[i][0][0]], \n",
    "              [corners_all_ccds[i][0][1], \n",
    "               corners_all_ccds[i][1][1], \n",
    "               corners_all_ccds[i][2][1], \n",
    "               corners_all_ccds[i][3][1],\n",
    "               corners_all_ccds[i][0][1]],\n",
    "              lw=1, alpha=0.1, color='dodgerblue' )\n",
    "\n",
    "plt.xlabel( 'ra' )\n",
    "plt.ylabel( 'dec' )\n",
    "# plt.xlim([])\n",
    "# plt.ylim([])\n",
    "plt.title( 'deepCoadd (grey), input calexps (blue)' )\n",
    "plt.show()"
   ]
  },
  {
   "cell_type": "code",
   "execution_count": null,
   "id": "1adc2efa-e58f-4105-87aa-a1538ec00107",
   "metadata": {},
   "outputs": [],
   "source": []
  },
  {
   "cell_type": "markdown",
   "id": "7b4395c6-f17d-4d5e-9af7-0ebf22c40d34",
   "metadata": {},
   "source": [
    "## recreate the coadd with the calexps\n",
    "\n",
    "TBD"
   ]
  },
  {
   "cell_type": "code",
   "execution_count": null,
   "id": "7702d0a3-2fc4-4413-a207-77fd2fe42f9e",
   "metadata": {},
   "outputs": [],
   "source": []
  }
 ],
 "metadata": {
  "kernelspec": {
   "display_name": "LSST",
   "language": "python",
   "name": "lsst"
  },
  "language_info": {
   "codemirror_mode": {
    "name": "ipython",
    "version": 3
   },
   "file_extension": ".py",
   "mimetype": "text/x-python",
   "name": "python",
   "nbconvert_exporter": "python",
   "pygments_lexer": "ipython3",
   "version": "3.8.12"
  }
 },
 "nbformat": 4,
 "nbformat_minor": 5
}
