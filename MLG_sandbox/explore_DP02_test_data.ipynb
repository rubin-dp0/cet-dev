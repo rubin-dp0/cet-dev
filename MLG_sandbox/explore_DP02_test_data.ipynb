{
 "cells": [
  {
   "cell_type": "code",
   "execution_count": null,
   "id": "f2af2a38-cb79-4ec5-bc2b-f68a83f394b7",
   "metadata": {},
   "outputs": [],
   "source": [
    "import numpy as np\n",
    "import matplotlib\n",
    "import matplotlib.pyplot as plt\n",
    "import time\n",
    "\n",
    "import pandas\n",
    "pandas.set_option('display.max_rows', 1000)\n",
    "\n",
    "from lsst.rsp import get_tap_service, retrieve_query\n",
    "\n",
    "import lsst.daf.butler as dafButler\n",
    "\n",
    "import lsst.geom\n",
    "import lsst.afw.display as afwDisplay"
   ]
  },
  {
   "cell_type": "markdown",
   "id": "b121db84-cd95-4817-a707-0248c7dc4f77",
   "metadata": {},
   "source": [
    "# TAP\n",
    "\n",
    "## List all the tables"
   ]
  },
  {
   "cell_type": "code",
   "execution_count": null,
   "id": "183a6bb6-0c31-4fbe-a229-090fe3b66051",
   "metadata": {},
   "outputs": [],
   "source": [
    "# service = get_tap_service()"
   ]
  },
  {
   "cell_type": "code",
   "execution_count": null,
   "id": "3f9f7590-28f4-4d9b-b0c6-bd77815898a9",
   "metadata": {},
   "outputs": [],
   "source": [
    "# results = service.search(\"SELECT description, table_name FROM TAP_SCHEMA.tables\")\n",
    "# results_tab = results.to_table()\n",
    "# results_tab"
   ]
  },
  {
   "cell_type": "markdown",
   "id": "cf98fc0a-3cd1-4d1f-9706-c640aa6fc72c",
   "metadata": {},
   "source": [
    "## Which RA/Dec are covered by this test area? Use Object table to find out.\n",
    "\n",
    "Using our typical central-to-DC2 coordinates as a default search region doesn't work, so just grab a bunch of bright Objects and see where they are."
   ]
  },
  {
   "cell_type": "code",
   "execution_count": null,
   "id": "dbef1736-0032-42cd-9db4-a7ac6ffd65c2",
   "metadata": {},
   "outputs": [],
   "source": [
    "# results = service.search(\"SELECT * from TAP_SCHEMA.columns WHERE table_name = 'dp02_test_PREOPS863_00.Object'\")\n",
    "# print(results.fieldnames)"
   ]
  },
  {
   "cell_type": "code",
   "execution_count": null,
   "id": "8eb53f80-f30c-4b31-a73f-980dd8cc4f0a",
   "metadata": {},
   "outputs": [],
   "source": [
    "# results = service.search(\"SELECT column_name, datatype, description, unit from TAP_SCHEMA.columns \"\\\n",
    "#                          \"WHERE table_name = 'dp02_test_PREOPS863_00.Object'\")\n",
    "# results.to_table().to_pandas()"
   ]
  },
  {
   "cell_type": "code",
   "execution_count": null,
   "id": "eb8ef879-ca3a-42b5-ad56-16947265affb",
   "metadata": {},
   "outputs": [],
   "source": [
    "# results = service.search(\"SELECT coord_ra, coord_dec, detect_isPrimary, r_calibFlux \"\\\n",
    "#                          \"FROM dp02_test_PREOPS863_00.Object \"\\\n",
    "#                          \"WHERE detect_isPrimary = 1 AND r_calibFlux > 1000000 \", \\\n",
    "#                          maxrec=100000)\n",
    "# results_tab = results.to_table()"
   ]
  },
  {
   "cell_type": "code",
   "execution_count": null,
   "id": "b40c9214-6eee-45a6-a94b-44115b3f2982",
   "metadata": {},
   "outputs": [],
   "source": [
    "# print(len(results_tab))\n",
    "# results_tab"
   ]
  },
  {
   "cell_type": "code",
   "execution_count": null,
   "id": "ff7dc5ee-aef0-4dc8-924d-634ace63d67e",
   "metadata": {},
   "outputs": [],
   "source": [
    "# plt.plot( results_tab['coord_ra'], results_tab['coord_dec'], 'o', ms=3, alpha=0.3, mew=0 )"
   ]
  },
  {
   "cell_type": "markdown",
   "id": "daea182b-2073-49cd-a10c-1820dea93aec",
   "metadata": {},
   "source": [
    "So we can use 57.5, -36.5. as the approximate central coordinate for searches when needed."
   ]
  },
  {
   "cell_type": "markdown",
   "id": "b7a1d977-548f-4fb3-a215-fc422158094c",
   "metadata": {},
   "source": [
    "## DiaObject"
   ]
  },
  {
   "cell_type": "code",
   "execution_count": null,
   "id": "41d67e37-9110-4ff0-bc57-a66a5427d5b0",
   "metadata": {},
   "outputs": [],
   "source": [
    "# results = service.search(\"SELECT column_name, datatype, description, unit from TAP_SCHEMA.columns \"\\\n",
    "#                          \"WHERE table_name = 'dp02_test_PREOPS863_00.DiaObject'\")\n",
    "# results.to_table().to_pandas()"
   ]
  },
  {
   "cell_type": "code",
   "execution_count": null,
   "id": "a44c8bbc-0541-404a-b60c-f4beca97e76d",
   "metadata": {},
   "outputs": [],
   "source": [
    "# results = service.search(\"SELECT ra, decl, diaObjectId, nDiaSources, \"\n",
    "#                          \"scisql_fluxToAbMag(gPSFluxMax/1e32) AS gPSMagMin, \"\n",
    "#                          \"scisql_fluxToAbMag(rPSFluxMax/1e32) AS rPSMagMin, \"\n",
    "#                          \"scisql_fluxToAbMag(iPSFluxMax/1e32) AS iPSMagMin \"\n",
    "#                          \"FROM dp02_test_PREOPS863_00.DiaObject \"\\\n",
    "#                          \"WHERE scisql_fluxToAbMag(gPSFluxMax/1e32) > 14 \"\n",
    "#                          \"AND scisql_fluxToAbMag(gPSFluxMax/1e32) < 24 \"\n",
    "#                          \"AND scisql_fluxToAbMag(rPSFluxMax/1e32) > 14 \"\n",
    "#                          \"AND scisql_fluxToAbMag(rPSFluxMax/1e32) < 24 \"\n",
    "#                          \"AND scisql_fluxToAbMag(iPSFluxMax/1e32) > 14 \"\n",
    "#                          \"AND scisql_fluxToAbMag(iPSFluxMax/1e32) < 24 \"\n",
    "#                          \"AND CONTAINS(POINT('ICRS', ra, decl), CIRCLE('ICRS', 57.5, -36.5, 0.5)) = 1 \", maxrec=10000)\n",
    "# DiaObjs = results.to_table()\n",
    "# del results"
   ]
  },
  {
   "cell_type": "code",
   "execution_count": null,
   "id": "a6290b61-1aa2-48f0-ad7f-ba273877d1e2",
   "metadata": {},
   "outputs": [],
   "source": [
    "# print(len(DiaObjs))"
   ]
  },
  {
   "cell_type": "code",
   "execution_count": null,
   "id": "0d8fc593-07c7-4172-a840-f1b016d77fd9",
   "metadata": {},
   "outputs": [],
   "source": [
    "# DiaObjs['rPSMagMean'] = -2.50 * np.log10(DiaObjs['rPSFluxMean']) + 31.4"
   ]
  },
  {
   "cell_type": "code",
   "execution_count": null,
   "id": "dd561695-8ca3-409c-9ce9-e63bdb3aa6c9",
   "metadata": {},
   "outputs": [],
   "source": [
    "# DiaObjs"
   ]
  },
  {
   "cell_type": "markdown",
   "id": "2d67440a-3db2-43ee-9987-ee6d30321937",
   "metadata": {},
   "source": [
    "## DiaSource"
   ]
  },
  {
   "cell_type": "code",
   "execution_count": null,
   "id": "0b854a34-a7aa-4e13-93aa-3a0da3e645ce",
   "metadata": {},
   "outputs": [],
   "source": [
    "# results = service.search(\"SELECT column_name, datatype, description, unit from TAP_SCHEMA.columns \"\\\n",
    "#                          \"WHERE table_name = 'dp02_test_PREOPS863_00.DiaSource'\")\n",
    "# results.to_table().to_pandas()"
   ]
  },
  {
   "cell_type": "markdown",
   "id": "30007318-a350-4697-be25-bb17183a8420",
   "metadata": {},
   "source": [
    "## Truth"
   ]
  },
  {
   "cell_type": "code",
   "execution_count": null,
   "id": "776e0028-be45-4dd8-ac5f-2b32fcce67d5",
   "metadata": {},
   "outputs": [],
   "source": [
    "# results = service.search(\"SELECT column_name, datatype, description, unit from TAP_SCHEMA.columns \"\\\n",
    "#                          \"WHERE table_name = 'dp01_dc2_catalogs.truth_match'\")\n",
    "# results.to_table().to_pandas()"
   ]
  },
  {
   "cell_type": "code",
   "execution_count": null,
   "id": "5bc364f0-fb0d-4ba2-b862-ae2bb2b6b191",
   "metadata": {},
   "outputs": [],
   "source": [
    "# query = \"SELECT id, ra, dec, match_objectId, truth_type, redshift, mag_r \"\\\n",
    "#         \"FROM dp01_dc2_catalogs.truth_match \"\\\n",
    "#         \"WHERE CONTAINS(POINT('ICRS', ra, dec), CIRCLE('ICRS', 57.5, -36.5, 0.5)) = 1 \"\\\n",
    "#         \"AND redshift < 0.4 AND redshift > 0.01 AND truth_type = 3\"\n",
    "# print(query)"
   ]
  },
  {
   "cell_type": "code",
   "execution_count": null,
   "id": "b550d10b-5cf9-4778-913c-13ee53fd072b",
   "metadata": {},
   "outputs": [],
   "source": [
    "# t1 = time.time()\n",
    "# results = service.search(query, maxrec=10000)\n",
    "# t2 = time.time()\n",
    "# print('Time elapsed: ',t2-t1,' seconds')\n",
    "# print(len(results))\n",
    "\n",
    "# Truth = results.to_table()\n",
    "# del results"
   ]
  },
  {
   "cell_type": "code",
   "execution_count": null,
   "id": "3d6fc98e-7dce-4589-9f29-ceb91956a5d0",
   "metadata": {},
   "outputs": [],
   "source": [
    "# Truth"
   ]
  },
  {
   "cell_type": "code",
   "execution_count": null,
   "id": "22dafec7-4864-415c-9501-4f6418004c3d",
   "metadata": {},
   "outputs": [],
   "source": [
    "# fig = plt.figure(figsize=(14,14))\n",
    "# plt.plot(DiaObjs['ra'], DiaObjs['decl'], 'o', ms=8, alpha=0.8, mew=0, color='dodgerblue')\n",
    "# plt.plot(Truth['ra'], Truth['dec'], '*', ms=5, alpha=1, color='black')\n",
    "# plt.show()"
   ]
  },
  {
   "cell_type": "code",
   "execution_count": null,
   "id": "eb14821b-dd54-497c-8617-abf145b2c168",
   "metadata": {},
   "outputs": [],
   "source": [
    "# index_truth = []\n",
    "# index_diaobj = []\n",
    "\n",
    "# cosdec = np.cos(np.radians(36.6))\n",
    "# for i in range(len(Truth)):\n",
    "#     tx = np.where( (np.absolute(Truth['ra'][i] - DiaObjs['ra']) < 3.0/3600.0) & \\\n",
    "#                    (np.absolute(Truth['dec'][i] - DiaObjs['decl'])*cosdec < 3.0/3600.0)  )[0]\n",
    "#     if len(tx) > 0:\n",
    "#         index_truth.append(i)\n",
    "#         index_diaobj.append(tx[j])\n",
    "#         print('match: ', Truth['id'][i], Truth['redshift'][i], len(tx))\n",
    "#         for j in range(len(tx)):\n",
    "#             print([j],DiaObjs['diaObjectId'][tx[j]],\n",
    "#                   DiaObjs['gPSMagMin'][tx[j]], \n",
    "#                   DiaObjs['rPSMagMin'][tx[j]], \n",
    "#                   DiaObjs['iPSMagMin'][tx[j]])\n",
    "#     del tx"
   ]
  },
  {
   "cell_type": "code",
   "execution_count": null,
   "id": "a2671960-675c-4362-8881-0f0aee1c476d",
   "metadata": {},
   "outputs": [],
   "source": [
    "# all_filters = ['u','g','r','i','z','y']\n",
    "# all_filtclr = ['darkviolet','darkgreen','red','darkorange','brown','black']\n",
    "\n",
    "# fig, ax = plt.subplots( len(index_truth), figsize=(14,14), sharey=False, sharex=False )\n",
    "\n",
    "# for j in range(len(index_truth)):\n",
    "#     sel_diaObjectId = DiaObjs['diaObjectId'][index_diaobj[j]]\n",
    "#     results = service.search(\"SELECT ra, decl, diaObjectId, diaSourceId, filterName, midPointTai, psFlux, psFluxErr \"\n",
    "#                              \"FROM dp02_test_PREOPS863_00.DiaSource \"\n",
    "#                              \"WHERE diaObjectId = \"+str(sel_diaObjectId))\n",
    "#     results = results.to_table()\n",
    "#     results['psAbMag'] = -2.50 * np.log10(results['psFlux']) + 31.4\n",
    "    \n",
    "#     for f,filt in enumerate(all_filters):\n",
    "#         fx = np.where( results['filterName'] == filt )[0]\n",
    "#         ax[j].plot( results['midPointTai'][fx], results['psAbMag'][fx], 'o', ms=5, mew=0, alpha=0.8, color=all_filtclr[f] )\n",
    "    \n",
    "#     ax[j].set_ylim([np.max(results['psAbMag'])+0.3, np.min(results['psAbMag'])-0.3])\n",
    "    \n",
    "#     del results"
   ]
  },
  {
   "cell_type": "markdown",
   "id": "49d4a88f-b596-45d5-a606-f3444f3c97ba",
   "metadata": {},
   "source": [
    "<br><br>\n",
    "\n",
    "# Butler"
   ]
  },
  {
   "cell_type": "code",
   "execution_count": null,
   "id": "f4f5d225-a011-4ac3-80dc-69bf06e6649a",
   "metadata": {},
   "outputs": [],
   "source": [
    "repo = 's3://butler-us-central1-panda-dev/dc2/butler-external.yaml'"
   ]
  },
  {
   "cell_type": "markdown",
   "id": "9b3ca1f6-f930-494c-b4bb-29d140057a4c",
   "metadata": {},
   "source": [
    "If you want to see all the collections."
   ]
  },
  {
   "cell_type": "code",
   "execution_count": null,
   "id": "62bf6314-1f30-44ed-8ca9-66eee357c617",
   "metadata": {},
   "outputs": [],
   "source": [
    "# butler = dafButler.Butler(repo)\n",
    "# registry = butler.registry\n",
    "# for c in sorted(registry.queryCollections()):\n",
    "#     print(c)"
   ]
  },
  {
   "cell_type": "markdown",
   "id": "9a20af36-b528-4a94-9cff-16d10c912526",
   "metadata": {},
   "source": [
    "Recommended collection."
   ]
  },
  {
   "cell_type": "code",
   "execution_count": null,
   "id": "9cbed70f-9c79-4c68-9e4e-6bbed38ac76f",
   "metadata": {},
   "outputs": [],
   "source": [
    "collection = '2.2i/runs/test-med-1/v23_0_0_rc2/PREOPS-863'\n",
    "butler = dafButler.Butler(repo, collections=collection)\n",
    "registry = butler.registry"
   ]
  },
  {
   "cell_type": "code",
   "execution_count": null,
   "id": "ca8eebaf-ea98-471e-9815-dd89c5a74c9f",
   "metadata": {},
   "outputs": [],
   "source": [
    "for c in sorted(registry.queryCollections(collection, flattenChains=True)):\n",
    "    print(c, registry.getCollectionType(c))"
   ]
  },
  {
   "cell_type": "code",
   "execution_count": null,
   "id": "83b4afaa-71d3-4a56-a3c9-a7f80b038df3",
   "metadata": {},
   "outputs": [],
   "source": [
    "for x in sorted(registry.queryDatasetTypes()):\n",
    "    print(x)"
   ]
  },
  {
   "cell_type": "code",
   "execution_count": null,
   "id": "e8faa7a0-b46a-4fb3-8b96-820efb3a39ad",
   "metadata": {},
   "outputs": [],
   "source": []
  }
 ],
 "metadata": {
  "kernelspec": {
   "display_name": "LSST",
   "language": "python",
   "name": "lsst"
  },
  "language_info": {
   "codemirror_mode": {
    "name": "ipython",
    "version": 3
   },
   "file_extension": ".py",
   "mimetype": "text/x-python",
   "name": "python",
   "nbconvert_exporter": "python",
   "pygments_lexer": "ipython3",
   "version": "3.8.12"
  }
 },
 "nbformat": 4,
 "nbformat_minor": 5
}
