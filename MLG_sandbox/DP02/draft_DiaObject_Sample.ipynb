{
 "cells": [
  {
   "cell_type": "markdown",
   "id": "749b0ddf",
   "metadata": {},
   "source": [
    "<img align=\"left\" src = https://project.lsst.org/sites/default/files/Rubin-O-Logo_0.png width=250 style=\"padding: 10px\"> \n",
    "<b>DiaObject Sample Identification</b> <br>\n",
    "Contact author: Melissa Graham <br>\n",
    "Last verified to run: <i>yyyy-mm-dd</i> <br>\n",
    "LSST Science Piplines version: Weekly <i>yyyy_xx</i> <br>\n",
    "Container Size: medium <br>\n",
    "Targeted learning level: intermediate <br>"
   ]
  },
  {
   "cell_type": "raw",
   "id": "1aaf1e41-a215-4ed4-b7b6-596ef98c44b5",
   "metadata": {},
   "source": [
    "known issues to fix:\n",
    " - scisql_fluxToAbMag(flux/1e32)"
   ]
  },
  {
   "cell_type": "code",
   "execution_count": null,
   "id": "7acc79a4-8530-42d9-96e5-b7acb4397864",
   "metadata": {},
   "outputs": [],
   "source": [
    "# %load_ext pycodestyle_magic\n",
    "# %flake8_on\n",
    "# import logging\n",
    "# logging.getLogger(\"flake8\").setLevel(logging.FATAL)"
   ]
  },
  {
   "cell_type": "markdown",
   "id": "9da1a210-d858-42fe-8591-570965b8be1a",
   "metadata": {},
   "source": [
    "**Description:** To use the DiaObject catalog parameters to identify samples of time-variable objects of interest."
   ]
  },
  {
   "cell_type": "markdown",
   "id": "80a0baf5-51ad-40ec-8991-060a7b27c289",
   "metadata": {},
   "source": [
    "**Skills:** Use the TAP service. Use the DP0.2 time-domain catalogs."
   ]
  },
  {
   "cell_type": "markdown",
   "id": "393da88f-7978-4920-aa4a-a9830df6eed9",
   "metadata": {},
   "source": [
    "**LSST Data Products:** DP0.2 DiaObject and DiaSource table data."
   ]
  },
  {
   "cell_type": "markdown",
   "id": "5c67fab9-136a-4adc-bb42-142b91ab69dd",
   "metadata": {},
   "source": [
    "**Packages:** lsst.rsp, astropy.cosmology, numpy, matplotlib"
   ]
  },
  {
   "cell_type": "markdown",
   "id": "8f72b27f",
   "metadata": {},
   "source": [
    "**Credit:** Originally developed by Melissa Graham and the Rubin Community Engagement Team for Data Preview 0. Please consider acknowledging them if this notebook is used for the preparation of journal articles, software releases, or other notebooks."
   ]
  },
  {
   "cell_type": "markdown",
   "id": "28e91cbf-ab7f-4e26-9276-b00299d6065e",
   "metadata": {},
   "source": [
    "**Get Support:**\n",
    "Find DP0-related documentation and resources at <a href=\"https://dp0-2.lsst.io\">dp0-1.lsst.io</a>. Questions are welcome as new topics in the <a href=\"https://community.lsst.org/c/support/dp0\">Support - Data Preview 0 Category</a> of the Rubin Community Forum. Rubin staff will respond to all questions posted there."
   ]
  },
  {
   "cell_type": "markdown",
   "id": "cfc73be0",
   "metadata": {},
   "source": [
    "## 1. Introduction\n",
    "\n",
    "This notebook guides the use of DiaObject summary parameters to identify samples of objects for further study.\n",
    "\n",
    "Learn more about the contents of the DiaObject and DiaSource tables in the <a href=\"https://dp0-2.lsst.io\">DP0.2 Documentation</a>."
   ]
  },
  {
   "cell_type": "markdown",
   "id": "dc36f107",
   "metadata": {},
   "source": [
    "### 1.1. Package Imports\n",
    "\n",
    "**lsst.rsp:** The LSST Science Pipelines package for RSP functionality such as the TAP service (<a href=\"http://pipelines.lsst.io\">pipelines.lsst.io</a>).\n",
    "\n",
    "**astropy.cosmology:** An open-source package of cosmology tools (<a href=\"https://docs.astropy.org/en/stable/cosmology/index.html\"> the astropy cosmology documentation</a>)."
   ]
  },
  {
   "cell_type": "code",
   "execution_count": null,
   "id": "cddc1458",
   "metadata": {},
   "outputs": [],
   "source": [
    "import time\n",
    "\n",
    "import numpy\n",
    "import matplotlib.pyplot as plt\n",
    "plt.style.use('tableau-colorblind10')\n",
    "\n",
    "from lsst.rsp import get_tap_service\n",
    "\n",
    "from astropy.cosmology import FlatLambdaCDM\n",
    "cosmo = FlatLambdaCDM(H0=70, Om0=0.3)"
   ]
  },
  {
   "cell_type": "markdown",
   "id": "c217adff-25ed-4fce-95e7-8aa04630f6cc",
   "metadata": {},
   "source": [
    "### 1.2. Define functions and parameters"
   ]
  },
  {
   "cell_type": "markdown",
   "id": "7cc807cf-3937-4a92-9fc8-9efbf8827447",
   "metadata": {},
   "source": [
    "Start the TAP service."
   ]
  },
  {
   "cell_type": "code",
   "execution_count": null,
   "id": "6e32778c-067e-41c3-a777-dcc4128d7de4",
   "metadata": {},
   "outputs": [],
   "source": [
    "service = get_tap_service()"
   ]
  },
  {
   "cell_type": "markdown",
   "id": "b6a8c049-2ea5-4370-b80e-8d2df94464ee",
   "metadata": {},
   "source": [
    "Set a few parameters to use when plotting lightcurves."
   ]
  },
  {
   "cell_type": "code",
   "execution_count": null,
   "id": "5a72c70e-e682-458c-8aeb-56ecfb4567f2",
   "metadata": {},
   "outputs": [],
   "source": [
    "plot_filter_labels = ['u', 'g', 'r', 'i', 'z', 'y']\n",
    "plot_filter_colors = ['darkviolet', 'darkgreen', 'firebrick', 'darkorange', 'brown', 'black']\n",
    "plot_filter_symbols = ['o', '^', 'v', 's', '*', 'p']"
   ]
  },
  {
   "cell_type": "markdown",
   "id": "7b7a23cf-6498-4d36-9a62-a04831371a48",
   "metadata": {},
   "source": [
    "## 2. Understand the DiaObject parameters\n",
    "\n",
    "Option to print all of the available column names for the DiaObject table."
   ]
  },
  {
   "cell_type": "code",
   "execution_count": null,
   "id": "38a09fd0-fa4c-4a2a-8320-25f5955d8818",
   "metadata": {},
   "outputs": [],
   "source": [
    "# results = service.search(\"SELECT column_name from TAP_SCHEMA.columns \"\\\n",
    "#                          \"WHERE table_name = 'dp02_dc2_catalogs.DiaObject'\")\n",
    "# for column_name in results['column_name']:\n",
    "#     print(column_name)"
   ]
  },
  {
   "cell_type": "markdown",
   "id": "a1286bda-77bd-44f1-b46a-d991515212ec",
   "metadata": {},
   "source": [
    "**Brief descriptions for a selection of the DiaObject parameters.**\n",
    "\n",
    "nDiaSources --> The number of difference-image detections.\n",
    " \n",
    "The following are all statistics of the _detected difference-image point source (PS) flux values_ for each filter [f].<br>\n",
    "[f]PSFluxMin --> The faintest flux. <br>\n",
    "[f]PSFluxMax --> The brightest flux. <br>\n",
    "[f]PSFluxMean --> The average flux. <br>\n",
    "[f]PSFluxSigma --> The standard deviation of the fluxes. <br>\n",
    "[f]PSFluxMAD --> The mean absolute deviation of the fluxes (i.e., the average distance from the mean). <br>\n",
    "[f]PSFluxChi2 --> The Chi2 statistic for the scatter of the fluxes around the mean. <br>\n",
    "[f]PSFluxNdata --> The number of data points used to compute [f]PSFluxChi2. <br>\n",
    "[f]PSFluxSkew --> A measure of asymmentry in the distribution of fluxes about the mean (where 0 means symmetric). <br>\n",
    "[f]PSFluxStetsonJ --> A variability index developed for Cepheids (defined in <a href=\"https://ui.adsabs.harvard.edu/abs/1996PASP..108..851S/abstract\">Stetson 1996</a>). <br>\n",
    "[f]PSFluxPercentile05, 25, 50, 75, 95 --> Derived from the cumulative distribution of flux values. <br>\n",
    "\n",
    "The following are statistics of the _total (TOT) direct-image flux values_ for each filter [f]. <br>\n",
    "[f]TOTFluxMean --> The average flux.  <br>\n",
    "[f]TOTFluxSigma --> The standard deviation of the fluxes.  <br>\n",
    "\n",
    "> **Note:** The DP0.2 DiaObject table is missing some variability characterization parameters (<a href=\"https://dmtn-118.lsst.io\">DMTN-118</a>) and host association parameters (<a href=\"https://dmtn-151.lsst.io\">DMTN-151</a>) which will exist for future data releases.\n"
   ]
  },
  {
   "cell_type": "markdown",
   "id": "e56a765a-29c7-49cc-bc30-dcabf9d29514",
   "metadata": {},
   "source": [
    "### 2.1. Retrieve a random sample of DiaObjects"
   ]
  },
  {
   "cell_type": "code",
   "execution_count": null,
   "id": "c7b6649d-002c-46d7-8137-88dcb43c7bdb",
   "metadata": {},
   "outputs": [],
   "source": [
    "%%time\n",
    "\n",
    "results = service.search(\"SELECT ra, decl, diaObjectId, nDiaSources, \"\n",
    "                         \"rPSFluxMin, rPSFluxMax, rPSFluxMean, rPSFluxSigma, \"\n",
    "                         \"rPSFluxMAD, rPSFluxChi2, rPSFluxNdata, rPSFluxSkew, \"\n",
    "                         \"rPSFluxStetsonJ, rPSFluxPercentile05, rPSFluxPercentile25, \"\n",
    "                         \"rPSFluxPercentile50, rPSFluxPercentile75, rPSFluxPercentile95, \"\n",
    "                         \"rTOTFluxMean, rTOTFluxSigma \"\n",
    "                         \"FROM dp02_dc2_catalogs.DiaObject \",\n",
    "                         maxrec=100000)\n",
    "\n",
    "DiaObjs = results.to_table()\n",
    "del results"
   ]
  },
  {
   "cell_type": "markdown",
   "id": "73d454f2-ad25-422f-b090-173f0ea7b866",
   "metadata": {},
   "source": [
    "### 2.2. Plot histograms to characterize the DiaObject parameters\n",
    "\n",
    "Below, the left plot shows the distribution of the number of DiaSources per DiaObject (i.e., the total number of difference-image detections in any filter), and the right plot shows the distribution of the number of r-band DiaSources per DiaObject."
   ]
  },
  {
   "cell_type": "code",
   "execution_count": null,
   "id": "d5b24c43-caae-49aa-af04-be5bbec4210d",
   "metadata": {},
   "outputs": [],
   "source": [
    "fig, ax = plt.subplots( 1,2, figsize=(10,3), sharey=False, sharex=False)\n",
    "\n",
    "ax[0].hist(DiaObjs['nDiaSources'], bins=50, log=True, color='grey')\n",
    "ax[0].set_xlabel('nDiaSources')\n",
    "ax[0].set_ylabel('log(Number of DiaObjects)')\n",
    "\n",
    "ax[1].hist(DiaObjs['rPSFluxNdata'], bins=50, log=True, color=plot_filter_colors[2])\n",
    "ax[1].set_xlabel('rPSFluxNdata')\n",
    "\n",
    "plt.show()"
   ]
  },
  {
   "cell_type": "markdown",
   "id": "360c31db-1ac4-45c7-b0b6-499d5d99292c",
   "metadata": {},
   "source": [
    "Below, a grid of distributions of the DiaObject parameters derived from the PS fluxes from the difference-image detections. Note that the PS fluxes can be negative because they are measured on the difference images."
   ]
  },
  {
   "cell_type": "code",
   "execution_count": null,
   "id": "4b119d72-6caa-4c7c-b122-d834d58b1314",
   "metadata": {},
   "outputs": [],
   "source": [
    "fig, ax = plt.subplots( 2,4, figsize=(14,6), sharey=False, sharex=False)\n",
    "        \n",
    "ax[0,0].hist(DiaObjs['rPSFluxMin'], bins=50, log=True, color='grey')\n",
    "ax[0,0].set_xlabel('rPSFluxMin')\n",
    "ax[0,0].set_ylabel('log(Number of DiaObjects)')\n",
    "ax[0,1].hist(DiaObjs['rPSFluxMax'], bins=50, log=True, color='grey')\n",
    "ax[0,1].set_xlabel('rPSFluxMax')\n",
    "ax[0,2].hist(DiaObjs['rPSFluxMean'], bins=50, log=True, color='grey')\n",
    "ax[0,2].set_xlabel('rPSFluxMean')\n",
    "ax[0,3].hist(DiaObjs['rPSFluxSigma'], bins=50, log=True, color='grey')\n",
    "ax[0,3].set_xlabel('rPSFluxSigma')\n",
    "\n",
    "ax[1,0].hist(DiaObjs['rPSFluxMAD'], bins=50, log=True, color='grey')\n",
    "ax[1,0].set_xlabel('rPSFluxMAD')\n",
    "ax[1,0].set_ylabel('log(Number of DiaObjects)')\n",
    "ax[1,1].hist(DiaObjs['rPSFluxChi2'], bins=50, log=True, color='grey')\n",
    "ax[1,1].set_xlabel('rPSFluxChi2')\n",
    "ax[1,2].hist(DiaObjs['rPSFluxSkew'], bins=50, log=True, color='grey')\n",
    "ax[1,2].set_xlabel('rPSFluxSkew')\n",
    "ax[1,3].hist(DiaObjs['rPSFluxStetsonJ'], bins=50, log=True, color='grey')\n",
    "ax[1,3].set_xlabel('rPSFluxStetsonJ')\n",
    "\n",
    "plt.tight_layout()\n",
    "plt.show()"
   ]
  },
  {
   "cell_type": "markdown",
   "id": "a63b9b17-e4d8-4a03-91a4-5c59f18f5668",
   "metadata": {},
   "source": [
    "Below, the distributions of the DiaObject parameters (mean and sigma) derived from the total fluxes from the direct-images. Note that the TOT fluxes _cannot be_ negative because they are measured on the direct images."
   ]
  },
  {
   "cell_type": "code",
   "execution_count": null,
   "id": "8970a042-5155-4652-a161-617a2bd3acab",
   "metadata": {},
   "outputs": [],
   "source": [
    "fig, ax = plt.subplots( 1,2, figsize=(8,3), sharey=False, sharex=False)\n",
    "\n",
    "ax[0].hist(DiaObjs['rTOTFluxMean'], bins=50, log=True, color='grey')\n",
    "ax[0].set_xlabel('rTOTFluxMean')\n",
    "ax[0].set_ylabel('log(Number of DiaObjects)')\n",
    "ax[1].hist(DiaObjs['rTOTFluxSigma'], bins=50, log=True, color='grey')\n",
    "ax[1].set_xlabel('rTOTFluxSigma')\n",
    "\n",
    "plt.tight_layout()\n",
    "plt.show()"
   ]
  },
  {
   "cell_type": "markdown",
   "id": "cb77e8c5-79a0-485d-b1e1-d07e4971efe2",
   "metadata": {},
   "source": [
    "### 2.3. Investigate one random, bright, well-sampled DiaObject\n",
    "\n",
    "Choose a DiaObject that was detected >40 times in an r-band difference image, had an average total (direct-image) flux > 1e6, and an average PS difference-image flux > 5e5."
   ]
  },
  {
   "cell_type": "code",
   "execution_count": null,
   "id": "c45cc504-1e97-492d-80e3-69d8ce913a2d",
   "metadata": {},
   "outputs": [],
   "source": [
    "tx = numpy.where((DiaObjs['rPSFluxNdata'] > 40) & \\\n",
    "                 (DiaObjs['rTOTFluxMean'] > 1000000) & \\\n",
    "                 (DiaObjs['rPSFluxMean'] > 500000))[0]\n",
    "\n",
    "use_index = tx[0]\n",
    "use_diaObjectId = DiaObjs['diaObjectId'][tx[0]]\n",
    "del tx"
   ]
  },
  {
   "cell_type": "markdown",
   "id": "9b0aec16-2c06-4533-8168-6ca66f2239c0",
   "metadata": {},
   "source": [
    "Retrieve the lightcurve from the DiaSource table."
   ]
  },
  {
   "cell_type": "code",
   "execution_count": null,
   "id": "704b36c9-1929-468a-9337-bb71f50dcb5d",
   "metadata": {},
   "outputs": [],
   "source": [
    "results = service.search(\"SELECT ra, decl, diaObjectId, diaSourceId, \"\n",
    "                         \"filterName, midPointTai, psFlux, totFlux \"\n",
    "                         \"FROM dp02_dc2_catalogs.DiaSource \"\n",
    "                         \"WHERE diaObjectId = \"+str(use_diaObjectId))\n",
    "\n",
    "DiaSrcs = results.to_table()\n",
    "del results\n",
    "\n",
    "fx = numpy.where(DiaSrcs['filterName'] == 'r')[0]"
   ]
  },
  {
   "cell_type": "markdown",
   "id": "de36bdd9-555b-4a14-90ef-015ddf1a0738",
   "metadata": {},
   "source": [
    "Below, plot the difference-image (PSFlux) and direct-image (TOTFlux) lightcurves."
   ]
  },
  {
   "cell_type": "code",
   "execution_count": null,
   "id": "57166c37-81f7-478d-a2db-5aad76820427",
   "metadata": {},
   "outputs": [],
   "source": [
    "fig, ax = plt.subplots( 2, figsize=(14,6), sharey=False, sharex=False)\n",
    "\n",
    "ax[0].plot(DiaSrcs['midPointTai'][fx], DiaSrcs['psFlux'][fx], \n",
    "           plot_filter_symbols[2], ms=15, mew=0, alpha=0.5, color=plot_filter_colors[2])\n",
    "ax[0].axhline(DiaObjs['rPSFluxMin'][use_index])\n",
    "ax[0].axhline(DiaObjs['rPSFluxMax'][use_index])\n",
    "ax[0].axhline(DiaObjs['rPSFluxMean'][use_index], ls='dashed')\n",
    "ax[0].axhline(DiaObjs['rPSFluxMean'][use_index] - DiaObjs['rPSFluxSigma'][use_index], ls='dotted')\n",
    "ax[0].axhline(DiaObjs['rPSFluxMean'][use_index] + DiaObjs['rPSFluxSigma'][use_index], ls='dotted')\n",
    "ax[0].set_xlabel('Modified Julian Date')\n",
    "ax[0].set_ylabel('PS Flux')\n",
    "ax[0].set_title('Difference-Image PS Flux r-band Lightcurve')\n",
    "\n",
    "ax[1].plot(DiaSrcs['midPointTai'][fx], DiaSrcs['totFlux'][fx], \n",
    "         plot_filter_symbols[2], ms=15, mew=0, alpha=0.5, color=plot_filter_colors[2])\n",
    "ax[1].axhline(DiaObjs['rTOTFluxMean'][use_index], ls='dashed')\n",
    "ax[1].axhline(DiaObjs['rTOTFluxMean'][use_index] - DiaObjs['rTOTFluxSigma'][use_index], ls='dotted')\n",
    "ax[1].axhline(DiaObjs['rTOTFluxMean'][use_index] + DiaObjs['rTOTFluxSigma'][use_index], ls='dotted')\n",
    "ax[1].set_xlabel('Modified Julian Date')\n",
    "ax[1].set_ylabel('Total Flux')\n",
    "ax[1].set_title('Direct-Image Total Flux r-band Lightcurve')\n",
    "\n",
    "plt.tight_layout()\n",
    "plt.show()\n",
    "\n",
    "print('Above, solid lines mark the DiaObject minimum and maximum flux; '\\\n",
    "      'dashed lines the average flux, and dotted lines the standard deviation in flux.')"
   ]
  },
  {
   "cell_type": "markdown",
   "id": "592a9baa-74a0-41cc-810e-3c8b3ac4df07",
   "metadata": {},
   "source": [
    "<br>\n",
    "\n",
    "Below, plot the distribution (left) and normalized cumulative distribution (right) of difference-image fluxes (PSFlux), along with the relevant DiaObject characterization parameters (e.g., mean, sigma, and percentiles)."
   ]
  },
  {
   "cell_type": "code",
   "execution_count": null,
   "id": "560af696-3468-4c77-aa47-71027f2c131d",
   "metadata": {},
   "outputs": [],
   "source": [
    "fig, ax = plt.subplots( 1,2, figsize=(14,4), sharey=False, sharex=False)\n",
    "\n",
    "ax[0].hist(DiaSrcs['psFlux'][fx], bins=20, color=plot_filter_colors[2])\n",
    "ax[0].axvline(DiaObjs['rPSFluxMean'][use_index], ls='dashed')\n",
    "ax[0].axvline(DiaObjs['rPSFluxMean'][use_index] - DiaObjs['rPSFluxSigma'][use_index], ls='dotted')\n",
    "ax[0].axvline(DiaObjs['rPSFluxMean'][use_index] + DiaObjs['rPSFluxSigma'][use_index], ls='dotted')\n",
    "ax[0].set_xlabel('r-band PS Flux')\n",
    "ax[0].set_ylabel('Number of DiaSources')\n",
    "ax[0].set_title('Distribution of r-band PS Fluxes (skew = '+str(DiaObjs['rPSFluxSkew'][use_index])+')')\n",
    "\n",
    "ax[1].hist(DiaSrcs['psFlux'][fx], bins=len(fx), color=plot_filter_colors[2],\\\n",
    "           cumulative=True, density=True, histtype='step')\n",
    "ax[1].plot(DiaObjs['rPSFluxPercentile05'][use_index], 0.05, '*', ms=10, color='black', \\\n",
    "           label='percentiles: 0.05, 0.25, 0.50, 0.75, and 0.95')\n",
    "ax[1].plot(DiaObjs['rPSFluxPercentile25'][use_index], 0.25, '*', ms=10, color='black')\n",
    "ax[1].plot(DiaObjs['rPSFluxPercentile50'][use_index], 0.50, '*', ms=10, color='black')\n",
    "ax[1].plot(DiaObjs['rPSFluxPercentile75'][use_index], 0.75, '*', ms=10, color='black')\n",
    "ax[1].plot(DiaObjs['rPSFluxPercentile95'][use_index], 0.95, '*', ms=10, color='black')\n",
    "ax[1].set_xlabel('r-band PS Flux')\n",
    "ax[1].set_ylabel('Cumulative Fraction of DiaSources')\n",
    "ax[1].set_title('Normalized Cumulative Distribution of r-band PS Fluxes')\n",
    "ax[1].legend(loc='upper left')\n",
    "\n",
    "plt.tight_layout()\n",
    "plt.show()\n",
    "\n",
    "print('Above left, dashed lines mark the average flux and dotted lines the standard deviation in flux.')"
   ]
  },
  {
   "cell_type": "markdown",
   "id": "f28be602-fdbb-40cb-b4b1-56a2259a39ae",
   "metadata": {},
   "source": [
    "Clean up."
   ]
  },
  {
   "cell_type": "code",
   "execution_count": null,
   "id": "656f5166-84ce-415a-a9e4-eadcb90ccc13",
   "metadata": {},
   "outputs": [],
   "source": [
    "del DiaObjs, DiaSrcs, fx"
   ]
  },
  {
   "cell_type": "markdown",
   "id": "ec51ac0b",
   "metadata": {
    "tags": []
   },
   "source": [
    "## 3. Identify a Type Ia Supernova sample\n",
    "\n",
    "For this example, a sample of potential low-redshift Type Ia supernovae (SNIa) are identified.\n",
    "\n",
    "Comared to other types of supernovae, SNIa have homogenous light curves with very similar peak absolute brightnesses (about -19 mag in B-band), and similar rise and decline times (i.e., similar durations for a given limiting magnitude).\n",
    "\n",
    "In LSST-like data sets such as the DC2 simulation, low-redshift SNIa (0.1 < _z_ < 0.3)\n",
    "\n",
    "**CONTINUE WRITING HERE**\n",
    "<br><br>\n",
    "\n",
    "### 3.1. Establish TAP query constraints for a SNIa sample\n",
    "\n",
    "\n",
    "\n",
    "#### 3.1.1 Apparent Magnitude\n",
    "\n",
    "Define the desired redshift boundaries, the approximate peak absolute magnitude for SNeIa, and the desired range in peak to consider.\n",
    "\n",
    "Use the astropy.cosmology package to convert redshift to distance modulus and define the range of peak apparent r-band magnitudes, assuming that Type Ia supernovae have an intrinsic brightness of about -19 magnitudes.\n",
    "\n",
    "Define maximum magnitudes in the g- and i-bands to enforce detection in at least the three filters g, r, and i.\n",
    "\n",
    "Define the r-band minimum and maximum lightcurve amplitudes to consider (i.e., the difference between the brightest and faintest detections in the difference image, in magnitudes)."
   ]
  },
  {
   "cell_type": "code",
   "execution_count": null,
   "id": "61f81c3b-e7ab-4d66-b534-97a0b477d3ce",
   "metadata": {},
   "outputs": [],
   "source": [
    "redshift_min = 0.1\n",
    "redshift_max = 0.3\n",
    "snia_peak_mag = -19.0\n",
    "snia_peak_mag_range = 0.5\n",
    "\n",
    "snia_peak_mr_min = cosmo.distmod(redshift_min).value + snia_peak_mag - snia_peak_mag_range\n",
    "snia_peak_mr_max = cosmo.distmod(redshift_max).value + snia_peak_mag + snia_peak_mag_range\n",
    "print('Min and max apparent r-band magnitudes are %5.2f and %5.2f mag.' %\n",
    "      (snia_peak_mr_min, snia_peak_mr_max))\n",
    "\n",
    "snia_peak_mg_max = 24.0\n",
    "snia_peak_mi_max = 24.0\n",
    "\n",
    "snia_rampl_min = 1.5\n",
    "snia_rampl_max = 6.0"
   ]
  },
  {
   "cell_type": "markdown",
   "id": "4a336a81-cceb-4488-bad7-6b6278c7720a",
   "metadata": {},
   "source": [
    "#### 3.1.2. Number of DiaSources\n",
    "\n",
    "The goal was to identify potential _well-sampled_ Type Ia supernovae, so define the minimum number of lightcurve points (number of DiaSources).\n",
    "\n",
    "Since the DC2 dataset was simulated using a baseline observing strategy (and does not include deep drilling fields), there are no more than 100 visits per year per field. Any DiaObject with >100 DiaSources had a duration >1 year, and is not a SNIa."
   ]
  },
  {
   "cell_type": "code",
   "execution_count": null,
   "id": "d83e88cb-2032-4641-a152-092670595fa6",
   "metadata": {},
   "outputs": [],
   "source": [
    "nDiaSources_min = 15\n",
    "nDiaSources_max = 100"
   ]
  },
  {
   "cell_type": "markdown",
   "id": "6c2c05d1-7f62-458c-b5e9-cb6a9f399a6d",
   "metadata": {},
   "source": [
    "### 3.2. Retrieve potential SNeIa from the DiaObjects table\n",
    "\n",
    "The query takes about a minute.\n",
    "\n",
    "When query completes, transfer the results to an astropy table."
   ]
  },
  {
   "cell_type": "code",
   "execution_count": null,
   "id": "81b8cd59-1ba3-4eaa-846f-6478ed0c3cf5",
   "metadata": {},
   "outputs": [],
   "source": [
    "%%time\n",
    "\n",
    "results = service.search(\"SELECT ra, decl, diaObjectId, nDiaSources, \"\n",
    "                         \"scisql_fluxToAbMag(rPSFluxMin/1e32) AS rMagMax, \"\n",
    "                         \"scisql_fluxToAbMag(rPSFluxMax/1e32) AS rMagMin, \"\n",
    "                         \"scisql_fluxToAbMag(gPSFluxMax/1e32) AS gMagMin, \"\n",
    "                         \"scisql_fluxToAbMag(iPSFluxMax/1e32) AS iMagMin, \"\n",
    "                         \"scisql_fluxToAbMag(rPSFluxMin/1e32) - scisql_fluxToAbMag(rPSFluxMax/1e32) AS rMagAmp \"\n",
    "                         \"FROM dp02_dc2_catalogs.DiaObject \"\n",
    "                         \"WHERE nDiaSources > \"+str(nDiaSources_min)+\" \"\n",
    "                         \"AND nDiaSources < \"+str(nDiaSources_max)+\" \"\n",
    "                         \"AND scisql_fluxToAbMag(rPSFluxMax/1e32) > \"+str(snia_peak_mr_min)+\" \"\n",
    "                         \"AND scisql_fluxToAbMag(rPSFluxMax/1e32) < \"+str(snia_peak_mr_max)+\" \"\n",
    "                         \"AND scisql_fluxToAbMag(gPSFluxMax/1e32) < \"+str(snia_peak_mg_max)+\" \"\n",
    "                         \"AND scisql_fluxToAbMag(iPSFluxMax/1e32) < \"+str(snia_peak_mi_max)+\" \"\n",
    "                         \"AND scisql_fluxToAbMag(rPSFluxMin/1e32) - scisql_fluxToAbMag(rPSFluxMax/1e32) < \"+str(snia_rampl_max)+\" \"\n",
    "                         \"AND scisql_fluxToAbMag(rPSFluxMin/1e32) - scisql_fluxToAbMag(rPSFluxMax/1e32) > \"+str(snia_rampl_min)+\" \",\n",
    "                         maxrec=1000)\n",
    "\n",
    "DiaObjs = results.to_table()\n",
    "del results"
   ]
  },
  {
   "cell_type": "markdown",
   "id": "1768203c-de36-4aeb-a447-f3f7e40cdb9c",
   "metadata": {},
   "source": [
    "Option to display the table"
   ]
  },
  {
   "cell_type": "code",
   "execution_count": null,
   "id": "85db3b35-5317-4bb5-888a-56bb56290e2b",
   "metadata": {},
   "outputs": [],
   "source": [
    "# DiaObjs"
   ]
  },
  {
   "cell_type": "markdown",
   "id": "6ff735a9-9a1a-4b5f-8a8a-dfa02f6e2593",
   "metadata": {},
   "source": [
    "### 3.3. Plot histograms to further characterize these potential SNeIa"
   ]
  },
  {
   "cell_type": "code",
   "execution_count": null,
   "id": "89c95b1b-159f-461d-9057-c4ea95255ca6",
   "metadata": {},
   "outputs": [],
   "source": [
    "fig, ax = plt.subplots( 1,3, figsize=(14,3), sharey=False, sharex=False)\n",
    "\n",
    "ax[0].hist(DiaObjs['rMagMin'], bins=20)\n",
    "ax[0].set_xlabel('Brightest Detected r-band Magnitude')\n",
    "\n",
    "ax[1].hist(DiaObjs['rMagAmp'], bins=20)\n",
    "ax[1].set_xlabel('Amplitude in r-band Magnitude')\n",
    "\n",
    "ax[2].hist(DiaObjs['nDiaSources'], bins=20)\n",
    "ax[2].set_xlabel('Number of Difference-Image Detections')\n",
    "\n",
    "plt.show()"
   ]
  },
  {
   "cell_type": "markdown",
   "id": "424d4c96-66ca-4b0d-a4c8-9aa684981737",
   "metadata": {},
   "source": [
    "### 3.4. Use DiaSources to calculate lightcurve duration\n",
    "\n",
    "DiaSources are the difference-image photometry (lightcurves).\n",
    "\n",
    "The sample of interest used in this notebook, low-redshift Type Ia supernovae, would be bright enough for detection (<24.5 mag) for up to one year.\n",
    "\n",
    "Calculate the lightcurve duration -- the difference between the dates of last and first DiaSource -- for all of the DiaObjects returned.\n",
    "\n",
    "This query takes about 3.5 minutes."
   ]
  },
  {
   "cell_type": "code",
   "execution_count": null,
   "id": "9d77eb34-34de-4a92-8c4a-d76d85114a07",
   "metadata": {},
   "outputs": [],
   "source": [
    "%%time\n",
    "\n",
    "DiaObjs['duration'] = numpy.zeros(len(DiaObjs), dtype='float')\n",
    "\n",
    "for j,DiaObjId in enumerate(DiaObjs['diaObjectId']):\n",
    "    results = service.search(\"SELECT ra, decl, diaObjectId, diaSourceId, \"\n",
    "                             \"filterName, midPointTai, psFlux, psFluxErr \"\n",
    "                             \"FROM dp02_dc2_catalogs.DiaSource \"\n",
    "                             \"WHERE diaObjectId = \"+str(DiaObjId))\n",
    "    results = results.to_table()\n",
    "    DiaObjs['duration'][j] = numpy.max(results['midPointTai']) - numpy.min(results['midPointTai'])\n",
    "    del results"
   ]
  },
  {
   "cell_type": "markdown",
   "id": "23cdc39f-3fbb-4bfb-87d3-0e07f5c34096",
   "metadata": {},
   "source": [
    "### 3.5. Make plots to characterize the lightcurve durations"
   ]
  },
  {
   "cell_type": "code",
   "execution_count": null,
   "id": "508ae771-c983-4299-89a4-97b497490b95",
   "metadata": {},
   "outputs": [],
   "source": [
    "fig, ax = plt.subplots( 1,3, figsize=(14,3), sharey=False, sharex=False)\n",
    "\n",
    "ax[0].hist(DiaObjs['duration'], bins=20)\n",
    "ax[0].set_xlabel('Lightcurve Duration (Any Filter)')\n",
    "\n",
    "ax[1].plot(DiaObjs['duration'], DiaObjs['rMagAmp'], 'o')\n",
    "ax[1].set_xlabel('Lightcurve Duration (Any Filter)')\n",
    "ax[1].set_ylabel('Amplitude in r-band Magnitude')\n",
    "\n",
    "ax[2].plot(DiaObjs['duration'], DiaObjs['nDiaSources'], 'o')\n",
    "\n",
    "plt.show()"
   ]
  },
  {
   "cell_type": "markdown",
   "id": "7f6216ee-2188-43e0-b188-a70f42d2f11e",
   "metadata": {},
   "source": [
    "### 3.6. plot lightcurves of potential SNIa\n",
    "\n",
    "Consider \"potential SNIa\" as the DiaObjects with durations < 1 year and with a magnitude amplitude >0.5 mag in the r-filter.\n",
    "\n",
    "For plotting, define the filter names, colors, and symbols to be used."
   ]
  },
  {
   "cell_type": "code",
   "execution_count": null,
   "id": "5eeffa3d-701a-4d00-94fe-9ce996e235a7",
   "metadata": {},
   "outputs": [],
   "source": []
  },
  {
   "cell_type": "markdown",
   "id": "05bdbbf3-8396-45c0-9764-6537a17e6880",
   "metadata": {},
   "source": [
    "The number of DiaObjects that have a duration of up to one year."
   ]
  },
  {
   "cell_type": "code",
   "execution_count": null,
   "id": "c4f3b759-8a6f-4c9b-a4f5-afce74593809",
   "metadata": {},
   "outputs": [],
   "source": [
    "tx = numpy.where(DiaObjs['duration'] < 250)[0]\n",
    "print(len(tx))"
   ]
  },
  {
   "cell_type": "code",
   "execution_count": null,
   "id": "41bb4666-7c90-4f35-b9e8-b3dbd59b0185",
   "metadata": {},
   "outputs": [],
   "source": [
    "fig, ax = plt.subplots(len(DiaObjs[tx]), figsize=(14,20), sharey=False, sharex=False)\n",
    "\n",
    "for i, j in enumerate(tx):\n",
    "    results = service.search(\"SELECT ra, decl, diaObjectId, diaSourceId, \"\n",
    "                             \"filterName, midPointTai, \"\n",
    "                             \"scisql_fluxToAbMag(psFlux/1e32) AS psAbMag \"\n",
    "                             \"FROM dp02_dc2_catalogs.DiaSource \"\n",
    "                             \"WHERE diaObjectId = \"+str(DiaObjs['diaObjectId'][j]))\n",
    "    results = results.to_table()\n",
    "\n",
    "    for f, filt in enumerate(filter_names):\n",
    "        fx = numpy.where(results['filterName'] == filt)[0]\n",
    "        ax[i].plot(results['midPointTai'][fx], results['psAbMag'][fx], \n",
    "                   filter_symbol[f], ms=15, mew=0, alpha=0.5, color=filter_color[f])\n",
    "        del fx\n",
    "    \n",
    "    ax[i].set_ylim([numpy.max(results['psAbMag'])+0.3, numpy.min(results['psAbMag'])-0.3])\n",
    "    \n",
    "    del results"
   ]
  },
  {
   "cell_type": "markdown",
   "id": "2a79e66e-9e2b-4c13-b6bc-18260e203d18",
   "metadata": {},
   "source": [
    "## 4. Further Work\n",
    "\n",
    "The next steps towards science with the sample of interest might include applying a lightcurve template fitter, or photometric classification codes, to the sample.\n",
    "\n",
    "Another analysis option would be to use the DiaForcedSource table for the lightcurves, in order to include photometry measured below the detection limit."
   ]
  },
  {
   "cell_type": "code",
   "execution_count": null,
   "id": "af6027d7-1f65-4322-a2bb-04aaa92c692d",
   "metadata": {},
   "outputs": [],
   "source": []
  }
 ],
 "metadata": {
  "kernelspec": {
   "display_name": "LSST",
   "language": "python",
   "name": "lsst"
  },
  "language_info": {
   "codemirror_mode": {
    "name": "ipython",
    "version": 3
   },
   "file_extension": ".py",
   "mimetype": "text/x-python",
   "name": "python",
   "nbconvert_exporter": "python",
   "pygments_lexer": "ipython3",
   "version": "3.10.4"
  },
  "toc-autonumbering": false
 },
 "nbformat": 4,
 "nbformat_minor": 5
}
