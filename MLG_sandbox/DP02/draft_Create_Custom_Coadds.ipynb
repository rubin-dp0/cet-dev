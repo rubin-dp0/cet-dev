{
 "cells": [
  {
   "cell_type": "markdown",
   "id": "88e46a87-3937-4534-ae66-8343f99049ed",
   "metadata": {},
   "source": [
    "<img align=\"left\" src = https://project.lsst.org/sites/default/files/Rubin-O-Logo_0.png width=250 style=\"padding: 10px\"> \n",
    "<b>DRAFT: Coadd Recreation</b> <br>\n",
    "Contact author(s): Melissa Graham <br>\n",
    "Last verified to run: <i>yyyy-mm-dd</i> <br>\n",
    "LSST Science Piplines version: Weekly <i>yyyy_xx</i> <br>\n",
    "Container Size: <i>medium</i> <br>\n",
    "Targeted learning level: intermediate <br>"
   ]
  },
  {
   "cell_type": "raw",
   "id": "8241df37-6f83-49d6-85da-9a96cee70972",
   "metadata": {},
   "source": [
    "TO DO:\n",
    " - complete header and introductory text\n",
    "   -- finish package list\n",
    "   -- add co-authors\n",
    "   -- move package imports from S.3. to S1.1.\n",
    " - remove/replace any remaining italics from NB template\n",
    "\n",
    " - direct warps do not exist; will have to make them"
   ]
  },
  {
   "cell_type": "code",
   "execution_count": 1,
   "id": "c3750d29-8d6c-4c65-996a-4afe8f784fab",
   "metadata": {},
   "outputs": [],
   "source": [
    "# %load_ext pycodestyle_magic\n",
    "# %flake8_on\n",
    "# import logging\n",
    "# logging.getLogger(\"flake8\").setLevel(logging.FATAL)"
   ]
  },
  {
   "cell_type": "markdown",
   "id": "985dbaac-2239-4e63-99af-069885693cd9",
   "metadata": {},
   "source": [
    "**Description:** Recreate a Coadded image from a subset of the input calexps."
   ]
  },
  {
   "cell_type": "markdown",
   "id": "835825c1-745b-4bb5-bad8-861812618231",
   "metadata": {},
   "source": [
    "**Skills:** Use of pipetasks for image coaddition. Creating and writing to Butler collections. Properties of deepCoadds."
   ]
  },
  {
   "cell_type": "markdown",
   "id": "e710443e-0f79-4a89-ae31-c07bed8e5d8d",
   "metadata": {},
   "source": [
    "**LSST Data Products:** deepCoadd, calexp"
   ]
  },
  {
   "cell_type": "markdown",
   "id": "5d2d1c4b-2893-4abc-99c3-c305338e5d05",
   "metadata": {},
   "source": [
    "**Packages:** _List the python packages used._ (_List the packages being taught first, e.g., afwDisplay for a notebook about displaying images. Then supporting packages, e.g., lsst.daf.butler for a notebook about displaying images. It is OK to leave out basic support packages like os or glob.)_"
   ]
  },
  {
   "cell_type": "markdown",
   "id": "5992b774-f0bf-49d7-8e23-7aca9788f6fb",
   "metadata": {},
   "source": [
    "**Credit:** Originally developed by Melissa Graham and Clare Saunders.\n",
    "Please consider acknowledging them if this notebook is used for the preparation of journal articles, software releases, or other notebooks."
   ]
  },
  {
   "cell_type": "markdown",
   "id": "37ebdbb7-c12d-4645-8259-13aed7872ebb",
   "metadata": {},
   "source": [
    "**Get Support:**\n",
    "Find DP0-related documentation and resources at <a href=\"https://dp0-1.lsst.io\">dp0-1.lsst.io</a>. Questions are welcome as new topics in the <a href=\"https://community.lsst.org/c/support/dp0\">Support - Data Preview 0 Category</a> of the Rubin Community Forum. Rubin staff will respond to all questions posted there."
   ]
  },
  {
   "cell_type": "markdown",
   "id": "7b41f9a0-c6b3-4279-bfe4-692ff5e9a473",
   "metadata": {},
   "source": [
    "## 1. Introduction\n",
    "\n",
    "This notebook shows how to retrieve information about the individual images that contributed to a deepCoadd, and how to make a new Coadded image using only a subset of the inputs.\n",
    "\n",
    "In the past you might have used iraf's imcombine, or Astromatics's SWarp, to coadd images.\n",
    "This notebook demonstrates the appropriate methods for coadding LSST images with the LSST Science Pipelines.\n",
    "\n",
    "Science applications of coadding a subsets of LSST images includes searching for faint, slowly-evolving transients or variables (e.g.,, coadding images by season), using the effects of differential chromatic refraction (e.g., coadding images in bins of airmass), or perhaps searching for low surface brightness features (e.g., coadding only dark-time images with the faintest sky backgrounds)."
   ]
  },
  {
   "cell_type": "markdown",
   "id": "0127a799-1cd7-4a7a-9deb-911938589161",
   "metadata": {},
   "source": [
    "### 1.1 Package Imports\n",
    "\n",
    "_Provide explanation or external links to package documentation, where appropriate._"
   ]
  },
  {
   "cell_type": "code",
   "execution_count": 2,
   "id": "4aef3e1b-efee-4d8a-9ed0-d9a910be88d3",
   "metadata": {},
   "outputs": [],
   "source": [
    "# standard python packages for numerical processing, plotting, and databases\n",
    "import time\n",
    "import getpass\n",
    "import numpy as np\n",
    "\n",
    "import matplotlib\n",
    "font = {'size': 14}\n",
    "matplotlib.rc('font', **font)\n",
    "import matplotlib.pyplot as plt\n",
    "\n",
    "import pandas\n",
    "pandas.set_option('display.max_rows', 1000)\n",
    "\n",
    "# astropy package for time unit conversions\n",
    "from astropy.time import Time\n",
    "\n",
    "# lsst packages for data access and display\n",
    "import lsst.geom\n",
    "import lsst.afw.display as afwDisplay\n",
    "afwDisplay.setDefaultBackend('matplotlib')\n",
    "\n",
    "# import lsst.daf.butler as dafButler\n",
    "from lsst.daf.butler import Butler, DatasetType, CollectionType\n",
    "\n",
    "# lsst packages for executing pipeline tasks\n",
    "from lsst.ctrl.mpexec import SimplePipelineExecutor\n",
    "from lsst.pipe.base import Pipeline, TaskDef, Instrument"
   ]
  },
  {
   "cell_type": "markdown",
   "id": "633fe9bd-43cd-478e-81d9-d3fe6f712841",
   "metadata": {},
   "source": [
    "### 1.2 Set Up"
   ]
  },
  {
   "cell_type": "code",
   "execution_count": 3,
   "id": "9340359c-49d6-471e-af30-2b2387756468",
   "metadata": {},
   "outputs": [],
   "source": [
    "config = 'dp02'\n",
    "collection = '2.2i/runs/DP0.2/v23_0_2/PREOPS-905/step_all'"
   ]
  },
  {
   "cell_type": "markdown",
   "id": "d26cba5a-d752-4533-a83a-ef18af149d66",
   "metadata": {},
   "source": [
    "> **Notice:** It is OK to ignore a pink-window message saying \"WARNING: version mismatch between CFITSIO header (v4.000999999999999) and linked library (v4.01).\""
   ]
  },
  {
   "cell_type": "code",
   "execution_count": 4,
   "id": "6dcf3f46-f9b3-4e34-b755-563f3cc67486",
   "metadata": {},
   "outputs": [
    {
     "data": {
      "text/html": [
       "<pre style=\"margin: 0.1em;\n",
       "padding-left: 0.25em;\n",
       "border-left-style: solid;\n",
       "font-family: var(--jp-code-font-family);\n",
       "font-size: var(--jp-code-font-size);\n",
       "line-height: var(--jp-code-line-height);\n",
       "\"><span style=\"color: var(--jp-warn-color2)\">botocore.credentials</span> <span style=\"color: var(--jp-info-color0)\">INFO</span>: Found credentials in shared credentials file: /home/melissagraham/.lsst/aws-credentials.ini</pre>"
      ],
      "text/plain": [
       "<IPython.core.display.HTML object>"
      ]
     },
     "metadata": {},
     "output_type": "display_data"
    },
    {
     "name": "stderr",
     "output_type": "stream",
     "text": [
      "\n",
      "WARNING: version mismatch between CFITSIO header (v4.000999999999999) and linked library (v4.01).\n",
      "\n",
      "\n",
      "WARNING: version mismatch between CFITSIO header (v4.000999999999999) and linked library (v4.01).\n",
      "\n",
      "\n",
      "WARNING: version mismatch between CFITSIO header (v4.000999999999999) and linked library (v4.01).\n",
      "\n"
     ]
    }
   ],
   "source": [
    "butler = Butler(config, collections=collection)"
   ]
  },
  {
   "cell_type": "markdown",
   "id": "460b2aa1-d80d-4060-b45b-2d4fb51eeac9",
   "metadata": {},
   "source": [
    "Display all the deepCoadd datasetTypes available via our butler."
   ]
  },
  {
   "cell_type": "code",
   "execution_count": 5,
   "id": "be44d01d-eab6-48b2-92af-d0a3c8ec01d1",
   "metadata": {},
   "outputs": [],
   "source": [
    "# for x in sorted(butler.registry.queryDatasetTypes()):\n",
    "#     temp = str(x)\n",
    "#     if temp.find('deepCoadd') > -1:\n",
    "#         print(x)\n",
    "#     del temp"
   ]
  },
  {
   "cell_type": "markdown",
   "id": "c42ce015-7441-4155-bc6c-201d4118efce",
   "metadata": {},
   "source": [
    "## 2. Identify the visits to combine\n",
    "\n",
    "### 2.1. Start with a deepCoadd\n",
    "\n",
    "Identify and retrieve the deepCoadd to be recreated.\n",
    "\n",
    "For this example, the coordinates of a known galaxy cluster are used.\n",
    "\n",
    "It takes 4-5 seconds to retrieve a single deepCoadd from the butler."
   ]
  },
  {
   "cell_type": "code",
   "execution_count": 6,
   "id": "6e5849dd-f51c-4443-b3b9-48f73b5b3eae",
   "metadata": {},
   "outputs": [
    {
     "name": "stdout",
     "output_type": "stream",
     "text": [
      "My tract and patch:  4431 17\n",
      "CPU times: user 3.11 s, sys: 871 ms, total: 3.98 s\n",
      "Wall time: 4.9 s\n"
     ]
    }
   ],
   "source": [
    "%%time\n",
    "\n",
    "my_ra_deg = 55.745834\n",
    "my_dec_deg = -32.269167\n",
    "\n",
    "my_spherePoint = lsst.geom.SpherePoint(my_ra_deg*lsst.geom.degrees,\n",
    "                                       my_dec_deg*lsst.geom.degrees)\n",
    "\n",
    "skymap = butler.get('skyMap')\n",
    "tract = skymap.findTract(my_spherePoint)\n",
    "my_tract = tract.tract_id\n",
    "my_patch = tract.findPatch(my_spherePoint).getSequentialIndex()\n",
    "print('My tract and patch: ', my_tract, my_patch)\n",
    "\n",
    "my_dataId = {'band': 'i', 'tract': my_tract, \n",
    "             'patch': my_patch}\n",
    "my_deepCoadd = butler.get('deepCoadd', dataId=my_dataId)\n",
    "\n",
    "# clean up\n",
    "del my_ra_deg, my_dec_deg, my_spherePoint, tract"
   ]
  },
  {
   "cell_type": "markdown",
   "id": "88c4d270-a2bf-4d35-a5c8-560fd1e675b7",
   "metadata": {},
   "source": [
    "Uncomment the following cell to show the deepCoadd image."
   ]
  },
  {
   "cell_type": "code",
   "execution_count": 7,
   "id": "6ed19ab9-d079-42e4-bff4-55eeef94afcb",
   "metadata": {},
   "outputs": [],
   "source": [
    "# fig = plt.figure(figsize=(6, 4))\n",
    "# afw_display = afwDisplay.Display(1)\n",
    "# afw_display.scale('asinh', 'zscale')\n",
    "# afw_display.mtv(my_deepCoadd.image)\n",
    "# plt.gca().axis('off')"
   ]
  },
  {
   "cell_type": "markdown",
   "id": "34b35b55-74d4-422e-bf9d-a13c1aab45c1",
   "metadata": {},
   "source": [
    "It is not necessary to know the bounding box for a deepCoadd in order to find all of the calexps that were used to assemble it.\n",
    "But, if you want to learn more about the deepCoadd metadata, such as bounding box, corners, and the World Coordinate System (WCS), uncomment and execute the following cells."
   ]
  },
  {
   "cell_type": "code",
   "execution_count": 8,
   "id": "8c89c7e6-e96d-4135-9e44-06b84987ffb2",
   "metadata": {},
   "outputs": [],
   "source": [
    "# my_deepCoadd_bbox = butler.get('deepCoadd.bbox', dataId=my_dataId)\n",
    "# print('bbox')\n",
    "# print(my_deepCoadd_bbox.beginX, my_deepCoadd_bbox.beginY, \n",
    "#       my_deepCoadd_bbox.endX, my_deepCoadd_bbox.endY)\n",
    "\n",
    "# print('')\n",
    "# print('corners')\n",
    "# print(my_deepCoadd_bbox.getCorners())\n",
    "\n",
    "# print('')\n",
    "# print('wcs')\n",
    "# my_deepCoadd_wcs = butler.get('deepCoadd.wcs', dataId=my_dataId)\n",
    "# print(my_deepCoadd_wcs)\n",
    "\n",
    "# # clean up\n",
    "# del my_deepCoadd_bbox, my_deepCoadd_wcs"
   ]
  },
  {
   "cell_type": "markdown",
   "id": "92be360e-c8d0-4b99-be77-827561954c5b",
   "metadata": {},
   "source": [
    "### 2.2. Retrieve the deepCoadd's input visits\n",
    "\n",
    "It takes 2-3 seconds to retrieve the coadd inputs from the butler."
   ]
  },
  {
   "cell_type": "code",
   "execution_count": 9,
   "id": "b8c4f4b7-2447-4361-96c9-ca805d9106df",
   "metadata": {},
   "outputs": [
    {
     "name": "stdout",
     "output_type": "stream",
     "text": [
      "CPU times: user 1.55 s, sys: 791 ms, total: 2.34 s\n",
      "Wall time: 2.51 s\n"
     ]
    }
   ],
   "source": [
    "%%time\n",
    "\n",
    "my_coadd_inputs = butler.get(\"deepCoadd_calexp.coaddInputs\", my_dataId)"
   ]
  },
  {
   "cell_type": "markdown",
   "id": "273ada69-3204-426d-9bec-a12d54dcfceb",
   "metadata": {},
   "source": [
    "The coadd inputs table of visits can be displayed as an astropy table, if you want to view the contents."
   ]
  },
  {
   "cell_type": "code",
   "execution_count": 10,
   "id": "6708a08e-7cfb-429b-a121-7b918aa27b73",
   "metadata": {},
   "outputs": [],
   "source": [
    "# my_coadd_inputs.visits.asAstropy()"
   ]
  },
  {
   "cell_type": "markdown",
   "id": "15e26c9d-e8b1-4f9d-93f7-0a37545c3d4c",
   "metadata": {},
   "source": [
    "The length of this table, 161, indicates that 161 separate visits contributed to this deepCoadd."
   ]
  },
  {
   "cell_type": "code",
   "execution_count": 11,
   "id": "ae810206-6d17-42d9-96df-3560cf711e94",
   "metadata": {},
   "outputs": [
    {
     "data": {
      "text/plain": [
       "161"
      ]
     },
     "execution_count": 11,
     "metadata": {},
     "output_type": "execute_result"
    }
   ],
   "source": [
    "len(my_coadd_inputs.visits)"
   ]
  },
  {
   "cell_type": "markdown",
   "id": "fc08dafe-6a6a-4d04-8b0b-ca25b33b37ed",
   "metadata": {},
   "source": [
    "It is not necessary to make a list of all deepCoadd input visit ids, but if you wanted to, you could do it and display it like this."
   ]
  },
  {
   "cell_type": "code",
   "execution_count": 12,
   "id": "d54bbfd1-497f-4875-a5c8-707c1bf82193",
   "metadata": {},
   "outputs": [],
   "source": [
    "# my_coadd_visits = my_coadd_inputs.visits['id']\n",
    "# my_coadd_visits"
   ]
  },
  {
   "cell_type": "markdown",
   "id": "cd7f0a95-9d41-44d1-aff7-6f6b59f77eeb",
   "metadata": {},
   "source": [
    "### 2.3. Get metadata for the input visits\n",
    "\n",
    "Retrieve the modified julian date (MJD) of the input visits from the visitTable.\n",
    "\n",
    "First, get the entire visit table."
   ]
  },
  {
   "cell_type": "code",
   "execution_count": 13,
   "id": "027cdc0f-0d1d-4330-83a9-ca8d67932044",
   "metadata": {},
   "outputs": [],
   "source": [
    "visitTableRef = list(butler.registry.queryDatasets('visitTable'))"
   ]
  },
  {
   "cell_type": "code",
   "execution_count": 14,
   "id": "507f8f87-6759-4afd-b4a7-fbaa2f2182b6",
   "metadata": {},
   "outputs": [],
   "source": [
    "# visitTableRef"
   ]
  },
  {
   "cell_type": "code",
   "execution_count": 15,
   "id": "35cbbfe6-11b1-4500-baf3-cba58d529bf8",
   "metadata": {},
   "outputs": [],
   "source": [
    "visitTable = butler.get(visitTableRef[0])"
   ]
  },
  {
   "cell_type": "code",
   "execution_count": 16,
   "id": "a31b7e5c-df48-44f6-8854-b073f701ed1c",
   "metadata": {},
   "outputs": [],
   "source": [
    "# visitTable"
   ]
  },
  {
   "cell_type": "markdown",
   "id": "1e628388-4a7b-4197-8aaa-80b925f5995d",
   "metadata": {},
   "source": [
    "The fact that the id column for both the my_coadd_inputs.vists table and the visitTable is the visit number (visit id) makes it simple to retrieve the MJDs of our coadd input visits."
   ]
  },
  {
   "cell_type": "code",
   "execution_count": 17,
   "id": "1c1a95b0-2702-4e2f-b6bf-b81f32ee918d",
   "metadata": {},
   "outputs": [],
   "source": [
    "my_coadd_visits_mjds = visitTable.loc[my_coadd_inputs.visits['id']]['expMidptMJD']"
   ]
  },
  {
   "cell_type": "markdown",
   "id": "f85ea9a3-0711-4f77-a309-15f403e6bcb5",
   "metadata": {},
   "source": [
    "These list of MJDs have 161 elements, for the 161 separate visits contributed to this deepCoadd."
   ]
  },
  {
   "cell_type": "code",
   "execution_count": 18,
   "id": "95c50262-b42c-4151-b862-26e7ba8af02c",
   "metadata": {},
   "outputs": [
    {
     "data": {
      "text/plain": [
       "161"
      ]
     },
     "execution_count": 18,
     "metadata": {},
     "output_type": "execute_result"
    }
   ],
   "source": [
    "len(my_coadd_visits_mjds)"
   ]
  },
  {
   "cell_type": "markdown",
   "id": "c0abddb8-f601-4388-b838-5e3dae9308f3",
   "metadata": {},
   "source": [
    "### 2.4. Identify input visits to recreate Coadd\n",
    "\n",
    "Identify input visits with MJD between 60925 abd 60955."
   ]
  },
  {
   "cell_type": "code",
   "execution_count": 19,
   "id": "dd205feb-436a-40e7-8119-6b2944255533",
   "metadata": {},
   "outputs": [
    {
     "data": {
      "image/png": "[encoded data removed]",
      "text/plain": [
       "<Figure size 720x720 with 2 Axes>"
      ]
     },
     "metadata": {
      "needs_background": "light"
     },
     "output_type": "display_data"
    }
   ],
   "source": [
    "range_start = 60925\n",
    "range_end = 60955\n",
    "\n",
    "fig, ax = plt.subplots(2, figsize=(10, 10))\n",
    "\n",
    "ax[0].hist(my_coadd_visits_mjds, bins=150, color='dodgerblue')\n",
    "ax[0].set_xlabel('MJD')\n",
    "ax[0].set_ylabel('Number of Visits')\n",
    "ax[0].axvline(range_start, ls='dashed', color='darkorange')\n",
    "ax[0].axvline(range_end, ls='dashed', color='darkorange')\n",
    "\n",
    "ax[1].hist(my_coadd_visits_mjds, bins=150, color='dodgerblue')\n",
    "ax[1].set_xlabel('MJD')\n",
    "ax[1].set_ylabel('Number of Visits')\n",
    "ax[1].set_xlim([60880, 60985])\n",
    "ax[1].axvline(range_start, ls='dashed', color='darkorange')\n",
    "ax[1].axvline(range_end, ls='dashed', color='darkorange')\n",
    "ax[1].text(range_start+1, 7.5, 'date range', color='darkorange')\n",
    "ax[1].text(range_start+1, 7.0, 'of interest', color='darkorange')\n",
    "\n",
    "plt.show()"
   ]
  },
  {
   "cell_type": "markdown",
   "id": "bd659dea-4c4d-4592-a93b-fc93e7ee9344",
   "metadata": {},
   "source": [
    "From the lower plot above, there are 6 visits in the data range of interest.\n",
    "\n",
    "Put this list of visits into a string, formatted as a tuple (within round brackets and separated by commas) for use in a query below."
   ]
  },
  {
   "cell_type": "code",
   "execution_count": 20,
   "id": "507e6561-4186-4287-bac8-795c783a5d54",
   "metadata": {},
   "outputs": [
    {
     "name": "stdout",
     "output_type": "stream",
     "text": [
      "(919515,924057,924085,924086,929477,930353)\n"
     ]
    }
   ],
   "source": [
    "my_range = np.array((my_coadd_visits_mjds > range_start)\n",
    "                    & (my_coadd_visits_mjds < range_end))\n",
    "\n",
    "my_visits = my_coadd_inputs.visits[my_range]\n",
    "\n",
    "my_visits_tupleString = \"(\"+\",\".join(my_visits['id'].astype(str))+\")\"\n",
    "print(my_visits_tupleString)"
   ]
  },
  {
   "cell_type": "markdown",
   "id": "1bbfb458-113c-4a38-ab95-953dbf2b2e2c",
   "metadata": {},
   "source": [
    "### 2.5. Confirm directWarps exist.\n",
    "\n",
    "> **THEY DO NOT EXIST**\n",
    "\n",
    "Confirm that the intermediate data products which we will need in Section 3, the `deepCoadd_directWarp`, exist."
   ]
  },
  {
   "cell_type": "code",
   "execution_count": 21,
   "id": "37878641-6a1f-46b7-9cd0-a3978bd3dc30",
   "metadata": {},
   "outputs": [],
   "source": [
    "# for x in sorted(butler.registry.queryDatasetTypes()):\n",
    "#     temp = str(x)\n",
    "#     if temp.find('directWarp') > -1:\n",
    "#         print(x)\n",
    "#     del temp"
   ]
  },
  {
   "cell_type": "markdown",
   "id": "296c8fd0-c685-4f55-8fc8-0539e2cdfaab",
   "metadata": {},
   "source": [
    "Confirm it is possible to retreive a directWarp for one of our visits of interest."
   ]
  },
  {
   "cell_type": "code",
   "execution_count": 22,
   "id": "67853b3f-af76-41c2-a0eb-ae1dd39a7d17",
   "metadata": {},
   "outputs": [],
   "source": [
    "# checkwarp_dataId = {'tract': 4431, 'patch': 17, 'skymap': 'DC2', 'visit': '919515'}\n",
    "# checkwarp_deepCoadd = butler.get('deepCoadd_directWarp', dataId=checkwarp_dataId)\n",
    "# del checkwarp_dataId, checkwarp_deepCoadd"
   ]
  },
  {
   "cell_type": "markdown",
   "id": "0654bca6-5b8a-46f1-8f8d-0da1c5707cba",
   "metadata": {},
   "source": [
    "Confirm that any directWarps exist, at all, by writing a few of their dataIds."
   ]
  },
  {
   "cell_type": "code",
   "execution_count": 23,
   "id": "95077f82-a596-4b66-9320-5dd73a363767",
   "metadata": {},
   "outputs": [],
   "source": [
    "# datasetRefs = butler.registry.queryDatasets(datasetType='deepCoadd_directWarp', \n",
    "#                                      collections=collection)\n",
    "\n",
    "# for i, ref in enumerate(datasetRefs):\n",
    "#     print(i)\n",
    "#     print(ref.dataId.full)\n",
    "#     print(' ')\n",
    "#     if i > 5:\n",
    "#         break\n",
    "        \n",
    "# del datasetRefs"
   ]
  },
  {
   "cell_type": "markdown",
   "id": "38f882d3-026a-4de7-920a-56072bfd5f96",
   "metadata": {},
   "source": [
    "## 3. Create a coadd with the subset of visits "
   ]
  },
  {
   "cell_type": "markdown",
   "id": "a86fe32e-0c36-4e50-a2b4-98d36ed1b3b1",
   "metadata": {},
   "source": [
    "### 3.1. Name a new butler collection for output\n",
    "\n",
    "> **Important:** Use the convention `u/[Your User Name]/coadd_recreation_nb` to set up a new output collection for this tutorial.\n",
    "\n",
    "Recall that RSP user names are the same as GitHub user names, because GitHub accounts are used to authorize access to the RSP."
   ]
  },
  {
   "cell_type": "code",
   "execution_count": 24,
   "id": "68013bdf-2624-48c5-9002-95afb351fef8",
   "metadata": {},
   "outputs": [
    {
     "name": "stdout",
     "output_type": "stream",
     "text": [
      "u/melissagraham/coadd_recreation_nb\n"
     ]
    }
   ],
   "source": [
    "my_username = getpass.getuser()\n",
    "my_outputCollection = 'u/'+my_username+'/coadd_recreation_nb'\n",
    "print(my_outputCollection)"
   ]
  },
  {
   "cell_type": "markdown",
   "id": "0c4c35fd-402a-4878-80d4-0402e3740ff3",
   "metadata": {},
   "source": [
    "Does this output collection already exist? If nothing is printed below this cell, the output collection does not already exist."
   ]
  },
  {
   "cell_type": "code",
   "execution_count": 25,
   "id": "1814025e-a06b-41c8-8b56-b5d7fcde04d5",
   "metadata": {},
   "outputs": [
    {
     "name": "stdout",
     "output_type": "stream",
     "text": [
      "u/melissagraham/coadd_recreation_nb\n",
      "u/melissagraham/coadd_recreation_nb/20220610T171249Z\n",
      "u/melissagraham/coadd_recreation_nb/20220610T182343Z\n",
      "u/melissagraham/coadd_recreation_nb/20220610T184028Z\n",
      "u/melissagraham/coadd_recreation_nb/20220610T185057Z\n",
      "u/melissagraham/coadd_recreation_nb/20220610T190249Z\n",
      "u/melissagraham/coadd_recreation_nb/20220610T190623Z\n",
      "u/melissagraham/coadd_recreation_nb/20220615T205142Z\n",
      "u/melissagraham/coadd_recreation_nb/20220615T212442Z\n",
      "u/melissagraham/coadd_recreation_nb/20220622T015745Z\n"
     ]
    }
   ],
   "source": [
    "for c in sorted(butler.registry.queryCollections()):\n",
    "    if c.find(my_outputCollection) > -1:\n",
    "        print(c)"
   ]
  },
  {
   "cell_type": "markdown",
   "id": "85571792-1b1d-4e17-9c1a-1d3a74bd86c7",
   "metadata": {},
   "source": [
    "#### 3.1.1. To delete these collection you have already made\n",
    "\n",
    "Instantiate a temporary butler with write permissions and remove the collection by name.\n",
    "\n",
    "> **Help Question:** Need to debug why this isn't working anymore."
   ]
  },
  {
   "cell_type": "code",
   "execution_count": 26,
   "id": "3dcbfe56-31d7-4f56-be73-19f88811b53a",
   "metadata": {},
   "outputs": [
    {
     "name": "stdout",
     "output_type": "stream",
     "text": [
      "Found:  u/melissagraham/coadd_recreation_nb\n",
      "Removed:  u/melissagraham/coadd_recreation_nb\n",
      "Found:  u/melissagraham/coadd_recreation_nb/20220610T171249Z\n",
      "Could not remove:  u/melissagraham/coadd_recreation_nb/20220610T171249Z\n",
      "Found:  u/melissagraham/coadd_recreation_nb/20220610T182343Z\n",
      "Could not remove:  u/melissagraham/coadd_recreation_nb/20220610T182343Z\n",
      "Found:  u/melissagraham/coadd_recreation_nb/20220610T184028Z\n",
      "Could not remove:  u/melissagraham/coadd_recreation_nb/20220610T184028Z\n",
      "Found:  u/melissagraham/coadd_recreation_nb/20220610T185057Z\n",
      "Could not remove:  u/melissagraham/coadd_recreation_nb/20220610T185057Z\n",
      "Found:  u/melissagraham/coadd_recreation_nb/20220610T190249Z\n",
      "Could not remove:  u/melissagraham/coadd_recreation_nb/20220610T190249Z\n",
      "Found:  u/melissagraham/coadd_recreation_nb/20220610T190623Z\n",
      "Could not remove:  u/melissagraham/coadd_recreation_nb/20220610T190623Z\n",
      "Found:  u/melissagraham/coadd_recreation_nb/20220615T205142Z\n",
      "Could not remove:  u/melissagraham/coadd_recreation_nb/20220615T205142Z\n",
      "Found:  u/melissagraham/coadd_recreation_nb/20220615T212442Z\n",
      "Could not remove:  u/melissagraham/coadd_recreation_nb/20220615T212442Z\n",
      "Found:  u/melissagraham/coadd_recreation_nb/20220622T015745Z\n",
      "Removed:  u/melissagraham/coadd_recreation_nb/20220622T015745Z\n"
     ]
    }
   ],
   "source": [
    "for c in sorted(butler.registry.queryCollections()):\n",
    "    if c.find(my_outputCollection) > -1:\n",
    "        print('Found: ', c)\n",
    "        try:\n",
    "            tmpButler = Butler(config, writeable=True)\n",
    "            tmpButler.registry.removeCollection(c)\n",
    "            print('Removed: ', c)\n",
    "        except:\n",
    "            print('Could not remove: ', c)\n",
    "        del tmpButler"
   ]
  },
  {
   "cell_type": "markdown",
   "id": "323bde7d-5a93-44ac-a02b-8709a78f6050",
   "metadata": {},
   "source": [
    "<br>\n",
    "Remove the originally instantiated butler, because below, a simple butler is created and used thereafter."
   ]
  },
  {
   "cell_type": "code",
   "execution_count": 27,
   "id": "22a9d72a-46d9-4791-97d2-45cb20fae8dd",
   "metadata": {},
   "outputs": [],
   "source": [
    "del butler"
   ]
  },
  {
   "cell_type": "markdown",
   "id": "5d12d1c6-fd47-4c6e-845c-9e10bccc22d2",
   "metadata": {},
   "source": [
    "### 3.2. Set up a simple butler with the new output collection"
   ]
  },
  {
   "cell_type": "markdown",
   "id": "a3763cc6-1f00-43dd-affb-193b78b4f7be",
   "metadata": {},
   "source": [
    "> **When DM-35153 is fixed, this will be possible.**"
   ]
  },
  {
   "cell_type": "code",
   "execution_count": 28,
   "id": "4cfe54ed-d543-452c-ab45-72e6573aaa8e",
   "metadata": {},
   "outputs": [],
   "source": [
    "# simpleButler = SimplePipelineExecutor.prep_butler(config, inputs=[collection],\n",
    "#                                                   output=my_outputCollection)"
   ]
  },
  {
   "cell_type": "markdown",
   "id": "871f03ef-ac23-429d-b3a8-7188cc15af49",
   "metadata": {},
   "source": [
    "> **For now, this is the workaround.** If this goes to production, explain every command with a comment."
   ]
  },
  {
   "cell_type": "code",
   "execution_count": 29,
   "id": "c9431dfe-de6f-45f1-b083-09a3b83de627",
   "metadata": {},
   "outputs": [],
   "source": [
    "outputRun = f\"{my_outputCollection}/{Instrument.makeCollectionTimestamp()}\"\n",
    "\n",
    "tmpButler = Butler(config, writeable=True)\n",
    "tmpButler.registry.registerCollection(outputRun, CollectionType.RUN)\n",
    "tmpButler.registry.registerCollection(my_outputCollection, CollectionType.CHAINED)\n",
    "\n",
    "collections = [collection]\n",
    "collections.insert(0, outputRun)\n",
    "\n",
    "tmpButler.registry.setCollectionChain(my_outputCollection, collections)\n",
    "\n",
    "simpleButler = Butler(butler=tmpButler, collections=[my_outputCollection], run=outputRun)"
   ]
  },
  {
   "cell_type": "markdown",
   "id": "33abd84d-f4d5-4dbf-8feb-15308c42c773",
   "metadata": {},
   "source": [
    "Check that the subdirectory of the newly created output collection is first in the list, and note that the collection has had a timestamp added."
   ]
  },
  {
   "cell_type": "code",
   "execution_count": 30,
   "id": "46962fa6-ef50-4933-9d5d-7f66c22a23c8",
   "metadata": {},
   "outputs": [
    {
     "data": {
      "text/plain": [
       "CollectionSearch(('u/melissagraham/coadd_recreation_nb/20220622T021800Z', '2.2i/runs/DP0.2/v23_0_2/PREOPS-905/step_all'))"
      ]
     },
     "execution_count": 30,
     "metadata": {},
     "output_type": "execute_result"
    }
   ],
   "source": [
    "simpleButler.registry.getCollectionChain(my_outputCollection)"
   ]
  },
  {
   "cell_type": "markdown",
   "id": "cec8f5a4-74bf-449b-9246-7e549dc56efe",
   "metadata": {},
   "source": [
    "Check on all the related butler output collections that currently exist."
   ]
  },
  {
   "cell_type": "code",
   "execution_count": 31,
   "id": "a40c9fa9-8955-4cee-bf3b-360bcf07e5ef",
   "metadata": {},
   "outputs": [
    {
     "name": "stdout",
     "output_type": "stream",
     "text": [
      "Found:  u/melissagraham/coadd_recreation_nb\n",
      "Found:  u/melissagraham/coadd_recreation_nb/20220610T171249Z\n",
      "Found:  u/melissagraham/coadd_recreation_nb/20220610T182343Z\n",
      "Found:  u/melissagraham/coadd_recreation_nb/20220610T184028Z\n",
      "Found:  u/melissagraham/coadd_recreation_nb/20220610T185057Z\n",
      "Found:  u/melissagraham/coadd_recreation_nb/20220610T190249Z\n",
      "Found:  u/melissagraham/coadd_recreation_nb/20220610T190623Z\n",
      "Found:  u/melissagraham/coadd_recreation_nb/20220615T205142Z\n",
      "Found:  u/melissagraham/coadd_recreation_nb/20220615T212442Z\n",
      "Found:  u/melissagraham/coadd_recreation_nb/20220622T021800Z\n"
     ]
    }
   ],
   "source": [
    "for c in sorted(simpleButler.registry.queryCollections()):\n",
    "    if c.find(my_outputCollection) > -1:\n",
    "        print('Found: ', c)"
   ]
  },
  {
   "cell_type": "markdown",
   "id": "e1740781-d79a-4202-971b-f9ef8f6a9329",
   "metadata": {
    "tags": []
   },
   "source": [
    "### 3.3. Select the makeWarp and assembleCoadd tasks from the larger Data Release pipeline\n",
    "\n",
    "> **TO DO: Add more description of pipeline tasks here.**\n",
    "\n",
    "This method for creating the `assembleCoaddPipeline` task in a notebook is not intuitive, but is preferred because it gives the user all of the configuration settings for the instrument automatically, and because it most closely replicates the command-line syntax."
   ]
  },
  {
   "cell_type": "code",
   "execution_count": 32,
   "id": "31df8776-0574-4d69-804e-4ddc7e78dde1",
   "metadata": {},
   "outputs": [],
   "source": [
    "assembleCoaddPipeline = Pipeline.from_uri('${PIPE_TASKS_DIR}/pipelines/DRP.yaml#makeWarp,assembleCoadd')"
   ]
  },
  {
   "cell_type": "markdown",
   "id": "7c29643b-a88f-4fe0-b136-ca0baa03201f",
   "metadata": {},
   "source": [
    "The other tasks available are listed in the `yaml` file. \n",
    "To see the other tasks, first open a new terminal (click the blue + button at upper left and then select terminal).\n",
    "Then create a Rubin Observatory environment, navigate to the DRP.yaml file, and view its contents with:\n",
    "> `setup lsst_distrib` <br>\n",
    "> `cd ${PIPE_TASKS_DIR}/pipelines/`<br>\n",
    "> `more DRP.yaml`\n",
    "\n",
    "When attempting to use `more` on the `yaml` file, a redirect to its true location might be returned. If so, follow the path given."
   ]
  },
  {
   "cell_type": "markdown",
   "id": "de7ebc47-f65e-4c46-b9c4-954248c32478",
   "metadata": {},
   "source": [
    "### 3.4. Optional: rename your output Coadd\n",
    "\n",
    "This can only be done by registering a new `DatasetType`. If this step is skipped, the output will be named deepCoadd (whether or enough images are being combined to be considered \"deep\").\n",
    "\n",
    "> **TO DO:** Verify this works.\n",
    "> **Help Question:** Why is a whole new dataset *type* required? <br>\n",
    "> **Help Question:** If I wanted to make 5 new Coadds that were stacks of 5 separate weeks of images would I do this 5 times?"
   ]
  },
  {
   "cell_type": "markdown",
   "id": "69d46922-a658-4511-aa8b-aeedd03d9156",
   "metadata": {},
   "source": [
    "The following cell does this series of actions.\n",
    "* -- Create a DeferredDatasetHandle which can later retrieve a dataset, after an immediate registry lookup.\n",
    "* -- Use the new DeferredDatasetHandle to instantiate your new DatasetType.\n",
    "* -- Register this new DatasetType with your simpleButler.\n",
    "* -- Update the configuration for the pipeline you created to include a connection to your new DatasetType.\n",
    "\n",
    "The following cell has no output."
   ]
  },
  {
   "cell_type": "code",
   "execution_count": 33,
   "id": "0f7f0db5-b91d-4dc6-bab3-94a1e78cf890",
   "metadata": {},
   "outputs": [],
   "source": [
    "# deferred = simpleButler.getDeferred('deepCoadd', dataId=my_dataId)\n",
    "\n",
    "# newDatasetType = DatasetType(\"myCoadd1\", dimensions=deferred.ref.dimensions,\n",
    "#                              storageClass=deferred.ref.datasetType.storageClass)\n",
    "\n",
    "# simpleButler.registry.registerDatasetType(newDatasetType)\n",
    "\n",
    "# assembleCoaddPipeline.addConfigOverride(\"assembleCoadd\", \"connections.coaddExposure\", \"myCoadd1\")"
   ]
  },
  {
   "cell_type": "markdown",
   "id": "b9738a6c-9b91-40c8-9c79-a842be4b34b8",
   "metadata": {},
   "source": [
    "> **TO DO: Add a link to documentation about configuration options here.**\n",
    "\n",
    "Other configurations can be set using the same command, with the format `addConfigOverride(<taskName>, <configName>, <configValue>)`.\n",
    "\n",
    "For example, `assembleCoaddPipeline.addConfigOverride(\"assembleCoadd\", \"doFilterMorphological\", False)`."
   ]
  },
  {
   "cell_type": "markdown",
   "id": "34207342-4542-4477-a900-8c095ed8be56",
   "metadata": {},
   "source": [
    "### 3.5. Create the full query string\n",
    "\n",
    "Above, the visits to be recombined were stored in `my_visits_tupleString`. \n",
    "\n",
    "Below, the full query string is built to include the patch being recreated.\n",
    "\n",
    "> **Help Question:** Why is the skymap included in the where query? "
   ]
  },
  {
   "cell_type": "code",
   "execution_count": 34,
   "id": "ba1aa59a-db98-4d3c-b46e-e15f8901b18d",
   "metadata": {},
   "outputs": [
    {
     "name": "stdout",
     "output_type": "stream",
     "text": [
      "patch = 17 AND visit in (919515,924057,924085,924086,929477,930353) AND skymap = 'DC2'\n"
     ]
    }
   ],
   "source": [
    "queryString = f\"patch = {my_patch} AND visit in {my_visits_tupleString} AND skymap = 'DC2'\"\n",
    "print(queryString)"
   ]
  },
  {
   "cell_type": "markdown",
   "id": "d335b20d-3cb9-4a45-9e09-d1b5a7023cc0",
   "metadata": {},
   "source": [
    "### 3.6. Use the Simple Pipeline Executor to assemble the Coadd\n",
    "\n",
    "Set up the Simple Pipeline Executor.\n",
    "\n",
    "> **Help Question:** Where is the documentation for SimplePipelineExecutor? Imported from lsst.ctrl.mpexec but not listed at https://pipelines.lsst.io/modules/lsst.ctrl.mpexec/index.html"
   ]
  },
  {
   "cell_type": "code",
   "execution_count": 35,
   "id": "e7a8e183-bee2-4117-b830-ca69f78649d1",
   "metadata": {},
   "outputs": [],
   "source": [
    "# SimplePipelineExecutor.from_pipeline?"
   ]
  },
  {
   "cell_type": "markdown",
   "id": "28071c8d-b3bc-4684-8cbe-129b3a181a41",
   "metadata": {},
   "source": [
    "> **Help Question:** How do we avoid the error \"WARNING: No datasets of type finalized_psf_ap_corr_catalog in collection\" from the following cell (the `spe =` cell) -- and error looks the same as the one reported in this post: https://community.lsst.org/t/error-while-warping-images-onto-a-skymap-in-the-getting-started-tutorial/6677, and which would be solved in the command line by passing `--register-dataset-types` to pipetask.\n",
    "\n",
    "> Guessing that we need to start the pipeline earlier than makeWarps...\n",
    "\n",
    "> **Help Question:** Why is the `spe =` commant checking _all_ the collections when the simpleButler should only be using as input the step_all collection?"
   ]
  },
  {
   "cell_type": "code",
   "execution_count": 36,
   "id": "4b1ceb84-9d9c-4468-a778-35f4c408755f",
   "metadata": {},
   "outputs": [
    {
     "ename": "AttributeError",
     "evalue": "'str' object has no attribute 'isComponent'",
     "output_type": "error",
     "traceback": [
      "\u001b[0;31m---------------------------------------------------------------------------\u001b[0m",
      "\u001b[0;31mAttributeError\u001b[0m                            Traceback (most recent call last)",
      "Input \u001b[0;32mIn [36]\u001b[0m, in \u001b[0;36m<cell line: 1>\u001b[0;34m()\u001b[0m\n\u001b[0;32m----> 1\u001b[0m \u001b[43msimpleButler\u001b[49m\u001b[38;5;241;43m.\u001b[39;49m\u001b[43mregistry\u001b[49m\u001b[38;5;241;43m.\u001b[39;49m\u001b[43mregisterDatasetType\u001b[49m\u001b[43m(\u001b[49m\u001b[38;5;124;43m'\u001b[39;49m\u001b[38;5;124;43mfinalized_psf_ap_corr_catalog\u001b[39;49m\u001b[38;5;124;43m'\u001b[39;49m\u001b[43m)\u001b[49m\n",
      "File \u001b[0;32m/opt/lsst/software/stack/stack/miniconda3-py38_4.9.2-4.0.0/Linux64/daf_butler/g23f6d281cf+3bb374b9e1/python/lsst/daf/butler/registries/sql.py:398\u001b[0m, in \u001b[0;36mSqlRegistry.registerDatasetType\u001b[0;34m(self, datasetType)\u001b[0m\n\u001b[1;32m    396\u001b[0m \u001b[38;5;28;01mdef\u001b[39;00m \u001b[38;5;21mregisterDatasetType\u001b[39m(\u001b[38;5;28mself\u001b[39m, datasetType: DatasetType) \u001b[38;5;241m-\u001b[39m\u001b[38;5;241m>\u001b[39m \u001b[38;5;28mbool\u001b[39m:\n\u001b[1;32m    397\u001b[0m     \u001b[38;5;66;03m# Docstring inherited from lsst.daf.butler.registry.Registry\u001b[39;00m\n\u001b[0;32m--> 398\u001b[0m     _, inserted \u001b[38;5;241m=\u001b[39m \u001b[38;5;28;43mself\u001b[39;49m\u001b[38;5;241;43m.\u001b[39;49m\u001b[43m_managers\u001b[49m\u001b[38;5;241;43m.\u001b[39;49m\u001b[43mdatasets\u001b[49m\u001b[38;5;241;43m.\u001b[39;49m\u001b[43mregister\u001b[49m\u001b[43m(\u001b[49m\u001b[43mdatasetType\u001b[49m\u001b[43m)\u001b[49m\n\u001b[1;32m    399\u001b[0m     \u001b[38;5;28;01mreturn\u001b[39;00m inserted\n",
      "File \u001b[0;32m/opt/lsst/software/stack/stack/miniconda3-py38_4.9.2-4.0.0/Linux64/daf_butler/g23f6d281cf+3bb374b9e1/python/lsst/daf/butler/registry/datasets/byDimensions/_manager.py:267\u001b[0m, in \u001b[0;36mByDimensionsDatasetRecordStorageManagerBase.register\u001b[0;34m(self, datasetType)\u001b[0m\n\u001b[1;32m    265\u001b[0m \u001b[38;5;28;01mdef\u001b[39;00m \u001b[38;5;21mregister\u001b[39m(\u001b[38;5;28mself\u001b[39m, datasetType: DatasetType) \u001b[38;5;241m-\u001b[39m\u001b[38;5;241m>\u001b[39m Tuple[DatasetRecordStorage, \u001b[38;5;28mbool\u001b[39m]:\n\u001b[1;32m    266\u001b[0m     \u001b[38;5;66;03m# Docstring inherited from DatasetRecordStorageManager.\u001b[39;00m\n\u001b[0;32m--> 267\u001b[0m     \u001b[38;5;28;01mif\u001b[39;00m \u001b[43mdatasetType\u001b[49m\u001b[38;5;241;43m.\u001b[39;49m\u001b[43misComponent\u001b[49m():\n\u001b[1;32m    268\u001b[0m         \u001b[38;5;28;01mraise\u001b[39;00m \u001b[38;5;167;01mValueError\u001b[39;00m(\n\u001b[1;32m    269\u001b[0m             \u001b[38;5;124mf\u001b[39m\u001b[38;5;124m\"\u001b[39m\u001b[38;5;124mComponent dataset types can not be stored in registry. Rejecting \u001b[39m\u001b[38;5;132;01m{\u001b[39;00mdatasetType\u001b[38;5;241m.\u001b[39mname\u001b[38;5;132;01m}\u001b[39;00m\u001b[38;5;124m\"\u001b[39m\n\u001b[1;32m    270\u001b[0m         )\n\u001b[1;32m    271\u001b[0m     storage \u001b[38;5;241m=\u001b[39m \u001b[38;5;28mself\u001b[39m\u001b[38;5;241m.\u001b[39m_byName\u001b[38;5;241m.\u001b[39mget(datasetType\u001b[38;5;241m.\u001b[39mname)\n",
      "\u001b[0;31mAttributeError\u001b[0m: 'str' object has no attribute 'isComponent'"
     ]
    }
   ],
   "source": [
    "# simpleButler.registry.registerDatasetType?\n",
    "# simpleButler.registry.registerDatasetType('finalized_psf_ap_corr_catalog')"
   ]
  },
  {
   "cell_type": "code",
   "execution_count": 37,
   "id": "50c26734-de0e-40f9-899a-42e9de2a52dc",
   "metadata": {},
   "outputs": [
    {
     "data": {
      "text/html": [
       "<pre style=\"margin: 0.1em;\n",
       "padding-left: 0.25em;\n",
       "border-left-style: solid;\n",
       "font-family: var(--jp-code-font-family);\n",
       "font-size: var(--jp-code-font-size);\n",
       "line-height: var(--jp-code-line-height);\n",
       "\"><span style=\"color: var(--jp-warn-color2)\">lsst.pipe.base.graphBuilder</span> <span style=\"color: var(--jp-warn-color0)\">WARNING</span>: No datasets of type finalized_psf_ap_corr_catalog in collection &#x27;u/melissagraham/coadd_recreation_nb/20220622T021800Z&#x27;.</pre>"
      ],
      "text/plain": [
       "<IPython.core.display.HTML object>"
      ]
     },
     "metadata": {},
     "output_type": "display_data"
    },
    {
     "data": {
      "text/html": [
       "<pre style=\"margin: 0.1em;\n",
       "padding-left: 0.25em;\n",
       "border-left-style: solid;\n",
       "font-family: var(--jp-code-font-family);\n",
       "font-size: var(--jp-code-font-size);\n",
       "line-height: var(--jp-code-line-height);\n",
       "\"><span style=\"color: var(--jp-warn-color2)\">lsst.pipe.base.graphBuilder</span> <span style=\"color: var(--jp-warn-color0)\">WARNING</span>: No datasets of type finalized_psf_ap_corr_catalog in collection &#x27;2.2i/runs/DP0.2/v23_0_2/PREOPS-905/step7/20220501T161443Z&#x27;.</pre>"
      ],
      "text/plain": [
       "<IPython.core.display.HTML object>"
      ]
     },
     "metadata": {},
     "output_type": "display_data"
    },
    {
     "data": {
      "text/html": [
       "<pre style=\"margin: 0.1em;\n",
       "padding-left: 0.25em;\n",
       "border-left-style: solid;\n",
       "font-family: var(--jp-code-font-family);\n",
       "font-size: var(--jp-code-font-size);\n",
       "line-height: var(--jp-code-line-height);\n",
       "\"><span style=\"color: var(--jp-warn-color2)\">lsst.pipe.base.graphBuilder</span> <span style=\"color: var(--jp-warn-color0)\">WARNING</span>: No datasets of type finalized_psf_ap_corr_catalog in collection &#x27;2.2i/runs/DP0.2/v23_0_2/PREOPS-905/step6_1/20220512T201515Z&#x27;.</pre>"
      ],
      "text/plain": [
       "<IPython.core.display.HTML object>"
      ]
     },
     "metadata": {},
     "output_type": "display_data"
    },
    {
     "data": {
      "text/html": [
       "<pre style=\"margin: 0.1em;\n",
       "padding-left: 0.25em;\n",
       "border-left-style: solid;\n",
       "font-family: var(--jp-code-font-family);\n",
       "font-size: var(--jp-code-font-size);\n",
       "line-height: var(--jp-code-line-height);\n",
       "\"><span style=\"color: var(--jp-warn-color2)\">lsst.pipe.base.graphBuilder</span> <span style=\"color: var(--jp-warn-color0)\">WARNING</span>: No datasets of type finalized_psf_ap_corr_catalog in collection &#x27;2.2i/runs/DP0.2/v23_0_2/PREOPS-905/step6_10/20220514T021220Z&#x27;.</pre>"
      ],
      "text/plain": [
       "<IPython.core.display.HTML object>"
      ]
     },
     "metadata": {},
     "output_type": "display_data"
    },
    {
     "data": {
      "text/html": [
       "<pre style=\"margin: 0.1em;\n",
       "padding-left: 0.25em;\n",
       "border-left-style: solid;\n",
       "font-family: var(--jp-code-font-family);\n",
       "font-size: var(--jp-code-font-size);\n",
       "line-height: var(--jp-code-line-height);\n",
       "\"><span style=\"color: var(--jp-warn-color2)\">lsst.pipe.base.graphBuilder</span> <span style=\"color: var(--jp-warn-color0)\">WARNING</span>: No datasets of type finalized_psf_ap_corr_catalog in collection &#x27;2.2i/runs/DP0.2/v23_0_2/PREOPS-905/step6_11/20220514T051259Z&#x27;.</pre>"
      ],
      "text/plain": [
       "<IPython.core.display.HTML object>"
      ]
     },
     "metadata": {},
     "output_type": "display_data"
    },
    {
     "data": {
      "text/html": [
       "<pre style=\"margin: 0.1em;\n",
       "padding-left: 0.25em;\n",
       "border-left-style: solid;\n",
       "font-family: var(--jp-code-font-family);\n",
       "font-size: var(--jp-code-font-size);\n",
       "line-height: var(--jp-code-line-height);\n",
       "\"><span style=\"color: var(--jp-warn-color2)\">lsst.pipe.base.graphBuilder</span> <span style=\"color: var(--jp-warn-color0)\">WARNING</span>: No datasets of type finalized_psf_ap_corr_catalog in collection &#x27;2.2i/runs/DP0.2/v23_0_2/PREOPS-905/step6_12/20220514T081014Z&#x27;.</pre>"
      ],
      "text/plain": [
       "<IPython.core.display.HTML object>"
      ]
     },
     "metadata": {},
     "output_type": "display_data"
    },
    {
     "data": {
      "text/html": [
       "<pre style=\"margin: 0.1em;\n",
       "padding-left: 0.25em;\n",
       "border-left-style: solid;\n",
       "font-family: var(--jp-code-font-family);\n",
       "font-size: var(--jp-code-font-size);\n",
       "line-height: var(--jp-code-line-height);\n",
       "\"><span style=\"color: var(--jp-warn-color2)\">lsst.pipe.base.graphBuilder</span> <span style=\"color: var(--jp-warn-color0)\">WARNING</span>: No datasets of type finalized_psf_ap_corr_catalog in collection &#x27;2.2i/runs/DP0.2/v23_0_2/PREOPS-905/step6_13/20220514T110509Z&#x27;.</pre>"
      ],
      "text/plain": [
       "<IPython.core.display.HTML object>"
      ]
     },
     "metadata": {},
     "output_type": "display_data"
    },
    {
     "data": {
      "text/html": [
       "<pre style=\"margin: 0.1em;\n",
       "padding-left: 0.25em;\n",
       "border-left-style: solid;\n",
       "font-family: var(--jp-code-font-family);\n",
       "font-size: var(--jp-code-font-size);\n",
       "line-height: var(--jp-code-line-height);\n",
       "\"><span style=\"color: var(--jp-warn-color2)\">lsst.pipe.base.graphBuilder</span> <span style=\"color: var(--jp-warn-color0)\">WARNING</span>: No datasets of type finalized_psf_ap_corr_catalog in collection &#x27;2.2i/runs/DP0.2/v23_0_2/PREOPS-905/step6_14/20220514T140812Z&#x27;.</pre>"
      ],
      "text/plain": [
       "<IPython.core.display.HTML object>"
      ]
     },
     "metadata": {},
     "output_type": "display_data"
    },
    {
     "data": {
      "text/html": [
       "<pre style=\"margin: 0.1em;\n",
       "padding-left: 0.25em;\n",
       "border-left-style: solid;\n",
       "font-family: var(--jp-code-font-family);\n",
       "font-size: var(--jp-code-font-size);\n",
       "line-height: var(--jp-code-line-height);\n",
       "\"><span style=\"color: var(--jp-warn-color2)\">lsst.pipe.base.graphBuilder</span> <span style=\"color: var(--jp-warn-color0)\">WARNING</span>: No datasets of type finalized_psf_ap_corr_catalog in collection &#x27;2.2i/runs/DP0.2/v23_0_2/PREOPS-905/step6_15/20220514T171751Z&#x27;.</pre>"
      ],
      "text/plain": [
       "<IPython.core.display.HTML object>"
      ]
     },
     "metadata": {},
     "output_type": "display_data"
    },
    {
     "data": {
      "text/html": [
       "<pre style=\"margin: 0.1em;\n",
       "padding-left: 0.25em;\n",
       "border-left-style: solid;\n",
       "font-family: var(--jp-code-font-family);\n",
       "font-size: var(--jp-code-font-size);\n",
       "line-height: var(--jp-code-line-height);\n",
       "\"><span style=\"color: var(--jp-warn-color2)\">lsst.pipe.base.graphBuilder</span> <span style=\"color: var(--jp-warn-color0)\">WARNING</span>: No datasets of type finalized_psf_ap_corr_catalog in collection &#x27;2.2i/runs/DP0.2/v23_0_2/PREOPS-905/step6_16/20220514T201929Z&#x27;.</pre>"
      ],
      "text/plain": [
       "<IPython.core.display.HTML object>"
      ]
     },
     "metadata": {},
     "output_type": "display_data"
    },
    {
     "data": {
      "text/html": [
       "<pre style=\"margin: 0.1em;\n",
       "padding-left: 0.25em;\n",
       "border-left-style: solid;\n",
       "font-family: var(--jp-code-font-family);\n",
       "font-size: var(--jp-code-font-size);\n",
       "line-height: var(--jp-code-line-height);\n",
       "\"><span style=\"color: var(--jp-warn-color2)\">lsst.pipe.base.graphBuilder</span> <span style=\"color: var(--jp-warn-color0)\">WARNING</span>: No datasets of type finalized_psf_ap_corr_catalog in collection &#x27;2.2i/runs/DP0.2/v23_0_2/PREOPS-905/step6_17/20220514T232440Z&#x27;.</pre>"
      ],
      "text/plain": [
       "<IPython.core.display.HTML object>"
      ]
     },
     "metadata": {},
     "output_type": "display_data"
    },
    {
     "data": {
      "text/html": [
       "<pre style=\"margin: 0.1em;\n",
       "padding-left: 0.25em;\n",
       "border-left-style: solid;\n",
       "font-family: var(--jp-code-font-family);\n",
       "font-size: var(--jp-code-font-size);\n",
       "line-height: var(--jp-code-line-height);\n",
       "\"><span style=\"color: var(--jp-warn-color2)\">lsst.pipe.base.graphBuilder</span> <span style=\"color: var(--jp-warn-color0)\">WARNING</span>: No datasets of type finalized_psf_ap_corr_catalog in collection &#x27;2.2i/runs/DP0.2/v23_0_2/PREOPS-905/step6_17/20220516T033516Z&#x27;.</pre>"
      ],
      "text/plain": [
       "<IPython.core.display.HTML object>"
      ]
     },
     "metadata": {},
     "output_type": "display_data"
    },
    {
     "data": {
      "text/html": [
       "<pre style=\"margin: 0.1em;\n",
       "padding-left: 0.25em;\n",
       "border-left-style: solid;\n",
       "font-family: var(--jp-code-font-family);\n",
       "font-size: var(--jp-code-font-size);\n",
       "line-height: var(--jp-code-line-height);\n",
       "\"><span style=\"color: var(--jp-warn-color2)\">lsst.pipe.base.graphBuilder</span> <span style=\"color: var(--jp-warn-color0)\">WARNING</span>: No datasets of type finalized_psf_ap_corr_catalog in collection &#x27;2.2i/runs/DP0.2/v23_0_2/PREOPS-905/step6_18/20220515T023234Z&#x27;.</pre>"
      ],
      "text/plain": [
       "<IPython.core.display.HTML object>"
      ]
     },
     "metadata": {},
     "output_type": "display_data"
    },
    {
     "data": {
      "text/html": [
       "<pre style=\"margin: 0.1em;\n",
       "padding-left: 0.25em;\n",
       "border-left-style: solid;\n",
       "font-family: var(--jp-code-font-family);\n",
       "font-size: var(--jp-code-font-size);\n",
       "line-height: var(--jp-code-line-height);\n",
       "\"><span style=\"color: var(--jp-warn-color2)\">lsst.pipe.base.graphBuilder</span> <span style=\"color: var(--jp-warn-color0)\">WARNING</span>: No datasets of type finalized_psf_ap_corr_catalog in collection &#x27;2.2i/runs/DP0.2/v23_0_2/PREOPS-905/step6_19/20220515T054618Z&#x27;.</pre>"
      ],
      "text/plain": [
       "<IPython.core.display.HTML object>"
      ]
     },
     "metadata": {},
     "output_type": "display_data"
    },
    {
     "data": {
      "text/html": [
       "<pre style=\"margin: 0.1em;\n",
       "padding-left: 0.25em;\n",
       "border-left-style: solid;\n",
       "font-family: var(--jp-code-font-family);\n",
       "font-size: var(--jp-code-font-size);\n",
       "line-height: var(--jp-code-line-height);\n",
       "\"><span style=\"color: var(--jp-warn-color2)\">lsst.pipe.base.graphBuilder</span> <span style=\"color: var(--jp-warn-color0)\">WARNING</span>: No datasets of type finalized_psf_ap_corr_catalog in collection &#x27;2.2i/runs/DP0.2/v23_0_2/PREOPS-905/step6_2/20220513T015911Z&#x27;.</pre>"
      ],
      "text/plain": [
       "<IPython.core.display.HTML object>"
      ]
     },
     "metadata": {},
     "output_type": "display_data"
    },
    {
     "data": {
      "text/html": [
       "<pre style=\"margin: 0.1em;\n",
       "padding-left: 0.25em;\n",
       "border-left-style: solid;\n",
       "font-family: var(--jp-code-font-family);\n",
       "font-size: var(--jp-code-font-size);\n",
       "line-height: var(--jp-code-line-height);\n",
       "\"><span style=\"color: var(--jp-warn-color2)\">lsst.pipe.base.graphBuilder</span> <span style=\"color: var(--jp-warn-color0)\">WARNING</span>: No datasets of type finalized_psf_ap_corr_catalog in collection &#x27;2.2i/runs/DP0.2/v23_0_2/PREOPS-905/step6_20/20220515T144944Z&#x27;.</pre>"
      ],
      "text/plain": [
       "<IPython.core.display.HTML object>"
      ]
     },
     "metadata": {},
     "output_type": "display_data"
    },
    {
     "data": {
      "text/html": [
       "<pre style=\"margin: 0.1em;\n",
       "padding-left: 0.25em;\n",
       "border-left-style: solid;\n",
       "font-family: var(--jp-code-font-family);\n",
       "font-size: var(--jp-code-font-size);\n",
       "line-height: var(--jp-code-line-height);\n",
       "\"><span style=\"color: var(--jp-warn-color2)\">lsst.pipe.base.graphBuilder</span> <span style=\"color: var(--jp-warn-color0)\">WARNING</span>: No datasets of type finalized_psf_ap_corr_catalog in collection &#x27;2.2i/runs/DP0.2/v23_0_2/PREOPS-905/step6_3/20220513T050000Z&#x27;.</pre>"
      ],
      "text/plain": [
       "<IPython.core.display.HTML object>"
      ]
     },
     "metadata": {},
     "output_type": "display_data"
    },
    {
     "data": {
      "text/html": [
       "<pre style=\"margin: 0.1em;\n",
       "padding-left: 0.25em;\n",
       "border-left-style: solid;\n",
       "font-family: var(--jp-code-font-family);\n",
       "font-size: var(--jp-code-font-size);\n",
       "line-height: var(--jp-code-line-height);\n",
       "\"><span style=\"color: var(--jp-warn-color2)\">lsst.pipe.base.graphBuilder</span> <span style=\"color: var(--jp-warn-color0)\">WARNING</span>: No datasets of type finalized_psf_ap_corr_catalog in collection &#x27;2.2i/runs/DP0.2/v23_0_2/PREOPS-905/step6_4/20220515T113417Z&#x27;.</pre>"
      ],
      "text/plain": [
       "<IPython.core.display.HTML object>"
      ]
     },
     "metadata": {},
     "output_type": "display_data"
    },
    {
     "data": {
      "text/html": [
       "<pre style=\"margin: 0.1em;\n",
       "padding-left: 0.25em;\n",
       "border-left-style: solid;\n",
       "font-family: var(--jp-code-font-family);\n",
       "font-size: var(--jp-code-font-size);\n",
       "line-height: var(--jp-code-line-height);\n",
       "\"><span style=\"color: var(--jp-warn-color2)\">lsst.pipe.base.graphBuilder</span> <span style=\"color: var(--jp-warn-color0)\">WARNING</span>: No datasets of type finalized_psf_ap_corr_catalog in collection &#x27;2.2i/runs/DP0.2/v23_0_2/PREOPS-905/step6_5/20220513T110250Z&#x27;.</pre>"
      ],
      "text/plain": [
       "<IPython.core.display.HTML object>"
      ]
     },
     "metadata": {},
     "output_type": "display_data"
    },
    {
     "data": {
      "text/html": [
       "<pre style=\"margin: 0.1em;\n",
       "padding-left: 0.25em;\n",
       "border-left-style: solid;\n",
       "font-family: var(--jp-code-font-family);\n",
       "font-size: var(--jp-code-font-size);\n",
       "line-height: var(--jp-code-line-height);\n",
       "\"><span style=\"color: var(--jp-warn-color2)\">lsst.pipe.base.graphBuilder</span> <span style=\"color: var(--jp-warn-color0)\">WARNING</span>: No datasets of type finalized_psf_ap_corr_catalog in collection &#x27;2.2i/runs/DP0.2/v23_0_2/PREOPS-905/step6_6/20220513T140400Z&#x27;.</pre>"
      ],
      "text/plain": [
       "<IPython.core.display.HTML object>"
      ]
     },
     "metadata": {},
     "output_type": "display_data"
    },
    {
     "data": {
      "text/html": [
       "<pre style=\"margin: 0.1em;\n",
       "padding-left: 0.25em;\n",
       "border-left-style: solid;\n",
       "font-family: var(--jp-code-font-family);\n",
       "font-size: var(--jp-code-font-size);\n",
       "line-height: var(--jp-code-line-height);\n",
       "\"><span style=\"color: var(--jp-warn-color2)\">lsst.pipe.base.graphBuilder</span> <span style=\"color: var(--jp-warn-color0)\">WARNING</span>: No datasets of type finalized_psf_ap_corr_catalog in collection &#x27;2.2i/runs/DP0.2/v23_0_2/PREOPS-905/step6_7/20220513T170841Z&#x27;.</pre>"
      ],
      "text/plain": [
       "<IPython.core.display.HTML object>"
      ]
     },
     "metadata": {},
     "output_type": "display_data"
    },
    {
     "data": {
      "text/html": [
       "<pre style=\"margin: 0.1em;\n",
       "padding-left: 0.25em;\n",
       "border-left-style: solid;\n",
       "font-family: var(--jp-code-font-family);\n",
       "font-size: var(--jp-code-font-size);\n",
       "line-height: var(--jp-code-line-height);\n",
       "\"><span style=\"color: var(--jp-warn-color2)\">lsst.pipe.base.graphBuilder</span> <span style=\"color: var(--jp-warn-color0)\">WARNING</span>: No datasets of type finalized_psf_ap_corr_catalog in collection &#x27;2.2i/runs/DP0.2/v23_0_2/PREOPS-905/step6_8/20220513T201047Z&#x27;.</pre>"
      ],
      "text/plain": [
       "<IPython.core.display.HTML object>"
      ]
     },
     "metadata": {},
     "output_type": "display_data"
    },
    {
     "data": {
      "text/html": [
       "<pre style=\"margin: 0.1em;\n",
       "padding-left: 0.25em;\n",
       "border-left-style: solid;\n",
       "font-family: var(--jp-code-font-family);\n",
       "font-size: var(--jp-code-font-size);\n",
       "line-height: var(--jp-code-line-height);\n",
       "\"><span style=\"color: var(--jp-warn-color2)\">lsst.pipe.base.graphBuilder</span> <span style=\"color: var(--jp-warn-color0)\">WARNING</span>: No datasets of type finalized_psf_ap_corr_catalog in collection &#x27;2.2i/runs/DP0.2/v23_0_2/PREOPS-905/step6_9/20220513T231122Z&#x27;.</pre>"
      ],
      "text/plain": [
       "<IPython.core.display.HTML object>"
      ]
     },
     "metadata": {},
     "output_type": "display_data"
    },
    {
     "data": {
      "text/html": [
       "<pre style=\"margin: 0.1em;\n",
       "padding-left: 0.25em;\n",
       "border-left-style: solid;\n",
       "font-family: var(--jp-code-font-family);\n",
       "font-size: var(--jp-code-font-size);\n",
       "line-height: var(--jp-code-line-height);\n",
       "\"><span style=\"color: var(--jp-warn-color2)\">lsst.pipe.base.graphBuilder</span> <span style=\"color: var(--jp-warn-color0)\">WARNING</span>: No datasets of type finalized_psf_ap_corr_catalog in collection &#x27;2.2i/runs/DP0.2/v23_0_2/PREOPS-905/step5_52/20220511T193037Z&#x27;.</pre>"
      ],
      "text/plain": [
       "<IPython.core.display.HTML object>"
      ]
     },
     "metadata": {},
     "output_type": "display_data"
    },
    {
     "data": {
      "text/html": [
       "<pre style=\"margin: 0.1em;\n",
       "padding-left: 0.25em;\n",
       "border-left-style: solid;\n",
       "font-family: var(--jp-code-font-family);\n",
       "font-size: var(--jp-code-font-size);\n",
       "line-height: var(--jp-code-line-height);\n",
       "\"><span style=\"color: var(--jp-warn-color2)\">lsst.pipe.base.graphBuilder</span> <span style=\"color: var(--jp-warn-color0)\">WARNING</span>: No datasets of type finalized_psf_ap_corr_catalog in collection &#x27;2.2i/runs/DP0.2/v23_0_2/PREOPS-905/step5_51/20220511T172849Z&#x27;.</pre>"
      ],
      "text/plain": [
       "<IPython.core.display.HTML object>"
      ]
     },
     "metadata": {},
     "output_type": "display_data"
    },
    {
     "data": {
      "text/html": [
       "<pre style=\"margin: 0.1em;\n",
       "padding-left: 0.25em;\n",
       "border-left-style: solid;\n",
       "font-family: var(--jp-code-font-family);\n",
       "font-size: var(--jp-code-font-size);\n",
       "line-height: var(--jp-code-line-height);\n",
       "\"><span style=\"color: var(--jp-warn-color2)\">lsst.pipe.base.graphBuilder</span> <span style=\"color: var(--jp-warn-color0)\">WARNING</span>: No datasets of type finalized_psf_ap_corr_catalog in collection &#x27;2.2i/runs/DP0.2/v23_0_2/PREOPS-905/step5_50/20220511T152602Z&#x27;.</pre>"
      ],
      "text/plain": [
       "<IPython.core.display.HTML object>"
      ]
     },
     "metadata": {},
     "output_type": "display_data"
    },
    {
     "data": {
      "text/html": [
       "<pre style=\"margin: 0.1em;\n",
       "padding-left: 0.25em;\n",
       "border-left-style: solid;\n",
       "font-family: var(--jp-code-font-family);\n",
       "font-size: var(--jp-code-font-size);\n",
       "line-height: var(--jp-code-line-height);\n",
       "\"><span style=\"color: var(--jp-warn-color2)\">lsst.pipe.base.graphBuilder</span> <span style=\"color: var(--jp-warn-color0)\">WARNING</span>: No datasets of type finalized_psf_ap_corr_catalog in collection &#x27;2.2i/runs/DP0.2/v23_0_2/PREOPS-905/step5_49/20220511T224921Z&#x27;.</pre>"
      ],
      "text/plain": [
       "<IPython.core.display.HTML object>"
      ]
     },
     "metadata": {},
     "output_type": "display_data"
    },
    {
     "data": {
      "text/html": [
       "<pre style=\"margin: 0.1em;\n",
       "padding-left: 0.25em;\n",
       "border-left-style: solid;\n",
       "font-family: var(--jp-code-font-family);\n",
       "font-size: var(--jp-code-font-size);\n",
       "line-height: var(--jp-code-line-height);\n",
       "\"><span style=\"color: var(--jp-warn-color2)\">lsst.pipe.base.graphBuilder</span> <span style=\"color: var(--jp-warn-color0)\">WARNING</span>: No datasets of type finalized_psf_ap_corr_catalog in collection &#x27;2.2i/runs/DP0.2/v23_0_2/PREOPS-905/step5_48/20220511T115326Z&#x27;.</pre>"
      ],
      "text/plain": [
       "<IPython.core.display.HTML object>"
      ]
     },
     "metadata": {},
     "output_type": "display_data"
    },
    {
     "data": {
      "text/html": [
       "<pre style=\"margin: 0.1em;\n",
       "padding-left: 0.25em;\n",
       "border-left-style: solid;\n",
       "font-family: var(--jp-code-font-family);\n",
       "font-size: var(--jp-code-font-size);\n",
       "line-height: var(--jp-code-line-height);\n",
       "\"><span style=\"color: var(--jp-warn-color2)\">lsst.pipe.base.graphBuilder</span> <span style=\"color: var(--jp-warn-color0)\">WARNING</span>: No datasets of type finalized_psf_ap_corr_catalog in collection &#x27;2.2i/runs/DP0.2/v23_0_2/PREOPS-905/step5_47/20220511T093215Z&#x27;.</pre>"
      ],
      "text/plain": [
       "<IPython.core.display.HTML object>"
      ]
     },
     "metadata": {},
     "output_type": "display_data"
    },
    {
     "data": {
      "text/html": [
       "<pre style=\"margin: 0.1em;\n",
       "padding-left: 0.25em;\n",
       "border-left-style: solid;\n",
       "font-family: var(--jp-code-font-family);\n",
       "font-size: var(--jp-code-font-size);\n",
       "line-height: var(--jp-code-line-height);\n",
       "\"><span style=\"color: var(--jp-warn-color2)\">lsst.pipe.base.graphBuilder</span> <span style=\"color: var(--jp-warn-color0)\">WARNING</span>: No datasets of type finalized_psf_ap_corr_catalog in collection &#x27;2.2i/runs/DP0.2/v23_0_2/PREOPS-905/step5_46/20220511T072551Z&#x27;.</pre>"
      ],
      "text/plain": [
       "<IPython.core.display.HTML object>"
      ]
     },
     "metadata": {},
     "output_type": "display_data"
    },
    {
     "data": {
      "text/html": [
       "<pre style=\"margin: 0.1em;\n",
       "padding-left: 0.25em;\n",
       "border-left-style: solid;\n",
       "font-family: var(--jp-code-font-family);\n",
       "font-size: var(--jp-code-font-size);\n",
       "line-height: var(--jp-code-line-height);\n",
       "\"><span style=\"color: var(--jp-warn-color2)\">lsst.pipe.base.graphBuilder</span> <span style=\"color: var(--jp-warn-color0)\">WARNING</span>: No datasets of type finalized_psf_ap_corr_catalog in collection &#x27;2.2i/runs/DP0.2/v23_0_2/PREOPS-905/step5_45/20220511T051607Z&#x27;.</pre>"
      ],
      "text/plain": [
       "<IPython.core.display.HTML object>"
      ]
     },
     "metadata": {},
     "output_type": "display_data"
    },
    {
     "data": {
      "text/html": [
       "<pre style=\"margin: 0.1em;\n",
       "padding-left: 0.25em;\n",
       "border-left-style: solid;\n",
       "font-family: var(--jp-code-font-family);\n",
       "font-size: var(--jp-code-font-size);\n",
       "line-height: var(--jp-code-line-height);\n",
       "\"><span style=\"color: var(--jp-warn-color2)\">lsst.pipe.base.graphBuilder</span> <span style=\"color: var(--jp-warn-color0)\">WARNING</span>: No datasets of type finalized_psf_ap_corr_catalog in collection &#x27;2.2i/runs/DP0.2/v23_0_2/PREOPS-905/step5_44/20220511T030333Z&#x27;.</pre>"
      ],
      "text/plain": [
       "<IPython.core.display.HTML object>"
      ]
     },
     "metadata": {},
     "output_type": "display_data"
    },
    {
     "data": {
      "text/html": [
       "<pre style=\"margin: 0.1em;\n",
       "padding-left: 0.25em;\n",
       "border-left-style: solid;\n",
       "font-family: var(--jp-code-font-family);\n",
       "font-size: var(--jp-code-font-size);\n",
       "line-height: var(--jp-code-line-height);\n",
       "\"><span style=\"color: var(--jp-warn-color2)\">lsst.pipe.base.graphBuilder</span> <span style=\"color: var(--jp-warn-color0)\">WARNING</span>: No datasets of type finalized_psf_ap_corr_catalog in collection &#x27;2.2i/runs/DP0.2/v23_0_2/PREOPS-905/step5_43/20220511T010324Z&#x27;.</pre>"
      ],
      "text/plain": [
       "<IPython.core.display.HTML object>"
      ]
     },
     "metadata": {},
     "output_type": "display_data"
    },
    {
     "data": {
      "text/html": [
       "<pre style=\"margin: 0.1em;\n",
       "padding-left: 0.25em;\n",
       "border-left-style: solid;\n",
       "font-family: var(--jp-code-font-family);\n",
       "font-size: var(--jp-code-font-size);\n",
       "line-height: var(--jp-code-line-height);\n",
       "\"><span style=\"color: var(--jp-warn-color2)\">lsst.pipe.base.graphBuilder</span> <span style=\"color: var(--jp-warn-color0)\">WARNING</span>: No datasets of type finalized_psf_ap_corr_catalog in collection &#x27;2.2i/runs/DP0.2/v23_0_2/PREOPS-905/step5_42/20220510T225220Z&#x27;.</pre>"
      ],
      "text/plain": [
       "<IPython.core.display.HTML object>"
      ]
     },
     "metadata": {},
     "output_type": "display_data"
    },
    {
     "data": {
      "text/html": [
       "<pre style=\"margin: 0.1em;\n",
       "padding-left: 0.25em;\n",
       "border-left-style: solid;\n",
       "font-family: var(--jp-code-font-family);\n",
       "font-size: var(--jp-code-font-size);\n",
       "line-height: var(--jp-code-line-height);\n",
       "\"><span style=\"color: var(--jp-warn-color2)\">lsst.pipe.base.graphBuilder</span> <span style=\"color: var(--jp-warn-color0)\">WARNING</span>: No datasets of type finalized_psf_ap_corr_catalog in collection &#x27;2.2i/runs/DP0.2/v23_0_2/PREOPS-905/step5_41/20220510T204315Z&#x27;.</pre>"
      ],
      "text/plain": [
       "<IPython.core.display.HTML object>"
      ]
     },
     "metadata": {},
     "output_type": "display_data"
    },
    {
     "data": {
      "text/html": [
       "<pre style=\"margin: 0.1em;\n",
       "padding-left: 0.25em;\n",
       "border-left-style: solid;\n",
       "font-family: var(--jp-code-font-family);\n",
       "font-size: var(--jp-code-font-size);\n",
       "line-height: var(--jp-code-line-height);\n",
       "\"><span style=\"color: var(--jp-warn-color2)\">lsst.pipe.base.graphBuilder</span> <span style=\"color: var(--jp-warn-color0)\">WARNING</span>: No datasets of type finalized_psf_ap_corr_catalog in collection &#x27;2.2i/runs/DP0.2/v23_0_2/PREOPS-905/step5_40/20220510T182122Z&#x27;.</pre>"
      ],
      "text/plain": [
       "<IPython.core.display.HTML object>"
      ]
     },
     "metadata": {},
     "output_type": "display_data"
    },
    {
     "data": {
      "text/html": [
       "<pre style=\"margin: 0.1em;\n",
       "padding-left: 0.25em;\n",
       "border-left-style: solid;\n",
       "font-family: var(--jp-code-font-family);\n",
       "font-size: var(--jp-code-font-size);\n",
       "line-height: var(--jp-code-line-height);\n",
       "\"><span style=\"color: var(--jp-warn-color2)\">lsst.pipe.base.graphBuilder</span> <span style=\"color: var(--jp-warn-color0)\">WARNING</span>: No datasets of type finalized_psf_ap_corr_catalog in collection &#x27;2.2i/runs/DP0.2/v23_0_2/PREOPS-905/step5_39/20220510T165619Z&#x27;.</pre>"
      ],
      "text/plain": [
       "<IPython.core.display.HTML object>"
      ]
     },
     "metadata": {},
     "output_type": "display_data"
    },
    {
     "data": {
      "text/html": [
       "<pre style=\"margin: 0.1em;\n",
       "padding-left: 0.25em;\n",
       "border-left-style: solid;\n",
       "font-family: var(--jp-code-font-family);\n",
       "font-size: var(--jp-code-font-size);\n",
       "line-height: var(--jp-code-line-height);\n",
       "\"><span style=\"color: var(--jp-warn-color2)\">lsst.pipe.base.graphBuilder</span> <span style=\"color: var(--jp-warn-color0)\">WARNING</span>: No datasets of type finalized_psf_ap_corr_catalog in collection &#x27;2.2i/runs/DP0.2/v23_0_2/PREOPS-905/step5_38/20220510T144157Z&#x27;.</pre>"
      ],
      "text/plain": [
       "<IPython.core.display.HTML object>"
      ]
     },
     "metadata": {},
     "output_type": "display_data"
    },
    {
     "data": {
      "text/html": [
       "<pre style=\"margin: 0.1em;\n",
       "padding-left: 0.25em;\n",
       "border-left-style: solid;\n",
       "font-family: var(--jp-code-font-family);\n",
       "font-size: var(--jp-code-font-size);\n",
       "line-height: var(--jp-code-line-height);\n",
       "\"><span style=\"color: var(--jp-warn-color2)\">lsst.pipe.base.graphBuilder</span> <span style=\"color: var(--jp-warn-color0)\">WARNING</span>: No datasets of type finalized_psf_ap_corr_catalog in collection &#x27;2.2i/runs/DP0.2/v23_0_2/PREOPS-905/step5_37/20220510T122823Z&#x27;.</pre>"
      ],
      "text/plain": [
       "<IPython.core.display.HTML object>"
      ]
     },
     "metadata": {},
     "output_type": "display_data"
    },
    {
     "data": {
      "text/html": [
       "<pre style=\"margin: 0.1em;\n",
       "padding-left: 0.25em;\n",
       "border-left-style: solid;\n",
       "font-family: var(--jp-code-font-family);\n",
       "font-size: var(--jp-code-font-size);\n",
       "line-height: var(--jp-code-line-height);\n",
       "\"><span style=\"color: var(--jp-warn-color2)\">lsst.pipe.base.graphBuilder</span> <span style=\"color: var(--jp-warn-color0)\">WARNING</span>: No datasets of type finalized_psf_ap_corr_catalog in collection &#x27;2.2i/runs/DP0.2/v23_0_2/PREOPS-905/step5_36/20220510T102009Z&#x27;.</pre>"
      ],
      "text/plain": [
       "<IPython.core.display.HTML object>"
      ]
     },
     "metadata": {},
     "output_type": "display_data"
    },
    {
     "data": {
      "text/html": [
       "<pre style=\"margin: 0.1em;\n",
       "padding-left: 0.25em;\n",
       "border-left-style: solid;\n",
       "font-family: var(--jp-code-font-family);\n",
       "font-size: var(--jp-code-font-size);\n",
       "line-height: var(--jp-code-line-height);\n",
       "\"><span style=\"color: var(--jp-warn-color2)\">lsst.pipe.base.graphBuilder</span> <span style=\"color: var(--jp-warn-color0)\">WARNING</span>: No datasets of type finalized_psf_ap_corr_catalog in collection &#x27;2.2i/runs/DP0.2/v23_0_2/PREOPS-905/step5_35/20220510T082734Z&#x27;.</pre>"
      ],
      "text/plain": [
       "<IPython.core.display.HTML object>"
      ]
     },
     "metadata": {},
     "output_type": "display_data"
    },
    {
     "data": {
      "text/html": [
       "<pre style=\"margin: 0.1em;\n",
       "padding-left: 0.25em;\n",
       "border-left-style: solid;\n",
       "font-family: var(--jp-code-font-family);\n",
       "font-size: var(--jp-code-font-size);\n",
       "line-height: var(--jp-code-line-height);\n",
       "\"><span style=\"color: var(--jp-warn-color2)\">lsst.pipe.base.graphBuilder</span> <span style=\"color: var(--jp-warn-color0)\">WARNING</span>: No datasets of type finalized_psf_ap_corr_catalog in collection &#x27;2.2i/runs/DP0.2/v23_0_2/PREOPS-905/step5_34/20220510T062419Z&#x27;.</pre>"
      ],
      "text/plain": [
       "<IPython.core.display.HTML object>"
      ]
     },
     "metadata": {},
     "output_type": "display_data"
    },
    {
     "data": {
      "text/html": [
       "<pre style=\"margin: 0.1em;\n",
       "padding-left: 0.25em;\n",
       "border-left-style: solid;\n",
       "font-family: var(--jp-code-font-family);\n",
       "font-size: var(--jp-code-font-size);\n",
       "line-height: var(--jp-code-line-height);\n",
       "\"><span style=\"color: var(--jp-warn-color2)\">lsst.pipe.base.graphBuilder</span> <span style=\"color: var(--jp-warn-color0)\">WARNING</span>: No datasets of type finalized_psf_ap_corr_catalog in collection &#x27;2.2i/runs/DP0.2/v23_0_2/PREOPS-905/step5_30/20220511T210005Z&#x27;.</pre>"
      ],
      "text/plain": [
       "<IPython.core.display.HTML object>"
      ]
     },
     "metadata": {},
     "output_type": "display_data"
    },
    {
     "data": {
      "text/html": [
       "<pre style=\"margin: 0.1em;\n",
       "padding-left: 0.25em;\n",
       "border-left-style: solid;\n",
       "font-family: var(--jp-code-font-family);\n",
       "font-size: var(--jp-code-font-size);\n",
       "line-height: var(--jp-code-line-height);\n",
       "\"><span style=\"color: var(--jp-warn-color2)\">lsst.pipe.base.graphBuilder</span> <span style=\"color: var(--jp-warn-color0)\">WARNING</span>: No datasets of type finalized_psf_ap_corr_catalog in collection &#x27;2.2i/runs/DP0.2/v23_0_2/PREOPS-905/step5_12/20220507T050423Z&#x27;.</pre>"
      ],
      "text/plain": [
       "<IPython.core.display.HTML object>"
      ]
     },
     "metadata": {},
     "output_type": "display_data"
    },
    {
     "data": {
      "text/html": [
       "<pre style=\"margin: 0.1em;\n",
       "padding-left: 0.25em;\n",
       "border-left-style: solid;\n",
       "font-family: var(--jp-code-font-family);\n",
       "font-size: var(--jp-code-font-size);\n",
       "line-height: var(--jp-code-line-height);\n",
       "\"><span style=\"color: var(--jp-warn-color2)\">lsst.pipe.base.graphBuilder</span> <span style=\"color: var(--jp-warn-color0)\">WARNING</span>: No datasets of type finalized_psf_ap_corr_catalog in collection &#x27;2.2i/runs/DP0.2/v23_0_2/PREOPS-905/step5_1/20220512T001721Z&#x27;.</pre>"
      ],
      "text/plain": [
       "<IPython.core.display.HTML object>"
      ]
     },
     "metadata": {},
     "output_type": "display_data"
    },
    {
     "data": {
      "text/html": [
       "<pre style=\"margin: 0.1em;\n",
       "padding-left: 0.25em;\n",
       "border-left-style: solid;\n",
       "font-family: var(--jp-code-font-family);\n",
       "font-size: var(--jp-code-font-size);\n",
       "line-height: var(--jp-code-line-height);\n",
       "\"><span style=\"color: var(--jp-warn-color2)\">lsst.pipe.base.graphBuilder</span> <span style=\"color: var(--jp-warn-color0)\">WARNING</span>: No datasets of type finalized_psf_ap_corr_catalog in collection &#x27;2.2i/runs/DP0.2/v23_0_2/PREOPS-905/step5_1/20220503T191629Z&#x27;.</pre>"
      ],
      "text/plain": [
       "<IPython.core.display.HTML object>"
      ]
     },
     "metadata": {},
     "output_type": "display_data"
    },
    {
     "data": {
      "text/html": [
       "<pre style=\"margin: 0.1em;\n",
       "padding-left: 0.25em;\n",
       "border-left-style: solid;\n",
       "font-family: var(--jp-code-font-family);\n",
       "font-size: var(--jp-code-font-size);\n",
       "line-height: var(--jp-code-line-height);\n",
       "\"><span style=\"color: var(--jp-warn-color2)\">lsst.pipe.base.graphBuilder</span> <span style=\"color: var(--jp-warn-color0)\">WARNING</span>: No datasets of type finalized_psf_ap_corr_catalog in collection &#x27;2.2i/runs/DP0.2/v23_0_2/PREOPS-905/step5_10/20220506T225821Z&#x27;.</pre>"
      ],
      "text/plain": [
       "<IPython.core.display.HTML object>"
      ]
     },
     "metadata": {},
     "output_type": "display_data"
    },
    {
     "data": {
      "text/html": [
       "<pre style=\"margin: 0.1em;\n",
       "padding-left: 0.25em;\n",
       "border-left-style: solid;\n",
       "font-family: var(--jp-code-font-family);\n",
       "font-size: var(--jp-code-font-size);\n",
       "line-height: var(--jp-code-line-height);\n",
       "\"><span style=\"color: var(--jp-warn-color2)\">lsst.pipe.base.graphBuilder</span> <span style=\"color: var(--jp-warn-color0)\">WARNING</span>: No datasets of type finalized_psf_ap_corr_catalog in collection &#x27;2.2i/runs/DP0.2/v23_0_2/PREOPS-905/step5_11/20220507T020003Z&#x27;.</pre>"
      ],
      "text/plain": [
       "<IPython.core.display.HTML object>"
      ]
     },
     "metadata": {},
     "output_type": "display_data"
    },
    {
     "data": {
      "text/html": [
       "<pre style=\"margin: 0.1em;\n",
       "padding-left: 0.25em;\n",
       "border-left-style: solid;\n",
       "font-family: var(--jp-code-font-family);\n",
       "font-size: var(--jp-code-font-size);\n",
       "line-height: var(--jp-code-line-height);\n",
       "\"><span style=\"color: var(--jp-warn-color2)\">lsst.pipe.base.graphBuilder</span> <span style=\"color: var(--jp-warn-color0)\">WARNING</span>: No datasets of type finalized_psf_ap_corr_catalog in collection &#x27;2.2i/runs/DP0.2/v23_0_2/PREOPS-905/step5_13/20220507T224408Z&#x27;.</pre>"
      ],
      "text/plain": [
       "<IPython.core.display.HTML object>"
      ]
     },
     "metadata": {},
     "output_type": "display_data"
    },
    {
     "data": {
      "text/html": [
       "<pre style=\"margin: 0.1em;\n",
       "padding-left: 0.25em;\n",
       "border-left-style: solid;\n",
       "font-family: var(--jp-code-font-family);\n",
       "font-size: var(--jp-code-font-size);\n",
       "line-height: var(--jp-code-line-height);\n",
       "\"><span style=\"color: var(--jp-warn-color2)\">lsst.pipe.base.graphBuilder</span> <span style=\"color: var(--jp-warn-color0)\">WARNING</span>: No datasets of type finalized_psf_ap_corr_catalog in collection &#x27;2.2i/runs/DP0.2/v23_0_2/PREOPS-905/step5_14/20220508T012319Z&#x27;.</pre>"
      ],
      "text/plain": [
       "<IPython.core.display.HTML object>"
      ]
     },
     "metadata": {},
     "output_type": "display_data"
    },
    {
     "data": {
      "text/html": [
       "<pre style=\"margin: 0.1em;\n",
       "padding-left: 0.25em;\n",
       "border-left-style: solid;\n",
       "font-family: var(--jp-code-font-family);\n",
       "font-size: var(--jp-code-font-size);\n",
       "line-height: var(--jp-code-line-height);\n",
       "\"><span style=\"color: var(--jp-warn-color2)\">lsst.pipe.base.graphBuilder</span> <span style=\"color: var(--jp-warn-color0)\">WARNING</span>: No datasets of type finalized_psf_ap_corr_catalog in collection &#x27;2.2i/runs/DP0.2/v23_0_2/PREOPS-905/step5_15/20220508T042652Z&#x27;.</pre>"
      ],
      "text/plain": [
       "<IPython.core.display.HTML object>"
      ]
     },
     "metadata": {},
     "output_type": "display_data"
    },
    {
     "data": {
      "text/html": [
       "<pre style=\"margin: 0.1em;\n",
       "padding-left: 0.25em;\n",
       "border-left-style: solid;\n",
       "font-family: var(--jp-code-font-family);\n",
       "font-size: var(--jp-code-font-size);\n",
       "line-height: var(--jp-code-line-height);\n",
       "\"><span style=\"color: var(--jp-warn-color2)\">lsst.pipe.base.graphBuilder</span> <span style=\"color: var(--jp-warn-color0)\">WARNING</span>: No datasets of type finalized_psf_ap_corr_catalog in collection &#x27;2.2i/runs/DP0.2/v23_0_2/PREOPS-905/step5_16/20220508T072602Z&#x27;.</pre>"
      ],
      "text/plain": [
       "<IPython.core.display.HTML object>"
      ]
     },
     "metadata": {},
     "output_type": "display_data"
    },
    {
     "data": {
      "text/html": [
       "<pre style=\"margin: 0.1em;\n",
       "padding-left: 0.25em;\n",
       "border-left-style: solid;\n",
       "font-family: var(--jp-code-font-family);\n",
       "font-size: var(--jp-code-font-size);\n",
       "line-height: var(--jp-code-line-height);\n",
       "\"><span style=\"color: var(--jp-warn-color2)\">lsst.pipe.base.graphBuilder</span> <span style=\"color: var(--jp-warn-color0)\">WARNING</span>: No datasets of type finalized_psf_ap_corr_catalog in collection &#x27;2.2i/runs/DP0.2/v23_0_2/PREOPS-905/step5_17/20220508T103019Z&#x27;.</pre>"
      ],
      "text/plain": [
       "<IPython.core.display.HTML object>"
      ]
     },
     "metadata": {},
     "output_type": "display_data"
    },
    {
     "data": {
      "text/html": [
       "<pre style=\"margin: 0.1em;\n",
       "padding-left: 0.25em;\n",
       "border-left-style: solid;\n",
       "font-family: var(--jp-code-font-family);\n",
       "font-size: var(--jp-code-font-size);\n",
       "line-height: var(--jp-code-line-height);\n",
       "\"><span style=\"color: var(--jp-warn-color2)\">lsst.pipe.base.graphBuilder</span> <span style=\"color: var(--jp-warn-color0)\">WARNING</span>: No datasets of type finalized_psf_ap_corr_catalog in collection &#x27;2.2i/runs/DP0.2/v23_0_2/PREOPS-905/step5_18/20220508T124926Z&#x27;.</pre>"
      ],
      "text/plain": [
       "<IPython.core.display.HTML object>"
      ]
     },
     "metadata": {},
     "output_type": "display_data"
    },
    {
     "data": {
      "text/html": [
       "<pre style=\"margin: 0.1em;\n",
       "padding-left: 0.25em;\n",
       "border-left-style: solid;\n",
       "font-family: var(--jp-code-font-family);\n",
       "font-size: var(--jp-code-font-size);\n",
       "line-height: var(--jp-code-line-height);\n",
       "\"><span style=\"color: var(--jp-warn-color2)\">lsst.pipe.base.graphBuilder</span> <span style=\"color: var(--jp-warn-color0)\">WARNING</span>: No datasets of type finalized_psf_ap_corr_catalog in collection &#x27;2.2i/runs/DP0.2/v23_0_2/PREOPS-905/step5_19/20220508T155145Z&#x27;.</pre>"
      ],
      "text/plain": [
       "<IPython.core.display.HTML object>"
      ]
     },
     "metadata": {},
     "output_type": "display_data"
    },
    {
     "data": {
      "text/html": [
       "<pre style=\"margin: 0.1em;\n",
       "padding-left: 0.25em;\n",
       "border-left-style: solid;\n",
       "font-family: var(--jp-code-font-family);\n",
       "font-size: var(--jp-code-font-size);\n",
       "line-height: var(--jp-code-line-height);\n",
       "\"><span style=\"color: var(--jp-warn-color2)\">lsst.pipe.base.graphBuilder</span> <span style=\"color: var(--jp-warn-color0)\">WARNING</span>: No datasets of type finalized_psf_ap_corr_catalog in collection &#x27;2.2i/runs/DP0.2/v23_0_2/PREOPS-905/step5_2/20220505T095134Z&#x27;.</pre>"
      ],
      "text/plain": [
       "<IPython.core.display.HTML object>"
      ]
     },
     "metadata": {},
     "output_type": "display_data"
    },
    {
     "data": {
      "text/html": [
       "<pre style=\"margin: 0.1em;\n",
       "padding-left: 0.25em;\n",
       "border-left-style: solid;\n",
       "font-family: var(--jp-code-font-family);\n",
       "font-size: var(--jp-code-font-size);\n",
       "line-height: var(--jp-code-line-height);\n",
       "\"><span style=\"color: var(--jp-warn-color2)\">lsst.pipe.base.graphBuilder</span> <span style=\"color: var(--jp-warn-color0)\">WARNING</span>: No datasets of type finalized_psf_ap_corr_catalog in collection &#x27;2.2i/runs/DP0.2/v23_0_2/PREOPS-905/step5_2/20220505T200125Z&#x27;.</pre>"
      ],
      "text/plain": [
       "<IPython.core.display.HTML object>"
      ]
     },
     "metadata": {},
     "output_type": "display_data"
    },
    {
     "data": {
      "text/html": [
       "<pre style=\"margin: 0.1em;\n",
       "padding-left: 0.25em;\n",
       "border-left-style: solid;\n",
       "font-family: var(--jp-code-font-family);\n",
       "font-size: var(--jp-code-font-size);\n",
       "line-height: var(--jp-code-line-height);\n",
       "\"><span style=\"color: var(--jp-warn-color2)\">lsst.pipe.base.graphBuilder</span> <span style=\"color: var(--jp-warn-color0)\">WARNING</span>: No datasets of type finalized_psf_ap_corr_catalog in collection &#x27;2.2i/runs/DP0.2/v23_0_2/PREOPS-905/step5_20/20220508T185905Z&#x27;.</pre>"
      ],
      "text/plain": [
       "<IPython.core.display.HTML object>"
      ]
     },
     "metadata": {},
     "output_type": "display_data"
    },
    {
     "data": {
      "text/html": [
       "<pre style=\"margin: 0.1em;\n",
       "padding-left: 0.25em;\n",
       "border-left-style: solid;\n",
       "font-family: var(--jp-code-font-family);\n",
       "font-size: var(--jp-code-font-size);\n",
       "line-height: var(--jp-code-line-height);\n",
       "\"><span style=\"color: var(--jp-warn-color2)\">lsst.pipe.base.graphBuilder</span> <span style=\"color: var(--jp-warn-color0)\">WARNING</span>: No datasets of type finalized_psf_ap_corr_catalog in collection &#x27;2.2i/runs/DP0.2/v23_0_2/PREOPS-905/step5_21/20220508T221147Z&#x27;.</pre>"
      ],
      "text/plain": [
       "<IPython.core.display.HTML object>"
      ]
     },
     "metadata": {},
     "output_type": "display_data"
    },
    {
     "data": {
      "text/html": [
       "<pre style=\"margin: 0.1em;\n",
       "padding-left: 0.25em;\n",
       "border-left-style: solid;\n",
       "font-family: var(--jp-code-font-family);\n",
       "font-size: var(--jp-code-font-size);\n",
       "line-height: var(--jp-code-line-height);\n",
       "\"><span style=\"color: var(--jp-warn-color2)\">lsst.pipe.base.graphBuilder</span> <span style=\"color: var(--jp-warn-color0)\">WARNING</span>: No datasets of type finalized_psf_ap_corr_catalog in collection &#x27;2.2i/runs/DP0.2/v23_0_2/PREOPS-905/step5_22/20220509T011312Z&#x27;.</pre>"
      ],
      "text/plain": [
       "<IPython.core.display.HTML object>"
      ]
     },
     "metadata": {},
     "output_type": "display_data"
    },
    {
     "data": {
      "text/html": [
       "<pre style=\"margin: 0.1em;\n",
       "padding-left: 0.25em;\n",
       "border-left-style: solid;\n",
       "font-family: var(--jp-code-font-family);\n",
       "font-size: var(--jp-code-font-size);\n",
       "line-height: var(--jp-code-line-height);\n",
       "\"><span style=\"color: var(--jp-warn-color2)\">lsst.pipe.base.graphBuilder</span> <span style=\"color: var(--jp-warn-color0)\">WARNING</span>: No datasets of type finalized_psf_ap_corr_catalog in collection &#x27;2.2i/runs/DP0.2/v23_0_2/PREOPS-905/step5_23/20220509T041228Z&#x27;.</pre>"
      ],
      "text/plain": [
       "<IPython.core.display.HTML object>"
      ]
     },
     "metadata": {},
     "output_type": "display_data"
    },
    {
     "data": {
      "text/html": [
       "<pre style=\"margin: 0.1em;\n",
       "padding-left: 0.25em;\n",
       "border-left-style: solid;\n",
       "font-family: var(--jp-code-font-family);\n",
       "font-size: var(--jp-code-font-size);\n",
       "line-height: var(--jp-code-line-height);\n",
       "\"><span style=\"color: var(--jp-warn-color2)\">lsst.pipe.base.graphBuilder</span> <span style=\"color: var(--jp-warn-color0)\">WARNING</span>: No datasets of type finalized_psf_ap_corr_catalog in collection &#x27;2.2i/runs/DP0.2/v23_0_2/PREOPS-905/step5_24/20220509T071757Z&#x27;.</pre>"
      ],
      "text/plain": [
       "<IPython.core.display.HTML object>"
      ]
     },
     "metadata": {},
     "output_type": "display_data"
    },
    {
     "data": {
      "text/html": [
       "<pre style=\"margin: 0.1em;\n",
       "padding-left: 0.25em;\n",
       "border-left-style: solid;\n",
       "font-family: var(--jp-code-font-family);\n",
       "font-size: var(--jp-code-font-size);\n",
       "line-height: var(--jp-code-line-height);\n",
       "\"><span style=\"color: var(--jp-warn-color2)\">lsst.pipe.base.graphBuilder</span> <span style=\"color: var(--jp-warn-color0)\">WARNING</span>: No datasets of type finalized_psf_ap_corr_catalog in collection &#x27;2.2i/runs/DP0.2/v23_0_2/PREOPS-905/step5_25/20220509T102239Z&#x27;.</pre>"
      ],
      "text/plain": [
       "<IPython.core.display.HTML object>"
      ]
     },
     "metadata": {},
     "output_type": "display_data"
    },
    {
     "data": {
      "text/html": [
       "<pre style=\"margin: 0.1em;\n",
       "padding-left: 0.25em;\n",
       "border-left-style: solid;\n",
       "font-family: var(--jp-code-font-family);\n",
       "font-size: var(--jp-code-font-size);\n",
       "line-height: var(--jp-code-line-height);\n",
       "\"><span style=\"color: var(--jp-warn-color2)\">lsst.pipe.base.graphBuilder</span> <span style=\"color: var(--jp-warn-color0)\">WARNING</span>: No datasets of type finalized_psf_ap_corr_catalog in collection &#x27;2.2i/runs/DP0.2/v23_0_2/PREOPS-905/step5_26/20220509T132805Z&#x27;.</pre>"
      ],
      "text/plain": [
       "<IPython.core.display.HTML object>"
      ]
     },
     "metadata": {},
     "output_type": "display_data"
    },
    {
     "data": {
      "text/html": [
       "<pre style=\"margin: 0.1em;\n",
       "padding-left: 0.25em;\n",
       "border-left-style: solid;\n",
       "font-family: var(--jp-code-font-family);\n",
       "font-size: var(--jp-code-font-size);\n",
       "line-height: var(--jp-code-line-height);\n",
       "\"><span style=\"color: var(--jp-warn-color2)\">lsst.pipe.base.graphBuilder</span> <span style=\"color: var(--jp-warn-color0)\">WARNING</span>: No datasets of type finalized_psf_ap_corr_catalog in collection &#x27;2.2i/runs/DP0.2/v23_0_2/PREOPS-905/step5_27/20220509T155625Z&#x27;.</pre>"
      ],
      "text/plain": [
       "<IPython.core.display.HTML object>"
      ]
     },
     "metadata": {},
     "output_type": "display_data"
    },
    {
     "data": {
      "text/html": [
       "<pre style=\"margin: 0.1em;\n",
       "padding-left: 0.25em;\n",
       "border-left-style: solid;\n",
       "font-family: var(--jp-code-font-family);\n",
       "font-size: var(--jp-code-font-size);\n",
       "line-height: var(--jp-code-line-height);\n",
       "\"><span style=\"color: var(--jp-warn-color2)\">lsst.pipe.base.graphBuilder</span> <span style=\"color: var(--jp-warn-color0)\">WARNING</span>: No datasets of type finalized_psf_ap_corr_catalog in collection &#x27;2.2i/runs/DP0.2/v23_0_2/PREOPS-905/step5_28/20220509T180251Z&#x27;.</pre>"
      ],
      "text/plain": [
       "<IPython.core.display.HTML object>"
      ]
     },
     "metadata": {},
     "output_type": "display_data"
    },
    {
     "data": {
      "text/html": [
       "<pre style=\"margin: 0.1em;\n",
       "padding-left: 0.25em;\n",
       "border-left-style: solid;\n",
       "font-family: var(--jp-code-font-family);\n",
       "font-size: var(--jp-code-font-size);\n",
       "line-height: var(--jp-code-line-height);\n",
       "\"><span style=\"color: var(--jp-warn-color2)\">lsst.pipe.base.graphBuilder</span> <span style=\"color: var(--jp-warn-color0)\">WARNING</span>: No datasets of type finalized_psf_ap_corr_catalog in collection &#x27;2.2i/runs/DP0.2/v23_0_2/PREOPS-905/step5_29/20220509T200842Z&#x27;.</pre>"
      ],
      "text/plain": [
       "<IPython.core.display.HTML object>"
      ]
     },
     "metadata": {},
     "output_type": "display_data"
    },
    {
     "data": {
      "text/html": [
       "<pre style=\"margin: 0.1em;\n",
       "padding-left: 0.25em;\n",
       "border-left-style: solid;\n",
       "font-family: var(--jp-code-font-family);\n",
       "font-size: var(--jp-code-font-size);\n",
       "line-height: var(--jp-code-line-height);\n",
       "\"><span style=\"color: var(--jp-warn-color2)\">lsst.pipe.base.graphBuilder</span> <span style=\"color: var(--jp-warn-color0)\">WARNING</span>: No datasets of type finalized_psf_ap_corr_catalog in collection &#x27;2.2i/runs/DP0.2/v23_0_2/PREOPS-905/step5_3/20220505T200225Z&#x27;.</pre>"
      ],
      "text/plain": [
       "<IPython.core.display.HTML object>"
      ]
     },
     "metadata": {},
     "output_type": "display_data"
    },
    {
     "data": {
      "text/html": [
       "<pre style=\"margin: 0.1em;\n",
       "padding-left: 0.25em;\n",
       "border-left-style: solid;\n",
       "font-family: var(--jp-code-font-family);\n",
       "font-size: var(--jp-code-font-size);\n",
       "line-height: var(--jp-code-line-height);\n",
       "\"><span style=\"color: var(--jp-warn-color2)\">lsst.pipe.base.graphBuilder</span> <span style=\"color: var(--jp-warn-color0)\">WARNING</span>: No datasets of type finalized_psf_ap_corr_catalog in collection &#x27;2.2i/runs/DP0.2/v23_0_2/PREOPS-905/step5_31/20220509T234815Z&#x27;.</pre>"
      ],
      "text/plain": [
       "<IPython.core.display.HTML object>"
      ]
     },
     "metadata": {},
     "output_type": "display_data"
    },
    {
     "data": {
      "text/html": [
       "<pre style=\"margin: 0.1em;\n",
       "padding-left: 0.25em;\n",
       "border-left-style: solid;\n",
       "font-family: var(--jp-code-font-family);\n",
       "font-size: var(--jp-code-font-size);\n",
       "line-height: var(--jp-code-line-height);\n",
       "\"><span style=\"color: var(--jp-warn-color2)\">lsst.pipe.base.graphBuilder</span> <span style=\"color: var(--jp-warn-color0)\">WARNING</span>: No datasets of type finalized_psf_ap_corr_catalog in collection &#x27;2.2i/runs/DP0.2/v23_0_2/PREOPS-905/step5_32/20220510T020028Z&#x27;.</pre>"
      ],
      "text/plain": [
       "<IPython.core.display.HTML object>"
      ]
     },
     "metadata": {},
     "output_type": "display_data"
    },
    {
     "data": {
      "text/html": [
       "<pre style=\"margin: 0.1em;\n",
       "padding-left: 0.25em;\n",
       "border-left-style: solid;\n",
       "font-family: var(--jp-code-font-family);\n",
       "font-size: var(--jp-code-font-size);\n",
       "line-height: var(--jp-code-line-height);\n",
       "\"><span style=\"color: var(--jp-warn-color2)\">lsst.pipe.base.graphBuilder</span> <span style=\"color: var(--jp-warn-color0)\">WARNING</span>: No datasets of type finalized_psf_ap_corr_catalog in collection &#x27;2.2i/runs/DP0.2/v23_0_2/PREOPS-905/step5_33/20220510T041257Z&#x27;.</pre>"
      ],
      "text/plain": [
       "<IPython.core.display.HTML object>"
      ]
     },
     "metadata": {},
     "output_type": "display_data"
    },
    {
     "data": {
      "text/html": [
       "<pre style=\"margin: 0.1em;\n",
       "padding-left: 0.25em;\n",
       "border-left-style: solid;\n",
       "font-family: var(--jp-code-font-family);\n",
       "font-size: var(--jp-code-font-size);\n",
       "line-height: var(--jp-code-line-height);\n",
       "\"><span style=\"color: var(--jp-warn-color2)\">lsst.pipe.base.graphBuilder</span> <span style=\"color: var(--jp-warn-color0)\">WARNING</span>: No datasets of type finalized_psf_ap_corr_catalog in collection &#x27;2.2i/runs/DP0.2/v23_0_2/PREOPS-905/step5_4/20220505T233000Z&#x27;.</pre>"
      ],
      "text/plain": [
       "<IPython.core.display.HTML object>"
      ]
     },
     "metadata": {},
     "output_type": "display_data"
    },
    {
     "data": {
      "text/html": [
       "<pre style=\"margin: 0.1em;\n",
       "padding-left: 0.25em;\n",
       "border-left-style: solid;\n",
       "font-family: var(--jp-code-font-family);\n",
       "font-size: var(--jp-code-font-size);\n",
       "line-height: var(--jp-code-line-height);\n",
       "\"><span style=\"color: var(--jp-warn-color2)\">lsst.pipe.base.graphBuilder</span> <span style=\"color: var(--jp-warn-color0)\">WARNING</span>: No datasets of type finalized_psf_ap_corr_catalog in collection &#x27;2.2i/runs/DP0.2/v23_0_2/PREOPS-905/step5_5/20220506T040307Z&#x27;.</pre>"
      ],
      "text/plain": [
       "<IPython.core.display.HTML object>"
      ]
     },
     "metadata": {},
     "output_type": "display_data"
    },
    {
     "data": {
      "text/html": [
       "<pre style=\"margin: 0.1em;\n",
       "padding-left: 0.25em;\n",
       "border-left-style: solid;\n",
       "font-family: var(--jp-code-font-family);\n",
       "font-size: var(--jp-code-font-size);\n",
       "line-height: var(--jp-code-line-height);\n",
       "\"><span style=\"color: var(--jp-warn-color2)\">lsst.pipe.base.graphBuilder</span> <span style=\"color: var(--jp-warn-color0)\">WARNING</span>: No datasets of type finalized_psf_ap_corr_catalog in collection &#x27;2.2i/runs/DP0.2/v23_0_2/PREOPS-905/step5_6/20220506T080709Z&#x27;.</pre>"
      ],
      "text/plain": [
       "<IPython.core.display.HTML object>"
      ]
     },
     "metadata": {},
     "output_type": "display_data"
    },
    {
     "data": {
      "text/html": [
       "<pre style=\"margin: 0.1em;\n",
       "padding-left: 0.25em;\n",
       "border-left-style: solid;\n",
       "font-family: var(--jp-code-font-family);\n",
       "font-size: var(--jp-code-font-size);\n",
       "line-height: var(--jp-code-line-height);\n",
       "\"><span style=\"color: var(--jp-warn-color2)\">lsst.pipe.base.graphBuilder</span> <span style=\"color: var(--jp-warn-color0)\">WARNING</span>: No datasets of type finalized_psf_ap_corr_catalog in collection &#x27;2.2i/runs/DP0.2/v23_0_2/PREOPS-905/step5_7/20220506T121157Z&#x27;.</pre>"
      ],
      "text/plain": [
       "<IPython.core.display.HTML object>"
      ]
     },
     "metadata": {},
     "output_type": "display_data"
    },
    {
     "data": {
      "text/html": [
       "<pre style=\"margin: 0.1em;\n",
       "padding-left: 0.25em;\n",
       "border-left-style: solid;\n",
       "font-family: var(--jp-code-font-family);\n",
       "font-size: var(--jp-code-font-size);\n",
       "line-height: var(--jp-code-line-height);\n",
       "\"><span style=\"color: var(--jp-warn-color2)\">lsst.pipe.base.graphBuilder</span> <span style=\"color: var(--jp-warn-color0)\">WARNING</span>: No datasets of type finalized_psf_ap_corr_catalog in collection &#x27;2.2i/runs/DP0.2/v23_0_2/PREOPS-905/step5_8/20220506T160546Z&#x27;.</pre>"
      ],
      "text/plain": [
       "<IPython.core.display.HTML object>"
      ]
     },
     "metadata": {},
     "output_type": "display_data"
    },
    {
     "data": {
      "text/html": [
       "<pre style=\"margin: 0.1em;\n",
       "padding-left: 0.25em;\n",
       "border-left-style: solid;\n",
       "font-family: var(--jp-code-font-family);\n",
       "font-size: var(--jp-code-font-size);\n",
       "line-height: var(--jp-code-line-height);\n",
       "\"><span style=\"color: var(--jp-warn-color2)\">lsst.pipe.base.graphBuilder</span> <span style=\"color: var(--jp-warn-color0)\">WARNING</span>: No datasets of type finalized_psf_ap_corr_catalog in collection &#x27;2.2i/runs/DP0.2/v23_0_2/PREOPS-905/step5_9/20220506T195012Z&#x27;.</pre>"
      ],
      "text/plain": [
       "<IPython.core.display.HTML object>"
      ]
     },
     "metadata": {},
     "output_type": "display_data"
    },
    {
     "data": {
      "text/html": [
       "<pre style=\"margin: 0.1em;\n",
       "padding-left: 0.25em;\n",
       "border-left-style: solid;\n",
       "font-family: var(--jp-code-font-family);\n",
       "font-size: var(--jp-code-font-size);\n",
       "line-height: var(--jp-code-line-height);\n",
       "\"><span style=\"color: var(--jp-warn-color2)\">lsst.pipe.base.graphBuilder</span> <span style=\"color: var(--jp-warn-color0)\">WARNING</span>: No datasets of type finalized_psf_ap_corr_catalog in collection &#x27;2.2i/runs/DP0.2/v23_0_1/PREOPS-905/step4_38/20220429T022751Z&#x27;.</pre>"
      ],
      "text/plain": [
       "<IPython.core.display.HTML object>"
      ]
     },
     "metadata": {},
     "output_type": "display_data"
    },
    {
     "data": {
      "text/html": [
       "<pre style=\"margin: 0.1em;\n",
       "padding-left: 0.25em;\n",
       "border-left-style: solid;\n",
       "font-family: var(--jp-code-font-family);\n",
       "font-size: var(--jp-code-font-size);\n",
       "line-height: var(--jp-code-line-height);\n",
       "\"><span style=\"color: var(--jp-warn-color2)\">lsst.pipe.base.graphBuilder</span> <span style=\"color: var(--jp-warn-color0)\">WARNING</span>: No datasets of type finalized_psf_ap_corr_catalog in collection &#x27;2.2i/runs/DP0.2/v23_0_1/PREOPS-905/step4_1/20220419T041129Z&#x27;.</pre>"
      ],
      "text/plain": [
       "<IPython.core.display.HTML object>"
      ]
     },
     "metadata": {},
     "output_type": "display_data"
    },
    {
     "data": {
      "text/html": [
       "<pre style=\"margin: 0.1em;\n",
       "padding-left: 0.25em;\n",
       "border-left-style: solid;\n",
       "font-family: var(--jp-code-font-family);\n",
       "font-size: var(--jp-code-font-size);\n",
       "line-height: var(--jp-code-line-height);\n",
       "\"><span style=\"color: var(--jp-warn-color2)\">lsst.pipe.base.graphBuilder</span> <span style=\"color: var(--jp-warn-color0)\">WARNING</span>: No datasets of type finalized_psf_ap_corr_catalog in collection &#x27;2.2i/runs/DP0.2/v23_0_1/PREOPS-905/step4_10/20220429T200139Z&#x27;.</pre>"
      ],
      "text/plain": [
       "<IPython.core.display.HTML object>"
      ]
     },
     "metadata": {},
     "output_type": "display_data"
    },
    {
     "data": {
      "text/html": [
       "<pre style=\"margin: 0.1em;\n",
       "padding-left: 0.25em;\n",
       "border-left-style: solid;\n",
       "font-family: var(--jp-code-font-family);\n",
       "font-size: var(--jp-code-font-size);\n",
       "line-height: var(--jp-code-line-height);\n",
       "\"><span style=\"color: var(--jp-warn-color2)\">lsst.pipe.base.graphBuilder</span> <span style=\"color: var(--jp-warn-color0)\">WARNING</span>: No datasets of type finalized_psf_ap_corr_catalog in collection &#x27;2.2i/runs/DP0.2/v23_0_1/PREOPS-905/step4_11/20220430T013535Z&#x27;.</pre>"
      ],
      "text/plain": [
       "<IPython.core.display.HTML object>"
      ]
     },
     "metadata": {},
     "output_type": "display_data"
    },
    {
     "data": {
      "text/html": [
       "<pre style=\"margin: 0.1em;\n",
       "padding-left: 0.25em;\n",
       "border-left-style: solid;\n",
       "font-family: var(--jp-code-font-family);\n",
       "font-size: var(--jp-code-font-size);\n",
       "line-height: var(--jp-code-line-height);\n",
       "\"><span style=\"color: var(--jp-warn-color2)\">lsst.pipe.base.graphBuilder</span> <span style=\"color: var(--jp-warn-color0)\">WARNING</span>: No datasets of type finalized_psf_ap_corr_catalog in collection &#x27;2.2i/runs/DP0.2/v23_0_1/PREOPS-905/step4_12/20220430T070958Z&#x27;.</pre>"
      ],
      "text/plain": [
       "<IPython.core.display.HTML object>"
      ]
     },
     "metadata": {},
     "output_type": "display_data"
    },
    {
     "data": {
      "text/html": [
       "<pre style=\"margin: 0.1em;\n",
       "padding-left: 0.25em;\n",
       "border-left-style: solid;\n",
       "font-family: var(--jp-code-font-family);\n",
       "font-size: var(--jp-code-font-size);\n",
       "line-height: var(--jp-code-line-height);\n",
       "\"><span style=\"color: var(--jp-warn-color2)\">lsst.pipe.base.graphBuilder</span> <span style=\"color: var(--jp-warn-color0)\">WARNING</span>: No datasets of type finalized_psf_ap_corr_catalog in collection &#x27;2.2i/runs/DP0.2/v23_0_1/PREOPS-905/step4_13/20220422T152623Z&#x27;.</pre>"
      ],
      "text/plain": [
       "<IPython.core.display.HTML object>"
      ]
     },
     "metadata": {},
     "output_type": "display_data"
    },
    {
     "data": {
      "text/html": [
       "<pre style=\"margin: 0.1em;\n",
       "padding-left: 0.25em;\n",
       "border-left-style: solid;\n",
       "font-family: var(--jp-code-font-family);\n",
       "font-size: var(--jp-code-font-size);\n",
       "line-height: var(--jp-code-line-height);\n",
       "\"><span style=\"color: var(--jp-warn-color2)\">lsst.pipe.base.graphBuilder</span> <span style=\"color: var(--jp-warn-color0)\">WARNING</span>: No datasets of type finalized_psf_ap_corr_catalog in collection &#x27;2.2i/runs/DP0.2/v23_0_1/PREOPS-905/step4_14/20220423T111506Z&#x27;.</pre>"
      ],
      "text/plain": [
       "<IPython.core.display.HTML object>"
      ]
     },
     "metadata": {},
     "output_type": "display_data"
    },
    {
     "data": {
      "text/html": [
       "<pre style=\"margin: 0.1em;\n",
       "padding-left: 0.25em;\n",
       "border-left-style: solid;\n",
       "font-family: var(--jp-code-font-family);\n",
       "font-size: var(--jp-code-font-size);\n",
       "line-height: var(--jp-code-line-height);\n",
       "\"><span style=\"color: var(--jp-warn-color2)\">lsst.pipe.base.graphBuilder</span> <span style=\"color: var(--jp-warn-color0)\">WARNING</span>: No datasets of type finalized_psf_ap_corr_catalog in collection &#x27;2.2i/runs/DP0.2/v23_0_1/PREOPS-905/step4_15/20220423T171322Z&#x27;.</pre>"
      ],
      "text/plain": [
       "<IPython.core.display.HTML object>"
      ]
     },
     "metadata": {},
     "output_type": "display_data"
    },
    {
     "data": {
      "text/html": [
       "<pre style=\"margin: 0.1em;\n",
       "padding-left: 0.25em;\n",
       "border-left-style: solid;\n",
       "font-family: var(--jp-code-font-family);\n",
       "font-size: var(--jp-code-font-size);\n",
       "line-height: var(--jp-code-line-height);\n",
       "\"><span style=\"color: var(--jp-warn-color2)\">lsst.pipe.base.graphBuilder</span> <span style=\"color: var(--jp-warn-color0)\">WARNING</span>: No datasets of type finalized_psf_ap_corr_catalog in collection &#x27;2.2i/runs/DP0.2/v23_0_1/PREOPS-905/step4_16/20220423T220848Z&#x27;.</pre>"
      ],
      "text/plain": [
       "<IPython.core.display.HTML object>"
      ]
     },
     "metadata": {},
     "output_type": "display_data"
    },
    {
     "data": {
      "text/html": [
       "<pre style=\"margin: 0.1em;\n",
       "padding-left: 0.25em;\n",
       "border-left-style: solid;\n",
       "font-family: var(--jp-code-font-family);\n",
       "font-size: var(--jp-code-font-size);\n",
       "line-height: var(--jp-code-line-height);\n",
       "\"><span style=\"color: var(--jp-warn-color2)\">lsst.pipe.base.graphBuilder</span> <span style=\"color: var(--jp-warn-color0)\">WARNING</span>: No datasets of type finalized_psf_ap_corr_catalog in collection &#x27;2.2i/runs/DP0.2/v23_0_1/PREOPS-905/step4_17/20220424T030657Z&#x27;.</pre>"
      ],
      "text/plain": [
       "<IPython.core.display.HTML object>"
      ]
     },
     "metadata": {},
     "output_type": "display_data"
    },
    {
     "data": {
      "text/html": [
       "<pre style=\"margin: 0.1em;\n",
       "padding-left: 0.25em;\n",
       "border-left-style: solid;\n",
       "font-family: var(--jp-code-font-family);\n",
       "font-size: var(--jp-code-font-size);\n",
       "line-height: var(--jp-code-line-height);\n",
       "\"><span style=\"color: var(--jp-warn-color2)\">lsst.pipe.base.graphBuilder</span> <span style=\"color: var(--jp-warn-color0)\">WARNING</span>: No datasets of type finalized_psf_ap_corr_catalog in collection &#x27;2.2i/runs/DP0.2/v23_0_1/PREOPS-905/step4_18/20220424T081202Z&#x27;.</pre>"
      ],
      "text/plain": [
       "<IPython.core.display.HTML object>"
      ]
     },
     "metadata": {},
     "output_type": "display_data"
    },
    {
     "data": {
      "text/html": [
       "<pre style=\"margin: 0.1em;\n",
       "padding-left: 0.25em;\n",
       "border-left-style: solid;\n",
       "font-family: var(--jp-code-font-family);\n",
       "font-size: var(--jp-code-font-size);\n",
       "line-height: var(--jp-code-line-height);\n",
       "\"><span style=\"color: var(--jp-warn-color2)\">lsst.pipe.base.graphBuilder</span> <span style=\"color: var(--jp-warn-color0)\">WARNING</span>: No datasets of type finalized_psf_ap_corr_catalog in collection &#x27;2.2i/runs/DP0.2/v23_0_1/PREOPS-905/step4_19/20220424T131819Z&#x27;.</pre>"
      ],
      "text/plain": [
       "<IPython.core.display.HTML object>"
      ]
     },
     "metadata": {},
     "output_type": "display_data"
    },
    {
     "data": {
      "text/html": [
       "<pre style=\"margin: 0.1em;\n",
       "padding-left: 0.25em;\n",
       "border-left-style: solid;\n",
       "font-family: var(--jp-code-font-family);\n",
       "font-size: var(--jp-code-font-size);\n",
       "line-height: var(--jp-code-line-height);\n",
       "\"><span style=\"color: var(--jp-warn-color2)\">lsst.pipe.base.graphBuilder</span> <span style=\"color: var(--jp-warn-color0)\">WARNING</span>: No datasets of type finalized_psf_ap_corr_catalog in collection &#x27;2.2i/runs/DP0.2/v23_0_1/PREOPS-905/step4_2/20220419T082436Z&#x27;.</pre>"
      ],
      "text/plain": [
       "<IPython.core.display.HTML object>"
      ]
     },
     "metadata": {},
     "output_type": "display_data"
    },
    {
     "data": {
      "text/html": [
       "<pre style=\"margin: 0.1em;\n",
       "padding-left: 0.25em;\n",
       "border-left-style: solid;\n",
       "font-family: var(--jp-code-font-family);\n",
       "font-size: var(--jp-code-font-size);\n",
       "line-height: var(--jp-code-line-height);\n",
       "\"><span style=\"color: var(--jp-warn-color2)\">lsst.pipe.base.graphBuilder</span> <span style=\"color: var(--jp-warn-color0)\">WARNING</span>: No datasets of type finalized_psf_ap_corr_catalog in collection &#x27;2.2i/runs/DP0.2/v23_0_1/PREOPS-905/step4_20/20220424T182451Z&#x27;.</pre>"
      ],
      "text/plain": [
       "<IPython.core.display.HTML object>"
      ]
     },
     "metadata": {},
     "output_type": "display_data"
    },
    {
     "data": {
      "text/html": [
       "<pre style=\"margin: 0.1em;\n",
       "padding-left: 0.25em;\n",
       "border-left-style: solid;\n",
       "font-family: var(--jp-code-font-family);\n",
       "font-size: var(--jp-code-font-size);\n",
       "line-height: var(--jp-code-line-height);\n",
       "\"><span style=\"color: var(--jp-warn-color2)\">lsst.pipe.base.graphBuilder</span> <span style=\"color: var(--jp-warn-color0)\">WARNING</span>: No datasets of type finalized_psf_ap_corr_catalog in collection &#x27;2.2i/runs/DP0.2/v23_0_1/PREOPS-905/step4_21/20220425T033108Z&#x27;.</pre>"
      ],
      "text/plain": [
       "<IPython.core.display.HTML object>"
      ]
     },
     "metadata": {},
     "output_type": "display_data"
    },
    {
     "data": {
      "text/html": [
       "<pre style=\"margin: 0.1em;\n",
       "padding-left: 0.25em;\n",
       "border-left-style: solid;\n",
       "font-family: var(--jp-code-font-family);\n",
       "font-size: var(--jp-code-font-size);\n",
       "line-height: var(--jp-code-line-height);\n",
       "\"><span style=\"color: var(--jp-warn-color2)\">lsst.pipe.base.graphBuilder</span> <span style=\"color: var(--jp-warn-color0)\">WARNING</span>: No datasets of type finalized_psf_ap_corr_catalog in collection &#x27;2.2i/runs/DP0.2/v23_0_1/PREOPS-905/step4_22/20220425T090248Z&#x27;.</pre>"
      ],
      "text/plain": [
       "<IPython.core.display.HTML object>"
      ]
     },
     "metadata": {},
     "output_type": "display_data"
    },
    {
     "data": {
      "text/html": [
       "<pre style=\"margin: 0.1em;\n",
       "padding-left: 0.25em;\n",
       "border-left-style: solid;\n",
       "font-family: var(--jp-code-font-family);\n",
       "font-size: var(--jp-code-font-size);\n",
       "line-height: var(--jp-code-line-height);\n",
       "\"><span style=\"color: var(--jp-warn-color2)\">lsst.pipe.base.graphBuilder</span> <span style=\"color: var(--jp-warn-color0)\">WARNING</span>: No datasets of type finalized_psf_ap_corr_catalog in collection &#x27;2.2i/runs/DP0.2/v23_0_1/PREOPS-905/step4_23/20220425T143818Z&#x27;.</pre>"
      ],
      "text/plain": [
       "<IPython.core.display.HTML object>"
      ]
     },
     "metadata": {},
     "output_type": "display_data"
    },
    {
     "data": {
      "text/html": [
       "<pre style=\"margin: 0.1em;\n",
       "padding-left: 0.25em;\n",
       "border-left-style: solid;\n",
       "font-family: var(--jp-code-font-family);\n",
       "font-size: var(--jp-code-font-size);\n",
       "line-height: var(--jp-code-line-height);\n",
       "\"><span style=\"color: var(--jp-warn-color2)\">lsst.pipe.base.graphBuilder</span> <span style=\"color: var(--jp-warn-color0)\">WARNING</span>: No datasets of type finalized_psf_ap_corr_catalog in collection &#x27;2.2i/runs/DP0.2/v23_0_1/PREOPS-905/step4_24/20220425T200112Z&#x27;.</pre>"
      ],
      "text/plain": [
       "<IPython.core.display.HTML object>"
      ]
     },
     "metadata": {},
     "output_type": "display_data"
    },
    {
     "data": {
      "text/html": [
       "<pre style=\"margin: 0.1em;\n",
       "padding-left: 0.25em;\n",
       "border-left-style: solid;\n",
       "font-family: var(--jp-code-font-family);\n",
       "font-size: var(--jp-code-font-size);\n",
       "line-height: var(--jp-code-line-height);\n",
       "\"><span style=\"color: var(--jp-warn-color2)\">lsst.pipe.base.graphBuilder</span> <span style=\"color: var(--jp-warn-color0)\">WARNING</span>: No datasets of type finalized_psf_ap_corr_catalog in collection &#x27;2.2i/runs/DP0.2/v23_0_1/PREOPS-905/step4_25/20220426T012543Z&#x27;.</pre>"
      ],
      "text/plain": [
       "<IPython.core.display.HTML object>"
      ]
     },
     "metadata": {},
     "output_type": "display_data"
    },
    {
     "data": {
      "text/html": [
       "<pre style=\"margin: 0.1em;\n",
       "padding-left: 0.25em;\n",
       "border-left-style: solid;\n",
       "font-family: var(--jp-code-font-family);\n",
       "font-size: var(--jp-code-font-size);\n",
       "line-height: var(--jp-code-line-height);\n",
       "\"><span style=\"color: var(--jp-warn-color2)\">lsst.pipe.base.graphBuilder</span> <span style=\"color: var(--jp-warn-color0)\">WARNING</span>: No datasets of type finalized_psf_ap_corr_catalog in collection &#x27;2.2i/runs/DP0.2/v23_0_1/PREOPS-905/step4_26/20220426T070107Z&#x27;.</pre>"
      ],
      "text/plain": [
       "<IPython.core.display.HTML object>"
      ]
     },
     "metadata": {},
     "output_type": "display_data"
    },
    {
     "data": {
      "text/html": [
       "<pre style=\"margin: 0.1em;\n",
       "padding-left: 0.25em;\n",
       "border-left-style: solid;\n",
       "font-family: var(--jp-code-font-family);\n",
       "font-size: var(--jp-code-font-size);\n",
       "line-height: var(--jp-code-line-height);\n",
       "\"><span style=\"color: var(--jp-warn-color2)\">lsst.pipe.base.graphBuilder</span> <span style=\"color: var(--jp-warn-color0)\">WARNING</span>: No datasets of type finalized_psf_ap_corr_catalog in collection &#x27;2.2i/runs/DP0.2/v23_0_1/PREOPS-905/step4_27/20220426T123155Z&#x27;.</pre>"
      ],
      "text/plain": [
       "<IPython.core.display.HTML object>"
      ]
     },
     "metadata": {},
     "output_type": "display_data"
    },
    {
     "data": {
      "text/html": [
       "<pre style=\"margin: 0.1em;\n",
       "padding-left: 0.25em;\n",
       "border-left-style: solid;\n",
       "font-family: var(--jp-code-font-family);\n",
       "font-size: var(--jp-code-font-size);\n",
       "line-height: var(--jp-code-line-height);\n",
       "\"><span style=\"color: var(--jp-warn-color2)\">lsst.pipe.base.graphBuilder</span> <span style=\"color: var(--jp-warn-color0)\">WARNING</span>: No datasets of type finalized_psf_ap_corr_catalog in collection &#x27;2.2i/runs/DP0.2/v23_0_1/PREOPS-905/step4_28/20220426T180134Z&#x27;.</pre>"
      ],
      "text/plain": [
       "<IPython.core.display.HTML object>"
      ]
     },
     "metadata": {},
     "output_type": "display_data"
    },
    {
     "data": {
      "text/html": [
       "<pre style=\"margin: 0.1em;\n",
       "padding-left: 0.25em;\n",
       "border-left-style: solid;\n",
       "font-family: var(--jp-code-font-family);\n",
       "font-size: var(--jp-code-font-size);\n",
       "line-height: var(--jp-code-line-height);\n",
       "\"><span style=\"color: var(--jp-warn-color2)\">lsst.pipe.base.graphBuilder</span> <span style=\"color: var(--jp-warn-color0)\">WARNING</span>: No datasets of type finalized_psf_ap_corr_catalog in collection &#x27;2.2i/runs/DP0.2/v23_0_1/PREOPS-905/step4_29/20220426T233505Z&#x27;.</pre>"
      ],
      "text/plain": [
       "<IPython.core.display.HTML object>"
      ]
     },
     "metadata": {},
     "output_type": "display_data"
    },
    {
     "data": {
      "text/html": [
       "<pre style=\"margin: 0.1em;\n",
       "padding-left: 0.25em;\n",
       "border-left-style: solid;\n",
       "font-family: var(--jp-code-font-family);\n",
       "font-size: var(--jp-code-font-size);\n",
       "line-height: var(--jp-code-line-height);\n",
       "\"><span style=\"color: var(--jp-warn-color2)\">lsst.pipe.base.graphBuilder</span> <span style=\"color: var(--jp-warn-color0)\">WARNING</span>: No datasets of type finalized_psf_ap_corr_catalog in collection &#x27;2.2i/runs/DP0.2/v23_0_1/PREOPS-905/step4_3/20220419T123328Z&#x27;.</pre>"
      ],
      "text/plain": [
       "<IPython.core.display.HTML object>"
      ]
     },
     "metadata": {},
     "output_type": "display_data"
    },
    {
     "data": {
      "text/html": [
       "<pre style=\"margin: 0.1em;\n",
       "padding-left: 0.25em;\n",
       "border-left-style: solid;\n",
       "font-family: var(--jp-code-font-family);\n",
       "font-size: var(--jp-code-font-size);\n",
       "line-height: var(--jp-code-line-height);\n",
       "\"><span style=\"color: var(--jp-warn-color2)\">lsst.pipe.base.graphBuilder</span> <span style=\"color: var(--jp-warn-color0)\">WARNING</span>: No datasets of type finalized_psf_ap_corr_catalog in collection &#x27;2.2i/runs/DP0.2/v23_0_1/PREOPS-905/step4_30/20220427T050650Z&#x27;.</pre>"
      ],
      "text/plain": [
       "<IPython.core.display.HTML object>"
      ]
     },
     "metadata": {},
     "output_type": "display_data"
    },
    {
     "data": {
      "text/html": [
       "<pre style=\"margin: 0.1em;\n",
       "padding-left: 0.25em;\n",
       "border-left-style: solid;\n",
       "font-family: var(--jp-code-font-family);\n",
       "font-size: var(--jp-code-font-size);\n",
       "line-height: var(--jp-code-line-height);\n",
       "\"><span style=\"color: var(--jp-warn-color2)\">lsst.pipe.base.graphBuilder</span> <span style=\"color: var(--jp-warn-color0)\">WARNING</span>: No datasets of type finalized_psf_ap_corr_catalog in collection &#x27;2.2i/runs/DP0.2/v23_0_1/PREOPS-905/step4_31/20220427T103906Z&#x27;.</pre>"
      ],
      "text/plain": [
       "<IPython.core.display.HTML object>"
      ]
     },
     "metadata": {},
     "output_type": "display_data"
    },
    {
     "data": {
      "text/html": [
       "<pre style=\"margin: 0.1em;\n",
       "padding-left: 0.25em;\n",
       "border-left-style: solid;\n",
       "font-family: var(--jp-code-font-family);\n",
       "font-size: var(--jp-code-font-size);\n",
       "line-height: var(--jp-code-line-height);\n",
       "\"><span style=\"color: var(--jp-warn-color2)\">lsst.pipe.base.graphBuilder</span> <span style=\"color: var(--jp-warn-color0)\">WARNING</span>: No datasets of type finalized_psf_ap_corr_catalog in collection &#x27;2.2i/runs/DP0.2/v23_0_1/PREOPS-905/step4_32/20220427T161652Z&#x27;.</pre>"
      ],
      "text/plain": [
       "<IPython.core.display.HTML object>"
      ]
     },
     "metadata": {},
     "output_type": "display_data"
    },
    {
     "data": {
      "text/html": [
       "<pre style=\"margin: 0.1em;\n",
       "padding-left: 0.25em;\n",
       "border-left-style: solid;\n",
       "font-family: var(--jp-code-font-family);\n",
       "font-size: var(--jp-code-font-size);\n",
       "line-height: var(--jp-code-line-height);\n",
       "\"><span style=\"color: var(--jp-warn-color2)\">lsst.pipe.base.graphBuilder</span> <span style=\"color: var(--jp-warn-color0)\">WARNING</span>: No datasets of type finalized_psf_ap_corr_catalog in collection &#x27;2.2i/runs/DP0.2/v23_0_1/PREOPS-905/step4_33/20220427T215556Z&#x27;.</pre>"
      ],
      "text/plain": [
       "<IPython.core.display.HTML object>"
      ]
     },
     "metadata": {},
     "output_type": "display_data"
    },
    {
     "data": {
      "text/html": [
       "<pre style=\"margin: 0.1em;\n",
       "padding-left: 0.25em;\n",
       "border-left-style: solid;\n",
       "font-family: var(--jp-code-font-family);\n",
       "font-size: var(--jp-code-font-size);\n",
       "line-height: var(--jp-code-line-height);\n",
       "\"><span style=\"color: var(--jp-warn-color2)\">lsst.pipe.base.graphBuilder</span> <span style=\"color: var(--jp-warn-color0)\">WARNING</span>: No datasets of type finalized_psf_ap_corr_catalog in collection &#x27;2.2i/runs/DP0.2/v23_0_1/PREOPS-905/step4_34/20220428T033022Z&#x27;.</pre>"
      ],
      "text/plain": [
       "<IPython.core.display.HTML object>"
      ]
     },
     "metadata": {},
     "output_type": "display_data"
    },
    {
     "data": {
      "text/html": [
       "<pre style=\"margin: 0.1em;\n",
       "padding-left: 0.25em;\n",
       "border-left-style: solid;\n",
       "font-family: var(--jp-code-font-family);\n",
       "font-size: var(--jp-code-font-size);\n",
       "line-height: var(--jp-code-line-height);\n",
       "\"><span style=\"color: var(--jp-warn-color2)\">lsst.pipe.base.graphBuilder</span> <span style=\"color: var(--jp-warn-color0)\">WARNING</span>: No datasets of type finalized_psf_ap_corr_catalog in collection &#x27;2.2i/runs/DP0.2/v23_0_1/PREOPS-905/step4_35/20220428T091545Z&#x27;.</pre>"
      ],
      "text/plain": [
       "<IPython.core.display.HTML object>"
      ]
     },
     "metadata": {},
     "output_type": "display_data"
    },
    {
     "data": {
      "text/html": [
       "<pre style=\"margin: 0.1em;\n",
       "padding-left: 0.25em;\n",
       "border-left-style: solid;\n",
       "font-family: var(--jp-code-font-family);\n",
       "font-size: var(--jp-code-font-size);\n",
       "line-height: var(--jp-code-line-height);\n",
       "\"><span style=\"color: var(--jp-warn-color2)\">lsst.pipe.base.graphBuilder</span> <span style=\"color: var(--jp-warn-color0)\">WARNING</span>: No datasets of type finalized_psf_ap_corr_catalog in collection &#x27;2.2i/runs/DP0.2/v23_0_1/PREOPS-905/step4_36/20220428T145517Z&#x27;.</pre>"
      ],
      "text/plain": [
       "<IPython.core.display.HTML object>"
      ]
     },
     "metadata": {},
     "output_type": "display_data"
    },
    {
     "data": {
      "text/html": [
       "<pre style=\"margin: 0.1em;\n",
       "padding-left: 0.25em;\n",
       "border-left-style: solid;\n",
       "font-family: var(--jp-code-font-family);\n",
       "font-size: var(--jp-code-font-size);\n",
       "line-height: var(--jp-code-line-height);\n",
       "\"><span style=\"color: var(--jp-warn-color2)\">lsst.pipe.base.graphBuilder</span> <span style=\"color: var(--jp-warn-color0)\">WARNING</span>: No datasets of type finalized_psf_ap_corr_catalog in collection &#x27;2.2i/runs/DP0.2/v23_0_1/PREOPS-905/step4_37/20220428T203907Z&#x27;.</pre>"
      ],
      "text/plain": [
       "<IPython.core.display.HTML object>"
      ]
     },
     "metadata": {},
     "output_type": "display_data"
    },
    {
     "data": {
      "text/html": [
       "<pre style=\"margin: 0.1em;\n",
       "padding-left: 0.25em;\n",
       "border-left-style: solid;\n",
       "font-family: var(--jp-code-font-family);\n",
       "font-size: var(--jp-code-font-size);\n",
       "line-height: var(--jp-code-line-height);\n",
       "\"><span style=\"color: var(--jp-warn-color2)\">lsst.pipe.base.graphBuilder</span> <span style=\"color: var(--jp-warn-color0)\">WARNING</span>: No datasets of type finalized_psf_ap_corr_catalog in collection &#x27;2.2i/runs/DP0.2/v23_0_1/PREOPS-905/step4_39/20220429T081628Z&#x27;.</pre>"
      ],
      "text/plain": [
       "<IPython.core.display.HTML object>"
      ]
     },
     "metadata": {},
     "output_type": "display_data"
    },
    {
     "data": {
      "text/html": [
       "<pre style=\"margin: 0.1em;\n",
       "padding-left: 0.25em;\n",
       "border-left-style: solid;\n",
       "font-family: var(--jp-code-font-family);\n",
       "font-size: var(--jp-code-font-size);\n",
       "line-height: var(--jp-code-line-height);\n",
       "\"><span style=\"color: var(--jp-warn-color2)\">lsst.pipe.base.graphBuilder</span> <span style=\"color: var(--jp-warn-color0)\">WARNING</span>: No datasets of type finalized_psf_ap_corr_catalog in collection &#x27;2.2i/runs/DP0.2/v23_0_1/PREOPS-905/step4_4/20220419T163046Z&#x27;.</pre>"
      ],
      "text/plain": [
       "<IPython.core.display.HTML object>"
      ]
     },
     "metadata": {},
     "output_type": "display_data"
    },
    {
     "data": {
      "text/html": [
       "<pre style=\"margin: 0.1em;\n",
       "padding-left: 0.25em;\n",
       "border-left-style: solid;\n",
       "font-family: var(--jp-code-font-family);\n",
       "font-size: var(--jp-code-font-size);\n",
       "line-height: var(--jp-code-line-height);\n",
       "\"><span style=\"color: var(--jp-warn-color2)\">lsst.pipe.base.graphBuilder</span> <span style=\"color: var(--jp-warn-color0)\">WARNING</span>: No datasets of type finalized_psf_ap_corr_catalog in collection &#x27;2.2i/runs/DP0.2/v23_0_1/PREOPS-905/step4_40/20220429T135816Z&#x27;.</pre>"
      ],
      "text/plain": [
       "<IPython.core.display.HTML object>"
      ]
     },
     "metadata": {},
     "output_type": "display_data"
    },
    {
     "data": {
      "text/html": [
       "<pre style=\"margin: 0.1em;\n",
       "padding-left: 0.25em;\n",
       "border-left-style: solid;\n",
       "font-family: var(--jp-code-font-family);\n",
       "font-size: var(--jp-code-font-size);\n",
       "line-height: var(--jp-code-line-height);\n",
       "\"><span style=\"color: var(--jp-warn-color2)\">lsst.pipe.base.graphBuilder</span> <span style=\"color: var(--jp-warn-color0)\">WARNING</span>: No datasets of type finalized_psf_ap_corr_catalog in collection &#x27;2.2i/runs/DP0.2/v23_0_1/PREOPS-905/step4_5/20220419T204203Z&#x27;.</pre>"
      ],
      "text/plain": [
       "<IPython.core.display.HTML object>"
      ]
     },
     "metadata": {},
     "output_type": "display_data"
    },
    {
     "data": {
      "text/html": [
       "<pre style=\"margin: 0.1em;\n",
       "padding-left: 0.25em;\n",
       "border-left-style: solid;\n",
       "font-family: var(--jp-code-font-family);\n",
       "font-size: var(--jp-code-font-size);\n",
       "line-height: var(--jp-code-line-height);\n",
       "\"><span style=\"color: var(--jp-warn-color2)\">lsst.pipe.base.graphBuilder</span> <span style=\"color: var(--jp-warn-color0)\">WARNING</span>: No datasets of type finalized_psf_ap_corr_catalog in collection &#x27;2.2i/runs/DP0.2/v23_0_1/PREOPS-905/step4_6/20220420T005103Z&#x27;.</pre>"
      ],
      "text/plain": [
       "<IPython.core.display.HTML object>"
      ]
     },
     "metadata": {},
     "output_type": "display_data"
    },
    {
     "data": {
      "text/html": [
       "<pre style=\"margin: 0.1em;\n",
       "padding-left: 0.25em;\n",
       "border-left-style: solid;\n",
       "font-family: var(--jp-code-font-family);\n",
       "font-size: var(--jp-code-font-size);\n",
       "line-height: var(--jp-code-line-height);\n",
       "\"><span style=\"color: var(--jp-warn-color2)\">lsst.pipe.base.graphBuilder</span> <span style=\"color: var(--jp-warn-color0)\">WARNING</span>: No datasets of type finalized_psf_ap_corr_catalog in collection &#x27;2.2i/runs/DP0.2/v23_0_1/PREOPS-905/step4_7/20220420T173758Z&#x27;.</pre>"
      ],
      "text/plain": [
       "<IPython.core.display.HTML object>"
      ]
     },
     "metadata": {},
     "output_type": "display_data"
    },
    {
     "data": {
      "text/html": [
       "<pre style=\"margin: 0.1em;\n",
       "padding-left: 0.25em;\n",
       "border-left-style: solid;\n",
       "font-family: var(--jp-code-font-family);\n",
       "font-size: var(--jp-code-font-size);\n",
       "line-height: var(--jp-code-line-height);\n",
       "\"><span style=\"color: var(--jp-warn-color2)\">lsst.pipe.base.graphBuilder</span> <span style=\"color: var(--jp-warn-color0)\">WARNING</span>: No datasets of type finalized_psf_ap_corr_catalog in collection &#x27;2.2i/runs/DP0.2/v23_0_1/PREOPS-905/step4_8/20220420T233604Z&#x27;.</pre>"
      ],
      "text/plain": [
       "<IPython.core.display.HTML object>"
      ]
     },
     "metadata": {},
     "output_type": "display_data"
    },
    {
     "data": {
      "text/html": [
       "<pre style=\"margin: 0.1em;\n",
       "padding-left: 0.25em;\n",
       "border-left-style: solid;\n",
       "font-family: var(--jp-code-font-family);\n",
       "font-size: var(--jp-code-font-size);\n",
       "line-height: var(--jp-code-line-height);\n",
       "\"><span style=\"color: var(--jp-warn-color2)\">lsst.pipe.base.graphBuilder</span> <span style=\"color: var(--jp-warn-color0)\">WARNING</span>: No datasets of type finalized_psf_ap_corr_catalog in collection &#x27;2.2i/runs/DP0.2/v23_0_1/PREOPS-905/step4_9/20220421T052720Z&#x27;.</pre>"
      ],
      "text/plain": [
       "<IPython.core.display.HTML object>"
      ]
     },
     "metadata": {},
     "output_type": "display_data"
    },
    {
     "data": {
      "text/html": [
       "<pre style=\"margin: 0.1em;\n",
       "padding-left: 0.25em;\n",
       "border-left-style: solid;\n",
       "font-family: var(--jp-code-font-family);\n",
       "font-size: var(--jp-code-font-size);\n",
       "line-height: var(--jp-code-line-height);\n",
       "\"><span style=\"color: var(--jp-warn-color2)\">lsst.pipe.base.graphBuilder</span> <span style=\"color: var(--jp-warn-color0)\">WARNING</span>: No datasets of type finalized_psf_ap_corr_catalog in collection &#x27;2.2i/runs/DP0.2/v23_0_1/PREOPS-905/step3_32/20220418T184335Z&#x27;.</pre>"
      ],
      "text/plain": [
       "<IPython.core.display.HTML object>"
      ]
     },
     "metadata": {},
     "output_type": "display_data"
    },
    {
     "data": {
      "text/html": [
       "<pre style=\"margin: 0.1em;\n",
       "padding-left: 0.25em;\n",
       "border-left-style: solid;\n",
       "font-family: var(--jp-code-font-family);\n",
       "font-size: var(--jp-code-font-size);\n",
       "line-height: var(--jp-code-line-height);\n",
       "\"><span style=\"color: var(--jp-warn-color2)\">lsst.pipe.base.graphBuilder</span> <span style=\"color: var(--jp-warn-color0)\">WARNING</span>: No datasets of type finalized_psf_ap_corr_catalog in collection &#x27;2.2i/runs/DP0.2/v23_0_1/PREOPS-905/step3_32/20220418T180525Z&#x27;.</pre>"
      ],
      "text/plain": [
       "<IPython.core.display.HTML object>"
      ]
     },
     "metadata": {},
     "output_type": "display_data"
    },
    {
     "data": {
      "text/html": [
       "<pre style=\"margin: 0.1em;\n",
       "padding-left: 0.25em;\n",
       "border-left-style: solid;\n",
       "font-family: var(--jp-code-font-family);\n",
       "font-size: var(--jp-code-font-size);\n",
       "line-height: var(--jp-code-line-height);\n",
       "\"><span style=\"color: var(--jp-warn-color2)\">lsst.pipe.base.graphBuilder</span> <span style=\"color: var(--jp-warn-color0)\">WARNING</span>: No datasets of type finalized_psf_ap_corr_catalog in collection &#x27;2.2i/runs/DP0.2/v23_0_1/PREOPS-905/step3_32/20220418T172818Z&#x27;.</pre>"
      ],
      "text/plain": [
       "<IPython.core.display.HTML object>"
      ]
     },
     "metadata": {},
     "output_type": "display_data"
    },
    {
     "data": {
      "text/html": [
       "<pre style=\"margin: 0.1em;\n",
       "padding-left: 0.25em;\n",
       "border-left-style: solid;\n",
       "font-family: var(--jp-code-font-family);\n",
       "font-size: var(--jp-code-font-size);\n",
       "line-height: var(--jp-code-line-height);\n",
       "\"><span style=\"color: var(--jp-warn-color2)\">lsst.pipe.base.graphBuilder</span> <span style=\"color: var(--jp-warn-color0)\">WARNING</span>: No datasets of type finalized_psf_ap_corr_catalog in collection &#x27;2.2i/runs/DP0.2/v23_0_1/PREOPS-905/step3_32/20220418T165935Z&#x27;.</pre>"
      ],
      "text/plain": [
       "<IPython.core.display.HTML object>"
      ]
     },
     "metadata": {},
     "output_type": "display_data"
    },
    {
     "data": {
      "text/html": [
       "<pre style=\"margin: 0.1em;\n",
       "padding-left: 0.25em;\n",
       "border-left-style: solid;\n",
       "font-family: var(--jp-code-font-family);\n",
       "font-size: var(--jp-code-font-size);\n",
       "line-height: var(--jp-code-line-height);\n",
       "\"><span style=\"color: var(--jp-warn-color2)\">lsst.pipe.base.graphBuilder</span> <span style=\"color: var(--jp-warn-color0)\">WARNING</span>: No datasets of type finalized_psf_ap_corr_catalog in collection &#x27;2.2i/runs/DP0.2/v23_0_1/PREOPS-905/step3_32/20220418T165845Z&#x27;.</pre>"
      ],
      "text/plain": [
       "<IPython.core.display.HTML object>"
      ]
     },
     "metadata": {},
     "output_type": "display_data"
    },
    {
     "data": {
      "text/html": [
       "<pre style=\"margin: 0.1em;\n",
       "padding-left: 0.25em;\n",
       "border-left-style: solid;\n",
       "font-family: var(--jp-code-font-family);\n",
       "font-size: var(--jp-code-font-size);\n",
       "line-height: var(--jp-code-line-height);\n",
       "\"><span style=\"color: var(--jp-warn-color2)\">lsst.pipe.base.graphBuilder</span> <span style=\"color: var(--jp-warn-color0)\">WARNING</span>: No datasets of type finalized_psf_ap_corr_catalog in collection &#x27;2.2i/runs/DP0.2/v23_0_1/PREOPS-905/step3_9/20220405T164242Z&#x27;.</pre>"
      ],
      "text/plain": [
       "<IPython.core.display.HTML object>"
      ]
     },
     "metadata": {},
     "output_type": "display_data"
    },
    {
     "data": {
      "text/html": [
       "<pre style=\"margin: 0.1em;\n",
       "padding-left: 0.25em;\n",
       "border-left-style: solid;\n",
       "font-family: var(--jp-code-font-family);\n",
       "font-size: var(--jp-code-font-size);\n",
       "line-height: var(--jp-code-line-height);\n",
       "\"><span style=\"color: var(--jp-warn-color2)\">lsst.pipe.base.graphBuilder</span> <span style=\"color: var(--jp-warn-color0)\">WARNING</span>: No datasets of type finalized_psf_ap_corr_catalog in collection &#x27;2.2i/runs/DP0.2/v23_0_1/PREOPS-905/step3_9/20220330T170001Z&#x27;.</pre>"
      ],
      "text/plain": [
       "<IPython.core.display.HTML object>"
      ]
     },
     "metadata": {},
     "output_type": "display_data"
    },
    {
     "data": {
      "text/html": [
       "<pre style=\"margin: 0.1em;\n",
       "padding-left: 0.25em;\n",
       "border-left-style: solid;\n",
       "font-family: var(--jp-code-font-family);\n",
       "font-size: var(--jp-code-font-size);\n",
       "line-height: var(--jp-code-line-height);\n",
       "\"><span style=\"color: var(--jp-warn-color2)\">lsst.pipe.base.graphBuilder</span> <span style=\"color: var(--jp-warn-color0)\">WARNING</span>: No datasets of type finalized_psf_ap_corr_catalog in collection &#x27;2.2i/runs/DP0.2/v23_0_1/PREOPS-905/step3_7/20220330T145650Z&#x27;.</pre>"
      ],
      "text/plain": [
       "<IPython.core.display.HTML object>"
      ]
     },
     "metadata": {},
     "output_type": "display_data"
    },
    {
     "data": {
      "text/html": [
       "<pre style=\"margin: 0.1em;\n",
       "padding-left: 0.25em;\n",
       "border-left-style: solid;\n",
       "font-family: var(--jp-code-font-family);\n",
       "font-size: var(--jp-code-font-size);\n",
       "line-height: var(--jp-code-line-height);\n",
       "\"><span style=\"color: var(--jp-warn-color2)\">lsst.pipe.base.graphBuilder</span> <span style=\"color: var(--jp-warn-color0)\">WARNING</span>: No datasets of type finalized_psf_ap_corr_catalog in collection &#x27;2.2i/runs/DP0.2/v23_0_1/PREOPS-905/step3_5/20220329T232416Z&#x27;.</pre>"
      ],
      "text/plain": [
       "<IPython.core.display.HTML object>"
      ]
     },
     "metadata": {},
     "output_type": "display_data"
    },
    {
     "data": {
      "text/html": [
       "<pre style=\"margin: 0.1em;\n",
       "padding-left: 0.25em;\n",
       "border-left-style: solid;\n",
       "font-family: var(--jp-code-font-family);\n",
       "font-size: var(--jp-code-font-size);\n",
       "line-height: var(--jp-code-line-height);\n",
       "\"><span style=\"color: var(--jp-warn-color2)\">lsst.pipe.base.graphBuilder</span> <span style=\"color: var(--jp-warn-color0)\">WARNING</span>: No datasets of type finalized_psf_ap_corr_catalog in collection &#x27;2.2i/runs/DP0.2/v23_0_1/PREOPS-905/step3_32/20220410T153911Z&#x27;.</pre>"
      ],
      "text/plain": [
       "<IPython.core.display.HTML object>"
      ]
     },
     "metadata": {},
     "output_type": "display_data"
    },
    {
     "data": {
      "text/html": [
       "<pre style=\"margin: 0.1em;\n",
       "padding-left: 0.25em;\n",
       "border-left-style: solid;\n",
       "font-family: var(--jp-code-font-family);\n",
       "font-size: var(--jp-code-font-size);\n",
       "line-height: var(--jp-code-line-height);\n",
       "\"><span style=\"color: var(--jp-warn-color2)\">lsst.pipe.base.graphBuilder</span> <span style=\"color: var(--jp-warn-color0)\">WARNING</span>: No datasets of type finalized_psf_ap_corr_catalog in collection &#x27;2.2i/runs/DP0.2/v23_0_1/PREOPS-905/step3_32/20220410T130944Z&#x27;.</pre>"
      ],
      "text/plain": [
       "<IPython.core.display.HTML object>"
      ]
     },
     "metadata": {},
     "output_type": "display_data"
    },
    {
     "data": {
      "text/html": [
       "<pre style=\"margin: 0.1em;\n",
       "padding-left: 0.25em;\n",
       "border-left-style: solid;\n",
       "font-family: var(--jp-code-font-family);\n",
       "font-size: var(--jp-code-font-size);\n",
       "line-height: var(--jp-code-line-height);\n",
       "\"><span style=\"color: var(--jp-warn-color2)\">lsst.pipe.base.graphBuilder</span> <span style=\"color: var(--jp-warn-color0)\">WARNING</span>: No datasets of type finalized_psf_ap_corr_catalog in collection &#x27;2.2i/runs/DP0.2/v23_0_1/PREOPS-905/step3_32/20220407T030512Z&#x27;.</pre>"
      ],
      "text/plain": [
       "<IPython.core.display.HTML object>"
      ]
     },
     "metadata": {},
     "output_type": "display_data"
    },
    {
     "data": {
      "text/html": [
       "<pre style=\"margin: 0.1em;\n",
       "padding-left: 0.25em;\n",
       "border-left-style: solid;\n",
       "font-family: var(--jp-code-font-family);\n",
       "font-size: var(--jp-code-font-size);\n",
       "line-height: var(--jp-code-line-height);\n",
       "\"><span style=\"color: var(--jp-warn-color2)\">lsst.pipe.base.graphBuilder</span> <span style=\"color: var(--jp-warn-color0)\">WARNING</span>: No datasets of type finalized_psf_ap_corr_catalog in collection &#x27;2.2i/runs/DP0.2/v23_0_1/PREOPS-905/step3_20/20220406T145057Z&#x27;.</pre>"
      ],
      "text/plain": [
       "<IPython.core.display.HTML object>"
      ]
     },
     "metadata": {},
     "output_type": "display_data"
    },
    {
     "data": {
      "text/html": [
       "<pre style=\"margin: 0.1em;\n",
       "padding-left: 0.25em;\n",
       "border-left-style: solid;\n",
       "font-family: var(--jp-code-font-family);\n",
       "font-size: var(--jp-code-font-size);\n",
       "line-height: var(--jp-code-line-height);\n",
       "\"><span style=\"color: var(--jp-warn-color2)\">lsst.pipe.base.graphBuilder</span> <span style=\"color: var(--jp-warn-color0)\">WARNING</span>: No datasets of type finalized_psf_ap_corr_catalog in collection &#x27;2.2i/runs/DP0.2/v23_0_1/PREOPS-905/step3_20/20220331T124128Z&#x27;.</pre>"
      ],
      "text/plain": [
       "<IPython.core.display.HTML object>"
      ]
     },
     "metadata": {},
     "output_type": "display_data"
    },
    {
     "data": {
      "text/html": [
       "<pre style=\"margin: 0.1em;\n",
       "padding-left: 0.25em;\n",
       "border-left-style: solid;\n",
       "font-family: var(--jp-code-font-family);\n",
       "font-size: var(--jp-code-font-size);\n",
       "line-height: var(--jp-code-line-height);\n",
       "\"><span style=\"color: var(--jp-warn-color2)\">lsst.pipe.base.graphBuilder</span> <span style=\"color: var(--jp-warn-color0)\">WARNING</span>: No datasets of type finalized_psf_ap_corr_catalog in collection &#x27;2.2i/runs/DP0.2/v23_0_1/PREOPS-905/step3_19/20220331T110357Z&#x27;.</pre>"
      ],
      "text/plain": [
       "<IPython.core.display.HTML object>"
      ]
     },
     "metadata": {},
     "output_type": "display_data"
    },
    {
     "data": {
      "text/html": [
       "<pre style=\"margin: 0.1em;\n",
       "padding-left: 0.25em;\n",
       "border-left-style: solid;\n",
       "font-family: var(--jp-code-font-family);\n",
       "font-size: var(--jp-code-font-size);\n",
       "line-height: var(--jp-code-line-height);\n",
       "\"><span style=\"color: var(--jp-warn-color2)\">lsst.pipe.base.graphBuilder</span> <span style=\"color: var(--jp-warn-color0)\">WARNING</span>: No datasets of type finalized_psf_ap_corr_catalog in collection &#x27;2.2i/runs/DP0.2/v23_0_1/PREOPS-905/step3_18/20220406T130306Z&#x27;.</pre>"
      ],
      "text/plain": [
       "<IPython.core.display.HTML object>"
      ]
     },
     "metadata": {},
     "output_type": "display_data"
    },
    {
     "data": {
      "text/html": [
       "<pre style=\"margin: 0.1em;\n",
       "padding-left: 0.25em;\n",
       "border-left-style: solid;\n",
       "font-family: var(--jp-code-font-family);\n",
       "font-size: var(--jp-code-font-size);\n",
       "line-height: var(--jp-code-line-height);\n",
       "\"><span style=\"color: var(--jp-warn-color2)\">lsst.pipe.base.graphBuilder</span> <span style=\"color: var(--jp-warn-color0)\">WARNING</span>: No datasets of type finalized_psf_ap_corr_catalog in collection &#x27;2.2i/runs/DP0.2/v23_0_1/PREOPS-905/step3_18/20220331T084313Z&#x27;.</pre>"
      ],
      "text/plain": [
       "<IPython.core.display.HTML object>"
      ]
     },
     "metadata": {},
     "output_type": "display_data"
    },
    {
     "data": {
      "text/html": [
       "<pre style=\"margin: 0.1em;\n",
       "padding-left: 0.25em;\n",
       "border-left-style: solid;\n",
       "font-family: var(--jp-code-font-family);\n",
       "font-size: var(--jp-code-font-size);\n",
       "line-height: var(--jp-code-line-height);\n",
       "\"><span style=\"color: var(--jp-warn-color2)\">lsst.pipe.base.graphBuilder</span> <span style=\"color: var(--jp-warn-color0)\">WARNING</span>: No datasets of type finalized_psf_ap_corr_catalog in collection &#x27;2.2i/runs/DP0.2/v23_0_1/PREOPS-905/step3_17/20220406T111701Z&#x27;.</pre>"
      ],
      "text/plain": [
       "<IPython.core.display.HTML object>"
      ]
     },
     "metadata": {},
     "output_type": "display_data"
    },
    {
     "data": {
      "text/html": [
       "<pre style=\"margin: 0.1em;\n",
       "padding-left: 0.25em;\n",
       "border-left-style: solid;\n",
       "font-family: var(--jp-code-font-family);\n",
       "font-size: var(--jp-code-font-size);\n",
       "line-height: var(--jp-code-line-height);\n",
       "\"><span style=\"color: var(--jp-warn-color2)\">lsst.pipe.base.graphBuilder</span> <span style=\"color: var(--jp-warn-color0)\">WARNING</span>: No datasets of type finalized_psf_ap_corr_catalog in collection &#x27;2.2i/runs/DP0.2/v23_0_1/PREOPS-905/step3_17/20220331T063809Z&#x27;.</pre>"
      ],
      "text/plain": [
       "<IPython.core.display.HTML object>"
      ]
     },
     "metadata": {},
     "output_type": "display_data"
    },
    {
     "data": {
      "text/html": [
       "<pre style=\"margin: 0.1em;\n",
       "padding-left: 0.25em;\n",
       "border-left-style: solid;\n",
       "font-family: var(--jp-code-font-family);\n",
       "font-size: var(--jp-code-font-size);\n",
       "line-height: var(--jp-code-line-height);\n",
       "\"><span style=\"color: var(--jp-warn-color2)\">lsst.pipe.base.graphBuilder</span> <span style=\"color: var(--jp-warn-color0)\">WARNING</span>: No datasets of type finalized_psf_ap_corr_catalog in collection &#x27;2.2i/runs/DP0.2/v23_0_1/PREOPS-905/step3_16/20220406T095810Z&#x27;.</pre>"
      ],
      "text/plain": [
       "<IPython.core.display.HTML object>"
      ]
     },
     "metadata": {},
     "output_type": "display_data"
    },
    {
     "data": {
      "text/html": [
       "<pre style=\"margin: 0.1em;\n",
       "padding-left: 0.25em;\n",
       "border-left-style: solid;\n",
       "font-family: var(--jp-code-font-family);\n",
       "font-size: var(--jp-code-font-size);\n",
       "line-height: var(--jp-code-line-height);\n",
       "\"><span style=\"color: var(--jp-warn-color2)\">lsst.pipe.base.graphBuilder</span> <span style=\"color: var(--jp-warn-color0)\">WARNING</span>: No datasets of type finalized_psf_ap_corr_catalog in collection &#x27;2.2i/runs/DP0.2/v23_0_1/PREOPS-905/step3_16/20220331T050027Z&#x27;.</pre>"
      ],
      "text/plain": [
       "<IPython.core.display.HTML object>"
      ]
     },
     "metadata": {},
     "output_type": "display_data"
    },
    {
     "data": {
      "text/html": [
       "<pre style=\"margin: 0.1em;\n",
       "padding-left: 0.25em;\n",
       "border-left-style: solid;\n",
       "font-family: var(--jp-code-font-family);\n",
       "font-size: var(--jp-code-font-size);\n",
       "line-height: var(--jp-code-line-height);\n",
       "\"><span style=\"color: var(--jp-warn-color2)\">lsst.pipe.base.graphBuilder</span> <span style=\"color: var(--jp-warn-color0)\">WARNING</span>: No datasets of type finalized_psf_ap_corr_catalog in collection &#x27;2.2i/runs/DP0.2/v23_0_1/PREOPS-905/step3_15/20220406T081059Z&#x27;.</pre>"
      ],
      "text/plain": [
       "<IPython.core.display.HTML object>"
      ]
     },
     "metadata": {},
     "output_type": "display_data"
    },
    {
     "data": {
      "text/html": [
       "<pre style=\"margin: 0.1em;\n",
       "padding-left: 0.25em;\n",
       "border-left-style: solid;\n",
       "font-family: var(--jp-code-font-family);\n",
       "font-size: var(--jp-code-font-size);\n",
       "line-height: var(--jp-code-line-height);\n",
       "\"><span style=\"color: var(--jp-warn-color2)\">lsst.pipe.base.graphBuilder</span> <span style=\"color: var(--jp-warn-color0)\">WARNING</span>: No datasets of type finalized_psf_ap_corr_catalog in collection &#x27;2.2i/runs/DP0.2/v23_0_1/PREOPS-905/step3_15/20220331T025327Z&#x27;.</pre>"
      ],
      "text/plain": [
       "<IPython.core.display.HTML object>"
      ]
     },
     "metadata": {},
     "output_type": "display_data"
    },
    {
     "data": {
      "text/html": [
       "<pre style=\"margin: 0.1em;\n",
       "padding-left: 0.25em;\n",
       "border-left-style: solid;\n",
       "font-family: var(--jp-code-font-family);\n",
       "font-size: var(--jp-code-font-size);\n",
       "line-height: var(--jp-code-line-height);\n",
       "\"><span style=\"color: var(--jp-warn-color2)\">lsst.pipe.base.graphBuilder</span> <span style=\"color: var(--jp-warn-color0)\">WARNING</span>: No datasets of type finalized_psf_ap_corr_catalog in collection &#x27;2.2i/runs/DP0.2/v23_0_1/PREOPS-905/step3_14/20220406T063431Z&#x27;.</pre>"
      ],
      "text/plain": [
       "<IPython.core.display.HTML object>"
      ]
     },
     "metadata": {},
     "output_type": "display_data"
    },
    {
     "data": {
      "text/html": [
       "<pre style=\"margin: 0.1em;\n",
       "padding-left: 0.25em;\n",
       "border-left-style: solid;\n",
       "font-family: var(--jp-code-font-family);\n",
       "font-size: var(--jp-code-font-size);\n",
       "line-height: var(--jp-code-line-height);\n",
       "\"><span style=\"color: var(--jp-warn-color2)\">lsst.pipe.base.graphBuilder</span> <span style=\"color: var(--jp-warn-color0)\">WARNING</span>: No datasets of type finalized_psf_ap_corr_catalog in collection &#x27;2.2i/runs/DP0.2/v23_0_1/PREOPS-905/step3_14/20220331T004509Z&#x27;.</pre>"
      ],
      "text/plain": [
       "<IPython.core.display.HTML object>"
      ]
     },
     "metadata": {},
     "output_type": "display_data"
    },
    {
     "data": {
      "text/html": [
       "<pre style=\"margin: 0.1em;\n",
       "padding-left: 0.25em;\n",
       "border-left-style: solid;\n",
       "font-family: var(--jp-code-font-family);\n",
       "font-size: var(--jp-code-font-size);\n",
       "line-height: var(--jp-code-line-height);\n",
       "\"><span style=\"color: var(--jp-warn-color2)\">lsst.pipe.base.graphBuilder</span> <span style=\"color: var(--jp-warn-color0)\">WARNING</span>: No datasets of type finalized_psf_ap_corr_catalog in collection &#x27;2.2i/runs/DP0.2/v23_0_1/PREOPS-905/step3_13/20220406T045526Z&#x27;.</pre>"
      ],
      "text/plain": [
       "<IPython.core.display.HTML object>"
      ]
     },
     "metadata": {},
     "output_type": "display_data"
    },
    {
     "data": {
      "text/html": [
       "<pre style=\"margin: 0.1em;\n",
       "padding-left: 0.25em;\n",
       "border-left-style: solid;\n",
       "font-family: var(--jp-code-font-family);\n",
       "font-size: var(--jp-code-font-size);\n",
       "line-height: var(--jp-code-line-height);\n",
       "\"><span style=\"color: var(--jp-warn-color2)\">lsst.pipe.base.graphBuilder</span> <span style=\"color: var(--jp-warn-color0)\">WARNING</span>: No datasets of type finalized_psf_ap_corr_catalog in collection &#x27;2.2i/runs/DP0.2/v23_0_1/PREOPS-905/step3_13/20220330T224603Z&#x27;.</pre>"
      ],
      "text/plain": [
       "<IPython.core.display.HTML object>"
      ]
     },
     "metadata": {},
     "output_type": "display_data"
    },
    {
     "data": {
      "text/html": [
       "<pre style=\"margin: 0.1em;\n",
       "padding-left: 0.25em;\n",
       "border-left-style: solid;\n",
       "font-family: var(--jp-code-font-family);\n",
       "font-size: var(--jp-code-font-size);\n",
       "line-height: var(--jp-code-line-height);\n",
       "\"><span style=\"color: var(--jp-warn-color2)\">lsst.pipe.base.graphBuilder</span> <span style=\"color: var(--jp-warn-color0)\">WARNING</span>: No datasets of type finalized_psf_ap_corr_catalog in collection &#x27;2.2i/runs/DP0.2/v23_0_1/PREOPS-905/step3_12/20220405T182718Z&#x27;.</pre>"
      ],
      "text/plain": [
       "<IPython.core.display.HTML object>"
      ]
     },
     "metadata": {},
     "output_type": "display_data"
    },
    {
     "data": {
      "text/html": [
       "<pre style=\"margin: 0.1em;\n",
       "padding-left: 0.25em;\n",
       "border-left-style: solid;\n",
       "font-family: var(--jp-code-font-family);\n",
       "font-size: var(--jp-code-font-size);\n",
       "line-height: var(--jp-code-line-height);\n",
       "\"><span style=\"color: var(--jp-warn-color2)\">lsst.pipe.base.graphBuilder</span> <span style=\"color: var(--jp-warn-color0)\">WARNING</span>: No datasets of type finalized_psf_ap_corr_catalog in collection &#x27;2.2i/runs/DP0.2/v23_0_1/PREOPS-905/step3_12/20220330T204043Z&#x27;.</pre>"
      ],
      "text/plain": [
       "<IPython.core.display.HTML object>"
      ]
     },
     "metadata": {},
     "output_type": "display_data"
    },
    {
     "data": {
      "text/html": [
       "<pre style=\"margin: 0.1em;\n",
       "padding-left: 0.25em;\n",
       "border-left-style: solid;\n",
       "font-family: var(--jp-code-font-family);\n",
       "font-size: var(--jp-code-font-size);\n",
       "line-height: var(--jp-code-line-height);\n",
       "\"><span style=\"color: var(--jp-warn-color2)\">lsst.pipe.base.graphBuilder</span> <span style=\"color: var(--jp-warn-color0)\">WARNING</span>: No datasets of type finalized_psf_ap_corr_catalog in collection &#x27;2.2i/runs/DP0.2/v23_0_1/PREOPS-905/step3_11/20220330T190852Z&#x27;.</pre>"
      ],
      "text/plain": [
       "<IPython.core.display.HTML object>"
      ]
     },
     "metadata": {},
     "output_type": "display_data"
    },
    {
     "data": {
      "text/html": [
       "<pre style=\"margin: 0.1em;\n",
       "padding-left: 0.25em;\n",
       "border-left-style: solid;\n",
       "font-family: var(--jp-code-font-family);\n",
       "font-size: var(--jp-code-font-size);\n",
       "line-height: var(--jp-code-line-height);\n",
       "\"><span style=\"color: var(--jp-warn-color2)\">lsst.pipe.base.graphBuilder</span> <span style=\"color: var(--jp-warn-color0)\">WARNING</span>: No datasets of type finalized_psf_ap_corr_catalog in collection &#x27;2.2i/runs/DP0.2/v23_0_1/PREOPS-905/step3_27/20220322T202545Z&#x27;.</pre>"
      ],
      "text/plain": [
       "<IPython.core.display.HTML object>"
      ]
     },
     "metadata": {},
     "output_type": "display_data"
    },
    {
     "data": {
      "text/html": [
       "<pre style=\"margin: 0.1em;\n",
       "padding-left: 0.25em;\n",
       "border-left-style: solid;\n",
       "font-family: var(--jp-code-font-family);\n",
       "font-size: var(--jp-code-font-size);\n",
       "line-height: var(--jp-code-line-height);\n",
       "\"><span style=\"color: var(--jp-warn-color2)\">lsst.pipe.base.graphBuilder</span> <span style=\"color: var(--jp-warn-color0)\">WARNING</span>: No datasets of type finalized_psf_ap_corr_catalog in collection &#x27;2.2i/runs/DP0.2/v23_0_1/PREOPS-905/step3_4/20220325T122210Z&#x27;.</pre>"
      ],
      "text/plain": [
       "<IPython.core.display.HTML object>"
      ]
     },
     "metadata": {},
     "output_type": "display_data"
    },
    {
     "data": {
      "text/html": [
       "<pre style=\"margin: 0.1em;\n",
       "padding-left: 0.25em;\n",
       "border-left-style: solid;\n",
       "font-family: var(--jp-code-font-family);\n",
       "font-size: var(--jp-code-font-size);\n",
       "line-height: var(--jp-code-line-height);\n",
       "\"><span style=\"color: var(--jp-warn-color2)\">lsst.pipe.base.graphBuilder</span> <span style=\"color: var(--jp-warn-color0)\">WARNING</span>: No datasets of type finalized_psf_ap_corr_catalog in collection &#x27;2.2i/runs/DP0.2/v23_0_1/PREOPS-905/step3_29/20220325T223049Z&#x27;.</pre>"
      ],
      "text/plain": [
       "<IPython.core.display.HTML object>"
      ]
     },
     "metadata": {},
     "output_type": "display_data"
    },
    {
     "data": {
      "text/html": [
       "<pre style=\"margin: 0.1em;\n",
       "padding-left: 0.25em;\n",
       "border-left-style: solid;\n",
       "font-family: var(--jp-code-font-family);\n",
       "font-size: var(--jp-code-font-size);\n",
       "line-height: var(--jp-code-line-height);\n",
       "\"><span style=\"color: var(--jp-warn-color2)\">lsst.pipe.base.graphBuilder</span> <span style=\"color: var(--jp-warn-color0)\">WARNING</span>: No datasets of type finalized_psf_ap_corr_catalog in collection &#x27;2.2i/runs/DP0.2/v23_0_1/PREOPS-905/step3_26/20220325T204503Z&#x27;.</pre>"
      ],
      "text/plain": [
       "<IPython.core.display.HTML object>"
      ]
     },
     "metadata": {},
     "output_type": "display_data"
    },
    {
     "data": {
      "text/html": [
       "<pre style=\"margin: 0.1em;\n",
       "padding-left: 0.25em;\n",
       "border-left-style: solid;\n",
       "font-family: var(--jp-code-font-family);\n",
       "font-size: var(--jp-code-font-size);\n",
       "line-height: var(--jp-code-line-height);\n",
       "\"><span style=\"color: var(--jp-warn-color2)\">lsst.pipe.base.graphBuilder</span> <span style=\"color: var(--jp-warn-color0)\">WARNING</span>: No datasets of type finalized_psf_ap_corr_catalog in collection &#x27;2.2i/runs/DP0.2/v23_0_1/PREOPS-905/step3_25/20220325T190019Z&#x27;.</pre>"
      ],
      "text/plain": [
       "<IPython.core.display.HTML object>"
      ]
     },
     "metadata": {},
     "output_type": "display_data"
    },
    {
     "data": {
      "text/html": [
       "<pre style=\"margin: 0.1em;\n",
       "padding-left: 0.25em;\n",
       "border-left-style: solid;\n",
       "font-family: var(--jp-code-font-family);\n",
       "font-size: var(--jp-code-font-size);\n",
       "line-height: var(--jp-code-line-height);\n",
       "\"><span style=\"color: var(--jp-warn-color2)\">lsst.pipe.base.graphBuilder</span> <span style=\"color: var(--jp-warn-color0)\">WARNING</span>: No datasets of type finalized_psf_ap_corr_catalog in collection &#x27;2.2i/runs/DP0.2/v23_0_1/PREOPS-905/step3_24/20220325T174013Z&#x27;.</pre>"
      ],
      "text/plain": [
       "<IPython.core.display.HTML object>"
      ]
     },
     "metadata": {},
     "output_type": "display_data"
    },
    {
     "data": {
      "text/html": [
       "<pre style=\"margin: 0.1em;\n",
       "padding-left: 0.25em;\n",
       "border-left-style: solid;\n",
       "font-family: var(--jp-code-font-family);\n",
       "font-size: var(--jp-code-font-size);\n",
       "line-height: var(--jp-code-line-height);\n",
       "\"><span style=\"color: var(--jp-warn-color2)\">lsst.pipe.base.graphBuilder</span> <span style=\"color: var(--jp-warn-color0)\">WARNING</span>: No datasets of type finalized_psf_ap_corr_catalog in collection &#x27;2.2i/runs/DP0.2/v23_0_1/PREOPS-905/step3_23/20220325T155617Z&#x27;.</pre>"
      ],
      "text/plain": [
       "<IPython.core.display.HTML object>"
      ]
     },
     "metadata": {},
     "output_type": "display_data"
    },
    {
     "data": {
      "text/html": [
       "<pre style=\"margin: 0.1em;\n",
       "padding-left: 0.25em;\n",
       "border-left-style: solid;\n",
       "font-family: var(--jp-code-font-family);\n",
       "font-size: var(--jp-code-font-size);\n",
       "line-height: var(--jp-code-line-height);\n",
       "\"><span style=\"color: var(--jp-warn-color2)\">lsst.pipe.base.graphBuilder</span> <span style=\"color: var(--jp-warn-color0)\">WARNING</span>: No datasets of type finalized_psf_ap_corr_catalog in collection &#x27;2.2i/runs/DP0.2/v23_0_1/PREOPS-905/step3_22/20220325T141557Z&#x27;.</pre>"
      ],
      "text/plain": [
       "<IPython.core.display.HTML object>"
      ]
     },
     "metadata": {},
     "output_type": "display_data"
    },
    {
     "data": {
      "text/html": [
       "<pre style=\"margin: 0.1em;\n",
       "padding-left: 0.25em;\n",
       "border-left-style: solid;\n",
       "font-family: var(--jp-code-font-family);\n",
       "font-size: var(--jp-code-font-size);\n",
       "line-height: var(--jp-code-line-height);\n",
       "\"><span style=\"color: var(--jp-warn-color2)\">lsst.pipe.base.graphBuilder</span> <span style=\"color: var(--jp-warn-color0)\">WARNING</span>: No datasets of type finalized_psf_ap_corr_catalog in collection &#x27;2.2i/runs/DP0.2/v23_0_1/PREOPS-905/step3_2/20220325T104104Z&#x27;.</pre>"
      ],
      "text/plain": [
       "<IPython.core.display.HTML object>"
      ]
     },
     "metadata": {},
     "output_type": "display_data"
    },
    {
     "data": {
      "text/html": [
       "<pre style=\"margin: 0.1em;\n",
       "padding-left: 0.25em;\n",
       "border-left-style: solid;\n",
       "font-family: var(--jp-code-font-family);\n",
       "font-size: var(--jp-code-font-size);\n",
       "line-height: var(--jp-code-line-height);\n",
       "\"><span style=\"color: var(--jp-warn-color2)\">lsst.pipe.base.graphBuilder</span> <span style=\"color: var(--jp-warn-color0)\">WARNING</span>: No datasets of type finalized_psf_ap_corr_catalog in collection &#x27;2.2i/runs/DP0.2/v23_0_1/PREOPS-905/step3_1/20220326T032806Z&#x27;.</pre>"
      ],
      "text/plain": [
       "<IPython.core.display.HTML object>"
      ]
     },
     "metadata": {},
     "output_type": "display_data"
    },
    {
     "data": {
      "text/html": [
       "<pre style=\"margin: 0.1em;\n",
       "padding-left: 0.25em;\n",
       "border-left-style: solid;\n",
       "font-family: var(--jp-code-font-family);\n",
       "font-size: var(--jp-code-font-size);\n",
       "line-height: var(--jp-code-line-height);\n",
       "\"><span style=\"color: var(--jp-warn-color2)\">lsst.pipe.base.graphBuilder</span> <span style=\"color: var(--jp-warn-color0)\">WARNING</span>: No datasets of type finalized_psf_ap_corr_catalog in collection &#x27;2.2i/runs/DP0.2/v23_0_1/PREOPS-905/step3_8/20220316T205925Z&#x27;.</pre>"
      ],
      "text/plain": [
       "<IPython.core.display.HTML object>"
      ]
     },
     "metadata": {},
     "output_type": "display_data"
    },
    {
     "data": {
      "text/html": [
       "<pre style=\"margin: 0.1em;\n",
       "padding-left: 0.25em;\n",
       "border-left-style: solid;\n",
       "font-family: var(--jp-code-font-family);\n",
       "font-size: var(--jp-code-font-size);\n",
       "line-height: var(--jp-code-line-height);\n",
       "\"><span style=\"color: var(--jp-warn-color2)\">lsst.pipe.base.graphBuilder</span> <span style=\"color: var(--jp-warn-color0)\">WARNING</span>: No datasets of type finalized_psf_ap_corr_catalog in collection &#x27;2.2i/runs/DP0.2/v23_0_1/PREOPS-905/step3_6/20220318T134046Z&#x27;.</pre>"
      ],
      "text/plain": [
       "<IPython.core.display.HTML object>"
      ]
     },
     "metadata": {},
     "output_type": "display_data"
    },
    {
     "data": {
      "text/html": [
       "<pre style=\"margin: 0.1em;\n",
       "padding-left: 0.25em;\n",
       "border-left-style: solid;\n",
       "font-family: var(--jp-code-font-family);\n",
       "font-size: var(--jp-code-font-size);\n",
       "line-height: var(--jp-code-line-height);\n",
       "\"><span style=\"color: var(--jp-warn-color2)\">lsst.pipe.base.graphBuilder</span> <span style=\"color: var(--jp-warn-color0)\">WARNING</span>: No datasets of type finalized_psf_ap_corr_catalog in collection &#x27;2.2i/runs/DP0.2/v23_0_1/PREOPS-905/step3_27/20220316T171018Z&#x27;.</pre>"
      ],
      "text/plain": [
       "<IPython.core.display.HTML object>"
      ]
     },
     "metadata": {},
     "output_type": "display_data"
    },
    {
     "data": {
      "text/html": [
       "<pre style=\"margin: 0.1em;\n",
       "padding-left: 0.25em;\n",
       "border-left-style: solid;\n",
       "font-family: var(--jp-code-font-family);\n",
       "font-size: var(--jp-code-font-size);\n",
       "line-height: var(--jp-code-line-height);\n",
       "\"><span style=\"color: var(--jp-warn-color2)\">lsst.pipe.base.graphBuilder</span> <span style=\"color: var(--jp-warn-color0)\">WARNING</span>: No datasets of type finalized_psf_ap_corr_catalog in collection &#x27;2.2i/runs/DP0.2/v23_0_1/PREOPS-905/step3_1/20220317T233937Z&#x27;.</pre>"
      ],
      "text/plain": [
       "<IPython.core.display.HTML object>"
      ]
     },
     "metadata": {},
     "output_type": "display_data"
    },
    {
     "data": {
      "text/html": [
       "<pre style=\"margin: 0.1em;\n",
       "padding-left: 0.25em;\n",
       "border-left-style: solid;\n",
       "font-family: var(--jp-code-font-family);\n",
       "font-size: var(--jp-code-font-size);\n",
       "line-height: var(--jp-code-line-height);\n",
       "\"><span style=\"color: var(--jp-warn-color2)\">lsst.pipe.base.graphBuilder</span> <span style=\"color: var(--jp-warn-color0)\">WARNING</span>: No datasets of type finalized_psf_ap_corr_catalog in collection &#x27;2.2i/runs/DP0.2/v23_0_1/PREOPS-905/step3_6/20220316T192214Z&#x27;.</pre>"
      ],
      "text/plain": [
       "<IPython.core.display.HTML object>"
      ]
     },
     "metadata": {},
     "output_type": "display_data"
    },
    {
     "data": {
      "text/html": [
       "<pre style=\"margin: 0.1em;\n",
       "padding-left: 0.25em;\n",
       "border-left-style: solid;\n",
       "font-family: var(--jp-code-font-family);\n",
       "font-size: var(--jp-code-font-size);\n",
       "line-height: var(--jp-code-line-height);\n",
       "\"><span style=\"color: var(--jp-warn-color2)\">lsst.pipe.base.graphBuilder</span> <span style=\"color: var(--jp-warn-color0)\">WARNING</span>: No datasets of type finalized_psf_ap_corr_catalog in collection &#x27;2.2i/runs/DP0.2/v23_0_1/PREOPS-905/step3_10/20220315T122041Z&#x27;.</pre>"
      ],
      "text/plain": [
       "<IPython.core.display.HTML object>"
      ]
     },
     "metadata": {},
     "output_type": "display_data"
    },
    {
     "data": {
      "text/html": [
       "<pre style=\"margin: 0.1em;\n",
       "padding-left: 0.25em;\n",
       "border-left-style: solid;\n",
       "font-family: var(--jp-code-font-family);\n",
       "font-size: var(--jp-code-font-size);\n",
       "line-height: var(--jp-code-line-height);\n",
       "\"><span style=\"color: var(--jp-warn-color2)\">lsst.pipe.base.graphBuilder</span> <span style=\"color: var(--jp-warn-color0)\">WARNING</span>: No datasets of type finalized_psf_ap_corr_catalog in collection &#x27;2.2i/runs/DP0.2/v23_0_1/PREOPS-905/step3_8/20220309T160814Z&#x27;.</pre>"
      ],
      "text/plain": [
       "<IPython.core.display.HTML object>"
      ]
     },
     "metadata": {},
     "output_type": "display_data"
    },
    {
     "data": {
      "text/html": [
       "<pre style=\"margin: 0.1em;\n",
       "padding-left: 0.25em;\n",
       "border-left-style: solid;\n",
       "font-family: var(--jp-code-font-family);\n",
       "font-size: var(--jp-code-font-size);\n",
       "line-height: var(--jp-code-line-height);\n",
       "\"><span style=\"color: var(--jp-warn-color2)\">lsst.pipe.base.graphBuilder</span> <span style=\"color: var(--jp-warn-color0)\">WARNING</span>: No datasets of type finalized_psf_ap_corr_catalog in collection &#x27;2.2i/runs/DP0.2/v23_0_1/PREOPS-905/step3_6/20220309T170243Z&#x27;.</pre>"
      ],
      "text/plain": [
       "<IPython.core.display.HTML object>"
      ]
     },
     "metadata": {},
     "output_type": "display_data"
    },
    {
     "data": {
      "text/html": [
       "<pre style=\"margin: 0.1em;\n",
       "padding-left: 0.25em;\n",
       "border-left-style: solid;\n",
       "font-family: var(--jp-code-font-family);\n",
       "font-size: var(--jp-code-font-size);\n",
       "line-height: var(--jp-code-line-height);\n",
       "\"><span style=\"color: var(--jp-warn-color2)\">lsst.pipe.base.graphBuilder</span> <span style=\"color: var(--jp-warn-color0)\">WARNING</span>: No datasets of type finalized_psf_ap_corr_catalog in collection &#x27;2.2i/runs/DP0.2/v23_0_1/PREOPS-905/step3_4/20220315T051405Z&#x27;.</pre>"
      ],
      "text/plain": [
       "<IPython.core.display.HTML object>"
      ]
     },
     "metadata": {},
     "output_type": "display_data"
    },
    {
     "data": {
      "text/html": [
       "<pre style=\"margin: 0.1em;\n",
       "padding-left: 0.25em;\n",
       "border-left-style: solid;\n",
       "font-family: var(--jp-code-font-family);\n",
       "font-size: var(--jp-code-font-size);\n",
       "line-height: var(--jp-code-line-height);\n",
       "\"><span style=\"color: var(--jp-warn-color2)\">lsst.pipe.base.graphBuilder</span> <span style=\"color: var(--jp-warn-color0)\">WARNING</span>: No datasets of type finalized_psf_ap_corr_catalog in collection &#x27;2.2i/runs/DP0.2/v23_0_1/PREOPS-905/step3_4/20220309T042312Z&#x27;.</pre>"
      ],
      "text/plain": [
       "<IPython.core.display.HTML object>"
      ]
     },
     "metadata": {},
     "output_type": "display_data"
    },
    {
     "data": {
      "text/html": [
       "<pre style=\"margin: 0.1em;\n",
       "padding-left: 0.25em;\n",
       "border-left-style: solid;\n",
       "font-family: var(--jp-code-font-family);\n",
       "font-size: var(--jp-code-font-size);\n",
       "line-height: var(--jp-code-line-height);\n",
       "\"><span style=\"color: var(--jp-warn-color2)\">lsst.pipe.base.graphBuilder</span> <span style=\"color: var(--jp-warn-color0)\">WARNING</span>: No datasets of type finalized_psf_ap_corr_catalog in collection &#x27;2.2i/runs/DP0.2/v23_0_1/PREOPS-905/step3_31/20220314T212509Z&#x27;.</pre>"
      ],
      "text/plain": [
       "<IPython.core.display.HTML object>"
      ]
     },
     "metadata": {},
     "output_type": "display_data"
    },
    {
     "data": {
      "text/html": [
       "<pre style=\"margin: 0.1em;\n",
       "padding-left: 0.25em;\n",
       "border-left-style: solid;\n",
       "font-family: var(--jp-code-font-family);\n",
       "font-size: var(--jp-code-font-size);\n",
       "line-height: var(--jp-code-line-height);\n",
       "\"><span style=\"color: var(--jp-warn-color2)\">lsst.pipe.base.graphBuilder</span> <span style=\"color: var(--jp-warn-color0)\">WARNING</span>: No datasets of type finalized_psf_ap_corr_catalog in collection &#x27;2.2i/runs/DP0.2/v23_0_1/PREOPS-905/step3_31/20220307T050825Z&#x27;.</pre>"
      ],
      "text/plain": [
       "<IPython.core.display.HTML object>"
      ]
     },
     "metadata": {},
     "output_type": "display_data"
    },
    {
     "data": {
      "text/html": [
       "<pre style=\"margin: 0.1em;\n",
       "padding-left: 0.25em;\n",
       "border-left-style: solid;\n",
       "font-family: var(--jp-code-font-family);\n",
       "font-size: var(--jp-code-font-size);\n",
       "line-height: var(--jp-code-line-height);\n",
       "\"><span style=\"color: var(--jp-warn-color2)\">lsst.pipe.base.graphBuilder</span> <span style=\"color: var(--jp-warn-color0)\">WARNING</span>: No datasets of type finalized_psf_ap_corr_catalog in collection &#x27;2.2i/runs/DP0.2/v23_0_1/PREOPS-905/step3_30/20220314T194916Z&#x27;.</pre>"
      ],
      "text/plain": [
       "<IPython.core.display.HTML object>"
      ]
     },
     "metadata": {},
     "output_type": "display_data"
    },
    {
     "data": {
      "text/html": [
       "<pre style=\"margin: 0.1em;\n",
       "padding-left: 0.25em;\n",
       "border-left-style: solid;\n",
       "font-family: var(--jp-code-font-family);\n",
       "font-size: var(--jp-code-font-size);\n",
       "line-height: var(--jp-code-line-height);\n",
       "\"><span style=\"color: var(--jp-warn-color2)\">lsst.pipe.base.graphBuilder</span> <span style=\"color: var(--jp-warn-color0)\">WARNING</span>: No datasets of type finalized_psf_ap_corr_catalog in collection &#x27;2.2i/runs/DP0.2/v23_0_1/PREOPS-905/step3_30/20220306T160359Z&#x27;.</pre>"
      ],
      "text/plain": [
       "<IPython.core.display.HTML object>"
      ]
     },
     "metadata": {},
     "output_type": "display_data"
    },
    {
     "data": {
      "text/html": [
       "<pre style=\"margin: 0.1em;\n",
       "padding-left: 0.25em;\n",
       "border-left-style: solid;\n",
       "font-family: var(--jp-code-font-family);\n",
       "font-size: var(--jp-code-font-size);\n",
       "line-height: var(--jp-code-line-height);\n",
       "\"><span style=\"color: var(--jp-warn-color2)\">lsst.pipe.base.graphBuilder</span> <span style=\"color: var(--jp-warn-color0)\">WARNING</span>: No datasets of type finalized_psf_ap_corr_catalog in collection &#x27;2.2i/runs/DP0.2/v23_0_1/PREOPS-905/step3_3/20220315T012904Z&#x27;.</pre>"
      ],
      "text/plain": [
       "<IPython.core.display.HTML object>"
      ]
     },
     "metadata": {},
     "output_type": "display_data"
    },
    {
     "data": {
      "text/html": [
       "<pre style=\"margin: 0.1em;\n",
       "padding-left: 0.25em;\n",
       "border-left-style: solid;\n",
       "font-family: var(--jp-code-font-family);\n",
       "font-size: var(--jp-code-font-size);\n",
       "line-height: var(--jp-code-line-height);\n",
       "\"><span style=\"color: var(--jp-warn-color2)\">lsst.pipe.base.graphBuilder</span> <span style=\"color: var(--jp-warn-color0)\">WARNING</span>: No datasets of type finalized_psf_ap_corr_catalog in collection &#x27;2.2i/runs/DP0.2/v23_0_1/PREOPS-905/step3_3/20220309T040429Z&#x27;.</pre>"
      ],
      "text/plain": [
       "<IPython.core.display.HTML object>"
      ]
     },
     "metadata": {},
     "output_type": "display_data"
    },
    {
     "data": {
      "text/html": [
       "<pre style=\"margin: 0.1em;\n",
       "padding-left: 0.25em;\n",
       "border-left-style: solid;\n",
       "font-family: var(--jp-code-font-family);\n",
       "font-size: var(--jp-code-font-size);\n",
       "line-height: var(--jp-code-line-height);\n",
       "\"><span style=\"color: var(--jp-warn-color2)\">lsst.pipe.base.graphBuilder</span> <span style=\"color: var(--jp-warn-color0)\">WARNING</span>: No datasets of type finalized_psf_ap_corr_catalog in collection &#x27;2.2i/runs/DP0.2/v23_0_1/PREOPS-905/step3_29/20220314T204515Z&#x27;.</pre>"
      ],
      "text/plain": [
       "<IPython.core.display.HTML object>"
      ]
     },
     "metadata": {},
     "output_type": "display_data"
    },
    {
     "data": {
      "text/html": [
       "<pre style=\"margin: 0.1em;\n",
       "padding-left: 0.25em;\n",
       "border-left-style: solid;\n",
       "font-family: var(--jp-code-font-family);\n",
       "font-size: var(--jp-code-font-size);\n",
       "line-height: var(--jp-code-line-height);\n",
       "\"><span style=\"color: var(--jp-warn-color2)\">lsst.pipe.base.graphBuilder</span> <span style=\"color: var(--jp-warn-color0)\">WARNING</span>: No datasets of type finalized_psf_ap_corr_catalog in collection &#x27;2.2i/runs/DP0.2/v23_0_1/PREOPS-905/step3_29/20220306T172459Z&#x27;.</pre>"
      ],
      "text/plain": [
       "<IPython.core.display.HTML object>"
      ]
     },
     "metadata": {},
     "output_type": "display_data"
    },
    {
     "data": {
      "text/html": [
       "<pre style=\"margin: 0.1em;\n",
       "padding-left: 0.25em;\n",
       "border-left-style: solid;\n",
       "font-family: var(--jp-code-font-family);\n",
       "font-size: var(--jp-code-font-size);\n",
       "line-height: var(--jp-code-line-height);\n",
       "\"><span style=\"color: var(--jp-warn-color2)\">lsst.pipe.base.graphBuilder</span> <span style=\"color: var(--jp-warn-color0)\">WARNING</span>: No datasets of type finalized_psf_ap_corr_catalog in collection &#x27;2.2i/runs/DP0.2/v23_0_1/PREOPS-905/step3_28/20220314T185100Z&#x27;.</pre>"
      ],
      "text/plain": [
       "<IPython.core.display.HTML object>"
      ]
     },
     "metadata": {},
     "output_type": "display_data"
    },
    {
     "data": {
      "text/html": [
       "<pre style=\"margin: 0.1em;\n",
       "padding-left: 0.25em;\n",
       "border-left-style: solid;\n",
       "font-family: var(--jp-code-font-family);\n",
       "font-size: var(--jp-code-font-size);\n",
       "line-height: var(--jp-code-line-height);\n",
       "\"><span style=\"color: var(--jp-warn-color2)\">lsst.pipe.base.graphBuilder</span> <span style=\"color: var(--jp-warn-color0)\">WARNING</span>: No datasets of type finalized_psf_ap_corr_catalog in collection &#x27;2.2i/runs/DP0.2/v23_0_1/PREOPS-905/step3_28/20220306T041600Z&#x27;.</pre>"
      ],
      "text/plain": [
       "<IPython.core.display.HTML object>"
      ]
     },
     "metadata": {},
     "output_type": "display_data"
    },
    {
     "data": {
      "text/html": [
       "<pre style=\"margin: 0.1em;\n",
       "padding-left: 0.25em;\n",
       "border-left-style: solid;\n",
       "font-family: var(--jp-code-font-family);\n",
       "font-size: var(--jp-code-font-size);\n",
       "line-height: var(--jp-code-line-height);\n",
       "\"><span style=\"color: var(--jp-warn-color2)\">lsst.pipe.base.graphBuilder</span> <span style=\"color: var(--jp-warn-color0)\">WARNING</span>: No datasets of type finalized_psf_ap_corr_catalog in collection &#x27;2.2i/runs/DP0.2/v23_0_1/PREOPS-905/step3_27/20220306T050001Z&#x27;.</pre>"
      ],
      "text/plain": [
       "<IPython.core.display.HTML object>"
      ]
     },
     "metadata": {},
     "output_type": "display_data"
    },
    {
     "data": {
      "text/html": [
       "<pre style=\"margin: 0.1em;\n",
       "padding-left: 0.25em;\n",
       "border-left-style: solid;\n",
       "font-family: var(--jp-code-font-family);\n",
       "font-size: var(--jp-code-font-size);\n",
       "line-height: var(--jp-code-line-height);\n",
       "\"><span style=\"color: var(--jp-warn-color2)\">lsst.pipe.base.graphBuilder</span> <span style=\"color: var(--jp-warn-color0)\">WARNING</span>: No datasets of type finalized_psf_ap_corr_catalog in collection &#x27;2.2i/runs/DP0.2/v23_0_1/PREOPS-905/step3_26/20220305T162808Z&#x27;.</pre>"
      ],
      "text/plain": [
       "<IPython.core.display.HTML object>"
      ]
     },
     "metadata": {},
     "output_type": "display_data"
    },
    {
     "data": {
      "text/html": [
       "<pre style=\"margin: 0.1em;\n",
       "padding-left: 0.25em;\n",
       "border-left-style: solid;\n",
       "font-family: var(--jp-code-font-family);\n",
       "font-size: var(--jp-code-font-size);\n",
       "line-height: var(--jp-code-line-height);\n",
       "\"><span style=\"color: var(--jp-warn-color2)\">lsst.pipe.base.graphBuilder</span> <span style=\"color: var(--jp-warn-color0)\">WARNING</span>: No datasets of type finalized_psf_ap_corr_catalog in collection &#x27;2.2i/runs/DP0.2/v23_0_1/PREOPS-905/step3_25/20220305T164554Z&#x27;.</pre>"
      ],
      "text/plain": [
       "<IPython.core.display.HTML object>"
      ]
     },
     "metadata": {},
     "output_type": "display_data"
    },
    {
     "data": {
      "text/html": [
       "<pre style=\"margin: 0.1em;\n",
       "padding-left: 0.25em;\n",
       "border-left-style: solid;\n",
       "font-family: var(--jp-code-font-family);\n",
       "font-size: var(--jp-code-font-size);\n",
       "line-height: var(--jp-code-line-height);\n",
       "\"><span style=\"color: var(--jp-warn-color2)\">lsst.pipe.base.graphBuilder</span> <span style=\"color: var(--jp-warn-color0)\">WARNING</span>: No datasets of type finalized_psf_ap_corr_catalog in collection &#x27;2.2i/runs/DP0.2/v23_0_1/PREOPS-905/step3_24/20220305T052326Z&#x27;.</pre>"
      ],
      "text/plain": [
       "<IPython.core.display.HTML object>"
      ]
     },
     "metadata": {},
     "output_type": "display_data"
    },
    {
     "data": {
      "text/html": [
       "<pre style=\"margin: 0.1em;\n",
       "padding-left: 0.25em;\n",
       "border-left-style: solid;\n",
       "font-family: var(--jp-code-font-family);\n",
       "font-size: var(--jp-code-font-size);\n",
       "line-height: var(--jp-code-line-height);\n",
       "\"><span style=\"color: var(--jp-warn-color2)\">lsst.pipe.base.graphBuilder</span> <span style=\"color: var(--jp-warn-color0)\">WARNING</span>: No datasets of type finalized_psf_ap_corr_catalog in collection &#x27;2.2i/runs/DP0.2/v23_0_1/PREOPS-905/step3_23/20220305T044606Z&#x27;.</pre>"
      ],
      "text/plain": [
       "<IPython.core.display.HTML object>"
      ]
     },
     "metadata": {},
     "output_type": "display_data"
    },
    {
     "data": {
      "text/html": [
       "<pre style=\"margin: 0.1em;\n",
       "padding-left: 0.25em;\n",
       "border-left-style: solid;\n",
       "font-family: var(--jp-code-font-family);\n",
       "font-size: var(--jp-code-font-size);\n",
       "line-height: var(--jp-code-line-height);\n",
       "\"><span style=\"color: var(--jp-warn-color2)\">lsst.pipe.base.graphBuilder</span> <span style=\"color: var(--jp-warn-color0)\">WARNING</span>: No datasets of type finalized_psf_ap_corr_catalog in collection &#x27;2.2i/runs/DP0.2/v23_0_1/PREOPS-905/step3_22/20220304T174139Z&#x27;.</pre>"
      ],
      "text/plain": [
       "<IPython.core.display.HTML object>"
      ]
     },
     "metadata": {},
     "output_type": "display_data"
    },
    {
     "data": {
      "text/html": [
       "<pre style=\"margin: 0.1em;\n",
       "padding-left: 0.25em;\n",
       "border-left-style: solid;\n",
       "font-family: var(--jp-code-font-family);\n",
       "font-size: var(--jp-code-font-size);\n",
       "line-height: var(--jp-code-line-height);\n",
       "\"><span style=\"color: var(--jp-warn-color2)\">lsst.pipe.base.graphBuilder</span> <span style=\"color: var(--jp-warn-color0)\">WARNING</span>: No datasets of type finalized_psf_ap_corr_catalog in collection &#x27;2.2i/runs/DP0.2/v23_0_1/PREOPS-905/step3_21/20220314T170839Z&#x27;.</pre>"
      ],
      "text/plain": [
       "<IPython.core.display.HTML object>"
      ]
     },
     "metadata": {},
     "output_type": "display_data"
    },
    {
     "data": {
      "text/html": [
       "<pre style=\"margin: 0.1em;\n",
       "padding-left: 0.25em;\n",
       "border-left-style: solid;\n",
       "font-family: var(--jp-code-font-family);\n",
       "font-size: var(--jp-code-font-size);\n",
       "line-height: var(--jp-code-line-height);\n",
       "\"><span style=\"color: var(--jp-warn-color2)\">lsst.pipe.base.graphBuilder</span> <span style=\"color: var(--jp-warn-color0)\">WARNING</span>: No datasets of type finalized_psf_ap_corr_catalog in collection &#x27;2.2i/runs/DP0.2/v23_0_1/PREOPS-905/step3_21/20220304T163449Z&#x27;.</pre>"
      ],
      "text/plain": [
       "<IPython.core.display.HTML object>"
      ]
     },
     "metadata": {},
     "output_type": "display_data"
    },
    {
     "data": {
      "text/html": [
       "<pre style=\"margin: 0.1em;\n",
       "padding-left: 0.25em;\n",
       "border-left-style: solid;\n",
       "font-family: var(--jp-code-font-family);\n",
       "font-size: var(--jp-code-font-size);\n",
       "line-height: var(--jp-code-line-height);\n",
       "\"><span style=\"color: var(--jp-warn-color2)\">lsst.pipe.base.graphBuilder</span> <span style=\"color: var(--jp-warn-color0)\">WARNING</span>: No datasets of type finalized_psf_ap_corr_catalog in collection &#x27;2.2i/runs/DP0.2/v23_0_1/PREOPS-905/step3_2/20220308T164354Z&#x27;.</pre>"
      ],
      "text/plain": [
       "<IPython.core.display.HTML object>"
      ]
     },
     "metadata": {},
     "output_type": "display_data"
    },
    {
     "data": {
      "text/html": [
       "<pre style=\"margin: 0.1em;\n",
       "padding-left: 0.25em;\n",
       "border-left-style: solid;\n",
       "font-family: var(--jp-code-font-family);\n",
       "font-size: var(--jp-code-font-size);\n",
       "line-height: var(--jp-code-line-height);\n",
       "\"><span style=\"color: var(--jp-warn-color2)\">lsst.pipe.base.graphBuilder</span> <span style=\"color: var(--jp-warn-color0)\">WARNING</span>: No datasets of type finalized_psf_ap_corr_catalog in collection &#x27;2.2i/runs/DP0.2/v23_0_1/PREOPS-905/step3_10/20220310T050847Z&#x27;.</pre>"
      ],
      "text/plain": [
       "<IPython.core.display.HTML object>"
      ]
     },
     "metadata": {},
     "output_type": "display_data"
    },
    {
     "data": {
      "text/html": [
       "<pre style=\"margin: 0.1em;\n",
       "padding-left: 0.25em;\n",
       "border-left-style: solid;\n",
       "font-family: var(--jp-code-font-family);\n",
       "font-size: var(--jp-code-font-size);\n",
       "line-height: var(--jp-code-line-height);\n",
       "\"><span style=\"color: var(--jp-warn-color2)\">lsst.pipe.base.graphBuilder</span> <span style=\"color: var(--jp-warn-color0)\">WARNING</span>: No datasets of type finalized_psf_ap_corr_catalog in collection &#x27;2.2i/runs/DP0.2/v23_0_1/PREOPS-905/step3_1/20220308T153907Z&#x27;.</pre>"
      ],
      "text/plain": [
       "<IPython.core.display.HTML object>"
      ]
     },
     "metadata": {},
     "output_type": "display_data"
    },
    {
     "data": {
      "text/html": [
       "<pre style=\"margin: 0.1em;\n",
       "padding-left: 0.25em;\n",
       "border-left-style: solid;\n",
       "font-family: var(--jp-code-font-family);\n",
       "font-size: var(--jp-code-font-size);\n",
       "line-height: var(--jp-code-line-height);\n",
       "\"><span style=\"color: var(--jp-warn-color2)\">lsst.pipe.base.graphBuilder</span> <span style=\"color: var(--jp-warn-color0)\">WARNING</span>: No datasets of type finalized_psf_ap_corr_catalog in collection &#x27;2.2i/runs/DP0.2/v23_0_1/PREOPS-905/step3_11/20220220T032646Z&#x27;.</pre>"
      ],
      "text/plain": [
       "<IPython.core.display.HTML object>"
      ]
     },
     "metadata": {},
     "output_type": "display_data"
    },
    {
     "data": {
      "text/html": [
       "<pre style=\"margin: 0.1em;\n",
       "padding-left: 0.25em;\n",
       "border-left-style: solid;\n",
       "font-family: var(--jp-code-font-family);\n",
       "font-size: var(--jp-code-font-size);\n",
       "line-height: var(--jp-code-line-height);\n",
       "\"><span style=\"color: var(--jp-warn-color2)\">lsst.pipe.base.graphBuilder</span> <span style=\"color: var(--jp-warn-color0)\">WARNING</span>: No datasets of type finalized_psf_ap_corr_catalog in collection &#x27;2.2i/runs/DP0.2/v23_0_1/PREOPS-905/step3_12/20220218T172932Z&#x27;.</pre>"
      ],
      "text/plain": [
       "<IPython.core.display.HTML object>"
      ]
     },
     "metadata": {},
     "output_type": "display_data"
    },
    {
     "data": {
      "text/html": [
       "<pre style=\"margin: 0.1em;\n",
       "padding-left: 0.25em;\n",
       "border-left-style: solid;\n",
       "font-family: var(--jp-code-font-family);\n",
       "font-size: var(--jp-code-font-size);\n",
       "line-height: var(--jp-code-line-height);\n",
       "\"><span style=\"color: var(--jp-warn-color2)\">lsst.pipe.base.graphBuilder</span> <span style=\"color: var(--jp-warn-color0)\">WARNING</span>: No datasets of type finalized_psf_ap_corr_catalog in collection &#x27;2.2i/runs/DP0.2/v23_0_1/PREOPS-905/step3_13/20220220T142359Z&#x27;.</pre>"
      ],
      "text/plain": [
       "<IPython.core.display.HTML object>"
      ]
     },
     "metadata": {},
     "output_type": "display_data"
    },
    {
     "data": {
      "text/html": [
       "<pre style=\"margin: 0.1em;\n",
       "padding-left: 0.25em;\n",
       "border-left-style: solid;\n",
       "font-family: var(--jp-code-font-family);\n",
       "font-size: var(--jp-code-font-size);\n",
       "line-height: var(--jp-code-line-height);\n",
       "\"><span style=\"color: var(--jp-warn-color2)\">lsst.pipe.base.graphBuilder</span> <span style=\"color: var(--jp-warn-color0)\">WARNING</span>: No datasets of type finalized_psf_ap_corr_catalog in collection &#x27;2.2i/runs/DP0.2/v23_0_1/PREOPS-905/step3_13/20220302T190942Z&#x27;.</pre>"
      ],
      "text/plain": [
       "<IPython.core.display.HTML object>"
      ]
     },
     "metadata": {},
     "output_type": "display_data"
    },
    {
     "data": {
      "text/html": [
       "<pre style=\"margin: 0.1em;\n",
       "padding-left: 0.25em;\n",
       "border-left-style: solid;\n",
       "font-family: var(--jp-code-font-family);\n",
       "font-size: var(--jp-code-font-size);\n",
       "line-height: var(--jp-code-line-height);\n",
       "\"><span style=\"color: var(--jp-warn-color2)\">lsst.pipe.base.graphBuilder</span> <span style=\"color: var(--jp-warn-color0)\">WARNING</span>: No datasets of type finalized_psf_ap_corr_catalog in collection &#x27;2.2i/runs/DP0.2/v23_0_1/PREOPS-905/step3_14/20220219T051120Z&#x27;.</pre>"
      ],
      "text/plain": [
       "<IPython.core.display.HTML object>"
      ]
     },
     "metadata": {},
     "output_type": "display_data"
    },
    {
     "data": {
      "text/html": [
       "<pre style=\"margin: 0.1em;\n",
       "padding-left: 0.25em;\n",
       "border-left-style: solid;\n",
       "font-family: var(--jp-code-font-family);\n",
       "font-size: var(--jp-code-font-size);\n",
       "line-height: var(--jp-code-line-height);\n",
       "\"><span style=\"color: var(--jp-warn-color2)\">lsst.pipe.base.graphBuilder</span> <span style=\"color: var(--jp-warn-color0)\">WARNING</span>: No datasets of type finalized_psf_ap_corr_catalog in collection &#x27;2.2i/runs/DP0.2/v23_0_1/PREOPS-905/step3_15/20220221T015820Z&#x27;.</pre>"
      ],
      "text/plain": [
       "<IPython.core.display.HTML object>"
      ]
     },
     "metadata": {},
     "output_type": "display_data"
    },
    {
     "data": {
      "text/html": [
       "<pre style=\"margin: 0.1em;\n",
       "padding-left: 0.25em;\n",
       "border-left-style: solid;\n",
       "font-family: var(--jp-code-font-family);\n",
       "font-size: var(--jp-code-font-size);\n",
       "line-height: var(--jp-code-line-height);\n",
       "\"><span style=\"color: var(--jp-warn-color2)\">lsst.pipe.base.graphBuilder</span> <span style=\"color: var(--jp-warn-color0)\">WARNING</span>: No datasets of type finalized_psf_ap_corr_catalog in collection &#x27;2.2i/runs/DP0.2/v23_0_1/PREOPS-905/step3_15/20220302T200340Z&#x27;.</pre>"
      ],
      "text/plain": [
       "<IPython.core.display.HTML object>"
      ]
     },
     "metadata": {},
     "output_type": "display_data"
    },
    {
     "data": {
      "text/html": [
       "<pre style=\"margin: 0.1em;\n",
       "padding-left: 0.25em;\n",
       "border-left-style: solid;\n",
       "font-family: var(--jp-code-font-family);\n",
       "font-size: var(--jp-code-font-size);\n",
       "line-height: var(--jp-code-line-height);\n",
       "\"><span style=\"color: var(--jp-warn-color2)\">lsst.pipe.base.graphBuilder</span> <span style=\"color: var(--jp-warn-color0)\">WARNING</span>: No datasets of type finalized_psf_ap_corr_catalog in collection &#x27;2.2i/runs/DP0.2/v23_0_1/PREOPS-905/step3_16/20220219T164501Z&#x27;.</pre>"
      ],
      "text/plain": [
       "<IPython.core.display.HTML object>"
      ]
     },
     "metadata": {},
     "output_type": "display_data"
    },
    {
     "data": {
      "text/html": [
       "<pre style=\"margin: 0.1em;\n",
       "padding-left: 0.25em;\n",
       "border-left-style: solid;\n",
       "font-family: var(--jp-code-font-family);\n",
       "font-size: var(--jp-code-font-size);\n",
       "line-height: var(--jp-code-line-height);\n",
       "\"><span style=\"color: var(--jp-warn-color2)\">lsst.pipe.base.graphBuilder</span> <span style=\"color: var(--jp-warn-color0)\">WARNING</span>: No datasets of type finalized_psf_ap_corr_catalog in collection &#x27;2.2i/runs/DP0.2/v23_0_1/PREOPS-905/step3_16/20220302T210859Z&#x27;.</pre>"
      ],
      "text/plain": [
       "<IPython.core.display.HTML object>"
      ]
     },
     "metadata": {},
     "output_type": "display_data"
    },
    {
     "data": {
      "text/html": [
       "<pre style=\"margin: 0.1em;\n",
       "padding-left: 0.25em;\n",
       "border-left-style: solid;\n",
       "font-family: var(--jp-code-font-family);\n",
       "font-size: var(--jp-code-font-size);\n",
       "line-height: var(--jp-code-line-height);\n",
       "\"><span style=\"color: var(--jp-warn-color2)\">lsst.pipe.base.graphBuilder</span> <span style=\"color: var(--jp-warn-color0)\">WARNING</span>: No datasets of type finalized_psf_ap_corr_catalog in collection &#x27;2.2i/runs/DP0.2/v23_0_1/PREOPS-905/step3_17/20220220T035232Z&#x27;.</pre>"
      ],
      "text/plain": [
       "<IPython.core.display.HTML object>"
      ]
     },
     "metadata": {},
     "output_type": "display_data"
    },
    {
     "data": {
      "text/html": [
       "<pre style=\"margin: 0.1em;\n",
       "padding-left: 0.25em;\n",
       "border-left-style: solid;\n",
       "font-family: var(--jp-code-font-family);\n",
       "font-size: var(--jp-code-font-size);\n",
       "line-height: var(--jp-code-line-height);\n",
       "\"><span style=\"color: var(--jp-warn-color2)\">lsst.pipe.base.graphBuilder</span> <span style=\"color: var(--jp-warn-color0)\">WARNING</span>: No datasets of type finalized_psf_ap_corr_catalog in collection &#x27;2.2i/runs/DP0.2/v23_0_1/PREOPS-905/step3_18/20220220T153612Z&#x27;.</pre>"
      ],
      "text/plain": [
       "<IPython.core.display.HTML object>"
      ]
     },
     "metadata": {},
     "output_type": "display_data"
    },
    {
     "data": {
      "text/html": [
       "<pre style=\"margin: 0.1em;\n",
       "padding-left: 0.25em;\n",
       "border-left-style: solid;\n",
       "font-family: var(--jp-code-font-family);\n",
       "font-size: var(--jp-code-font-size);\n",
       "line-height: var(--jp-code-line-height);\n",
       "\"><span style=\"color: var(--jp-warn-color2)\">lsst.pipe.base.graphBuilder</span> <span style=\"color: var(--jp-warn-color0)\">WARNING</span>: No datasets of type finalized_psf_ap_corr_catalog in collection &#x27;2.2i/runs/DP0.2/v23_0_1/PREOPS-905/step3_19/20220221T031952Z&#x27;.</pre>"
      ],
      "text/plain": [
       "<IPython.core.display.HTML object>"
      ]
     },
     "metadata": {},
     "output_type": "display_data"
    },
    {
     "data": {
      "text/html": [
       "<pre style=\"margin: 0.1em;\n",
       "padding-left: 0.25em;\n",
       "border-left-style: solid;\n",
       "font-family: var(--jp-code-font-family);\n",
       "font-size: var(--jp-code-font-size);\n",
       "line-height: var(--jp-code-line-height);\n",
       "\"><span style=\"color: var(--jp-warn-color2)\">lsst.pipe.base.graphBuilder</span> <span style=\"color: var(--jp-warn-color0)\">WARNING</span>: No datasets of type finalized_psf_ap_corr_catalog in collection &#x27;2.2i/runs/DP0.2/v23_0_1/PREOPS-905/step3_19/20220302T215536Z&#x27;.</pre>"
      ],
      "text/plain": [
       "<IPython.core.display.HTML object>"
      ]
     },
     "metadata": {},
     "output_type": "display_data"
    },
    {
     "data": {
      "text/html": [
       "<pre style=\"margin: 0.1em;\n",
       "padding-left: 0.25em;\n",
       "border-left-style: solid;\n",
       "font-family: var(--jp-code-font-family);\n",
       "font-size: var(--jp-code-font-size);\n",
       "line-height: var(--jp-code-line-height);\n",
       "\"><span style=\"color: var(--jp-warn-color2)\">lsst.pipe.base.graphBuilder</span> <span style=\"color: var(--jp-warn-color0)\">WARNING</span>: No datasets of type finalized_psf_ap_corr_catalog in collection &#x27;2.2i/runs/DP0.2/v23_0_1/PREOPS-905/step3_20/20220225T211807Z&#x27;.</pre>"
      ],
      "text/plain": [
       "<IPython.core.display.HTML object>"
      ]
     },
     "metadata": {},
     "output_type": "display_data"
    },
    {
     "data": {
      "text/html": [
       "<pre style=\"margin: 0.1em;\n",
       "padding-left: 0.25em;\n",
       "border-left-style: solid;\n",
       "font-family: var(--jp-code-font-family);\n",
       "font-size: var(--jp-code-font-size);\n",
       "line-height: var(--jp-code-line-height);\n",
       "\"><span style=\"color: var(--jp-warn-color2)\">lsst.pipe.base.graphBuilder</span> <span style=\"color: var(--jp-warn-color0)\">WARNING</span>: No datasets of type finalized_psf_ap_corr_catalog in collection &#x27;2.2i/runs/DP0.2/v23_0_1/PREOPS-905/step3_20/20220303T145311Z&#x27;.</pre>"
      ],
      "text/plain": [
       "<IPython.core.display.HTML object>"
      ]
     },
     "metadata": {},
     "output_type": "display_data"
    },
    {
     "data": {
      "text/html": [
       "<pre style=\"margin: 0.1em;\n",
       "padding-left: 0.25em;\n",
       "border-left-style: solid;\n",
       "font-family: var(--jp-code-font-family);\n",
       "font-size: var(--jp-code-font-size);\n",
       "line-height: var(--jp-code-line-height);\n",
       "\"><span style=\"color: var(--jp-warn-color2)\">lsst.pipe.base.graphBuilder</span> <span style=\"color: var(--jp-warn-color0)\">WARNING</span>: No datasets of type finalized_psf_ap_corr_catalog in collection &#x27;2.2i/runs/DP0.2/v23_0_1/PREOPS-905/step3_5/20220218T163030Z&#x27;.</pre>"
      ],
      "text/plain": [
       "<IPython.core.display.HTML object>"
      ]
     },
     "metadata": {},
     "output_type": "display_data"
    },
    {
     "data": {
      "text/html": [
       "<pre style=\"margin: 0.1em;\n",
       "padding-left: 0.25em;\n",
       "border-left-style: solid;\n",
       "font-family: var(--jp-code-font-family);\n",
       "font-size: var(--jp-code-font-size);\n",
       "line-height: var(--jp-code-line-height);\n",
       "\"><span style=\"color: var(--jp-warn-color2)\">lsst.pipe.base.graphBuilder</span> <span style=\"color: var(--jp-warn-color0)\">WARNING</span>: No datasets of type finalized_psf_ap_corr_catalog in collection &#x27;2.2i/runs/DP0.2/v23_0_1/PREOPS-905/step3_7/20220219T040206Z&#x27;.</pre>"
      ],
      "text/plain": [
       "<IPython.core.display.HTML object>"
      ]
     },
     "metadata": {},
     "output_type": "display_data"
    },
    {
     "data": {
      "text/html": [
       "<pre style=\"margin: 0.1em;\n",
       "padding-left: 0.25em;\n",
       "border-left-style: solid;\n",
       "font-family: var(--jp-code-font-family);\n",
       "font-size: var(--jp-code-font-size);\n",
       "line-height: var(--jp-code-line-height);\n",
       "\"><span style=\"color: var(--jp-warn-color2)\">lsst.pipe.base.graphBuilder</span> <span style=\"color: var(--jp-warn-color0)\">WARNING</span>: No datasets of type finalized_psf_ap_corr_catalog in collection &#x27;2.2i/runs/DP0.2/v23_0_1/PREOPS-905/step3_9/20220219T154502Z&#x27;.</pre>"
      ],
      "text/plain": [
       "<IPython.core.display.HTML object>"
      ]
     },
     "metadata": {},
     "output_type": "display_data"
    },
    {
     "data": {
      "text/html": [
       "<pre style=\"margin: 0.1em;\n",
       "padding-left: 0.25em;\n",
       "border-left-style: solid;\n",
       "font-family: var(--jp-code-font-family);\n",
       "font-size: var(--jp-code-font-size);\n",
       "line-height: var(--jp-code-line-height);\n",
       "\"><span style=\"color: var(--jp-warn-color2)\">lsst.pipe.base.graphBuilder</span> <span style=\"color: var(--jp-warn-color0)\">WARNING</span>: No datasets of type finalized_psf_ap_corr_catalog in collection &#x27;2.2i/runs/DP0.2/v23_0_1/PREOPS-905/step3_9/20220302T181001Z&#x27;.</pre>"
      ],
      "text/plain": [
       "<IPython.core.display.HTML object>"
      ]
     },
     "metadata": {},
     "output_type": "display_data"
    },
    {
     "data": {
      "text/html": [
       "<pre style=\"margin: 0.1em;\n",
       "padding-left: 0.25em;\n",
       "border-left-style: solid;\n",
       "font-family: var(--jp-code-font-family);\n",
       "font-size: var(--jp-code-font-size);\n",
       "line-height: var(--jp-code-line-height);\n",
       "\"><span style=\"color: var(--jp-warn-color2)\">lsst.pipe.base.graphBuilder</span> <span style=\"color: var(--jp-warn-color0)\">WARNING</span>: No datasets of type finalized_psf_ap_corr_catalog in collection &#x27;2.2i/runs/DP0.2/v23_0_0_rc5/PREOPS-905/20220124T155505Z&#x27;.</pre>"
      ],
      "text/plain": [
       "<IPython.core.display.HTML object>"
      ]
     },
     "metadata": {},
     "output_type": "display_data"
    },
    {
     "data": {
      "text/html": [
       "<pre style=\"margin: 0.1em;\n",
       "padding-left: 0.25em;\n",
       "border-left-style: solid;\n",
       "font-family: var(--jp-code-font-family);\n",
       "font-size: var(--jp-code-font-size);\n",
       "line-height: var(--jp-code-line-height);\n",
       "\"><span style=\"color: var(--jp-warn-color2)\">lsst.pipe.base.graphBuilder</span> <span style=\"color: var(--jp-warn-color0)\">WARNING</span>: No datasets of type finalized_psf_ap_corr_catalog in collection &#x27;2.2i/runs/DP0.2/v23_0_0_rc5/PREOPS-905/20220123T195452Z&#x27;.</pre>"
      ],
      "text/plain": [
       "<IPython.core.display.HTML object>"
      ]
     },
     "metadata": {},
     "output_type": "display_data"
    },
    {
     "data": {
      "text/html": [
       "<pre style=\"margin: 0.1em;\n",
       "padding-left: 0.25em;\n",
       "border-left-style: solid;\n",
       "font-family: var(--jp-code-font-family);\n",
       "font-size: var(--jp-code-font-size);\n",
       "line-height: var(--jp-code-line-height);\n",
       "\"><span style=\"color: var(--jp-warn-color2)\">lsst.pipe.base.graphBuilder</span> <span style=\"color: var(--jp-warn-color0)\">WARNING</span>: No datasets of type finalized_psf_ap_corr_catalog in collection &#x27;2.2i/runs/DP0.2/v23_0_0_rc5/PREOPS-905/20220123T001043Z&#x27;.</pre>"
      ],
      "text/plain": [
       "<IPython.core.display.HTML object>"
      ]
     },
     "metadata": {},
     "output_type": "display_data"
    },
    {
     "data": {
      "text/html": [
       "<pre style=\"margin: 0.1em;\n",
       "padding-left: 0.25em;\n",
       "border-left-style: solid;\n",
       "font-family: var(--jp-code-font-family);\n",
       "font-size: var(--jp-code-font-size);\n",
       "line-height: var(--jp-code-line-height);\n",
       "\"><span style=\"color: var(--jp-warn-color2)\">lsst.pipe.base.graphBuilder</span> <span style=\"color: var(--jp-warn-color0)\">WARNING</span>: No datasets of type finalized_psf_ap_corr_catalog in collection &#x27;2.2i/runs/DP0.2/v23_0_0_rc5/PREOPS-905/20220122T070559Z&#x27;.</pre>"
      ],
      "text/plain": [
       "<IPython.core.display.HTML object>"
      ]
     },
     "metadata": {},
     "output_type": "display_data"
    },
    {
     "data": {
      "text/html": [
       "<pre style=\"margin: 0.1em;\n",
       "padding-left: 0.25em;\n",
       "border-left-style: solid;\n",
       "font-family: var(--jp-code-font-family);\n",
       "font-size: var(--jp-code-font-size);\n",
       "line-height: var(--jp-code-line-height);\n",
       "\"><span style=\"color: var(--jp-warn-color2)\">lsst.pipe.base.graphBuilder</span> <span style=\"color: var(--jp-warn-color0)\">WARNING</span>: No datasets of type finalized_psf_ap_corr_catalog in collection &#x27;2.2i/runs/DP0.2/v23_0_0_rc5/PREOPS-905/20220121T234250Z&#x27;.</pre>"
      ],
      "text/plain": [
       "<IPython.core.display.HTML object>"
      ]
     },
     "metadata": {},
     "output_type": "display_data"
    },
    {
     "data": {
      "text/html": [
       "<pre style=\"margin: 0.1em;\n",
       "padding-left: 0.25em;\n",
       "border-left-style: solid;\n",
       "font-family: var(--jp-code-font-family);\n",
       "font-size: var(--jp-code-font-size);\n",
       "line-height: var(--jp-code-line-height);\n",
       "\"><span style=\"color: var(--jp-warn-color2)\">lsst.pipe.base.graphBuilder</span> <span style=\"color: var(--jp-warn-color0)\">WARNING</span>: No datasets of type finalized_psf_ap_corr_catalog in collection &#x27;2.2i/runs/DP0.2/v23_0_0_rc5/PREOPS-905/20220121T191925Z&#x27;.</pre>"
      ],
      "text/plain": [
       "<IPython.core.display.HTML object>"
      ]
     },
     "metadata": {},
     "output_type": "display_data"
    },
    {
     "data": {
      "text/html": [
       "<pre style=\"margin: 0.1em;\n",
       "padding-left: 0.25em;\n",
       "border-left-style: solid;\n",
       "font-family: var(--jp-code-font-family);\n",
       "font-size: var(--jp-code-font-size);\n",
       "line-height: var(--jp-code-line-height);\n",
       "\"><span style=\"color: var(--jp-warn-color2)\">lsst.pipe.base.graphBuilder</span> <span style=\"color: var(--jp-warn-color0)\">WARNING</span>: No datasets of type finalized_psf_ap_corr_catalog in collection &#x27;2.2i/runs/DP0.2/v23_0_0_rc5/PREOPS-905/20220121T160922Z&#x27;.</pre>"
      ],
      "text/plain": [
       "<IPython.core.display.HTML object>"
      ]
     },
     "metadata": {},
     "output_type": "display_data"
    },
    {
     "data": {
      "text/html": [
       "<pre style=\"margin: 0.1em;\n",
       "padding-left: 0.25em;\n",
       "border-left-style: solid;\n",
       "font-family: var(--jp-code-font-family);\n",
       "font-size: var(--jp-code-font-size);\n",
       "line-height: var(--jp-code-line-height);\n",
       "\"><span style=\"color: var(--jp-warn-color2)\">lsst.pipe.base.graphBuilder</span> <span style=\"color: var(--jp-warn-color0)\">WARNING</span>: No datasets of type finalized_psf_ap_corr_catalog in collection &#x27;2.2i/runs/DP0.2/v23_0_0_rc5/PREOPS-905/20220121T103211Z&#x27;.</pre>"
      ],
      "text/plain": [
       "<IPython.core.display.HTML object>"
      ]
     },
     "metadata": {},
     "output_type": "display_data"
    },
    {
     "data": {
      "text/html": [
       "<pre style=\"margin: 0.1em;\n",
       "padding-left: 0.25em;\n",
       "border-left-style: solid;\n",
       "font-family: var(--jp-code-font-family);\n",
       "font-size: var(--jp-code-font-size);\n",
       "line-height: var(--jp-code-line-height);\n",
       "\"><span style=\"color: var(--jp-warn-color2)\">lsst.pipe.base.graphBuilder</span> <span style=\"color: var(--jp-warn-color0)\">WARNING</span>: No datasets of type finalized_psf_ap_corr_catalog in collection &#x27;2.2i/runs/DP0.2/v23_0_0_rc5/PREOPS-905/20220121T081743Z&#x27;.</pre>"
      ],
      "text/plain": [
       "<IPython.core.display.HTML object>"
      ]
     },
     "metadata": {},
     "output_type": "display_data"
    },
    {
     "data": {
      "text/html": [
       "<pre style=\"margin: 0.1em;\n",
       "padding-left: 0.25em;\n",
       "border-left-style: solid;\n",
       "font-family: var(--jp-code-font-family);\n",
       "font-size: var(--jp-code-font-size);\n",
       "line-height: var(--jp-code-line-height);\n",
       "\"><span style=\"color: var(--jp-warn-color2)\">lsst.pipe.base.graphBuilder</span> <span style=\"color: var(--jp-warn-color0)\">WARNING</span>: No datasets of type finalized_psf_ap_corr_catalog in collection &#x27;2.2i/runs/DP0.2/v23_0_0_rc5/PREOPS-905/20220121T041501Z&#x27;.</pre>"
      ],
      "text/plain": [
       "<IPython.core.display.HTML object>"
      ]
     },
     "metadata": {},
     "output_type": "display_data"
    },
    {
     "data": {
      "text/html": [
       "<pre style=\"margin: 0.1em;\n",
       "padding-left: 0.25em;\n",
       "border-left-style: solid;\n",
       "font-family: var(--jp-code-font-family);\n",
       "font-size: var(--jp-code-font-size);\n",
       "line-height: var(--jp-code-line-height);\n",
       "\"><span style=\"color: var(--jp-warn-color2)\">lsst.pipe.base.graphBuilder</span> <span style=\"color: var(--jp-warn-color0)\">WARNING</span>: No datasets of type finalized_psf_ap_corr_catalog in collection &#x27;2.2i/runs/DP0.2/v23_0_0_rc5/PREOPS-905/20220121T031850Z&#x27;.</pre>"
      ],
      "text/plain": [
       "<IPython.core.display.HTML object>"
      ]
     },
     "metadata": {},
     "output_type": "display_data"
    },
    {
     "data": {
      "text/html": [
       "<pre style=\"margin: 0.1em;\n",
       "padding-left: 0.25em;\n",
       "border-left-style: solid;\n",
       "font-family: var(--jp-code-font-family);\n",
       "font-size: var(--jp-code-font-size);\n",
       "line-height: var(--jp-code-line-height);\n",
       "\"><span style=\"color: var(--jp-warn-color2)\">lsst.pipe.base.graphBuilder</span> <span style=\"color: var(--jp-warn-color0)\">WARNING</span>: No datasets of type finalized_psf_ap_corr_catalog in collection &#x27;2.2i/runs/DP0.2/v23_0_0_rc5/PREOPS-905/20220121T003836Z&#x27;.</pre>"
      ],
      "text/plain": [
       "<IPython.core.display.HTML object>"
      ]
     },
     "metadata": {},
     "output_type": "display_data"
    },
    {
     "data": {
      "text/html": [
       "<pre style=\"margin: 0.1em;\n",
       "padding-left: 0.25em;\n",
       "border-left-style: solid;\n",
       "font-family: var(--jp-code-font-family);\n",
       "font-size: var(--jp-code-font-size);\n",
       "line-height: var(--jp-code-line-height);\n",
       "\"><span style=\"color: var(--jp-warn-color2)\">lsst.pipe.base.graphBuilder</span> <span style=\"color: var(--jp-warn-color0)\">WARNING</span>: No datasets of type finalized_psf_ap_corr_catalog in collection &#x27;2.2i/runs/DP0.2/v23_0_0_rc5/PREOPS-905/20220120T161430Z&#x27;.</pre>"
      ],
      "text/plain": [
       "<IPython.core.display.HTML object>"
      ]
     },
     "metadata": {},
     "output_type": "display_data"
    },
    {
     "data": {
      "text/html": [
       "<pre style=\"margin: 0.1em;\n",
       "padding-left: 0.25em;\n",
       "border-left-style: solid;\n",
       "font-family: var(--jp-code-font-family);\n",
       "font-size: var(--jp-code-font-size);\n",
       "line-height: var(--jp-code-line-height);\n",
       "\"><span style=\"color: var(--jp-warn-color2)\">lsst.pipe.base.graphBuilder</span> <span style=\"color: var(--jp-warn-color0)\">WARNING</span>: No datasets of type finalized_psf_ap_corr_catalog in collection &#x27;2.2i/runs/DP0.2/v23_0_0_rc5/PREOPS-905/20220120T012920Z&#x27;.</pre>"
      ],
      "text/plain": [
       "<IPython.core.display.HTML object>"
      ]
     },
     "metadata": {},
     "output_type": "display_data"
    },
    {
     "data": {
      "text/html": [
       "<pre style=\"margin: 0.1em;\n",
       "padding-left: 0.25em;\n",
       "border-left-style: solid;\n",
       "font-family: var(--jp-code-font-family);\n",
       "font-size: var(--jp-code-font-size);\n",
       "line-height: var(--jp-code-line-height);\n",
       "\"><span style=\"color: var(--jp-warn-color2)\">lsst.pipe.base.graphBuilder</span> <span style=\"color: var(--jp-warn-color0)\">WARNING</span>: No datasets of type finalized_psf_ap_corr_catalog in collection &#x27;2.2i/runs/DP0.2/v23_0_0_rc5/PREOPS-905/20220112T143133Z&#x27;.</pre>"
      ],
      "text/plain": [
       "<IPython.core.display.HTML object>"
      ]
     },
     "metadata": {},
     "output_type": "display_data"
    },
    {
     "data": {
      "text/html": [
       "<pre style=\"margin: 0.1em;\n",
       "padding-left: 0.25em;\n",
       "border-left-style: solid;\n",
       "font-family: var(--jp-code-font-family);\n",
       "font-size: var(--jp-code-font-size);\n",
       "line-height: var(--jp-code-line-height);\n",
       "\"><span style=\"color: var(--jp-warn-color2)\">lsst.pipe.base.graphBuilder</span> <span style=\"color: var(--jp-warn-color0)\">WARNING</span>: No datasets of type finalized_psf_ap_corr_catalog in collection &#x27;2.2i/runs/DP0.2/v23_0_0_rc5/PREOPS-905/20220112T114604Z&#x27;.</pre>"
      ],
      "text/plain": [
       "<IPython.core.display.HTML object>"
      ]
     },
     "metadata": {},
     "output_type": "display_data"
    },
    {
     "data": {
      "text/html": [
       "<pre style=\"margin: 0.1em;\n",
       "padding-left: 0.25em;\n",
       "border-left-style: solid;\n",
       "font-family: var(--jp-code-font-family);\n",
       "font-size: var(--jp-code-font-size);\n",
       "line-height: var(--jp-code-line-height);\n",
       "\"><span style=\"color: var(--jp-warn-color2)\">lsst.pipe.base.graphBuilder</span> <span style=\"color: var(--jp-warn-color0)\">WARNING</span>: No datasets of type finalized_psf_ap_corr_catalog in collection &#x27;2.2i/runs/DP0.2/v23_0_0_rc5/PREOPS-905/20220112T084603Z&#x27;.</pre>"
      ],
      "text/plain": [
       "<IPython.core.display.HTML object>"
      ]
     },
     "metadata": {},
     "output_type": "display_data"
    },
    {
     "data": {
      "text/html": [
       "<pre style=\"margin: 0.1em;\n",
       "padding-left: 0.25em;\n",
       "border-left-style: solid;\n",
       "font-family: var(--jp-code-font-family);\n",
       "font-size: var(--jp-code-font-size);\n",
       "line-height: var(--jp-code-line-height);\n",
       "\"><span style=\"color: var(--jp-warn-color2)\">lsst.pipe.base.graphBuilder</span> <span style=\"color: var(--jp-warn-color0)\">WARNING</span>: No datasets of type finalized_psf_ap_corr_catalog in collection &#x27;2.2i/runs/DP0.2/v23_0_0_rc5/PREOPS-905/20220112T054912Z&#x27;.</pre>"
      ],
      "text/plain": [
       "<IPython.core.display.HTML object>"
      ]
     },
     "metadata": {},
     "output_type": "display_data"
    },
    {
     "data": {
      "text/html": [
       "<pre style=\"margin: 0.1em;\n",
       "padding-left: 0.25em;\n",
       "border-left-style: solid;\n",
       "font-family: var(--jp-code-font-family);\n",
       "font-size: var(--jp-code-font-size);\n",
       "line-height: var(--jp-code-line-height);\n",
       "\"><span style=\"color: var(--jp-warn-color2)\">lsst.pipe.base.graphBuilder</span> <span style=\"color: var(--jp-warn-color0)\">WARNING</span>: No datasets of type finalized_psf_ap_corr_catalog in collection &#x27;2.2i/runs/DP0.2/v23_0_0_rc5/PREOPS-905/20220112T010001Z&#x27;.</pre>"
      ],
      "text/plain": [
       "<IPython.core.display.HTML object>"
      ]
     },
     "metadata": {},
     "output_type": "display_data"
    },
    {
     "data": {
      "text/html": [
       "<pre style=\"margin: 0.1em;\n",
       "padding-left: 0.25em;\n",
       "border-left-style: solid;\n",
       "font-family: var(--jp-code-font-family);\n",
       "font-size: var(--jp-code-font-size);\n",
       "line-height: var(--jp-code-line-height);\n",
       "\"><span style=\"color: var(--jp-warn-color2)\">lsst.pipe.base.graphBuilder</span> <span style=\"color: var(--jp-warn-color0)\">WARNING</span>: No datasets of type finalized_psf_ap_corr_catalog in collection &#x27;2.2i/runs/DP0.2/v23_0_0_rc5/PREOPS-905/20220111T213932Z&#x27;.</pre>"
      ],
      "text/plain": [
       "<IPython.core.display.HTML object>"
      ]
     },
     "metadata": {},
     "output_type": "display_data"
    },
    {
     "data": {
      "text/html": [
       "<pre style=\"margin: 0.1em;\n",
       "padding-left: 0.25em;\n",
       "border-left-style: solid;\n",
       "font-family: var(--jp-code-font-family);\n",
       "font-size: var(--jp-code-font-size);\n",
       "line-height: var(--jp-code-line-height);\n",
       "\"><span style=\"color: var(--jp-warn-color2)\">lsst.pipe.base.graphBuilder</span> <span style=\"color: var(--jp-warn-color0)\">WARNING</span>: No datasets of type finalized_psf_ap_corr_catalog in collection &#x27;2.2i/runs/DP0.2/v23_0_0_rc5/PREOPS-905/20220111T175016Z&#x27;.</pre>"
      ],
      "text/plain": [
       "<IPython.core.display.HTML object>"
      ]
     },
     "metadata": {},
     "output_type": "display_data"
    },
    {
     "data": {
      "text/html": [
       "<pre style=\"margin: 0.1em;\n",
       "padding-left: 0.25em;\n",
       "border-left-style: solid;\n",
       "font-family: var(--jp-code-font-family);\n",
       "font-size: var(--jp-code-font-size);\n",
       "line-height: var(--jp-code-line-height);\n",
       "\"><span style=\"color: var(--jp-warn-color2)\">lsst.pipe.base.graphBuilder</span> <span style=\"color: var(--jp-warn-color0)\">WARNING</span>: No datasets of type finalized_psf_ap_corr_catalog in collection &#x27;2.2i/runs/DP0.2/v23_0_0_rc5/PREOPS-905/20220111T095828Z&#x27;.</pre>"
      ],
      "text/plain": [
       "<IPython.core.display.HTML object>"
      ]
     },
     "metadata": {},
     "output_type": "display_data"
    },
    {
     "data": {
      "text/html": [
       "<pre style=\"margin: 0.1em;\n",
       "padding-left: 0.25em;\n",
       "border-left-style: solid;\n",
       "font-family: var(--jp-code-font-family);\n",
       "font-size: var(--jp-code-font-size);\n",
       "line-height: var(--jp-code-line-height);\n",
       "\"><span style=\"color: var(--jp-warn-color2)\">lsst.pipe.base.graphBuilder</span> <span style=\"color: var(--jp-warn-color0)\">WARNING</span>: No datasets of type finalized_psf_ap_corr_catalog in collection &#x27;2.2i/runs/DP0.2/v23_0_0_rc5/PREOPS-905/20220111T083238Z&#x27;.</pre>"
      ],
      "text/plain": [
       "<IPython.core.display.HTML object>"
      ]
     },
     "metadata": {},
     "output_type": "display_data"
    },
    {
     "data": {
      "text/html": [
       "<pre style=\"margin: 0.1em;\n",
       "padding-left: 0.25em;\n",
       "border-left-style: solid;\n",
       "font-family: var(--jp-code-font-family);\n",
       "font-size: var(--jp-code-font-size);\n",
       "line-height: var(--jp-code-line-height);\n",
       "\"><span style=\"color: var(--jp-warn-color2)\">lsst.pipe.base.graphBuilder</span> <span style=\"color: var(--jp-warn-color0)\">WARNING</span>: No datasets of type finalized_psf_ap_corr_catalog in collection &#x27;2.2i/runs/DP0.2/v23_0_0_rc5/PREOPS-905/20220111T071223Z&#x27;.</pre>"
      ],
      "text/plain": [
       "<IPython.core.display.HTML object>"
      ]
     },
     "metadata": {},
     "output_type": "display_data"
    },
    {
     "data": {
      "text/html": [
       "<pre style=\"margin: 0.1em;\n",
       "padding-left: 0.25em;\n",
       "border-left-style: solid;\n",
       "font-family: var(--jp-code-font-family);\n",
       "font-size: var(--jp-code-font-size);\n",
       "line-height: var(--jp-code-line-height);\n",
       "\"><span style=\"color: var(--jp-warn-color2)\">lsst.pipe.base.graphBuilder</span> <span style=\"color: var(--jp-warn-color0)\">WARNING</span>: No datasets of type finalized_psf_ap_corr_catalog in collection &#x27;2.2i/runs/DP0.2/v23_0_0_rc5/PREOPS-905/20220111T063729Z&#x27;.</pre>"
      ],
      "text/plain": [
       "<IPython.core.display.HTML object>"
      ]
     },
     "metadata": {},
     "output_type": "display_data"
    },
    {
     "data": {
      "text/html": [
       "<pre style=\"margin: 0.1em;\n",
       "padding-left: 0.25em;\n",
       "border-left-style: solid;\n",
       "font-family: var(--jp-code-font-family);\n",
       "font-size: var(--jp-code-font-size);\n",
       "line-height: var(--jp-code-line-height);\n",
       "\"><span style=\"color: var(--jp-warn-color2)\">lsst.pipe.base.graphBuilder</span> <span style=\"color: var(--jp-warn-color0)\">WARNING</span>: No datasets of type finalized_psf_ap_corr_catalog in collection &#x27;2.2i/runs/DP0.2/v23_0_0_rc5/PREOPS-905/20220111T060953Z&#x27;.</pre>"
      ],
      "text/plain": [
       "<IPython.core.display.HTML object>"
      ]
     },
     "metadata": {},
     "output_type": "display_data"
    },
    {
     "data": {
      "text/html": [
       "<pre style=\"margin: 0.1em;\n",
       "padding-left: 0.25em;\n",
       "border-left-style: solid;\n",
       "font-family: var(--jp-code-font-family);\n",
       "font-size: var(--jp-code-font-size);\n",
       "line-height: var(--jp-code-line-height);\n",
       "\"><span style=\"color: var(--jp-warn-color2)\">lsst.pipe.base.graphBuilder</span> <span style=\"color: var(--jp-warn-color0)\">WARNING</span>: No datasets of type finalized_psf_ap_corr_catalog in collection &#x27;2.2i/runs/DP0.2/v23_0_0_rc5/PREOPS-905/20220111T054319Z&#x27;.</pre>"
      ],
      "text/plain": [
       "<IPython.core.display.HTML object>"
      ]
     },
     "metadata": {},
     "output_type": "display_data"
    },
    {
     "data": {
      "text/html": [
       "<pre style=\"margin: 0.1em;\n",
       "padding-left: 0.25em;\n",
       "border-left-style: solid;\n",
       "font-family: var(--jp-code-font-family);\n",
       "font-size: var(--jp-code-font-size);\n",
       "line-height: var(--jp-code-line-height);\n",
       "\"><span style=\"color: var(--jp-warn-color2)\">lsst.pipe.base.graphBuilder</span> <span style=\"color: var(--jp-warn-color0)\">WARNING</span>: No datasets of type finalized_psf_ap_corr_catalog in collection &#x27;2.2i/runs/DP0.2/v23_0_0_rc5/PREOPS-905/20220111T051546Z&#x27;.</pre>"
      ],
      "text/plain": [
       "<IPython.core.display.HTML object>"
      ]
     },
     "metadata": {},
     "output_type": "display_data"
    },
    {
     "data": {
      "text/html": [
       "<pre style=\"margin: 0.1em;\n",
       "padding-left: 0.25em;\n",
       "border-left-style: solid;\n",
       "font-family: var(--jp-code-font-family);\n",
       "font-size: var(--jp-code-font-size);\n",
       "line-height: var(--jp-code-line-height);\n",
       "\"><span style=\"color: var(--jp-warn-color2)\">lsst.pipe.base.graphBuilder</span> <span style=\"color: var(--jp-warn-color0)\">WARNING</span>: No datasets of type finalized_psf_ap_corr_catalog in collection &#x27;2.2i/runs/DP0.2/v23_0_0_rc5/PREOPS-905/20220111T044925Z&#x27;.</pre>"
      ],
      "text/plain": [
       "<IPython.core.display.HTML object>"
      ]
     },
     "metadata": {},
     "output_type": "display_data"
    },
    {
     "data": {
      "text/html": [
       "<pre style=\"margin: 0.1em;\n",
       "padding-left: 0.25em;\n",
       "border-left-style: solid;\n",
       "font-family: var(--jp-code-font-family);\n",
       "font-size: var(--jp-code-font-size);\n",
       "line-height: var(--jp-code-line-height);\n",
       "\"><span style=\"color: var(--jp-warn-color2)\">lsst.pipe.base.graphBuilder</span> <span style=\"color: var(--jp-warn-color0)\">WARNING</span>: No datasets of type finalized_psf_ap_corr_catalog in collection &#x27;2.2i/runs/DP0.2/v23_0_0_rc5/PREOPS-905/20220111T041856Z&#x27;.</pre>"
      ],
      "text/plain": [
       "<IPython.core.display.HTML object>"
      ]
     },
     "metadata": {},
     "output_type": "display_data"
    },
    {
     "data": {
      "text/html": [
       "<pre style=\"margin: 0.1em;\n",
       "padding-left: 0.25em;\n",
       "border-left-style: solid;\n",
       "font-family: var(--jp-code-font-family);\n",
       "font-size: var(--jp-code-font-size);\n",
       "line-height: var(--jp-code-line-height);\n",
       "\"><span style=\"color: var(--jp-warn-color2)\">lsst.pipe.base.graphBuilder</span> <span style=\"color: var(--jp-warn-color0)\">WARNING</span>: No datasets of type finalized_psf_ap_corr_catalog in collection &#x27;2.2i/runs/DP0.2/v23_0_0_rc5/PREOPS-905/20220110T231306Z&#x27;.</pre>"
      ],
      "text/plain": [
       "<IPython.core.display.HTML object>"
      ]
     },
     "metadata": {},
     "output_type": "display_data"
    },
    {
     "data": {
      "text/html": [
       "<pre style=\"margin: 0.1em;\n",
       "padding-left: 0.25em;\n",
       "border-left-style: solid;\n",
       "font-family: var(--jp-code-font-family);\n",
       "font-size: var(--jp-code-font-size);\n",
       "line-height: var(--jp-code-line-height);\n",
       "\"><span style=\"color: var(--jp-warn-color2)\">lsst.pipe.base.graphBuilder</span> <span style=\"color: var(--jp-warn-color0)\">WARNING</span>: No datasets of type finalized_psf_ap_corr_catalog in collection &#x27;2.2i/runs/DP0.2/v23_0_0_rc5/PREOPS-905/20220107T204134Z&#x27;.</pre>"
      ],
      "text/plain": [
       "<IPython.core.display.HTML object>"
      ]
     },
     "metadata": {},
     "output_type": "display_data"
    },
    {
     "data": {
      "text/html": [
       "<pre style=\"margin: 0.1em;\n",
       "padding-left: 0.25em;\n",
       "border-left-style: solid;\n",
       "font-family: var(--jp-code-font-family);\n",
       "font-size: var(--jp-code-font-size);\n",
       "line-height: var(--jp-code-line-height);\n",
       "\"><span style=\"color: var(--jp-warn-color2)\">lsst.pipe.base.graphBuilder</span> <span style=\"color: var(--jp-warn-color0)\">WARNING</span>: No datasets of type finalized_psf_ap_corr_catalog in collection &#x27;2.2i/runs/DP0.2/v23_0_0_rc5/PREOPS-905/20220107T163916Z&#x27;.</pre>"
      ],
      "text/plain": [
       "<IPython.core.display.HTML object>"
      ]
     },
     "metadata": {},
     "output_type": "display_data"
    },
    {
     "data": {
      "text/html": [
       "<pre style=\"margin: 0.1em;\n",
       "padding-left: 0.25em;\n",
       "border-left-style: solid;\n",
       "font-family: var(--jp-code-font-family);\n",
       "font-size: var(--jp-code-font-size);\n",
       "line-height: var(--jp-code-line-height);\n",
       "\"><span style=\"color: var(--jp-warn-color2)\">lsst.pipe.base.graphBuilder</span> <span style=\"color: var(--jp-warn-color0)\">WARNING</span>: No datasets of type finalized_psf_ap_corr_catalog in collection &#x27;2.2i/runs/DP0.2/v23_0_0_rc5/PREOPS-905/20220104T111833Z&#x27;.</pre>"
      ],
      "text/plain": [
       "<IPython.core.display.HTML object>"
      ]
     },
     "metadata": {},
     "output_type": "display_data"
    },
    {
     "data": {
      "text/html": [
       "<pre style=\"margin: 0.1em;\n",
       "padding-left: 0.25em;\n",
       "border-left-style: solid;\n",
       "font-family: var(--jp-code-font-family);\n",
       "font-size: var(--jp-code-font-size);\n",
       "line-height: var(--jp-code-line-height);\n",
       "\"><span style=\"color: var(--jp-warn-color2)\">lsst.pipe.base.graphBuilder</span> <span style=\"color: var(--jp-warn-color0)\">WARNING</span>: No datasets of type finalized_psf_ap_corr_catalog in collection &#x27;2.2i/runs/DP0.2/v23_0_0_rc5/PREOPS-905/20220104T085126Z&#x27;.</pre>"
      ],
      "text/plain": [
       "<IPython.core.display.HTML object>"
      ]
     },
     "metadata": {},
     "output_type": "display_data"
    },
    {
     "data": {
      "text/html": [
       "<pre style=\"margin: 0.1em;\n",
       "padding-left: 0.25em;\n",
       "border-left-style: solid;\n",
       "font-family: var(--jp-code-font-family);\n",
       "font-size: var(--jp-code-font-size);\n",
       "line-height: var(--jp-code-line-height);\n",
       "\"><span style=\"color: var(--jp-warn-color2)\">lsst.pipe.base.graphBuilder</span> <span style=\"color: var(--jp-warn-color0)\">WARNING</span>: No datasets of type finalized_psf_ap_corr_catalog in collection &#x27;2.2i/runs/DP0.2/v23_0_0_rc5/PREOPS-905/20220103T202705Z&#x27;.</pre>"
      ],
      "text/plain": [
       "<IPython.core.display.HTML object>"
      ]
     },
     "metadata": {},
     "output_type": "display_data"
    },
    {
     "data": {
      "text/html": [
       "<pre style=\"margin: 0.1em;\n",
       "padding-left: 0.25em;\n",
       "border-left-style: solid;\n",
       "font-family: var(--jp-code-font-family);\n",
       "font-size: var(--jp-code-font-size);\n",
       "line-height: var(--jp-code-line-height);\n",
       "\"><span style=\"color: var(--jp-warn-color2)\">lsst.pipe.base.graphBuilder</span> <span style=\"color: var(--jp-warn-color0)\">WARNING</span>: No datasets of type finalized_psf_ap_corr_catalog in collection &#x27;2.2i/runs/DP0.2/v23_0_0_rc5/PREOPS-905/20220104T062817Z&#x27;.</pre>"
      ],
      "text/plain": [
       "<IPython.core.display.HTML object>"
      ]
     },
     "metadata": {},
     "output_type": "display_data"
    },
    {
     "data": {
      "text/html": [
       "<pre style=\"margin: 0.1em;\n",
       "padding-left: 0.25em;\n",
       "border-left-style: solid;\n",
       "font-family: var(--jp-code-font-family);\n",
       "font-size: var(--jp-code-font-size);\n",
       "line-height: var(--jp-code-line-height);\n",
       "\"><span style=\"color: var(--jp-warn-color2)\">lsst.pipe.base.graphBuilder</span> <span style=\"color: var(--jp-warn-color0)\">WARNING</span>: No datasets of type finalized_psf_ap_corr_catalog in collection &#x27;2.2i/runs/DP0.2/v23_0_0_rc5/PREOPS-905/20220103T103400Z&#x27;.</pre>"
      ],
      "text/plain": [
       "<IPython.core.display.HTML object>"
      ]
     },
     "metadata": {},
     "output_type": "display_data"
    },
    {
     "data": {
      "text/html": [
       "<pre style=\"margin: 0.1em;\n",
       "padding-left: 0.25em;\n",
       "border-left-style: solid;\n",
       "font-family: var(--jp-code-font-family);\n",
       "font-size: var(--jp-code-font-size);\n",
       "line-height: var(--jp-code-line-height);\n",
       "\"><span style=\"color: var(--jp-warn-color2)\">lsst.pipe.base.graphBuilder</span> <span style=\"color: var(--jp-warn-color0)\">WARNING</span>: No datasets of type finalized_psf_ap_corr_catalog in collection &#x27;2.2i/runs/DP0.2/v23_0_0_rc5/PREOPS-905/20220103T010607Z&#x27;.</pre>"
      ],
      "text/plain": [
       "<IPython.core.display.HTML object>"
      ]
     },
     "metadata": {},
     "output_type": "display_data"
    },
    {
     "data": {
      "text/html": [
       "<pre style=\"margin: 0.1em;\n",
       "padding-left: 0.25em;\n",
       "border-left-style: solid;\n",
       "font-family: var(--jp-code-font-family);\n",
       "font-size: var(--jp-code-font-size);\n",
       "line-height: var(--jp-code-line-height);\n",
       "\"><span style=\"color: var(--jp-warn-color2)\">lsst.pipe.base.graphBuilder</span> <span style=\"color: var(--jp-warn-color0)\">WARNING</span>: No datasets of type finalized_psf_ap_corr_catalog in collection &#x27;2.2i/runs/DP0.2/v23_0_0_rc5/PREOPS-905/20220102T153518Z&#x27;.</pre>"
      ],
      "text/plain": [
       "<IPython.core.display.HTML object>"
      ]
     },
     "metadata": {},
     "output_type": "display_data"
    },
    {
     "data": {
      "text/html": [
       "<pre style=\"margin: 0.1em;\n",
       "padding-left: 0.25em;\n",
       "border-left-style: solid;\n",
       "font-family: var(--jp-code-font-family);\n",
       "font-size: var(--jp-code-font-size);\n",
       "line-height: var(--jp-code-line-height);\n",
       "\"><span style=\"color: var(--jp-warn-color2)\">lsst.pipe.base.graphBuilder</span> <span style=\"color: var(--jp-warn-color0)\">WARNING</span>: No datasets of type finalized_psf_ap_corr_catalog in collection &#x27;2.2i/runs/DP0.2/v23_0_0_rc5/PREOPS-905/20220102T060840Z&#x27;.</pre>"
      ],
      "text/plain": [
       "<IPython.core.display.HTML object>"
      ]
     },
     "metadata": {},
     "output_type": "display_data"
    },
    {
     "data": {
      "text/html": [
       "<pre style=\"margin: 0.1em;\n",
       "padding-left: 0.25em;\n",
       "border-left-style: solid;\n",
       "font-family: var(--jp-code-font-family);\n",
       "font-size: var(--jp-code-font-size);\n",
       "line-height: var(--jp-code-line-height);\n",
       "\"><span style=\"color: var(--jp-warn-color2)\">lsst.pipe.base.graphBuilder</span> <span style=\"color: var(--jp-warn-color0)\">WARNING</span>: No datasets of type finalized_psf_ap_corr_catalog in collection &#x27;2.2i/runs/DP0.2/v23_0_0_rc5/PREOPS-905/20220101T211007Z&#x27;.</pre>"
      ],
      "text/plain": [
       "<IPython.core.display.HTML object>"
      ]
     },
     "metadata": {},
     "output_type": "display_data"
    },
    {
     "data": {
      "text/html": [
       "<pre style=\"margin: 0.1em;\n",
       "padding-left: 0.25em;\n",
       "border-left-style: solid;\n",
       "font-family: var(--jp-code-font-family);\n",
       "font-size: var(--jp-code-font-size);\n",
       "line-height: var(--jp-code-line-height);\n",
       "\"><span style=\"color: var(--jp-warn-color2)\">lsst.pipe.base.graphBuilder</span> <span style=\"color: var(--jp-warn-color0)\">WARNING</span>: No datasets of type finalized_psf_ap_corr_catalog in collection &#x27;2.2i/runs/DP0.2/v23_0_0_rc5/PREOPS-905/20220101T102006Z&#x27;.</pre>"
      ],
      "text/plain": [
       "<IPython.core.display.HTML object>"
      ]
     },
     "metadata": {},
     "output_type": "display_data"
    },
    {
     "data": {
      "text/html": [
       "<pre style=\"margin: 0.1em;\n",
       "padding-left: 0.25em;\n",
       "border-left-style: solid;\n",
       "font-family: var(--jp-code-font-family);\n",
       "font-size: var(--jp-code-font-size);\n",
       "line-height: var(--jp-code-line-height);\n",
       "\"><span style=\"color: var(--jp-warn-color2)\">lsst.pipe.base.graphBuilder</span> <span style=\"color: var(--jp-warn-color0)\">WARNING</span>: No datasets of type finalized_psf_ap_corr_catalog in collection &#x27;2.2i/runs/DP0.2/v23_0_0_rc5/PREOPS-905/20220101T014359Z&#x27;.</pre>"
      ],
      "text/plain": [
       "<IPython.core.display.HTML object>"
      ]
     },
     "metadata": {},
     "output_type": "display_data"
    },
    {
     "data": {
      "text/html": [
       "<pre style=\"margin: 0.1em;\n",
       "padding-left: 0.25em;\n",
       "border-left-style: solid;\n",
       "font-family: var(--jp-code-font-family);\n",
       "font-size: var(--jp-code-font-size);\n",
       "line-height: var(--jp-code-line-height);\n",
       "\"><span style=\"color: var(--jp-warn-color2)\">lsst.pipe.base.graphBuilder</span> <span style=\"color: var(--jp-warn-color0)\">WARNING</span>: No datasets of type finalized_psf_ap_corr_catalog in collection &#x27;2.2i/runs/DP0.2/v23_0_0_rc5/PREOPS-905/20211231T121620Z&#x27;.</pre>"
      ],
      "text/plain": [
       "<IPython.core.display.HTML object>"
      ]
     },
     "metadata": {},
     "output_type": "display_data"
    },
    {
     "data": {
      "text/html": [
       "<pre style=\"margin: 0.1em;\n",
       "padding-left: 0.25em;\n",
       "border-left-style: solid;\n",
       "font-family: var(--jp-code-font-family);\n",
       "font-size: var(--jp-code-font-size);\n",
       "line-height: var(--jp-code-line-height);\n",
       "\"><span style=\"color: var(--jp-warn-color2)\">lsst.pipe.base.graphBuilder</span> <span style=\"color: var(--jp-warn-color0)\">WARNING</span>: No datasets of type finalized_psf_ap_corr_catalog in collection &#x27;2.2i/runs/DP0.2/v23_0_0_rc5/PREOPS-905/20211231T053432Z&#x27;.</pre>"
      ],
      "text/plain": [
       "<IPython.core.display.HTML object>"
      ]
     },
     "metadata": {},
     "output_type": "display_data"
    },
    {
     "data": {
      "text/html": [
       "<pre style=\"margin: 0.1em;\n",
       "padding-left: 0.25em;\n",
       "border-left-style: solid;\n",
       "font-family: var(--jp-code-font-family);\n",
       "font-size: var(--jp-code-font-size);\n",
       "line-height: var(--jp-code-line-height);\n",
       "\"><span style=\"color: var(--jp-warn-color2)\">lsst.pipe.base.graphBuilder</span> <span style=\"color: var(--jp-warn-color0)\">WARNING</span>: No datasets of type finalized_psf_ap_corr_catalog in collection &#x27;2.2i/runs/DP0.2/v23_0_0_rc5/PREOPS-905/20211230T230823Z&#x27;.</pre>"
      ],
      "text/plain": [
       "<IPython.core.display.HTML object>"
      ]
     },
     "metadata": {},
     "output_type": "display_data"
    },
    {
     "data": {
      "text/html": [
       "<pre style=\"margin: 0.1em;\n",
       "padding-left: 0.25em;\n",
       "border-left-style: solid;\n",
       "font-family: var(--jp-code-font-family);\n",
       "font-size: var(--jp-code-font-size);\n",
       "line-height: var(--jp-code-line-height);\n",
       "\"><span style=\"color: var(--jp-warn-color2)\">lsst.pipe.base.graphBuilder</span> <span style=\"color: var(--jp-warn-color0)\">WARNING</span>: No datasets of type finalized_psf_ap_corr_catalog in collection &#x27;2.2i/runs/DP0.2/v23_0_0_rc5/PREOPS-905/20211230T164503Z&#x27;.</pre>"
      ],
      "text/plain": [
       "<IPython.core.display.HTML object>"
      ]
     },
     "metadata": {},
     "output_type": "display_data"
    },
    {
     "data": {
      "text/html": [
       "<pre style=\"margin: 0.1em;\n",
       "padding-left: 0.25em;\n",
       "border-left-style: solid;\n",
       "font-family: var(--jp-code-font-family);\n",
       "font-size: var(--jp-code-font-size);\n",
       "line-height: var(--jp-code-line-height);\n",
       "\"><span style=\"color: var(--jp-warn-color2)\">lsst.pipe.base.graphBuilder</span> <span style=\"color: var(--jp-warn-color0)\">WARNING</span>: No datasets of type finalized_psf_ap_corr_catalog in collection &#x27;2.2i/runs/DP0.2/v23_0_0_rc5/PREOPS-905/20211230T102720Z&#x27;.</pre>"
      ],
      "text/plain": [
       "<IPython.core.display.HTML object>"
      ]
     },
     "metadata": {},
     "output_type": "display_data"
    },
    {
     "data": {
      "text/html": [
       "<pre style=\"margin: 0.1em;\n",
       "padding-left: 0.25em;\n",
       "border-left-style: solid;\n",
       "font-family: var(--jp-code-font-family);\n",
       "font-size: var(--jp-code-font-size);\n",
       "line-height: var(--jp-code-line-height);\n",
       "\"><span style=\"color: var(--jp-warn-color2)\">lsst.pipe.base.graphBuilder</span> <span style=\"color: var(--jp-warn-color0)\">WARNING</span>: No datasets of type finalized_psf_ap_corr_catalog in collection &#x27;2.2i/runs/DP0.2/v23_0_0_rc5/PREOPS-905/20211230T042014Z&#x27;.</pre>"
      ],
      "text/plain": [
       "<IPython.core.display.HTML object>"
      ]
     },
     "metadata": {},
     "output_type": "display_data"
    },
    {
     "data": {
      "text/html": [
       "<pre style=\"margin: 0.1em;\n",
       "padding-left: 0.25em;\n",
       "border-left-style: solid;\n",
       "font-family: var(--jp-code-font-family);\n",
       "font-size: var(--jp-code-font-size);\n",
       "line-height: var(--jp-code-line-height);\n",
       "\"><span style=\"color: var(--jp-warn-color2)\">lsst.pipe.base.graphBuilder</span> <span style=\"color: var(--jp-warn-color0)\">WARNING</span>: No datasets of type finalized_psf_ap_corr_catalog in collection &#x27;2.2i/runs/DP0.2/v23_0_0_rc5/PREOPS-905/20211224T153913Z&#x27;.</pre>"
      ],
      "text/plain": [
       "<IPython.core.display.HTML object>"
      ]
     },
     "metadata": {},
     "output_type": "display_data"
    },
    {
     "data": {
      "text/html": [
       "<pre style=\"margin: 0.1em;\n",
       "padding-left: 0.25em;\n",
       "border-left-style: solid;\n",
       "font-family: var(--jp-code-font-family);\n",
       "font-size: var(--jp-code-font-size);\n",
       "line-height: var(--jp-code-line-height);\n",
       "\"><span style=\"color: var(--jp-warn-color2)\">lsst.pipe.base.graphBuilder</span> <span style=\"color: var(--jp-warn-color0)\">WARNING</span>: No datasets of type finalized_psf_ap_corr_catalog in collection &#x27;2.2i/runs/DP0.2/v23_0_0_rc5/PREOPS-905/20211224T102944Z&#x27;.</pre>"
      ],
      "text/plain": [
       "<IPython.core.display.HTML object>"
      ]
     },
     "metadata": {},
     "output_type": "display_data"
    },
    {
     "data": {
      "text/html": [
       "<pre style=\"margin: 0.1em;\n",
       "padding-left: 0.25em;\n",
       "border-left-style: solid;\n",
       "font-family: var(--jp-code-font-family);\n",
       "font-size: var(--jp-code-font-size);\n",
       "line-height: var(--jp-code-line-height);\n",
       "\"><span style=\"color: var(--jp-warn-color2)\">lsst.pipe.base.graphBuilder</span> <span style=\"color: var(--jp-warn-color0)\">WARNING</span>: No datasets of type finalized_psf_ap_corr_catalog in collection &#x27;2.2i/runs/DP0.2/v23_0_0_rc5/PREOPS-905/20211224T053402Z&#x27;.</pre>"
      ],
      "text/plain": [
       "<IPython.core.display.HTML object>"
      ]
     },
     "metadata": {},
     "output_type": "display_data"
    },
    {
     "data": {
      "text/html": [
       "<pre style=\"margin: 0.1em;\n",
       "padding-left: 0.25em;\n",
       "border-left-style: solid;\n",
       "font-family: var(--jp-code-font-family);\n",
       "font-size: var(--jp-code-font-size);\n",
       "line-height: var(--jp-code-line-height);\n",
       "\"><span style=\"color: var(--jp-warn-color2)\">lsst.pipe.base.graphBuilder</span> <span style=\"color: var(--jp-warn-color0)\">WARNING</span>: No datasets of type finalized_psf_ap_corr_catalog in collection &#x27;2.2i/runs/DP0.2/v23_0_0_rc5/PREOPS-905/20211223T204234Z&#x27;.</pre>"
      ],
      "text/plain": [
       "<IPython.core.display.HTML object>"
      ]
     },
     "metadata": {},
     "output_type": "display_data"
    },
    {
     "data": {
      "text/html": [
       "<pre style=\"margin: 0.1em;\n",
       "padding-left: 0.25em;\n",
       "border-left-style: solid;\n",
       "font-family: var(--jp-code-font-family);\n",
       "font-size: var(--jp-code-font-size);\n",
       "line-height: var(--jp-code-line-height);\n",
       "\"><span style=\"color: var(--jp-warn-color2)\">lsst.pipe.base.graphBuilder</span> <span style=\"color: var(--jp-warn-color0)\">WARNING</span>: No datasets of type finalized_psf_ap_corr_catalog in collection &#x27;2.2i/runs/DP0.2/v23_0_0_rc5/PREOPS-905/20211223T030157Z&#x27;.</pre>"
      ],
      "text/plain": [
       "<IPython.core.display.HTML object>"
      ]
     },
     "metadata": {},
     "output_type": "display_data"
    },
    {
     "data": {
      "text/html": [
       "<pre style=\"margin: 0.1em;\n",
       "padding-left: 0.25em;\n",
       "border-left-style: solid;\n",
       "font-family: var(--jp-code-font-family);\n",
       "font-size: var(--jp-code-font-size);\n",
       "line-height: var(--jp-code-line-height);\n",
       "\"><span style=\"color: var(--jp-warn-color2)\">lsst.pipe.base.graphBuilder</span> <span style=\"color: var(--jp-warn-color0)\">WARNING</span>: No datasets of type finalized_psf_ap_corr_catalog in collection &#x27;2.2i/runs/DP0.2/v23_0_0_rc5/PREOPS-905/20211222T182615Z&#x27;.</pre>"
      ],
      "text/plain": [
       "<IPython.core.display.HTML object>"
      ]
     },
     "metadata": {},
     "output_type": "display_data"
    },
    {
     "data": {
      "text/html": [
       "<pre style=\"margin: 0.1em;\n",
       "padding-left: 0.25em;\n",
       "border-left-style: solid;\n",
       "font-family: var(--jp-code-font-family);\n",
       "font-size: var(--jp-code-font-size);\n",
       "line-height: var(--jp-code-line-height);\n",
       "\"><span style=\"color: var(--jp-warn-color2)\">lsst.pipe.base.graphBuilder</span> <span style=\"color: var(--jp-warn-color0)\">WARNING</span>: No datasets of type finalized_psf_ap_corr_catalog in collection &#x27;2.2i/runs/DP0.2/v23_0_0_rc5/PREOPS-905/20211222T122903Z&#x27;.</pre>"
      ],
      "text/plain": [
       "<IPython.core.display.HTML object>"
      ]
     },
     "metadata": {},
     "output_type": "display_data"
    },
    {
     "data": {
      "text/html": [
       "<pre style=\"margin: 0.1em;\n",
       "padding-left: 0.25em;\n",
       "border-left-style: solid;\n",
       "font-family: var(--jp-code-font-family);\n",
       "font-size: var(--jp-code-font-size);\n",
       "line-height: var(--jp-code-line-height);\n",
       "\"><span style=\"color: var(--jp-warn-color2)\">lsst.pipe.base.graphBuilder</span> <span style=\"color: var(--jp-warn-color0)\">WARNING</span>: No datasets of type finalized_psf_ap_corr_catalog in collection &#x27;2.2i/runs/DP0.2/v23_0_0_rc5/PREOPS-905/20211222T050757Z&#x27;.</pre>"
      ],
      "text/plain": [
       "<IPython.core.display.HTML object>"
      ]
     },
     "metadata": {},
     "output_type": "display_data"
    },
    {
     "data": {
      "text/html": [
       "<pre style=\"margin: 0.1em;\n",
       "padding-left: 0.25em;\n",
       "border-left-style: solid;\n",
       "font-family: var(--jp-code-font-family);\n",
       "font-size: var(--jp-code-font-size);\n",
       "line-height: var(--jp-code-line-height);\n",
       "\"><span style=\"color: var(--jp-warn-color2)\">lsst.pipe.base.graphBuilder</span> <span style=\"color: var(--jp-warn-color0)\">WARNING</span>: No datasets of type finalized_psf_ap_corr_catalog in collection &#x27;2.2i/runs/DP0.2/v23_0_0_rc5/PREOPS-905/20211222T004329Z&#x27;.</pre>"
      ],
      "text/plain": [
       "<IPython.core.display.HTML object>"
      ]
     },
     "metadata": {},
     "output_type": "display_data"
    },
    {
     "data": {
      "text/html": [
       "<pre style=\"margin: 0.1em;\n",
       "padding-left: 0.25em;\n",
       "border-left-style: solid;\n",
       "font-family: var(--jp-code-font-family);\n",
       "font-size: var(--jp-code-font-size);\n",
       "line-height: var(--jp-code-line-height);\n",
       "\"><span style=\"color: var(--jp-warn-color2)\">lsst.pipe.base.graphBuilder</span> <span style=\"color: var(--jp-warn-color0)\">WARNING</span>: No datasets of type finalized_psf_ap_corr_catalog in collection &#x27;2.2i/runs/DP0.2/v23_0_0_rc5/PREOPS-905/20211221T170207Z&#x27;.</pre>"
      ],
      "text/plain": [
       "<IPython.core.display.HTML object>"
      ]
     },
     "metadata": {},
     "output_type": "display_data"
    },
    {
     "data": {
      "text/html": [
       "<pre style=\"margin: 0.1em;\n",
       "padding-left: 0.25em;\n",
       "border-left-style: solid;\n",
       "font-family: var(--jp-code-font-family);\n",
       "font-size: var(--jp-code-font-size);\n",
       "line-height: var(--jp-code-line-height);\n",
       "\"><span style=\"color: var(--jp-warn-color2)\">lsst.pipe.base.graphBuilder</span> <span style=\"color: var(--jp-warn-color0)\">WARNING</span>: No datasets of type finalized_psf_ap_corr_catalog in collection &#x27;2.2i/runs/DP0.2/v23_0_0_rc5/PREOPS-905/20211221T162728Z&#x27;.</pre>"
      ],
      "text/plain": [
       "<IPython.core.display.HTML object>"
      ]
     },
     "metadata": {},
     "output_type": "display_data"
    },
    {
     "data": {
      "text/html": [
       "<pre style=\"margin: 0.1em;\n",
       "padding-left: 0.25em;\n",
       "border-left-style: solid;\n",
       "font-family: var(--jp-code-font-family);\n",
       "font-size: var(--jp-code-font-size);\n",
       "line-height: var(--jp-code-line-height);\n",
       "\"><span style=\"color: var(--jp-warn-color2)\">lsst.pipe.base.graphBuilder</span> <span style=\"color: var(--jp-warn-color0)\">WARNING</span>: No datasets of type finalized_psf_ap_corr_catalog in collection &#x27;2.2i/runs/DP0.2/v23_0_0_rc5/PREOPS-905/20211221T021010Z&#x27;.</pre>"
      ],
      "text/plain": [
       "<IPython.core.display.HTML object>"
      ]
     },
     "metadata": {},
     "output_type": "display_data"
    },
    {
     "data": {
      "text/html": [
       "<pre style=\"margin: 0.1em;\n",
       "padding-left: 0.25em;\n",
       "border-left-style: solid;\n",
       "font-family: var(--jp-code-font-family);\n",
       "font-size: var(--jp-code-font-size);\n",
       "line-height: var(--jp-code-line-height);\n",
       "\"><span style=\"color: var(--jp-warn-color2)\">lsst.pipe.base.graphBuilder</span> <span style=\"color: var(--jp-warn-color0)\">WARNING</span>: No datasets of type finalized_psf_ap_corr_catalog in collection &#x27;2.2i/runs/DP0.2/v23_0_0_rc5/PREOPS-905/20211220T214212Z&#x27;.</pre>"
      ],
      "text/plain": [
       "<IPython.core.display.HTML object>"
      ]
     },
     "metadata": {},
     "output_type": "display_data"
    },
    {
     "data": {
      "text/html": [
       "<pre style=\"margin: 0.1em;\n",
       "padding-left: 0.25em;\n",
       "border-left-style: solid;\n",
       "font-family: var(--jp-code-font-family);\n",
       "font-size: var(--jp-code-font-size);\n",
       "line-height: var(--jp-code-line-height);\n",
       "\"><span style=\"color: var(--jp-warn-color2)\">lsst.pipe.base.graphBuilder</span> <span style=\"color: var(--jp-warn-color0)\">WARNING</span>: No datasets of type finalized_psf_ap_corr_catalog in collection &#x27;2.2i/runs/DP0.2/v23_0_0_rc5/PREOPS-905/20211220T180923Z&#x27;.</pre>"
      ],
      "text/plain": [
       "<IPython.core.display.HTML object>"
      ]
     },
     "metadata": {},
     "output_type": "display_data"
    },
    {
     "data": {
      "text/html": [
       "<pre style=\"margin: 0.1em;\n",
       "padding-left: 0.25em;\n",
       "border-left-style: solid;\n",
       "font-family: var(--jp-code-font-family);\n",
       "font-size: var(--jp-code-font-size);\n",
       "line-height: var(--jp-code-line-height);\n",
       "\"><span style=\"color: var(--jp-warn-color2)\">lsst.pipe.base.graphBuilder</span> <span style=\"color: var(--jp-warn-color0)\">WARNING</span>: No datasets of type finalized_psf_ap_corr_catalog in collection &#x27;2.2i/runs/DP0.2/v23_0_0_rc5/PREOPS-905/20211220T040027Z&#x27;.</pre>"
      ],
      "text/plain": [
       "<IPython.core.display.HTML object>"
      ]
     },
     "metadata": {},
     "output_type": "display_data"
    },
    {
     "data": {
      "text/html": [
       "<pre style=\"margin: 0.1em;\n",
       "padding-left: 0.25em;\n",
       "border-left-style: solid;\n",
       "font-family: var(--jp-code-font-family);\n",
       "font-size: var(--jp-code-font-size);\n",
       "line-height: var(--jp-code-line-height);\n",
       "\"><span style=\"color: var(--jp-warn-color2)\">lsst.pipe.base.graphBuilder</span> <span style=\"color: var(--jp-warn-color0)\">WARNING</span>: No datasets of type finalized_psf_ap_corr_catalog in collection &#x27;2.2i/runs/DP0.2/v23_0_0_rc5/PREOPS-905/20211220T000005Z&#x27;.</pre>"
      ],
      "text/plain": [
       "<IPython.core.display.HTML object>"
      ]
     },
     "metadata": {},
     "output_type": "display_data"
    },
    {
     "data": {
      "text/html": [
       "<pre style=\"margin: 0.1em;\n",
       "padding-left: 0.25em;\n",
       "border-left-style: solid;\n",
       "font-family: var(--jp-code-font-family);\n",
       "font-size: var(--jp-code-font-size);\n",
       "line-height: var(--jp-code-line-height);\n",
       "\"><span style=\"color: var(--jp-warn-color2)\">lsst.pipe.base.graphBuilder</span> <span style=\"color: var(--jp-warn-color0)\">WARNING</span>: No datasets of type finalized_psf_ap_corr_catalog in collection &#x27;2.2i/runs/DP0.2/v23_0_0_rc5/PREOPS-905/20211219T205411Z&#x27;.</pre>"
      ],
      "text/plain": [
       "<IPython.core.display.HTML object>"
      ]
     },
     "metadata": {},
     "output_type": "display_data"
    },
    {
     "data": {
      "text/html": [
       "<pre style=\"margin: 0.1em;\n",
       "padding-left: 0.25em;\n",
       "border-left-style: solid;\n",
       "font-family: var(--jp-code-font-family);\n",
       "font-size: var(--jp-code-font-size);\n",
       "line-height: var(--jp-code-line-height);\n",
       "\"><span style=\"color: var(--jp-warn-color2)\">lsst.pipe.base.graphBuilder</span> <span style=\"color: var(--jp-warn-color0)\">WARNING</span>: No datasets of type finalized_psf_ap_corr_catalog in collection &#x27;2.2i/runs/DP0.2/v23_0_0_rc5/PREOPS-905/20211219T150249Z&#x27;.</pre>"
      ],
      "text/plain": [
       "<IPython.core.display.HTML object>"
      ]
     },
     "metadata": {},
     "output_type": "display_data"
    },
    {
     "data": {
      "text/html": [
       "<pre style=\"margin: 0.1em;\n",
       "padding-left: 0.25em;\n",
       "border-left-style: solid;\n",
       "font-family: var(--jp-code-font-family);\n",
       "font-size: var(--jp-code-font-size);\n",
       "line-height: var(--jp-code-line-height);\n",
       "\"><span style=\"color: var(--jp-warn-color2)\">lsst.pipe.base.graphBuilder</span> <span style=\"color: var(--jp-warn-color0)\">WARNING</span>: No datasets of type finalized_psf_ap_corr_catalog in collection &#x27;2.2i/runs/DP0.2/v23_0_0_rc5/PREOPS-905/20211219T033213Z&#x27;.</pre>"
      ],
      "text/plain": [
       "<IPython.core.display.HTML object>"
      ]
     },
     "metadata": {},
     "output_type": "display_data"
    },
    {
     "data": {
      "text/html": [
       "<pre style=\"margin: 0.1em;\n",
       "padding-left: 0.25em;\n",
       "border-left-style: solid;\n",
       "font-family: var(--jp-code-font-family);\n",
       "font-size: var(--jp-code-font-size);\n",
       "line-height: var(--jp-code-line-height);\n",
       "\"><span style=\"color: var(--jp-warn-color2)\">lsst.pipe.base.graphBuilder</span> <span style=\"color: var(--jp-warn-color0)\">WARNING</span>: No datasets of type finalized_psf_ap_corr_catalog in collection &#x27;2.2i/runs/DP0.2/v23_0_0_rc5/PREOPS-905/20211218T214417Z&#x27;.</pre>"
      ],
      "text/plain": [
       "<IPython.core.display.HTML object>"
      ]
     },
     "metadata": {},
     "output_type": "display_data"
    },
    {
     "data": {
      "text/html": [
       "<pre style=\"margin: 0.1em;\n",
       "padding-left: 0.25em;\n",
       "border-left-style: solid;\n",
       "font-family: var(--jp-code-font-family);\n",
       "font-size: var(--jp-code-font-size);\n",
       "line-height: var(--jp-code-line-height);\n",
       "\"><span style=\"color: var(--jp-warn-color2)\">lsst.pipe.base.graphBuilder</span> <span style=\"color: var(--jp-warn-color0)\">WARNING</span>: No datasets of type finalized_psf_ap_corr_catalog in collection &#x27;2.2i/runs/DP0.2/v23_0_0_rc5/PREOPS-905/20211218T144437Z&#x27;.</pre>"
      ],
      "text/plain": [
       "<IPython.core.display.HTML object>"
      ]
     },
     "metadata": {},
     "output_type": "display_data"
    },
    {
     "data": {
      "text/html": [
       "<pre style=\"margin: 0.1em;\n",
       "padding-left: 0.25em;\n",
       "border-left-style: solid;\n",
       "font-family: var(--jp-code-font-family);\n",
       "font-size: var(--jp-code-font-size);\n",
       "line-height: var(--jp-code-line-height);\n",
       "\"><span style=\"color: var(--jp-warn-color2)\">lsst.pipe.base.graphBuilder</span> <span style=\"color: var(--jp-warn-color0)\">WARNING</span>: No datasets of type finalized_psf_ap_corr_catalog in collection &#x27;2.2i/runs/DP0.2/v23_0_0_rc5/PREOPS-905/20211218T041605Z&#x27;.</pre>"
      ],
      "text/plain": [
       "<IPython.core.display.HTML object>"
      ]
     },
     "metadata": {},
     "output_type": "display_data"
    },
    {
     "data": {
      "text/html": [
       "<pre style=\"margin: 0.1em;\n",
       "padding-left: 0.25em;\n",
       "border-left-style: solid;\n",
       "font-family: var(--jp-code-font-family);\n",
       "font-size: var(--jp-code-font-size);\n",
       "line-height: var(--jp-code-line-height);\n",
       "\"><span style=\"color: var(--jp-warn-color2)\">lsst.pipe.base.graphBuilder</span> <span style=\"color: var(--jp-warn-color0)\">WARNING</span>: No datasets of type finalized_psf_ap_corr_catalog in collection &#x27;2.2i/runs/DP0.2/v23_0_0_rc5/PREOPS-905/20211218T002844Z&#x27;.</pre>"
      ],
      "text/plain": [
       "<IPython.core.display.HTML object>"
      ]
     },
     "metadata": {},
     "output_type": "display_data"
    },
    {
     "data": {
      "text/html": [
       "<pre style=\"margin: 0.1em;\n",
       "padding-left: 0.25em;\n",
       "border-left-style: solid;\n",
       "font-family: var(--jp-code-font-family);\n",
       "font-size: var(--jp-code-font-size);\n",
       "line-height: var(--jp-code-line-height);\n",
       "\"><span style=\"color: var(--jp-warn-color2)\">lsst.pipe.base.graphBuilder</span> <span style=\"color: var(--jp-warn-color0)\">WARNING</span>: No datasets of type finalized_psf_ap_corr_catalog in collection &#x27;2.2i/raw/DR6/WFD&#x27;.</pre>"
      ],
      "text/plain": [
       "<IPython.core.display.HTML object>"
      ]
     },
     "metadata": {},
     "output_type": "display_data"
    },
    {
     "data": {
      "text/html": [
       "<pre style=\"margin: 0.1em;\n",
       "padding-left: 0.25em;\n",
       "border-left-style: solid;\n",
       "font-family: var(--jp-code-font-family);\n",
       "font-size: var(--jp-code-font-size);\n",
       "line-height: var(--jp-code-line-height);\n",
       "\"><span style=\"color: var(--jp-warn-color2)\">lsst.pipe.base.graphBuilder</span> <span style=\"color: var(--jp-warn-color0)\">WARNING</span>: No datasets of type finalized_psf_ap_corr_catalog in collection &#x27;2.2i/calib/DM-30694&#x27;.</pre>"
      ],
      "text/plain": [
       "<IPython.core.display.HTML object>"
      ]
     },
     "metadata": {},
     "output_type": "display_data"
    },
    {
     "data": {
      "text/html": [
       "<pre style=\"margin: 0.1em;\n",
       "padding-left: 0.25em;\n",
       "border-left-style: solid;\n",
       "font-family: var(--jp-code-font-family);\n",
       "font-size: var(--jp-code-font-size);\n",
       "line-height: var(--jp-code-line-height);\n",
       "\"><span style=\"color: var(--jp-warn-color2)\">lsst.pipe.base.graphBuilder</span> <span style=\"color: var(--jp-warn-color0)\">WARNING</span>: No datasets of type finalized_psf_ap_corr_catalog in collection &#x27;2.2i/calib/gen2&#x27;.</pre>"
      ],
      "text/plain": [
       "<IPython.core.display.HTML object>"
      ]
     },
     "metadata": {},
     "output_type": "display_data"
    },
    {
     "data": {
      "text/html": [
       "<pre style=\"margin: 0.1em;\n",
       "padding-left: 0.25em;\n",
       "border-left-style: solid;\n",
       "font-family: var(--jp-code-font-family);\n",
       "font-size: var(--jp-code-font-size);\n",
       "line-height: var(--jp-code-line-height);\n",
       "\"><span style=\"color: var(--jp-warn-color2)\">lsst.pipe.base.graphBuilder</span> <span style=\"color: var(--jp-warn-color0)\">WARNING</span>: No datasets of type finalized_psf_ap_corr_catalog in collection &#x27;2.2i/calib/DM-30694/unbounded&#x27;.</pre>"
      ],
      "text/plain": [
       "<IPython.core.display.HTML object>"
      ]
     },
     "metadata": {},
     "output_type": "display_data"
    },
    {
     "data": {
      "text/html": [
       "<pre style=\"margin: 0.1em;\n",
       "padding-left: 0.25em;\n",
       "border-left-style: solid;\n",
       "font-family: var(--jp-code-font-family);\n",
       "font-size: var(--jp-code-font-size);\n",
       "line-height: var(--jp-code-line-height);\n",
       "\"><span style=\"color: var(--jp-warn-color2)\">lsst.pipe.base.graphBuilder</span> <span style=\"color: var(--jp-warn-color0)\">WARNING</span>: No datasets of type finalized_psf_ap_corr_catalog in collection &#x27;skymaps&#x27;.</pre>"
      ],
      "text/plain": [
       "<IPython.core.display.HTML object>"
      ]
     },
     "metadata": {},
     "output_type": "display_data"
    },
    {
     "data": {
      "text/html": [
       "<pre style=\"margin: 0.1em;\n",
       "padding-left: 0.25em;\n",
       "border-left-style: solid;\n",
       "font-family: var(--jp-code-font-family);\n",
       "font-size: var(--jp-code-font-size);\n",
       "line-height: var(--jp-code-line-height);\n",
       "\"><span style=\"color: var(--jp-warn-color2)\">lsst.pipe.base.graphBuilder</span> <span style=\"color: var(--jp-warn-color0)\">WARNING</span>: No datasets of type finalized_psf_ap_corr_catalog in collection &#x27;refcats/PREOPS-301&#x27;.</pre>"
      ],
      "text/plain": [
       "<IPython.core.display.HTML object>"
      ]
     },
     "metadata": {},
     "output_type": "display_data"
    },
    {
     "data": {
      "text/html": [
       "<pre style=\"margin: 0.1em;\n",
       "padding-left: 0.25em;\n",
       "border-left-style: solid;\n",
       "font-family: var(--jp-code-font-family);\n",
       "font-size: var(--jp-code-font-size);\n",
       "line-height: var(--jp-code-line-height);\n",
       "\"><span style=\"color: var(--jp-warn-color2)\">lsst.pipe.base.graphBuilder</span> <span style=\"color: var(--jp-warn-color0)\">WARNING</span>: No datasets of type finalized_psf_ap_corr_catalog in collection &#x27;2.2i/truth_summary&#x27;.</pre>"
      ],
      "text/plain": [
       "<IPython.core.display.HTML object>"
      ]
     },
     "metadata": {},
     "output_type": "display_data"
    }
   ],
   "source": [
    "spe = SimplePipelineExecutor.from_pipeline(assembleCoaddPipeline, where=queryString, butler=simpleButler)"
   ]
  },
  {
   "cell_type": "code",
   "execution_count": null,
   "id": "023a25b8-b986-4f8f-a225-c7367d52bf42",
   "metadata": {},
   "outputs": [],
   "source": [
    "list(simpleButler.registry.queryDataIds(dimensions=['band', 'instrument', 'skymap', 'physical_filter',\n",
    "                                                    'tract', 'visit_system', 'patch', 'visit'],\n",
    "                                        dataId={},\n",
    "                                        where=\"patch = 17 AND \"\n",
    "                                        \"visit in (919515,924057,924085,924086,929477,930353) AND \"\n",
    "                                        \"skymap = 'DC2'\",\n",
    "                                        datasets=['deepCoadd_psfMatchedWarp', 'deepCoadd_directWarp', 'skyMap'],\n",
    "                                        collections=['u/melissagraham/coadd_recreation_nb']))"
   ]
  },
  {
   "cell_type": "code",
   "execution_count": null,
   "id": "1b383eeb-4ff2-4058-bc64-0cdd78314003",
   "metadata": {},
   "outputs": [],
   "source": [
    "print(set(list(simpleButler.registry.queryDatasets('deepCoadd_directWarp', where=queryString))))\n",
    "print(set(list(simpleButler.registry.queryDatasets('skyMap', where=queryString))))"
   ]
  },
  {
   "cell_type": "markdown",
   "id": "7fba6582-9f37-46e6-bca0-e4fe673a3fdd",
   "metadata": {},
   "source": [
    "Run the pipeline. This takes about XX minutes for 6 visits."
   ]
  },
  {
   "cell_type": "code",
   "execution_count": null,
   "id": "ebe78d52-d186-4220-b58a-1dafd518ca0f",
   "metadata": {},
   "outputs": [],
   "source": [
    "%%time\n",
    "quanta = spe.run()"
   ]
  },
  {
   "cell_type": "code",
   "execution_count": null,
   "id": "858202af-fe39-4cda-9d8f-aafad52d2280",
   "metadata": {},
   "outputs": [],
   "source": [
    "quanta"
   ]
  },
  {
   "cell_type": "code",
   "execution_count": null,
   "id": "f27a9f02-ad51-45d5-b004-6951b7f45ad7",
   "metadata": {},
   "outputs": [],
   "source": [
    "quanta[0].outputs"
   ]
  },
  {
   "cell_type": "code",
   "execution_count": null,
   "id": "90eca277-9fb0-4f7f-b7d6-48edc7f43780",
   "metadata": {},
   "outputs": [],
   "source": []
  },
  {
   "cell_type": "code",
   "execution_count": null,
   "id": "ae62452f-870a-45af-add1-cd64f66ebd74",
   "metadata": {},
   "outputs": [],
   "source": []
  },
  {
   "cell_type": "code",
   "execution_count": null,
   "id": "241ea02f-98f6-40dc-8aea-d918c69d5aaf",
   "metadata": {},
   "outputs": [],
   "source": []
  },
  {
   "cell_type": "markdown",
   "id": "4b078c36-0380-41ff-b24b-f4860a13d364",
   "metadata": {},
   "source": [
    "Try the other method. Still will not run."
   ]
  },
  {
   "cell_type": "code",
   "execution_count": null,
   "id": "7340eee3-07fe-4436-86e6-f64c633b49bd",
   "metadata": {},
   "outputs": [],
   "source": [
    "# from lsst.pipe.tasks import assembleCoadd"
   ]
  },
  {
   "cell_type": "code",
   "execution_count": null,
   "id": "f9f4f936-a7ee-45d8-ac6c-8499bb8d0c0c",
   "metadata": {},
   "outputs": [],
   "source": [
    "# config = assembleCoadd.CompareWarpAssembleCoaddTask.ConfigClass()\n",
    "# #config.connections.coaddExposure = \"myCoadd2\"\n",
    "# tasks = [TaskDef(label=\"assembleCoadd\", taskClass=assembleCoadd.CompareWarpAssembleCoaddTask, config=config)]"
   ]
  },
  {
   "cell_type": "code",
   "execution_count": null,
   "id": "3a01c6a7-cc2d-4573-aa86-fb02166afc59",
   "metadata": {},
   "outputs": [],
   "source": [
    "# queryString = f\"patch = {my_patch} AND visit in {my_visits_tupleString} AND skymap = 'DC2'\" "
   ]
  },
  {
   "cell_type": "code",
   "execution_count": null,
   "id": "d0a5a5a7-c29a-4fa3-8c5b-a7f7d34d777f",
   "metadata": {},
   "outputs": [],
   "source": [
    "# spe2 = SimplePipelineExecutor.from_pipeline(tasks, where=queryString, butler=simpleButler)"
   ]
  },
  {
   "cell_type": "code",
   "execution_count": null,
   "id": "e7048806-eab5-464c-ba86-3b45ce9c9b58",
   "metadata": {},
   "outputs": [],
   "source": [
    "# %%time\n",
    "# quanta2 = spe2.run()"
   ]
  },
  {
   "cell_type": "code",
   "execution_count": null,
   "id": "74e56269-f945-4a69-9931-4b0b63cda199",
   "metadata": {},
   "outputs": [],
   "source": []
  },
  {
   "cell_type": "code",
   "execution_count": null,
   "id": "3e9ee053-4fc7-4680-bd04-299ab8b8a7e4",
   "metadata": {},
   "outputs": [],
   "source": []
  },
  {
   "cell_type": "markdown",
   "id": "e00e18d6-8b03-4d54-a8c8-11ef1152d5cc",
   "metadata": {},
   "source": [
    "To be added: show new coadded image, show inputs of new coadded image are only what we specified, then run source detection on new coadded image, and compare with the original deepCoadd."
   ]
  },
  {
   "cell_type": "code",
   "execution_count": null,
   "id": "d5de43e7-1724-427a-a828-289047828882",
   "metadata": {},
   "outputs": [],
   "source": []
  },
  {
   "cell_type": "markdown",
   "id": "3990fb27-a4a1-4ada-94db-b265a2b87417",
   "metadata": {},
   "source": [
    "### X.X. Exercise for the learner\n",
    "\n",
    "Use airmass constraints instead of MJD to identify the subset of visits to coadd.\n",
    "\n",
    "> Hint: start with \n",
    "> `my_coadd_visits_airmass = visitTable.loc[my_coadd_inputs.visits['id']]['airmass']`"
   ]
  },
  {
   "cell_type": "code",
   "execution_count": null,
   "id": "105079de-084d-495c-9ebc-362e0bdfaedf",
   "metadata": {},
   "outputs": [],
   "source": []
  },
  {
   "cell_type": "code",
   "execution_count": null,
   "id": "aa227f57-335e-4735-a916-1ed7c83c7d09",
   "metadata": {},
   "outputs": [],
   "source": []
  },
  {
   "cell_type": "markdown",
   "id": "7b4395c6-f17d-4d5e-9af7-0ebf22c40d34",
   "metadata": {},
   "source": [
    "<br>\n",
    "<br>\n",
    "<br>\n",
    "<br>\n",
    "<br>\n",
    "<br>\n",
    "\n",
    "\n",
    "# Earlier attempts are below. "
   ]
  },
  {
   "cell_type": "markdown",
   "id": "13a6e54d-9dbe-42b7-8fe5-3b382a73e892",
   "metadata": {},
   "source": [
    "<br>\n",
    "<br>\n",
    "\n",
    "### 3.1. Try using the pipe task assembleCoadd\n",
    "\n",
    "https://pipelines.lsst.io/modules/lsst.pipe.tasks/index.html#lsst-pipe-tasks\n",
    "\n",
    "https://pipelines.lsst.io/modules/lsst.pipe.tasks/tasks/lsst.pipe.tasks.assembleCoadd.AssembleCoaddTask.html\n",
    "\n",
    "In tutorial-notebooks/05_Intro_to_Source_Detection.ipynb, pipe tasks are used, follow that example.\n",
    "\n",
    "Similar to NB 05, Jeff managed to use a couple of pipe.tasks for image differencing in https://github.com/rubin-dp0/delegate-contributions-dp01/blob/u/jcarlin/diff_im/diff_im/diff_im_test.ipynb\n",
    "\n",
    "Yusra shows use of tasks and configs in https://github.com/LSSTScienceCollaborations/StackClubCourse/blob/master/Session02/IntroToDataProductsAndTasks.ipynb\n",
    "\n",
    "From Yusra's NB, I'm trying to follow \"Background Subtraction and Task Configuration\" section in use of pipe task.\n",
    "\n",
    "<br>"
   ]
  },
  {
   "cell_type": "code",
   "execution_count": null,
   "id": "7702d0a3-2fc4-4413-a207-77fd2fe42f9e",
   "metadata": {},
   "outputs": [],
   "source": [
    "from lsst.pipe.tasks.assembleCoadd import AssembleCoaddTask"
   ]
  },
  {
   "cell_type": "code",
   "execution_count": null,
   "id": "98678043-68d1-4cf8-a490-0f002afa091b",
   "metadata": {},
   "outputs": [],
   "source": [
    "myConfig = AssembleCoaddTask.ConfigClass()"
   ]
  },
  {
   "cell_type": "code",
   "execution_count": null,
   "id": "5ba635c1-7bcb-4bf6-8513-f24e5ff07f09",
   "metadata": {},
   "outputs": [],
   "source": [
    "# call the result year3\n",
    "myConfig.coaddName = 'year3'"
   ]
  },
  {
   "cell_type": "code",
   "execution_count": null,
   "id": "14fe3d9a-1247-44ce-abc0-4fe8e203c526",
   "metadata": {},
   "outputs": [],
   "source": [
    "# yes i only want to do selected visits\n",
    "myConfig.doSelectVisits = True"
   ]
  },
  {
   "cell_type": "code",
   "execution_count": null,
   "id": "c166f252-8a9e-4667-9460-23ae1e58a85d",
   "metadata": {},
   "outputs": [],
   "source": [
    "# the list of selected visits\n",
    "myConfig.connections.selectedVisits = visit_list"
   ]
  },
  {
   "cell_type": "markdown",
   "id": "18878627-0047-47b5-9f73-405667c18743",
   "metadata": {},
   "source": [
    "What else do I need to specify in the config?"
   ]
  },
  {
   "cell_type": "code",
   "execution_count": null,
   "id": "2f82f508-4fea-45bd-849f-00f9130592e4",
   "metadata": {},
   "outputs": [],
   "source": [
    "myConfig"
   ]
  },
  {
   "cell_type": "code",
   "execution_count": null,
   "id": "16cb2bca-6954-439d-9cf1-9c1ebce4ed33",
   "metadata": {},
   "outputs": [],
   "source": [
    "myTask = AssembleCoaddTask(config=myConfig)"
   ]
  },
  {
   "cell_type": "code",
   "execution_count": null,
   "id": "71951b7b-ce4f-4b2e-ae32-13097529172c",
   "metadata": {},
   "outputs": [],
   "source": [
    "# myTask?"
   ]
  },
  {
   "cell_type": "code",
   "execution_count": null,
   "id": "56ccafda-3632-4068-aa14-a60e03961d92",
   "metadata": {},
   "outputs": [],
   "source": [
    "# help(myTask.run)"
   ]
  },
  {
   "cell_type": "markdown",
   "id": "ea614a45-c39d-4ea8-87f3-feb5d4bb5017",
   "metadata": {},
   "source": [
    "**To Figure Out**\n",
    "\n",
    "1. The `run` method requires inputs.\n",
    "I suspect it is insufficient to put the selected visits in the Config.\n",
    "I need to pass a query or dataIds for the inputs I want to coadd.\n",
    "\n",
    "2. I'm not sure if I should use `.run` or `.runDataRef`. \n",
    "The latter's description is \"Assemble a coadd from a set of Warps.\" which is actually all I want to do."
   ]
  },
  {
   "cell_type": "code",
   "execution_count": null,
   "id": "9e0ee109-0c5f-45ad-b660-cbb4625438e3",
   "metadata": {},
   "outputs": [],
   "source": [
    "# result = myTask.run()"
   ]
  },
  {
   "cell_type": "code",
   "execution_count": null,
   "id": "f40db7c2-f23d-4005-85c7-0d7a6813c361",
   "metadata": {},
   "outputs": [],
   "source": [
    "# result = myTask.runDataRef()"
   ]
  },
  {
   "cell_type": "code",
   "execution_count": null,
   "id": "0212f79d-2a96-4abb-9068-6b1ea38fa895",
   "metadata": {},
   "outputs": [],
   "source": [
    "# result"
   ]
  },
  {
   "cell_type": "code",
   "execution_count": null,
   "id": "2c4fccf2-6d5b-4b46-9866-ae4f84f43078",
   "metadata": {},
   "outputs": [],
   "source": [
    "# help(assembleCoaddTask)"
   ]
  },
  {
   "cell_type": "code",
   "execution_count": null,
   "id": "74bec8b7-d791-4c87-97fc-73fceeaeb7e2",
   "metadata": {},
   "outputs": [],
   "source": [
    "del myConfig, myTask"
   ]
  },
  {
   "cell_type": "markdown",
   "id": "0a0f3262-235a-4305-960f-8c189bd45198",
   "metadata": {},
   "source": [
    "<br>\n",
    "<br>\n",
    "\n",
    "### 3.2. Try following Nate's recommended way\n",
    "\n",
    "follow the steps by K-T in:\n",
    "\n",
    "https://community.lsst.org/t/figuring-out-how-to-call-the-python-api/6432/11\n",
    "\n",
    "as recommended by Nate in this post about recreating coadds:\n",
    "\n",
    "https://community.lsst.org/t/coadding-dp0-calexps-from-different-detectors-for-the-same-deepcoadd/6436/8\n",
    "\n",
    "Nate Lust also recommended to follow:\n",
    " * https://pipelines.lsst.io/v/weekly/modules/lsst.pipe.base/creating-a-pipeline.html\n",
    " * https://pipelines.lsst.io/v/weekly/modules/lsst.pipe.base/creating-a-pipelinetask.html\n",
    "\n",
    "\n",
    "**To Figure Out**:\n",
    "1. what config do i need to set?\n",
    "2. where am i even telling it to assemble a coadd from the inputs? how does this pipeline know what to do?"
   ]
  },
  {
   "cell_type": "code",
   "execution_count": null,
   "id": "86175eaf-7cd6-427d-bbe3-3bcb29617ea6",
   "metadata": {},
   "outputs": [],
   "source": [
    "from lsst.ctrl.mpexec import SimplePipelineExecutor\n",
    "from lsst.pipe.base import Pipeline"
   ]
  },
  {
   "cell_type": "markdown",
   "id": "874d5dd2-a4de-4fbc-b984-1bfda3c08ea9",
   "metadata": {},
   "source": [
    "repo and input collection are already defined"
   ]
  },
  {
   "cell_type": "code",
   "execution_count": null,
   "id": "32ce0277-a5bf-4dd7-b862-7c8e80f68eaf",
   "metadata": {},
   "outputs": [],
   "source": [
    "print(repo)\n",
    "print(collection)"
   ]
  },
  {
   "cell_type": "markdown",
   "id": "15ef1f72-478d-49e3-8f98-23d65750e059",
   "metadata": {},
   "source": [
    "#### create a collection just for me\n",
    "\n",
    "https://pipelines.lsst.io/py-api/lsst.daf.butler.Registry.html#lsst.daf.butler.Registry.registerCollection"
   ]
  },
  {
   "cell_type": "code",
   "execution_count": null,
   "id": "dfa09003-1b0e-47af-b00c-99a667c5051c",
   "metadata": {},
   "outputs": [],
   "source": [
    "output_collection = 'u/MelissaGraham/coadd_recreation_nb'"
   ]
  },
  {
   "cell_type": "code",
   "execution_count": null,
   "id": "0f4df65d-d41c-406f-95b3-e3a2168a1384",
   "metadata": {},
   "outputs": [],
   "source": [
    "# butler.registry.registerCollection(output_collection, type='RUN', doc='made for a tutorial')"
   ]
  },
  {
   "cell_type": "markdown",
   "id": "e9565d86-5836-4b23-b81b-cd921e968b0e",
   "metadata": {},
   "source": [
    "already done, so it appears in this list"
   ]
  },
  {
   "cell_type": "code",
   "execution_count": null,
   "id": "35154701-5e71-4ab0-ba7b-3cd741a7989e",
   "metadata": {},
   "outputs": [],
   "source": [
    "# for c in sorted(butler.registry.queryCollections()):\n",
    "#     print(c)"
   ]
  },
  {
   "cell_type": "markdown",
   "id": "d1b79d95-2eea-4e93-9937-439436529b8f",
   "metadata": {},
   "source": [
    "#### create the data query for my visits and detectors\n",
    "\n",
    "I learned what this should look like from https://pipelines.lsst.io/getting-started/coaddition.html"
   ]
  },
  {
   "cell_type": "code",
   "execution_count": null,
   "id": "fad3494e-43f4-480d-8472-db899e261cd3",
   "metadata": {},
   "outputs": [],
   "source": [
    "data_query = 'visit in ('+visit_list+')'"
   ]
  },
  {
   "cell_type": "code",
   "execution_count": null,
   "id": "06273b5c-ced9-4b92-a2b2-a5b5b56cb773",
   "metadata": {},
   "outputs": [],
   "source": [
    "print(data_query)"
   ]
  },
  {
   "cell_type": "markdown",
   "id": "2ac70923-102a-4e52-9577-169cce591b5e",
   "metadata": {},
   "source": [
    "#### set pipeline config\n",
    "\n",
    "unsure what is needed or how to figure it out\n",
    "\n",
    "label, key, and value are not needed? because we can use defaults?"
   ]
  },
  {
   "cell_type": "code",
   "execution_count": null,
   "id": "d2a6f59f-4ca6-4ffb-8023-4aae32a52e97",
   "metadata": {},
   "outputs": [],
   "source": [
    "### Use defaults\n",
    "# label = \n",
    "# key = \n",
    "# value = "
   ]
  },
  {
   "cell_type": "markdown",
   "id": "dee4d24b-a6ba-4f01-8f7a-b90a0e9fcb40",
   "metadata": {},
   "source": [
    "#### set up and run\n",
    "\n",
    "but where am i telling this pipeline just to execute the coadd step?"
   ]
  },
  {
   "cell_type": "code",
   "execution_count": null,
   "id": "8563694e-5b11-4679-9d0b-8bf741709bd8",
   "metadata": {},
   "outputs": [],
   "source": [
    "butler = SimplePipelineExecutor.prep_butler(repo,\n",
    "                                            inputs=['2.2i/runs/DP0.2/v23_0_1_rc1/PREOPS-905/pilot_tract4431'],\n",
    "                                            output='u/MelissaGraham/coadd_recreation_nb')"
   ]
  },
  {
   "cell_type": "code",
   "execution_count": null,
   "id": "d5900ae5-a8c8-425b-b42b-6dd666770483",
   "metadata": {},
   "outputs": [],
   "source": [
    "pipeline = Pipeline.from_uri('${PIPE_TASKS_DIR}/pipelines/DRP.yaml')"
   ]
  },
  {
   "cell_type": "code",
   "execution_count": null,
   "id": "775800c6-3288-4952-bae0-7c6ed91d39dc",
   "metadata": {},
   "outputs": [],
   "source": [
    "pipeline.addInstrument('LSSTCam-imSim')"
   ]
  },
  {
   "cell_type": "code",
   "execution_count": null,
   "id": "f52a8506-2657-45ca-a4e3-ab76cdd152c3",
   "metadata": {},
   "outputs": [],
   "source": [
    "# pipeline.addConfigOverride(label, key, value)"
   ]
  },
  {
   "cell_type": "markdown",
   "id": "62d61da2-7ae4-4087-aa2d-0d14a643de62",
   "metadata": {},
   "source": [
    "comment out below, not sure what it's doing yet"
   ]
  },
  {
   "cell_type": "code",
   "execution_count": null,
   "id": "86713a23-5a28-48bf-aba8-0d3c790ec34d",
   "metadata": {},
   "outputs": [],
   "source": [
    "# spe = SimplePipelineExecutor.from_pipeline(pipeline, where=data_query, butler=butler)\n",
    "# quanta = spe.run(True)"
   ]
  },
  {
   "cell_type": "code",
   "execution_count": null,
   "id": "20f94cad-c60a-4ed9-b5fa-a31eb964019e",
   "metadata": {},
   "outputs": [],
   "source": []
  },
  {
   "cell_type": "code",
   "execution_count": null,
   "id": "360e69de-0cfb-420f-98ac-e252dbc85c87",
   "metadata": {},
   "outputs": [],
   "source": []
  }
 ],
 "metadata": {
  "kernelspec": {
   "display_name": "LSST",
   "language": "python",
   "name": "lsst"
  },
  "language_info": {
   "codemirror_mode": {
    "name": "ipython",
    "version": 3
   },
   "file_extension": ".py",
   "mimetype": "text/x-python",
   "name": "python",
   "nbconvert_exporter": "python",
   "pygments_lexer": "ipython3",
   "version": "3.10.4"
  }
 },
 "nbformat": 4,
 "nbformat_minor": 5
}
