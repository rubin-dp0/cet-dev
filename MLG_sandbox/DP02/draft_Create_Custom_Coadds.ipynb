{
 "cells": [
  {
   "cell_type": "markdown",
   "id": "88e46a87-3937-4534-ae66-8343f99049ed",
   "metadata": {},
   "source": [
    "<img align=\"left\" src = https://project.lsst.org/sites/default/files/Rubin-O-Logo_0.png width=250 style=\"padding: 10px\"> \n",
    "<b>DRAFT: Coadd Recreation</b> <br>\n",
    "Contact author: Melissa Graham <br>\n",
    "Last verified to run: <i>yyyy-mm-dd</i> <br>\n",
    "LSST Science Piplines version: Weekly 2022_22 <br>\n",
    "Container Size: large <br>\n",
    "Targeted learning level: intermediate <br>"
   ]
  },
  {
   "cell_type": "raw",
   "id": "4bb97a81-0ca4-4a15-88df-a8e34c2fc7ea",
   "metadata": {},
   "source": [
    "Recent changes since Clare last looked (Thu Jun 30):\n",
    " - removed all the cells having to do with renaming outputs\n",
    " - added Section 6 \"Known Limitations\"\n",
    " - added just the link to lsst.ctrl.mpexec.SimplePipelineExecutor.html for now\n",
    "\n",
    "Need help with:\n",
    " - S.3.1.1 deleting user's butler collections\n",
    " - S.4.1 docs for what the quanta is\n",
    " - S.4.2 can I get results from the quanta? am making new butler; wrong?\n",
    "\n",
    "To Do:\n",
    " - S.3.6 write a beginner-level intro for Simple Pipeline Executor\n",
    " - S.4.3 run source measurement\n",
    " - flake8 this NB\n",
    " - more documentation references?\n",
    " \n",
    "<br>"
   ]
  },
  {
   "cell_type": "raw",
   "id": "26361442-4bf4-4444-991c-10be91991493",
   "metadata": {},
   "source": [
    "Notes from Clare still to be incorporated:\n",
    "\n",
    "Deleting user’s butler collections: you don’t need to do the step of making tmpButler. Just use the same butler you used to do queryCollections. If that doesn’t help, send me the error that you’re getting.\n",
    "\n",
    "Quanta is a list of objects corresponding to each of the pipeline tasks you ran. You should have one for each visit’s makeWarp and one for assembleCoadd. Each of those has information about the name of the task, the reference to the input and output, and some other stuff. To get the actual output, you need to do a butler.get with the particular output reference. In your example, you would need to check quantum.taskName to figure out which item in quanta corresponds to assembleCoadd (call it q), then do simpleButler.get(q.outputs['deepCoadd'][0]) . The [0] is because q.outputs['deepCoadd'] is a list, but it should only have one item. Alternatively, since you know the dataId of the coadd you made, you could also just do SimpleButler.get('deepCoadd', dataId=myDataId). For documentation of the outputs, you can look at the run method for the task on pipelines.lsst.io, but I find it much easier to look at the “Connections” class corresponding to the task in the code, for example https://github.com/lsst/pipe_tasks/blob/6d6584867867992717ea8d33b3300fdd1bf382d8/python/lsst/pipe/tasks/assembleCoadd.py#L58\n",
    "Y\n",
    "ou don’t need to make a new butler to access your new data products. The butler you made will look for data first in the output collection that you set when you made it.\n"
   ]
  },
  {
   "cell_type": "code",
   "execution_count": null,
   "id": "c3750d29-8d6c-4c65-996a-4afe8f784fab",
   "metadata": {},
   "outputs": [],
   "source": [
    "# %load_ext pycodestyle_magic\n",
    "# %flake8_on\n",
    "# import logging\n",
    "# logging.getLogger(\"flake8\").setLevel(logging.FATAL)"
   ]
  },
  {
   "cell_type": "markdown",
   "id": "985dbaac-2239-4e63-99af-069885693cd9",
   "metadata": {},
   "source": [
    "**Description:** Recreate a deepCoad using only a subset of the input visits."
   ]
  },
  {
   "cell_type": "markdown",
   "id": "835825c1-745b-4bb5-bad8-861812618231",
   "metadata": {},
   "source": [
    "**Skills:** Use of pipetasks for image coaddition. Creating and writing to Butler collections. Properties of deepCoadds."
   ]
  },
  {
   "cell_type": "markdown",
   "id": "e710443e-0f79-4a89-ae31-c07bed8e5d8d",
   "metadata": {},
   "source": [
    "**LSST Data Products:** DP0.2 images: deepCoadd. DP0.2 catalogs: visitTable."
   ]
  },
  {
   "cell_type": "markdown",
   "id": "5d2d1c4b-2893-4abc-99c3-c305338e5d05",
   "metadata": {},
   "source": [
    "**Packages:** lsst.daf.butler, lsst.ctrl.mpexec, lsst.pipe.base"
   ]
  },
  {
   "cell_type": "markdown",
   "id": "5992b774-f0bf-49d7-8e23-7aca9788f6fb",
   "metadata": {},
   "source": [
    "**Credit:** Originally developed by Melissa Graham and Clare Saunders."
   ]
  },
  {
   "cell_type": "markdown",
   "id": "37ebdbb7-c12d-4645-8259-13aed7872ebb",
   "metadata": {},
   "source": [
    "**Get Support:**\n",
    "Find DP0-related documentation and resources at <a href=\"https://dp0-2.lsst.io\">dp0-2.lsst.io</a>. Questions are welcome as new topics in the <a href=\"https://community.lsst.org/c/support/dp0\">Support - Data Preview 0 Category</a> of the Rubin Community Forum. Rubin staff will respond to all questions posted there."
   ]
  },
  {
   "cell_type": "markdown",
   "id": "7b41f9a0-c6b3-4279-bfe4-692ff5e9a473",
   "metadata": {},
   "source": [
    "## 1. Introduction\n",
    "\n",
    "This notebook shows how to retrieve information about the individual images that contributed to a deepCoadd, and how to make a new coadded image using only a subset of the inputs.\n",
    "\n",
    "In the past you might have used iraf's imcombine or Astromatics's SWarp (for example) to coadd images.\n",
    "This notebook demonstrates the appropriate methods for coadding LSST images with the LSST Science Pipelines.\n",
    "\n",
    "Science applications of coadding a subsets of LSST images includes searching for faint, slowly-evolving transients or variables (e.g.,, coadding images by season), using the effects of differential chromatic refraction (e.g., coadding images in bins of airmass), or perhaps searching for low surface brightness features (e.g., coadding only dark-time images with the faintest sky backgrounds)."
   ]
  },
  {
   "cell_type": "markdown",
   "id": "0127a799-1cd7-4a7a-9deb-911938589161",
   "metadata": {},
   "source": [
    "### 1.1. Package imports"
   ]
  },
  {
   "cell_type": "code",
   "execution_count": null,
   "id": "4aef3e1b-efee-4d8a-9ed0-d9a910be88d3",
   "metadata": {},
   "outputs": [],
   "source": [
    "# standard python packages for numerical processing, plotting, and databases\n",
    "import time\n",
    "import getpass\n",
    "import numpy as np\n",
    "import matplotlib\n",
    "import matplotlib.pyplot as plt\n",
    "import pandas\n",
    "\n",
    "# astropy package for time unit conversions\n",
    "from astropy.time import Time\n",
    "\n",
    "# lsst packages for data access and display\n",
    "import lsst.geom\n",
    "import lsst.afw.display as afwDisplay\n",
    "\n",
    "# import lsst.daf.butler as dafButler\n",
    "from lsst.daf.butler import Butler, DatasetType, CollectionType\n",
    "\n",
    "# lsst packages for executing pipeline tasks\n",
    "from lsst.ctrl.mpexec import SimplePipelineExecutor\n",
    "from lsst.pipe.base import Pipeline, Instrument"
   ]
  },
  {
   "cell_type": "markdown",
   "id": "633fe9bd-43cd-478e-81d9-d3fe6f712841",
   "metadata": {},
   "source": [
    "### 1.2. Define functions and parameters\n",
    "\n",
    "Set a few parameters related to plotting and display."
   ]
  },
  {
   "cell_type": "code",
   "execution_count": null,
   "id": "f7952911-b6e2-43c3-9e28-6a60431a3530",
   "metadata": {},
   "outputs": [],
   "source": [
    "font = {'size': 14}\n",
    "matplotlib.rc('font', **font)\n",
    "\n",
    "pandas.set_option('display.max_rows', 1000)\n",
    "\n",
    "afwDisplay.setDefaultBackend('matplotlib')"
   ]
  },
  {
   "cell_type": "markdown",
   "id": "f5bf823a-f544-46e3-a3db-df71bd6c083f",
   "metadata": {},
   "source": [
    "Set the DP0.2 config and collection for the butler."
   ]
  },
  {
   "cell_type": "code",
   "execution_count": null,
   "id": "9340359c-49d6-471e-af30-2b2387756468",
   "metadata": {},
   "outputs": [],
   "source": [
    "config = 'dp02'\n",
    "collection = '2.2i/runs/DP0.2'"
   ]
  },
  {
   "cell_type": "markdown",
   "id": "460b2aa1-d80d-4060-b45b-2d4fb51eeac9",
   "metadata": {},
   "source": [
    "Option to display all the deepCoadd datasetTypes available via our butler."
   ]
  },
  {
   "cell_type": "code",
   "execution_count": null,
   "id": "be44d01d-eab6-48b2-92af-d0a3c8ec01d1",
   "metadata": {},
   "outputs": [],
   "source": [
    "# for x in sorted(butler.registry.queryDatasetTypes()):\n",
    "#     temp = str(x)\n",
    "#     if temp.find('deepCoadd') > -1:\n",
    "#         print(x)\n",
    "#     del temp"
   ]
  },
  {
   "cell_type": "markdown",
   "id": "c42ce015-7441-4155-bc6c-201d4118efce",
   "metadata": {},
   "source": [
    "## 2. Identify the visits to combine\n",
    "\n",
    "This example starts with a given sky coordinate -- in this case, the right ascension and declination of a known galaxy cluster in the DC2 data set are used.\n",
    "\n",
    "The DC2 skyMap is used to identify the deepCoadd which contains that coordinate, and then the butler is used to retrieve the deepCoadd and the list of visit ids which were combined to create it.\n",
    "\n",
    "The visitTable is then used to obtain the acquisition dates of the input visits.\n",
    "For this example, the visits in a short time range (with modified julian dates, MJDs, between 60925 and 60955) have been arbitrarily selected as the visits to be coadded."
   ]
  },
  {
   "cell_type": "markdown",
   "id": "887f30e0-ac1c-463f-9ab7-c19352c85166",
   "metadata": {},
   "source": [
    "First, instantiate a butler to use in Section 2.\n",
    "\n",
    "> **Notice:** It is OK to ignore a pink-window message saying \"WARNING: version mismatch between CFITSIO header (v4.000999999999999) and linked library (v4.01).\""
   ]
  },
  {
   "cell_type": "code",
   "execution_count": null,
   "id": "833e2d5c-d3dc-46bc-9a5e-02ac6c5a9281",
   "metadata": {},
   "outputs": [],
   "source": [
    "butler = Butler(config, collections=collection)"
   ]
  },
  {
   "cell_type": "markdown",
   "id": "0f50f8d0-6a1b-4f32-9e44-5f9edd0f9e31",
   "metadata": {},
   "source": [
    "### 2.1. Identify and retrieve the deepCoadd\n",
    "\n",
    "This takes 4-5 seconds."
   ]
  },
  {
   "cell_type": "code",
   "execution_count": null,
   "id": "6e5849dd-f51c-4443-b3b9-48f73b5b3eae",
   "metadata": {},
   "outputs": [],
   "source": [
    "%%time\n",
    "\n",
    "my_ra_deg = 55.745834\n",
    "my_dec_deg = -32.269167\n",
    "\n",
    "my_spherePoint = lsst.geom.SpherePoint(my_ra_deg*lsst.geom.degrees,\n",
    "                                       my_dec_deg*lsst.geom.degrees)\n",
    "\n",
    "skymap = butler.get('skyMap')\n",
    "tract = skymap.findTract(my_spherePoint)\n",
    "my_tract = tract.tract_id\n",
    "my_patch = tract.findPatch(my_spherePoint).getSequentialIndex()\n",
    "print('My tract and patch: ', my_tract, my_patch)\n",
    "\n",
    "my_dataId = {'band': 'i', 'tract': my_tract, \n",
    "             'patch': my_patch}\n",
    "my_deepCoadd = butler.get('deepCoadd', dataId=my_dataId)\n",
    "\n",
    "# clean up\n",
    "del my_ra_deg, my_dec_deg, my_spherePoint, tract"
   ]
  },
  {
   "cell_type": "markdown",
   "id": "88c4d270-a2bf-4d35-a5c8-560fd1e675b7",
   "metadata": {},
   "source": [
    "Option to display the deepCoadd image."
   ]
  },
  {
   "cell_type": "code",
   "execution_count": null,
   "id": "6ed19ab9-d079-42e4-bff4-55eeef94afcb",
   "metadata": {},
   "outputs": [],
   "source": [
    "# fig = plt.figure(figsize=(6, 4))\n",
    "# afw_display = afwDisplay.Display(1)\n",
    "# afw_display.scale('asinh', 'zscale')\n",
    "# afw_display.mtv(my_deepCoadd.image)\n",
    "# plt.gca().axis('off')"
   ]
  },
  {
   "cell_type": "markdown",
   "id": "34b35b55-74d4-422e-bf9d-a13c1aab45c1",
   "metadata": {},
   "source": [
    "Option to learn more about the deepCoadd metadata, such as bounding box, corners, and the World Coordinate System (WCS).\n",
    "It is not necessary to know the bounding box for a deepCoadd in order to find all of the calexps that were used to assemble it, this is simply a demonstration for the learner."
   ]
  },
  {
   "cell_type": "code",
   "execution_count": null,
   "id": "8c89c7e6-e96d-4135-9e44-06b84987ffb2",
   "metadata": {},
   "outputs": [],
   "source": [
    "# my_deepCoadd_bbox = butler.get('deepCoadd.bbox', dataId=my_dataId)\n",
    "# print('bbox')\n",
    "# print(my_deepCoadd_bbox.beginX, my_deepCoadd_bbox.beginY, \n",
    "#       my_deepCoadd_bbox.endX, my_deepCoadd_bbox.endY)\n",
    "\n",
    "# print('')\n",
    "# print('corners')\n",
    "# print(my_deepCoadd_bbox.getCorners())\n",
    "\n",
    "# print('')\n",
    "# print('wcs')\n",
    "# my_deepCoadd_wcs = butler.get('deepCoadd.wcs', dataId=my_dataId)\n",
    "# print(my_deepCoadd_wcs)\n",
    "\n",
    "# # clean up\n",
    "# del my_deepCoadd_bbox, my_deepCoadd_wcs"
   ]
  },
  {
   "cell_type": "markdown",
   "id": "92be360e-c8d0-4b99-be77-827561954c5b",
   "metadata": {},
   "source": [
    "### 2.2. Retrieve the deepCoadd's input visits\n",
    "\n",
    "This takes 2-3 seconds."
   ]
  },
  {
   "cell_type": "code",
   "execution_count": null,
   "id": "b8c4f4b7-2447-4361-96c9-ca805d9106df",
   "metadata": {},
   "outputs": [],
   "source": [
    "%%time\n",
    "\n",
    "my_coadd_inputs = butler.get(\"deepCoadd_calexp.coaddInputs\", my_dataId)"
   ]
  },
  {
   "cell_type": "markdown",
   "id": "273ada69-3204-426d-9bec-a12d54dcfceb",
   "metadata": {},
   "source": [
    "Option to display the coadd inputs as an astropy table."
   ]
  },
  {
   "cell_type": "code",
   "execution_count": null,
   "id": "6708a08e-7cfb-429b-a121-7b918aa27b73",
   "metadata": {},
   "outputs": [],
   "source": [
    "# my_coadd_inputs.visits.asAstropy()"
   ]
  },
  {
   "cell_type": "markdown",
   "id": "15e26c9d-e8b1-4f9d-93f7-0a37545c3d4c",
   "metadata": {},
   "source": [
    "The length of this table, 161, indicates that 161 separate visits contributed to this deepCoadd."
   ]
  },
  {
   "cell_type": "code",
   "execution_count": null,
   "id": "ae810206-6d17-42d9-96df-3560cf711e94",
   "metadata": {},
   "outputs": [],
   "source": [
    "len(my_coadd_inputs.visits)"
   ]
  },
  {
   "cell_type": "markdown",
   "id": "fc08dafe-6a6a-4d04-8b0b-ca25b33b37ed",
   "metadata": {},
   "source": [
    "Option to list all of the deepCoadd input visit ids."
   ]
  },
  {
   "cell_type": "code",
   "execution_count": null,
   "id": "d54bbfd1-497f-4875-a5c8-707c1bf82193",
   "metadata": {},
   "outputs": [],
   "source": [
    "# my_coadd_visits = my_coadd_inputs.visits['id']\n",
    "# my_coadd_visits"
   ]
  },
  {
   "cell_type": "markdown",
   "id": "cd7f0a95-9d41-44d1-aff7-6f6b59f77eeb",
   "metadata": {},
   "source": [
    "### 2.3. Identify the acquisition dates for the input visits\n",
    "\n",
    "First, get the entire visit table."
   ]
  },
  {
   "cell_type": "code",
   "execution_count": null,
   "id": "027cdc0f-0d1d-4330-83a9-ca8d67932044",
   "metadata": {},
   "outputs": [],
   "source": [
    "visitTableRef = list(butler.registry.queryDatasets('visitTable'))"
   ]
  },
  {
   "cell_type": "code",
   "execution_count": null,
   "id": "35cbbfe6-11b1-4500-baf3-cba58d529bf8",
   "metadata": {},
   "outputs": [],
   "source": [
    "visitTable = butler.get(visitTableRef[0])"
   ]
  },
  {
   "cell_type": "markdown",
   "id": "17a9591c-2e9f-4ef9-b385-c167b3ff2936",
   "metadata": {},
   "source": [
    "Option to display the contents of the visitTable."
   ]
  },
  {
   "cell_type": "code",
   "execution_count": null,
   "id": "a31b7e5c-df48-44f6-8854-b073f701ed1c",
   "metadata": {},
   "outputs": [],
   "source": [
    "# visitTable"
   ]
  },
  {
   "cell_type": "markdown",
   "id": "1e628388-4a7b-4197-8aaa-80b925f5995d",
   "metadata": {},
   "source": [
    "The fact that the id column for both the my_coadd_inputs.vists table and the visitTable is the visit number (visit id) makes it simple to retrieve the MJDs of our coadd input visits."
   ]
  },
  {
   "cell_type": "code",
   "execution_count": null,
   "id": "1c1a95b0-2702-4e2f-b6bf-b81f32ee918d",
   "metadata": {},
   "outputs": [],
   "source": [
    "my_coadd_visits_mjds = visitTable.loc[my_coadd_inputs.visits['id']]['expMidptMJD']"
   ]
  },
  {
   "cell_type": "markdown",
   "id": "f85ea9a3-0711-4f77-a309-15f403e6bcb5",
   "metadata": {},
   "source": [
    "These list of MJDs have 161 elements, for the 161 separate visits contributed to this deepCoadd."
   ]
  },
  {
   "cell_type": "code",
   "execution_count": null,
   "id": "95c50262-b42c-4151-b862-26e7ba8af02c",
   "metadata": {},
   "outputs": [],
   "source": [
    "len(my_coadd_visits_mjds)"
   ]
  },
  {
   "cell_type": "markdown",
   "id": "c0abddb8-f601-4388-b838-5e3dae9308f3",
   "metadata": {},
   "source": [
    "### 2.4. Identify input visits to combine into a new Coadd\n",
    "\n",
    "Identify input visits with MJD between 60925 abd 60955."
   ]
  },
  {
   "cell_type": "code",
   "execution_count": null,
   "id": "dd205feb-436a-40e7-8119-6b2944255533",
   "metadata": {},
   "outputs": [],
   "source": [
    "range_start = 60925\n",
    "range_end = 60955\n",
    "\n",
    "fig, ax = plt.subplots(2, figsize=(10, 10))\n",
    "\n",
    "ax[0].hist(my_coadd_visits_mjds, bins=150, color='dodgerblue')\n",
    "ax[0].set_xlabel('MJD')\n",
    "ax[0].set_ylabel('Number of Visits')\n",
    "ax[0].axvline(range_start, ls='dashed', color='darkorange')\n",
    "ax[0].axvline(range_end, ls='dashed', color='darkorange')\n",
    "\n",
    "ax[1].hist(my_coadd_visits_mjds, bins=150, color='dodgerblue')\n",
    "ax[1].set_xlabel('MJD')\n",
    "ax[1].set_ylabel('Number of Visits')\n",
    "ax[1].set_xlim([60880, 60985])\n",
    "ax[1].axvline(range_start, ls='dashed', color='darkorange')\n",
    "ax[1].axvline(range_end, ls='dashed', color='darkorange')\n",
    "ax[1].text(range_start+1, 7.5, 'date range', color='darkorange')\n",
    "ax[1].text(range_start+1, 7.0, 'of interest', color='darkorange')\n",
    "\n",
    "plt.show()"
   ]
  },
  {
   "cell_type": "markdown",
   "id": "bd659dea-4c4d-4592-a93b-fc93e7ee9344",
   "metadata": {},
   "source": [
    "There are 6 visits in the data range of interest.\n",
    "\n",
    "Put this list of visits into a string, formatted as a tuple, for use in a query later on.\n",
    "(\"Formatted as a tuple\" means within round brackets and separated by commas)."
   ]
  },
  {
   "cell_type": "code",
   "execution_count": null,
   "id": "507e6561-4186-4287-bac8-795c783a5d54",
   "metadata": {},
   "outputs": [],
   "source": [
    "my_range = np.array((my_coadd_visits_mjds > range_start)\n",
    "                    & (my_coadd_visits_mjds < range_end))\n",
    "\n",
    "my_visits = my_coadd_inputs.visits[my_range]\n",
    "\n",
    "my_visits_tupleString = \"(\"+\",\".join(my_visits['id'].astype(str))+\")\"\n",
    "print(my_visits_tupleString)"
   ]
  },
  {
   "cell_type": "markdown",
   "id": "38f882d3-026a-4de7-920a-56072bfd5f96",
   "metadata": {},
   "source": [
    "## 3. Create a coadd with the subset of visits "
   ]
  },
  {
   "cell_type": "markdown",
   "id": "a86fe32e-0c36-4e50-a2b4-98d36ed1b3b1",
   "metadata": {},
   "source": [
    "### 3.1. Name a new butler collection for output\n",
    "\n",
    "> **Important:** Use the convention `u/[Your User Name]/coadd_recreation_nb` to set up a new output collection for this tutorial.\n",
    "Recall that RSP user names are the same as GitHub user names, because GitHub accounts are used to authorize access to the RSP."
   ]
  },
  {
   "cell_type": "code",
   "execution_count": null,
   "id": "68013bdf-2624-48c5-9002-95afb351fef8",
   "metadata": {},
   "outputs": [],
   "source": [
    "my_username = getpass.getuser()\n",
    "my_outputCollection = 'u/'+my_username+'/coadd_recreation_nb'\n",
    "print(my_outputCollection)"
   ]
  },
  {
   "cell_type": "markdown",
   "id": "0c4c35fd-402a-4878-80d4-0402e3740ff3",
   "metadata": {},
   "source": [
    "Check if this output collection already exists? If nothing is printed below this cell, the output collection does not already exist."
   ]
  },
  {
   "cell_type": "code",
   "execution_count": null,
   "id": "1814025e-a06b-41c8-8b56-b5d7fcde04d5",
   "metadata": {},
   "outputs": [],
   "source": [
    "for c in sorted(butler.registry.queryCollections()):\n",
    "    if c.find(my_outputCollection) > -1:\n",
    "        print(c)"
   ]
  },
  {
   "cell_type": "markdown",
   "id": "85571792-1b1d-4e17-9c1a-1d3a74bd86c7",
   "metadata": {},
   "source": [
    "#### 3.1.1. To delete a collection you made\n",
    "\n",
    "In the course of experimenting with the LSST Science Pipelines, if you create output collections that you want to then delete (e.g., they contain mistakes that you wouldn't want to accidentally include in your science analysis), this is how to remove a collection and its contents.\n",
    "\n",
    "The cell below instantiates a temporary butler with write permissions, and then removes the collection by name.\n",
    "\n",
    "> **Help Question:** At first this worked but now does not; need to fix."
   ]
  },
  {
   "cell_type": "code",
   "execution_count": null,
   "id": "3dcbfe56-31d7-4f56-be73-19f88811b53a",
   "metadata": {},
   "outputs": [],
   "source": [
    "# for c in sorted(butler.registry.queryCollections()):\n",
    "#     if c.find(my_outputCollection) > -1:\n",
    "#         print('Found: ', c)\n",
    "#         try:\n",
    "#             tmpButler = Butler(config, writeable=True)\n",
    "#             tmpButler.registry.removeCollection(c)\n",
    "#             print('Removed: ', c)\n",
    "#         except:\n",
    "#             print('Could not remove: ', c)\n",
    "#         del tmpButler"
   ]
  },
  {
   "cell_type": "markdown",
   "id": "323bde7d-5a93-44ac-a02b-8709a78f6050",
   "metadata": {},
   "source": [
    "<br>\n",
    "Delete the current butler. In the next section, a simple butler is created and used thereafter."
   ]
  },
  {
   "cell_type": "code",
   "execution_count": null,
   "id": "22a9d72a-46d9-4791-97d2-45cb20fae8dd",
   "metadata": {},
   "outputs": [],
   "source": [
    "del butler"
   ]
  },
  {
   "cell_type": "markdown",
   "id": "5d12d1c6-fd47-4c6e-845c-9e10bccc22d2",
   "metadata": {},
   "source": [
    "### 3.2. Set up a simple butler with the new output collection"
   ]
  },
  {
   "cell_type": "markdown",
   "id": "a3763cc6-1f00-43dd-affb-193b78b4f7be",
   "metadata": {},
   "source": [
    "> **Notice:** In future updates to the LSST Science Pipelines, it will be possible to use:\n",
    "\n",
    "> `simpleButler = SimplePipelineExecutor.prep_butler(config, inputs=[collection], output=my_outputCollection)`\n",
    "\n",
    "For the LSST Science Pipelines version Weekly_2022_22, the following workaround is needed to set up a simple butler and create a new output collection with the name selected above."
   ]
  },
  {
   "cell_type": "code",
   "execution_count": null,
   "id": "c9431dfe-de6f-45f1-b083-09a3b83de627",
   "metadata": {},
   "outputs": [],
   "source": [
    "outputRun = f\"{my_outputCollection}/{Instrument.makeCollectionTimestamp()}\"\n",
    "\n",
    "tmpButler = Butler(config, writeable=True)\n",
    "tmpButler.registry.registerCollection(outputRun, CollectionType.RUN)\n",
    "tmpButler.registry.registerCollection(my_outputCollection, CollectionType.CHAINED)\n",
    "\n",
    "collections = [collection]\n",
    "collections.insert(0, outputRun)\n",
    "\n",
    "tmpButler.registry.setCollectionChain(my_outputCollection, collections)\n",
    "\n",
    "simpleButler = Butler(butler=tmpButler, collections=[my_outputCollection], run=outputRun)"
   ]
  },
  {
   "cell_type": "markdown",
   "id": "33abd84d-f4d5-4dbf-8feb-15308c42c773",
   "metadata": {},
   "source": [
    "Check that the subdirectory of the newly created output collection is first in the list, and note that the collection has had a timestamp added.\n",
    "The output will go into that specific collection with that timestamp.\n",
    "Notice that timestamps are year month day T hour minute second Z, where the time is UTC."
   ]
  },
  {
   "cell_type": "code",
   "execution_count": null,
   "id": "46962fa6-ef50-4933-9d5d-7f66c22a23c8",
   "metadata": {},
   "outputs": [],
   "source": [
    "simpleButler.registry.getCollectionChain(my_outputCollection)"
   ]
  },
  {
   "cell_type": "markdown",
   "id": "cec8f5a4-74bf-449b-9246-7e549dc56efe",
   "metadata": {},
   "source": [
    "Option: check the output collection's timestamps that currently exist."
   ]
  },
  {
   "cell_type": "code",
   "execution_count": null,
   "id": "a40c9fa9-8955-4cee-bf3b-360bcf07e5ef",
   "metadata": {},
   "outputs": [],
   "source": [
    "# for c in sorted(simpleButler.registry.queryCollections()):\n",
    "#     if c.find(my_outputCollection) > -1:\n",
    "#         print('Found: ', c)"
   ]
  },
  {
   "cell_type": "markdown",
   "id": "e1740781-d79a-4202-971b-f9ef8f6a9329",
   "metadata": {
    "tags": []
   },
   "source": [
    "### 3.3. Select the makeWarp and assembleCoadd tasks\n",
    "\n",
    "In order to combine the identified visits into a new Coadd, two steps of the larger Data Release pipeline must be included: makeWarp and assembleCoadd. \n",
    "Although warped images are created during processing, they are not stored long-term because they take up a lot of space and because they can be easily recreated when needed.\n",
    "\n",
    "Find relevant documentation for more information about <a href=\"https://pipelines.lsst.io/v/weekly/modules/lsst.pipe.base/creating-a-pipeline.html\">creating a pipeline</a> or the <a href=\"https://pipelines.lsst.io/modules/lsst.pipe.tasks/tasks/lsst.pipe.tasks.assembleCoadd.AssembleCoaddTask.html\">assembleCoadd<a> task.\n",
    "\n",
    "The following method for creating the `assembleCoaddPipeline` task in a notebook -- using the `from_uri` function and passing a file path -- is not intuitive, but is preferred because it gives the user all of the configuration settings for the instrument automatically, and because it most closely replicates the command-line syntax."
   ]
  },
  {
   "cell_type": "code",
   "execution_count": null,
   "id": "31df8776-0574-4d69-804e-4ddc7e78dde1",
   "metadata": {},
   "outputs": [],
   "source": [
    "assembleCoaddPipeline = Pipeline.from_uri('${PIPE_TASKS_DIR}/pipelines/DRP.yaml#makeWarp,assembleCoadd')"
   ]
  },
  {
   "cell_type": "markdown",
   "id": "7c29643b-a88f-4fe0-b136-ca0baa03201f",
   "metadata": {},
   "source": [
    "The other tasks available are listed in the yaml file. \n",
    "To see the other tasks, first open a new terminal (click the blue + button at upper left and then select terminal).\n",
    "Then create a Rubin Observatory environment, navigate to the DRP.yaml file, and view its contents with:\n",
    "> `setup lsst_distrib` <br>\n",
    "> `cd ${PIPE_TASKS_DIR}/pipelines/`<br>\n",
    "> `more DRP.yaml`\n",
    "\n",
    "When attempting to use `more` on the DRP.yaml file, a redirect to its true location might be returned. If so, follow the path given."
   ]
  },
  {
   "cell_type": "markdown",
   "id": "de7ebc47-f65e-4c46-b9c4-954248c32478",
   "metadata": {},
   "source": [
    "### 3.4. Configure the pipeline\n",
    "\n",
    "Configurations can be set using `addConfigOverride(<taskName>, <configName>, <configValue>)`.\n",
    "\n",
    "There is only one configuration that must be set, and it is to clarify to the pipeline that it _does not_ need to redo a final image characterization step.\n",
    "Currently, this configuration is needed due to a version mismatch: the DP0.2 data sets were processed with Version 23 of the LSST Science Pipelines, whereas this notebook uses the version \"Weekly 2022_22\".\n",
    "This configuration might not be needed in the future."
   ]
  },
  {
   "cell_type": "code",
   "execution_count": null,
   "id": "fe6ac227-1047-4ba2-bc36-386934a7821b",
   "metadata": {},
   "outputs": [],
   "source": [
    "assembleCoaddPipeline.addConfigOverride('makeWarp', 'doApplyFinalizedPsf', False) "
   ]
  },
  {
   "cell_type": "markdown",
   "id": "34207342-4542-4477-a900-8c095ed8be56",
   "metadata": {},
   "source": [
    "### 3.5. Create the full query string\n",
    "\n",
    "Above, the visits to be recombined were stored in \"my_visits_tupleString\".\n",
    "\n",
    "Below, the full query string is built to include the patch being recreated."
   ]
  },
  {
   "cell_type": "code",
   "execution_count": null,
   "id": "ba1aa59a-db98-4d3c-b46e-e15f8901b18d",
   "metadata": {},
   "outputs": [],
   "source": [
    "queryString = f\"tract = {my_tract} AND patch = {my_patch} AND \"+\\\n",
    "              f\"visit in {my_visits_tupleString} AND skymap = 'DC2'\"\n",
    "\n",
    "print(queryString)"
   ]
  },
  {
   "cell_type": "markdown",
   "id": "d335b20d-3cb9-4a45-9e09-d1b5a7023cc0",
   "metadata": {},
   "source": [
    "### 3.6. Use the Simple Pipeline Executor to run the pipeline\n",
    "\n",
    "Set up the Simple Pipeline Executor.\n",
    "\n",
    "https://pipelines.lsst.io/v/weekly/py-api/lsst.ctrl.mpexec.SimplePipelineExecutor.html"
   ]
  },
  {
   "cell_type": "code",
   "execution_count": null,
   "id": "e7a8e183-bee2-4117-b830-ca69f78649d1",
   "metadata": {},
   "outputs": [],
   "source": [
    "# SimplePipelineExecutor.from_pipeline?"
   ]
  },
  {
   "cell_type": "markdown",
   "id": "872efc12-f282-473f-9bf3-fd43eb0a3627",
   "metadata": {},
   "source": [
    "This takes about 1.5 minutes."
   ]
  },
  {
   "cell_type": "code",
   "execution_count": null,
   "id": "50c26734-de0e-40f9-899a-42e9de2a52dc",
   "metadata": {},
   "outputs": [],
   "source": [
    "%%time\n",
    "spe = SimplePipelineExecutor.from_pipeline(assembleCoaddPipeline, where=queryString, butler=simpleButler)"
   ]
  },
  {
   "cell_type": "markdown",
   "id": "7fba6582-9f37-46e6-bca0-e4fe673a3fdd",
   "metadata": {
    "tags": []
   },
   "source": [
    "Run the pipeline. There will be a lot of standard output. Right-click to the left of the cell and choose \"Enable Scrolling for Outputs\" to condense all of the output into a scrollable inset window.\n",
    "\n",
    "This takes about 16 minutes for 6 visits."
   ]
  },
  {
   "cell_type": "code",
   "execution_count": null,
   "id": "ebe78d52-d186-4220-b58a-1dafd518ca0f",
   "metadata": {
    "scrolled": true,
    "tags": []
   },
   "outputs": [],
   "source": [
    "%%time\n",
    "quanta = spe.run()"
   ]
  },
  {
   "cell_type": "markdown",
   "id": "ed37a316-41d3-4bb6-8187-2da1250d71de",
   "metadata": {},
   "source": [
    "## 4. Display and analyse the results\n",
    "\n",
    "### 4.1. The quanta\n",
    "\n",
    "> **Help Question:** What exactly is quanta? I'm calling it an object but is that appropriate?\n",
    "\n",
    "The object `quanta` is ..."
   ]
  },
  {
   "cell_type": "code",
   "execution_count": null,
   "id": "2c75391a-84a4-488f-94ef-2a3cf5bad965",
   "metadata": {},
   "outputs": [],
   "source": [
    "quanta"
   ]
  },
  {
   "cell_type": "code",
   "execution_count": null,
   "id": "f27a9f02-ad51-45d5-b004-6951b7f45ad7",
   "metadata": {},
   "outputs": [],
   "source": [
    "quanta[0].outputs"
   ]
  },
  {
   "cell_type": "markdown",
   "id": "76d7fbb4-c3a2-4d9f-be5b-9ca91ae0cbc7",
   "metadata": {},
   "source": [
    "### 4.2. The new Coadd\n",
    "\n",
    "> **Help Question:** Is it unnecessary to create a new butler to access the results, as is done below? Can we just get the results directly from quanta?\n",
    "\n",
    "Create a new butler which only looks at the output collection in which the Coadd just created was stored."
   ]
  },
  {
   "cell_type": "code",
   "execution_count": null,
   "id": "ae62452f-870a-45af-add1-cd64f66ebd74",
   "metadata": {},
   "outputs": [],
   "source": [
    "my_butler = Butler(config, collections='u/melissagraham/coadd_recreation_nb/20220623T024126Z')"
   ]
  },
  {
   "cell_type": "markdown",
   "id": "31fdf85c-5a37-4284-925d-ab9d4c502c45",
   "metadata": {},
   "source": [
    "The dataId for the deepCoadd of interest was already defined:\n",
    "> `my_dataId = {'band': 'i', 'tract': my_tract, 'patch': my_patch}`\n",
    "\n",
    "Use it to retrieve the newly made Coadd (which is named deepCoadd by default) from the newly made butler."
   ]
  },
  {
   "cell_type": "code",
   "execution_count": null,
   "id": "74e56269-f945-4a69-9931-4b0b63cda199",
   "metadata": {},
   "outputs": [],
   "source": [
    "my_new_deepCoadd = my_butler.get('deepCoadd', dataId=my_dataId)"
   ]
  },
  {
   "cell_type": "markdown",
   "id": "40f23100-15af-4e0c-b036-d507eeaffe36",
   "metadata": {},
   "source": [
    "Check the inputs of my_new_deepCoadd, and compare them with the \"queryString\", and see that they match."
   ]
  },
  {
   "cell_type": "code",
   "execution_count": null,
   "id": "42a2d904-2c31-4f48-b564-a122978371f4",
   "metadata": {},
   "outputs": [],
   "source": [
    "my_new_deepCoadd_inputs = my_butler.get(\"deepCoadd.coaddInputs\", my_dataId)"
   ]
  },
  {
   "cell_type": "code",
   "execution_count": null,
   "id": "971b923c-dc89-41c1-8e79-9b30d2152343",
   "metadata": {},
   "outputs": [],
   "source": [
    "my_new_deepCoadd_inputs.visits.asAstropy()"
   ]
  },
  {
   "cell_type": "code",
   "execution_count": null,
   "id": "d4d95e88-3cc0-48bc-9c3d-db81498bdb4d",
   "metadata": {},
   "outputs": [],
   "source": [
    "print(queryString)"
   ]
  },
  {
   "cell_type": "markdown",
   "id": "a42df602-9d76-4419-9fef-25bd3fc9e874",
   "metadata": {},
   "source": [
    "Display the new Coadd."
   ]
  },
  {
   "cell_type": "code",
   "execution_count": null,
   "id": "9c4f7bb6-61ad-42d5-beab-1e09a1537864",
   "metadata": {},
   "outputs": [],
   "source": [
    "fig = plt.figure(figsize=(10, 6))\n",
    "afw_display = afwDisplay.Display(1)\n",
    "afw_display.scale('asinh', 'zscale')\n",
    "afw_display.mtv(my_new_deepCoadd.image)\n",
    "plt.gca().axis('off')"
   ]
  },
  {
   "cell_type": "code",
   "execution_count": null,
   "id": "7c6ffae8-75f7-45cb-9a43-5fd715c51dae",
   "metadata": {},
   "outputs": [],
   "source": []
  },
  {
   "cell_type": "markdown",
   "id": "e00e18d6-8b03-4d54-a8c8-11ef1152d5cc",
   "metadata": {},
   "source": [
    "### 4.3. Run source measurement on the new Coadd\n",
    "\n",
    "To be added: run source detection on new coadded image, and compare with the original deepCoadd, show how the new one is shallower."
   ]
  },
  {
   "cell_type": "code",
   "execution_count": null,
   "id": "d5de43e7-1724-427a-a828-289047828882",
   "metadata": {},
   "outputs": [],
   "source": []
  },
  {
   "cell_type": "markdown",
   "id": "3990fb27-a4a1-4ada-94db-b265a2b87417",
   "metadata": {},
   "source": [
    "## 5. Exercises for the learner\n",
    "\n",
    "Use airmass constraints instead of MJD to identify the subset of visits to coadd.\n",
    "\n",
    "> Hint: use \n",
    "> `my_coadd_visits_airmass = visitTable.loc[my_coadd_inputs.visits['id']]['airmass']`"
   ]
  },
  {
   "cell_type": "markdown",
   "id": "b078e2da-ad96-4594-bfca-31dcaeaa961c",
   "metadata": {},
   "source": [
    "## 6. Known Limitations\n",
    "\n",
    "1. In order to make multiple different deepCoadds, e.g., one per week over a multi-week period, the user needs to repeat the process starting with making the simpleButler. Each new deepCoadd would be stored with the same name, \"deepCoadd\", but with a different Butler collection timestamp. The user would be able to tell which new deepCoadd was composed of which visits using the \".coaddInputs\" as above."
   ]
  },
  {
   "cell_type": "code",
   "execution_count": null,
   "id": "aa227f57-335e-4735-a916-1ed7c83c7d09",
   "metadata": {},
   "outputs": [],
   "source": []
  }
 ],
 "metadata": {
  "kernelspec": {
   "display_name": "LSST",
   "language": "python",
   "name": "lsst"
  },
  "language_info": {
   "codemirror_mode": {
    "name": "ipython",
    "version": 3
   },
   "file_extension": ".py",
   "mimetype": "text/x-python",
   "name": "python",
   "nbconvert_exporter": "python",
   "pygments_lexer": "ipython3",
   "version": "3.10.4"
  }
 },
 "nbformat": 4,
 "nbformat_minor": 5
}
