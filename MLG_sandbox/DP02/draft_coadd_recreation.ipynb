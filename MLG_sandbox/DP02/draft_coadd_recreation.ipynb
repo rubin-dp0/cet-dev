{
 "cells": [
  {
   "cell_type": "markdown",
   "id": "88e46a87-3937-4534-ae66-8343f99049ed",
   "metadata": {},
   "source": [
    "<img align=\"left\" src = https://project.lsst.org/sites/default/files/Rubin-O-Logo_0.png width=250 style=\"padding: 10px\"> \n",
    "<b>DRAFT: Coadd Recreation</b> <br>\n",
    "Contact author(s): Melissa Graham <br>\n",
    "Last verified to run: <i>yyyy-mm-dd</i> <br>\n",
    "LSST Science Piplines version: Weekly <i>yyyy_xx</i> <br>\n",
    "Container Size: <i>medium</i> <br>\n",
    "Targeted learning level: intermediate <br>"
   ]
  },
  {
   "cell_type": "raw",
   "id": "8241df37-6f83-49d6-85da-9a96cee70972",
   "metadata": {},
   "source": [
    "TO DO:\n",
    " - complete header and introductory text\n",
    "   -- finish package list\n",
    "   -- add co-authors\n",
    "   -- move package imports from S.3. to S1.1.\n",
    " - remove/replace any remaining italics from NB template\n",
    " - S.2., instead of using deepCoadd inputs, consider querying for all calexps overlapping a location in a time window\n",
    "   -- because retrieving calexp metadata for all inputs is slower than just querying for the calexps you only want\n",
    "   -- or maybe for DP0.2 can use the new ccdVisit table to get dates of visits faster (look into it)\n",
    "   -- could teach use of deepCoadd inputs separately, or just show as a demo in this NB\n",
    " - S.3.\n",
    "   -- will monkey-use of getpass fail?"
   ]
  },
  {
   "cell_type": "code",
   "execution_count": 1,
   "id": "c3750d29-8d6c-4c65-996a-4afe8f784fab",
   "metadata": {},
   "outputs": [],
   "source": [
    "# %load_ext pycodestyle_magic\n",
    "# %flake8_on\n",
    "# import logging\n",
    "# logging.getLogger(\"flake8\").setLevel(logging.FATAL)"
   ]
  },
  {
   "cell_type": "markdown",
   "id": "985dbaac-2239-4e63-99af-069885693cd9",
   "metadata": {},
   "source": [
    "**Description:** Recreate a Coadded image from a subset of the input calexps."
   ]
  },
  {
   "cell_type": "markdown",
   "id": "835825c1-745b-4bb5-bad8-861812618231",
   "metadata": {},
   "source": [
    "**Skills:** Use of pipetasks for image coaddition. Creating and writing to Butler collections. Properties of deepCoadds."
   ]
  },
  {
   "cell_type": "markdown",
   "id": "e710443e-0f79-4a89-ae31-c07bed8e5d8d",
   "metadata": {},
   "source": [
    "**LSST Data Products:** deepCoadd, calexp"
   ]
  },
  {
   "cell_type": "markdown",
   "id": "5d2d1c4b-2893-4abc-99c3-c305338e5d05",
   "metadata": {},
   "source": [
    "**Packages:** _List the python packages used._ (_List the packages being taught first, e.g., afwDisplay for a notebook about displaying images. Then supporting packages, e.g., lsst.daf.butler for a notebook about displaying images. It is OK to leave out basic support packages like os or glob.)_"
   ]
  },
  {
   "cell_type": "markdown",
   "id": "5992b774-f0bf-49d7-8e23-7aca9788f6fb",
   "metadata": {},
   "source": [
    "**Credit:** Originally developed by Melissa Graham and Clare Saunders.\n",
    "Please consider acknowledging them if this notebook is used for the preparation of journal articles, software releases, or other notebooks."
   ]
  },
  {
   "cell_type": "markdown",
   "id": "37ebdbb7-c12d-4645-8259-13aed7872ebb",
   "metadata": {},
   "source": [
    "**Get Support:**\n",
    "Find DP0-related documentation and resources at <a href=\"https://dp0-1.lsst.io\">dp0-1.lsst.io</a>. Questions are welcome as new topics in the <a href=\"https://community.lsst.org/c/support/dp0\">Support - Data Preview 0 Category</a> of the Rubin Community Forum. Rubin staff will respond to all questions posted there."
   ]
  },
  {
   "cell_type": "markdown",
   "id": "7b41f9a0-c6b3-4279-bfe4-692ff5e9a473",
   "metadata": {},
   "source": [
    "## 1. Introduction\n",
    "\n",
    "This notebook shows how to retrieve information about the individual images that contributed to a deepCoadd, and how to make a new Coadded image using only a subset of the inputs.\n",
    "\n",
    "In the past you might have used iraf's imcombine, or Astromatics's SWarp, to coadd images.\n",
    "This notebook demonstrates the appropriate methods for coadding LSST images with the LSST Science Pipelines.\n",
    "\n",
    "Science applications of coadding a subsets of LSST images includes searching for faint, slowly-evolving transients or variables (e.g.,, coadding images by season), using the effects of differential chromatic refraction (e.g., coadding images in bins of airmass), or perhaps searching for low surface brightness features (e.g., coadding only dark-time images with the faintest sky backgrounds)."
   ]
  },
  {
   "cell_type": "markdown",
   "id": "0127a799-1cd7-4a7a-9deb-911938589161",
   "metadata": {},
   "source": [
    "### 1.1 Package Imports\n",
    "\n",
    "_Provide explanation or external links to package documentation, where appropriate._"
   ]
  },
  {
   "cell_type": "code",
   "execution_count": 2,
   "id": "4aef3e1b-efee-4d8a-9ed0-d9a910be88d3",
   "metadata": {},
   "outputs": [],
   "source": [
    "# standard python packages for numerical processing, plotting, and databases\n",
    "import time\n",
    "import getpass\n",
    "import numpy as np\n",
    "\n",
    "import matplotlib\n",
    "font = {'size' : 14}\n",
    "matplotlib.rc('font', **font)\n",
    "import matplotlib.pyplot as plt\n",
    "\n",
    "import pandas\n",
    "pandas.set_option('display.max_rows', 1000)\n",
    "\n",
    "# astropy package for time unit conversions\n",
    "from astropy.time import Time\n",
    "\n",
    "# lsst packages for data access and display\n",
    "import lsst.geom\n",
    "import lsst.afw.display as afwDisplay\n",
    "afwDisplay.setDefaultBackend('matplotlib')\n",
    "\n",
    "# import lsst.daf.butler as dafButler\n",
    "from lsst.daf.butler import Butler, DatasetType, CollectionType\n",
    "\n",
    "# lsst packages for executing pipeline tasks\n",
    "from lsst.ctrl.mpexec import SimplePipelineExecutor\n",
    "from lsst.pipe.base import Pipeline, TaskDef, Instrument"
   ]
  },
  {
   "cell_type": "markdown",
   "id": "633fe9bd-43cd-478e-81d9-d3fe6f712841",
   "metadata": {},
   "source": [
    "### 1.2 Set Up"
   ]
  },
  {
   "cell_type": "code",
   "execution_count": 3,
   "id": "9340359c-49d6-471e-af30-2b2387756468",
   "metadata": {},
   "outputs": [],
   "source": [
    "repo = 'dp02'\n",
    "collection = '2.2i/runs/DP0.2/v23_0_2/PREOPS-905/step_all'"
   ]
  },
  {
   "cell_type": "markdown",
   "id": "d26cba5a-d752-4533-a83a-ef18af149d66",
   "metadata": {},
   "source": [
    "Known issue: it is OK to ignore a pink-window message saying \"WARNING: version mismatch between CFITSIO header (v4.000999999999999) and linked library (v4.01).\""
   ]
  },
  {
   "cell_type": "code",
   "execution_count": 4,
   "id": "6dcf3f46-f9b3-4e34-b755-563f3cc67486",
   "metadata": {},
   "outputs": [
    {
     "data": {
      "text/html": [
       "<pre style=\"margin: 0.1em;\n",
       "padding-left: 0.25em;\n",
       "border-left-style: solid;\n",
       "font-family: var(--jp-code-font-family);\n",
       "font-size: var(--jp-code-font-size);\n",
       "line-height: var(--jp-code-line-height);\n",
       "\"><span style=\"color: var(--jp-warn-color2)\">botocore.credentials</span> <span style=\"color: var(--jp-info-color0)\">INFO</span>: Found credentials in shared credentials file: /home/melissagraham/.lsst/aws-credentials.ini</pre>"
      ],
      "text/plain": [
       "<IPython.core.display.HTML object>"
      ]
     },
     "metadata": {},
     "output_type": "display_data"
    },
    {
     "name": "stderr",
     "output_type": "stream",
     "text": [
      "\n",
      "WARNING: version mismatch between CFITSIO header (v4.000999999999999) and linked library (v4.01).\n",
      "\n",
      "\n",
      "WARNING: version mismatch between CFITSIO header (v4.000999999999999) and linked library (v4.01).\n",
      "\n",
      "\n",
      "WARNING: version mismatch between CFITSIO header (v4.000999999999999) and linked library (v4.01).\n",
      "\n"
     ]
    }
   ],
   "source": [
    "butler = Butler(repo, collections=collection)"
   ]
  },
  {
   "cell_type": "markdown",
   "id": "460b2aa1-d80d-4060-b45b-2d4fb51eeac9",
   "metadata": {},
   "source": [
    "Display all the deepCoadd datasetTypes available via our butler."
   ]
  },
  {
   "cell_type": "code",
   "execution_count": 5,
   "id": "be44d01d-eab6-48b2-92af-d0a3c8ec01d1",
   "metadata": {},
   "outputs": [
    {
     "name": "stdout",
     "output_type": "stream",
     "text": [
      "DatasetType('deepCoadd', {band, skymap, tract, patch}, ExposureF)\n",
      "DatasetType('deepCoadd_calexp', {band, skymap, tract, patch}, ExposureF)\n",
      "DatasetType('deepCoadd_calexp_background', {band, skymap, tract, patch}, Background)\n",
      "DatasetType('deepCoadd_dcr_ddec_consolidated_map_weighted_mean', {band, skymap}, HealSparseMap)\n",
      "DatasetType('deepCoadd_dcr_ddec_map_weighted_mean', {band, skymap, tract}, HealSparseMap)\n",
      "DatasetType('deepCoadd_dcr_dra_consolidated_map_weighted_mean', {band, skymap}, HealSparseMap)\n",
      "DatasetType('deepCoadd_dcr_dra_map_weighted_mean', {band, skymap, tract}, HealSparseMap)\n",
      "DatasetType('deepCoadd_dcr_e1_consolidated_map_weighted_mean', {band, skymap}, HealSparseMap)\n",
      "DatasetType('deepCoadd_dcr_e1_map_weighted_mean', {band, skymap, tract}, HealSparseMap)\n",
      "DatasetType('deepCoadd_dcr_e2_consolidated_map_weighted_mean', {band, skymap}, HealSparseMap)\n",
      "DatasetType('deepCoadd_dcr_e2_map_weighted_mean', {band, skymap, tract}, HealSparseMap)\n",
      "DatasetType('deepCoadd_deblendedCatalog', {skymap, tract, patch}, SourceCatalog)\n",
      "DatasetType('deepCoadd_deblendedFlux', {band, skymap, tract, patch}, SourceCatalog)\n",
      "DatasetType('deepCoadd_deblendedFlux_schema', {}, SourceCatalog)\n",
      "DatasetType('deepCoadd_deblendedModel', {band, skymap, tract, patch}, SourceCatalog)\n",
      "DatasetType('deepCoadd_deblendedModel_schema', {}, SourceCatalog)\n",
      "DatasetType('deepCoadd_det', {band, skymap, tract, patch}, SourceCatalog)\n",
      "DatasetType('deepCoadd_det_schema', {}, SourceCatalog)\n",
      "DatasetType('deepCoadd_directWarp', {band, instrument, skymap, physical_filter, tract, visit_system, patch, visit}, ExposureF)\n",
      "DatasetType('deepCoadd_exposure_time_consolidated_map_sum', {band, skymap}, HealSparseMap)\n",
      "DatasetType('deepCoadd_exposure_time_map_sum', {band, skymap, tract}, HealSparseMap)\n",
      "DatasetType('deepCoadd_forced_src', {band, skymap, tract, patch}, SourceCatalog)\n",
      "DatasetType('deepCoadd_forced_src_schema', {}, SourceCatalog)\n",
      "DatasetType('deepCoadd_hpx', {band, healpix11}, ExposureF)\n",
      "DatasetType('deepCoadd_inputMap', {band, skymap, tract, patch}, HealSparseMap)\n",
      "DatasetType('deepCoadd_mcalmax_deblended', {skymap, tract, patch}, SourceCatalog)\n",
      "DatasetType('deepCoadd_mcalmax_deblended_schema', {}, SourceCatalog)\n",
      "DatasetType('deepCoadd_meas', {band, skymap, tract, patch}, SourceCatalog)\n",
      "DatasetType('deepCoadd_measMatch', {band, skymap, tract, patch}, Catalog)\n",
      "DatasetType('deepCoadd_measMatchFull', {band, skymap, tract, patch}, Catalog)\n",
      "DatasetType('deepCoadd_meas_schema', {}, SourceCatalog)\n",
      "DatasetType('deepCoadd_mergeDet', {skymap, tract, patch}, SourceCatalog)\n",
      "DatasetType('deepCoadd_mergeDet_schema', {}, SourceCatalog)\n",
      "DatasetType('deepCoadd_multiprofit', {skymap, tract, patch}, SourceCatalog)\n",
      "DatasetType('deepCoadd_multiprofit_schema', {}, SourceCatalog)\n",
      "DatasetType('deepCoadd_nImage', {band, skymap, tract, patch}, ImageU)\n",
      "DatasetType('deepCoadd_ngmix_deblended', {skymap, tract, patch}, SourceCatalog)\n",
      "DatasetType('deepCoadd_ngmix_deblended_schema', {}, SourceCatalog)\n",
      "DatasetType('deepCoadd_obj', {skymap, tract, patch}, DataFrame)\n",
      "DatasetType('deepCoadd_peak_schema', {}, PeakCatalog)\n",
      "DatasetType('deepCoadd_psfMatchedWarp', {band, instrument, skymap, physical_filter, tract, visit_system, patch, visit}, ExposureF)\n",
      "DatasetType('deepCoadd_psf_e1_consolidated_map_weighted_mean', {band, skymap}, HealSparseMap)\n",
      "DatasetType('deepCoadd_psf_e1_map_weighted_mean', {band, skymap, tract}, HealSparseMap)\n",
      "DatasetType('deepCoadd_psf_e2_consolidated_map_weighted_mean', {band, skymap}, HealSparseMap)\n",
      "DatasetType('deepCoadd_psf_e2_map_weighted_mean', {band, skymap, tract}, HealSparseMap)\n",
      "DatasetType('deepCoadd_psf_maglim_consolidated_map_weighted_mean', {band, skymap}, HealSparseMap)\n",
      "DatasetType('deepCoadd_psf_maglim_map_weighted_mean', {band, skymap, tract}, HealSparseMap)\n",
      "DatasetType('deepCoadd_psf_size_consolidated_map_weighted_mean', {band, skymap}, HealSparseMap)\n",
      "DatasetType('deepCoadd_psf_size_map_weighted_mean', {band, skymap, tract}, HealSparseMap)\n",
      "DatasetType('deepCoadd_ref', {skymap, tract, patch}, SourceCatalog)\n",
      "DatasetType('deepCoadd_ref_schema', {}, SourceCatalog)\n",
      "DatasetType('deepCoadd_scarletModelData', {skymap, tract, patch}, ScarletModelData)\n",
      "DatasetType('deepCoadd_sky_background_consolidated_map_weighted_mean', {band, skymap}, HealSparseMap)\n",
      "DatasetType('deepCoadd_sky_background_map_weighted_mean', {band, skymap, tract}, HealSparseMap)\n",
      "DatasetType('deepCoadd_sky_noise_consolidated_map_weighted_mean', {band, skymap}, HealSparseMap)\n",
      "DatasetType('deepCoadd_sky_noise_map_weighted_mean', {band, skymap, tract}, HealSparseMap)\n"
     ]
    }
   ],
   "source": [
    "for x in sorted(butler.registry.queryDatasetTypes()):\n",
    "    temp = str(x)\n",
    "    if temp.find('deepCoadd') > -1:\n",
    "        print(x)\n",
    "    del temp"
   ]
  },
  {
   "cell_type": "markdown",
   "id": "c42ce015-7441-4155-bc6c-201d4118efce",
   "metadata": {},
   "source": [
    "## 2. Identify the visits to combine\n",
    "\n",
    "### 2.1. Start with a deepCoadd\n",
    "\n",
    "Identify and retrieve the deepCoadd to be recreated.\n",
    "\n",
    "For this example, the coordinates of a known galaxy cluster are used.\n",
    "\n",
    "It takes 4-5 seconds to retrieve a single deepCoadd from the butler."
   ]
  },
  {
   "cell_type": "code",
   "execution_count": 6,
   "id": "6e5849dd-f51c-4443-b3b9-48f73b5b3eae",
   "metadata": {},
   "outputs": [
    {
     "name": "stdout",
     "output_type": "stream",
     "text": [
      "My tract and patch:  4431 17\n",
      "CPU times: user 3.29 s, sys: 1.07 s, total: 4.35 s\n",
      "Wall time: 5.14 s\n"
     ]
    }
   ],
   "source": [
    "%%time\n",
    "\n",
    "my_ra_deg = 55.745834\n",
    "my_dec_deg = -32.269167\n",
    "\n",
    "my_spherePoint = lsst.geom.SpherePoint(my_ra_deg*lsst.geom.degrees,\n",
    "                                       my_dec_deg*lsst.geom.degrees)\n",
    "\n",
    "skymap = butler.get('skyMap')\n",
    "tract = skymap.findTract(my_spherePoint)\n",
    "my_tract = tract.tract_id\n",
    "my_patch = tract.findPatch(my_spherePoint).getSequentialIndex()\n",
    "print('My tract and patch: ', my_tract, my_patch)\n",
    "\n",
    "my_dataId = {'band': 'i', 'tract': my_tract, \n",
    "             'patch': my_patch}\n",
    "my_deepCoadd = butler.get('deepCoadd', dataId=my_dataId)\n",
    "\n",
    "# clean up\n",
    "del my_ra_deg, my_dec_deg, my_spherePoint, tract"
   ]
  },
  {
   "cell_type": "markdown",
   "id": "88c4d270-a2bf-4d35-a5c8-560fd1e675b7",
   "metadata": {},
   "source": [
    "Uncomment the following cell to show the deepCoadd image."
   ]
  },
  {
   "cell_type": "code",
   "execution_count": 7,
   "id": "6ed19ab9-d079-42e4-bff4-55eeef94afcb",
   "metadata": {},
   "outputs": [],
   "source": [
    "# fig = plt.figure(figsize=(6, 4))\n",
    "# afw_display = afwDisplay.Display(1)\n",
    "# afw_display.scale('asinh', 'zscale')\n",
    "# afw_display.mtv(my_deepCoadd.image)\n",
    "# plt.gca().axis('off')"
   ]
  },
  {
   "cell_type": "markdown",
   "id": "34b35b55-74d4-422e-bf9d-a13c1aab45c1",
   "metadata": {},
   "source": [
    "It is not necessary to know the bounding box for a deepCoadd in order to find all of the calexps that were used to assemble it.\n",
    "But, if you want to learn more about the deepCoadd metadata, such as bounding box, corners, and the World Coordinate System (WCS), uncomment and execute the following cells."
   ]
  },
  {
   "cell_type": "code",
   "execution_count": 8,
   "id": "8c89c7e6-e96d-4135-9e44-06b84987ffb2",
   "metadata": {},
   "outputs": [],
   "source": [
    "# my_deepCoadd_bbox = butler.get('deepCoadd.bbox', dataId=my_dataId)\n",
    "# print('bbox')\n",
    "# print(my_deepCoadd_bbox.beginX, my_deepCoadd_bbox.beginY, \n",
    "#       my_deepCoadd_bbox.endX, my_deepCoadd_bbox.endY)\n",
    "\n",
    "# print('')\n",
    "# print('corners')\n",
    "# print(my_deepCoadd_bbox.getCorners())\n",
    "\n",
    "# print('')\n",
    "# print('wcs')\n",
    "# my_deepCoadd_wcs = butler.get('deepCoadd.wcs', dataId=my_dataId)\n",
    "# print(my_deepCoadd_wcs)\n",
    "\n",
    "# # clean up\n",
    "# del my_deepCoadd_bbox, my_deepCoadd_wcs"
   ]
  },
  {
   "cell_type": "markdown",
   "id": "92be360e-c8d0-4b99-be77-827561954c5b",
   "metadata": {},
   "source": [
    "### 2.2. Retrieve the deepCoadd's input visits\n",
    "\n",
    "It takes 2-3 seconds to retrieve the coadd inputs from the butler."
   ]
  },
  {
   "cell_type": "code",
   "execution_count": 9,
   "id": "b8c4f4b7-2447-4361-96c9-ca805d9106df",
   "metadata": {},
   "outputs": [
    {
     "name": "stdout",
     "output_type": "stream",
     "text": [
      "CPU times: user 1.76 s, sys: 982 ms, total: 2.75 s\n",
      "Wall time: 2.38 s\n"
     ]
    }
   ],
   "source": [
    "%%time\n",
    "\n",
    "my_coadd_inputs = butler.get(\"deepCoadd_calexp.coaddInputs\", my_dataId)"
   ]
  },
  {
   "cell_type": "markdown",
   "id": "273ada69-3204-426d-9bec-a12d54dcfceb",
   "metadata": {},
   "source": [
    "The coadd inputs table of visits can be displayed as an astropy table, if you want to view the contents."
   ]
  },
  {
   "cell_type": "code",
   "execution_count": 10,
   "id": "6708a08e-7cfb-429b-a121-7b918aa27b73",
   "metadata": {},
   "outputs": [],
   "source": [
    "# my_coadd_inputs.visits.asAstropy()"
   ]
  },
  {
   "cell_type": "markdown",
   "id": "15e26c9d-e8b1-4f9d-93f7-0a37545c3d4c",
   "metadata": {},
   "source": [
    "The length of this table, 161, indicates that 161 separate visits contributed to this deepCoadd."
   ]
  },
  {
   "cell_type": "code",
   "execution_count": 11,
   "id": "ae810206-6d17-42d9-96df-3560cf711e94",
   "metadata": {},
   "outputs": [
    {
     "data": {
      "text/plain": [
       "161"
      ]
     },
     "execution_count": 11,
     "metadata": {},
     "output_type": "execute_result"
    }
   ],
   "source": [
    "len(my_coadd_inputs.visits)"
   ]
  },
  {
   "cell_type": "markdown",
   "id": "fc08dafe-6a6a-4d04-8b0b-ca25b33b37ed",
   "metadata": {},
   "source": [
    "It is not necessary to make a list of all deepCoadd input visit ids, but if you wanted to, you could do it and display it like this."
   ]
  },
  {
   "cell_type": "code",
   "execution_count": 12,
   "id": "d54bbfd1-497f-4875-a5c8-707c1bf82193",
   "metadata": {},
   "outputs": [],
   "source": [
    "# my_coadd_visits = my_coadd_inputs.visits['id']\n",
    "# my_coadd_visits"
   ]
  },
  {
   "cell_type": "markdown",
   "id": "cd7f0a95-9d41-44d1-aff7-6f6b59f77eeb",
   "metadata": {},
   "source": [
    "### 2.3. Get metadata for the input visits\n",
    "\n",
    "Retrieve the modified julian date (MJD) of the input visits from the visitTable.\n",
    "\n",
    "First, get the entire visit table."
   ]
  },
  {
   "cell_type": "code",
   "execution_count": 13,
   "id": "027cdc0f-0d1d-4330-83a9-ca8d67932044",
   "metadata": {},
   "outputs": [],
   "source": [
    "visitTableRef = list(butler.registry.queryDatasets('visitTable'))"
   ]
  },
  {
   "cell_type": "code",
   "execution_count": 14,
   "id": "507f8f87-6759-4afd-b4a7-fbaa2f2182b6",
   "metadata": {},
   "outputs": [],
   "source": [
    "# visitTableRef"
   ]
  },
  {
   "cell_type": "code",
   "execution_count": 15,
   "id": "35cbbfe6-11b1-4500-baf3-cba58d529bf8",
   "metadata": {},
   "outputs": [],
   "source": [
    "visitTable = butler.get(visitTableRef[0])"
   ]
  },
  {
   "cell_type": "code",
   "execution_count": 16,
   "id": "a31b7e5c-df48-44f6-8854-b073f701ed1c",
   "metadata": {},
   "outputs": [],
   "source": [
    "# visitTable"
   ]
  },
  {
   "cell_type": "markdown",
   "id": "1e628388-4a7b-4197-8aaa-80b925f5995d",
   "metadata": {},
   "source": [
    "The fact that the id column for both the my_coadd_inputs.vists table and the visitTable is the visit number (visit id) makes it simple to retrieve the MJDs of our coadd input visits."
   ]
  },
  {
   "cell_type": "code",
   "execution_count": 17,
   "id": "1c1a95b0-2702-4e2f-b6bf-b81f32ee918d",
   "metadata": {},
   "outputs": [],
   "source": [
    "my_coadd_visits_mjds = visitTable.loc[my_coadd_inputs.visits['id']]['expMidptMJD']"
   ]
  },
  {
   "cell_type": "markdown",
   "id": "f85ea9a3-0711-4f77-a309-15f403e6bcb5",
   "metadata": {},
   "source": [
    "These list of MJDs have 161 elements, for the 161 separate visits contributed to this deepCoadd."
   ]
  },
  {
   "cell_type": "code",
   "execution_count": 18,
   "id": "95c50262-b42c-4151-b862-26e7ba8af02c",
   "metadata": {},
   "outputs": [
    {
     "data": {
      "text/plain": [
       "161"
      ]
     },
     "execution_count": 18,
     "metadata": {},
     "output_type": "execute_result"
    }
   ],
   "source": [
    "len(my_coadd_visits_mjds)"
   ]
  },
  {
   "cell_type": "markdown",
   "id": "c0abddb8-f601-4388-b838-5e3dae9308f3",
   "metadata": {},
   "source": [
    "### 2.4. Identify input visits to recreate Coadd\n",
    "\n",
    "Identify input visits with MJD between 60925 abd 60955."
   ]
  },
  {
   "cell_type": "code",
   "execution_count": 19,
   "id": "dd205feb-436a-40e7-8119-6b2944255533",
   "metadata": {},
   "outputs": [
    {
     "data": {
      "image/png": "[encoded data removed]",
      "text/plain": [
       "<Figure size 720x720 with 2 Axes>"
      ]
     },
     "metadata": {
      "needs_background": "light"
     },
     "output_type": "display_data"
    }
   ],
   "source": [
    "range_start = 60925\n",
    "range_end = 60955\n",
    "\n",
    "fig, ax = plt.subplots( 2, figsize=(10,10) )\n",
    "\n",
    "ax[0].hist(my_coadd_visits_mjds, bins=150, color='dodgerblue')\n",
    "ax[0].set_xlabel('MJD')\n",
    "ax[0].set_ylabel('Number of Visits')\n",
    "ax[0].axvline(range_start, ls='dashed', color='darkorange')\n",
    "ax[0].axvline(range_end, ls='dashed', color='darkorange')\n",
    "\n",
    "ax[1].hist(my_coadd_visits_mjds, bins=150, color='dodgerblue')\n",
    "ax[1].set_xlabel('MJD')\n",
    "ax[1].set_ylabel('Number of Visits')\n",
    "ax[1].set_xlim([60880,60985])\n",
    "ax[1].axvline(range_start, ls='dashed', color='darkorange')\n",
    "ax[1].axvline(range_end, ls='dashed', color='darkorange')\n",
    "ax[1].text(range_start+1, 7.5, 'date range', color='darkorange')\n",
    "ax[1].text(range_start+1, 7.0, 'of interest', color='darkorange')\n",
    "\n",
    "plt.show()"
   ]
  },
  {
   "cell_type": "markdown",
   "id": "bd659dea-4c4d-4592-a93b-fc93e7ee9344",
   "metadata": {},
   "source": [
    "From the lower plot above, there are 6 visits in the data range of interest.\n",
    "\n",
    "Put this list of visits into a string, formatted as a tuple (within round brackets and separated by commas) for use in a query below."
   ]
  },
  {
   "cell_type": "code",
   "execution_count": 20,
   "id": "507e6561-4186-4287-bac8-795c783a5d54",
   "metadata": {},
   "outputs": [
    {
     "name": "stdout",
     "output_type": "stream",
     "text": [
      "(919515,924057,924085,924086,929477,930353)\n"
     ]
    }
   ],
   "source": [
    "my_range = np.array((my_coadd_visits_mjds > range_start) & \n",
    "                    (my_coadd_visits_mjds < range_end))\n",
    "\n",
    "my_visits = my_coadd_inputs.visits[my_range]\n",
    "\n",
    "my_visits_tupleString = \"(\"+\",\".join(my_visits['id'].astype(str))+\")\"\n",
    "print(my_visits_tupleString)"
   ]
  },
  {
   "cell_type": "markdown",
   "id": "1bbfb458-113c-4a38-ab95-953dbf2b2e2c",
   "metadata": {},
   "source": [
    "Confirm that the intermediate data products which we will need in Section 3, the `deepCoadd_directWarp`, exist."
   ]
  },
  {
   "cell_type": "code",
   "execution_count": 23,
   "id": "37878641-6a1f-46b7-9cd0-a3978bd3dc30",
   "metadata": {},
   "outputs": [
    {
     "name": "stdout",
     "output_type": "stream",
     "text": [
      "DatasetType('deepCoadd_directWarp', {band, instrument, skymap, physical_filter, tract, visit_system, patch, visit}, ExposureF)\n"
     ]
    }
   ],
   "source": [
    "for x in sorted(butler.registry.queryDatasetTypes()):\n",
    "    temp = str(x)\n",
    "    if temp.find('directWarp') > -1:\n",
    "        print(x)\n",
    "    del temp"
   ]
  },
  {
   "cell_type": "code",
   "execution_count": 22,
   "id": "67853b3f-af76-41c2-a0eb-ae1dd39a7d17",
   "metadata": {},
   "outputs": [
    {
     "ename": "LookupError",
     "evalue": "Dataset deepCoadd_directWarp with data ID {instrument: 'LSSTCam-imSim', skymap: 'DC2', tract: 4431, patch: 17, visit: 919515} could not be found in collections [2.2i/runs/DP0.2/v23_0_2/PREOPS-905/step_all].",
     "output_type": "error",
     "traceback": [
      "\u001b[0;31m---------------------------------------------------------------------------\u001b[0m",
      "\u001b[0;31mLookupError\u001b[0m                               Traceback (most recent call last)",
      "Input \u001b[0;32mIn [22]\u001b[0m, in \u001b[0;36m<cell line: 2>\u001b[0;34m()\u001b[0m\n\u001b[1;32m      1\u001b[0m checkwarp_dataId \u001b[38;5;241m=\u001b[39m {\u001b[38;5;124m'\u001b[39m\u001b[38;5;124mtract\u001b[39m\u001b[38;5;124m'\u001b[39m: \u001b[38;5;241m4431\u001b[39m, \u001b[38;5;124m'\u001b[39m\u001b[38;5;124mpatch\u001b[39m\u001b[38;5;124m'\u001b[39m: \u001b[38;5;241m17\u001b[39m, \u001b[38;5;124m'\u001b[39m\u001b[38;5;124mskymap\u001b[39m\u001b[38;5;124m'\u001b[39m: \u001b[38;5;124m'\u001b[39m\u001b[38;5;124mDC2\u001b[39m\u001b[38;5;124m'\u001b[39m, \u001b[38;5;124m'\u001b[39m\u001b[38;5;124mvisit\u001b[39m\u001b[38;5;124m'\u001b[39m: \u001b[38;5;124m'\u001b[39m\u001b[38;5;124m919515\u001b[39m\u001b[38;5;124m'\u001b[39m}\n\u001b[0;32m----> 2\u001b[0m checkwarp_deepCoadd \u001b[38;5;241m=\u001b[39m \u001b[43mbutler\u001b[49m\u001b[38;5;241;43m.\u001b[39;49m\u001b[43mget\u001b[49m\u001b[43m(\u001b[49m\u001b[38;5;124;43m'\u001b[39;49m\u001b[38;5;124;43mdeepCoadd_directWarp\u001b[39;49m\u001b[38;5;124;43m'\u001b[39;49m\u001b[43m,\u001b[49m\u001b[43m \u001b[49m\u001b[43mdataId\u001b[49m\u001b[38;5;241;43m=\u001b[39;49m\u001b[43mcheckwarp_dataId\u001b[49m\u001b[43m)\u001b[49m\n",
      "File \u001b[0;32m/opt/lsst/software/stack/stack/miniconda3-py38_4.9.2-4.0.0/Linux64/daf_butler/g23f6d281cf+3bb374b9e1/python/lsst/daf/butler/_butler.py:1332\u001b[0m, in \u001b[0;36mButler.get\u001b[0;34m(self, datasetRefOrType, dataId, parameters, collections, **kwargs)\u001b[0m\n\u001b[1;32m   1283\u001b[0m \u001b[38;5;124;03m\"\"\"Retrieve a stored dataset.\u001b[39;00m\n\u001b[1;32m   1284\u001b[0m \n\u001b[1;32m   1285\u001b[0m \u001b[38;5;124;03mParameters\u001b[39;00m\n\u001b[0;32m   (...)\u001b[0m\n\u001b[1;32m   1329\u001b[0m \u001b[38;5;124;03m``exposure`` is a temporal dimension.\u001b[39;00m\n\u001b[1;32m   1330\u001b[0m \u001b[38;5;124;03m\"\"\"\u001b[39;00m\n\u001b[1;32m   1331\u001b[0m log\u001b[38;5;241m.\u001b[39mdebug(\u001b[38;5;124m\"\u001b[39m\u001b[38;5;124mButler get: \u001b[39m\u001b[38;5;132;01m%s\u001b[39;00m\u001b[38;5;124m, dataId=\u001b[39m\u001b[38;5;132;01m%s\u001b[39;00m\u001b[38;5;124m, parameters=\u001b[39m\u001b[38;5;132;01m%s\u001b[39;00m\u001b[38;5;124m\"\u001b[39m, datasetRefOrType, dataId, parameters)\n\u001b[0;32m-> 1332\u001b[0m ref \u001b[38;5;241m=\u001b[39m \u001b[38;5;28;43mself\u001b[39;49m\u001b[38;5;241;43m.\u001b[39;49m\u001b[43m_findDatasetRef\u001b[49m\u001b[43m(\u001b[49m\u001b[43mdatasetRefOrType\u001b[49m\u001b[43m,\u001b[49m\u001b[43m \u001b[49m\u001b[43mdataId\u001b[49m\u001b[43m,\u001b[49m\u001b[43m \u001b[49m\u001b[43mcollections\u001b[49m\u001b[38;5;241;43m=\u001b[39;49m\u001b[43mcollections\u001b[49m\u001b[43m,\u001b[49m\u001b[43m \u001b[49m\u001b[38;5;241;43m*\u001b[39;49m\u001b[38;5;241;43m*\u001b[39;49m\u001b[43mkwargs\u001b[49m\u001b[43m)\u001b[49m\n\u001b[1;32m   1333\u001b[0m \u001b[38;5;28;01mreturn\u001b[39;00m \u001b[38;5;28mself\u001b[39m\u001b[38;5;241m.\u001b[39mgetDirect(ref, parameters\u001b[38;5;241m=\u001b[39mparameters)\n",
      "File \u001b[0;32m/opt/lsst/software/stack/stack/miniconda3-py38_4.9.2-4.0.0/Linux64/daf_butler/g23f6d281cf+3bb374b9e1/python/lsst/daf/butler/_butler.py:1048\u001b[0m, in \u001b[0;36mButler._findDatasetRef\u001b[0;34m(self, datasetRefOrType, dataId, collections, allowUnresolved, **kwargs)\u001b[0m\n\u001b[1;32m   1046\u001b[0m         \u001b[38;5;28;01mif\u001b[39;00m collections \u001b[38;5;129;01mis\u001b[39;00m \u001b[38;5;28;01mNone\u001b[39;00m:\n\u001b[1;32m   1047\u001b[0m             collections \u001b[38;5;241m=\u001b[39m \u001b[38;5;28mself\u001b[39m\u001b[38;5;241m.\u001b[39mregistry\u001b[38;5;241m.\u001b[39mdefaults\u001b[38;5;241m.\u001b[39mcollections\n\u001b[0;32m-> 1048\u001b[0m         \u001b[38;5;28;01mraise\u001b[39;00m \u001b[38;5;167;01mLookupError\u001b[39;00m(\n\u001b[1;32m   1049\u001b[0m             \u001b[38;5;124mf\u001b[39m\u001b[38;5;124m\"\u001b[39m\u001b[38;5;124mDataset \u001b[39m\u001b[38;5;132;01m{\u001b[39;00mdatasetType\u001b[38;5;241m.\u001b[39mname\u001b[38;5;132;01m}\u001b[39;00m\u001b[38;5;124m with data ID \u001b[39m\u001b[38;5;132;01m{\u001b[39;00mdataId\u001b[38;5;132;01m}\u001b[39;00m\u001b[38;5;124m \u001b[39m\u001b[38;5;124m\"\u001b[39m\n\u001b[1;32m   1050\u001b[0m             \u001b[38;5;124mf\u001b[39m\u001b[38;5;124m\"\u001b[39m\u001b[38;5;124mcould not be found in collections \u001b[39m\u001b[38;5;132;01m{\u001b[39;00mcollections\u001b[38;5;132;01m}\u001b[39;00m\u001b[38;5;124m.\u001b[39m\u001b[38;5;124m\"\u001b[39m\n\u001b[1;32m   1051\u001b[0m         )\n\u001b[1;32m   1052\u001b[0m \u001b[38;5;28;01mif\u001b[39;00m idNumber \u001b[38;5;129;01mis\u001b[39;00m \u001b[38;5;129;01mnot\u001b[39;00m \u001b[38;5;28;01mNone\u001b[39;00m \u001b[38;5;129;01mand\u001b[39;00m idNumber \u001b[38;5;241m!=\u001b[39m ref\u001b[38;5;241m.\u001b[39mid:\n\u001b[1;32m   1053\u001b[0m     \u001b[38;5;28;01mif\u001b[39;00m collections \u001b[38;5;129;01mis\u001b[39;00m \u001b[38;5;28;01mNone\u001b[39;00m:\n",
      "\u001b[0;31mLookupError\u001b[0m: Dataset deepCoadd_directWarp with data ID {instrument: 'LSSTCam-imSim', skymap: 'DC2', tract: 4431, patch: 17, visit: 919515} could not be found in collections [2.2i/runs/DP0.2/v23_0_2/PREOPS-905/step_all]."
     ]
    }
   ],
   "source": [
    "checkwarp_dataId = {'tract': 4431, 'patch': 17, 'skymap': 'DC2', 'visit': '919515'}\n",
    "checkwarp_deepCoadd = butler.get('deepCoadd_directWarp', dataId=checkwarp_dataId)"
   ]
  },
  {
   "cell_type": "code",
   "execution_count": 24,
   "id": "f76d5ee1-bb23-4689-bd06-e19c50099790",
   "metadata": {},
   "outputs": [
    {
     "ename": "NameError",
     "evalue": "name 'checkwarp_deepCoadd' is not defined",
     "output_type": "error",
     "traceback": [
      "\u001b[0;31m---------------------------------------------------------------------------\u001b[0m",
      "\u001b[0;31mNameError\u001b[0m                                 Traceback (most recent call last)",
      "Input \u001b[0;32mIn [24]\u001b[0m, in \u001b[0;36m<cell line: 1>\u001b[0;34m()\u001b[0m\n\u001b[0;32m----> 1\u001b[0m \u001b[38;5;28;01mdel\u001b[39;00m checkwarp_dataId, checkwarp_deepCoadd\n",
      "\u001b[0;31mNameError\u001b[0m: name 'checkwarp_deepCoadd' is not defined"
     ]
    }
   ],
   "source": [
    "del checkwarp_dataId, checkwarp_deepCoadd"
   ]
  },
  {
   "cell_type": "markdown",
   "id": "0654bca6-5b8a-46f1-8f8d-0da1c5707cba",
   "metadata": {},
   "source": [
    "OK, our visit of interest has no directWarp; are there any?"
   ]
  },
  {
   "cell_type": "code",
   "execution_count": 28,
   "id": "95077f82-a596-4b66-9320-5dd73a363767",
   "metadata": {},
   "outputs": [],
   "source": [
    "datasetRefs = butler.registry.queryDatasets(datasetType='deepCoadd_directWarp', \n",
    "                                     collections=collection)\n",
    "\n",
    "for i, ref in enumerate(datasetRefs):\n",
    "    print(i)\n",
    "    print(ref.dataId.full)\n",
    "    print(ref.dataId)\n",
    "    print(ref.dataId['band'])\n",
    "    print(' ')\n",
    "    if i > 2:\n",
    "        break"
   ]
  },
  {
   "cell_type": "markdown",
   "id": "0ebd49cf-08fd-48b9-9515-efa8450ffdaa",
   "metadata": {},
   "source": [
    "No there are not..."
   ]
  },
  {
   "cell_type": "code",
   "execution_count": 29,
   "id": "257b2298-260f-4cb1-8ff6-3fa5c60c4e5d",
   "metadata": {},
   "outputs": [],
   "source": [
    "del datasetRefs"
   ]
  },
  {
   "cell_type": "markdown",
   "id": "0ab63b2b-83fa-46ef-8926-ccb022302221",
   "metadata": {},
   "source": [
    "### 2.5. Exercise for the learner\n",
    "\n",
    "Use airmass constraints instead of MJD to identify the subset of visits to coadd.\n",
    "\n",
    "> Hint: start with \n",
    "> `my_coadd_visits_airmass = visitTable.loc[my_coadd_inputs.visits['id']]['airmass']`"
   ]
  },
  {
   "cell_type": "markdown",
   "id": "38f882d3-026a-4de7-920a-56072bfd5f96",
   "metadata": {},
   "source": [
    "## 3. Create a coadd with the subset of visits "
   ]
  },
  {
   "cell_type": "markdown",
   "id": "a86fe32e-0c36-4e50-a2b4-98d36ed1b3b1",
   "metadata": {},
   "source": [
    "### 3.1. Name a new butler collection for output\n",
    "\n",
    "**Important:** Use the convention `u/[Your User Name]/coadd_recreation_nb` to set up a new output collection for this tutorial.\n",
    "\n",
    "Recall that RSP user names are the same as GitHub user names, because GitHub accounts are used to authorize access to the RSP."
   ]
  },
  {
   "cell_type": "code",
   "execution_count": null,
   "id": "68013bdf-2624-48c5-9002-95afb351fef8",
   "metadata": {},
   "outputs": [],
   "source": [
    "my_username = getpass.getuser()\n",
    "my_outputCollection = 'u/'+my_username+'/coadd_recreation_nb'\n",
    "print(my_outputCollection)"
   ]
  },
  {
   "cell_type": "markdown",
   "id": "0c4c35fd-402a-4878-80d4-0402e3740ff3",
   "metadata": {},
   "source": [
    "Does this output collection already exist? If nothing is printed below this cell, the output collection does not already exist."
   ]
  },
  {
   "cell_type": "code",
   "execution_count": null,
   "id": "1814025e-a06b-41c8-8b56-b5d7fcde04d5",
   "metadata": {},
   "outputs": [],
   "source": [
    "for c in sorted(butler.registry.queryCollections()):\n",
    "    if c.find(my_outputCollection) > -1:\n",
    "        print(c)"
   ]
  },
  {
   "cell_type": "markdown",
   "id": "85571792-1b1d-4e17-9c1a-1d3a74bd86c7",
   "metadata": {},
   "source": [
    "#### 3.1.1. To delete these collection you have already made\n",
    "\n",
    "Instantiate a temporary butler with write permissions and remove the collection by name."
   ]
  },
  {
   "cell_type": "code",
   "execution_count": null,
   "id": "3dcbfe56-31d7-4f56-be73-19f88811b53a",
   "metadata": {},
   "outputs": [],
   "source": [
    "for c in sorted(butler.registry.queryCollections()):\n",
    "    if c.find(my_outputCollection) > -1:\n",
    "        print('Found: ', c)\n",
    "        try:\n",
    "            tmpButler = Butler(repo, writeable=True)\n",
    "            tmpButler.registry.removeCollection(c)\n",
    "            print('Removed: ', c)\n",
    "        except:\n",
    "            print('Could not remove: ', c)\n",
    "        del tmpButler"
   ]
  },
  {
   "cell_type": "markdown",
   "id": "323bde7d-5a93-44ac-a02b-8709a78f6050",
   "metadata": {},
   "source": [
    "<br>\n",
    "Remove the originally instantiated butler, because below, a simple butler is created and used thereafter."
   ]
  },
  {
   "cell_type": "code",
   "execution_count": null,
   "id": "22a9d72a-46d9-4791-97d2-45cb20fae8dd",
   "metadata": {},
   "outputs": [],
   "source": [
    "del butler"
   ]
  },
  {
   "cell_type": "markdown",
   "id": "5d12d1c6-fd47-4c6e-845c-9e10bccc22d2",
   "metadata": {},
   "source": [
    "### 3.2. Set up a simple butler with the new output collection"
   ]
  },
  {
   "cell_type": "markdown",
   "id": "a3763cc6-1f00-43dd-affb-193b78b4f7be",
   "metadata": {},
   "source": [
    "> **When DM-35153 is fixed, this will be possible.**"
   ]
  },
  {
   "cell_type": "code",
   "execution_count": null,
   "id": "4cfe54ed-d543-452c-ab45-72e6573aaa8e",
   "metadata": {},
   "outputs": [],
   "source": [
    "# simpleButler = SimplePipelineExecutor.prep_butler(repo, inputs=[collection],\n",
    "#                                                   output=my_outputCollection)"
   ]
  },
  {
   "cell_type": "markdown",
   "id": "871f03ef-ac23-429d-b3a8-7188cc15af49",
   "metadata": {},
   "source": [
    "> **For now, this is the workaround.** If this goes to production, explain every command with a comment."
   ]
  },
  {
   "cell_type": "code",
   "execution_count": null,
   "id": "c9431dfe-de6f-45f1-b083-09a3b83de627",
   "metadata": {},
   "outputs": [],
   "source": [
    "outputRun = f\"{my_outputCollection}/{Instrument.makeCollectionTimestamp()}\"\n",
    "\n",
    "tmpButler = Butler(repo, writeable=True)\n",
    "tmpButler.registry.registerCollection(outputRun, CollectionType.RUN)\n",
    "tmpButler.registry.registerCollection(my_outputCollection, CollectionType.CHAINED)\n",
    "\n",
    "collections = [collection]\n",
    "collections.insert(0, outputRun)\n",
    "\n",
    "tmpButler.registry.setCollectionChain(my_outputCollection, collections)\n",
    "\n",
    "simpleButler = Butler(butler=tmpButler, collections=[my_outputCollection], run=outputRun)"
   ]
  },
  {
   "cell_type": "markdown",
   "id": "33abd84d-f4d5-4dbf-8feb-15308c42c773",
   "metadata": {},
   "source": [
    "Check that the subdirectory of the newly created output collection is first in the list.\n",
    "\n",
    "Note that the collection has had a timestamp added."
   ]
  },
  {
   "cell_type": "code",
   "execution_count": null,
   "id": "46962fa6-ef50-4933-9d5d-7f66c22a23c8",
   "metadata": {},
   "outputs": [],
   "source": [
    "simpleButler.registry.getCollectionChain(my_outputCollection)"
   ]
  },
  {
   "cell_type": "markdown",
   "id": "cec8f5a4-74bf-449b-9246-7e549dc56efe",
   "metadata": {},
   "source": [
    "Check on all the related butler output collections that currently exist."
   ]
  },
  {
   "cell_type": "code",
   "execution_count": null,
   "id": "a40c9fa9-8955-4cee-bf3b-360bcf07e5ef",
   "metadata": {},
   "outputs": [],
   "source": [
    "for c in sorted(simpleButler.registry.queryCollections()):\n",
    "    if c.find(my_outputCollection) > -1:\n",
    "        print('Found: ', c)"
   ]
  },
  {
   "cell_type": "markdown",
   "id": "e1740781-d79a-4202-971b-f9ef8f6a9329",
   "metadata": {
    "tags": []
   },
   "source": [
    "### 3.3. Select the assembleCoadd task from the larger Data Release pipeline\n",
    "\n",
    "> **TO DO: Add more description of pipeline tasks here.**\n",
    "\n",
    "This method for creating the `assembleCoaddPipeline` task in a notebook is not intuitive, but is preferred because it gives the user all of the configuration settings for the instrument automatically, and because it most closely replicates the command-line syntax."
   ]
  },
  {
   "cell_type": "code",
   "execution_count": null,
   "id": "31df8776-0574-4d69-804e-4ddc7e78dde1",
   "metadata": {},
   "outputs": [],
   "source": [
    "assembleCoaddPipeline = Pipeline.from_uri('${PIPE_TASKS_DIR}/pipelines/DRP.yaml#assembleCoadd')"
   ]
  },
  {
   "cell_type": "markdown",
   "id": "7c29643b-a88f-4fe0-b136-ca0baa03201f",
   "metadata": {},
   "source": [
    "The other tasks available are listed in the `yaml` file. \n",
    "To see the other tasks, first open a new terminal (click the blue + button at upper left and then select terminal).\n",
    "Then create a Rubin Observatory environment, navigate to the DRP.yaml file, and view its contents with:\n",
    "> `setup lsst_distrib` <br>\n",
    "> `cd ${PIPE_TASKS_DIR}/pipelines/`<br>\n",
    "> `more DRP.yaml`\n",
    "\n",
    "When attempting to use `more` on the `yaml` file, a redirect to its true location might be returned. If so, follow the path given."
   ]
  },
  {
   "cell_type": "markdown",
   "id": "de7ebc47-f65e-4c46-b9c4-954248c32478",
   "metadata": {},
   "source": [
    "### 3.4. Optional: rename your output Coadd\n",
    "\n",
    "This can only be done by registering a new `DatasetType`. If this step is skipped, the output will be named deepCoadd (whether or enough images are being combined to be considered \"deep\").\n",
    "\n",
    "> **TO DO:** Verify this works.\n",
    "> **Help Question:** Why is a whole new dataset *type* required? <br>\n",
    "> **Help Question:** If I wanted to make 5 new Coadds that were stacks of 5 separate weeks of images would I do this 5 times?"
   ]
  },
  {
   "cell_type": "markdown",
   "id": "69d46922-a658-4511-aa8b-aeedd03d9156",
   "metadata": {},
   "source": [
    "The following cell does this series of actions.\n",
    "* -- Create a DeferredDatasetHandle which can later retrieve a dataset, after an immediate registry lookup.\n",
    "* -- Use the new DeferredDatasetHandle to instantiate your new DatasetType.\n",
    "* -- Register this new DatasetType with your simpleButler.\n",
    "* -- Update the configuration for the pipeline you created to include a connection to your new DatasetType.\n",
    "\n",
    "The following cell has no output."
   ]
  },
  {
   "cell_type": "code",
   "execution_count": null,
   "id": "0f7f0db5-b91d-4dc6-bab3-94a1e78cf890",
   "metadata": {},
   "outputs": [],
   "source": [
    "# deferred = simpleButler.getDeferred('deepCoadd', dataId=my_dataId)\n",
    "\n",
    "# newDatasetType = DatasetType(\"myCoadd1\", dimensions=deferred.ref.dimensions,\n",
    "#                              storageClass=deferred.ref.datasetType.storageClass)\n",
    "\n",
    "# simpleButler.registry.registerDatasetType(newDatasetType)\n",
    "\n",
    "# assembleCoaddPipeline.addConfigOverride(\"assembleCoadd\", \"connections.coaddExposure\", \"myCoadd1\")"
   ]
  },
  {
   "cell_type": "markdown",
   "id": "b9738a6c-9b91-40c8-9c79-a842be4b34b8",
   "metadata": {},
   "source": [
    "> **TO DO: Add a link to documentation about configuration options here.**\n",
    "\n",
    "Other configurations can be set using the same command, with the format `addConfigOverride(<taskName>, <configName>, <configValue>)`.\n",
    "\n",
    "For example, `assembleCoaddPipeline.addConfigOverride(\"assembleCoadd\", \"doFilterMorphological\", False)`."
   ]
  },
  {
   "cell_type": "markdown",
   "id": "34207342-4542-4477-a900-8c095ed8be56",
   "metadata": {},
   "source": [
    "### 3.5. Create the full query string\n",
    "\n",
    "Above, the visits to be recombined were stored in `my_visits_tupleString`. \n",
    "\n",
    "Below, the full query string is built to include the patch being recreated.\n",
    "\n",
    "> **Help Question:** Why is the skymap included in the where query? "
   ]
  },
  {
   "cell_type": "code",
   "execution_count": null,
   "id": "ba1aa59a-db98-4d3c-b46e-e15f8901b18d",
   "metadata": {},
   "outputs": [],
   "source": [
    "queryString = f\"patch = {my_patch} AND visit in {my_visits_tupleString} AND skymap = 'DC2'\" \n",
    "print(queryString)"
   ]
  },
  {
   "cell_type": "markdown",
   "id": "d335b20d-3cb9-4a45-9e09-d1b5a7023cc0",
   "metadata": {},
   "source": [
    "### 3.6. Use the Simple Pipeline Executor to assemble the Coadd\n",
    "\n",
    "Set up the Simple Pipeline Executor.\n",
    "\n",
    "> **Help Question:** Where is the documentation for SimplePipelineExecutor? Imported from lsst.ctrl.mpexec but not listed at https://pipelines.lsst.io/modules/lsst.ctrl.mpexec/index.html"
   ]
  },
  {
   "cell_type": "code",
   "execution_count": null,
   "id": "e7a8e183-bee2-4117-b830-ca69f78649d1",
   "metadata": {},
   "outputs": [],
   "source": [
    "# SimplePipelineExecutor.from_pipeline?"
   ]
  },
  {
   "cell_type": "code",
   "execution_count": null,
   "id": "50c26734-de0e-40f9-899a-42e9de2a52dc",
   "metadata": {},
   "outputs": [],
   "source": [
    "spe = SimplePipelineExecutor.from_pipeline(assembleCoaddPipeline, where=queryString, butler=simpleButler)"
   ]
  },
  {
   "cell_type": "code",
   "execution_count": null,
   "id": "023a25b8-b986-4f8f-a225-c7367d52bf42",
   "metadata": {},
   "outputs": [],
   "source": [
    "list(simpleButler.registry.queryDataIds(dimensions=['band', 'instrument', 'skymap', 'physical_filter', 'tract', 'visit_system', 'patch', 'visit'],\n",
    "                                  dataId={},\n",
    "                                  where=\"patch = 17 AND visit in (919515,924057,924085,924086,929477,930353) AND skymap = 'DC2'\",\n",
    "                                  datasets=['deepCoadd_psfMatchedWarp', 'deepCoadd_directWarp', 'skyMap'],\n",
    "                                  collections=['u/melissagraham/coadd_recreation_nb']))"
   ]
  },
  {
   "cell_type": "code",
   "execution_count": null,
   "id": "1b383eeb-4ff2-4058-bc64-0cdd78314003",
   "metadata": {},
   "outputs": [],
   "source": [
    "print(set(list(simpleButler.registry.queryDatasets('deepCoadd_directWarp', where=queryString))))\n",
    "print(set(list(simpleButler.registry.queryDatasets('skyMap', where=queryString))))"
   ]
  },
  {
   "cell_type": "markdown",
   "id": "7fba6582-9f37-46e6-bca0-e4fe673a3fdd",
   "metadata": {},
   "source": [
    "Run the pipeline. This takes about XX minutes for 6 visits."
   ]
  },
  {
   "cell_type": "code",
   "execution_count": null,
   "id": "ebe78d52-d186-4220-b58a-1dafd518ca0f",
   "metadata": {},
   "outputs": [],
   "source": [
    "%%time\n",
    "quanta = spe.run()"
   ]
  },
  {
   "cell_type": "code",
   "execution_count": null,
   "id": "858202af-fe39-4cda-9d8f-aafad52d2280",
   "metadata": {},
   "outputs": [],
   "source": [
    "quanta"
   ]
  },
  {
   "cell_type": "code",
   "execution_count": null,
   "id": "f27a9f02-ad51-45d5-b004-6951b7f45ad7",
   "metadata": {},
   "outputs": [],
   "source": [
    "quanta[0].outputs"
   ]
  },
  {
   "cell_type": "code",
   "execution_count": null,
   "id": "90eca277-9fb0-4f7f-b7d6-48edc7f43780",
   "metadata": {},
   "outputs": [],
   "source": []
  },
  {
   "cell_type": "code",
   "execution_count": null,
   "id": "ae62452f-870a-45af-add1-cd64f66ebd74",
   "metadata": {},
   "outputs": [],
   "source": []
  },
  {
   "cell_type": "code",
   "execution_count": null,
   "id": "241ea02f-98f6-40dc-8aea-d918c69d5aaf",
   "metadata": {},
   "outputs": [],
   "source": []
  },
  {
   "cell_type": "markdown",
   "id": "4b078c36-0380-41ff-b24b-f4860a13d364",
   "metadata": {},
   "source": [
    "Try the other method. Still will not run."
   ]
  },
  {
   "cell_type": "code",
   "execution_count": null,
   "id": "7340eee3-07fe-4436-86e6-f64c633b49bd",
   "metadata": {},
   "outputs": [],
   "source": [
    "# from lsst.pipe.tasks import assembleCoadd"
   ]
  },
  {
   "cell_type": "code",
   "execution_count": null,
   "id": "f9f4f936-a7ee-45d8-ac6c-8499bb8d0c0c",
   "metadata": {},
   "outputs": [],
   "source": [
    "# config = assembleCoadd.CompareWarpAssembleCoaddTask.ConfigClass()\n",
    "# #config.connections.coaddExposure = \"myCoadd2\"\n",
    "# tasks = [TaskDef(label=\"assembleCoadd\", taskClass=assembleCoadd.CompareWarpAssembleCoaddTask, config=config)]"
   ]
  },
  {
   "cell_type": "code",
   "execution_count": null,
   "id": "3a01c6a7-cc2d-4573-aa86-fb02166afc59",
   "metadata": {},
   "outputs": [],
   "source": [
    "# queryString = f\"patch = {my_patch} AND visit in {my_visits_tupleString} AND skymap = 'DC2'\" "
   ]
  },
  {
   "cell_type": "code",
   "execution_count": null,
   "id": "d0a5a5a7-c29a-4fa3-8c5b-a7f7d34d777f",
   "metadata": {},
   "outputs": [],
   "source": [
    "# spe2 = SimplePipelineExecutor.from_pipeline(tasks, where=queryString, butler=simpleButler)"
   ]
  },
  {
   "cell_type": "code",
   "execution_count": null,
   "id": "e7048806-eab5-464c-ba86-3b45ce9c9b58",
   "metadata": {},
   "outputs": [],
   "source": [
    "# %%time\n",
    "# quanta2 = spe2.run()"
   ]
  },
  {
   "cell_type": "code",
   "execution_count": null,
   "id": "74e56269-f945-4a69-9931-4b0b63cda199",
   "metadata": {},
   "outputs": [],
   "source": []
  },
  {
   "cell_type": "code",
   "execution_count": null,
   "id": "3e9ee053-4fc7-4680-bd04-299ab8b8a7e4",
   "metadata": {},
   "outputs": [],
   "source": []
  },
  {
   "cell_type": "markdown",
   "id": "e00e18d6-8b03-4d54-a8c8-11ef1152d5cc",
   "metadata": {},
   "source": [
    "To be added: show new coadded image, show inputs of new coadded image are only what we specified, then run source detection on new coadded image, and compare with the original deepCoadd."
   ]
  },
  {
   "cell_type": "code",
   "execution_count": null,
   "id": "d5de43e7-1724-427a-a828-289047828882",
   "metadata": {},
   "outputs": [],
   "source": []
  },
  {
   "cell_type": "code",
   "execution_count": null,
   "id": "c8483bff-20f1-485c-b0db-f5f262728fe9",
   "metadata": {},
   "outputs": [],
   "source": []
  },
  {
   "cell_type": "code",
   "execution_count": null,
   "id": "105079de-084d-495c-9ebc-362e0bdfaedf",
   "metadata": {},
   "outputs": [],
   "source": []
  },
  {
   "cell_type": "code",
   "execution_count": null,
   "id": "aa227f57-335e-4735-a916-1ed7c83c7d09",
   "metadata": {},
   "outputs": [],
   "source": []
  },
  {
   "cell_type": "markdown",
   "id": "7b4395c6-f17d-4d5e-9af7-0ebf22c40d34",
   "metadata": {},
   "source": [
    "<br>\n",
    "<br>\n",
    "<br>\n",
    "<br>\n",
    "<br>\n",
    "<br>\n",
    "\n",
    "\n",
    "# Earlier attempts are below. "
   ]
  },
  {
   "cell_type": "markdown",
   "id": "13a6e54d-9dbe-42b7-8fe5-3b382a73e892",
   "metadata": {},
   "source": [
    "<br>\n",
    "<br>\n",
    "\n",
    "### 3.1. Try using the pipe task assembleCoadd\n",
    "\n",
    "https://pipelines.lsst.io/modules/lsst.pipe.tasks/index.html#lsst-pipe-tasks\n",
    "\n",
    "https://pipelines.lsst.io/modules/lsst.pipe.tasks/tasks/lsst.pipe.tasks.assembleCoadd.AssembleCoaddTask.html\n",
    "\n",
    "In tutorial-notebooks/05_Intro_to_Source_Detection.ipynb, pipe tasks are used, follow that example.\n",
    "\n",
    "Similar to NB 05, Jeff managed to use a couple of pipe.tasks for image differencing in https://github.com/rubin-dp0/delegate-contributions-dp01/blob/u/jcarlin/diff_im/diff_im/diff_im_test.ipynb\n",
    "\n",
    "Yusra shows use of tasks and configs in https://github.com/LSSTScienceCollaborations/StackClubCourse/blob/master/Session02/IntroToDataProductsAndTasks.ipynb\n",
    "\n",
    "From Yusra's NB, I'm trying to follow \"Background Subtraction and Task Configuration\" section in use of pipe task.\n",
    "\n",
    "<br>"
   ]
  },
  {
   "cell_type": "code",
   "execution_count": null,
   "id": "7702d0a3-2fc4-4413-a207-77fd2fe42f9e",
   "metadata": {},
   "outputs": [],
   "source": [
    "from lsst.pipe.tasks.assembleCoadd import AssembleCoaddTask"
   ]
  },
  {
   "cell_type": "code",
   "execution_count": null,
   "id": "98678043-68d1-4cf8-a490-0f002afa091b",
   "metadata": {},
   "outputs": [],
   "source": [
    "myConfig = AssembleCoaddTask.ConfigClass()"
   ]
  },
  {
   "cell_type": "code",
   "execution_count": null,
   "id": "5ba635c1-7bcb-4bf6-8513-f24e5ff07f09",
   "metadata": {},
   "outputs": [],
   "source": [
    "# call the result year3\n",
    "myConfig.coaddName = 'year3'"
   ]
  },
  {
   "cell_type": "code",
   "execution_count": null,
   "id": "14fe3d9a-1247-44ce-abc0-4fe8e203c526",
   "metadata": {},
   "outputs": [],
   "source": [
    "# yes i only want to do selected visits\n",
    "myConfig.doSelectVisits = True"
   ]
  },
  {
   "cell_type": "code",
   "execution_count": null,
   "id": "c166f252-8a9e-4667-9460-23ae1e58a85d",
   "metadata": {},
   "outputs": [],
   "source": [
    "# the list of selected visits\n",
    "myConfig.connections.selectedVisits = visit_list"
   ]
  },
  {
   "cell_type": "markdown",
   "id": "18878627-0047-47b5-9f73-405667c18743",
   "metadata": {},
   "source": [
    "What else do I need to specify in the config?"
   ]
  },
  {
   "cell_type": "code",
   "execution_count": null,
   "id": "2f82f508-4fea-45bd-849f-00f9130592e4",
   "metadata": {},
   "outputs": [],
   "source": [
    "myConfig"
   ]
  },
  {
   "cell_type": "code",
   "execution_count": null,
   "id": "16cb2bca-6954-439d-9cf1-9c1ebce4ed33",
   "metadata": {},
   "outputs": [],
   "source": [
    "myTask = AssembleCoaddTask(config=myConfig)"
   ]
  },
  {
   "cell_type": "code",
   "execution_count": null,
   "id": "71951b7b-ce4f-4b2e-ae32-13097529172c",
   "metadata": {},
   "outputs": [],
   "source": [
    "# myTask?"
   ]
  },
  {
   "cell_type": "code",
   "execution_count": null,
   "id": "56ccafda-3632-4068-aa14-a60e03961d92",
   "metadata": {},
   "outputs": [],
   "source": [
    "# help(myTask.run)"
   ]
  },
  {
   "cell_type": "markdown",
   "id": "ea614a45-c39d-4ea8-87f3-feb5d4bb5017",
   "metadata": {},
   "source": [
    "**To Figure Out**\n",
    "\n",
    "1. The `run` method requires inputs.\n",
    "I suspect it is insufficient to put the selected visits in the Config.\n",
    "I need to pass a query or dataIds for the inputs I want to coadd.\n",
    "\n",
    "2. I'm not sure if I should use `.run` or `.runDataRef`. \n",
    "The latter's description is \"Assemble a coadd from a set of Warps.\" which is actually all I want to do."
   ]
  },
  {
   "cell_type": "code",
   "execution_count": null,
   "id": "9e0ee109-0c5f-45ad-b660-cbb4625438e3",
   "metadata": {},
   "outputs": [],
   "source": [
    "# result = myTask.run()"
   ]
  },
  {
   "cell_type": "code",
   "execution_count": null,
   "id": "f40db7c2-f23d-4005-85c7-0d7a6813c361",
   "metadata": {},
   "outputs": [],
   "source": [
    "# result = myTask.runDataRef()"
   ]
  },
  {
   "cell_type": "code",
   "execution_count": null,
   "id": "0212f79d-2a96-4abb-9068-6b1ea38fa895",
   "metadata": {},
   "outputs": [],
   "source": [
    "# result"
   ]
  },
  {
   "cell_type": "code",
   "execution_count": null,
   "id": "2c4fccf2-6d5b-4b46-9866-ae4f84f43078",
   "metadata": {},
   "outputs": [],
   "source": [
    "# help(assembleCoaddTask)"
   ]
  },
  {
   "cell_type": "code",
   "execution_count": null,
   "id": "74bec8b7-d791-4c87-97fc-73fceeaeb7e2",
   "metadata": {},
   "outputs": [],
   "source": [
    "del myConfig, myTask"
   ]
  },
  {
   "cell_type": "markdown",
   "id": "0a0f3262-235a-4305-960f-8c189bd45198",
   "metadata": {},
   "source": [
    "<br>\n",
    "<br>\n",
    "\n",
    "### 3.2. Try following Nate's recommended way\n",
    "\n",
    "follow the steps by K-T in:\n",
    "\n",
    "https://community.lsst.org/t/figuring-out-how-to-call-the-python-api/6432/11\n",
    "\n",
    "as recommended by Nate in this post about recreating coadds:\n",
    "\n",
    "https://community.lsst.org/t/coadding-dp0-calexps-from-different-detectors-for-the-same-deepcoadd/6436/8\n",
    "\n",
    "Nate Lust also recommended to follow:\n",
    " * https://pipelines.lsst.io/v/weekly/modules/lsst.pipe.base/creating-a-pipeline.html\n",
    " * https://pipelines.lsst.io/v/weekly/modules/lsst.pipe.base/creating-a-pipelinetask.html\n",
    "\n",
    "\n",
    "**To Figure Out**:\n",
    "1. what config do i need to set?\n",
    "2. where am i even telling it to assemble a coadd from the inputs? how does this pipeline know what to do?"
   ]
  },
  {
   "cell_type": "code",
   "execution_count": null,
   "id": "86175eaf-7cd6-427d-bbe3-3bcb29617ea6",
   "metadata": {},
   "outputs": [],
   "source": [
    "from lsst.ctrl.mpexec import SimplePipelineExecutor\n",
    "from lsst.pipe.base import Pipeline"
   ]
  },
  {
   "cell_type": "markdown",
   "id": "874d5dd2-a4de-4fbc-b984-1bfda3c08ea9",
   "metadata": {},
   "source": [
    "repo and input collection are already defined"
   ]
  },
  {
   "cell_type": "code",
   "execution_count": null,
   "id": "32ce0277-a5bf-4dd7-b862-7c8e80f68eaf",
   "metadata": {},
   "outputs": [],
   "source": [
    "print(repo)\n",
    "print(collection)"
   ]
  },
  {
   "cell_type": "markdown",
   "id": "15ef1f72-478d-49e3-8f98-23d65750e059",
   "metadata": {},
   "source": [
    "#### create a collection just for me\n",
    "\n",
    "https://pipelines.lsst.io/py-api/lsst.daf.butler.Registry.html#lsst.daf.butler.Registry.registerCollection"
   ]
  },
  {
   "cell_type": "code",
   "execution_count": null,
   "id": "dfa09003-1b0e-47af-b00c-99a667c5051c",
   "metadata": {},
   "outputs": [],
   "source": [
    "output_collection = 'u/MelissaGraham/coadd_recreation_nb'"
   ]
  },
  {
   "cell_type": "code",
   "execution_count": null,
   "id": "0f4df65d-d41c-406f-95b3-e3a2168a1384",
   "metadata": {},
   "outputs": [],
   "source": [
    "# butler.registry.registerCollection(output_collection, type='RUN', doc='made for a tutorial')"
   ]
  },
  {
   "cell_type": "markdown",
   "id": "e9565d86-5836-4b23-b81b-cd921e968b0e",
   "metadata": {},
   "source": [
    "already done, so it appears in this list"
   ]
  },
  {
   "cell_type": "code",
   "execution_count": null,
   "id": "35154701-5e71-4ab0-ba7b-3cd741a7989e",
   "metadata": {},
   "outputs": [],
   "source": [
    "# for c in sorted(butler.registry.queryCollections()):\n",
    "#     print(c)"
   ]
  },
  {
   "cell_type": "markdown",
   "id": "d1b79d95-2eea-4e93-9937-439436529b8f",
   "metadata": {},
   "source": [
    "#### create the data query for my visits and detectors\n",
    "\n",
    "I learned what this should look like from https://pipelines.lsst.io/getting-started/coaddition.html"
   ]
  },
  {
   "cell_type": "code",
   "execution_count": null,
   "id": "fad3494e-43f4-480d-8472-db899e261cd3",
   "metadata": {},
   "outputs": [],
   "source": [
    "data_query = 'visit in ('+visit_list+')'"
   ]
  },
  {
   "cell_type": "code",
   "execution_count": null,
   "id": "06273b5c-ced9-4b92-a2b2-a5b5b56cb773",
   "metadata": {},
   "outputs": [],
   "source": [
    "print(data_query)"
   ]
  },
  {
   "cell_type": "markdown",
   "id": "2ac70923-102a-4e52-9577-169cce591b5e",
   "metadata": {},
   "source": [
    "#### set pipeline config\n",
    "\n",
    "unsure what is needed or how to figure it out\n",
    "\n",
    "label, key, and value are not needed? because we can use defaults?"
   ]
  },
  {
   "cell_type": "code",
   "execution_count": null,
   "id": "d2a6f59f-4ca6-4ffb-8023-4aae32a52e97",
   "metadata": {},
   "outputs": [],
   "source": [
    "### Use defaults\n",
    "# label = \n",
    "# key = \n",
    "# value = "
   ]
  },
  {
   "cell_type": "markdown",
   "id": "dee4d24b-a6ba-4f01-8f7a-b90a0e9fcb40",
   "metadata": {},
   "source": [
    "#### set up and run\n",
    "\n",
    "but where am i telling this pipeline just to execute the coadd step?"
   ]
  },
  {
   "cell_type": "code",
   "execution_count": null,
   "id": "8563694e-5b11-4679-9d0b-8bf741709bd8",
   "metadata": {},
   "outputs": [],
   "source": [
    "butler = SimplePipelineExecutor.prep_butler(repo,\n",
    "                                            inputs=['2.2i/runs/DP0.2/v23_0_1_rc1/PREOPS-905/pilot_tract4431'],\n",
    "                                            output='u/MelissaGraham/coadd_recreation_nb')"
   ]
  },
  {
   "cell_type": "code",
   "execution_count": null,
   "id": "d5900ae5-a8c8-425b-b42b-6dd666770483",
   "metadata": {},
   "outputs": [],
   "source": [
    "pipeline = Pipeline.from_uri('${PIPE_TASKS_DIR}/pipelines/DRP.yaml')"
   ]
  },
  {
   "cell_type": "code",
   "execution_count": null,
   "id": "775800c6-3288-4952-bae0-7c6ed91d39dc",
   "metadata": {},
   "outputs": [],
   "source": [
    "pipeline.addInstrument('LSSTCam-imSim')"
   ]
  },
  {
   "cell_type": "code",
   "execution_count": null,
   "id": "f52a8506-2657-45ca-a4e3-ab76cdd152c3",
   "metadata": {},
   "outputs": [],
   "source": [
    "# pipeline.addConfigOverride(label, key, value)"
   ]
  },
  {
   "cell_type": "markdown",
   "id": "62d61da2-7ae4-4087-aa2d-0d14a643de62",
   "metadata": {},
   "source": [
    "comment out below, not sure what it's doing yet"
   ]
  },
  {
   "cell_type": "code",
   "execution_count": null,
   "id": "86713a23-5a28-48bf-aba8-0d3c790ec34d",
   "metadata": {},
   "outputs": [],
   "source": [
    "# spe = SimplePipelineExecutor.from_pipeline(pipeline, where=data_query, butler=butler)\n",
    "# quanta = spe.run(True)"
   ]
  },
  {
   "cell_type": "code",
   "execution_count": null,
   "id": "20f94cad-c60a-4ed9-b5fa-a31eb964019e",
   "metadata": {},
   "outputs": [],
   "source": []
  },
  {
   "cell_type": "code",
   "execution_count": null,
   "id": "360e69de-0cfb-420f-98ac-e252dbc85c87",
   "metadata": {},
   "outputs": [],
   "source": []
  }
 ],
 "metadata": {
  "kernelspec": {
   "display_name": "LSST",
   "language": "python",
   "name": "lsst"
  },
  "language_info": {
   "codemirror_mode": {
    "name": "ipython",
    "version": 3
   },
   "file_extension": ".py",
   "mimetype": "text/x-python",
   "name": "python",
   "nbconvert_exporter": "python",
   "pygments_lexer": "ipython3",
   "version": "3.10.4"
  }
 },
 "nbformat": 4,
 "nbformat_minor": 5
}
