{
 "cells": [
  {
   "cell_type": "markdown",
   "id": "88e46a87-3937-4534-ae66-8343f99049ed",
   "metadata": {},
   "source": [
    "<img align=\"left\" src = https://project.lsst.org/sites/default/files/Rubin-O-Logo_0.png width=250 style=\"padding: 10px\"> \n",
    "<b>DRAFT: Coadd Recreation</b> <br>\n",
    "Contact author(s): Melissa Graham <br>\n",
    "Last verified to run: <i>yyyy-mm-dd</i> <br>\n",
    "LSST Science Piplines version: Weekly <i>yyyy_xx</i> <br>\n",
    "Container Size: <i>medium</i> <br>\n",
    "Targeted learning level: intermediate <br>"
   ]
  },
  {
   "cell_type": "raw",
   "id": "8241df37-6f83-49d6-85da-9a96cee70972",
   "metadata": {},
   "source": [
    "TO DO:\n",
    " - complete header and introductory text\n",
    "   -- finish package list\n",
    "   -- add co-authors\n",
    "   -- move package imports from S.3. to S1.1.\n",
    " - remove/replace any remaining italics from NB template\n",
    " - S.2., instead of using deepCoadd inputs, consider querying for all calexps overlapping a location in a time window\n",
    "   -- because retrieving calexp metadata for all inputs is slower than just querying for the calexps you only want\n",
    "   -- or maybe for DP0.2 can use the new ccdVisit table to get dates of visits faster (look into it)\n",
    "   -- could teach use of deepCoadd inputs separately, or just show as a demo in this NB\n",
    " - S.3., need help"
   ]
  },
  {
   "cell_type": "code",
   "execution_count": null,
   "id": "c3750d29-8d6c-4c65-996a-4afe8f784fab",
   "metadata": {},
   "outputs": [],
   "source": [
    "# %load_ext pycodestyle_magic\n",
    "# %flake8_on\n",
    "# import logging\n",
    "# logging.getLogger(\"flake8\").setLevel(logging.FATAL)"
   ]
  },
  {
   "cell_type": "markdown",
   "id": "985dbaac-2239-4e63-99af-069885693cd9",
   "metadata": {},
   "source": [
    "**Description:** Recreate a Coadded image from a subset of the input calexps."
   ]
  },
  {
   "cell_type": "markdown",
   "id": "835825c1-745b-4bb5-bad8-861812618231",
   "metadata": {},
   "source": [
    "**Skills:** Use of pipetasks for image coaddition. Creating and writing to Butler collections. Properties of deepCoadds."
   ]
  },
  {
   "cell_type": "markdown",
   "id": "e710443e-0f79-4a89-ae31-c07bed8e5d8d",
   "metadata": {},
   "source": [
    "**LSST Data Products:** deepCoadd, calexp"
   ]
  },
  {
   "cell_type": "markdown",
   "id": "5d2d1c4b-2893-4abc-99c3-c305338e5d05",
   "metadata": {},
   "source": [
    "**Packages:** _List the python packages used._ (_List the packages being taught first, e.g., afwDisplay for a notebook about displaying images. Then supporting packages, e.g., lsst.daf.butler for a notebook about displaying images. It is OK to leave out basic support packages like os or glob.)_"
   ]
  },
  {
   "cell_type": "markdown",
   "id": "5992b774-f0bf-49d7-8e23-7aca9788f6fb",
   "metadata": {},
   "source": [
    "**Credit:** Originally developed by Melissa Graham and Clare Saunders.\n",
    "Please consider acknowledging them if this notebook is used for the preparation of journal articles, software releases, or other notebooks."
   ]
  },
  {
   "cell_type": "markdown",
   "id": "37ebdbb7-c12d-4645-8259-13aed7872ebb",
   "metadata": {},
   "source": [
    "**Get Support:**\n",
    "Find DP0-related documentation and resources at <a href=\"https://dp0-1.lsst.io\">dp0-1.lsst.io</a>. Questions are welcome as new topics in the <a href=\"https://community.lsst.org/c/support/dp0\">Support - Data Preview 0 Category</a> of the Rubin Community Forum. Rubin staff will respond to all questions posted there."
   ]
  },
  {
   "cell_type": "markdown",
   "id": "7b41f9a0-c6b3-4279-bfe4-692ff5e9a473",
   "metadata": {},
   "source": [
    "## 1. Introduction\n",
    "\n",
    "This notebook shows how to retrieve information about the individual images that contributed to a deepCoadd, and how to make a new Coadded image using only a subset of the inputs.\n",
    "\n",
    "In the past you might have used iraf's imcombine, or Astromatics's SWarp, to coadd images.\n",
    "This notebook demonstrates the appropriate methods for coadding LSST images with the LSST Science Pipelines.\n",
    "\n",
    "Science applications of coadding a subsets of LSST images includes searching for faint, slowly-evolving transients or variables (e.g.,, coadding images by season), using the effects of differential chromatic refraction (e.g., coadding images in bins of airmass), or perhaps searching for low surface brightness features (e.g., coadding only dark-time images with the faintest sky backgrounds)."
   ]
  },
  {
   "cell_type": "markdown",
   "id": "0127a799-1cd7-4a7a-9deb-911938589161",
   "metadata": {},
   "source": [
    "### 1.1 Package Imports\n",
    "\n",
    "_Provide explanation or external links to package documentation, where appropriate._"
   ]
  },
  {
   "cell_type": "code",
   "execution_count": null,
   "id": "4aef3e1b-efee-4d8a-9ed0-d9a910be88d3",
   "metadata": {},
   "outputs": [],
   "source": [
    "# standard python packages for numerical processing, plotting, and databases\n",
    "import time\n",
    "import numpy as np\n",
    "\n",
    "import matplotlib\n",
    "font = {'size' : 14}\n",
    "matplotlib.rc('font', **font)\n",
    "import matplotlib.pyplot as plt\n",
    "\n",
    "import pandas\n",
    "pandas.set_option('display.max_rows', 1000)\n",
    "\n",
    "# astropy package for time unit conversions\n",
    "from astropy.time import Time\n",
    "\n",
    "# lsst packages for data access and display\n",
    "import lsst.daf.butler as dafButler\n",
    "import lsst.geom\n",
    "import lsst.afw.display as afwDisplay\n",
    "afwDisplay.setDefaultBackend('matplotlib')\n",
    "\n",
    "# lsst packages for executing pipeline tasks\n",
    "from lsst.ctrl.mpexec import SimplePipelineExecutor\n",
    "from lsst.pipe.base import Pipeline, TaskDef, Instrument\n",
    "# from lsst.daf.butler import Butler, DatasetType, CollectionType"
   ]
  },
  {
   "cell_type": "markdown",
   "id": "633fe9bd-43cd-478e-81d9-d3fe6f712841",
   "metadata": {},
   "source": [
    "### 1.2 Set Up"
   ]
  },
  {
   "cell_type": "code",
   "execution_count": null,
   "id": "9340359c-49d6-471e-af30-2b2387756468",
   "metadata": {},
   "outputs": [],
   "source": [
    "repo = 'dp02'\n",
    "collection = '2.2i/runs/DP0.2/v23_0_2/PREOPS-905/step_all'"
   ]
  },
  {
   "cell_type": "markdown",
   "id": "d26cba5a-d752-4533-a83a-ef18af149d66",
   "metadata": {},
   "source": [
    "Known issue: it is OK to ignore a pink-window message saying \"WARNING: version mismatch between CFITSIO header (v4.000999999999999) and linked library (v4.01).\""
   ]
  },
  {
   "cell_type": "code",
   "execution_count": null,
   "id": "6dcf3f46-f9b3-4e34-b755-563f3cc67486",
   "metadata": {},
   "outputs": [],
   "source": [
    "butler = dafButler.Butler(repo, collections=collection)"
   ]
  },
  {
   "cell_type": "markdown",
   "id": "c42ce015-7441-4155-bc6c-201d4118efce",
   "metadata": {},
   "source": [
    "## 2. Identify the calexps to combine\n",
    "\n",
    "### 2.1. Start with a deepCoadd\n",
    "\n",
    "Identify and retrieve the deepCoadd to be recreated.\n",
    "\n",
    "For this example, the coordinates of a known galaxy cluster are used.\n",
    "\n",
    "It takes 4-5 seconds to retrieve a single deepCoadd from the butler."
   ]
  },
  {
   "cell_type": "code",
   "execution_count": null,
   "id": "6e5849dd-f51c-4443-b3b9-48f73b5b3eae",
   "metadata": {},
   "outputs": [],
   "source": [
    "%%time\n",
    "\n",
    "my_ra_deg = 55.745834\n",
    "my_dec_deg = -32.269167\n",
    "\n",
    "my_spherePoint = lsst.geom.SpherePoint(my_ra_deg*lsst.geom.degrees,\n",
    "                                       my_dec_deg*lsst.geom.degrees)\n",
    "\n",
    "skymap = butler.get('skyMap')\n",
    "my_tract = skymap.findTract(my_spherePoint)\n",
    "my_patch = my_tract.findPatch(my_spherePoint)\n",
    "\n",
    "my_dataId = {'band': 'i', 'tract': my_tract.tract_id, \n",
    "             'patch': my_patch.getSequentialIndex()}\n",
    "my_deepCoadd = butler.get('deepCoadd', dataId=my_dataId)\n",
    "\n",
    "# clean up\n",
    "del my_ra_deg, my_dec_deg, my_spherePoint, my_tract, my_patch"
   ]
  },
  {
   "cell_type": "markdown",
   "id": "88c4d270-a2bf-4d35-a5c8-560fd1e675b7",
   "metadata": {},
   "source": [
    "Uncomment the following cell to show the deepCoadd image."
   ]
  },
  {
   "cell_type": "code",
   "execution_count": null,
   "id": "6ed19ab9-d079-42e4-bff4-55eeef94afcb",
   "metadata": {},
   "outputs": [],
   "source": [
    "# fig = plt.figure(figsize=(6, 4))\n",
    "# afw_display = afwDisplay.Display(1)\n",
    "# afw_display.scale('asinh', 'zscale')\n",
    "# afw_display.mtv(my_deepCoadd.image)\n",
    "# plt.gca().axis('off')"
   ]
  },
  {
   "cell_type": "markdown",
   "id": "34b35b55-74d4-422e-bf9d-a13c1aab45c1",
   "metadata": {},
   "source": [
    "It is not necessary to know the bounding box for a deepCoadd in order to find all of the calexps that were used to assemble it.\n",
    "But, if you want to learn more about the deepCoadd metadata, such as bounding box, corners, and the World Coordinate System (WCS), uncomment and execute the following cells."
   ]
  },
  {
   "cell_type": "code",
   "execution_count": null,
   "id": "8c89c7e6-e96d-4135-9e44-06b84987ffb2",
   "metadata": {},
   "outputs": [],
   "source": [
    "# my_deepCoadd_bbox = butler.get('deepCoadd.bbox', dataId=my_dataId)\n",
    "# print('bbox')\n",
    "# print(my_deepCoadd_bbox.beginX, my_deepCoadd_bbox.beginY, \n",
    "#       my_deepCoadd_bbox.endX, my_deepCoadd_bbox.endY)\n",
    "\n",
    "# print('')\n",
    "# print('corners')\n",
    "# print(my_deepCoadd_bbox.getCorners())\n",
    "\n",
    "# print('')\n",
    "# print('wcs')\n",
    "# my_deepCoadd_wcs = butler.get('deepCoadd.wcs', dataId=my_dataId)\n",
    "# print(my_deepCoadd_wcs)\n",
    "\n",
    "# # clean up\n",
    "# del my_deepCoadd_bbox, my_deepCoadd_wcs"
   ]
  },
  {
   "cell_type": "markdown",
   "id": "92be360e-c8d0-4b99-be77-827561954c5b",
   "metadata": {},
   "source": [
    "### 2.2. Retrieve the deepCoadd's input visits\n",
    "\n",
    "It takes 2-3 seconds to retrieve the coadd inputs from the butler."
   ]
  },
  {
   "cell_type": "code",
   "execution_count": null,
   "id": "b8c4f4b7-2447-4361-96c9-ca805d9106df",
   "metadata": {},
   "outputs": [],
   "source": [
    "%%time\n",
    "\n",
    "my_coadd_inputs = butler.get(\"deepCoadd_calexp.coaddInputs\", my_dataId)"
   ]
  },
  {
   "cell_type": "markdown",
   "id": "273ada69-3204-426d-9bec-a12d54dcfceb",
   "metadata": {},
   "source": [
    "The coadd inputs table of visits can be displayed as an astropy table, if you want to view the contents."
   ]
  },
  {
   "cell_type": "code",
   "execution_count": null,
   "id": "6708a08e-7cfb-429b-a121-7b918aa27b73",
   "metadata": {},
   "outputs": [],
   "source": [
    "# my_coadd_inputs.visits.asAstropy()"
   ]
  },
  {
   "cell_type": "markdown",
   "id": "15e26c9d-e8b1-4f9d-93f7-0a37545c3d4c",
   "metadata": {},
   "source": [
    "The length of this table, 161, indicates that 161 separate visits contributed to this deepCoadd."
   ]
  },
  {
   "cell_type": "code",
   "execution_count": null,
   "id": "ae810206-6d17-42d9-96df-3560cf711e94",
   "metadata": {},
   "outputs": [],
   "source": [
    "len(my_coadd_inputs.visits)"
   ]
  },
  {
   "cell_type": "markdown",
   "id": "fc08dafe-6a6a-4d04-8b0b-ca25b33b37ed",
   "metadata": {},
   "source": [
    "It is not necessary to make a list of all deepCoadd input visit ids, but if you wanted to, you could do it and display it like this."
   ]
  },
  {
   "cell_type": "code",
   "execution_count": null,
   "id": "d54bbfd1-497f-4875-a5c8-707c1bf82193",
   "metadata": {},
   "outputs": [],
   "source": [
    "# my_coadd_visits = my_coadd_inputs.visits['id']\n",
    "# my_coadd_visits"
   ]
  },
  {
   "cell_type": "markdown",
   "id": "cd7f0a95-9d41-44d1-aff7-6f6b59f77eeb",
   "metadata": {},
   "source": [
    "### 2.3. Get metadata for the input visits\n",
    "\n",
    "Retrieve the modified julian date (MJD) of the input visits from the visitTable.\n",
    "\n",
    "First, get the entire visit table."
   ]
  },
  {
   "cell_type": "code",
   "execution_count": null,
   "id": "027cdc0f-0d1d-4330-83a9-ca8d67932044",
   "metadata": {},
   "outputs": [],
   "source": [
    "visitTableRef = list(butler.registry.queryDatasets('visitTable'))"
   ]
  },
  {
   "cell_type": "code",
   "execution_count": null,
   "id": "507f8f87-6759-4afd-b4a7-fbaa2f2182b6",
   "metadata": {},
   "outputs": [],
   "source": [
    "# visitTableRef"
   ]
  },
  {
   "cell_type": "code",
   "execution_count": null,
   "id": "35cbbfe6-11b1-4500-baf3-cba58d529bf8",
   "metadata": {},
   "outputs": [],
   "source": [
    "visitTable = butler.get(visitTableRef[0])"
   ]
  },
  {
   "cell_type": "code",
   "execution_count": null,
   "id": "a31b7e5c-df48-44f6-8854-b073f701ed1c",
   "metadata": {},
   "outputs": [],
   "source": [
    "# visitTable"
   ]
  },
  {
   "cell_type": "markdown",
   "id": "1e628388-4a7b-4197-8aaa-80b925f5995d",
   "metadata": {},
   "source": [
    "The fact that the id column for both the my_coadd_inputs.vists table and the visitTable is the visit number (visit id) makes it simple to retrieve the MJDs of our coadd input visits."
   ]
  },
  {
   "cell_type": "code",
   "execution_count": null,
   "id": "1c1a95b0-2702-4e2f-b6bf-b81f32ee918d",
   "metadata": {},
   "outputs": [],
   "source": [
    "my_coadd_visits_mjds = visitTable.loc[my_coadd_inputs.visits['id']]['expMidptMJD']"
   ]
  },
  {
   "cell_type": "markdown",
   "id": "f85ea9a3-0711-4f77-a309-15f403e6bcb5",
   "metadata": {},
   "source": [
    "These list of MJDs have 161 elements, for the 161 separate visits contributed to this deepCoadd."
   ]
  },
  {
   "cell_type": "code",
   "execution_count": null,
   "id": "95c50262-b42c-4151-b862-26e7ba8af02c",
   "metadata": {},
   "outputs": [],
   "source": [
    "len(my_coadd_visits_mjds)"
   ]
  },
  {
   "cell_type": "markdown",
   "id": "c0abddb8-f601-4388-b838-5e3dae9308f3",
   "metadata": {},
   "source": [
    "### 2.4. Identify input visits to recreate Coadd\n",
    "\n",
    "Identify input visits with MJD between 60925 abd 60955."
   ]
  },
  {
   "cell_type": "code",
   "execution_count": null,
   "id": "dd205feb-436a-40e7-8119-6b2944255533",
   "metadata": {},
   "outputs": [],
   "source": [
    "range_start = 60925\n",
    "range_end = 60955\n",
    "\n",
    "fig, ax = plt.subplots( 2, figsize=(10,10) )\n",
    "\n",
    "ax[0].hist(my_coadd_visits_mjds, bins=150, color='dodgerblue')\n",
    "ax[0].set_xlabel('MJD')\n",
    "ax[0].set_ylabel('Number of Visits')\n",
    "ax[0].axvline(range_start, ls='dashed', color='darkorange')\n",
    "ax[0].axvline(range_end, ls='dashed', color='darkorange')\n",
    "\n",
    "ax[1].hist(my_coadd_visits_mjds, bins=150, color='dodgerblue')\n",
    "ax[1].set_xlabel('MJD')\n",
    "ax[1].set_ylabel('Number of Visits')\n",
    "ax[1].set_xlim([60880,60985])\n",
    "ax[1].axvline(range_start, ls='dashed', color='darkorange')\n",
    "ax[1].axvline(range_end, ls='dashed', color='darkorange')\n",
    "ax[1].text(range_start+1, 7.5, 'date range', color='darkorange')\n",
    "ax[1].text(range_start+1, 7.0, 'of interest', color='darkorange')\n",
    "\n",
    "plt.show()"
   ]
  },
  {
   "cell_type": "markdown",
   "id": "bd659dea-4c4d-4592-a93b-fc93e7ee9344",
   "metadata": {},
   "source": [
    "From the lower plot above, there are 6 visits in the data range of interest.\n",
    "\n",
    "Put this list of visits into a string, formatted as a tuple (within round brackets and separated by commas) for use in a query below."
   ]
  },
  {
   "cell_type": "code",
   "execution_count": null,
   "id": "507e6561-4186-4287-bac8-795c783a5d54",
   "metadata": {},
   "outputs": [],
   "source": [
    "my_range = np.array((my_coadd_visits_mjds > range_start) & \n",
    "                    (my_coadd_visits_mjds < range_end))\n",
    "\n",
    "my_visits = my_coadd_inputs.visits[my_range]\n",
    "\n",
    "my_visits_tupleString = \"(\"+\",\".join(my_visits['id'].astype(str))+\")\"\n",
    "print(my_visits_tupleString)\n",
    "\n",
    "# visitString = f\"visit in ({tupleString})\"\n",
    "# queryString = f\"patch = {my_patch} AND {visitString} AND skymap = 'skymap'\""
   ]
  },
  {
   "cell_type": "markdown",
   "id": "0ab63b2b-83fa-46ef-8926-ccb022302221",
   "metadata": {},
   "source": [
    "### 2.5. Exercise for the learner\n",
    "\n",
    "Use airmass constraints instead of MJD to identify the subset of visits to coadd.\n",
    "\n",
    "> Hint: start with \n",
    "> `my_coadd_visits_airmass = visitTable.loc[my_coadd_inputs.visits['id']]['airmass']`"
   ]
  },
  {
   "cell_type": "markdown",
   "id": "38f882d3-026a-4de7-920a-56072bfd5f96",
   "metadata": {},
   "source": [
    "## 3. Create a coadd with the subset of visits "
   ]
  },
  {
   "cell_type": "code",
   "execution_count": null,
   "id": "cfe5f9ee-cca3-4157-9418-b629b56cad97",
   "metadata": {},
   "outputs": [],
   "source": []
  },
  {
   "cell_type": "code",
   "execution_count": null,
   "id": "4cfe54ed-d543-452c-ab45-72e6573aaa8e",
   "metadata": {},
   "outputs": [],
   "source": []
  },
  {
   "cell_type": "code",
   "execution_count": null,
   "id": "700ebf77-7136-43a4-ba21-038591f779dc",
   "metadata": {},
   "outputs": [],
   "source": []
  },
  {
   "cell_type": "code",
   "execution_count": null,
   "id": "4eebdd72-52be-4685-b946-c1bc387e942d",
   "metadata": {},
   "outputs": [],
   "source": []
  },
  {
   "cell_type": "markdown",
   "id": "7b4395c6-f17d-4d5e-9af7-0ebf22c40d34",
   "metadata": {},
   "source": [
    "<br>\n",
    "<br>\n",
    "<br>\n",
    "\n",
    "\n",
    "Work in progress. Trying two approaches."
   ]
  },
  {
   "cell_type": "markdown",
   "id": "13a6e54d-9dbe-42b7-8fe5-3b382a73e892",
   "metadata": {},
   "source": [
    "<br>\n",
    "<br>\n",
    "\n",
    "### 3.1. Try using the pipe task assembleCoadd\n",
    "\n",
    "https://pipelines.lsst.io/modules/lsst.pipe.tasks/index.html#lsst-pipe-tasks\n",
    "\n",
    "https://pipelines.lsst.io/modules/lsst.pipe.tasks/tasks/lsst.pipe.tasks.assembleCoadd.AssembleCoaddTask.html\n",
    "\n",
    "In tutorial-notebooks/05_Intro_to_Source_Detection.ipynb, pipe tasks are used, follow that example.\n",
    "\n",
    "Similar to NB 05, Jeff managed to use a couple of pipe.tasks for image differencing in https://github.com/rubin-dp0/delegate-contributions-dp01/blob/u/jcarlin/diff_im/diff_im/diff_im_test.ipynb\n",
    "\n",
    "Yusra shows use of tasks and configs in https://github.com/LSSTScienceCollaborations/StackClubCourse/blob/master/Session02/IntroToDataProductsAndTasks.ipynb\n",
    "\n",
    "From Yusra's NB, I'm trying to follow \"Background Subtraction and Task Configuration\" section in use of pipe task.\n",
    "\n",
    "<br>"
   ]
  },
  {
   "cell_type": "code",
   "execution_count": null,
   "id": "7702d0a3-2fc4-4413-a207-77fd2fe42f9e",
   "metadata": {},
   "outputs": [],
   "source": [
    "from lsst.pipe.tasks.assembleCoadd import AssembleCoaddTask"
   ]
  },
  {
   "cell_type": "code",
   "execution_count": null,
   "id": "98678043-68d1-4cf8-a490-0f002afa091b",
   "metadata": {},
   "outputs": [],
   "source": [
    "myConfig = AssembleCoaddTask.ConfigClass()"
   ]
  },
  {
   "cell_type": "code",
   "execution_count": null,
   "id": "5ba635c1-7bcb-4bf6-8513-f24e5ff07f09",
   "metadata": {},
   "outputs": [],
   "source": [
    "# call the result year3\n",
    "myConfig.coaddName = 'year3'"
   ]
  },
  {
   "cell_type": "code",
   "execution_count": null,
   "id": "14fe3d9a-1247-44ce-abc0-4fe8e203c526",
   "metadata": {},
   "outputs": [],
   "source": [
    "# yes i only want to do selected visits\n",
    "myConfig.doSelectVisits = True"
   ]
  },
  {
   "cell_type": "code",
   "execution_count": null,
   "id": "c166f252-8a9e-4667-9460-23ae1e58a85d",
   "metadata": {},
   "outputs": [],
   "source": [
    "# the list of selected visits\n",
    "myConfig.connections.selectedVisits = visit_list"
   ]
  },
  {
   "cell_type": "markdown",
   "id": "18878627-0047-47b5-9f73-405667c18743",
   "metadata": {},
   "source": [
    "What else do I need to specify in the config?"
   ]
  },
  {
   "cell_type": "code",
   "execution_count": null,
   "id": "2f82f508-4fea-45bd-849f-00f9130592e4",
   "metadata": {},
   "outputs": [],
   "source": [
    "myConfig"
   ]
  },
  {
   "cell_type": "code",
   "execution_count": null,
   "id": "16cb2bca-6954-439d-9cf1-9c1ebce4ed33",
   "metadata": {},
   "outputs": [],
   "source": [
    "myTask = AssembleCoaddTask(config=myConfig)"
   ]
  },
  {
   "cell_type": "code",
   "execution_count": null,
   "id": "71951b7b-ce4f-4b2e-ae32-13097529172c",
   "metadata": {},
   "outputs": [],
   "source": [
    "# myTask?"
   ]
  },
  {
   "cell_type": "code",
   "execution_count": null,
   "id": "56ccafda-3632-4068-aa14-a60e03961d92",
   "metadata": {},
   "outputs": [],
   "source": [
    "# help(myTask.run)"
   ]
  },
  {
   "cell_type": "markdown",
   "id": "ea614a45-c39d-4ea8-87f3-feb5d4bb5017",
   "metadata": {},
   "source": [
    "**To Figure Out**\n",
    "\n",
    "1. The `run` method requires inputs.\n",
    "I suspect it is insufficient to put the selected visits in the Config.\n",
    "I need to pass a query or dataIds for the inputs I want to coadd.\n",
    "\n",
    "2. I'm not sure if I should use `.run` or `.runDataRef`. \n",
    "The latter's description is \"Assemble a coadd from a set of Warps.\" which is actually all I want to do."
   ]
  },
  {
   "cell_type": "code",
   "execution_count": null,
   "id": "9e0ee109-0c5f-45ad-b660-cbb4625438e3",
   "metadata": {},
   "outputs": [],
   "source": [
    "# result = myTask.run()"
   ]
  },
  {
   "cell_type": "code",
   "execution_count": null,
   "id": "f40db7c2-f23d-4005-85c7-0d7a6813c361",
   "metadata": {},
   "outputs": [],
   "source": [
    "# result = myTask.runDataRef()"
   ]
  },
  {
   "cell_type": "code",
   "execution_count": null,
   "id": "0212f79d-2a96-4abb-9068-6b1ea38fa895",
   "metadata": {},
   "outputs": [],
   "source": [
    "# result"
   ]
  },
  {
   "cell_type": "code",
   "execution_count": null,
   "id": "2c4fccf2-6d5b-4b46-9866-ae4f84f43078",
   "metadata": {},
   "outputs": [],
   "source": [
    "# help(assembleCoaddTask)"
   ]
  },
  {
   "cell_type": "code",
   "execution_count": null,
   "id": "74bec8b7-d791-4c87-97fc-73fceeaeb7e2",
   "metadata": {},
   "outputs": [],
   "source": [
    "del myConfig, myTask"
   ]
  },
  {
   "cell_type": "markdown",
   "id": "0a0f3262-235a-4305-960f-8c189bd45198",
   "metadata": {},
   "source": [
    "<br>\n",
    "<br>\n",
    "\n",
    "### 3.2. Try following Nate's recommended way\n",
    "\n",
    "follow the steps by K-T in:\n",
    "\n",
    "https://community.lsst.org/t/figuring-out-how-to-call-the-python-api/6432/11\n",
    "\n",
    "as recommended by Nate in this post about recreating coadds:\n",
    "\n",
    "https://community.lsst.org/t/coadding-dp0-calexps-from-different-detectors-for-the-same-deepcoadd/6436/8\n",
    "\n",
    "Nate Lust also recommended to follow:\n",
    " * https://pipelines.lsst.io/v/weekly/modules/lsst.pipe.base/creating-a-pipeline.html\n",
    " * https://pipelines.lsst.io/v/weekly/modules/lsst.pipe.base/creating-a-pipelinetask.html\n",
    "\n",
    "\n",
    "**To Figure Out**:\n",
    "1. what config do i need to set?\n",
    "2. where am i even telling it to assemble a coadd from the inputs? how does this pipeline know what to do?"
   ]
  },
  {
   "cell_type": "code",
   "execution_count": null,
   "id": "86175eaf-7cd6-427d-bbe3-3bcb29617ea6",
   "metadata": {},
   "outputs": [],
   "source": [
    "from lsst.ctrl.mpexec import SimplePipelineExecutor\n",
    "from lsst.pipe.base import Pipeline"
   ]
  },
  {
   "cell_type": "markdown",
   "id": "874d5dd2-a4de-4fbc-b984-1bfda3c08ea9",
   "metadata": {},
   "source": [
    "repo and input collection are already defined"
   ]
  },
  {
   "cell_type": "code",
   "execution_count": null,
   "id": "32ce0277-a5bf-4dd7-b862-7c8e80f68eaf",
   "metadata": {},
   "outputs": [],
   "source": [
    "print(repo)\n",
    "print(collection)"
   ]
  },
  {
   "cell_type": "markdown",
   "id": "15ef1f72-478d-49e3-8f98-23d65750e059",
   "metadata": {},
   "source": [
    "#### create a collection just for me\n",
    "\n",
    "https://pipelines.lsst.io/py-api/lsst.daf.butler.Registry.html#lsst.daf.butler.Registry.registerCollection"
   ]
  },
  {
   "cell_type": "code",
   "execution_count": null,
   "id": "dfa09003-1b0e-47af-b00c-99a667c5051c",
   "metadata": {},
   "outputs": [],
   "source": [
    "output_collection = 'u/MelissaGraham/coadd_recreation_nb'"
   ]
  },
  {
   "cell_type": "code",
   "execution_count": null,
   "id": "0f4df65d-d41c-406f-95b3-e3a2168a1384",
   "metadata": {},
   "outputs": [],
   "source": [
    "# butler.registry.registerCollection(output_collection, type='RUN', doc='made for a tutorial')"
   ]
  },
  {
   "cell_type": "markdown",
   "id": "e9565d86-5836-4b23-b81b-cd921e968b0e",
   "metadata": {},
   "source": [
    "already done, so it appears in this list"
   ]
  },
  {
   "cell_type": "code",
   "execution_count": null,
   "id": "35154701-5e71-4ab0-ba7b-3cd741a7989e",
   "metadata": {},
   "outputs": [],
   "source": [
    "# for c in sorted(butler.registry.queryCollections()):\n",
    "#     print(c)"
   ]
  },
  {
   "cell_type": "markdown",
   "id": "d1b79d95-2eea-4e93-9937-439436529b8f",
   "metadata": {},
   "source": [
    "#### create the data query for my visits and detectors\n",
    "\n",
    "I learned what this should look like from https://pipelines.lsst.io/getting-started/coaddition.html"
   ]
  },
  {
   "cell_type": "code",
   "execution_count": null,
   "id": "fad3494e-43f4-480d-8472-db899e261cd3",
   "metadata": {},
   "outputs": [],
   "source": [
    "data_query = 'visit in ('+visit_list+')'"
   ]
  },
  {
   "cell_type": "code",
   "execution_count": null,
   "id": "06273b5c-ced9-4b92-a2b2-a5b5b56cb773",
   "metadata": {},
   "outputs": [],
   "source": [
    "print(data_query)"
   ]
  },
  {
   "cell_type": "markdown",
   "id": "2ac70923-102a-4e52-9577-169cce591b5e",
   "metadata": {},
   "source": [
    "#### set pipeline config\n",
    "\n",
    "unsure what is needed or how to figure it out\n",
    "\n",
    "label, key, and value are not needed? because we can use defaults?"
   ]
  },
  {
   "cell_type": "code",
   "execution_count": null,
   "id": "d2a6f59f-4ca6-4ffb-8023-4aae32a52e97",
   "metadata": {},
   "outputs": [],
   "source": [
    "### Use defaults\n",
    "# label = \n",
    "# key = \n",
    "# value = "
   ]
  },
  {
   "cell_type": "markdown",
   "id": "dee4d24b-a6ba-4f01-8f7a-b90a0e9fcb40",
   "metadata": {},
   "source": [
    "#### set up and run\n",
    "\n",
    "but where am i telling this pipeline just to execute the coadd step?"
   ]
  },
  {
   "cell_type": "code",
   "execution_count": null,
   "id": "8563694e-5b11-4679-9d0b-8bf741709bd8",
   "metadata": {},
   "outputs": [],
   "source": [
    "butler = SimplePipelineExecutor.prep_butler(repo,\n",
    "                                            inputs=['2.2i/runs/DP0.2/v23_0_1_rc1/PREOPS-905/pilot_tract4431'],\n",
    "                                            output='u/MelissaGraham/coadd_recreation_nb')"
   ]
  },
  {
   "cell_type": "code",
   "execution_count": null,
   "id": "d5900ae5-a8c8-425b-b42b-6dd666770483",
   "metadata": {},
   "outputs": [],
   "source": [
    "pipeline = Pipeline.from_uri('${PIPE_TASKS_DIR}/pipelines/DRP.yaml')"
   ]
  },
  {
   "cell_type": "code",
   "execution_count": null,
   "id": "775800c6-3288-4952-bae0-7c6ed91d39dc",
   "metadata": {},
   "outputs": [],
   "source": [
    "pipeline.addInstrument('LSSTCam-imSim')"
   ]
  },
  {
   "cell_type": "code",
   "execution_count": null,
   "id": "f52a8506-2657-45ca-a4e3-ab76cdd152c3",
   "metadata": {},
   "outputs": [],
   "source": [
    "# pipeline.addConfigOverride(label, key, value)"
   ]
  },
  {
   "cell_type": "markdown",
   "id": "62d61da2-7ae4-4087-aa2d-0d14a643de62",
   "metadata": {},
   "source": [
    "comment out below, not sure what it's doing yet"
   ]
  },
  {
   "cell_type": "code",
   "execution_count": null,
   "id": "86713a23-5a28-48bf-aba8-0d3c790ec34d",
   "metadata": {},
   "outputs": [],
   "source": [
    "# spe = SimplePipelineExecutor.from_pipeline(pipeline, where=data_query, butler=butler)\n",
    "# quanta = spe.run(True)"
   ]
  },
  {
   "cell_type": "code",
   "execution_count": null,
   "id": "20f94cad-c60a-4ed9-b5fa-a31eb964019e",
   "metadata": {},
   "outputs": [],
   "source": []
  },
  {
   "cell_type": "code",
   "execution_count": null,
   "id": "360e69de-0cfb-420f-98ac-e252dbc85c87",
   "metadata": {},
   "outputs": [],
   "source": []
  }
 ],
 "metadata": {
  "kernelspec": {
   "display_name": "LSST",
   "language": "python",
   "name": "lsst"
  },
  "language_info": {
   "codemirror_mode": {
    "name": "ipython",
    "version": 3
   },
   "file_extension": ".py",
   "mimetype": "text/x-python",
   "name": "python",
   "nbconvert_exporter": "python",
   "pygments_lexer": "ipython3",
   "version": "3.10.4"
  }
 },
 "nbformat": 4,
 "nbformat_minor": 5
}
