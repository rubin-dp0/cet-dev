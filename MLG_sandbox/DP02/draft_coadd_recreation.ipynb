{
 "cells": [
  {
   "cell_type": "markdown",
   "id": "88e46a87-3937-4534-ae66-8343f99049ed",
   "metadata": {},
   "source": [
    "<img align=\"left\" src = https://project.lsst.org/sites/default/files/Rubin-O-Logo_0.png width=250 style=\"padding: 10px\"> \n",
    "<b>DRAFT: Coadd Recreation</b> <br>\n",
    "Contact author(s): Melissa Graham <br>\n",
    "Last verified to run: <i>yyyy-mm-dd</i> <br>\n",
    "LSST Science Piplines version: Weekly <i>yyyy_xx</i> <br>\n",
    "Container Size: <i>medium</i> <br>\n",
    "Targeted learning level: intermediate <br>"
   ]
  },
  {
   "cell_type": "raw",
   "id": "8241df37-6f83-49d6-85da-9a96cee70972",
   "metadata": {},
   "source": [
    "TO DO:\n",
    " - complete header and introductory text\n",
    "   -- finish package list\n",
    "   -- add co-authors\n",
    "   -- move package imports from S.3. to S1.1.\n",
    " - remove/replace any remaining italics from NB template\n",
    " - S.2., instead of using deepCoadd inputs, consider querying for all calexps overlapping a location in a time window\n",
    "   -- because retrieving calexp metadata for all inputs is slower than just querying for the calexps you only want\n",
    "   -- or maybe for DP0.2 can use the new ccdVisit table to get dates of visits faster (look into it)\n",
    "   -- could teach use of deepCoadd inputs separately, or just show as a demo in this NB\n",
    " - S.3., need help"
   ]
  },
  {
   "cell_type": "code",
   "execution_count": 1,
   "id": "c3750d29-8d6c-4c65-996a-4afe8f784fab",
   "metadata": {},
   "outputs": [],
   "source": [
    "# %load_ext pycodestyle_magic\n",
    "# %flake8_on\n",
    "# import logging\n",
    "# logging.getLogger(\"flake8\").setLevel(logging.FATAL)"
   ]
  },
  {
   "cell_type": "markdown",
   "id": "985dbaac-2239-4e63-99af-069885693cd9",
   "metadata": {},
   "source": [
    "**Description:** Recreate a Coadded image from a subset of the input calexps."
   ]
  },
  {
   "cell_type": "markdown",
   "id": "835825c1-745b-4bb5-bad8-861812618231",
   "metadata": {},
   "source": [
    "**Skills:** Use of pipetasks for image coaddition. Creating and writing to Butler collections. Properties of deepCoadds."
   ]
  },
  {
   "cell_type": "markdown",
   "id": "e710443e-0f79-4a89-ae31-c07bed8e5d8d",
   "metadata": {},
   "source": [
    "**LSST Data Products:** deepCoadd, calexp"
   ]
  },
  {
   "cell_type": "markdown",
   "id": "5d2d1c4b-2893-4abc-99c3-c305338e5d05",
   "metadata": {},
   "source": [
    "**Packages:** _List the python packages used._ (_List the packages being taught first, e.g., afwDisplay for a notebook about displaying images. Then supporting packages, e.g., lsst.daf.butler for a notebook about displaying images. It is OK to leave out basic support packages like os or glob.)_"
   ]
  },
  {
   "cell_type": "markdown",
   "id": "5992b774-f0bf-49d7-8e23-7aca9788f6fb",
   "metadata": {},
   "source": [
    "**Credit:** Originally developed by Melissa Graham and **add names who helped**.\n",
    "Please consider acknowledging them if this notebook is used for the preparation of journal articles, software releases, or other notebooks."
   ]
  },
  {
   "cell_type": "markdown",
   "id": "37ebdbb7-c12d-4645-8259-13aed7872ebb",
   "metadata": {},
   "source": [
    "**Get Support:**\n",
    "Find DP0-related documentation and resources at <a href=\"https://dp0-1.lsst.io\">dp0-1.lsst.io</a>. Questions are welcome as new topics in the <a href=\"https://community.lsst.org/c/support/dp0\">Support - Data Preview 0 Category</a> of the Rubin Community Forum. Rubin staff will respond to all questions posted there."
   ]
  },
  {
   "cell_type": "markdown",
   "id": "7b41f9a0-c6b3-4279-bfe4-692ff5e9a473",
   "metadata": {},
   "source": [
    "## 1. Introduction\n",
    "\n",
    "This notebook shows how to retrieve information about the individual images that contributed to a deepCoadd, and how to make a new Coadded image using only a subset of the inputs.\n",
    "\n",
    "In the past you might have used iraf's imcombine, or Astromatics's SWarp, to coadd images.\n",
    "This notebook demonstrates the appropriate methods for coadding LSST images with the LSST Science Pipelines.\n",
    "\n",
    "Science applications of coadding a subsets of LSST images includes searching for faint, slowly-evolving transients or variables (e.g.,, coadding images by season), using the effects of differential chromatic refraction (e.g., coadding images in bins of airmass), or perhaps searching for low surface brightness features (e.g., coadding only dark-time images with the faintest sky backgrounds)."
   ]
  },
  {
   "cell_type": "markdown",
   "id": "0127a799-1cd7-4a7a-9deb-911938589161",
   "metadata": {},
   "source": [
    "### 1.1 Package Imports\n",
    "\n",
    "_All package imports should be done in the first code cell._\n",
    "\n",
    "_Provide explanation or external links to package documentation, where appropriate._\n",
    "\n",
    "_Use code cell comments to describe the packages being imported._"
   ]
  },
  {
   "cell_type": "code",
   "execution_count": 2,
   "id": "4aef3e1b-efee-4d8a-9ed0-d9a910be88d3",
   "metadata": {},
   "outputs": [],
   "source": [
    "import numpy as np\n",
    "import matplotlib.pyplot as plt\n",
    "import time\n",
    "\n",
    "import pandas\n",
    "pandas.set_option('display.max_rows', 1000)\n",
    "\n",
    "import lsst.daf.butler as dafButler\n",
    "\n",
    "import lsst.geom\n",
    "import lsst.afw.display as afwDisplay\n",
    "afwDisplay.setDefaultBackend('matplotlib')\n",
    "\n",
    "from astropy.time import Time"
   ]
  },
  {
   "cell_type": "markdown",
   "id": "633fe9bd-43cd-478e-81d9-d3fe6f712841",
   "metadata": {},
   "source": [
    "### 1.2 Set Up"
   ]
  },
  {
   "cell_type": "code",
   "execution_count": 3,
   "id": "9340359c-49d6-471e-af30-2b2387756468",
   "metadata": {},
   "outputs": [],
   "source": [
    "repo = 'dp02'\n",
    "# collection = '2.2i/runs/DP0.2/v23_0_1_rc1/PREOPS-905/pilot_tract4431'\n",
    "collection = '2.2i/runs/DP0.2/v23_0_2/PREOPS-905/step_all'"
   ]
  },
  {
   "cell_type": "markdown",
   "id": "d26cba5a-d752-4533-a83a-ef18af149d66",
   "metadata": {},
   "source": [
    "Known issue: it is OK to ignore a pink-window message saying \"WARNING: version mismatch between CFITSIO header (v4.000999999999999) and linked library (v4.01).\""
   ]
  },
  {
   "cell_type": "code",
   "execution_count": 4,
   "id": "6dcf3f46-f9b3-4e34-b755-563f3cc67486",
   "metadata": {},
   "outputs": [
    {
     "data": {
      "text/html": [
       "<pre style=\"margin: 0.1em;\n",
       "padding-left: 0.25em;\n",
       "border-left-style: solid;\n",
       "font-family: var(--jp-code-font-family);\n",
       "font-size: var(--jp-code-font-size);\n",
       "line-height: var(--jp-code-line-height);\n",
       "\"><span style=\"color: var(--jp-warn-color2)\">botocore.credentials</span> <span style=\"color: var(--jp-info-color0)\">INFO</span>: Found credentials in shared credentials file: /home/melissagraham/.lsst/aws-credentials.ini</pre>"
      ],
      "text/plain": [
       "<IPython.core.display.HTML object>"
      ]
     },
     "metadata": {},
     "output_type": "display_data"
    },
    {
     "name": "stderr",
     "output_type": "stream",
     "text": [
      "\n",
      "WARNING: version mismatch between CFITSIO header (v4.000999999999999) and linked library (v4.01).\n",
      "\n",
      "\n",
      "WARNING: version mismatch between CFITSIO header (v4.000999999999999) and linked library (v4.01).\n",
      "\n",
      "\n",
      "WARNING: version mismatch between CFITSIO header (v4.000999999999999) and linked library (v4.01).\n",
      "\n"
     ]
    }
   ],
   "source": [
    "butler = dafButler.Butler(repo, collections=collection)"
   ]
  },
  {
   "cell_type": "markdown",
   "id": "c42ce015-7441-4155-bc6c-201d4118efce",
   "metadata": {},
   "source": [
    "## 2. Identify the calexps to combine\n",
    "\n",
    "### 2.1. Start with a deepCoadd\n",
    "\n",
    "Choose the deepCoadd that contains the coordinates of a known galaxy cluster.\n",
    "These are the same coordinates we use in the introductory notebook."
   ]
  },
  {
   "cell_type": "code",
   "execution_count": 5,
   "id": "6e5849dd-f51c-4443-b3b9-48f73b5b3eae",
   "metadata": {},
   "outputs": [],
   "source": [
    "ra_deg = 55.745834\n",
    "dec_deg = -32.269167\n",
    "\n",
    "my_spherePoint = lsst.geom.SpherePoint(ra_deg*lsst.geom.degrees,\n",
    "                                       dec_deg*lsst.geom.degrees)\n",
    "\n",
    "skymap = butler.get('skyMap')\n",
    "my_tract = skymap.findTract(my_spherePoint)\n",
    "my_patch = my_tract.findPatch(my_spherePoint)\n",
    "\n",
    "dataId = {'band': 'i', 'tract': my_tract.tract_id, \n",
    "          'patch': my_patch.getSequentialIndex()}\n",
    "deepCoadd = butler.get('deepCoadd', dataId=dataId)"
   ]
  },
  {
   "cell_type": "markdown",
   "id": "88c4d270-a2bf-4d35-a5c8-560fd1e675b7",
   "metadata": {},
   "source": [
    "Uncomment the following cell to show the deepCoadd image."
   ]
  },
  {
   "cell_type": "code",
   "execution_count": 6,
   "id": "6ed19ab9-d079-42e4-bff4-55eeef94afcb",
   "metadata": {},
   "outputs": [],
   "source": [
    "# fig = plt.figure(figsize=(6, 4))\n",
    "# afw_display = afwDisplay.Display(1)\n",
    "# afw_display.scale('asinh', 'zscale')\n",
    "# afw_display.mtv(deepCoadd.image)\n",
    "# plt.gca().axis('off')"
   ]
  },
  {
   "cell_type": "markdown",
   "id": "34b35b55-74d4-422e-bf9d-a13c1aab45c1",
   "metadata": {},
   "source": [
    "It is not necessary to know the bounding box for a deepCoadd in order to find all of the calexps that were used to assemble it.\n",
    "But, if you want to learn more about the deepCoadd metadata, uncomment and execute the following cells."
   ]
  },
  {
   "cell_type": "markdown",
   "id": "da4ffcfe-64b9-4ebb-866b-8bf8852961bb",
   "metadata": {},
   "source": [
    "The deepCoadd's bounding box, corners, and WCS."
   ]
  },
  {
   "cell_type": "code",
   "execution_count": 7,
   "id": "8c89c7e6-e96d-4135-9e44-06b84987ffb2",
   "metadata": {},
   "outputs": [],
   "source": [
    "# deepCoadd_bbox = butler.get('deepCoadd.bbox', dataId=dataId)\n",
    "# print( deepCoadd_bbox.beginX, deepCoadd_bbox.beginY, \n",
    "#       deepCoadd_bbox.endX, deepCoadd_bbox.endY )\n",
    "\n",
    "# print( deepCoadd_bbox.getCorners() )\n",
    "\n",
    "# deepCoadd_wcs = butler.get('deepCoadd.wcs', dataId=dataId)\n",
    "# print( deepCoadd_wcs )\n",
    "\n",
    "# del deepCoadd_bbox, deepCoadd_wcs"
   ]
  },
  {
   "cell_type": "markdown",
   "id": "92be360e-c8d0-4b99-be77-827561954c5b",
   "metadata": {},
   "source": [
    "### 2.2. Retrieve deepCoadd inputs"
   ]
  },
  {
   "cell_type": "code",
   "execution_count": 8,
   "id": "b8c4f4b7-2447-4361-96c9-ca805d9106df",
   "metadata": {},
   "outputs": [
    {
     "name": "stdout",
     "output_type": "stream",
     "text": [
      "CPU times: user 1.9 s, sys: 855 ms, total: 2.76 s\n",
      "Wall time: 2.69 s\n"
     ]
    }
   ],
   "source": [
    "%%time\n",
    "coadd_inputs = butler.get(\"deepCoadd_calexp.coaddInputs\", dataId)"
   ]
  },
  {
   "cell_type": "code",
   "execution_count": 9,
   "id": "8071d622-d1ac-48b1-be5b-09918a2a72f1",
   "metadata": {},
   "outputs": [],
   "source": [
    "coadd_inputs_ccds_table = coadd_inputs.ccds.asAstropy()"
   ]
  },
  {
   "cell_type": "markdown",
   "id": "b5f59d6d-53f7-4a81-bfb4-d4afa4e58900",
   "metadata": {},
   "source": [
    "Uncomment the following cell to view the table."
   ]
  },
  {
   "cell_type": "code",
   "execution_count": 10,
   "id": "2cd35310-8842-4c5a-82c3-6b7dc6af0c53",
   "metadata": {},
   "outputs": [
    {
     "data": {
      "text/plain": [
       "571"
      ]
     },
     "execution_count": 10,
     "metadata": {},
     "output_type": "execute_result"
    }
   ],
   "source": [
    "# coadd_inputs_ccds_table\n",
    "len(coadd_inputs_ccds_table)"
   ]
  },
  {
   "cell_type": "code",
   "execution_count": 11,
   "id": "475a1a94-a647-47da-b408-2076f7362e0c",
   "metadata": {},
   "outputs": [],
   "source": [
    "all_visits = np.asarray(coadd_inputs_ccds_table['visit'], dtype='int')\n",
    "all_ccds = np.asarray(coadd_inputs_ccds_table['ccd'], dtype='int')"
   ]
  },
  {
   "cell_type": "markdown",
   "id": "e32e6296-2906-4264-ace6-d23c462e9a14",
   "metadata": {},
   "source": [
    "### 2.3. Get metadata for the input calexps\n",
    "\n",
    "**THIS IS SLOW, SEE TO DO LIST FOR OPTIONS**\n",
    "\n",
    "It is faster to only retrieve metadata from the calexp metadata for unique visits (since all ccds of a given visit will have the same MJD). \n",
    "The cell below takes four minutes, so we have saved the results to a file.\n",
    "\n",
    "Retrieve metadata of observation date and airmass for this example.\n",
    "This notebook will only use observation date to identify a subset to coadd.\n",
    "Using a user-specified airmass range will be left as an exercise for the learner.\n",
    "\n",
    "We do not need to retrieve the filter for these visits, because we specified i-band for the deepCoadd, and these are only the visits that contributed to that deepCoadd -- so they are all i-band, too."
   ]
  },
  {
   "cell_type": "code",
   "execution_count": 12,
   "id": "2c52cffe-301f-4e4e-9671-52e58b855d78",
   "metadata": {},
   "outputs": [],
   "source": [
    "# %%time\n",
    "\n",
    "# unique_visits = np.unique(all_visits)\n",
    "# print(len(unique_visits))\n",
    "\n",
    "# unique_visits_mjds = np.zeros( len(unique_visits), dtype='float' )\n",
    "# unique_visits_airmass = np.zeros( len(unique_visits), dtype='float' )\n",
    "# for i in range(len(unique_visits)):\n",
    "#     calexp_md = butler.get('calexp.metadata', detector=1, visit=unique_visits[i])\n",
    "#     unique_visits_mjds[i] = Time(calexp_md['DATE-END'], format='isot', scale='utc').mjd\n",
    "#     unique_visits_airmass[i] = calexp_md['AIRMASS']\n",
    "#     del calexp_md\n",
    "\n",
    "# fout = open('data/coadd_inputs_metadata.txt', 'w')\n",
    "# for i in range(len(unique_visits)):\n",
    "#     fout.write('%10i %10.4f %5.3f \\n' % (unique_visits[i], \n",
    "#                                          unique_visits_mjds[i], \n",
    "#                                          unique_visits_airmass[i]))\n",
    "# fout.close()"
   ]
  },
  {
   "cell_type": "code",
   "execution_count": 13,
   "id": "ad39f8ff-54e6-4d35-9459-00c721c5459c",
   "metadata": {},
   "outputs": [],
   "source": [
    "unique_visits = np.loadtxt('data/coadd_inputs_metadata.txt', dtype='int', usecols=(0))\n",
    "unique_visits_mjds = np.loadtxt('data/coadd_inputs_metadata.txt', dtype='float', usecols=(1))\n",
    "unique_visits_airmass = np.loadtxt('data/coadd_inputs_metadata.txt', dtype='float', usecols=(2))\n",
    "\n",
    "all_mjds = np.zeros(len(all_visits), dtype='float')\n",
    "all_airmass = np.zeros(len(all_visits), dtype='float')\n",
    "for i in range(len(all_visits)):\n",
    "    tx = np.where( all_visits[i] == unique_visits )[0]\n",
    "    try:\n",
    "        len(tx) == 1\n",
    "    except:\n",
    "        print('error, no match for a visit to a unique visit')\n",
    "    else:\n",
    "        all_mjds[i] = unique_visits_mjds[tx]\n",
    "        all_airmass[i] = unique_visits_airmass[tx]\n",
    "\n",
    "del unique_visits, unique_visits_mjds, unique_visits_airmass"
   ]
  },
  {
   "cell_type": "markdown",
   "id": "ac469ac1-fb2d-4a9b-9b91-1614d822ece3",
   "metadata": {},
   "source": [
    "Show how observations for this deepCoadd were acquired over time, and identify a date range.\n",
    "\n",
    "In the plot we call this the \"season of interest\", but it could be a shorter or longer time-frame."
   ]
  },
  {
   "cell_type": "code",
   "execution_count": 14,
   "id": "e01c95d3-75c5-46e0-9cf2-0ffc250256b5",
   "metadata": {},
   "outputs": [
    {
     "data": {
      "image/png": "[encoded data removed]",
      "text/plain": [
       "<Figure size 576x360 with 1 Axes>"
      ]
     },
     "metadata": {
      "needs_background": "light"
     },
     "output_type": "display_data"
    }
   ],
   "source": [
    "fig = plt.figure(figsize=(8,5))\n",
    "\n",
    "sort_all_mjds = np.sort(all_mjds)\n",
    "yaxis = np.arange( len(all_mjds), dtype='int')\n",
    "\n",
    "plt.plot( sort_all_mjds, yaxis, ls='solid', lw=3, color='darkred' )\n",
    "\n",
    "plt.xlabel( 'MJD', fontsize=18 )\n",
    "plt.ylabel( 'Cumulative i-band Images', fontsize=18 )\n",
    "\n",
    "plt.axvline(60500, color='dodgerblue')\n",
    "plt.axvline(60750, color='dodgerblue')\n",
    "plt.text(59800,500,'season of interest', color='dodgerblue', fontsize=18)\n",
    "\n",
    "plt.show()"
   ]
  },
  {
   "cell_type": "markdown",
   "id": "05c823b9-d8ed-4803-948c-88e916ae59c2",
   "metadata": {},
   "source": [
    "**Exercise for the learner:** plot a histogram of input visit airmass.\n",
    "Use a constraint on airmass instead of date to identify a subset of calexps to coaadd in Section 3."
   ]
  },
  {
   "cell_type": "code",
   "execution_count": 15,
   "id": "55d5878e-fe22-4b46-9c2e-bb1ec1c8c4c5",
   "metadata": {},
   "outputs": [],
   "source": [
    "# plt.hist(all_airmass, bins=20)\n",
    "# plt.show()"
   ]
  },
  {
   "cell_type": "markdown",
   "id": "1b6e3e84-2bd4-4121-a254-3143b0e318d7",
   "metadata": {},
   "source": [
    "### 2.4. List calexps in the \"season of interest\"\n",
    "\n",
    "Put this list of visits into a string, separated by commas, for use in a query below."
   ]
  },
  {
   "cell_type": "code",
   "execution_count": 16,
   "id": "27eda2c4-8e57-4696-98ed-42566c19c9aa",
   "metadata": {},
   "outputs": [],
   "source": [
    "tx = np.where( (all_mjds > 60500) & (all_mjds < 60750) )[0]\n",
    "\n",
    "visit_list = ''\n",
    "for i,x in enumerate(tx):\n",
    "    if i < len(tx)-1:\n",
    "        visit_list += str(all_visits[x])+', '\n",
    "    elif i == len(tx)-1:\n",
    "        visit_list += str(all_visits[x])\n",
    "\n",
    "# print(visit_list)\n",
    "del tx"
   ]
  },
  {
   "cell_type": "markdown",
   "id": "7b4395c6-f17d-4d5e-9af7-0ebf22c40d34",
   "metadata": {},
   "source": [
    "<br>\n",
    "<br>\n",
    "<br>\n",
    "\n",
    "## 3. Create a coadd with the subset of visits \n",
    "\n",
    "Work in progress. Trying two approaches."
   ]
  },
  {
   "cell_type": "markdown",
   "id": "13a6e54d-9dbe-42b7-8fe5-3b382a73e892",
   "metadata": {},
   "source": [
    "<br>\n",
    "<br>\n",
    "\n",
    "### 3.1. Try using the pipe task assembleCoadd\n",
    "\n",
    "https://pipelines.lsst.io/modules/lsst.pipe.tasks/index.html#lsst-pipe-tasks\n",
    "\n",
    "https://pipelines.lsst.io/modules/lsst.pipe.tasks/tasks/lsst.pipe.tasks.assembleCoadd.AssembleCoaddTask.html\n",
    "\n",
    "In tutorial-notebooks/05_Intro_to_Source_Detection.ipynb, pipe tasks are used, follow that example.\n",
    "\n",
    "Similar to NB 05, Jeff managed to use a couple of pipe.tasks for image differencing in https://github.com/rubin-dp0/delegate-contributions-dp01/blob/u/jcarlin/diff_im/diff_im/diff_im_test.ipynb\n",
    "\n",
    "Yusra shows use of tasks and configs in https://github.com/LSSTScienceCollaborations/StackClubCourse/blob/master/Session02/IntroToDataProductsAndTasks.ipynb\n",
    "\n",
    "From Yusra's NB, I'm trying to follow \"Background Subtraction and Task Configuration\" section in use of pipe task.\n",
    "\n",
    "<br>"
   ]
  },
  {
   "cell_type": "code",
   "execution_count": 17,
   "id": "7702d0a3-2fc4-4413-a207-77fd2fe42f9e",
   "metadata": {},
   "outputs": [],
   "source": [
    "from lsst.pipe.tasks.assembleCoadd import AssembleCoaddTask"
   ]
  },
  {
   "cell_type": "code",
   "execution_count": 18,
   "id": "98678043-68d1-4cf8-a490-0f002afa091b",
   "metadata": {},
   "outputs": [],
   "source": [
    "myConfig = AssembleCoaddTask.ConfigClass()"
   ]
  },
  {
   "cell_type": "code",
   "execution_count": 19,
   "id": "5ba635c1-7bcb-4bf6-8513-f24e5ff07f09",
   "metadata": {},
   "outputs": [],
   "source": [
    "# call the result year3\n",
    "myConfig.coaddName = 'year3'"
   ]
  },
  {
   "cell_type": "code",
   "execution_count": 20,
   "id": "14fe3d9a-1247-44ce-abc0-4fe8e203c526",
   "metadata": {},
   "outputs": [],
   "source": [
    "# yes i only want to do selected visits\n",
    "myConfig.doSelectVisits = True"
   ]
  },
  {
   "cell_type": "code",
   "execution_count": 21,
   "id": "c166f252-8a9e-4667-9460-23ae1e58a85d",
   "metadata": {},
   "outputs": [],
   "source": [
    "# the list of selected visits\n",
    "myConfig.connections.selectedVisits = visit_list"
   ]
  },
  {
   "cell_type": "markdown",
   "id": "18878627-0047-47b5-9f73-405667c18743",
   "metadata": {},
   "source": [
    "What else do I need to specify in the config?"
   ]
  },
  {
   "cell_type": "code",
   "execution_count": 22,
   "id": "2f82f508-4fea-45bd-849f-00f9130592e4",
   "metadata": {},
   "outputs": [
    {
     "data": {
      "text/plain": [
       "lsst.pipe.tasks.assembleCoadd.AssembleCoaddConfig(saveMetadata=True, saveLogOutput=True, coaddName='year3', select={}, badMaskPlanes=['NO_DATA', 'BAD', 'SAT', 'EDGE'], inputRecorder={'saveEmptyCcds': False, 'saveErrorCcds': False, 'saveVisitGoodPix': True, 'saveCcdWeights': True}, doPsfMatch=False, modelPsf={'size': None, 'sizeFactor': 3.0, 'minSize': 5, 'maxSize': None, 'defaultFwhm': 3.0, 'addWing': True, 'wingFwhmFactor': 2.5, 'wingAmplitude': 0.1}, doApplyExternalPhotoCalib=False, useGlobalExternalPhotoCalib=True, externalPhotoCalibName='jointcal', doApplyExternalSkyWcs=False, useGlobalExternalSkyWcs=False, externalSkyWcsName='jointcal', includeCalibVar=False, matchingKernelSize=21, warpType='direct', subregionSize=[2000, 2000], statistic='MEANCLIP', doOnlineForMean=False, doSigmaClip=False, sigmaClip=3.0, clipIter=2, calcErrorFromInputVariance=True, scaleZeroPoint={'zeroPoint': 27.0}, doInterp=True, interpImage={'modelPsf': {'size': None, 'sizeFactor': 3.0, 'minSize': 5, 'maxSize': None, 'defaultFwhm': 3.0, 'addWing': True, 'wingFwhmFactor': 2.5, 'wingAmplitude': 0.1}, 'useFallbackValueAtEdge': True, 'fallbackValueType': 'MEDIAN', 'fallbackUserValue': 0.0, 'negativeFallbackAllowed': False, 'transpose': False}, doWrite=True, doNImage=False, doUsePsfMatchedPolygons=False, maskPropagationThresholds={'SAT': 0.1}, removeMaskPlanes=['NOT_DEBLENDED'], doMaskBrightObjects=False, brightObjectMaskName='BRIGHT_OBJECT', coaddPsf={'cacheSize': 10000, 'warpingKernelName': 'lanczos3'}, doAttachTransmissionCurve=False, hasFakes=False, doSelectVisits=True, doInputMap=False, inputMapper={'nside': 32768, 'nside_coverage': 256, 'bad_mask_min_coverage': 0.5}, connections={'inputWarps': '{inputCoaddName}Coadd_{warpType}Warp', 'skyMap': 'skyMap', 'selectedVisits': '731753, 731753, 731753, 687427, 687427, 687427, 687427, 687427, 682821, 682821, 682821, 682821, 682821, 654498, 654498, 654498, 687599, 687599, 654464, 654464, 682771, 682771, 682771, 682771, 682771, 731790, 731790, 731790, 731790, 678546, 678546, 678546, 678546, 692583, 692583, 692583, 692583, 679456, 679456, 679456, 679456, 682811, 682811, 682811, 682811, 654466, 654466, 654466, 654466, 665694, 665694, 654496, 654496, 654496, 654496, 687428, 687428, 687428, 687428, 678507, 678507, 678507, 678507, 692613, 692613, 692613, 692613, 641121, 641121, 641121, 641121, 693405, 693405, 693405, 693405, 665695, 665695, 665695, 665695, 713283, 713283, 635793, 635793, 635793, 635793, 635793, 635793, 766972, 766972, 635827, 635827, 635827, 635827, 635827, 682810, 682810, 682810, 682810, 682810, 682810, 693452, 693452, 693452, 693452, 641073, 641073, 641116, 641116, 654465, 654465, 654465, 654465, 693404, 693404, 693404, 693404, 713248, 713248, 766973, 766973', 'brightObjectMask': 'brightObjectMask', 'coaddExposure': '{outputCoaddName}Coadd{warpTypeSuffix}', 'nImage': '{outputCoaddName}Coadd_nImage', 'inputMap': '{outputCoaddName}Coadd_inputMap', 'inputCoaddName': 'deep', 'outputCoaddName': 'deep', 'warpType': 'direct', 'warpTypeSuffix': ''})"
      ]
     },
     "execution_count": 22,
     "metadata": {},
     "output_type": "execute_result"
    }
   ],
   "source": [
    "myConfig"
   ]
  },
  {
   "cell_type": "code",
   "execution_count": 23,
   "id": "16cb2bca-6954-439d-9cf1-9c1ebce4ed33",
   "metadata": {},
   "outputs": [],
   "source": [
    "myTask = AssembleCoaddTask(config=myConfig)"
   ]
  },
  {
   "cell_type": "code",
   "execution_count": 24,
   "id": "71951b7b-ce4f-4b2e-ae32-13097529172c",
   "metadata": {},
   "outputs": [],
   "source": [
    "# myTask?"
   ]
  },
  {
   "cell_type": "code",
   "execution_count": 25,
   "id": "56ccafda-3632-4068-aa14-a60e03961d92",
   "metadata": {},
   "outputs": [],
   "source": [
    "# help(myTask.run)"
   ]
  },
  {
   "cell_type": "markdown",
   "id": "ea614a45-c39d-4ea8-87f3-feb5d4bb5017",
   "metadata": {},
   "source": [
    "**To Figure Out**\n",
    "\n",
    "1. The `run` method requires inputs.\n",
    "I suspect it is insufficient to put the selected visits in the Config.\n",
    "I need to pass a query or dataIds for the inputs I want to coadd.\n",
    "\n",
    "2. I'm not sure if I should use `.run` or `.runDataRef`. \n",
    "The latter's description is \"Assemble a coadd from a set of Warps.\" which is actually all I want to do."
   ]
  },
  {
   "cell_type": "code",
   "execution_count": 26,
   "id": "9e0ee109-0c5f-45ad-b660-cbb4625438e3",
   "metadata": {},
   "outputs": [],
   "source": [
    "# result = myTask.run()"
   ]
  },
  {
   "cell_type": "code",
   "execution_count": 27,
   "id": "f40db7c2-f23d-4005-85c7-0d7a6813c361",
   "metadata": {},
   "outputs": [],
   "source": [
    "# result = myTask.runDataRef()"
   ]
  },
  {
   "cell_type": "code",
   "execution_count": 28,
   "id": "0212f79d-2a96-4abb-9068-6b1ea38fa895",
   "metadata": {},
   "outputs": [],
   "source": [
    "# result"
   ]
  },
  {
   "cell_type": "code",
   "execution_count": 29,
   "id": "2c4fccf2-6d5b-4b46-9866-ae4f84f43078",
   "metadata": {},
   "outputs": [],
   "source": [
    "# help(assembleCoaddTask)"
   ]
  },
  {
   "cell_type": "code",
   "execution_count": 30,
   "id": "74bec8b7-d791-4c87-97fc-73fceeaeb7e2",
   "metadata": {},
   "outputs": [],
   "source": [
    "del myConfig, myTask"
   ]
  },
  {
   "cell_type": "markdown",
   "id": "0a0f3262-235a-4305-960f-8c189bd45198",
   "metadata": {},
   "source": [
    "<br>\n",
    "<br>\n",
    "\n",
    "### 3.2. Try following Nate's recommended way\n",
    "\n",
    "follow the steps by K-T in:\n",
    "\n",
    "https://community.lsst.org/t/figuring-out-how-to-call-the-python-api/6432/11\n",
    "\n",
    "as recommended by Nate in this post about recreating coadds:\n",
    "\n",
    "https://community.lsst.org/t/coadding-dp0-calexps-from-different-detectors-for-the-same-deepcoadd/6436/8\n",
    "\n",
    "Nate Lust also recommended to follow:\n",
    " * https://pipelines.lsst.io/v/weekly/modules/lsst.pipe.base/creating-a-pipeline.html\n",
    " * https://pipelines.lsst.io/v/weekly/modules/lsst.pipe.base/creating-a-pipelinetask.html\n",
    "\n",
    "\n",
    "**To Figure Out**:\n",
    "1. what config do i need to set?\n",
    "2. where am i even telling it to assemble a coadd from the inputs? how does this pipeline know what to do?"
   ]
  },
  {
   "cell_type": "code",
   "execution_count": 31,
   "id": "86175eaf-7cd6-427d-bbe3-3bcb29617ea6",
   "metadata": {},
   "outputs": [],
   "source": [
    "from lsst.ctrl.mpexec import SimplePipelineExecutor\n",
    "from lsst.pipe.base import Pipeline"
   ]
  },
  {
   "cell_type": "markdown",
   "id": "874d5dd2-a4de-4fbc-b984-1bfda3c08ea9",
   "metadata": {},
   "source": [
    "repo and input collection are already defined"
   ]
  },
  {
   "cell_type": "code",
   "execution_count": 32,
   "id": "32ce0277-a5bf-4dd7-b862-7c8e80f68eaf",
   "metadata": {},
   "outputs": [
    {
     "name": "stdout",
     "output_type": "stream",
     "text": [
      "dp02\n",
      "2.2i/runs/DP0.2/v23_0_2/PREOPS-905/step_all\n"
     ]
    }
   ],
   "source": [
    "print(repo)\n",
    "print(collection)"
   ]
  },
  {
   "cell_type": "markdown",
   "id": "15ef1f72-478d-49e3-8f98-23d65750e059",
   "metadata": {},
   "source": [
    "#### create a collection just for me\n",
    "\n",
    "https://pipelines.lsst.io/py-api/lsst.daf.butler.Registry.html#lsst.daf.butler.Registry.registerCollection"
   ]
  },
  {
   "cell_type": "code",
   "execution_count": 33,
   "id": "dfa09003-1b0e-47af-b00c-99a667c5051c",
   "metadata": {},
   "outputs": [],
   "source": [
    "output_collection = 'u/MelissaGraham/coadd_recreation_nb'"
   ]
  },
  {
   "cell_type": "code",
   "execution_count": 34,
   "id": "0f4df65d-d41c-406f-95b3-e3a2168a1384",
   "metadata": {},
   "outputs": [],
   "source": [
    "# butler.registry.registerCollection(output_collection, type='RUN', doc='made for a tutorial')"
   ]
  },
  {
   "cell_type": "markdown",
   "id": "e9565d86-5836-4b23-b81b-cd921e968b0e",
   "metadata": {},
   "source": [
    "already done, so it appears in this list"
   ]
  },
  {
   "cell_type": "code",
   "execution_count": 35,
   "id": "35154701-5e71-4ab0-ba7b-3cd741a7989e",
   "metadata": {},
   "outputs": [],
   "source": [
    "# for c in sorted(butler.registry.queryCollections()):\n",
    "#     print(c)"
   ]
  },
  {
   "cell_type": "markdown",
   "id": "d1b79d95-2eea-4e93-9937-439436529b8f",
   "metadata": {},
   "source": [
    "#### create the data query for my visits and detectors\n",
    "\n",
    "I learned what this should look like from https://pipelines.lsst.io/getting-started/coaddition.html"
   ]
  },
  {
   "cell_type": "code",
   "execution_count": 37,
   "id": "fad3494e-43f4-480d-8472-db899e261cd3",
   "metadata": {},
   "outputs": [],
   "source": [
    "data_query = 'visit in ('+visit_list+')'"
   ]
  },
  {
   "cell_type": "code",
   "execution_count": 38,
   "id": "06273b5c-ced9-4b92-a2b2-a5b5b56cb773",
   "metadata": {},
   "outputs": [
    {
     "name": "stdout",
     "output_type": "stream",
     "text": [
      "visit in (731753, 731753, 731753, 687427, 687427, 687427, 687427, 687427, 682821, 682821, 682821, 682821, 682821, 654498, 654498, 654498, 687599, 687599, 654464, 654464, 682771, 682771, 682771, 682771, 682771, 731790, 731790, 731790, 731790, 678546, 678546, 678546, 678546, 692583, 692583, 692583, 692583, 679456, 679456, 679456, 679456, 682811, 682811, 682811, 682811, 654466, 654466, 654466, 654466, 665694, 665694, 654496, 654496, 654496, 654496, 687428, 687428, 687428, 687428, 678507, 678507, 678507, 678507, 692613, 692613, 692613, 692613, 641121, 641121, 641121, 641121, 693405, 693405, 693405, 693405, 665695, 665695, 665695, 665695, 713283, 713283, 635793, 635793, 635793, 635793, 635793, 635793, 766972, 766972, 635827, 635827, 635827, 635827, 635827, 682810, 682810, 682810, 682810, 682810, 682810, 693452, 693452, 693452, 693452, 641073, 641073, 641116, 641116, 654465, 654465, 654465, 654465, 693404, 693404, 693404, 693404, 713248, 713248, 766973, 766973)\n"
     ]
    }
   ],
   "source": [
    "print(data_query)"
   ]
  },
  {
   "cell_type": "markdown",
   "id": "2ac70923-102a-4e52-9577-169cce591b5e",
   "metadata": {},
   "source": [
    "#### set pipeline config\n",
    "\n",
    "unsure what is needed or how to figure it out\n",
    "\n",
    "label, key, and value are not needed? because we can use defaults?"
   ]
  },
  {
   "cell_type": "code",
   "execution_count": 39,
   "id": "d2a6f59f-4ca6-4ffb-8023-4aae32a52e97",
   "metadata": {},
   "outputs": [],
   "source": [
    "### Use defaults\n",
    "# label = \n",
    "# key = \n",
    "# value = "
   ]
  },
  {
   "cell_type": "markdown",
   "id": "dee4d24b-a6ba-4f01-8f7a-b90a0e9fcb40",
   "metadata": {},
   "source": [
    "#### set up and run\n",
    "\n",
    "but where am i telling this pipeline just to execute the coadd step?"
   ]
  },
  {
   "cell_type": "code",
   "execution_count": 40,
   "id": "8563694e-5b11-4679-9d0b-8bf741709bd8",
   "metadata": {},
   "outputs": [],
   "source": [
    "butler = SimplePipelineExecutor.prep_butler(repo,\n",
    "                                            inputs=['2.2i/runs/DP0.2/v23_0_1_rc1/PREOPS-905/pilot_tract4431'],\n",
    "                                            output='u/MelissaGraham/coadd_recreation_nb')"
   ]
  },
  {
   "cell_type": "code",
   "execution_count": 41,
   "id": "d5900ae5-a8c8-425b-b42b-6dd666770483",
   "metadata": {},
   "outputs": [],
   "source": [
    "pipeline = Pipeline.from_uri('${PIPE_TASKS_DIR}/pipelines/DRP.yaml')"
   ]
  },
  {
   "cell_type": "code",
   "execution_count": 42,
   "id": "775800c6-3288-4952-bae0-7c6ed91d39dc",
   "metadata": {},
   "outputs": [],
   "source": [
    "pipeline.addInstrument('LSSTCam-imSim')"
   ]
  },
  {
   "cell_type": "code",
   "execution_count": 43,
   "id": "f52a8506-2657-45ca-a4e3-ab76cdd152c3",
   "metadata": {},
   "outputs": [],
   "source": [
    "# pipeline.addConfigOverride(label, key, value)"
   ]
  },
  {
   "cell_type": "markdown",
   "id": "62d61da2-7ae4-4087-aa2d-0d14a643de62",
   "metadata": {},
   "source": [
    "comment out below, not sure what it's doing yet"
   ]
  },
  {
   "cell_type": "code",
   "execution_count": 44,
   "id": "86713a23-5a28-48bf-aba8-0d3c790ec34d",
   "metadata": {},
   "outputs": [],
   "source": [
    "# spe = SimplePipelineExecutor.from_pipeline(pipeline, where=data_query, butler=butler)\n",
    "# quanta = spe.run(True)"
   ]
  },
  {
   "cell_type": "code",
   "execution_count": null,
   "id": "20f94cad-c60a-4ed9-b5fa-a31eb964019e",
   "metadata": {},
   "outputs": [],
   "source": []
  },
  {
   "cell_type": "code",
   "execution_count": null,
   "id": "360e69de-0cfb-420f-98ac-e252dbc85c87",
   "metadata": {},
   "outputs": [],
   "source": []
  }
 ],
 "metadata": {
  "kernelspec": {
   "display_name": "LSST",
   "language": "python",
   "name": "lsst"
  },
  "language_info": {
   "codemirror_mode": {
    "name": "ipython",
    "version": 3
   },
   "file_extension": ".py",
   "mimetype": "text/x-python",
   "name": "python",
   "nbconvert_exporter": "python",
   "pygments_lexer": "ipython3",
   "version": "3.10.4"
  }
 },
 "nbformat": 4,
 "nbformat_minor": 5
}
