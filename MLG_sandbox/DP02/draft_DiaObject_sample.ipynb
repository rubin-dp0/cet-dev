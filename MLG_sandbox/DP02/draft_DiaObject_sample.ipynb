{
 "cells": [
  {
   "cell_type": "markdown",
   "id": "749b0ddf",
   "metadata": {},
   "source": [
    "<img align=\"left\" src = https://project.lsst.org/sites/default/files/Rubin-O-Logo_0.png width=250 style=\"padding: 10px\"> \n",
    "<b>DiaObject Sample Identification</b> <br>\n",
    "Contact author: Melissa Graham <br>\n",
    "Last verified to run: <i>yyyy-mm-dd</i> <br>\n",
    "LSST Science Piplines version: Weekly <i>yyyy_xx</i> <br>\n",
    "Container Size: medium <br>\n",
    "Targeted learning level: intermediate <br>"
   ]
  },
  {
   "cell_type": "raw",
   "id": "1aaf1e41-a215-4ed4-b7b6-596ef98c44b5",
   "metadata": {},
   "source": [
    "known issues to fix:\n",
    " - scisql_fluxToAbMag(flux/1e32)\n",
    " - is NOT doing a good job of finding low-z SN-like DiaObjs!!\n",
    "     -- the truth table suggests ~1000 SNeIa with z<0.2 were injected, so...\n",
    " - placeholder for reference the lightcurve notebook in Section 1\n",
    " - placeholder link to DP0.2 DPDD in Section 1"
   ]
  },
  {
   "cell_type": "code",
   "execution_count": null,
   "id": "7acc79a4-8530-42d9-96e5-b7acb4397864",
   "metadata": {},
   "outputs": [],
   "source": [
    "%load_ext pycodestyle_magic\n",
    "%flake8_on\n",
    "import logging\n",
    "logging.getLogger(\"flake8\").setLevel(logging.FATAL)"
   ]
  },
  {
   "cell_type": "markdown",
   "id": "9da1a210-d858-42fe-8591-570965b8be1a",
   "metadata": {},
   "source": [
    "**Description:** To use the `DiaObject` catalog parameters to identify samples of time-variable objects of interest."
   ]
  },
  {
   "cell_type": "markdown",
   "id": "80a0baf5-51ad-40ec-8991-060a7b27c289",
   "metadata": {},
   "source": [
    "**Skills:** Use the TAP service. Use the DP0.2 time-domain catalogs."
   ]
  },
  {
   "cell_type": "markdown",
   "id": "393da88f-7978-4920-aa4a-a9830df6eed9",
   "metadata": {},
   "source": [
    "**LSST Data Products:** DP0.2 `DiaObject` and `DiaSource` table data."
   ]
  },
  {
   "cell_type": "markdown",
   "id": "5c67fab9-136a-4adc-bb42-142b91ab69dd",
   "metadata": {},
   "source": [
    "**Packages:** lsst.rsp, astropy.cosmology, numpy, matplotlib"
   ]
  },
  {
   "cell_type": "markdown",
   "id": "8f72b27f",
   "metadata": {},
   "source": [
    "**Credit:** Originally developed by Melissa Graham and the Rubin Community Engagement Team for Data Preview 0. Please consider acknowledging them if this notebook is used for the preparation of journal articles, software releases, or other notebooks."
   ]
  },
  {
   "cell_type": "markdown",
   "id": "28e91cbf-ab7f-4e26-9276-b00299d6065e",
   "metadata": {},
   "source": [
    "**Get Support:**\n",
    "Find DP0-related documentation and resources at <a href=\"https://dp0-1.lsst.io\">dp0-1.lsst.io</a>. Questions are welcome as new topics in the <a href=\"https://community.lsst.org/c/support/dp0\">Support - Data Preview 0 Category</a> of the Rubin Community Forum. Rubin staff will respond to all questions posted there."
   ]
  },
  {
   "cell_type": "markdown",
   "id": "cfc73be0",
   "metadata": {},
   "source": [
    "## 1. Introduction\n",
    "\n",
    "This notebook guides the use of DiaObject summary parameters to identify a sample of objects of interest for further study.\n",
    "\n",
    "As an example, a sample of potential low-redshift, well-sampled Type Ia supernovae are identified. \n",
    "\n",
    "This notebook uses the DiaObject lightcurve summary parameters that were introduced in <b>NB REF HERE</b>.\n",
    "\n",
    "Learn more about the contents of the DiaObject and DiaSource tables in the **(Placeholder <a href=\"https://dp0-1.lsst.io/data-products-dp0-1/index.html#dp0-1-data-products-definition-document-dpdd\">DP0.2 Data Products Definitions Documentation</a>)**.\n",
    "\n",
    "**Caveats:** The DP0.2 `DiaObject` table is missing some variability characterization parameters (<a href=\"https://dmtn-118.lsst.io\">DMTN-118</a>) and host association parameters (<a href=\"https://dmtn-151.lsst.io\">DMTN-151</a>) which will be added in the future."
   ]
  },
  {
   "cell_type": "markdown",
   "id": "dc36f107",
   "metadata": {},
   "source": [
    "### 1.1 Package Imports\n",
    "\n",
    " * lsst.rsp -- The LSST Science Pipelines package for RSP functionality such as the TAP service (<a href=\"http://pipelines.lsst.io\">pipelines.lsst.io</a>).\n",
    " * astropy.cosmology -- An open-source package of cosmology tools (<a href=\"https://docs.astropy.org/en/stable/cosmology/index.html\"> the astropy cosmology documentation</a>).\n",
    " * numpy -- A package for scientific computing with arrays in Python (<a href=\"https://numpy.org\">numpy.org</a>).\n",
    " * matplotlib -- A package for creating plots (<a href=\"http://matplotlib.org\">matplotlib.org</a>).\n"
   ]
  },
  {
   "cell_type": "code",
   "execution_count": null,
   "id": "cddc1458",
   "metadata": {},
   "outputs": [],
   "source": [
    "import numpy\n",
    "import matplotlib.pyplot as plt\n",
    "# plt.style.use('tableau-colorblind10')\n",
    "\n",
    "import time\n",
    "\n",
    "from lsst.rsp import get_tap_service\n",
    "\n",
    "from astropy.cosmology import FlatLambdaCDM\n",
    "cosmo = FlatLambdaCDM(H0=70, Om0=0.3)"
   ]
  },
  {
   "cell_type": "markdown",
   "id": "c217adff-25ed-4fce-95e7-8aa04630f6cc",
   "metadata": {},
   "source": [
    "### 1.2 Define Functions and Parameters"
   ]
  },
  {
   "cell_type": "markdown",
   "id": "7cc807cf-3937-4a92-9fc8-9efbf8827447",
   "metadata": {},
   "source": [
    "Start the TAP service."
   ]
  },
  {
   "cell_type": "code",
   "execution_count": null,
   "id": "6e32778c-067e-41c3-a777-dcc4128d7de4",
   "metadata": {},
   "outputs": [],
   "source": [
    "service = get_tap_service()"
   ]
  },
  {
   "cell_type": "markdown",
   "id": "ec51ac0b",
   "metadata": {
    "tags": []
   },
   "source": [
    "## 2. Establish Query Parameters\n",
    "\n",
    "### 2.1. apparent r-band magnitudes\n",
    "\n",
    "Define the desired redshift boundaries.\n",
    "\n",
    "Use the astropy.cosmology package to convert redshift to distance modulus.\n",
    "\n",
    "Define the range of peak apparent r-band magnitudes, assuming that Type Ia supernovae have an intrinsic brightness of about -19 magnitudes."
   ]
  },
  {
   "cell_type": "code",
   "execution_count": null,
   "id": "61f81c3b-e7ab-4d66-b534-97a0b477d3ce",
   "metadata": {},
   "outputs": [],
   "source": [
    "redshift_min = 0.1\n",
    "redshift_max = 0.3\n",
    "\n",
    "snia_peak_mag = -19.0\n",
    "snia_peak_mag_range = 0.5\n",
    "\n",
    "snia_peak_mr_min = cosmo.distmod(redshift_min).value + snia_peak_mag - snia_peak_mag_range\n",
    "snia_peak_mr_max = cosmo.distmod(redshift_max).value + snia_peak_mag + snia_peak_mag_range\n",
    "\n",
    "print('Min and max apparent r-band magnitudes are %5.2f and %5.2f mag.' %\n",
    "      (snia_peak_mr_min, snia_peak_mr_max))"
   ]
  },
  {
   "cell_type": "markdown",
   "id": "3ffd789d-bca5-4f59-86b8-b2f4a17ecb5f",
   "metadata": {},
   "source": [
    "### 2.2. apparent g- and i-band magnitudes\n",
    "\n",
    "Define maximum magnitudes in the g- and i-bands to enforce detection in at least the three filters g, r, and i."
   ]
  },
  {
   "cell_type": "code",
   "execution_count": null,
   "id": "82765975-ec9f-42ea-92bb-fd07df2fe932",
   "metadata": {},
   "outputs": [],
   "source": [
    "snia_peak_mg_max = 24.0\n",
    "snia_peak_mi_max = 24.0"
   ]
  },
  {
   "cell_type": "markdown",
   "id": "4a336a81-cceb-4488-bad7-6b6278c7720a",
   "metadata": {},
   "source": [
    "### 2.3. number of DiaSources\n",
    "\n",
    "The goal was to identify potential _well-sampled_ Type Ia supernovae, so define the minimum number of lightcurve points (number of DiaSources)."
   ]
  },
  {
   "cell_type": "code",
   "execution_count": null,
   "id": "d83e88cb-2032-4641-a152-092670595fa6",
   "metadata": {},
   "outputs": [],
   "source": [
    "nDiaSources_min = 15"
   ]
  },
  {
   "cell_type": "markdown",
   "id": "6c2c05d1-7f62-458c-b5e9-cb6a9f399a6d",
   "metadata": {},
   "source": [
    "## 3. Query the DiaObjects Table\n",
    "\n",
    "The query may take a few tens of seconds.\n",
    "\n",
    "When query completes, transfer the results to an astropy table."
   ]
  },
  {
   "cell_type": "code",
   "execution_count": null,
   "id": "81b8cd59-1ba3-4eaa-846f-6478ed0c3cf5",
   "metadata": {},
   "outputs": [],
   "source": [
    "results = service.search(\"SELECT ra, decl, diaObjectId, nDiaSources, \"\n",
    "                         \"scisql_fluxToAbMag(gPSFluxMax/1e32) AS gMagMin, \"\n",
    "                         \"scisql_fluxToAbMag(rPSFluxMax/1e32) AS rMagMin, \"\n",
    "                         \"scisql_fluxToAbMag(iPSFluxMax/1e32) AS iMagMin, \"\n",
    "                         \"scisql_fluxToAbMag(gPSFluxMin/1e32) AS gMagMax, \"\n",
    "                         \"scisql_fluxToAbMag(rPSFluxMin/1e32) AS rMagMax, \"\n",
    "                         \"scisql_fluxToAbMag(iPSFluxMin/1e32) AS iMagMax \"\n",
    "                         \"FROM dp02_test_PREOPS863_00.DiaObject \"\n",
    "                         \"WHERE scisql_fluxToAbMag(rPSFluxMax/1e32) > \"+str(snia_peak_mr_min)+\" \"\n",
    "                         \"AND scisql_fluxToAbMag(rPSFluxMax/1e32) < \"+str(snia_peak_mr_max)+\" \"\n",
    "                         \"AND scisql_fluxToAbMag(gPSFluxMax/1e32) < \"+str(snia_peak_mg_max)+\" \"\n",
    "                         \"AND scisql_fluxToAbMag(iPSFluxMax/1e32) < \"+str(snia_peak_mi_max)+\" \"\n",
    "                         \"AND nDiaSources > \"+str(nDiaSources_min)+\" \",\n",
    "                         maxrec=10000)\n",
    "DiaObjs = results.to_table()\n",
    "del results"
   ]
  },
  {
   "cell_type": "markdown",
   "id": "6ff735a9-9a1a-4b5f-8a8a-dfa02f6e2593",
   "metadata": {},
   "source": [
    "Calculate the lightcurve amplitude in the r-filter."
   ]
  },
  {
   "cell_type": "code",
   "execution_count": null,
   "id": "a713406e-bfbb-4fce-9dc6-ed785280dff8",
   "metadata": {},
   "outputs": [],
   "source": [
    "DiaObjs['rMagAmp'] = DiaObjs['rMagMax'] - DiaObjs['rMagMin']"
   ]
  },
  {
   "cell_type": "markdown",
   "id": "24da9f4e-9593-4680-8baf-586bdf3cdcc6",
   "metadata": {},
   "source": [
    "Print the number of DiaObjects that were returned."
   ]
  },
  {
   "cell_type": "code",
   "execution_count": null,
   "id": "d065666c-094b-4208-8b85-1425c22edde2",
   "metadata": {},
   "outputs": [],
   "source": [
    "print('The query returned ', len(DiaObjs), ' DiaObjects.')"
   ]
  },
  {
   "cell_type": "markdown",
   "id": "1768203c-de36-4aeb-a447-f3f7e40cdb9c",
   "metadata": {},
   "source": [
    "Option to display the table"
   ]
  },
  {
   "cell_type": "code",
   "execution_count": null,
   "id": "4ed1285b-c939-45c6-a6ff-e7c36a58d4bf",
   "metadata": {},
   "outputs": [],
   "source": [
    "# DiaObjs"
   ]
  },
  {
   "cell_type": "markdown",
   "id": "65e457f8-f2f6-4024-80b9-1722945728fe",
   "metadata": {},
   "source": [
    "Option to display histograms of the DiaObject parameters."
   ]
  },
  {
   "cell_type": "code",
   "execution_count": null,
   "id": "89c95b1b-159f-461d-9057-c4ea95255ca6",
   "metadata": {},
   "outputs": [],
   "source": [
    "# plt.hist(DiaObjs['rMagMin'], bins=20)\n",
    "# plt.axvline(snia_peak_mr_min, color='magenta')\n",
    "# plt.axvline(snia_peak_mr_max, color='magenta')\n",
    "# plt.xlabel('Brightest Detected r-band Magnitude')\n",
    "# plt.show()"
   ]
  },
  {
   "cell_type": "code",
   "execution_count": null,
   "id": "8ebddf75-e2bc-4e10-b61c-5f78af7858e0",
   "metadata": {},
   "outputs": [],
   "source": [
    "# plt.hist(DiaObjs['rMagAmp'], bins=20)\n",
    "# plt.xlabel('Amplitude in r-band Magnitude')\n",
    "# plt.show()"
   ]
  },
  {
   "cell_type": "code",
   "execution_count": null,
   "id": "705fe90c-c378-4f53-a1c7-0221b4259370",
   "metadata": {},
   "outputs": [],
   "source": [
    "# plt.hist(DiaObjs['nDiaSources'], bins=20)\n",
    "# plt.xlabel('Number of Difference-Image Detections')\n",
    "# plt.show()"
   ]
  },
  {
   "cell_type": "markdown",
   "id": "424d4c96-66ca-4b0d-a4c8-9aa684981737",
   "metadata": {},
   "source": [
    "## 4. Retrieve DiaSources\n",
    "\n",
    "Get the difference-image photometry (lightcurves) from the DiaSource table.\n",
    "\n",
    "### 4.1. caculate lightcurve duration\n",
    "\n",
    "The sample of interest used in this notebook, low-redshift Type Ia supernovae, would be bright enough for detection (<24.5 mag) for up to one year.\n",
    "\n",
    "Calculate the lightcurve duration -- the difference between the dates of last and first DiaSource -- for all of the DiaObjects returned."
   ]
  },
  {
   "cell_type": "code",
   "execution_count": null,
   "id": "9d77eb34-34de-4a92-8c4a-d76d85114a07",
   "metadata": {},
   "outputs": [],
   "source": [
    "DiaObjs['duration'] = numpy.zeros(len(DiaObjs), dtype='float')\n",
    "\n",
    "for j,DiaObjId in enumerate(DiaObjs['diaObjectId']):\n",
    "    results = service.search(\"SELECT ra, decl, diaObjectId, diaSourceId, \"\n",
    "                             \"filterName, midPointTai, psFlux, psFluxErr \"\n",
    "                             \"FROM dp02_test_PREOPS863_00.DiaSource \"\n",
    "                             \"WHERE diaObjectId = \"+str(DiaObjId))\n",
    "    results = results.to_table()\n",
    "    DiaObjs['duration'][j] = numpy.max(results['midPointTai']) - numpy.min(results['midPointTai'])\n",
    "    del results"
   ]
  },
  {
   "cell_type": "markdown",
   "id": "23cdc39f-3fbb-4bfb-87d3-0e07f5c34096",
   "metadata": {},
   "source": [
    "Option to display a histogram of DiaObject durations."
   ]
  },
  {
   "cell_type": "code",
   "execution_count": null,
   "id": "508ae771-c983-4299-89a4-97b497490b95",
   "metadata": {},
   "outputs": [],
   "source": [
    "# plt.hist(DiaObjs['duration'], bins=20)\n",
    "# plt.xlabel('Lightcurve Duration (Any Filter)')\n",
    "# plt.show()"
   ]
  },
  {
   "cell_type": "markdown",
   "id": "8afeacf8-7277-44c3-9c25-8746c16fff20",
   "metadata": {},
   "source": [
    "Option to plot duration versus r-band magnitude amplitude."
   ]
  },
  {
   "cell_type": "code",
   "execution_count": null,
   "id": "795bd08e-2b49-4e54-a830-c035b3bedcbc",
   "metadata": {},
   "outputs": [],
   "source": [
    "# plt.plot(DiaObjs['duration'], DiaObjs['rMagAmp'], 'o')\n",
    "# plt.xlabel('Lightcurve Duration (Any Filter)')\n",
    "# plt.ylabel('Amplitude in r-band Magnitude')\n",
    "# plt.show()"
   ]
  },
  {
   "cell_type": "markdown",
   "id": "7f6216ee-2188-43e0-b188-a70f42d2f11e",
   "metadata": {},
   "source": [
    "### 4.2. plot lightcurves of potential SNIa\n",
    "\n",
    "Consider \"potential SNIa\" as the DiaObjects with durations < 1 year and with a magnitude amplitude >0.5 mag in the r-filter.\n",
    "\n",
    "For plotting, define the filter names, colors, and symbols to be used."
   ]
  },
  {
   "cell_type": "code",
   "execution_count": null,
   "id": "5eeffa3d-701a-4d00-94fe-9ce996e235a7",
   "metadata": {},
   "outputs": [],
   "source": [
    "filter_names = ['u', 'g', 'r', 'i', 'z', 'y']\n",
    "filter_color = ['darkviolet', 'darkgreen', 'red', 'darkorange', 'brown', 'black']\n",
    "filter_symbol = ['o', '^', 'v', 's', '*', 'p']"
   ]
  },
  {
   "cell_type": "markdown",
   "id": "05bdbbf3-8396-45c0-9764-6537a17e6880",
   "metadata": {},
   "source": [
    "The number of DiaObjects that have a duration of up to one year."
   ]
  },
  {
   "cell_type": "code",
   "execution_count": null,
   "id": "c4f3b759-8a6f-4c9b-a4f5-afce74593809",
   "metadata": {},
   "outputs": [],
   "source": [
    "tx = numpy.where((DiaObjs['duration'] < 365.) & (DiaObjs['rMagAmp'] > 0.5))[0]\n",
    "print(len(tx))"
   ]
  },
  {
   "cell_type": "markdown",
   "id": "68c61e05-80e3-440a-ae91-a3a1fbf0d001",
   "metadata": {},
   "source": [
    "Make the plot.\n",
    "\n",
    "<br>\n",
    "<br>\n",
    "\n",
    "**WARNING**\n",
    "\n",
    "**NONE OF THESE APPEAR TO BE TYPE Ia SUPERNOVAE???**\n",
    "\n",
    "<br>\n",
    "<br>\n"
   ]
  },
  {
   "cell_type": "code",
   "execution_count": null,
   "id": "41bb4666-7c90-4f35-b9e8-b3dbd59b0185",
   "metadata": {},
   "outputs": [],
   "source": [
    "fig, ax = plt.subplots(len(DiaObjs[tx]), figsize=(14,20), sharey=False, sharex=False)\n",
    "\n",
    "for i, j in enumerate(tx):\n",
    "    results = service.search(\"SELECT ra, decl, diaObjectId, diaSourceId, \"\n",
    "                             \"filterName, midPointTai, \"\n",
    "                             \"scisql_fluxToAbMag(psFlux/1e32) AS psAbMag \"\n",
    "                             \"FROM dp02_test_PREOPS863_00.DiaSource \"\n",
    "                             \"WHERE diaObjectId = \"+str(DiaObjs['diaObjectId'][j]))\n",
    "    results = results.to_table()\n",
    "\n",
    "    for f, filt in enumerate(filter_names):\n",
    "        fx = numpy.where(results['filterName'] == filt)[0]\n",
    "        ax[i].plot(results['midPointTai'][fx], results['psAbMag'][fx], \n",
    "                   filter_symbol[f], ms=15, mew=0, alpha=0.5, color=filter_color[f])\n",
    "        del fx\n",
    "    \n",
    "    ax[i].set_ylim([numpy.max(results['psAbMag'])+0.3, numpy.min(results['psAbMag'])-0.3])\n",
    "    \n",
    "    del results"
   ]
  },
  {
   "cell_type": "markdown",
   "id": "2a79e66e-9e2b-4c13-b6bc-18260e203d18",
   "metadata": {},
   "source": [
    "## 5. Further Work\n",
    "\n",
    "The next steps towards science with the sample of interest might include applying a lightcurve template fitter, or photometric classification codes, to the sample.\n",
    "\n",
    "Another analysis option would be to use the DiaForcedSource table for the lightcurves, in order to include photometry measured below the detection limit."
   ]
  },
  {
   "cell_type": "code",
   "execution_count": null,
   "id": "af6027d7-1f65-4322-a2bb-04aaa92c692d",
   "metadata": {},
   "outputs": [],
   "source": []
  }
 ],
 "metadata": {
  "kernelspec": {
   "display_name": "LSST",
   "language": "python",
   "name": "lsst"
  },
  "language_info": {
   "codemirror_mode": {
    "name": "ipython",
    "version": 3
   },
   "file_extension": ".py",
   "mimetype": "text/x-python",
   "name": "python",
   "nbconvert_exporter": "python",
   "pygments_lexer": "ipython3",
   "version": "3.8.12"
  },
  "toc-autonumbering": false
 },
 "nbformat": 4,
 "nbformat_minor": 5
}
