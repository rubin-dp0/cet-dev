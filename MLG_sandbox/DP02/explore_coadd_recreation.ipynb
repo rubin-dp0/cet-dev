{
 "cells": [
  {
   "cell_type": "markdown",
   "id": "88e46a87-3937-4534-ae66-8343f99049ed",
   "metadata": {},
   "source": [
    "# recreate a coadd\n",
    "\n",
    "Get all the images that went into a coadd, and then rebuild it.\n",
    "\n",
    "Maybe tweak some of the image combination parameters for fun, or just rebuild for a few months of observations."
   ]
  },
  {
   "cell_type": "markdown",
   "id": "3c38cb9b-375a-4e02-bf0f-42820a86363c",
   "metadata": {},
   "source": [
    "## set up"
   ]
  },
  {
   "cell_type": "code",
   "execution_count": null,
   "id": "4aef3e1b-efee-4d8a-9ed0-d9a910be88d3",
   "metadata": {},
   "outputs": [],
   "source": [
    "import numpy as np\n",
    "import matplotlib\n",
    "import matplotlib.pyplot as plt\n",
    "import time\n",
    "\n",
    "import pandas\n",
    "pandas.set_option('display.max_rows', 1000)\n",
    "\n",
    "import lsst.daf.butler as dafButler\n",
    "\n",
    "import lsst.geom\n",
    "import lsst.afw.display as afwDisplay\n",
    "afwDisplay.setDefaultBackend('matplotlib')\n",
    "\n",
    "from astropy.wcs import WCS\n",
    "from astropy import units as u\n",
    "from astropy.coordinates import SkyCoord"
   ]
  },
  {
   "cell_type": "markdown",
   "id": "54e4f1a3-45cb-4002-9cd9-fb7a0d0ba441",
   "metadata": {},
   "source": [
    "## choose DP0.2 collection"
   ]
  },
  {
   "cell_type": "markdown",
   "id": "c37b3b7d-ba47-4df6-842e-7d6f8c736ee6",
   "metadata": {},
   "source": [
    "Collection chosen to use same image as in NB 01, the pretty cluster"
   ]
  },
  {
   "cell_type": "code",
   "execution_count": null,
   "id": "9340359c-49d6-471e-af30-2b2387756468",
   "metadata": {},
   "outputs": [],
   "source": [
    "repo = 's3://butler-us-central1-panda-dev/dc2/butler-external.yaml'\n",
    "collection = '2.2i/runs/DP0.2/v23_0_1_rc1/PREOPS-905/pilot_tract4431'\n",
    "\n",
    "butler = dafButler.Butler(repo, collections=collection)"
   ]
  },
  {
   "cell_type": "markdown",
   "id": "c42ce015-7441-4155-bc6c-201d4118efce",
   "metadata": {},
   "source": [
    "## choose a coadd\n",
    "\n",
    "same as we use for NB 01"
   ]
  },
  {
   "cell_type": "code",
   "execution_count": null,
   "id": "6e5849dd-f51c-4443-b3b9-48f73b5b3eae",
   "metadata": {},
   "outputs": [],
   "source": [
    "my_spherePoint = lsst.geom.SpherePoint(55.745834*lsst.geom.degrees,\n",
    "                                       -32.269167*lsst.geom.degrees)\n",
    "print(my_spherePoint)\n",
    "\n",
    "skymap = butler.get('skyMap')\n",
    "my_tract = skymap.findTract(my_spherePoint)\n",
    "my_patch = my_tract.findPatch(my_spherePoint)\n",
    "my_patch_id = my_tract.getSequentialPatchIndex(my_patch)\n",
    "print('my_tract = ', my_tract)\n",
    "print('my_patch = ', my_patch)\n",
    "print('my_patch_id = ', my_patch_id)\n",
    "\n",
    "dataId = {'band': 'i', 'tract': 4431, 'patch': 17}\n",
    "deepCoadd = butler.get('deepCoadd', dataId=dataId)"
   ]
  },
  {
   "cell_type": "markdown",
   "id": "88c4d270-a2bf-4d35-a5c8-560fd1e675b7",
   "metadata": {},
   "source": [
    "show the coadd"
   ]
  },
  {
   "cell_type": "code",
   "execution_count": null,
   "id": "6ed19ab9-d079-42e4-bff4-55eeef94afcb",
   "metadata": {},
   "outputs": [],
   "source": [
    "# fig = plt.figure(figsize=(6, 4))\n",
    "# afw_display = afwDisplay.Display(1)\n",
    "# afw_display.scale('asinh', 'zscale')\n",
    "# afw_display.mtv(deepCoadd.image)\n",
    "# plt.gca().axis('off')"
   ]
  },
  {
   "cell_type": "markdown",
   "id": "afd67b3a-7633-43df-b0dd-d0c50e35a33a",
   "metadata": {},
   "source": [
    "get more info about the pixel data (for scaling when using imshow)"
   ]
  },
  {
   "cell_type": "code",
   "execution_count": null,
   "id": "22de530b-1034-4f94-9e9f-27d52651b3ab",
   "metadata": {},
   "outputs": [],
   "source": [
    "imgdata = np.asarray( deepCoadd.image.array, dtype='float' )\n",
    "print( np.min(imgdata), np.mean(imgdata), np.max(imgdata) )\n",
    "del imgdata"
   ]
  },
  {
   "cell_type": "markdown",
   "id": "34b35b55-74d4-422e-bf9d-a13c1aab45c1",
   "metadata": {},
   "source": [
    "get more information about the bounding box and wcs"
   ]
  },
  {
   "cell_type": "code",
   "execution_count": null,
   "id": "8c89c7e6-e96d-4135-9e44-06b84987ffb2",
   "metadata": {},
   "outputs": [],
   "source": [
    "deepCoadd_bbox = butler.get('deepCoadd.bbox', dataId=dataId)\n",
    "print( deepCoadd_bbox.beginX, deepCoadd_bbox.beginY, deepCoadd_bbox.endX, deepCoadd_bbox.endY )\n",
    "print( deepCoadd_bbox.minX, deepCoadd_bbox.minY, deepCoadd_bbox.maxX, deepCoadd_bbox.maxY )\n",
    "print( deepCoadd_bbox.getCorners )\n",
    "print(' ')\n",
    "\n",
    "deepCoadd_wcs = butler.get('deepCoadd.wcs', dataId=dataId)\n",
    "print( deepCoadd_wcs )\n",
    "\n",
    "deepCoadd_fitsMd = WCS(deepCoadd_wcs.getFitsMetadata())\n",
    "print( deepCoadd_fitsMd )\n",
    "\n",
    "del deepCoadd_bbox, deepCoadd_wcs, deepCoadd_fitsMd"
   ]
  },
  {
   "cell_type": "markdown",
   "id": "92be360e-c8d0-4b99-be77-827561954c5b",
   "metadata": {},
   "source": [
    "## identify coadd inputs"
   ]
  },
  {
   "cell_type": "code",
   "execution_count": null,
   "id": "b8c4f4b7-2447-4361-96c9-ca805d9106df",
   "metadata": {},
   "outputs": [],
   "source": [
    "coadd_inputs = butler.get(\"deepCoadd_calexp.coaddInputs\", dataId)"
   ]
  },
  {
   "cell_type": "code",
   "execution_count": null,
   "id": "8071d622-d1ac-48b1-be5b-09918a2a72f1",
   "metadata": {},
   "outputs": [],
   "source": [
    "coadd_inputs_ccds_table = coadd_inputs.ccds.asAstropy()"
   ]
  },
  {
   "cell_type": "code",
   "execution_count": null,
   "id": "2cd35310-8842-4c5a-82c3-6b7dc6af0c53",
   "metadata": {},
   "outputs": [],
   "source": [
    "coadd_inputs_ccds_table"
   ]
  },
  {
   "cell_type": "code",
   "execution_count": null,
   "id": "b4ebfc7a-e32a-4e58-82dd-9c57388e7188",
   "metadata": {},
   "outputs": [],
   "source": [
    "# coadd_inputs_visits_table = coadd_inputs.visits.asAstropy()"
   ]
  },
  {
   "cell_type": "code",
   "execution_count": null,
   "id": "56116a4a-bb9e-4298-9014-4698a396c377",
   "metadata": {},
   "outputs": [],
   "source": [
    "# coadd_inputs_visits_table"
   ]
  },
  {
   "cell_type": "markdown",
   "id": "dec4c11e-4a6c-41e3-8d0c-1120a34e186c",
   "metadata": {},
   "source": [
    "## retrieve just one of the calexps which contributed"
   ]
  },
  {
   "cell_type": "code",
   "execution_count": null,
   "id": "c85e4773-f0c5-4234-a749-aca3c39b9246",
   "metadata": {},
   "outputs": [],
   "source": [
    "use_detector = coadd_inputs_ccds_table['ccd'][0]\n",
    "use_visit = coadd_inputs_ccds_table['visit'][0]\n",
    "\n",
    "print('ccd, visit = ', use_detector, use_visit)\n",
    "calexp = butler.get('calexp', detector=use_detector, visit=use_visit)"
   ]
  },
  {
   "cell_type": "code",
   "execution_count": null,
   "id": "289b93f8-f801-4a11-b6b7-55592f4d1b04",
   "metadata": {},
   "outputs": [],
   "source": [
    "# fig = plt.figure(figsize=(6, 4))\n",
    "# afw_display = afwDisplay.Display(1)\n",
    "# afw_display.scale('asinh', 'zscale')\n",
    "# afw_display.mtv(calexp.image)\n",
    "# plt.gca().axis('off')"
   ]
  },
  {
   "cell_type": "code",
   "execution_count": null,
   "id": "a76092a4-9edf-4877-a21d-037cb65af046",
   "metadata": {},
   "outputs": [],
   "source": [
    "imgdata = np.asarray( calexp.image.array, dtype='float' )\n",
    "print( np.min(imgdata), np.mean(imgdata), np.max(imgdata) )\n",
    "del imgdata"
   ]
  },
  {
   "cell_type": "code",
   "execution_count": null,
   "id": "49588b06-0e98-4c33-98ac-365e868f63d1",
   "metadata": {},
   "outputs": [],
   "source": [
    "calexp_bbox = butler.get('calexp.bbox', detector=use_detector, visit=use_visit)\n",
    "print( calexp_bbox.beginX, calexp_bbox.beginY, calexp_bbox.endX, calexp_bbox.endY )\n",
    "print( calexp_bbox.minX, calexp_bbox.minY, calexp_bbox.maxX, calexp_bbox.maxY )\n",
    "print( calexp_bbox.getCorners )\n",
    "print(' ')\n",
    "\n",
    "calexp_wcs = butler.get('calexp.wcs', detector=use_detector, visit=use_visit)\n",
    "print( calexp_wcs )\n",
    "\n",
    "calexp_fitsMd = WCS(calexp_wcs.getFitsMetadata())\n",
    "print( calexp_fitsMd )\n",
    "\n",
    "del calexp_bbox, calexp_wcs, calexp_fitsMd"
   ]
  },
  {
   "cell_type": "code",
   "execution_count": null,
   "id": "b4709007-a8ec-4126-adb2-232afe4144e1",
   "metadata": {},
   "outputs": [],
   "source": [
    "del use_detector, use_visit"
   ]
  },
  {
   "cell_type": "markdown",
   "id": "4268c071-5e90-47f4-98f4-df2803f971dc",
   "metadata": {},
   "source": [
    "### do the coadd and the calexp look like they overlap?\n",
    "\n",
    "`projection = WCS()` DOES NOT WORK FOR COADDS, ORIGIN NOT RECOGNIZED, WORKING ON A FIX"
   ]
  },
  {
   "cell_type": "code",
   "execution_count": null,
   "id": "5375ef73-6db3-4e2c-8acd-f3a65665cd2e",
   "metadata": {},
   "outputs": [],
   "source": [
    "# fig, ax = plt.subplots(1, 2, figsize=(12, 4), sharex=False, sharey=False)\n",
    "\n",
    "# plt.subplot(1, 2, 1, projection=WCS(deepCoadd.getWcs().getFitsMetadata()))\n",
    "# plt.imshow(deepCoadd.image.array, cmap='gray', vmin=0, vmax=2, origin='lower')\n",
    "# plt.grid(color='white', ls='solid')\n",
    "# plt.xlabel('Right Ascension')\n",
    "# plt.ylabel('Declination')\n",
    "\n",
    "# plt.subplot(1, 2, 2,  projection=WCS(calexp.getWcs().getFitsMetadata()))\n",
    "# plt.imshow(calexp.image.array, cmap='gray', vmin=-10, vmax=100, origin='lower')\n",
    "# plt.grid(color='white', ls='solid')\n",
    "# plt.xlabel('Right Ascension')\n",
    "# plt.ylabel('Declination')\n",
    "\n",
    "# plt.show()"
   ]
  },
  {
   "cell_type": "code",
   "execution_count": null,
   "id": "6e8f6b67-2460-49bd-9f15-ec1aee5071a2",
   "metadata": {},
   "outputs": [],
   "source": [
    "del calexp, deepCoadd"
   ]
  },
  {
   "cell_type": "markdown",
   "id": "b9fbdc69-bb94-4f40-a794-cef05524a503",
   "metadata": {},
   "source": [
    "## get corners for the coadd and all input calexps\n",
    "\n",
    "get corners for the coadd"
   ]
  },
  {
   "cell_type": "code",
   "execution_count": null,
   "id": "2e45162f-4549-4f2d-8f7f-e94463ae4f72",
   "metadata": {},
   "outputs": [],
   "source": [
    "deepCoadd_bbox = butler.get('deepCoadd.bbox', dataId=dataId)\n",
    "deepCoadd_wcs = butler.get('deepCoadd.wcs', dataId=dataId)\n",
    "\n",
    "X0 = deepCoadd_bbox.beginX\n",
    "Y0 = deepCoadd_bbox.beginY\n",
    "X1 = deepCoadd_bbox.endX\n",
    "Y1 = deepCoadd_bbox.endY\n",
    "corners = [ deepCoadd_wcs.pixelToSky(X0, Y0), \n",
    "            deepCoadd_wcs.pixelToSky(X0, Y1), \n",
    "            deepCoadd_wcs.pixelToSky(X1, Y1), \n",
    "            deepCoadd_wcs.pixelToSky(X1, Y0) ]\n",
    "print('corners of the deepCoadd from the wcs:')\n",
    "print(corners)\n",
    "print(' ')\n",
    "\n",
    "corners_deepCoadd = np.zeros( (4,2), dtype='float' )\n",
    "corners_deepCoadd[0][0] = corners[0].getRa().asDegrees()\n",
    "corners_deepCoadd[1][0] = corners[1].getRa().asDegrees()\n",
    "corners_deepCoadd[2][0] = corners[2].getRa().asDegrees()\n",
    "corners_deepCoadd[3][0] = corners[3].getRa().asDegrees()\n",
    "corners_deepCoadd[0][1] = corners[0].getDec().asDegrees()\n",
    "corners_deepCoadd[1][1] = corners[1].getDec().asDegrees()\n",
    "corners_deepCoadd[2][1] = corners[2].getDec().asDegrees()\n",
    "corners_deepCoadd[3][1] = corners[3].getDec().asDegrees()\n",
    "print('corners_deepCoadd as a numpy array:')\n",
    "print(corners_deepCoadd)\n",
    "\n",
    "print('corners_deepCoadd in hms dms notation:')\n",
    "tempra = corners_deepCoadd[:,0]*u.degree\n",
    "tempdec = corners_deepCoadd[:,1]*u.degree\n",
    "tempcoords = SkyCoord(ra=tempra, dec=tempdec)\n",
    "for coord in tempcoords:\n",
    "    print(coord.to_string('hmsdms'))\n",
    "del tempra,tempdec,tempcoords\n",
    "\n",
    "del deepCoadd_bbox, deepCoadd_wcs\n",
    "del X0,Y0,X1,Y1\n",
    "del corners"
   ]
  },
  {
   "cell_type": "markdown",
   "id": "0d8d5f6d-7c3d-418d-83c3-83aaf0c44b30",
   "metadata": {},
   "source": [
    "get corners for all the calexps that contributed to our coadd\n",
    "\n",
    "this takes 10 minutes :(  \n",
    "\n",
    "save the results to a file and load below"
   ]
  },
  {
   "cell_type": "code",
   "execution_count": null,
   "id": "172eb42f-23a9-4b12-8d7b-4fd6830d76f1",
   "metadata": {},
   "outputs": [],
   "source": [
    "# t1 = time.time()\n",
    "\n",
    "# corners_all_ccds = np.zeros( (len(coadd_inputs_ccds_table),4,2), dtype='float' )\n",
    "\n",
    "# for i, (ccd, visit) in enumerate(zip(coadd_inputs_ccds_table['ccd'], coadd_inputs_ccds_table['visit'])):\n",
    "#     if i == 10:\n",
    "#         t2 = time.time()\n",
    "#         print('time remaining: ', ((t2-t1)/10.0) * (len(coadd_inputs_ccds_table)-10.0) )\n",
    "    \n",
    "#     calexp_bbox = butler.get('calexp.bbox', detector=ccd, visit=visit)\n",
    "#     calexp_wcs = butler.get('calexp.wcs', detector=ccd, visit=visit)\n",
    "\n",
    "#     X0 = calexp_bbox.beginX\n",
    "#     Y0 = calexp_bbox.beginY\n",
    "#     X1 = calexp_bbox.endX\n",
    "#     Y1 = calexp_bbox.endY\n",
    "    \n",
    "#     corner1 = calexp_wcs.pixelToSky(X0, Y0)\n",
    "#     corner2 = calexp_wcs.pixelToSky(X0, Y1)\n",
    "#     corner3 = calexp_wcs.pixelToSky(X1, Y1)\n",
    "#     corner4 = calexp_wcs.pixelToSky(X1, Y0)\n",
    "    \n",
    "#     corners_all_ccds[i][0][0] = corner1.getRa().asDegrees()\n",
    "#     corners_all_ccds[i][1][0] = corner2.getRa().asDegrees()\n",
    "#     corners_all_ccds[i][2][0] = corner3.getRa().asDegrees()\n",
    "#     corners_all_ccds[i][3][0] = corner4.getRa().asDegrees()\n",
    "#     corners_all_ccds[i][0][1] = corner1.getDec().asDegrees()\n",
    "#     corners_all_ccds[i][1][1] = corner2.getDec().asDegrees()\n",
    "#     corners_all_ccds[i][2][1] = corner3.getDec().asDegrees()\n",
    "#     corners_all_ccds[i][3][1] = corner4.getDec().asDegrees()\n",
    "    \n",
    "#     del calexp_bbox, calexp_wcs\n",
    "#     del corner1, corner2, corner3, corner4\n",
    "#     del X0, X1, Y0, Y1\n",
    "\n",
    "# t3 = time.time()\n",
    "# print('time elapsed: ', t3-t1)\n",
    "# del t1,t2,t3\n",
    "\n",
    "# with open('corners_all_ccds.dat', 'wb') as f:\n",
    "#     np.save(f, corners_all_ccds)"
   ]
  },
  {
   "cell_type": "code",
   "execution_count": null,
   "id": "2835241e-b6d9-4950-9f05-363a099b55eb",
   "metadata": {},
   "outputs": [],
   "source": [
    "with open('corners_all_ccds.dat', 'rb') as f:\n",
    "    corners_all_ccds = np.load(f)"
   ]
  },
  {
   "cell_type": "code",
   "execution_count": null,
   "id": "45a5ef20-62e8-4b9c-9a3b-5c8b6464c651",
   "metadata": {},
   "outputs": [],
   "source": [
    "print('corners of the first calexp as a numpy array:')\n",
    "print(corners_all_ccds[0])\n",
    "\n",
    "print('corners of the first calexp in hms dms notation:')\n",
    "tempra = corners_all_ccds[0,:,0]*u.degree\n",
    "tempdec = corners_all_ccds[0,:,1]*u.degree\n",
    "tempcoords = SkyCoord(ra=tempra, dec=tempdec)\n",
    "for coord in tempcoords:\n",
    "    print(coord.to_string('hmsdms'))\n",
    "del tempra,tempdec,tempcoords"
   ]
  },
  {
   "cell_type": "markdown",
   "id": "5879c61d-c176-4243-b25d-90bed43c620d",
   "metadata": {},
   "source": [
    "## plot the bounding boxes"
   ]
  },
  {
   "cell_type": "markdown",
   "id": "c1aafdd4-a470-4583-bd86-1bccf0a2261f",
   "metadata": {},
   "source": [
    "for the coadd and ALL the calexps"
   ]
  },
  {
   "cell_type": "code",
   "execution_count": null,
   "id": "8856b8f1-e318-4254-a8ec-402fd49d2efc",
   "metadata": {},
   "outputs": [],
   "source": [
    "fig = plt.figure(figsize=(6,6))\n",
    "\n",
    "plt.plot( [corners_deepCoadd[0][0], \n",
    "           corners_deepCoadd[1][0], \n",
    "           corners_deepCoadd[2][0], \n",
    "           corners_deepCoadd[3][0], \n",
    "           corners_deepCoadd[0][0]], \n",
    "          [corners_deepCoadd[0][1], \n",
    "           corners_deepCoadd[1][1], \n",
    "           corners_deepCoadd[2][1], \n",
    "           corners_deepCoadd[3][1],\n",
    "           corners_deepCoadd[0][1]],\n",
    "          lw=4, alpha=0.3, color='grey' )\n",
    "\n",
    "for i in range(len(coadd_inputs_ccds_table)):    \n",
    "    plt.plot( [corners_all_ccds[i][0][0], \n",
    "               corners_all_ccds[i][1][0], \n",
    "               corners_all_ccds[i][2][0], \n",
    "               corners_all_ccds[i][3][0], \n",
    "               corners_all_ccds[i][0][0]], \n",
    "              [corners_all_ccds[i][0][1], \n",
    "               corners_all_ccds[i][1][1], \n",
    "               corners_all_ccds[i][2][1], \n",
    "               corners_all_ccds[i][3][1],\n",
    "               corners_all_ccds[i][0][1]],\n",
    "              lw=1, alpha=0.1, color='dodgerblue' )\n",
    "\n",
    "plt.xlabel( 'ra' )\n",
    "plt.ylabel( 'dec' )\n",
    "# plt.xlim([])\n",
    "# plt.ylim([])\n",
    "plt.title( 'deepCoadd (grey), input calexps (blue)' )\n",
    "plt.show()"
   ]
  },
  {
   "cell_type": "code",
   "execution_count": null,
   "id": "1adc2efa-e58f-4105-87aa-a1538ec00107",
   "metadata": {},
   "outputs": [],
   "source": []
  },
  {
   "cell_type": "markdown",
   "id": "e32e6296-2906-4264-ace6-d23c462e9a14",
   "metadata": {},
   "source": [
    "## identify subset of calexps to combine\n",
    "\n",
    "e.g., choose a date range of a few months and recreate"
   ]
  },
  {
   "cell_type": "code",
   "execution_count": null,
   "id": "92aea446-36c8-419d-a7a9-4a372b79c66d",
   "metadata": {},
   "outputs": [],
   "source": [
    "use_detector = coadd_inputs_ccds_table['ccd'][0]\n",
    "use_visit = coadd_inputs_ccds_table['visit'][0]\n",
    "calexp_meta = butler.get('calexp.metadata', detector=use_detector, visit=use_visit)\n",
    "print( calexp_meta['FILTER'], calexp_meta['DATE-END'] )"
   ]
  },
  {
   "cell_type": "markdown",
   "id": "7b4395c6-f17d-4d5e-9af7-0ebf22c40d34",
   "metadata": {},
   "source": [
    "## recreate the coadd with the calexps\n",
    "\n",
    "TBD"
   ]
  },
  {
   "cell_type": "code",
   "execution_count": null,
   "id": "7702d0a3-2fc4-4413-a207-77fd2fe42f9e",
   "metadata": {},
   "outputs": [],
   "source": []
  }
 ],
 "metadata": {
  "kernelspec": {
   "display_name": "LSST",
   "language": "python",
   "name": "lsst"
  },
  "language_info": {
   "codemirror_mode": {
    "name": "ipython",
    "version": 3
   },
   "file_extension": ".py",
   "mimetype": "text/x-python",
   "name": "python",
   "nbconvert_exporter": "python",
   "pygments_lexer": "ipython3",
   "version": "3.8.12"
  }
 },
 "nbformat": 4,
 "nbformat_minor": 5
}
