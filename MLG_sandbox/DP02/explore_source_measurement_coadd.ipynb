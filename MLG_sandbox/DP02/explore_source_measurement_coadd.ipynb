{
 "cells": [
  {
   "cell_type": "markdown",
   "id": "ea18fc1d-a242-4648-8010-bb3765c816c7",
   "metadata": {},
   "source": [
    "# Explore source measurement on a custom coadd\n",
    "\n",
    "This NB uses the same procedure as in notebook 05_Introduction_to_Source_Detection.\n",
    "We've already made a custom coadd with just six input visits, and are using that here.\n",
    "\n",
    "> **Help Question:** NB 05 uses a calexp, not a coadd. Still OK to base the code below on NB 05?\n",
    "\n",
    "> **Help Question:** Can we skip 2, CharacterizeImageTask, because our coadd is characterized?\n",
    "\n",
    "Now want to run source detection, deblending, and measurement on the coadd.\n",
    "\n",
    "> **Help Question:** In 4, the debelending returns an assertion error about the schema not matching even when we make sure they match at the start. Unsure how to fix. Same seems to happen in 5.\n",
    "\n",
    "> **Help Question:** Maybe there's a better way to do the coadd source detection, deblending, and measurement?\n",
    "\n",
    "In the DRP.yaml file there are the following, maybe we just add them...:\n",
    " - detection: lsst.pipe.tasks.multiBand.DetectCoaddSourcesTask\n",
    " - deblend: lsst.pipe.tasks.deblendCoaddSourcesPipeline.DeblendCoaddSourcesMultiTask\n",
    " - measure: lsst.pipe.tasks.multiBand.MeasureMergedCoaddSourcesTask"
   ]
  },
  {
   "cell_type": "code",
   "execution_count": 1,
   "id": "146b88ab-9582-40dd-bc2f-1b7c778af7ce",
   "metadata": {},
   "outputs": [
    {
     "name": "stderr",
     "output_type": "stream",
     "text": [
      "\n",
      "WARNING: version mismatch between CFITSIO header (v4.000999999999999) and linked library (v4.01).\n",
      "\n",
      "\n",
      "WARNING: version mismatch between CFITSIO header (v4.000999999999999) and linked library (v4.01).\n",
      "\n",
      "\n",
      "WARNING: version mismatch between CFITSIO header (v4.000999999999999) and linked library (v4.01).\n",
      "\n"
     ]
    }
   ],
   "source": [
    "import time\n",
    "import numpy as np\n",
    "import pandas\n",
    "\n",
    "import lsst.geom\n",
    "import lsst.afw.display as afwDisplay\n",
    "\n",
    "from lsst.daf.butler import Butler\n",
    "\n",
    "import lsst.afw.table as afwTable\n",
    "from lsst.meas.algorithms.detection import SourceDetectionTask\n",
    "\n",
    "from lsst.meas.deblender import SourceDeblendTask\n",
    "\n",
    "from lsst.meas.base import SingleFrameMeasurementTask\n",
    "import lsst.daf.base as dafBase"
   ]
  },
  {
   "cell_type": "markdown",
   "id": "527656da-426c-4c29-b08e-c52f8fd6e479",
   "metadata": {},
   "source": [
    "## 1. Get the coadd I made in draft_Create_Custom_Coadd.ipynb"
   ]
  },
  {
   "cell_type": "code",
   "execution_count": 2,
   "id": "b93e21ab-3854-4ca3-befb-420c2c7d7f32",
   "metadata": {},
   "outputs": [
    {
     "data": {
      "text/html": [
       "<pre style=\"margin: 0.1em;\n",
       "padding-left: 0.25em;\n",
       "border-left-style: solid;\n",
       "font-family: var(--jp-code-font-family);\n",
       "font-size: var(--jp-code-font-size);\n",
       "line-height: var(--jp-code-line-height);\n",
       "\"><span style=\"color: var(--jp-warn-color2)\">botocore.credentials</span> <span style=\"color: var(--jp-info-color0)\">INFO</span>: Found credentials in shared credentials file: /home/melissagraham/.lsst/aws-credentials.ini</pre>"
      ],
      "text/plain": [
       "<IPython.core.display.HTML object>"
      ]
     },
     "metadata": {},
     "output_type": "display_data"
    }
   ],
   "source": [
    "config = 'dp02'\n",
    "collection = 'u/melissagraham/coadd_recreation_nb/20220715T220907Z'\n",
    "\n",
    "butler = Butler(config, collections=collection)\n",
    "\n",
    "my_dataId = {'band': 'i', 'tract': 4431, 'patch': 17}\n",
    "my_coadd = butler.get('deepCoadd', dataId=my_dataId)"
   ]
  },
  {
   "cell_type": "markdown",
   "id": "6a1a7ed5-670e-404b-9362-999198c8cd9c",
   "metadata": {},
   "source": [
    "See, it's a special coadd."
   ]
  },
  {
   "cell_type": "code",
   "execution_count": 3,
   "id": "bc9e089f-ced8-45e6-a3a9-bf458fde5a69",
   "metadata": {},
   "outputs": [
    {
     "data": {
      "text/html": [
       "<div><i>Table length=6</i>\n",
       "<table id=\"table140406056448064\" class=\"table-striped table-bordered table-condensed\">\n",
       "<thead><tr><th>id</th><th>bbox_min_x</th><th>bbox_min_y</th><th>bbox_max_x</th><th>bbox_max_y</th><th>goodpix</th><th>weight</th><th>filter</th></tr></thead>\n",
       "<thead><tr><th></th><th>pix</th><th>pix</th><th>pix</th><th>pix</th><th></th><th></th><th></th></tr></thead>\n",
       "<thead><tr><th>int64</th><th>int32</th><th>int32</th><th>int32</th><th>int32</th><th>int32</th><th>float64</th><th>str32</th></tr></thead>\n",
       "<tr><td>919515</td><td>11900</td><td>7900</td><td>16099</td><td>12099</td><td>8982709</td><td>3.4656688819793495</td><td>i_sim_1.4</td></tr>\n",
       "<tr><td>924057</td><td>11900</td><td>7900</td><td>16099</td><td>12099</td><td>16098179</td><td>4.384267091685517</td><td>i_sim_1.4</td></tr>\n",
       "<tr><td>924085</td><td>11900</td><td>7900</td><td>16099</td><td>12099</td><td>831332</td><td>4.446833161599578</td><td>i_sim_1.4</td></tr>\n",
       "<tr><td>924086</td><td>11900</td><td>7900</td><td>16099</td><td>12099</td><td>16136708</td><td>4.550420295334223</td><td>i_sim_1.4</td></tr>\n",
       "<tr><td>929477</td><td>11900</td><td>7900</td><td>16099</td><td>12099</td><td>16280498</td><td>4.051326013718346</td><td>i_sim_1.4</td></tr>\n",
       "<tr><td>930353</td><td>11900</td><td>7900</td><td>16099</td><td>12099</td><td>16076133</td><td>3.7685753871220466</td><td>i_sim_1.4</td></tr>\n",
       "</table></div>"
      ],
      "text/plain": [
       "<Table length=6>\n",
       "  id   bbox_min_x bbox_min_y ... goodpix        weight         filter \n",
       "          pix        pix     ...                                      \n",
       "int64    int32      int32    ...  int32        float64         str32  \n",
       "------ ---------- ---------- ... -------- ------------------ ---------\n",
       "919515      11900       7900 ...  8982709 3.4656688819793495 i_sim_1.4\n",
       "924057      11900       7900 ... 16098179  4.384267091685517 i_sim_1.4\n",
       "924085      11900       7900 ...   831332  4.446833161599578 i_sim_1.4\n",
       "924086      11900       7900 ... 16136708  4.550420295334223 i_sim_1.4\n",
       "929477      11900       7900 ... 16280498  4.051326013718346 i_sim_1.4\n",
       "930353      11900       7900 ... 16076133 3.7685753871220466 i_sim_1.4"
      ]
     },
     "execution_count": 3,
     "metadata": {},
     "output_type": "execute_result"
    }
   ],
   "source": [
    "my_coadd_inputs = butler.get(\"deepCoadd.coaddInputs\", my_dataId)\n",
    "my_coadd_inputs.visits.asAstropy()"
   ]
  },
  {
   "cell_type": "markdown",
   "id": "c16ab3de-c3b8-4ded-9854-12659c386e08",
   "metadata": {},
   "source": [
    "## 2. Characterize Image Task\n",
    "\n",
    "> **Help Question:** Is it necessary to run CharacterizeImageTask on the coadd? It seems the image already has psf, is already characterized?"
   ]
  },
  {
   "cell_type": "code",
   "execution_count": 4,
   "id": "464e9298-8b3a-44c2-88bb-b94567704299",
   "metadata": {},
   "outputs": [
    {
     "name": "stdout",
     "output_type": "stream",
     "text": [
      "psf fwhm = 0.84 arcsec at x = 12100, y = 8100\n"
     ]
    }
   ],
   "source": [
    "my_coadd_bbox = butler.get(\"deepCoadd.bbox\", dataId=my_dataId)\n",
    "x_val = my_coadd_bbox.beginX + 200\n",
    "y_val = my_coadd_bbox.beginY + 200\n",
    "point = lsst.geom.Point2D(x_val, y_val)\n",
    "\n",
    "psf = my_coadd.getPsf()\n",
    "psfShape = psf.computeShape(point)\n",
    "sigma = psfShape.getDeterminantRadius()\n",
    "pixelScale = my_coadd.getWcs().getPixelScale().asArcseconds()\n",
    "print('psf fwhm = {:.2f} arcsec at x = {:.0f}, y = {:.0f}'.format(sigma*pixelScale*2.355,x_val,y_val))"
   ]
  },
  {
   "cell_type": "markdown",
   "id": "df64185c-3428-4002-b121-d84e875ce2b1",
   "metadata": {},
   "source": [
    "If it's necessary, do like this?"
   ]
  },
  {
   "cell_type": "code",
   "execution_count": 5,
   "id": "5e1386c9-bc84-4467-8b88-e11c139d2387",
   "metadata": {
    "scrolled": true,
    "tags": []
   },
   "outputs": [],
   "source": [
    "# from lsst.pipe.tasks.characterizeImage import CharacterizeImageTask\n",
    "\n",
    "# ci_config = CharacterizeImageTask.ConfigClass()\n",
    "# ci_config.psfIterations = 1\n",
    "# charImageTask = CharacterizeImageTask(config=ci_config)\n",
    "\n",
    "# result = charImageTask.run(my_coadd)"
   ]
  },
  {
   "cell_type": "markdown",
   "id": "7d887556-d81f-4dc0-a862-89ae381a2614",
   "metadata": {},
   "source": [
    "## 3. Configure Source Detection, Deblend, and Measurement Tasks"
   ]
  },
  {
   "cell_type": "code",
   "execution_count": 6,
   "id": "4f40091f-9c79-43b5-a630-c79edf496203",
   "metadata": {},
   "outputs": [],
   "source": [
    "schema = afwTable.SourceTable.makeMinimalSchema()\n",
    "tab = afwTable.SourceTable.make(schema)"
   ]
  },
  {
   "cell_type": "code",
   "execution_count": 7,
   "id": "b425340a-1996-4f07-8819-24a955425728",
   "metadata": {},
   "outputs": [
    {
     "data": {
      "text/plain": [
       "Schema(\n",
       "    (Field['L'](name=\"id\", doc=\"unique ID\"), Key<L>(offset=0, nElements=1)),\n",
       "    (Field['Angle'](name=\"coord_ra\", doc=\"position in ra/dec\"), Key<Angle>(offset=8, nElements=1)),\n",
       "    (Field['Angle'](name=\"coord_dec\", doc=\"position in ra/dec\"), Key<Angle>(offset=16, nElements=1)),\n",
       "    (Field['L'](name=\"parent\", doc=\"unique ID of parent source\"), Key<L>(offset=24, nElements=1)),\n",
       ")"
      ]
     },
     "execution_count": 7,
     "metadata": {},
     "output_type": "execute_result"
    }
   ],
   "source": [
    "schema"
   ]
  },
  {
   "cell_type": "code",
   "execution_count": 8,
   "id": "cdbc1ead-647e-44b7-9a2c-bfde63f42bc7",
   "metadata": {},
   "outputs": [],
   "source": [
    "sd_config = SourceDetectionTask.ConfigClass()\n",
    "sd_config.thresholdValue = 5\n",
    "sd_config.thresholdType = \"stdev\"\n",
    "\n",
    "sourceDetectionTask = SourceDetectionTask(schema=schema, config=sd_config)"
   ]
  },
  {
   "cell_type": "code",
   "execution_count": 9,
   "id": "84f4eb24-da60-4bda-ad34-3db9007cb06a",
   "metadata": {},
   "outputs": [],
   "source": [
    "sourceDeblendTask = SourceDeblendTask(schema=schema)"
   ]
  },
  {
   "cell_type": "code",
   "execution_count": 10,
   "id": "a6a3c2ef-e49c-447b-ac47-abfaaac91f5a",
   "metadata": {},
   "outputs": [
    {
     "name": "stdout",
     "output_type": "stream",
     "text": [
      "algMetadata: \n"
     ]
    },
    {
     "data": {
      "text/plain": [
       "<lsst.daf.base.propertyContainer.propertyList.PropertyList at 0x7fb2d40c2b30>"
      ]
     },
     "execution_count": 10,
     "metadata": {},
     "output_type": "execute_result"
    }
   ],
   "source": [
    "algMetadata = dafBase.PropertyList()\n",
    "print('algMetadata: ')\n",
    "algMetadata"
   ]
  },
  {
   "cell_type": "code",
   "execution_count": 11,
   "id": "8c0fa1a9-7921-45da-87ff-36e5ca892ed3",
   "metadata": {},
   "outputs": [],
   "source": [
    "sm_config = SingleFrameMeasurementTask.ConfigClass()\n",
    "\n",
    "sourceMeasurementTask = SingleFrameMeasurementTask(schema=schema,\n",
    "                                                   config=sm_config,\n",
    "                                                   algMetadata=algMetadata)"
   ]
  },
  {
   "cell_type": "markdown",
   "id": "0cd43974-6583-4fc0-b69f-ff1f5daefe47",
   "metadata": {},
   "source": [
    "## 4. Run Source Detection Task"
   ]
  },
  {
   "cell_type": "code",
   "execution_count": 12,
   "id": "fdbed973-1d56-444b-95dc-6d596e46dbde",
   "metadata": {},
   "outputs": [
    {
     "data": {
      "text/html": [
       "<pre style=\"margin: 0.1em;\n",
       "padding-left: 0.25em;\n",
       "border-left-style: solid;\n",
       "font-family: var(--jp-code-font-family);\n",
       "font-size: var(--jp-code-font-size);\n",
       "line-height: var(--jp-code-line-height);\n",
       "\"><span style=\"color: var(--jp-warn-color2)\">lsst.sourceDetection</span> <span style=\"color: var(--jp-info-color0)\">INFO</span>: Detected 4878 positive peaks in 3871 footprints and 272 negative peaks in 251 footprints to 5 sigma</pre>"
      ],
      "text/plain": [
       "<IPython.core.display.HTML object>"
      ]
     },
     "metadata": {},
     "output_type": "display_data"
    },
    {
     "data": {
      "text/html": [
       "<pre style=\"margin: 0.1em;\n",
       "padding-left: 0.25em;\n",
       "border-left-style: solid;\n",
       "font-family: var(--jp-code-font-family);\n",
       "font-size: var(--jp-code-font-size);\n",
       "line-height: var(--jp-code-line-height);\n",
       "\"><span style=\"color: var(--jp-warn-color2)\">lsst.sourceDetection</span> <span style=\"color: var(--jp-info-color0)\">INFO</span>: Resubtracting the background after object detection</pre>"
      ],
      "text/plain": [
       "<IPython.core.display.HTML object>"
      ]
     },
     "metadata": {},
     "output_type": "display_data"
    },
    {
     "name": "stdout",
     "output_type": "stream",
     "text": [
      "CPU times: user 4.65 s, sys: 943 ms, total: 5.59 s\n",
      "Wall time: 5.59 s\n"
     ]
    }
   ],
   "source": [
    "%%time\n",
    "result = sourceDetectionTask.run(tab, my_coadd)"
   ]
  },
  {
   "cell_type": "code",
   "execution_count": 13,
   "id": "0f2e7e61-b001-4ebe-953a-c08d245f1219",
   "metadata": {},
   "outputs": [],
   "source": [
    "sources = result.sources"
   ]
  },
  {
   "cell_type": "code",
   "execution_count": 14,
   "id": "cecb724d-c7fe-41b5-95e8-98bb69a5245e",
   "metadata": {},
   "outputs": [
    {
     "name": "stdout",
     "output_type": "stream",
     "text": [
      "3871 4878\n"
     ]
    }
   ],
   "source": [
    "print(len(sources), result.numPosPeaks)"
   ]
  },
  {
   "cell_type": "code",
   "execution_count": 15,
   "id": "a869a57b-ccbf-478e-936a-47da5af55727",
   "metadata": {},
   "outputs": [],
   "source": [
    "# sources.asAstropy()"
   ]
  },
  {
   "cell_type": "markdown",
   "id": "d7297527-c1e2-4bc9-944e-88b14c517a72",
   "metadata": {},
   "source": [
    "## 5. Run Source Deblending\n",
    "\n",
    "https://pipelines.lsst.io/modules/lsst.meas.deblender/index.html\n",
    "\n",
    "https://pipelines.lsst.io/modules/lsst.meas.deblender/tasks/lsst.meas.deblender.SourceDeblendTask.html\n",
    "\n",
    "> **Help Question:** `sourceDeblendTask.run` exists with an assertion error about the schemas even when we make sure the input schema matches before we start. Not sure how to fix."
   ]
  },
  {
   "cell_type": "markdown",
   "id": "2dbf2bb5-beca-4061-b448-47299059de80",
   "metadata": {},
   "source": [
    "SourceDeblendTask modifies the source catalog in-place."
   ]
  },
  {
   "cell_type": "code",
   "execution_count": 16,
   "id": "402d2f13-ce3b-4977-a8a3-67ec36216aaf",
   "metadata": {},
   "outputs": [
    {
     "ename": "AssertionError",
     "evalue": "",
     "output_type": "error",
     "traceback": [
      "\u001b[0;31m---------------------------------------------------------------------------\u001b[0m",
      "\u001b[0;31mAssertionError\u001b[0m                            Traceback (most recent call last)",
      "Input \u001b[0;32mIn [16]\u001b[0m, in \u001b[0;36m<cell line: 1>\u001b[0;34m()\u001b[0m\n\u001b[0;32m----> 1\u001b[0m \u001b[38;5;28;01massert\u001b[39;00m sources\u001b[38;5;241m.\u001b[39mgetSchema() \u001b[38;5;241m==\u001b[39m schema\n",
      "\u001b[0;31mAssertionError\u001b[0m: "
     ]
    }
   ],
   "source": [
    "assert sources.getSchema() == schema"
   ]
  },
  {
   "cell_type": "markdown",
   "id": "d7c20480-526b-4da4-bc63-2c47cdba47b9",
   "metadata": {},
   "source": [
    "Attempt to fix that by redefining schema and sourceDeblendTask."
   ]
  },
  {
   "cell_type": "code",
   "execution_count": 17,
   "id": "17b4ee2d-9191-427b-ad65-566ba1a6ca54",
   "metadata": {},
   "outputs": [],
   "source": [
    "schema = sources.getSchema()"
   ]
  },
  {
   "cell_type": "code",
   "execution_count": 18,
   "id": "e824eee7-aac3-4b3f-8db4-37bd7ff015c0",
   "metadata": {},
   "outputs": [],
   "source": [
    "assert sources.getSchema() == schema"
   ]
  },
  {
   "cell_type": "code",
   "execution_count": 19,
   "id": "eb270251-f164-4860-a844-da5ff91daea3",
   "metadata": {},
   "outputs": [],
   "source": [
    "sourceDeblendTask = SourceDeblendTask(schema=schema)"
   ]
  },
  {
   "cell_type": "markdown",
   "id": "b88cc8e0-77cb-48b5-9286-9ba541643b00",
   "metadata": {},
   "source": [
    "Does not seem to help, below we still get the error:\n",
    "> `--> 275 assert sources.getSchema() == self.schema`"
   ]
  },
  {
   "cell_type": "code",
   "execution_count": 20,
   "id": "36c6656f-3254-49ae-9819-2def3cdd7d9e",
   "metadata": {},
   "outputs": [
    {
     "ename": "AssertionError",
     "evalue": "",
     "output_type": "error",
     "traceback": [
      "\u001b[0;31m---------------------------------------------------------------------------\u001b[0m",
      "\u001b[0;31mAssertionError\u001b[0m                            Traceback (most recent call last)",
      "File \u001b[0;32m<timed eval>:1\u001b[0m, in \u001b[0;36m<module>\u001b[0;34m\u001b[0m\n",
      "File \u001b[0;32m/opt/lsst/software/stack/stack/miniconda3-py38_4.9.2-4.0.0/Linux64/utils/g62e1f4f43a+eee07778a9/python/lsst/utils/timer.py:345\u001b[0m, in \u001b[0;36mtimeMethod.<locals>.decorator_timer.<locals>.timeMethod_wrapper\u001b[0;34m(self, *args, **keyArgs)\u001b[0m\n\u001b[1;32m    336\u001b[0m logInfo(\n\u001b[1;32m    337\u001b[0m     obj\u001b[38;5;241m=\u001b[39m\u001b[38;5;28mself\u001b[39m,\n\u001b[1;32m    338\u001b[0m     prefix\u001b[38;5;241m=\u001b[39mfunc\u001b[38;5;241m.\u001b[39m\u001b[38;5;18m__name__\u001b[39m \u001b[38;5;241m+\u001b[39m \u001b[38;5;124m\"\u001b[39m\u001b[38;5;124mStart\u001b[39m\u001b[38;5;124m\"\u001b[39m,\n\u001b[0;32m   (...)\u001b[0m\n\u001b[1;32m    342\u001b[0m     stacklevel\u001b[38;5;241m=\u001b[39mstacklevel,\n\u001b[1;32m    343\u001b[0m )\n\u001b[1;32m    344\u001b[0m \u001b[38;5;28;01mtry\u001b[39;00m:\n\u001b[0;32m--> 345\u001b[0m     res \u001b[38;5;241m=\u001b[39m \u001b[43mfunc\u001b[49m\u001b[43m(\u001b[49m\u001b[38;5;28;43mself\u001b[39;49m\u001b[43m,\u001b[49m\u001b[43m \u001b[49m\u001b[38;5;241;43m*\u001b[39;49m\u001b[43margs\u001b[49m\u001b[43m,\u001b[49m\u001b[43m \u001b[49m\u001b[38;5;241;43m*\u001b[39;49m\u001b[38;5;241;43m*\u001b[39;49m\u001b[43mkeyArgs\u001b[49m\u001b[43m)\u001b[49m\n\u001b[1;32m    346\u001b[0m \u001b[38;5;28;01mfinally\u001b[39;00m:\n\u001b[1;32m    347\u001b[0m     logInfo(\n\u001b[1;32m    348\u001b[0m         obj\u001b[38;5;241m=\u001b[39m\u001b[38;5;28mself\u001b[39m,\n\u001b[1;32m    349\u001b[0m         prefix\u001b[38;5;241m=\u001b[39mfunc\u001b[38;5;241m.\u001b[39m\u001b[38;5;18m__name__\u001b[39m \u001b[38;5;241m+\u001b[39m \u001b[38;5;124m\"\u001b[39m\u001b[38;5;124mEnd\u001b[39m\u001b[38;5;124m\"\u001b[39m,\n\u001b[0;32m   (...)\u001b[0m\n\u001b[1;32m    353\u001b[0m         stacklevel\u001b[38;5;241m=\u001b[39mstacklevel,\n\u001b[1;32m    354\u001b[0m     )\n",
      "File \u001b[0;32m/opt/lsst/software/stack/stack/miniconda3-py38_4.9.2-4.0.0/Linux64/meas_deblender/gc70061adbb+d92585caf0/python/lsst/meas/deblender/sourceDeblendTask.py:275\u001b[0m, in \u001b[0;36mSourceDeblendTask.run\u001b[0;34m(self, exposure, sources)\u001b[0m\n\u001b[1;32m    265\u001b[0m \u001b[38;5;124;03m\"\"\"Get the PSF from the provided exposure and then run deblend.\u001b[39;00m\n\u001b[1;32m    266\u001b[0m \n\u001b[1;32m    267\u001b[0m \u001b[38;5;124;03mParameters\u001b[39;00m\n\u001b[0;32m   (...)\u001b[0m\n\u001b[1;32m    272\u001b[0m \u001b[38;5;124;03m    SourceCatalog containing sources detected on this exposure.\u001b[39;00m\n\u001b[1;32m    273\u001b[0m \u001b[38;5;124;03m\"\"\"\u001b[39;00m\n\u001b[1;32m    274\u001b[0m psf \u001b[38;5;241m=\u001b[39m exposure\u001b[38;5;241m.\u001b[39mgetPsf()\n\u001b[0;32m--> 275\u001b[0m \u001b[38;5;28;01massert\u001b[39;00m sources\u001b[38;5;241m.\u001b[39mgetSchema() \u001b[38;5;241m==\u001b[39m \u001b[38;5;28mself\u001b[39m\u001b[38;5;241m.\u001b[39mschema\n\u001b[1;32m    276\u001b[0m \u001b[38;5;28mself\u001b[39m\u001b[38;5;241m.\u001b[39mdeblend(exposure, sources, psf)\n",
      "\u001b[0;31mAssertionError\u001b[0m: "
     ]
    }
   ],
   "source": [
    "%%time\n",
    "sourceDeblendTask.run(my_coadd, sources)"
   ]
  },
  {
   "cell_type": "code",
   "execution_count": 21,
   "id": "99319b9f-9c83-4cc3-bd0f-b54fa824c5e8",
   "metadata": {},
   "outputs": [
    {
     "name": "stdout",
     "output_type": "stream",
     "text": [
      "3871\n"
     ]
    }
   ],
   "source": [
    "print(len(sources))"
   ]
  },
  {
   "cell_type": "markdown",
   "id": "cb2492d2-5474-4caa-aa71-e67fadd0476c",
   "metadata": {},
   "source": [
    "## 6. Run Source Measurement\n",
    "\n",
    "https://pipelines.lsst.io/modules/lsst.meas.base/tasks/lsst.meas.base.sfm.SingleFrameMeasurementTask.html"
   ]
  },
  {
   "cell_type": "code",
   "execution_count": 22,
   "id": "1f3b6157-4e3a-47eb-a742-2dd7f3204bc6",
   "metadata": {},
   "outputs": [
    {
     "ename": "AssertionError",
     "evalue": "",
     "output_type": "error",
     "traceback": [
      "\u001b[0;31m---------------------------------------------------------------------------\u001b[0m",
      "\u001b[0;31mAssertionError\u001b[0m                            Traceback (most recent call last)",
      "File \u001b[0;32m<timed eval>:1\u001b[0m, in \u001b[0;36m<module>\u001b[0;34m\u001b[0m\n",
      "File \u001b[0;32m/opt/lsst/software/stack/stack/miniconda3-py38_4.9.2-4.0.0/Linux64/utils/g62e1f4f43a+eee07778a9/python/lsst/utils/timer.py:345\u001b[0m, in \u001b[0;36mtimeMethod.<locals>.decorator_timer.<locals>.timeMethod_wrapper\u001b[0;34m(self, *args, **keyArgs)\u001b[0m\n\u001b[1;32m    336\u001b[0m logInfo(\n\u001b[1;32m    337\u001b[0m     obj\u001b[38;5;241m=\u001b[39m\u001b[38;5;28mself\u001b[39m,\n\u001b[1;32m    338\u001b[0m     prefix\u001b[38;5;241m=\u001b[39mfunc\u001b[38;5;241m.\u001b[39m\u001b[38;5;18m__name__\u001b[39m \u001b[38;5;241m+\u001b[39m \u001b[38;5;124m\"\u001b[39m\u001b[38;5;124mStart\u001b[39m\u001b[38;5;124m\"\u001b[39m,\n\u001b[0;32m   (...)\u001b[0m\n\u001b[1;32m    342\u001b[0m     stacklevel\u001b[38;5;241m=\u001b[39mstacklevel,\n\u001b[1;32m    343\u001b[0m )\n\u001b[1;32m    344\u001b[0m \u001b[38;5;28;01mtry\u001b[39;00m:\n\u001b[0;32m--> 345\u001b[0m     res \u001b[38;5;241m=\u001b[39m \u001b[43mfunc\u001b[49m\u001b[43m(\u001b[49m\u001b[38;5;28;43mself\u001b[39;49m\u001b[43m,\u001b[49m\u001b[43m \u001b[49m\u001b[38;5;241;43m*\u001b[39;49m\u001b[43margs\u001b[49m\u001b[43m,\u001b[49m\u001b[43m \u001b[49m\u001b[38;5;241;43m*\u001b[39;49m\u001b[38;5;241;43m*\u001b[39;49m\u001b[43mkeyArgs\u001b[49m\u001b[43m)\u001b[49m\n\u001b[1;32m    346\u001b[0m \u001b[38;5;28;01mfinally\u001b[39;00m:\n\u001b[1;32m    347\u001b[0m     logInfo(\n\u001b[1;32m    348\u001b[0m         obj\u001b[38;5;241m=\u001b[39m\u001b[38;5;28mself\u001b[39m,\n\u001b[1;32m    349\u001b[0m         prefix\u001b[38;5;241m=\u001b[39mfunc\u001b[38;5;241m.\u001b[39m\u001b[38;5;18m__name__\u001b[39m \u001b[38;5;241m+\u001b[39m \u001b[38;5;124m\"\u001b[39m\u001b[38;5;124mEnd\u001b[39m\u001b[38;5;124m\"\u001b[39m,\n\u001b[0;32m   (...)\u001b[0m\n\u001b[1;32m    353\u001b[0m         stacklevel\u001b[38;5;241m=\u001b[39mstacklevel,\n\u001b[1;32m    354\u001b[0m     )\n",
      "File \u001b[0;32m/opt/lsst/software/stack/stack/miniconda3-py38_4.9.2-4.0.0/Linux64/meas_base/g7820879bc5+118584792b/python/lsst/meas/base/sfm.py:243\u001b[0m, in \u001b[0;36mSingleFrameMeasurementTask.run\u001b[0;34m(self, measCat, exposure, noiseImage, exposureId, beginOrder, endOrder)\u001b[0m\n\u001b[1;32m    214\u001b[0m \u001b[38;5;129m@timeMethod\u001b[39m\n\u001b[1;32m    215\u001b[0m \u001b[38;5;28;01mdef\u001b[39;00m \u001b[38;5;21mrun\u001b[39m(\u001b[38;5;28mself\u001b[39m, measCat, exposure, noiseImage\u001b[38;5;241m=\u001b[39m\u001b[38;5;28;01mNone\u001b[39;00m, exposureId\u001b[38;5;241m=\u001b[39m\u001b[38;5;28;01mNone\u001b[39;00m, beginOrder\u001b[38;5;241m=\u001b[39m\u001b[38;5;28;01mNone\u001b[39;00m, endOrder\u001b[38;5;241m=\u001b[39m\u001b[38;5;28;01mNone\u001b[39;00m):\n\u001b[1;32m    216\u001b[0m     \u001b[38;5;124mr\u001b[39m\u001b[38;5;124;03m\"\"\"Run single frame measurement over an exposure and source catalog.\u001b[39;00m\n\u001b[1;32m    217\u001b[0m \n\u001b[1;32m    218\u001b[0m \u001b[38;5;124;03m    Parameters\u001b[39;00m\n\u001b[0;32m   (...)\u001b[0m\n\u001b[1;32m    241\u001b[0m \u001b[38;5;124;03m        limit.\u001b[39;00m\n\u001b[1;32m    242\u001b[0m \u001b[38;5;124;03m    \"\"\"\u001b[39;00m\n\u001b[0;32m--> 243\u001b[0m     \u001b[38;5;28;01massert\u001b[39;00m measCat\u001b[38;5;241m.\u001b[39mgetSchema()\u001b[38;5;241m.\u001b[39mcontains(\u001b[38;5;28mself\u001b[39m\u001b[38;5;241m.\u001b[39mschema)\n\u001b[1;32m    244\u001b[0m     footprints \u001b[38;5;241m=\u001b[39m {measRecord\u001b[38;5;241m.\u001b[39mgetId(): (measRecord\u001b[38;5;241m.\u001b[39mgetParent(), measRecord\u001b[38;5;241m.\u001b[39mgetFootprint())\n\u001b[1;32m    245\u001b[0m                   \u001b[38;5;28;01mfor\u001b[39;00m measRecord \u001b[38;5;129;01min\u001b[39;00m measCat}\n\u001b[1;32m    247\u001b[0m     \u001b[38;5;66;03m# noiseReplacer is used to fill the footprints with noise and save\u001b[39;00m\n\u001b[1;32m    248\u001b[0m     \u001b[38;5;66;03m# heavy footprints of the source pixels so that they can be restored\u001b[39;00m\n\u001b[1;32m    249\u001b[0m     \u001b[38;5;66;03m# one at a time for measurement.  After the NoiseReplacer is\u001b[39;00m\n\u001b[1;32m    250\u001b[0m     \u001b[38;5;66;03m# constructed, all pixels in the exposure.getMaskedImage() which\u001b[39;00m\n\u001b[1;32m    251\u001b[0m     \u001b[38;5;66;03m# belong to objects in measCat will be replaced with noise\u001b[39;00m\n",
      "\u001b[0;31mAssertionError\u001b[0m: "
     ]
    }
   ],
   "source": [
    "%%time\n",
    "sourceMeasurementTask.run(measCat=sources, exposure=my_coadd)"
   ]
  },
  {
   "cell_type": "code",
   "execution_count": null,
   "id": "f3d13856-8154-45c9-ba1a-95ff8ad990b6",
   "metadata": {},
   "outputs": [],
   "source": []
  },
  {
   "cell_type": "code",
   "execution_count": null,
   "id": "f12157f8-017e-4239-a651-236d5270ce3a",
   "metadata": {},
   "outputs": [],
   "source": []
  }
 ],
 "metadata": {
  "kernelspec": {
   "display_name": "LSST",
   "language": "python",
   "name": "lsst"
  },
  "language_info": {
   "codemirror_mode": {
    "name": "ipython",
    "version": 3
   },
   "file_extension": ".py",
   "mimetype": "text/x-python",
   "name": "python",
   "nbconvert_exporter": "python",
   "pygments_lexer": "ipython3",
   "version": "3.10.4"
  }
 },
 "nbformat": 4,
 "nbformat_minor": 5
}
