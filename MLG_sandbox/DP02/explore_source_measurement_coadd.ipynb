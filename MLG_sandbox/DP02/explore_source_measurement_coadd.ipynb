{
 "cells": [
  {
   "cell_type": "markdown",
   "id": "ea18fc1d-a242-4648-8010-bb3765c816c7",
   "metadata": {},
   "source": [
    "# Explore source measurement on a custom coadd\n",
    "\n",
    "This NB uses the same procedure as in notebook 05_Introduction_to_Source_Detection.\n",
    "We've already made a custom coadd with just six input visits, and are using that here.\n",
    "\n",
    "> **Help Question:** NB 05 uses a calexp, not a coadd. Still OK to base the code below on NB 05?\n",
    "\n",
    "> **Help Question:** Can we skip 2, CharacterizeImageTask, because our coadd is characterized?\n",
    "\n",
    "Now want to run source detection, deblending, and measurement on the coadd.\n",
    "\n",
    "> **Help Question:** In 4, there are >3000 sources detected, but they all have 'nan' coordinates. Jeff runs into this same issue.\n",
    "\n",
    "> **Help Question:** In 5, the debelending returns an assertion error about the schema not matching even when we make sure they match at the start. Unsure how to fix. Same seems to happen in 6.\n",
    "\n",
    "> **Help Question:** Maybe there's a better way to do the coadd source detection, deblending, and measurement?\n",
    "\n",
    "In the DRP.yaml file there are the following, maybe we just add them...:\n",
    " - detection: lsst.pipe.tasks.multiBand.DetectCoaddSourcesTask\n",
    " - deblend: lsst.pipe.tasks.deblendCoaddSourcesPipeline.DeblendCoaddSourcesMultiTask\n",
    " - measure: lsst.pipe.tasks.multiBand.MeasureMergedCoaddSourcesTask"
   ]
  },
  {
   "cell_type": "code",
   "execution_count": 1,
   "id": "146b88ab-9582-40dd-bc2f-1b7c778af7ce",
   "metadata": {},
   "outputs": [],
   "source": [
    "import time\n",
    "import numpy as np\n",
    "import pandas\n",
    "\n",
    "import lsst.geom\n",
    "import lsst.afw.display as afwDisplay\n",
    "\n",
    "from lsst.daf.butler import Butler\n",
    "\n",
    "# lsst packages for executing pipeline tasks\n",
    "from lsst.ctrl.mpexec import SimplePipelineExecutor\n",
    "from lsst.pipe.base import Pipeline, Instrument\n",
    "\n",
    "# import lsst.afw.table as afwTable\n",
    "# from lsst.meas.algorithms.detection import SourceDetectionTask\n",
    "\n",
    "# from lsst.meas.deblender import SourceDeblendTask\n",
    "\n",
    "# from lsst.meas.base import SingleFrameMeasurementTask\n",
    "# import lsst.daf.base as dafBase"
   ]
  },
  {
   "cell_type": "markdown",
   "id": "527656da-426c-4c29-b08e-c52f8fd6e479",
   "metadata": {},
   "source": [
    "## 1. Get the coadd I made in draft_Create_Custom_Coadd.ipynb"
   ]
  },
  {
   "cell_type": "code",
   "execution_count": 4,
   "id": "b93e21ab-3854-4ca3-befb-420c2c7d7f32",
   "metadata": {},
   "outputs": [],
   "source": [
    "config = \"dp02\"\n",
    "collection = \"u/melissagraham/coadd_recreation_nb/TestWindow1\"\n",
    "butler = Butler(config, collections=collection)\n",
    "my_dataId = {'band': 'i', 'tract': 4431, 'patch': 17}\n",
    "my_deepCoadd = butler.get('deepCoadd', dataId=my_dataId)"
   ]
  },
  {
   "cell_type": "markdown",
   "id": "6a1a7ed5-670e-404b-9362-999198c8cd9c",
   "metadata": {},
   "source": [
    "See, it's a special coadd, with only six input visits."
   ]
  },
  {
   "cell_type": "code",
   "execution_count": 5,
   "id": "bc9e089f-ced8-45e6-a3a9-bf458fde5a69",
   "metadata": {},
   "outputs": [
    {
     "data": {
      "text/html": [
       "<div><i>Table length=6</i>\n",
       "<table id=\"table139753390501280\" class=\"table-striped table-bordered table-condensed\">\n",
       "<thead><tr><th>id</th><th>bbox_min_x</th><th>bbox_min_y</th><th>bbox_max_x</th><th>bbox_max_y</th><th>goodpix</th><th>weight</th><th>filter</th></tr></thead>\n",
       "<thead><tr><th></th><th>pix</th><th>pix</th><th>pix</th><th>pix</th><th></th><th></th><th></th></tr></thead>\n",
       "<thead><tr><th>int64</th><th>int32</th><th>int32</th><th>int32</th><th>int32</th><th>int32</th><th>float64</th><th>str32</th></tr></thead>\n",
       "<tr><td>919515</td><td>11900</td><td>7900</td><td>16099</td><td>12099</td><td>8982709</td><td>3.4656688819793495</td><td>i_sim_1.4</td></tr>\n",
       "<tr><td>924057</td><td>11900</td><td>7900</td><td>16099</td><td>12099</td><td>16098179</td><td>4.384267091685517</td><td>i_sim_1.4</td></tr>\n",
       "<tr><td>924085</td><td>11900</td><td>7900</td><td>16099</td><td>12099</td><td>831332</td><td>4.446833161599578</td><td>i_sim_1.4</td></tr>\n",
       "<tr><td>924086</td><td>11900</td><td>7900</td><td>16099</td><td>12099</td><td>16136708</td><td>4.550420295334223</td><td>i_sim_1.4</td></tr>\n",
       "<tr><td>929477</td><td>11900</td><td>7900</td><td>16099</td><td>12099</td><td>16280498</td><td>4.051326013718346</td><td>i_sim_1.4</td></tr>\n",
       "<tr><td>930353</td><td>11900</td><td>7900</td><td>16099</td><td>12099</td><td>16076133</td><td>3.7685753871220466</td><td>i_sim_1.4</td></tr>\n",
       "</table></div>"
      ],
      "text/plain": [
       "<Table length=6>\n",
       "  id   bbox_min_x bbox_min_y ... goodpix        weight         filter \n",
       "          pix        pix     ...                                      \n",
       "int64    int32      int32    ...  int32        float64         str32  \n",
       "------ ---------- ---------- ... -------- ------------------ ---------\n",
       "919515      11900       7900 ...  8982709 3.4656688819793495 i_sim_1.4\n",
       "924057      11900       7900 ... 16098179  4.384267091685517 i_sim_1.4\n",
       "924085      11900       7900 ...   831332  4.446833161599578 i_sim_1.4\n",
       "924086      11900       7900 ... 16136708  4.550420295334223 i_sim_1.4\n",
       "929477      11900       7900 ... 16280498  4.051326013718346 i_sim_1.4\n",
       "930353      11900       7900 ... 16076133 3.7685753871220466 i_sim_1.4"
      ]
     },
     "execution_count": 5,
     "metadata": {},
     "output_type": "execute_result"
    }
   ],
   "source": [
    "my_coadd_inputs = butler.get(\"deepCoadd.coaddInputs\", my_dataId)\n",
    "my_coadd_inputs.visits.asAstropy()"
   ]
  },
  {
   "cell_type": "code",
   "execution_count": null,
   "id": "53de4ca3-34a8-484b-a775-55af4ab4ec24",
   "metadata": {},
   "outputs": [],
   "source": []
  },
  {
   "cell_type": "code",
   "execution_count": null,
   "id": "5feae34f-863e-4bfe-81d9-161d47253c57",
   "metadata": {},
   "outputs": [],
   "source": []
  },
  {
   "cell_type": "code",
   "execution_count": null,
   "id": "4ce2fa01-18f8-4f30-bfd5-e683d0b2a741",
   "metadata": {},
   "outputs": [],
   "source": []
  },
  {
   "cell_type": "code",
   "execution_count": null,
   "id": "488328f1-0a07-4232-9bdb-78efd93bfd29",
   "metadata": {},
   "outputs": [],
   "source": []
  },
  {
   "cell_type": "code",
   "execution_count": null,
   "id": "5f21500f-9844-43f7-b22e-341aad959abf",
   "metadata": {},
   "outputs": [],
   "source": []
  },
  {
   "cell_type": "code",
   "execution_count": null,
   "id": "37795a6e-c2f4-4955-b5b9-3a0f4a673413",
   "metadata": {},
   "outputs": [],
   "source": []
  },
  {
   "cell_type": "code",
   "execution_count": null,
   "id": "5ef5972f-84e2-48b6-a656-dc4bd5ed6dfa",
   "metadata": {},
   "outputs": [],
   "source": []
  },
  {
   "cell_type": "code",
   "execution_count": null,
   "id": "a57def78-660a-4ec9-b729-2b04b35358e1",
   "metadata": {},
   "outputs": [],
   "source": []
  },
  {
   "cell_type": "markdown",
   "id": "c16ab3de-c3b8-4ded-9854-12659c386e08",
   "metadata": {},
   "source": [
    "## 2. Characterize Image Task\n",
    "\n",
    "> **Help Question:** Is it necessary to run CharacterizeImageTask on the coadd? It seems the image already has psf, is already characterized?"
   ]
  },
  {
   "cell_type": "code",
   "execution_count": null,
   "id": "464e9298-8b3a-44c2-88bb-b94567704299",
   "metadata": {},
   "outputs": [],
   "source": [
    "my_coadd_bbox = butler.get(\"deepCoadd.bbox\", dataId=my_dataId)\n",
    "x_val = my_coadd_bbox.beginX + 200\n",
    "y_val = my_coadd_bbox.beginY + 200\n",
    "point = lsst.geom.Point2D(x_val, y_val)\n",
    "\n",
    "psf = my_coadd.getPsf()\n",
    "psfShape = psf.computeShape(point)\n",
    "sigma = psfShape.getDeterminantRadius()\n",
    "pixelScale = my_coadd.getWcs().getPixelScale().asArcseconds()\n",
    "print('psf fwhm = {:.2f} arcsec at x = {:.0f}, y = {:.0f}'.format(sigma*pixelScale*2.355,x_val,y_val))"
   ]
  },
  {
   "cell_type": "markdown",
   "id": "df64185c-3428-4002-b121-d84e875ce2b1",
   "metadata": {},
   "source": [
    "If it's necessary, do like this?"
   ]
  },
  {
   "cell_type": "code",
   "execution_count": null,
   "id": "5e1386c9-bc84-4467-8b88-e11c139d2387",
   "metadata": {
    "scrolled": true,
    "tags": []
   },
   "outputs": [],
   "source": [
    "# from lsst.pipe.tasks.characterizeImage import CharacterizeImageTask\n",
    "\n",
    "# ci_config = CharacterizeImageTask.ConfigClass()\n",
    "# ci_config.psfIterations = 1\n",
    "# charImageTask = CharacterizeImageTask(config=ci_config)\n",
    "\n",
    "# result = charImageTask.run(my_coadd)"
   ]
  },
  {
   "cell_type": "markdown",
   "id": "7d887556-d81f-4dc0-a862-89ae381a2614",
   "metadata": {},
   "source": [
    "## 3. Configure Source Detection, Deblend, and Measurement Tasks"
   ]
  },
  {
   "cell_type": "code",
   "execution_count": null,
   "id": "4f40091f-9c79-43b5-a630-c79edf496203",
   "metadata": {},
   "outputs": [],
   "source": [
    "schema = afwTable.SourceTable.makeMinimalSchema()\n",
    "tab = afwTable.SourceTable.make(schema)"
   ]
  },
  {
   "cell_type": "code",
   "execution_count": null,
   "id": "b425340a-1996-4f07-8819-24a955425728",
   "metadata": {},
   "outputs": [],
   "source": [
    "schema"
   ]
  },
  {
   "cell_type": "code",
   "execution_count": null,
   "id": "cdbc1ead-647e-44b7-9a2c-bfde63f42bc7",
   "metadata": {},
   "outputs": [],
   "source": [
    "sd_config = SourceDetectionTask.ConfigClass()\n",
    "sd_config.thresholdValue = 5\n",
    "sd_config.thresholdType = \"stdev\"\n",
    "\n",
    "sourceDetectionTask = SourceDetectionTask(schema=schema, config=sd_config)"
   ]
  },
  {
   "cell_type": "code",
   "execution_count": null,
   "id": "84f4eb24-da60-4bda-ad34-3db9007cb06a",
   "metadata": {},
   "outputs": [],
   "source": [
    "sourceDeblendTask = SourceDeblendTask(schema=schema)"
   ]
  },
  {
   "cell_type": "code",
   "execution_count": null,
   "id": "a6a3c2ef-e49c-447b-ac47-abfaaac91f5a",
   "metadata": {},
   "outputs": [],
   "source": [
    "algMetadata = dafBase.PropertyList()\n",
    "print('algMetadata: ')\n",
    "algMetadata"
   ]
  },
  {
   "cell_type": "code",
   "execution_count": null,
   "id": "8c0fa1a9-7921-45da-87ff-36e5ca892ed3",
   "metadata": {},
   "outputs": [],
   "source": [
    "sm_config = SingleFrameMeasurementTask.ConfigClass()\n",
    "\n",
    "sourceMeasurementTask = SingleFrameMeasurementTask(schema=schema,\n",
    "                                                   config=sm_config,\n",
    "                                                   algMetadata=algMetadata)"
   ]
  },
  {
   "cell_type": "markdown",
   "id": "0cd43974-6583-4fc0-b69f-ff1f5daefe47",
   "metadata": {},
   "source": [
    "## 4. Run Source Detection Task"
   ]
  },
  {
   "cell_type": "code",
   "execution_count": null,
   "id": "fdbed973-1d56-444b-95dc-6d596e46dbde",
   "metadata": {},
   "outputs": [],
   "source": [
    "%%time\n",
    "result = sourceDetectionTask.run(tab, my_coadd)"
   ]
  },
  {
   "cell_type": "code",
   "execution_count": null,
   "id": "0f2e7e61-b001-4ebe-953a-c08d245f1219",
   "metadata": {},
   "outputs": [],
   "source": [
    "sources = result.sources"
   ]
  },
  {
   "cell_type": "code",
   "execution_count": null,
   "id": "cecb724d-c7fe-41b5-95e8-98bb69a5245e",
   "metadata": {},
   "outputs": [],
   "source": [
    "print(len(sources), result.numPosPeaks)"
   ]
  },
  {
   "cell_type": "code",
   "execution_count": null,
   "id": "a869a57b-ccbf-478e-936a-47da5af55727",
   "metadata": {},
   "outputs": [],
   "source": [
    "sources.asAstropy()"
   ]
  },
  {
   "cell_type": "code",
   "execution_count": null,
   "id": "97995a20-463f-4786-b51a-1a6c2952cca5",
   "metadata": {},
   "outputs": [],
   "source": [
    "tx = np.where( np.isfinite( sources['coord_ra'] ) )[0]\n",
    "print(len(tx))\n",
    "del tx"
   ]
  },
  {
   "cell_type": "markdown",
   "id": "d7297527-c1e2-4bc9-944e-88b14c517a72",
   "metadata": {},
   "source": [
    "## 5. Run Source Deblending\n",
    "\n",
    "https://pipelines.lsst.io/modules/lsst.meas.deblender/index.html\n",
    "\n",
    "https://pipelines.lsst.io/modules/lsst.meas.deblender/tasks/lsst.meas.deblender.SourceDeblendTask.html\n",
    "\n",
    "> **Help Question:** `sourceDeblendTask.run` exists with an assertion error about the schemas even when we make sure the input schema matches before we start. Not sure how to fix."
   ]
  },
  {
   "cell_type": "markdown",
   "id": "2dbf2bb5-beca-4061-b448-47299059de80",
   "metadata": {},
   "source": [
    "SourceDeblendTask modifies the source catalog in-place."
   ]
  },
  {
   "cell_type": "code",
   "execution_count": null,
   "id": "402d2f13-ce3b-4977-a8a3-67ec36216aaf",
   "metadata": {},
   "outputs": [],
   "source": [
    "assert sources.getSchema() == schema"
   ]
  },
  {
   "cell_type": "markdown",
   "id": "d7c20480-526b-4da4-bc63-2c47cdba47b9",
   "metadata": {},
   "source": [
    "Attempt to fix that by redefining schema and sourceDeblendTask."
   ]
  },
  {
   "cell_type": "code",
   "execution_count": null,
   "id": "17b4ee2d-9191-427b-ad65-566ba1a6ca54",
   "metadata": {},
   "outputs": [],
   "source": [
    "schema = sources.getSchema()"
   ]
  },
  {
   "cell_type": "code",
   "execution_count": null,
   "id": "e824eee7-aac3-4b3f-8db4-37bd7ff015c0",
   "metadata": {},
   "outputs": [],
   "source": [
    "assert sources.getSchema() == schema"
   ]
  },
  {
   "cell_type": "code",
   "execution_count": null,
   "id": "eb270251-f164-4860-a844-da5ff91daea3",
   "metadata": {},
   "outputs": [],
   "source": [
    "sourceDeblendTask = SourceDeblendTask(schema=schema)"
   ]
  },
  {
   "cell_type": "markdown",
   "id": "b88cc8e0-77cb-48b5-9286-9ba541643b00",
   "metadata": {},
   "source": [
    "Does not seem to help, below we still get the error:\n",
    "> `--> 275 assert sources.getSchema() == self.schema`"
   ]
  },
  {
   "cell_type": "code",
   "execution_count": null,
   "id": "36c6656f-3254-49ae-9819-2def3cdd7d9e",
   "metadata": {},
   "outputs": [],
   "source": [
    "%%time\n",
    "sourceDeblendTask.run(my_coadd, sources)"
   ]
  },
  {
   "cell_type": "code",
   "execution_count": null,
   "id": "99319b9f-9c83-4cc3-bd0f-b54fa824c5e8",
   "metadata": {},
   "outputs": [],
   "source": [
    "print(len(sources))"
   ]
  },
  {
   "cell_type": "markdown",
   "id": "cb2492d2-5474-4caa-aa71-e67fadd0476c",
   "metadata": {},
   "source": [
    "## 6. Run Source Measurement\n",
    "\n",
    "https://pipelines.lsst.io/modules/lsst.meas.base/tasks/lsst.meas.base.sfm.SingleFrameMeasurementTask.html"
   ]
  },
  {
   "cell_type": "code",
   "execution_count": null,
   "id": "1f3b6157-4e3a-47eb-a742-2dd7f3204bc6",
   "metadata": {},
   "outputs": [],
   "source": [
    "%%time\n",
    "sourceMeasurementTask.run(measCat=sources, exposure=my_coadd)"
   ]
  },
  {
   "cell_type": "code",
   "execution_count": null,
   "id": "f3d13856-8154-45c9-ba1a-95ff8ad990b6",
   "metadata": {},
   "outputs": [],
   "source": []
  },
  {
   "cell_type": "code",
   "execution_count": null,
   "id": "f12157f8-017e-4239-a651-236d5270ce3a",
   "metadata": {},
   "outputs": [],
   "source": []
  }
 ],
 "metadata": {
  "kernelspec": {
   "display_name": "LSST",
   "language": "python",
   "name": "lsst"
  },
  "language_info": {
   "codemirror_mode": {
    "name": "ipython",
    "version": 3
   },
   "file_extension": ".py",
   "mimetype": "text/x-python",
   "name": "python",
   "nbconvert_exporter": "python",
   "pygments_lexer": "ipython3",
   "version": "3.10.4"
  }
 },
 "nbformat": 4,
 "nbformat_minor": 5
}
