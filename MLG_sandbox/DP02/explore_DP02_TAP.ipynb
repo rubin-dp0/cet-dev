{
 "cells": [
  {
   "cell_type": "code",
   "execution_count": null,
   "id": "f2af2a38-cb79-4ec5-bc2b-f68a83f394b7",
   "metadata": {},
   "outputs": [],
   "source": [
    "import numpy as np\n",
    "import matplotlib\n",
    "import matplotlib.pyplot as plt\n",
    "import time\n",
    "\n",
    "import pandas\n",
    "pandas.set_option('display.max_rows', 1000)\n",
    "\n",
    "from lsst.rsp import get_tap_service, retrieve_query\n",
    "\n",
    "import lsst.daf.butler as dafButler\n",
    "\n",
    "import lsst.geom\n",
    "import lsst.afw.display as afwDisplay"
   ]
  },
  {
   "cell_type": "markdown",
   "id": "b121db84-cd95-4817-a707-0248c7dc4f77",
   "metadata": {},
   "source": [
    "# Start TAP service"
   ]
  },
  {
   "cell_type": "code",
   "execution_count": null,
   "id": "a7b25bed-9c4c-46ef-9cca-a5f3aa374a73",
   "metadata": {},
   "outputs": [],
   "source": [
    "service = get_tap_service()"
   ]
  },
  {
   "cell_type": "markdown",
   "id": "928676dd-0ba9-406f-96fe-7782a8b16803",
   "metadata": {},
   "source": [
    "## List all the tables"
   ]
  },
  {
   "cell_type": "code",
   "execution_count": null,
   "id": "3f9f7590-28f4-4d9b-b0c6-bd77815898a9",
   "metadata": {},
   "outputs": [],
   "source": [
    "# results = service.search(\"SELECT description, table_name FROM TAP_SCHEMA.tables\")\n",
    "# results_tab = results.to_table()\n",
    "# results_tab"
   ]
  },
  {
   "cell_type": "markdown",
   "id": "cf98fc0a-3cd1-4d1f-9706-c640aa6fc72c",
   "metadata": {},
   "source": [
    "## Which RA/Dec are covered by the test area? Use Object table to find out.\n",
    "\n",
    "Using our typical central-to-DC2 coordinates as a default search region doesn't work, so just grab a bunch of bright Objects and see where they are."
   ]
  },
  {
   "cell_type": "code",
   "execution_count": null,
   "id": "dbef1736-0032-42cd-9db4-a7ac6ffd65c2",
   "metadata": {},
   "outputs": [],
   "source": [
    "results = service.search(\"SELECT * from TAP_SCHEMA.columns WHERE table_name = 'dp02_test_PREOPS863_00.Object'\")\n",
    "# results = service.search(\"SELECT * from TAP_SCHEMA.columns WHERE table_name = 'dp02_dc2_catalogs.DiaObject'\")\n",
    "\n",
    "print(results.fieldnames)"
   ]
  },
  {
   "cell_type": "code",
   "execution_count": null,
   "id": "8eb53f80-f30c-4b31-a73f-980dd8cc4f0a",
   "metadata": {},
   "outputs": [],
   "source": [
    "results = service.search(\"SELECT column_name, datatype, description, unit from TAP_SCHEMA.columns \"\\\n",
    "                         \"WHERE table_name = 'dp02_test_PREOPS863_00.Object'\")\n",
    "# results = service.search(\"SELECT column_name, datatype, description, unit from TAP_SCHEMA.columns \"\\\n",
    "#                          \"WHERE table_name = 'dp02_dc2_catalogs.DiaObject'\")\n",
    "\n",
    "# results.to_table().to_pandas()"
   ]
  },
  {
   "cell_type": "code",
   "execution_count": null,
   "id": "eb8ef879-ca3a-42b5-ad56-16947265affb",
   "metadata": {},
   "outputs": [],
   "source": [
    "results = service.search(\"SELECT coord_ra, coord_dec, detect_isPrimary, r_calibFlux \"\\\n",
    "                         \"FROM dp02_test_PREOPS863_00.Object \"\\\n",
    "                         \"WHERE detect_isPrimary = 1 AND r_calibFlux > 10000 \", \\\n",
    "                         maxrec=100000)\n",
    "# results = service.search(\"SELECT ra, decl \"\\\n",
    "#                          \"FROM dp02_dc2_catalogs.DiaObject \",\\\n",
    "#                          maxrec=100000)\n",
    "\n",
    "results_tab = results.to_table()"
   ]
  },
  {
   "cell_type": "code",
   "execution_count": null,
   "id": "b40c9214-6eee-45a6-a94b-44115b3f2982",
   "metadata": {},
   "outputs": [],
   "source": [
    "print(len(results_tab))\n",
    "# results_tab"
   ]
  },
  {
   "cell_type": "code",
   "execution_count": null,
   "id": "06d8b6d7-30a3-4929-a7ef-69f7b0864534",
   "metadata": {},
   "outputs": [],
   "source": [
    "print(np.max(results_tab['coord_ra'])-np.min(results_tab['coord_ra']), \\\n",
    "      np.max(results_tab['coord_dec'])-np.min(results_tab['coord_dec']))"
   ]
  },
  {
   "cell_type": "code",
   "execution_count": null,
   "id": "ff7dc5ee-aef0-4dc8-924d-634ace63d67e",
   "metadata": {},
   "outputs": [],
   "source": [
    "plt.plot( results_tab['coord_ra'], results_tab['coord_dec'], 'o', ms=3, alpha=0.3, mew=0 )\n",
    "plt.show()"
   ]
  },
  {
   "cell_type": "markdown",
   "id": "daea182b-2073-49cd-a10c-1820dea93aec",
   "metadata": {},
   "source": [
    "So we can use 57.5, -36.5. as the approximate central coordinate for searches when needed."
   ]
  },
  {
   "cell_type": "markdown",
   "id": "b7a1d977-548f-4fb3-a215-fc422158094c",
   "metadata": {},
   "source": [
    "## DiaObject"
   ]
  },
  {
   "cell_type": "code",
   "execution_count": null,
   "id": "41d67e37-9110-4ff0-bc57-a66a5427d5b0",
   "metadata": {},
   "outputs": [],
   "source": [
    "### Get column names\n",
    "\n",
    "# results = service.search(\"SELECT column_name, datatype, description, unit from TAP_SCHEMA.columns \"\\\n",
    "#                          \"WHERE table_name = 'dp02_test_PREOPS863_00.DiaObject'\")\n",
    "# results.to_table().to_pandas()"
   ]
  },
  {
   "cell_type": "code",
   "execution_count": null,
   "id": "f05e59b8-1572-4779-9e7b-f2219dca670d",
   "metadata": {},
   "outputs": [],
   "source": [
    "### Find DiaObjects detected in g, r, and i filters, in a small central area.\n",
    "\n",
    "# results = service.search(\"SELECT ra, decl, diaObjectId, nDiaSources, rPSFluxMean, \"\n",
    "#                          \"scisql_fluxToAbMag(gPSFluxMax/1e32) AS gPSMagMin, \"\n",
    "#                          \"scisql_fluxToAbMag(rPSFluxMax/1e32) AS rPSMagMin, \"\n",
    "#                          \"scisql_fluxToAbMag(iPSFluxMax/1e32) AS iPSMagMin \"\n",
    "#                          \"FROM dp02_test_PREOPS863_00.DiaObject \"\\\n",
    "#                          \"WHERE scisql_fluxToAbMag(gPSFluxMax/1e32) > 14 \"\n",
    "#                          \"AND scisql_fluxToAbMag(gPSFluxMax/1e32) < 24 \"\n",
    "#                          \"AND scisql_fluxToAbMag(rPSFluxMax/1e32) > 14 \"\n",
    "#                          \"AND scisql_fluxToAbMag(rPSFluxMax/1e32) < 24 \"\n",
    "#                          \"AND scisql_fluxToAbMag(iPSFluxMax/1e32) > 14 \"\n",
    "#                          \"AND scisql_fluxToAbMag(iPSFluxMax/1e32) < 24 \"\n",
    "#                          \"AND CONTAINS(POINT('ICRS', ra, decl), CIRCLE('ICRS', 57.5, -36.5, 0.5)) = 1 \", maxrec=10000)\n",
    "# DiaObjs = results.to_table()\n",
    "# del results"
   ]
  },
  {
   "cell_type": "code",
   "execution_count": null,
   "id": "a44c8bbc-0541-404a-b60c-f4beca97e76d",
   "metadata": {},
   "outputs": [],
   "source": [
    "### Retrieve all DiaObjects with an r-band detection in a small central area.\n",
    "\n",
    "# results = service.search(\"SELECT ra, decl, diaObjectId, nDiaSources, \"\n",
    "#                          \"scisql_fluxToAbMag(rPSFluxMean/1e32) AS rPSMagMean, \"\n",
    "#                          \"scisql_fluxToAbMag(rPSFluxMax/1e32) AS rPSMagMin \"\n",
    "#                          \"FROM dp02_test_PREOPS863_00.DiaObject \"\\\n",
    "#                          \"WHERE scisql_fluxToAbMag(rPSFluxMax/1e32) > 16 \"\n",
    "#                          \"AND scisql_fluxToAbMag(rPSFluxMax/1e32) < 25 \"\n",
    "#                          \"AND CONTAINS(POINT('ICRS', ra, decl), CIRCLE('ICRS', 57.5, -36.5, 0.5)) = 1 \", maxrec=10000)\n",
    "# DiaObjs = results.to_table()\n",
    "# del results"
   ]
  },
  {
   "cell_type": "code",
   "execution_count": null,
   "id": "adcbc91e-fc2c-47d2-a1c2-b131c829a0ed",
   "metadata": {},
   "outputs": [],
   "source": [
    "### Retrieve all DiaObjects in a small central area.\n",
    "\n",
    "# results = service.search(\"SELECT ra, decl, diaObjectId, nDiaSources, \"\n",
    "#                          \"scisql_fluxToAbMag(rPSFluxMean/1e32) AS rPSMagMean, \"\n",
    "#                          \"scisql_fluxToAbMag(rPSFluxMax/1e32) AS rPSMagMin \"\n",
    "#                          \"FROM dp02_test_PREOPS863_00.DiaObject \"\\\n",
    "#                          \"WHERE CONTAINS(POINT('ICRS', ra, decl), CIRCLE('ICRS', 57.5, -36.5, 0.1)) = 1 \", maxrec=10000)\n",
    "# DiaObjs = results.to_table()\n",
    "# del results"
   ]
  },
  {
   "cell_type": "code",
   "execution_count": null,
   "id": "a6290b61-1aa2-48f0-ad7f-ba273877d1e2",
   "metadata": {},
   "outputs": [],
   "source": [
    "# print(len(DiaObjs))"
   ]
  },
  {
   "cell_type": "code",
   "execution_count": null,
   "id": "dd561695-8ca3-409c-9ce9-e63bdb3aa6c9",
   "metadata": {},
   "outputs": [],
   "source": [
    "# DiaObjs"
   ]
  },
  {
   "cell_type": "markdown",
   "id": "2d67440a-3db2-43ee-9987-ee6d30321937",
   "metadata": {},
   "source": [
    "## DiaSource"
   ]
  },
  {
   "cell_type": "code",
   "execution_count": null,
   "id": "0b854a34-a7aa-4e13-93aa-3a0da3e645ce",
   "metadata": {},
   "outputs": [],
   "source": [
    "# results = service.search(\"SELECT column_name, datatype, description, unit from TAP_SCHEMA.columns \"\\\n",
    "#                          \"WHERE table_name = 'dp02_test_PREOPS863_00.DiaSource'\")\n",
    "# results.to_table().to_pandas()"
   ]
  },
  {
   "cell_type": "markdown",
   "id": "30007318-a350-4697-be25-bb17183a8420",
   "metadata": {},
   "source": [
    "## Truth"
   ]
  },
  {
   "cell_type": "code",
   "execution_count": null,
   "id": "776e0028-be45-4dd8-ac5f-2b32fcce67d5",
   "metadata": {},
   "outputs": [],
   "source": [
    "### Get truth catalog column names\n",
    "\n",
    "# results = service.search(\"SELECT column_name, datatype, description, unit from TAP_SCHEMA.columns \"\\\n",
    "#                          \"WHERE table_name = 'dp01_dc2_catalogs.truth_match'\")\n",
    "# results.to_table().to_pandas()"
   ]
  },
  {
   "cell_type": "code",
   "execution_count": null,
   "id": "5bc364f0-fb0d-4ba2-b862-ae2bb2b6b191",
   "metadata": {},
   "outputs": [],
   "source": [
    "### Get all the SNe (truth_type=3) with redshift < 0.4 in a small central area\n",
    "\n",
    "# query = \"SELECT id, ra, dec, match_objectId, truth_type, redshift, mag_r \"\\\n",
    "#         \"FROM dp01_dc2_catalogs.truth_match \"\\\n",
    "#         \"WHERE CONTAINS(POINT('ICRS', ra, dec), CIRCLE('ICRS', 57.5, -36.5, 0.5)) = 1 \"\\\n",
    "#         \"AND redshift < 0.4 AND truth_type = 3\"\n",
    "# results = service.search(query, maxrec=10000)\n",
    "# Truth = results.to_table()\n",
    "# del results"
   ]
  },
  {
   "cell_type": "code",
   "execution_count": null,
   "id": "929ed7c7-cacf-49c6-b744-aab96b8cef30",
   "metadata": {},
   "outputs": [],
   "source": [
    "### Get all the SNe (truth_type=3) in a small central area\n",
    "\n",
    "query = \"SELECT id, ra, dec, match_objectId, truth_type, redshift, mag_r \"\\\n",
    "        \"FROM dp01_dc2_catalogs.truth_match \"\\\n",
    "        \"WHERE CONTAINS(POINT('ICRS', ra, dec), CIRCLE('ICRS', 57.5, -36.5, 0.1)) = 1 \"\\\n",
    "        \"AND truth_type = 3\"\n",
    "results = service.search(query, maxrec=10000)\n",
    "Truth = results.to_table()\n",
    "del results"
   ]
  },
  {
   "cell_type": "code",
   "execution_count": null,
   "id": "99a1ae76-1f69-4421-8768-efe945daccc6",
   "metadata": {},
   "outputs": [],
   "source": [
    "print(len(Truth))"
   ]
  },
  {
   "cell_type": "code",
   "execution_count": null,
   "id": "3d6fc98e-7dce-4589-9f29-ceb91956a5d0",
   "metadata": {},
   "outputs": [],
   "source": [
    "# Truth"
   ]
  },
  {
   "cell_type": "code",
   "execution_count": null,
   "id": "41bcf9a3-ea3f-49cb-8b8d-6a4ce0a636bb",
   "metadata": {},
   "outputs": [],
   "source": [
    "plt.hist(Truth['redshift'], bins=20)\n",
    "plt.axvline(0.6, color='magenta', label='peak r~24.5 mag')\n",
    "plt.legend(loc='upper left')\n",
    "plt.show()"
   ]
  },
  {
   "cell_type": "markdown",
   "id": "8c2791a2-3089-4564-93b2-9144e400401c",
   "metadata": {},
   "source": [
    "## Crude match of truth SNeIa to DiaObjects"
   ]
  },
  {
   "cell_type": "code",
   "execution_count": null,
   "id": "22dafec7-4864-415c-9501-4f6418004c3d",
   "metadata": {},
   "outputs": [],
   "source": [
    "tx = np.where(Truth['redshift'] < 0.6)[0]\n",
    "\n",
    "fig = plt.figure(figsize=(10,10))\n",
    "plt.plot(DiaObjs['ra'], DiaObjs['decl'], 'o', ms=10, alpha=0.5, mew=1, color='None', markeredgecolor='dodgerblue', label='DiaObject')\n",
    "plt.plot(Truth['ra'][tx], Truth['dec'][tx], '*', ms=7, alpha=1, color='black', label='Truth SNIa, z<0.6')\n",
    "plt.legend(loc='lower left', fontsize=16)\n",
    "plt.title('Why do so many SNIa not become DiaObjects?', fontsize=18)\n",
    "plt.show()"
   ]
  },
  {
   "cell_type": "code",
   "execution_count": null,
   "id": "eb14821b-dd54-497c-8617-abf145b2c168",
   "metadata": {},
   "outputs": [],
   "source": [
    "index_truth = []\n",
    "index_diaobj = []\n",
    "\n",
    "cosdec = np.cos(np.radians(36.6))\n",
    "for i in range(len(Truth)):\n",
    "    tx = np.where( (np.absolute(Truth['ra'][i] - DiaObjs['ra']) < 3.0/3600.0) & \\\n",
    "                   (np.absolute(Truth['dec'][i] - DiaObjs['decl'])*cosdec < 3.0/3600.0)  )[0]\n",
    "    if len(tx) == 1:\n",
    "        index_truth.append(i)\n",
    "        index_diaobj.append(tx[0])\n",
    "        offset = 3600.0 * np.sqrt( (Truth['ra'][i] - DiaObjs['ra'][tx[0]])**2 + \n",
    "                                   ((Truth['dec'][i] - DiaObjs['decl'][tx[0]])*cosdec)**2 )\n",
    "        print(i, len(tx), ' match: ', Truth['id'][i], np.round(Truth['redshift'][i],3), np.round(offset,2), DiaObjs['nDiaSources'][tx[0]])\n",
    "    del tx"
   ]
  },
  {
   "cell_type": "code",
   "execution_count": null,
   "id": "a2671960-675c-4362-8881-0f0aee1c476d",
   "metadata": {},
   "outputs": [],
   "source": [
    "filter_names = ['u', 'g', 'r', 'i', 'z', 'y']\n",
    "filter_color = ['darkviolet', 'darkgreen', 'red', 'darkorange', 'brown', 'black']\n",
    "filter_symbol = ['o', '^', 'v', 's', '*', 'p']\n",
    "\n",
    "fig, ax = plt.subplots(len(index_truth), figsize=(14,14), sharey=False, sharex=False)\n",
    "\n",
    "for a, (i, j) in enumerate(zip(index_truth,index_diaobj)):\n",
    "    results = service.search(\"SELECT ra, decl, diaObjectId, diaSourceId, \"\n",
    "                             \"filterName, midPointTai, \"\n",
    "                             \"scisql_fluxToAbMag(psFlux/1e32) AS psAbMag \"\n",
    "                             \"FROM dp02_test_PREOPS863_00.DiaSource \"\n",
    "                             \"WHERE diaObjectId = \"+str(DiaObjs['diaObjectId'][j]))\n",
    "    results = results.to_table()\n",
    "    print(len(results))\n",
    "    print(results)\n",
    "\n",
    "    for f, filt in enumerate(filter_names):\n",
    "        fx = np.where(results['filterName'] == filt)[0]\n",
    "        ax[a].plot(results['midPointTai'][fx], results['psAbMag'][fx], \n",
    "                   filter_symbol[f], ms=15, mew=0, alpha=0.5, color=filter_color[f])\n",
    "        del fx\n",
    "    \n",
    "    # ax[a].set_ylim([np.max(results['psAbMag'])+0.3, np.min(results['psAbMag'])-0.3])\n",
    "    \n",
    "    del results"
   ]
  },
  {
   "cell_type": "markdown",
   "id": "679fcf4c-931e-4905-a272-e25e29a16e30",
   "metadata": {},
   "source": [
    "### How many low-z SNeIa are there, in total?\n"
   ]
  },
  {
   "cell_type": "code",
   "execution_count": null,
   "id": "e34e19ef-28fc-49c5-89a7-bb115e7243b0",
   "metadata": {},
   "outputs": [],
   "source": [
    "t1 = time.time()\n",
    "\n",
    "query = \"SELECT id, ra, dec, match_objectId, match_sep, truth_type, redshift, mag_r \"\\\n",
    "        \"FROM dp01_dc2_catalogs.truth_match \"\\\n",
    "        \"WHERE redshift < 0.2 AND redshift > 0.01 AND truth_type = 3\"\n",
    "results = service.search(query, maxrec=10000)\n",
    "\n",
    "t2 = time.time()\n",
    "print('Time elapsed: ',t2-t1,' seconds')\n",
    "print(len(results))\n",
    "\n",
    "TrueSNIa = results.to_table()\n",
    "del results"
   ]
  },
  {
   "cell_type": "code",
   "execution_count": null,
   "id": "9a29637e-c626-495a-883c-82a066630f13",
   "metadata": {},
   "outputs": [],
   "source": [
    "plt.hist( TrueSNIa['redshift'] )\n",
    "plt.show()\n",
    "\n",
    "tx = np.where( TrueSNIa['redshift'] < 0.1 )[0]\n",
    "print('Number with redshift < 0.1 ', len(tx))"
   ]
  }
 ],
 "metadata": {
  "kernelspec": {
   "display_name": "LSST",
   "language": "python",
   "name": "lsst"
  },
  "language_info": {
   "codemirror_mode": {
    "name": "ipython",
    "version": 3
   },
   "file_extension": ".py",
   "mimetype": "text/x-python",
   "name": "python",
   "nbconvert_exporter": "python",
   "pygments_lexer": "ipython3",
   "version": "3.10.4"
  }
 },
 "nbformat": 4,
 "nbformat_minor": 5
}
