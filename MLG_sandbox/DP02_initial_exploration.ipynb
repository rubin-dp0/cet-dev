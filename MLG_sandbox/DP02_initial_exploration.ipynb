{
 "cells": [
  {
   "cell_type": "code",
   "execution_count": null,
   "id": "be6e8779-3480-4b86-a9f0-3554e251db06",
   "metadata": {},
   "outputs": [],
   "source": [
    "import numpy\n",
    "import matplotlib\n",
    "import matplotlib.pyplot as plt\n",
    "\n",
    "import pandas\n",
    "pandas.set_option('display.max_rows', 1000)\n",
    "\n",
    "from lsst.rsp import get_tap_service, retrieve_query\n",
    "\n",
    "# import lsst.daf.butler as dafButler\n",
    "# import lsst.geom\n",
    "# import lsst.afw.display as afwDisplay"
   ]
  },
  {
   "cell_type": "code",
   "execution_count": null,
   "id": "36ab9362-4421-401d-82c8-2847d1be353e",
   "metadata": {},
   "outputs": [],
   "source": [
    "service = get_tap_service()"
   ]
  },
  {
   "cell_type": "markdown",
   "id": "af13bbe2-fba5-41f5-98e8-a5b782ac6db0",
   "metadata": {},
   "source": [
    "# List all the tables available"
   ]
  },
  {
   "cell_type": "code",
   "execution_count": null,
   "id": "570e920d-3b55-4db2-8a03-6084c53a2633",
   "metadata": {},
   "outputs": [],
   "source": [
    "results = service.search(\"SELECT description, table_name FROM TAP_SCHEMA.tables\")\n",
    "results_tab = results.to_table()\n",
    "results_tab"
   ]
  },
  {
   "cell_type": "markdown",
   "id": "d49980bd-45bd-43ee-9b2b-9c81871f781b",
   "metadata": {},
   "source": [
    "# object"
   ]
  },
  {
   "cell_type": "code",
   "execution_count": null,
   "id": "9a15525e-4f5d-4707-be7c-48561c39d48a",
   "metadata": {},
   "outputs": [],
   "source": [
    "results = service.search(\"SELECT * from TAP_SCHEMA.columns WHERE table_name = 'dp02_test_PREOPS863_00.object'\")\n",
    "print(results.fieldnames)"
   ]
  },
  {
   "cell_type": "code",
   "execution_count": null,
   "id": "8e739a86-95fd-433f-8a16-9fa50620ec18",
   "metadata": {},
   "outputs": [],
   "source": [
    "results = service.search(\"SELECT column_name, datatype, description, unit from TAP_SCHEMA.columns \"\\\n",
    "                         \"WHERE table_name = 'dp02_test_PREOPS863_00.object'\")\n",
    "results.to_table().to_pandas()"
   ]
  },
  {
   "cell_type": "code",
   "execution_count": null,
   "id": "fcc4933d-3aff-48d9-9407-eecadcaf9ea7",
   "metadata": {},
   "outputs": [],
   "source": [
    "results = service.search(\"SELECT coord_ra, coord_dec, detect_isPrimary \"\\\n",
    "                         \"FROM dp02_test_PREOPS863_00.object \"\\\n",
    "                         \"WHERE CONTAINS(POINT('ICRS', coord_ra, coord_dec), CIRCLE('ICRS', 62.0, -37.0, 0.5)) = 1 \", maxrec=10)\n",
    "results_tab = results.to_table()\n",
    "results_tab"
   ]
  },
  {
   "cell_type": "markdown",
   "id": "fa6e9f56-5546-4383-bd0c-372f4f1b4a16",
   "metadata": {},
   "source": [
    "# diaObject"
   ]
  },
  {
   "cell_type": "code",
   "execution_count": null,
   "id": "09f60305-c9b2-4a18-b455-82750d48cbf5",
   "metadata": {},
   "outputs": [],
   "source": [
    "# results = service.search(\"SELECT * from TAP_SCHEMA.columns WHERE table_name = 'dp02_test_PREOPS863_00.diaObject'\")\n",
    "# print(results.fieldnames)"
   ]
  },
  {
   "cell_type": "code",
   "execution_count": null,
   "id": "3ea2e985-6a2e-4d22-9d8b-388aa9e7ee57",
   "metadata": {},
   "outputs": [],
   "source": [
    "# results = service.search(\"SELECT column_name, datatype, description, unit from TAP_SCHEMA.columns \"\\\n",
    "#                          \"WHERE table_name = 'dp02_test_PREOPS863_00.diaObject'\")\n",
    "# results.to_table().to_pandas()"
   ]
  },
  {
   "cell_type": "code",
   "execution_count": null,
   "id": "79259c07-5f2b-4945-9fdf-9c953f0707b0",
   "metadata": {},
   "outputs": [],
   "source": [
    "# results = service.search(\"SELECT ra, decl, diaObjectId, nDiaSources \"\\\n",
    "#                          \"FROM dp02_test_PREOPS863_00.diaObject \"\\\n",
    "#                          \"WHERE CONTAINS(POINT('ICRS', ra, decl), CIRCLE('ICRS', 62.0, -37.0, 0.5)) = 1 \", maxrec=10)\n",
    "# results_tab = results.to_table()\n",
    "# results_tab"
   ]
  },
  {
   "cell_type": "markdown",
   "id": "7fe833ea-388a-4d66-8577-0690d9351907",
   "metadata": {},
   "source": [
    "# diaSource"
   ]
  },
  {
   "cell_type": "code",
   "execution_count": null,
   "id": "99dacf0b-0e0e-4faf-8c94-c9abad942267",
   "metadata": {},
   "outputs": [],
   "source": [
    "# results = service.search(\"SELECT column_name, datatype, description, unit from TAP_SCHEMA.columns \"\\\n",
    "#                          \"WHERE table_name = 'dp02_test_PREOPS863_00.diaSource'\")\n",
    "# results.to_table().to_pandas()"
   ]
  }
 ],
 "metadata": {
  "kernelspec": {
   "display_name": "LSST",
   "language": "python",
   "name": "lsst"
  },
  "language_info": {
   "codemirror_mode": {
    "name": "ipython",
    "version": 3
   },
   "file_extension": ".py",
   "mimetype": "text/x-python",
   "name": "python",
   "nbconvert_exporter": "python",
   "pygments_lexer": "ipython3",
   "version": "3.8.8"
  }
 },
 "nbformat": 4,
 "nbformat_minor": 5
}
