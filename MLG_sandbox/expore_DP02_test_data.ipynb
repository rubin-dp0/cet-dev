{
 "cells": [
  {
   "cell_type": "code",
   "execution_count": null,
   "id": "f2af2a38-cb79-4ec5-bc2b-f68a83f394b7",
   "metadata": {},
   "outputs": [],
   "source": [
    "import numpy as np\n",
    "import matplotlib\n",
    "import matplotlib.pyplot as plt\n",
    "\n",
    "import pandas\n",
    "pandas.set_option('display.max_rows', 1000)\n",
    "\n",
    "from lsst.rsp import get_tap_service, retrieve_query\n",
    "\n",
    "import lsst.daf.butler as dafButler\n",
    "\n",
    "import lsst.geom\n",
    "import lsst.afw.display as afwDisplay"
   ]
  },
  {
   "cell_type": "markdown",
   "id": "b121db84-cd95-4817-a707-0248c7dc4f77",
   "metadata": {},
   "source": [
    "# TAP\n",
    "\n",
    "## List all the tables"
   ]
  },
  {
   "cell_type": "code",
   "execution_count": null,
   "id": "183a6bb6-0c31-4fbe-a229-090fe3b66051",
   "metadata": {},
   "outputs": [],
   "source": [
    "service = get_tap_service()"
   ]
  },
  {
   "cell_type": "code",
   "execution_count": null,
   "id": "3f9f7590-28f4-4d9b-b0c6-bd77815898a9",
   "metadata": {},
   "outputs": [],
   "source": [
    "# results = service.search(\"SELECT description, table_name FROM TAP_SCHEMA.tables\")\n",
    "# results_tab = results.to_table()\n",
    "# results_tab"
   ]
  },
  {
   "cell_type": "markdown",
   "id": "cf98fc0a-3cd1-4d1f-9706-c640aa6fc72c",
   "metadata": {},
   "source": [
    "## Which RA/Dec are covered by this test area? Use Object table to find out.\n",
    "\n",
    "Using our typical central-to-DC2 coordinates as a default search region doesn't work, so just grab a bunch of bright Objects and see where they are."
   ]
  },
  {
   "cell_type": "code",
   "execution_count": null,
   "id": "dbef1736-0032-42cd-9db4-a7ac6ffd65c2",
   "metadata": {},
   "outputs": [],
   "source": [
    "# results = service.search(\"SELECT * from TAP_SCHEMA.columns WHERE table_name = 'dp02_test_PREOPS863_00.Object'\")\n",
    "# print(results.fieldnames)"
   ]
  },
  {
   "cell_type": "code",
   "execution_count": null,
   "id": "8eb53f80-f30c-4b31-a73f-980dd8cc4f0a",
   "metadata": {},
   "outputs": [],
   "source": [
    "# results = service.search(\"SELECT column_name, datatype, description, unit from TAP_SCHEMA.columns \"\\\n",
    "#                          \"WHERE table_name = 'dp02_test_PREOPS863_00.Object'\")\n",
    "# results.to_table().to_pandas()"
   ]
  },
  {
   "cell_type": "code",
   "execution_count": null,
   "id": "eb8ef879-ca3a-42b5-ad56-16947265affb",
   "metadata": {},
   "outputs": [],
   "source": [
    "results = service.search(\"SELECT coord_ra, coord_dec, detect_isPrimary, r_calibFlux \"\\\n",
    "                         \"FROM dp02_test_PREOPS863_00.Object \"\\\n",
    "                         \"WHERE detect_isPrimary = 1 AND r_calibFlux > 1000000 \", \\\n",
    "                         maxrec=1000)\n",
    "results_tab = results.to_table()"
   ]
  },
  {
   "cell_type": "code",
   "execution_count": null,
   "id": "b40c9214-6eee-45a6-a94b-44115b3f2982",
   "metadata": {},
   "outputs": [],
   "source": [
    "# print(len(results_tab))\n",
    "# results_tab"
   ]
  },
  {
   "cell_type": "code",
   "execution_count": null,
   "id": "ff7dc5ee-aef0-4dc8-924d-634ace63d67e",
   "metadata": {},
   "outputs": [],
   "source": [
    "plt.plot( results_tab['coord_ra'], results_tab['coord_dec'], 'o', ms=3, alpha=0.3, mew=0 )"
   ]
  },
  {
   "cell_type": "markdown",
   "id": "daea182b-2073-49cd-a10c-1820dea93aec",
   "metadata": {},
   "source": [
    "So we can use 57.5, -36.5. as the approximate central coordinate for searches when needed."
   ]
  },
  {
   "cell_type": "markdown",
   "id": "b7a1d977-548f-4fb3-a215-fc422158094c",
   "metadata": {},
   "source": [
    "## DiaObject"
   ]
  },
  {
   "cell_type": "code",
   "execution_count": null,
   "id": "41d67e37-9110-4ff0-bc57-a66a5427d5b0",
   "metadata": {},
   "outputs": [],
   "source": [
    "# results = service.search(\"SELECT column_name, datatype, description, unit from TAP_SCHEMA.columns \"\\\n",
    "#                          \"WHERE table_name = 'dp02_test_PREOPS863_00.DiaObject'\")\n",
    "# results.to_table().to_pandas()"
   ]
  },
  {
   "cell_type": "markdown",
   "id": "2d67440a-3db2-43ee-9987-ee6d30321937",
   "metadata": {},
   "source": [
    "## DiaSource"
   ]
  },
  {
   "cell_type": "code",
   "execution_count": null,
   "id": "0b854a34-a7aa-4e13-93aa-3a0da3e645ce",
   "metadata": {},
   "outputs": [],
   "source": [
    "# results = service.search(\"SELECT column_name, datatype, description, unit from TAP_SCHEMA.columns \"\\\n",
    "#                          \"WHERE table_name = 'dp02_test_PREOPS863_00.DiaSource'\")\n",
    "# results.to_table().to_pandas()"
   ]
  },
  {
   "cell_type": "markdown",
   "id": "49d4a88f-b596-45d5-a606-f3444f3c97ba",
   "metadata": {},
   "source": [
    "<br><br>\n",
    "\n",
    "# Butler"
   ]
  },
  {
   "cell_type": "code",
   "execution_count": null,
   "id": "f4f5d225-a011-4ac3-80dc-69bf06e6649a",
   "metadata": {},
   "outputs": [],
   "source": [
    "# repo = 's3://butler-us-central1-dp01'\n",
    "repo = 's3://butler-us-central1-panda-dev/dc2/butler-external.yaml'\n",
    "butler = dafButler.Butler(repo)"
   ]
  },
  {
   "cell_type": "code",
   "execution_count": null,
   "id": "62bf6314-1f30-44ed-8ca9-66eee357c617",
   "metadata": {},
   "outputs": [],
   "source": [
    "registry = butler.registry"
   ]
  },
  {
   "cell_type": "code",
   "execution_count": null,
   "id": "d4ce774f-32d5-45c3-8f03-4e1aa3fcac15",
   "metadata": {},
   "outputs": [],
   "source": [
    "for c in sorted(registry.queryCollections()):\n",
    "    print(c)"
   ]
  },
  {
   "cell_type": "code",
   "execution_count": null,
   "id": "9cbed70f-9c79-4c68-9e4e-6bbed38ac76f",
   "metadata": {},
   "outputs": [],
   "source": []
  }
 ],
 "metadata": {
  "kernelspec": {
   "display_name": "LSST",
   "language": "python",
   "name": "lsst"
  },
  "language_info": {
   "codemirror_mode": {
    "name": "ipython",
    "version": 3
   },
   "file_extension": ".py",
   "mimetype": "text/x-python",
   "name": "python",
   "nbconvert_exporter": "python",
   "pygments_lexer": "ipython3",
   "version": "3.8.8"
  }
 },
 "nbformat": 4,
 "nbformat_minor": 5
}
