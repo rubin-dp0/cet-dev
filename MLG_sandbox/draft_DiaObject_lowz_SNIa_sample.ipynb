{
 "cells": [
  {
   "cell_type": "markdown",
   "id": "749b0ddf",
   "metadata": {},
   "source": [
    "<img align=\"left\" src = https://project.lsst.org/sites/default/files/Rubin-O-Logo_0.png width=250 style=\"padding: 10px\"> \n",
    "<b>DiaObject Low-z SNIa Sample Identification</b> <br>\n",
    "Contact author: Melissa Graham <br>\n",
    "Last verified to run: <i>yyyy-mm-dd</i> <br>\n",
    "LSST Science Piplines version: Weekly <i>yyyy_xx</i> <br>\n",
    "Container Size: medium <br>\n",
    "Targeted learning level: intermediate <br>"
   ]
  },
  {
   "cell_type": "raw",
   "id": "1aaf1e41-a215-4ed4-b7b6-596ef98c44b5",
   "metadata": {},
   "source": [
    "known issues to fix:\n",
    " - still contains lots of template.ipynb prompts in italics (to delete or replace)\n",
    " - uses scisql_fluxToAbMag(flux/1e32)\n",
    " - is not doing a good job of finding SN-like DiaObjs"
   ]
  },
  {
   "cell_type": "code",
   "execution_count": null,
   "id": "7acc79a4-8530-42d9-96e5-b7acb4397864",
   "metadata": {},
   "outputs": [],
   "source": [
    "%load_ext pycodestyle_magic\n",
    "%flake8_on\n",
    "import logging\n",
    "logging.getLogger(\"flake8\").setLevel(logging.FATAL)"
   ]
  },
  {
   "cell_type": "markdown",
   "id": "9da1a210-d858-42fe-8591-570965b8be1a",
   "metadata": {},
   "source": [
    "**Description:** To use the `DiaObject` catalog parameters to identify potential Type Ia supernovae at low redshifts, $0.1<z<0.4$."
   ]
  },
  {
   "cell_type": "markdown",
   "id": "80a0baf5-51ad-40ec-8991-060a7b27c289",
   "metadata": {},
   "source": [
    "**Skills:** TAP service. `DiaObject` use."
   ]
  },
  {
   "cell_type": "markdown",
   "id": "393da88f-7978-4920-aa4a-a9830df6eed9",
   "metadata": {},
   "source": [
    "**LSST Data Products:** _List the all of the LSST catalogs and images used._"
   ]
  },
  {
   "cell_type": "markdown",
   "id": "5c67fab9-136a-4adc-bb42-142b91ab69dd",
   "metadata": {},
   "source": [
    "**Packages:** _List the python packages used._ (_List the packages being taught first, e.g., afwDisplay for a notebook about displaying images. Then supporting packages, e.g., lsst.daf.butler for a notebook about displaying images. It is OK to leave out basic support packages like os or glob.)_"
   ]
  },
  {
   "cell_type": "markdown",
   "id": "8f72b27f",
   "metadata": {},
   "source": [
    "**Credit:** Originally developed by Melissa Graham and the Rubin Community Engagement Team for Data Preview 0. Please consider acknowledging them if this notebook is used for the preparation of journal articles, software releases, or other notebooks."
   ]
  },
  {
   "cell_type": "markdown",
   "id": "28e91cbf-ab7f-4e26-9276-b00299d6065e",
   "metadata": {},
   "source": [
    "**Get Support:**\n",
    "Find DP0-related documentation and resources at <a href=\"https://dp0-1.lsst.io\">dp0-1.lsst.io</a>. Questions are welcome as new topics in the <a href=\"https://community.lsst.org/c/support/dp0\">Support - Data Preview 0 Category</a> of the Rubin Community Forum. Rubin staff will respond to all questions posted there."
   ]
  },
  {
   "cell_type": "markdown",
   "id": "cfc73be0",
   "metadata": {},
   "source": [
    "## 1. Introduction\n",
    "\n",
    "_Provide a light narrative about this notebook, e.g., \"This notebook will teach the user...\"._\n",
    "\n",
    "_Cite or link to any external information or documentation, and cross-reference to other notebooks._"
   ]
  },
  {
   "cell_type": "markdown",
   "id": "dc36f107",
   "metadata": {},
   "source": [
    "### 1.1 Package Imports\n",
    "\n",
    "_All package imports should be done in the first code cell._\n",
    "\n",
    "_Provide explanation or external links to package documentation, where appropriate._\n",
    "\n",
    "_E.g., Numpy is a fundamental package for scientific computing with arrays in Python (<a href=\"https://numpy.org\">numpy.org</a>)._\n",
    "\n",
    "_Use code cell comments to describe the packages being imported._\n",
    "\n",
    "\n",
    " * numpy\n",
    " * matplotlib\n",
    " * astropy.cosmology -- https://docs.astropy.org/en/stable/cosmology/index.html\n",
    " * lsst -- pipelines.lsst.io"
   ]
  },
  {
   "cell_type": "code",
   "execution_count": null,
   "id": "cddc1458",
   "metadata": {},
   "outputs": [],
   "source": [
    "# general python packages\n",
    "import numpy\n",
    "import matplotlib.pyplot as plt\n",
    "plt.style.use('tableau-colorblind10')\n",
    "\n",
    "# LSST package for TAP queries\n",
    "from lsst.rsp import get_tap_service, retrieve_query\n",
    "\n",
    "# LSST package for Butler queries\n",
    "# import lsst.daf.butler as dafButler\n",
    "\n",
    "# LSST package for image display\n",
    "# import lsst.afw.display as afwDisplay\n",
    "\n",
    "# astropy package for cosmology\n",
    "from astropy.cosmology import FlatLambdaCDM\n",
    "cosmo = FlatLambdaCDM(H0=70, Om0=0.3)"
   ]
  },
  {
   "cell_type": "markdown",
   "id": "c217adff-25ed-4fce-95e7-8aa04630f6cc",
   "metadata": {},
   "source": [
    "### 1.2 Define Functions and Parameters\n",
    "\n",
    "_If your notebook defines functions or parameters to use later or throughout, do it here in sub-section 1.2._\n",
    "\n",
    "_It is OK to rename the subsection to be more specific to the notebook, and/or to use sub-sub-sections like \"1.2.1 Define global cosmological parameter values\" or \"1.2.2 Define a function to make an image cutout\"._\n",
    "\n",
    "_It is OK to remove this sub-section if it is not being used._"
   ]
  },
  {
   "cell_type": "code",
   "execution_count": null,
   "id": "6e32778c-067e-41c3-a777-dcc4128d7de4",
   "metadata": {},
   "outputs": [],
   "source": [
    "service = get_tap_service()"
   ]
  },
  {
   "cell_type": "code",
   "execution_count": null,
   "id": "1a94347d-6d05-4154-9837-ad152a55ff7d",
   "metadata": {},
   "outputs": [],
   "source": [
    "redshift_min = 0.1\n",
    "redshift_max = 0.4\n",
    "\n",
    "lumdist_min = cosmo.luminosity_distance(redshift_min).value\n",
    "lumdist_max = cosmo.luminosity_distance(redshift_max).value\n",
    "\n",
    "distmod_min = 5.0 * numpy.log10(lumdist_min) + 25.0\n",
    "distmod_max = 5.0 * numpy.log10(lumdist_max) + 25.0\n",
    "\n",
    "print('min: ', redshift_min, lumdist_min, distmod_min)\n",
    "print('max: ', redshift_max, lumdist_max, distmod_max)"
   ]
  },
  {
   "cell_type": "code",
   "execution_count": null,
   "id": "47e00f95-1209-477b-a815-3c89fc2a9e59",
   "metadata": {},
   "outputs": [],
   "source": [
    "snia_peak_Mg = -19.0\n",
    "snia_peak_Mr = -19.0\n",
    "snia_peak_Mi = -19.0\n",
    "snia_peak_deltamag = 0.5"
   ]
  },
  {
   "cell_type": "code",
   "execution_count": null,
   "id": "7093ec1d-7fd8-4fc1-ac62-5f536190497e",
   "metadata": {},
   "outputs": [],
   "source": [
    "snia_peak_mg_min = distmod_min + snia_peak_Mg - snia_peak_deltamag\n",
    "snia_peak_mg_max = distmod_max + snia_peak_Mg + snia_peak_deltamag\n",
    "snia_peak_mr_min = distmod_min + snia_peak_Mr - snia_peak_deltamag\n",
    "snia_peak_mr_max = distmod_max + snia_peak_Mr + snia_peak_deltamag\n",
    "snia_peak_mi_min = distmod_min + snia_peak_Mi - snia_peak_deltamag\n",
    "snia_peak_mi_max = distmod_max + snia_peak_Mi + snia_peak_deltamag\n",
    "\n",
    "print('snia_peak_mg_min = ', snia_peak_mg_min)\n",
    "print('snia_peak_mg_max = ', snia_peak_mg_max)\n",
    "print('snia_peak_mr_min = ', snia_peak_mr_min)\n",
    "print('snia_peak_mr_max = ', snia_peak_mr_max)\n",
    "print('snia_peak_mi_min = ', snia_peak_mi_min)\n",
    "print('snia_peak_mi_max = ', snia_peak_mi_max)"
   ]
  },
  {
   "cell_type": "markdown",
   "id": "ec51ac0b",
   "metadata": {
    "tags": []
   },
   "source": [
    "## 2. Section Heading\n",
    "\n",
    "_Use numbers for sections, sub-sections, and sub-sub-sections to enable referencing, e.g., \"I'm having trouble with the second code cell in Section 2.3.\"_\n",
    "\n",
    "_Use section titles that actively describe what is being done, e.g., \"Create a color-magnitude diagram\" instead of \"Plot\", so that the auto-generated table of contents is easy to navigate._\n",
    "\n",
    "### 2.1 Section Sub-heading\n",
    "\n",
    "#### 2.1.1 Section Sub-sub-heading"
   ]
  },
  {
   "cell_type": "markdown",
   "id": "6c4e083f-4e24-4efe-aaf6-c94658d7f5c2",
   "metadata": {},
   "source": [
    "Find DiaObjects that have peak magnitudes consistent with a Type Ia supernova."
   ]
  },
  {
   "cell_type": "code",
   "execution_count": null,
   "id": "81b8cd59-1ba3-4eaa-846f-6478ed0c3cf5",
   "metadata": {},
   "outputs": [],
   "source": [
    "results = service.search(\"SELECT ra, decl, diaObjectId, nDiaSources, \"\n",
    "                         \"scisql_fluxToAbMag(gPSFluxMax/1e32) AS gMagMin, \"\n",
    "                         \"scisql_fluxToAbMag(gPSFluxMin/1e32) AS gMagMax, \"\n",
    "                         \"scisql_fluxToAbMag(rPSFluxMax/1e32) AS rMagMin, \"\n",
    "                         \"scisql_fluxToAbMag(rPSFluxMin/1e32) AS rMagMax, \"\n",
    "                         \"scisql_fluxToAbMag(iPSFluxMax/1e32) AS iMagMin, \"\n",
    "                         \"scisql_fluxToAbMag(iPSFluxMin/1e32) AS iMagMax  \"\n",
    "                         \"FROM dp02_test_PREOPS863_00.DiaObject \"\n",
    "                         \"WHERE scisql_fluxToAbMag(gPSFluxMax/1e32) > \"+str(snia_peak_mg_min)+\" \"\n",
    "                         \"AND scisql_fluxToAbMag(gPSFluxMax/1e32) < \"+str(snia_peak_mg_max)+\" \"\n",
    "                         \"AND scisql_fluxToAbMag(rPSFluxMax/1e32) > \"+str(snia_peak_mr_min)+\" \"\n",
    "                         \"AND scisql_fluxToAbMag(rPSFluxMax/1e32) < \"+str(snia_peak_mr_max)+\" \"\n",
    "                         \"AND scisql_fluxToAbMag(iPSFluxMax/1e32) > \"+str(snia_peak_mi_min)+\" \"\n",
    "                         \"AND scisql_fluxToAbMag(iPSFluxMax/1e32) < \"+str(snia_peak_mi_max)+\" \"\n",
    "                         \"AND scisql_fluxToAbMag(gPSFluxMin/1e32) - scisql_fluxToAbMag(gPSFluxMax/1e32) > 0.5 \"\n",
    "                         \"AND scisql_fluxToAbMag(rPSFluxMin/1e32) - scisql_fluxToAbMag(rPSFluxMax/1e32) > 0.5 \"\n",
    "                         \"AND scisql_fluxToAbMag(iPSFluxMin/1e32) - scisql_fluxToAbMag(iPSFluxMax/1e32) > 0.5 \"\n",
    "                         \"AND CONTAINS(POINT('ICRS', ra, decl), CIRCLE('ICRS', 57.5, -36.5, 10.0)) = 1 \",\n",
    "                         maxrec=1000)\n",
    "DiaObjs = results.to_table()\n",
    "del results"
   ]
  },
  {
   "cell_type": "code",
   "execution_count": null,
   "id": "21d9ec99-f77d-4ba9-bb56-9dff6e11839e",
   "metadata": {},
   "outputs": [],
   "source": [
    "len(DiaObjs)"
   ]
  },
  {
   "cell_type": "code",
   "execution_count": null,
   "id": "4ed1285b-c939-45c6-a6ff-e7c36a58d4bf",
   "metadata": {},
   "outputs": [],
   "source": [
    "DiaObjs"
   ]
  },
  {
   "cell_type": "markdown",
   "id": "21936ef7-1bf1-4ebb-a5bc-27310ec497fc",
   "metadata": {},
   "source": [
    "Get their lightcurves from DiaSource catalog. Are they SNIa-like?"
   ]
  },
  {
   "cell_type": "code",
   "execution_count": null,
   "id": "41bb4666-7c90-4f35-b9e8-b3dbd59b0185",
   "metadata": {},
   "outputs": [],
   "source": [
    "all_filters = ['u','g','r','i','z','y']\n",
    "all_filtclr = ['darkviolet','darkgreen','red','darkorange','brown','black']\n",
    "\n",
    "fig, ax = plt.subplots( len(DiaObjs), figsize=(14,14), sharey=False, sharex=False )\n",
    "\n",
    "for j in range(len(DiaObjs)):\n",
    "    sel_diaObjectId = DiaObjs['diaObjectId'][j]\n",
    "    results = service.search(\"SELECT ra, decl, diaObjectId, diaSourceId, filterName, midPointTai, psFlux, psFluxErr \"\n",
    "                             \"FROM dp02_test_PREOPS863_00.DiaSource \"\n",
    "                             \"WHERE diaObjectId = \"+str(sel_diaObjectId))\n",
    "    results = results.to_table()\n",
    "    results['psAbMag'] = -2.50 * numpy.log10(results['psFlux']) + 31.4\n",
    "    \n",
    "    for f,filt in enumerate(all_filters):\n",
    "        fx = numpy.where( results['filterName'] == filt )[0]\n",
    "        ax[j].plot( results['midPointTai'][fx], results['psAbMag'][fx], 'o', ms=5, mew=0, alpha=0.8, color=all_filtclr[f] )\n",
    "    \n",
    "    ax[j].set_ylim([numpy.max(results['psAbMag'])+0.3, numpy.min(results['psAbMag'])-0.3])\n",
    "    \n",
    "    del results"
   ]
  },
  {
   "cell_type": "code",
   "execution_count": null,
   "id": "38c1e398-ca8e-42c1-b331-4362aa7c9570",
   "metadata": {},
   "outputs": [],
   "source": []
  }
 ],
 "metadata": {
  "kernelspec": {
   "display_name": "LSST",
   "language": "python",
   "name": "lsst"
  },
  "language_info": {
   "codemirror_mode": {
    "name": "ipython",
    "version": 3
   },
   "file_extension": ".py",
   "mimetype": "text/x-python",
   "name": "python",
   "nbconvert_exporter": "python",
   "pygments_lexer": "ipython3",
   "version": "3.8.8"
  },
  "toc-autonumbering": false
 },
 "nbformat": 4,
 "nbformat_minor": 5
}
