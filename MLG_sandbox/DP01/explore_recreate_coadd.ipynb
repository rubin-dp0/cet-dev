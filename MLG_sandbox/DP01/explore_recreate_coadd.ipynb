{
 "cells": [
  {
   "cell_type": "markdown",
   "id": "93c167df-dfc5-44f2-98fe-e6d3695f2d9c",
   "metadata": {},
   "source": [
    "# explore how to recreate a coadd\n",
    "\n",
    "trying to help with https://community.lsst.org/t/coadding-dp0-calexps-from-different-detectors-for-the-same-deepcoadd/6436\n",
    "\n",
    "## bunch of imports"
   ]
  },
  {
   "cell_type": "code",
   "execution_count": 1,
   "id": "f367d057-9de6-45a2-8b2f-84bd1226ccfe",
   "metadata": {},
   "outputs": [],
   "source": [
    "import numpy as np\n",
    "# import matplotlib\n",
    "# import matplotlib.pyplot as plt\n",
    "# import time\n",
    "import os\n",
    "\n",
    "import pandas\n",
    "pandas.set_option('display.max_rows', 1000)\n",
    "\n",
    "import lsst.daf.butler\n",
    "\n",
    "import lsst.geom\n",
    "# import lsst.afw.display as afwDisplay\n",
    "# afwDisplay.setDefaultBackend('matplotlib')\n",
    "\n",
    "# from astropy.wcs import WCS\n",
    "# from astropy import units as u\n",
    "# from astropy.coordinates import SkyCoord"
   ]
  },
  {
   "cell_type": "markdown",
   "id": "4e1aacce-250a-4eee-89e7-cbed6784a394",
   "metadata": {},
   "source": [
    "## butler set up"
   ]
  },
  {
   "cell_type": "code",
   "execution_count": 2,
   "id": "e5e38fc0-fb10-4df1-ad09-3a6950cdbd08",
   "metadata": {},
   "outputs": [
    {
     "data": {
      "text/html": [
       "<pre style=\"margin: 0.1em;\n",
       "padding-left: 0.25em;\n",
       "border-left-style: solid;\n",
       "font-family: var(--jp-code-font-family);\n",
       "font-size: var(--jp-code-font-size);\n",
       "line-height: var(--jp-code-line-height);\n",
       "\"><span style=\"color: var(--jp-warn-color2)\">botocore.credentials</span> <span style=\"color: var(--jp-info-color0)\">INFO</span>: Found credentials in shared credentials file: /home/melissagraham/.lsst/aws-credentials.ini</pre>"
      ],
      "text/plain": [
       "<IPython.core.display.HTML object>"
      ]
     },
     "metadata": {},
     "output_type": "display_data"
    }
   ],
   "source": [
    "repo = 's3://butler-us-central1-dp01'  \n",
    "collection='2.2i/runs/DP0.1'\n",
    "butler = lsst.daf.butler.Butler(repo, collections=collection)"
   ]
  },
  {
   "cell_type": "markdown",
   "id": "75144fb2-4278-4980-b309-08be63bd5102",
   "metadata": {},
   "source": [
    "## figure out _what_ you want to coadd\n",
    "\n",
    "just use a few visits at a certain sky location"
   ]
  },
  {
   "cell_type": "code",
   "execution_count": 3,
   "id": "41fbf36d-9aee-453e-8ce7-18508ca4dee1",
   "metadata": {},
   "outputs": [
    {
     "name": "stdout",
     "output_type": "stream",
     "text": [
      "55.064 -29.783\n"
     ]
    }
   ],
   "source": [
    "ra, dec = 55.064, -29.783\n",
    "print(ra, dec)"
   ]
  },
  {
   "cell_type": "code",
   "execution_count": 4,
   "id": "a65ec671-c8e8-4ca0-93f3-dff50ff6e51b",
   "metadata": {},
   "outputs": [
    {
     "name": "stdout",
     "output_type": "stream",
     "text": [
      "(55.0640000000, -29.7830000000)\n"
     ]
    }
   ],
   "source": [
    "radec = lsst.geom.SpherePoint(ra, dec, lsst.geom.degrees)\n",
    "print(radec)"
   ]
  },
  {
   "cell_type": "code",
   "execution_count": 5,
   "id": "33caf901-b12c-4086-9de2-eba3ad0901ec",
   "metadata": {},
   "outputs": [],
   "source": [
    "skymap = butler.get('skyMap')"
   ]
  },
  {
   "cell_type": "code",
   "execution_count": 6,
   "id": "7c8623f1-27ed-487e-b764-1bb09377d195",
   "metadata": {},
   "outputs": [
    {
     "name": "stdout",
     "output_type": "stream",
     "text": [
      "4638 43\n"
     ]
    }
   ],
   "source": [
    "tractInfo = skymap.findTract(radec)\n",
    "tract = tractInfo.getId()\n",
    "patchInfo = tractInfo.findPatch(radec)\n",
    "patch = tractInfo.getSequentialPatchIndex(patchInfo)\n",
    "print(tract,patch)"
   ]
  },
  {
   "cell_type": "code",
   "execution_count": 7,
   "id": "d21f3fa1-5e40-4ddc-ae61-465cd8426387",
   "metadata": {},
   "outputs": [],
   "source": [
    "dataId = {'band': 'i', 'tract': tract, 'patch': patch}\n",
    "deepCoadd_calexp = butler.get('deepCoadd_calexp', dataId=dataId)"
   ]
  },
  {
   "cell_type": "code",
   "execution_count": 8,
   "id": "1f38b149-271f-4aa4-a24b-f31013d86364",
   "metadata": {},
   "outputs": [],
   "source": [
    "coadd_inputs = butler.get(\"deepCoadd_calexp.coaddInputs\", dataId)\n",
    "coadd_inputs_ccds_table = coadd_inputs.ccds.asAstropy()\n",
    "\n",
    "use_detector = coadd_inputs_ccds_table['ccd'][0]\n",
    "use_visit = coadd_inputs_ccds_table['visit'][0]\n",
    "\n",
    "# calexp = butler.get('calexp', detector=use_detector, visit=use_visit)"
   ]
  },
  {
   "cell_type": "code",
   "execution_count": 9,
   "id": "fa761e2d-079f-48ba-8388-abb7f67c1d8a",
   "metadata": {},
   "outputs": [
    {
     "name": "stdout",
     "output_type": "stream",
     "text": [
      "The first five unique visits:  [174549 174602 204556 204559 204560]\n"
     ]
    }
   ],
   "source": [
    "all_visits = np.asarray(coadd_inputs_ccds_table['visit'], dtype='int')\n",
    "unique_visits = np.unique( np.sort( all_visits ) )\n",
    "\n",
    "indices = [0,1,2,3,4]\n",
    "print('The first five unique visits: ', unique_visits[indices])"
   ]
  },
  {
   "cell_type": "code",
   "execution_count": null,
   "id": "13c55146-5030-404c-9719-a521bf868e50",
   "metadata": {},
   "outputs": [],
   "source": []
  },
  {
   "cell_type": "markdown",
   "id": "01725e40-078e-4545-b23e-0fe4cdb30891",
   "metadata": {},
   "source": [
    "## Try using command line tasks\n",
    "\n",
    "Get help from\n",
    " * https://pipelines.lsst.io/getting-started/coaddition.html\n",
    " * https://hackmd.io/@lsk/merian#A-Useful-Commands\n",
    " * https://pipelines.lsst.io/middleware/faq.html"
   ]
  },
  {
   "cell_type": "code",
   "execution_count": 11,
   "id": "697b02d0-0116-4881-8a57-522b2d16ed36",
   "metadata": {},
   "outputs": [
    {
     "data": {
      "text/plain": [
       "0"
      ]
     },
     "execution_count": 11,
     "metadata": {},
     "output_type": "execute_result"
    }
   ],
   "source": [
    "os.system('setup lsst_distrib')"
   ]
  },
  {
   "cell_type": "code",
   "execution_count": 12,
   "id": "1e229838-7a7c-45ab-9544-1f24fb834fa3",
   "metadata": {},
   "outputs": [],
   "source": [
    "# os.system('ls ${PIPE_TASKS_DIR}')"
   ]
  },
  {
   "cell_type": "code",
   "execution_count": 13,
   "id": "899538ff-b889-4f39-a515-b244842898fc",
   "metadata": {},
   "outputs": [],
   "source": [
    "# ! ls ${PIPE_TASKS_DIR}"
   ]
  },
  {
   "cell_type": "code",
   "execution_count": 14,
   "id": "cf5a8bff-79ab-4acd-8d0f-e81d824e86c6",
   "metadata": {},
   "outputs": [
    {
     "data": {
      "text/plain": [
       "0"
      ]
     },
     "execution_count": 14,
     "metadata": {},
     "output_type": "execute_result"
    }
   ],
   "source": [
    "os.system('mkdir mywarps')"
   ]
  },
  {
   "cell_type": "code",
   "execution_count": 15,
   "id": "a5ee7d6b-e256-4430-a2df-0bc483842dfe",
   "metadata": {},
   "outputs": [],
   "source": [
    "### arguments that failed\n",
    "\n",
    "# -d \"tract = 4638 AND skymap = 'DC2' AND patch = 43 AND visit in (174549, 174602, 204556)\" \\\n",
    "# -d \"instrument='LSSTCam-imSim' AND band='i' AND tract = 4638 AND skymap = 'DC2' AND patch = 43\" \\\n",
    "# -d \"instrument='LSSTCam-imSim' AND skymap = 'DC2' AND visit in (174549, 174602, 204556)\" \\\n",
    "\n",
    "\n",
    "### arguments I changed how passed, seemed to have no effect\n",
    "# --instrument lsst.obs.lsst.LsstCamImSim  \\\n"
   ]
  },
  {
   "cell_type": "code",
   "execution_count": 16,
   "id": "84ac64df-9204-4d14-920f-6b909997f2ff",
   "metadata": {},
   "outputs": [
    {
     "name": "stdout",
     "output_type": "stream",
     "text": [
      "lsst.pipe.base.graphBuilder WARNING: No datasets of type visitSummary in collection '2.2i/runs/DP0.1/coadd/wfd/dr6/v1'.\n",
      "lsst.pipe.base.graphBuilder WARNING: No datasets of type visitSummary in collection '2.2i/runs/DP0.1/coadd/wfd/dr6/v1/u'.\n",
      "lsst.pipe.base.graphBuilder WARNING: No datasets of type visitSummary in collection '2.2i/runs/DP0.1/coadd/wfd/dr6/v1/grizy'.\n",
      "lsst.pipe.base.graphBuilder WARNING: No datasets of type visitSummary in collection '2.2i/runs/DP0.1/calexp/v1'.\n",
      "lsst.pipe.base.graphBuilder WARNING: No datasets of type visitSummary in collection '2.2i/raw/DP0'.\n",
      "lsst.pipe.base.graphBuilder WARNING: No datasets of type visitSummary in collection '2.2i/calib/PREOPS-301'.\n",
      "lsst.pipe.base.graphBuilder WARNING: No datasets of type visitSummary in collection '2.2i/calib/gen2'.\n",
      "lsst.pipe.base.graphBuilder WARNING: No datasets of type visitSummary in collection '2.2i/calib/PREOPS-301/unbounded'.\n",
      "lsst.pipe.base.graphBuilder WARNING: No datasets of type visitSummary in collection 'refcats/PREOPS-301'.\n",
      "lsst.pipe.base.graphBuilder WARNING: No datasets of type visitSummary in collection 'skymaps'.\n",
      "py.warnings WARNING: /opt/lsst/software/stack/stack/miniconda3-py38_4.9.2-3.0.0/Linux64/ctrl_mpexec/g768b03a34c+18099b7fc4/python/lsst/ctrl/mpexec/cli/script/qgraph.py:183: UserWarning: QuantumGraph is empty\n",
      "  qgraph = f.makeGraph(pipelineObj, args)\n",
      "\n",
      "lsst.daf.butler.cli.utils ERROR: Caught an exception, details are in traceback:\n",
      "Traceback (most recent call last):\n",
      "  File \"/opt/lsst/software/stack/stack/miniconda3-py38_4.9.2-3.0.0/Linux64/ctrl_mpexec/g768b03a34c+18099b7fc4/python/lsst/ctrl/mpexec/cli/cmd/commands.py\", line 126, in run\n",
      "    qgraph = script.qgraph(pipelineObj=pipeline, **kwargs)\n",
      "  File \"/opt/lsst/software/stack/stack/miniconda3-py38_4.9.2-3.0.0/Linux64/ctrl_mpexec/g768b03a34c+18099b7fc4/python/lsst/ctrl/mpexec/cli/script/qgraph.py\", line 186, in qgraph\n",
      "    raise RuntimeError(\"QuantumGraph is empty.\")\n",
      "RuntimeError: QuantumGraph is empty.\n"
     ]
    }
   ],
   "source": [
    "! pipetask run -b \"s3://butler-us-central1-dp01/butler.yaml\" \\\n",
    "               -i \"2.2i/runs/DP0.1\" \\\n",
    "               -d \"instrument='LSSTCam-imSim' AND skymap = 'DC2' AND tract = 4638 AND patch = 43\" \\\n",
    "               -p ${PIPE_TASKS_DIR}/pipelines/DRP.yaml#makeWarp \\\n",
    "               -o \"mywarps/\" \\\n",
    "               --register-dataset-types"
   ]
  },
  {
   "cell_type": "code",
   "execution_count": null,
   "id": "fcff3485-bfed-4786-b9aa-c8117e4c80fd",
   "metadata": {},
   "outputs": [],
   "source": [
    "# ! pipetask qgraph -h"
   ]
  },
  {
   "cell_type": "code",
   "execution_count": null,
   "id": "bb5daf43-6a86-45cb-bf16-9ac8361ed330",
   "metadata": {},
   "outputs": [],
   "source": [
    "# ! pipetask run -h"
   ]
  },
  {
   "cell_type": "code",
   "execution_count": null,
   "id": "9663385a-9a11-44a5-946a-bf2bc72e5788",
   "metadata": {},
   "outputs": [],
   "source": []
  },
  {
   "cell_type": "markdown",
   "id": "504ccc85-f2c3-4f02-8e1c-00e53318117b",
   "metadata": {},
   "source": [
    "## Try importing the packages and avoid using command-line tasks\n",
    "\n",
    "https://pipelines.lsst.io/modules/lsst.pipe.tasks/index.html#lsst-pipe-tasks-command-line-tasks\n",
    "\n",
    "Jeff managed to do this for image differencing in https://github.com/rubin-dp0/delegate-contributions-dp01/blob/u/jcarlin/diff_im/diff_im/diff_im_test.ipynb\n",
    "\n",
    "Yusra shows use of tasks and configs in https://github.com/LSSTScienceCollaborations/StackClubCourse/blob/master/Session02/IntroToDataProductsAndTasks.ipynb"
   ]
  },
  {
   "cell_type": "code",
   "execution_count": 10,
   "id": "09bdd1bf-a493-4022-82fa-f82101744e84",
   "metadata": {},
   "outputs": [],
   "source": [
    "from lsst.pipe.tasks.warpAndPsfMatch import WarpAndPsfMatchTask\n",
    "from lsst.pipe.tasks.assembleCoadd import AssembleCoaddTask"
   ]
  },
  {
   "cell_type": "code",
   "execution_count": 17,
   "id": "d985a204-d908-47b3-9d57-eb1bef51a0de",
   "metadata": {},
   "outputs": [],
   "source": [
    "config = WarpAndPsfMatchTask.ConfigClass"
   ]
  },
  {
   "cell_type": "code",
   "execution_count": null,
   "id": "724fce7e-f7e7-4d47-86c1-51e107746406",
   "metadata": {},
   "outputs": [],
   "source": []
  }
 ],
 "metadata": {
  "kernelspec": {
   "display_name": "LSST",
   "language": "python",
   "name": "lsst"
  },
  "language_info": {
   "codemirror_mode": {
    "name": "ipython",
    "version": 3
   },
   "file_extension": ".py",
   "mimetype": "text/x-python",
   "name": "python",
   "nbconvert_exporter": "python",
   "pygments_lexer": "ipython3",
   "version": "3.8.12"
  }
 },
 "nbformat": 4,
 "nbformat_minor": 5
}
